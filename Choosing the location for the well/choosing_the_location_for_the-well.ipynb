{
 "cells": [
  {
   "cell_type": "markdown",
   "metadata": {},
   "source": [
    "# Выбор локации для скважины"
   ]
  },
  {
   "cell_type": "markdown",
   "metadata": {},
   "source": [
    "Допустим, вы работаете в добывающей компании «ГлавРосГосНефть». Нужно решить, где бурить новую скважину.\n",
    "\n",
    "Вам предоставлены пробы нефти в трёх регионах: в каждом 10 000 месторождений, где измерили качество нефти и объём её запасов. Постройте модель машинного обучения, которая поможет определить регион, где добыча принесёт наибольшую прибыль. Проанализируйте возможную прибыль и риски техникой *Bootstrap.*\n",
    "\n",
    "Шаги для выбора локации:\n",
    "\n",
    "- В избранном регионе ищут месторождения, для каждого определяют значения признаков;\n",
    "- Строят модель и оценивают объём запасов;\n",
    "- Выбирают месторождения с самым высокими оценками значений. Количество месторождений зависит от бюджета компании и стоимости разработки одной скважины;\n",
    "- Прибыль равна суммарной прибыли отобранных месторождений.\n",
    "\n",
    "Предоставлены пробы нефти в трёх регионах. Характеристики для каждой скважины в регионе уже известны. Постройте модель для определения региона, где добыча принесёт наибольшую прибыль. Проанализировать возможную прибыль и риски техникой Bootstrap.\n",
    "\n",
    "Данные геологоразведки трёх регионов находятся в файлах: \n",
    "•\t/datasets/geo_data_0.csv. Скачать датасет\n",
    "•\t/datasets/geo_data_1.csv. Скачать датасет\n",
    "•\t/datasets/geo_data_2.csv. Скачать датасет\n",
    "•\tid — уникальный идентификатор скважины;\n",
    "•\tf0, f1, f2 — три признака точек (неважно, что они означают, но сами признаки значимы);\n",
    "•\tproduct — объём запасов в скважине (тыс. баррелей).\n",
    "\n",
    "Данные синтетические: детали контрактов и характеристики месторождений не разглашаются.\n",
    "\n",
    "План выполнения проекта:\n",
    "1.\tЗагрузите и подготовьте данные. Поясните порядок действий.\n",
    "2.\tОбучите и проверьте модель для каждого региона:\n",
    "- Разбейте данные на обучающую и валидационную выборки в соотношении 75:25.\n",
    "- Обучите модель и сделайте предсказания на валидационной выборке.\n",
    "- Сохраните предсказания и правильные ответы на валидационной выборке.\n",
    "- Напечатайте на экране средний запас предсказанного сырья и RMSE модели.\n",
    "- Проанализируйте результаты.\n",
    "3.\tПодготовьтесь к расчёту прибыли:\n",
    "- Все ключевые значения для расчётов сохраните в отдельных переменных.\n",
    "- Рассчитайте достаточный объём сырья для безубыточной разработки новой скважины. Сравните полученный объём сырья со средним запасом в каждом регионе. \n",
    "- Напишите выводы по этапу подготовки расчёта прибыли.\n",
    "4.\tНапишите функцию для расчёта прибыли по выбранным скважинам и предсказаниям модели:\n",
    "- Выберите скважины с максимальными значениями предсказаний. \n",
    "- Просуммируйте целевое значение объёма сырья, соответствующее этим предсказаниям.\n",
    "- Рассчитайте прибыль для полученного объёма сырья.\n",
    "5.\tПосчитайте риски и прибыль для каждого региона:\n",
    "- Примените технику Bootstrap с 1000 выборок, чтобы найти распределение прибыли.\n",
    "- Найдите среднюю прибыль, 95%-й доверительный интервал и риск убытков. Убыток — это отрицательная прибыль.\n",
    "- Напишите выводы: предложите регион для разработки скважин и обоснуйте выбор.\n"
   ]
  },
  {
   "cell_type": "markdown",
   "metadata": {},
   "source": [
    "## Загрузка и подготовка данных"
   ]
  },
  {
   "cell_type": "code",
   "execution_count": 1,
   "metadata": {},
   "outputs": [],
   "source": [
    "# импорт библиотек\n",
    "import pandas as pd\n",
    "import matplotlib.pyplot as plt\n",
    "import numpy as np\n",
    "import seaborn as sns\n",
    "from sklearn.model_selection import train_test_split\n",
    "from sklearn.linear_model import LinearRegression\n",
    "from sklearn import metrics\n",
    "from sklearn.metrics import mean_squared_error\n",
    "from sklearn.metrics import accuracy_score\n",
    "from scipy import stats as st"
   ]
  },
  {
   "cell_type": "code",
   "execution_count": 2,
   "metadata": {},
   "outputs": [],
   "source": [
    "try:\n",
    "    df_1 = pd.read_csv('/datasets/geo_data_0.csv')\n",
    "except:\n",
    "    df_1 = pd.read_csv('geo_data_0.csv')"
   ]
  },
  {
   "cell_type": "code",
   "execution_count": 3,
   "metadata": {},
   "outputs": [
    {
     "data": {
      "text/html": [
       "<div>\n",
       "<style scoped>\n",
       "    .dataframe tbody tr th:only-of-type {\n",
       "        vertical-align: middle;\n",
       "    }\n",
       "\n",
       "    .dataframe tbody tr th {\n",
       "        vertical-align: top;\n",
       "    }\n",
       "\n",
       "    .dataframe thead th {\n",
       "        text-align: right;\n",
       "    }\n",
       "</style>\n",
       "<table border=\"1\" class=\"dataframe\">\n",
       "  <thead>\n",
       "    <tr style=\"text-align: right;\">\n",
       "      <th></th>\n",
       "      <th>id</th>\n",
       "      <th>f0</th>\n",
       "      <th>f1</th>\n",
       "      <th>f2</th>\n",
       "      <th>product</th>\n",
       "    </tr>\n",
       "  </thead>\n",
       "  <tbody>\n",
       "    <tr>\n",
       "      <th>0</th>\n",
       "      <td>txEyH</td>\n",
       "      <td>0.705745</td>\n",
       "      <td>-0.497823</td>\n",
       "      <td>1.221170</td>\n",
       "      <td>105.280062</td>\n",
       "    </tr>\n",
       "    <tr>\n",
       "      <th>1</th>\n",
       "      <td>2acmU</td>\n",
       "      <td>1.334711</td>\n",
       "      <td>-0.340164</td>\n",
       "      <td>4.365080</td>\n",
       "      <td>73.037750</td>\n",
       "    </tr>\n",
       "    <tr>\n",
       "      <th>2</th>\n",
       "      <td>409Wp</td>\n",
       "      <td>1.022732</td>\n",
       "      <td>0.151990</td>\n",
       "      <td>1.419926</td>\n",
       "      <td>85.265647</td>\n",
       "    </tr>\n",
       "    <tr>\n",
       "      <th>3</th>\n",
       "      <td>iJLyR</td>\n",
       "      <td>-0.032172</td>\n",
       "      <td>0.139033</td>\n",
       "      <td>2.978566</td>\n",
       "      <td>168.620776</td>\n",
       "    </tr>\n",
       "    <tr>\n",
       "      <th>4</th>\n",
       "      <td>Xdl7t</td>\n",
       "      <td>1.988431</td>\n",
       "      <td>0.155413</td>\n",
       "      <td>4.751769</td>\n",
       "      <td>154.036647</td>\n",
       "    </tr>\n",
       "  </tbody>\n",
       "</table>\n",
       "</div>"
      ],
      "text/plain": [
       "      id        f0        f1        f2     product\n",
       "0  txEyH  0.705745 -0.497823  1.221170  105.280062\n",
       "1  2acmU  1.334711 -0.340164  4.365080   73.037750\n",
       "2  409Wp  1.022732  0.151990  1.419926   85.265647\n",
       "3  iJLyR -0.032172  0.139033  2.978566  168.620776\n",
       "4  Xdl7t  1.988431  0.155413  4.751769  154.036647"
      ]
     },
     "execution_count": 3,
     "metadata": {},
     "output_type": "execute_result"
    }
   ],
   "source": [
    "df_1.head()"
   ]
  },
  {
   "cell_type": "code",
   "execution_count": 4,
   "metadata": {},
   "outputs": [],
   "source": [
    "try:\n",
    "    df_2 = pd.read_csv('/datasets/geo_data_1.csv')\n",
    "except:\n",
    "    df_2 = pd.read_csv('geo_data_1.csv')"
   ]
  },
  {
   "cell_type": "code",
   "execution_count": 5,
   "metadata": {},
   "outputs": [
    {
     "data": {
      "text/html": [
       "<div>\n",
       "<style scoped>\n",
       "    .dataframe tbody tr th:only-of-type {\n",
       "        vertical-align: middle;\n",
       "    }\n",
       "\n",
       "    .dataframe tbody tr th {\n",
       "        vertical-align: top;\n",
       "    }\n",
       "\n",
       "    .dataframe thead th {\n",
       "        text-align: right;\n",
       "    }\n",
       "</style>\n",
       "<table border=\"1\" class=\"dataframe\">\n",
       "  <thead>\n",
       "    <tr style=\"text-align: right;\">\n",
       "      <th></th>\n",
       "      <th>id</th>\n",
       "      <th>f0</th>\n",
       "      <th>f1</th>\n",
       "      <th>f2</th>\n",
       "      <th>product</th>\n",
       "    </tr>\n",
       "  </thead>\n",
       "  <tbody>\n",
       "    <tr>\n",
       "      <th>0</th>\n",
       "      <td>kBEdx</td>\n",
       "      <td>-15.001348</td>\n",
       "      <td>-8.276000</td>\n",
       "      <td>-0.005876</td>\n",
       "      <td>3.179103</td>\n",
       "    </tr>\n",
       "    <tr>\n",
       "      <th>1</th>\n",
       "      <td>62mP7</td>\n",
       "      <td>14.272088</td>\n",
       "      <td>-3.475083</td>\n",
       "      <td>0.999183</td>\n",
       "      <td>26.953261</td>\n",
       "    </tr>\n",
       "    <tr>\n",
       "      <th>2</th>\n",
       "      <td>vyE1P</td>\n",
       "      <td>6.263187</td>\n",
       "      <td>-5.948386</td>\n",
       "      <td>5.001160</td>\n",
       "      <td>134.766305</td>\n",
       "    </tr>\n",
       "    <tr>\n",
       "      <th>3</th>\n",
       "      <td>KcrkZ</td>\n",
       "      <td>-13.081196</td>\n",
       "      <td>-11.506057</td>\n",
       "      <td>4.999415</td>\n",
       "      <td>137.945408</td>\n",
       "    </tr>\n",
       "    <tr>\n",
       "      <th>4</th>\n",
       "      <td>AHL4O</td>\n",
       "      <td>12.702195</td>\n",
       "      <td>-8.147433</td>\n",
       "      <td>5.004363</td>\n",
       "      <td>134.766305</td>\n",
       "    </tr>\n",
       "  </tbody>\n",
       "</table>\n",
       "</div>"
      ],
      "text/plain": [
       "      id         f0         f1        f2     product\n",
       "0  kBEdx -15.001348  -8.276000 -0.005876    3.179103\n",
       "1  62mP7  14.272088  -3.475083  0.999183   26.953261\n",
       "2  vyE1P   6.263187  -5.948386  5.001160  134.766305\n",
       "3  KcrkZ -13.081196 -11.506057  4.999415  137.945408\n",
       "4  AHL4O  12.702195  -8.147433  5.004363  134.766305"
      ]
     },
     "execution_count": 5,
     "metadata": {},
     "output_type": "execute_result"
    }
   ],
   "source": [
    "df_2.head()"
   ]
  },
  {
   "cell_type": "code",
   "execution_count": 6,
   "metadata": {},
   "outputs": [],
   "source": [
    "try:\n",
    "    df_3 = pd.read_csv('/datasets/geo_data_2.csv')\n",
    "except:\n",
    "    df_3 = pd.read_csv('geo_data_2.csv')"
   ]
  },
  {
   "cell_type": "code",
   "execution_count": 7,
   "metadata": {},
   "outputs": [
    {
     "data": {
      "text/html": [
       "<div>\n",
       "<style scoped>\n",
       "    .dataframe tbody tr th:only-of-type {\n",
       "        vertical-align: middle;\n",
       "    }\n",
       "\n",
       "    .dataframe tbody tr th {\n",
       "        vertical-align: top;\n",
       "    }\n",
       "\n",
       "    .dataframe thead th {\n",
       "        text-align: right;\n",
       "    }\n",
       "</style>\n",
       "<table border=\"1\" class=\"dataframe\">\n",
       "  <thead>\n",
       "    <tr style=\"text-align: right;\">\n",
       "      <th></th>\n",
       "      <th>id</th>\n",
       "      <th>f0</th>\n",
       "      <th>f1</th>\n",
       "      <th>f2</th>\n",
       "      <th>product</th>\n",
       "    </tr>\n",
       "  </thead>\n",
       "  <tbody>\n",
       "    <tr>\n",
       "      <th>0</th>\n",
       "      <td>fwXo0</td>\n",
       "      <td>-1.146987</td>\n",
       "      <td>0.963328</td>\n",
       "      <td>-0.828965</td>\n",
       "      <td>27.758673</td>\n",
       "    </tr>\n",
       "    <tr>\n",
       "      <th>1</th>\n",
       "      <td>WJtFt</td>\n",
       "      <td>0.262778</td>\n",
       "      <td>0.269839</td>\n",
       "      <td>-2.530187</td>\n",
       "      <td>56.069697</td>\n",
       "    </tr>\n",
       "    <tr>\n",
       "      <th>2</th>\n",
       "      <td>ovLUW</td>\n",
       "      <td>0.194587</td>\n",
       "      <td>0.289035</td>\n",
       "      <td>-5.586433</td>\n",
       "      <td>62.871910</td>\n",
       "    </tr>\n",
       "    <tr>\n",
       "      <th>3</th>\n",
       "      <td>q6cA6</td>\n",
       "      <td>2.236060</td>\n",
       "      <td>-0.553760</td>\n",
       "      <td>0.930038</td>\n",
       "      <td>114.572842</td>\n",
       "    </tr>\n",
       "    <tr>\n",
       "      <th>4</th>\n",
       "      <td>WPMUX</td>\n",
       "      <td>-0.515993</td>\n",
       "      <td>1.716266</td>\n",
       "      <td>5.899011</td>\n",
       "      <td>149.600746</td>\n",
       "    </tr>\n",
       "  </tbody>\n",
       "</table>\n",
       "</div>"
      ],
      "text/plain": [
       "      id        f0        f1        f2     product\n",
       "0  fwXo0 -1.146987  0.963328 -0.828965   27.758673\n",
       "1  WJtFt  0.262778  0.269839 -2.530187   56.069697\n",
       "2  ovLUW  0.194587  0.289035 -5.586433   62.871910\n",
       "3  q6cA6  2.236060 -0.553760  0.930038  114.572842\n",
       "4  WPMUX -0.515993  1.716266  5.899011  149.600746"
      ]
     },
     "execution_count": 7,
     "metadata": {},
     "output_type": "execute_result"
    }
   ],
   "source": [
    "df_3.head()"
   ]
  },
  {
   "cell_type": "code",
   "execution_count": 8,
   "metadata": {},
   "outputs": [
    {
     "name": "stdout",
     "output_type": "stream",
     "text": [
      "Размер (100000, 5)\n",
      "Размер (100000, 5)\n",
      "Размер (100000, 5)\n"
     ]
    }
   ],
   "source": [
    "# размер таблиц\n",
    "\n",
    "all_df = [df_1, df_2, df_3]\n",
    "for data in all_df:\n",
    "    print('Размер', data.shape)"
   ]
  },
  {
   "cell_type": "code",
   "execution_count": 9,
   "metadata": {},
   "outputs": [
    {
     "name": "stdout",
     "output_type": "stream",
     "text": [
      "Тип данных id          object\n",
      "f0         float64\n",
      "f1         float64\n",
      "f2         float64\n",
      "product    float64\n",
      "dtype: object\n",
      "Тип данных id          object\n",
      "f0         float64\n",
      "f1         float64\n",
      "f2         float64\n",
      "product    float64\n",
      "dtype: object\n",
      "Тип данных id          object\n",
      "f0         float64\n",
      "f1         float64\n",
      "f2         float64\n",
      "product    float64\n",
      "dtype: object\n"
     ]
    }
   ],
   "source": [
    "for data in all_df:\n",
    "    print('Тип данных', data.dtypes)"
   ]
  },
  {
   "cell_type": "markdown",
   "metadata": {},
   "source": [
    "В трех таблицах у нас все переменные количественные (за исключением столбца id)."
   ]
  },
  {
   "cell_type": "code",
   "execution_count": 10,
   "metadata": {},
   "outputs": [
    {
     "name": "stdout",
     "output_type": "stream",
     "text": [
      "<class 'pandas.core.frame.DataFrame'>\n",
      "RangeIndex: 100000 entries, 0 to 99999\n",
      "Data columns (total 5 columns):\n",
      " #   Column   Non-Null Count   Dtype  \n",
      "---  ------   --------------   -----  \n",
      " 0   id       100000 non-null  object \n",
      " 1   f0       100000 non-null  float64\n",
      " 2   f1       100000 non-null  float64\n",
      " 3   f2       100000 non-null  float64\n",
      " 4   product  100000 non-null  float64\n",
      "dtypes: float64(4), object(1)\n",
      "memory usage: 3.8+ MB\n",
      "Тип данных None\n",
      "<class 'pandas.core.frame.DataFrame'>\n",
      "RangeIndex: 100000 entries, 0 to 99999\n",
      "Data columns (total 5 columns):\n",
      " #   Column   Non-Null Count   Dtype  \n",
      "---  ------   --------------   -----  \n",
      " 0   id       100000 non-null  object \n",
      " 1   f0       100000 non-null  float64\n",
      " 2   f1       100000 non-null  float64\n",
      " 3   f2       100000 non-null  float64\n",
      " 4   product  100000 non-null  float64\n",
      "dtypes: float64(4), object(1)\n",
      "memory usage: 3.8+ MB\n",
      "Тип данных None\n",
      "<class 'pandas.core.frame.DataFrame'>\n",
      "RangeIndex: 100000 entries, 0 to 99999\n",
      "Data columns (total 5 columns):\n",
      " #   Column   Non-Null Count   Dtype  \n",
      "---  ------   --------------   -----  \n",
      " 0   id       100000 non-null  object \n",
      " 1   f0       100000 non-null  float64\n",
      " 2   f1       100000 non-null  float64\n",
      " 3   f2       100000 non-null  float64\n",
      " 4   product  100000 non-null  float64\n",
      "dtypes: float64(4), object(1)\n",
      "memory usage: 3.8+ MB\n",
      "Тип данных None\n"
     ]
    }
   ],
   "source": [
    "# общая информация по таблицам\n",
    "\n",
    "for data in all_df:\n",
    "    print('Тип данных', data.info())"
   ]
  },
  {
   "cell_type": "code",
   "execution_count": 11,
   "metadata": {},
   "outputs": [
    {
     "name": "stdout",
     "output_type": "stream",
     "text": [
      "Тип данных id         0\n",
      "f0         0\n",
      "f1         0\n",
      "f2         0\n",
      "product    0\n",
      "dtype: int64\n",
      "Тип данных id         0\n",
      "f0         0\n",
      "f1         0\n",
      "f2         0\n",
      "product    0\n",
      "dtype: int64\n",
      "Тип данных id         0\n",
      "f0         0\n",
      "f1         0\n",
      "f2         0\n",
      "product    0\n",
      "dtype: int64\n"
     ]
    }
   ],
   "source": [
    "# пропуски данных:\n",
    "\n",
    "for data in all_df:\n",
    "    print('Тип данных', data.isna().sum())"
   ]
  },
  {
   "cell_type": "markdown",
   "metadata": {},
   "source": [
    "В каждой из трех таблиц 100 000 строк (индексация с 0 до 99 999), 5 столбцов. Все столбцы, кроме id числовые. "
   ]
  },
  {
   "cell_type": "markdown",
   "metadata": {},
   "source": [
    "Пропуски отсутствуют во всех трех таблицах."
   ]
  },
  {
   "cell_type": "code",
   "execution_count": 12,
   "metadata": {},
   "outputs": [
    {
     "name": "stdout",
     "output_type": "stream",
     "text": [
      "Тип данных Index(['id', 'f0', 'f1', 'f2', 'product'], dtype='object')\n",
      "Тип данных Index(['id', 'f0', 'f1', 'f2', 'product'], dtype='object')\n",
      "Тип данных Index(['id', 'f0', 'f1', 'f2', 'product'], dtype='object')\n"
     ]
    }
   ],
   "source": [
    "# проверка наименований столбцов\n",
    "#df_1.columns\n",
    "#df_2.columns\n",
    "#df_3.columns\n",
    "for data in all_df:\n",
    "    print('Тип данных', data.columns)"
   ]
  },
  {
   "cell_type": "markdown",
   "metadata": {},
   "source": [
    "Названия столбцов корректные, лишних пробелов нет, регистр нижний."
   ]
  },
  {
   "cell_type": "code",
   "execution_count": 13,
   "metadata": {},
   "outputs": [
    {
     "name": "stdout",
     "output_type": "stream",
     "text": [
      "Проверка дубликатов df_1 0\n",
      "Проверка дубликатов df_2 0\n",
      "Проверка дубликатов df_3 0\n"
     ]
    }
   ],
   "source": [
    "# Проверка наличия явных дубликатов в каждой из таблиц\n",
    "print('Проверка дубликатов df_1', df_1.duplicated().sum())\n",
    "print('Проверка дубликатов df_2', df_2.duplicated().sum())\n",
    "print('Проверка дубликатов df_3', df_3.duplicated().sum())"
   ]
  },
  {
   "cell_type": "markdown",
   "metadata": {},
   "source": [
    "Явные дубликаты отсутствуют."
   ]
  },
  {
   "cell_type": "code",
   "execution_count": 14,
   "metadata": {},
   "outputs": [
    {
     "name": "stdout",
     "output_type": "stream",
     "text": [
      "Количество уникальных значений столбца id: 99990\n",
      "Количество неявных дубликатов в столбце \"id\": 10\n",
      "HZww2    2\n",
      "bsk9y    2\n",
      "fiKDv    2\n",
      "AGS9W    2\n",
      "A5aEY    2\n",
      "Name: id, dtype: int64\n",
      "\n",
      "Количество уникальных значений столбца id: 99996\n",
      "Количество неявных дубликатов в столбце \"id\": 4\n",
      "LHZR0    2\n",
      "5ltQ6    2\n",
      "bfPNe    2\n",
      "wt4Uk    2\n",
      "o0EUw    1\n",
      "Name: id, dtype: int64\n",
      "\n",
      "Количество уникальных значений столбца id: 99996\n",
      "Количество неявных дубликатов в столбце \"id\": 4\n",
      "KUPhW    2\n",
      "xCHr8    2\n",
      "Vcm5J    2\n",
      "VF7Jo    2\n",
      "J53n4    1\n",
      "Name: id, dtype: int64\n",
      "\n"
     ]
    }
   ],
   "source": [
    "# проверка наличия неявных дубликатов в столбце id без корректировки id (без применения методов строк)\n",
    "#df_1\n",
    "#df_2\n",
    "#df_3\n",
    "\n",
    "for df in all_df:\n",
    "    print('Количество уникальных значений столбца id:', len(df['id'].unique()))\n",
    "    print('Количество неявных дубликатов в столбце \"id\":', df['id'].duplicated().sum())\n",
    "    print(df['id'].value_counts().head())\n",
    "    print()"
   ]
  },
  {
   "cell_type": "code",
   "execution_count": 15,
   "metadata": {},
   "outputs": [
    {
     "name": "stdout",
     "output_type": "stream",
     "text": [
      "Количество уникальных значений столбца id: 99887\n",
      "Количество неявных дубликатов в столбце \"id\": 113\n",
      "pixsi    2\n",
      "jqqnk    2\n",
      "rmsho    2\n",
      "bkzro    2\n",
      "xudjb    2\n",
      "Name: id, dtype: int64\n",
      "\n",
      "Количество уникальных значений столбца id: 99887\n",
      "Количество неявных дубликатов в столбце \"id\": 113\n",
      "jkqh5    2\n",
      "qkgtx    2\n",
      "ioxco    2\n",
      "dszdc    2\n",
      "bfpne    2\n",
      "Name: id, dtype: int64\n",
      "\n",
      "Количество уникальных значений столбца id: 99901\n",
      "Количество неявных дубликатов в столбце \"id\": 99\n",
      "fqhcv    2\n",
      "rfovm    2\n",
      "w3irn    2\n",
      "mvpex    2\n",
      "xzcmv    2\n",
      "Name: id, dtype: int64\n",
      "\n"
     ]
    }
   ],
   "source": [
    "# проверка наличия неявных дубликатов в id\n",
    "# применение метода строк (приведение к нижнему регистру и удаление пробелов в начале и конце строки)\n",
    "#df_1\n",
    "#df_2\n",
    "#df_3\n",
    "\n",
    "for df in all_df:\n",
    "    df['id'] = df['id'].str.lower()\n",
    "    df['id'] = df['id'].str.strip()\n",
    "    print('Количество уникальных значений столбца id:', len(df['id'].unique()))\n",
    "    print('Количество неявных дубликатов в столбце \"id\":', df['id'].duplicated().sum())\n",
    "    print(df['id'].value_counts().head())\n",
    "    print()\n",
    "    "
   ]
  },
  {
   "cell_type": "code",
   "execution_count": 16,
   "metadata": {},
   "outputs": [
    {
     "data": {
      "text/html": [
       "<div>\n",
       "<style scoped>\n",
       "    .dataframe tbody tr th:only-of-type {\n",
       "        vertical-align: middle;\n",
       "    }\n",
       "\n",
       "    .dataframe tbody tr th {\n",
       "        vertical-align: top;\n",
       "    }\n",
       "\n",
       "    .dataframe thead th {\n",
       "        text-align: right;\n",
       "    }\n",
       "</style>\n",
       "<table border=\"1\" class=\"dataframe\">\n",
       "  <thead>\n",
       "    <tr style=\"text-align: right;\">\n",
       "      <th></th>\n",
       "      <th>id</th>\n",
       "      <th>f0</th>\n",
       "      <th>f1</th>\n",
       "      <th>f2</th>\n",
       "      <th>product</th>\n",
       "    </tr>\n",
       "  </thead>\n",
       "  <tbody>\n",
       "    <tr>\n",
       "      <th>13565</th>\n",
       "      <td>1sqvs</td>\n",
       "      <td>0.667155</td>\n",
       "      <td>-0.369779</td>\n",
       "      <td>3.090661</td>\n",
       "      <td>91.832501</td>\n",
       "    </tr>\n",
       "    <tr>\n",
       "      <th>24119</th>\n",
       "      <td>1sqvs</td>\n",
       "      <td>-0.004076</td>\n",
       "      <td>0.247957</td>\n",
       "      <td>3.492057</td>\n",
       "      <td>182.740215</td>\n",
       "    </tr>\n",
       "    <tr>\n",
       "      <th>66673</th>\n",
       "      <td>2phtu</td>\n",
       "      <td>0.138155</td>\n",
       "      <td>0.918442</td>\n",
       "      <td>6.937824</td>\n",
       "      <td>117.822922</td>\n",
       "    </tr>\n",
       "    <tr>\n",
       "      <th>19994</th>\n",
       "      <td>2phtu</td>\n",
       "      <td>1.191172</td>\n",
       "      <td>-0.512402</td>\n",
       "      <td>2.284509</td>\n",
       "      <td>116.839531</td>\n",
       "    </tr>\n",
       "    <tr>\n",
       "      <th>34994</th>\n",
       "      <td>2qwma</td>\n",
       "      <td>0.212557</td>\n",
       "      <td>0.066123</td>\n",
       "      <td>-0.953608</td>\n",
       "      <td>99.615392</td>\n",
       "    </tr>\n",
       "    <tr>\n",
       "      <th>...</th>\n",
       "      <td>...</td>\n",
       "      <td>...</td>\n",
       "      <td>...</td>\n",
       "      <td>...</td>\n",
       "      <td>...</td>\n",
       "    </tr>\n",
       "    <tr>\n",
       "      <th>82920</th>\n",
       "      <td>zfbah</td>\n",
       "      <td>0.740564</td>\n",
       "      <td>0.735486</td>\n",
       "      <td>2.527043</td>\n",
       "      <td>122.725894</td>\n",
       "    </tr>\n",
       "    <tr>\n",
       "      <th>24832</th>\n",
       "      <td>zogg5</td>\n",
       "      <td>0.903400</td>\n",
       "      <td>0.280381</td>\n",
       "      <td>7.785311</td>\n",
       "      <td>147.175587</td>\n",
       "    </tr>\n",
       "    <tr>\n",
       "      <th>42728</th>\n",
       "      <td>zogg5</td>\n",
       "      <td>-0.737814</td>\n",
       "      <td>0.816968</td>\n",
       "      <td>1.294454</td>\n",
       "      <td>111.627193</td>\n",
       "    </tr>\n",
       "    <tr>\n",
       "      <th>39213</th>\n",
       "      <td>zvksv</td>\n",
       "      <td>0.860384</td>\n",
       "      <td>-0.499165</td>\n",
       "      <td>5.217343</td>\n",
       "      <td>120.102105</td>\n",
       "    </tr>\n",
       "    <tr>\n",
       "      <th>47195</th>\n",
       "      <td>zvksv</td>\n",
       "      <td>0.327224</td>\n",
       "      <td>-0.133542</td>\n",
       "      <td>3.705580</td>\n",
       "      <td>75.071096</td>\n",
       "    </tr>\n",
       "  </tbody>\n",
       "</table>\n",
       "<p>226 rows × 5 columns</p>\n",
       "</div>"
      ],
      "text/plain": [
       "          id        f0        f1        f2     product\n",
       "13565  1sqvs  0.667155 -0.369779  3.090661   91.832501\n",
       "24119  1sqvs -0.004076  0.247957  3.492057  182.740215\n",
       "66673  2phtu  0.138155  0.918442  6.937824  117.822922\n",
       "19994  2phtu  1.191172 -0.512402  2.284509  116.839531\n",
       "34994  2qwma  0.212557  0.066123 -0.953608   99.615392\n",
       "...      ...       ...       ...       ...         ...\n",
       "82920  zfbah  0.740564  0.735486  2.527043  122.725894\n",
       "24832  zogg5  0.903400  0.280381  7.785311  147.175587\n",
       "42728  zogg5 -0.737814  0.816968  1.294454  111.627193\n",
       "39213  zvksv  0.860384 -0.499165  5.217343  120.102105\n",
       "47195  zvksv  0.327224 -0.133542  3.705580   75.071096\n",
       "\n",
       "[226 rows x 5 columns]"
      ]
     },
     "execution_count": 16,
     "metadata": {},
     "output_type": "execute_result"
    }
   ],
   "source": [
    "# дублирование с столбце id таблицы df_1\n",
    "dubl_1 = df_1['id']\n",
    "df_1[dubl_1.isin(dubl_1[dubl_1.duplicated()])].sort_values('id')"
   ]
  },
  {
   "cell_type": "code",
   "execution_count": 17,
   "metadata": {},
   "outputs": [
    {
     "data": {
      "text/html": [
       "<div>\n",
       "<style scoped>\n",
       "    .dataframe tbody tr th:only-of-type {\n",
       "        vertical-align: middle;\n",
       "    }\n",
       "\n",
       "    .dataframe tbody tr th {\n",
       "        vertical-align: top;\n",
       "    }\n",
       "\n",
       "    .dataframe thead th {\n",
       "        text-align: right;\n",
       "    }\n",
       "</style>\n",
       "<table border=\"1\" class=\"dataframe\">\n",
       "  <thead>\n",
       "    <tr style=\"text-align: right;\">\n",
       "      <th></th>\n",
       "      <th>id</th>\n",
       "      <th>f0</th>\n",
       "      <th>f1</th>\n",
       "      <th>f2</th>\n",
       "      <th>product</th>\n",
       "    </tr>\n",
       "  </thead>\n",
       "  <tbody>\n",
       "    <tr>\n",
       "      <th>90286</th>\n",
       "      <td>02juy</td>\n",
       "      <td>-7.470202</td>\n",
       "      <td>-11.130912</td>\n",
       "      <td>5.001146</td>\n",
       "      <td>137.945408</td>\n",
       "    </tr>\n",
       "    <tr>\n",
       "      <th>7111</th>\n",
       "      <td>02juy</td>\n",
       "      <td>9.730261</td>\n",
       "      <td>1.272253</td>\n",
       "      <td>2.002609</td>\n",
       "      <td>53.906522</td>\n",
       "    </tr>\n",
       "    <tr>\n",
       "      <th>28740</th>\n",
       "      <td>0vyhp</td>\n",
       "      <td>-13.359057</td>\n",
       "      <td>-4.994226</td>\n",
       "      <td>0.999059</td>\n",
       "      <td>30.132364</td>\n",
       "    </tr>\n",
       "    <tr>\n",
       "      <th>72602</th>\n",
       "      <td>0vyhp</td>\n",
       "      <td>-9.540485</td>\n",
       "      <td>6.590890</td>\n",
       "      <td>3.000125</td>\n",
       "      <td>84.038886</td>\n",
       "    </tr>\n",
       "    <tr>\n",
       "      <th>13576</th>\n",
       "      <td>2lern</td>\n",
       "      <td>6.964761</td>\n",
       "      <td>-7.282841</td>\n",
       "      <td>4.000355</td>\n",
       "      <td>107.813044</td>\n",
       "    </tr>\n",
       "    <tr>\n",
       "      <th>...</th>\n",
       "      <td>...</td>\n",
       "      <td>...</td>\n",
       "      <td>...</td>\n",
       "      <td>...</td>\n",
       "      <td>...</td>\n",
       "    </tr>\n",
       "    <tr>\n",
       "      <th>68728</th>\n",
       "      <td>zwwwh</td>\n",
       "      <td>-6.819271</td>\n",
       "      <td>-9.023742</td>\n",
       "      <td>0.005720</td>\n",
       "      <td>3.179103</td>\n",
       "    </tr>\n",
       "    <tr>\n",
       "      <th>60799</th>\n",
       "      <td>zyegi</td>\n",
       "      <td>11.631400</td>\n",
       "      <td>1.442540</td>\n",
       "      <td>5.001731</td>\n",
       "      <td>134.766305</td>\n",
       "    </tr>\n",
       "    <tr>\n",
       "      <th>73488</th>\n",
       "      <td>zyegi</td>\n",
       "      <td>-2.519756</td>\n",
       "      <td>-3.339500</td>\n",
       "      <td>3.004422</td>\n",
       "      <td>84.038886</td>\n",
       "    </tr>\n",
       "    <tr>\n",
       "      <th>14821</th>\n",
       "      <td>zyvuy</td>\n",
       "      <td>6.262422</td>\n",
       "      <td>-7.906983</td>\n",
       "      <td>-0.004427</td>\n",
       "      <td>0.000000</td>\n",
       "    </tr>\n",
       "    <tr>\n",
       "      <th>14383</th>\n",
       "      <td>zyvuy</td>\n",
       "      <td>5.354564</td>\n",
       "      <td>-10.291684</td>\n",
       "      <td>0.996840</td>\n",
       "      <td>26.953261</td>\n",
       "    </tr>\n",
       "  </tbody>\n",
       "</table>\n",
       "<p>226 rows × 5 columns</p>\n",
       "</div>"
      ],
      "text/plain": [
       "          id         f0         f1        f2     product\n",
       "90286  02juy  -7.470202 -11.130912  5.001146  137.945408\n",
       "7111   02juy   9.730261   1.272253  2.002609   53.906522\n",
       "28740  0vyhp -13.359057  -4.994226  0.999059   30.132364\n",
       "72602  0vyhp  -9.540485   6.590890  3.000125   84.038886\n",
       "13576  2lern   6.964761  -7.282841  4.000355  107.813044\n",
       "...      ...        ...        ...       ...         ...\n",
       "68728  zwwwh  -6.819271  -9.023742  0.005720    3.179103\n",
       "60799  zyegi  11.631400   1.442540  5.001731  134.766305\n",
       "73488  zyegi  -2.519756  -3.339500  3.004422   84.038886\n",
       "14821  zyvuy   6.262422  -7.906983 -0.004427    0.000000\n",
       "14383  zyvuy   5.354564 -10.291684  0.996840   26.953261\n",
       "\n",
       "[226 rows x 5 columns]"
      ]
     },
     "execution_count": 17,
     "metadata": {},
     "output_type": "execute_result"
    }
   ],
   "source": [
    "# дублирование с столбце id таблицы df_2\n",
    "dubl_2 = df_2['id']\n",
    "df_2[dubl_2.isin(dubl_2[dubl_2.duplicated()])].sort_values('id')"
   ]
  },
  {
   "cell_type": "code",
   "execution_count": 18,
   "metadata": {},
   "outputs": [
    {
     "data": {
      "text/html": [
       "<div>\n",
       "<style scoped>\n",
       "    .dataframe tbody tr th:only-of-type {\n",
       "        vertical-align: middle;\n",
       "    }\n",
       "\n",
       "    .dataframe tbody tr th {\n",
       "        vertical-align: top;\n",
       "    }\n",
       "\n",
       "    .dataframe thead th {\n",
       "        text-align: right;\n",
       "    }\n",
       "</style>\n",
       "<table border=\"1\" class=\"dataframe\">\n",
       "  <thead>\n",
       "    <tr style=\"text-align: right;\">\n",
       "      <th></th>\n",
       "      <th>id</th>\n",
       "      <th>f0</th>\n",
       "      <th>f1</th>\n",
       "      <th>f2</th>\n",
       "      <th>product</th>\n",
       "    </tr>\n",
       "  </thead>\n",
       "  <tbody>\n",
       "    <tr>\n",
       "      <th>87893</th>\n",
       "      <td>0jrjy</td>\n",
       "      <td>3.795287</td>\n",
       "      <td>-1.028641</td>\n",
       "      <td>6.460283</td>\n",
       "      <td>148.625147</td>\n",
       "    </tr>\n",
       "    <tr>\n",
       "      <th>92343</th>\n",
       "      <td>0jrjy</td>\n",
       "      <td>0.163728</td>\n",
       "      <td>2.003687</td>\n",
       "      <td>1.550877</td>\n",
       "      <td>53.388635</td>\n",
       "    </tr>\n",
       "    <tr>\n",
       "      <th>37800</th>\n",
       "      <td>0kkig</td>\n",
       "      <td>1.223558</td>\n",
       "      <td>-0.275630</td>\n",
       "      <td>7.035492</td>\n",
       "      <td>150.332182</td>\n",
       "    </tr>\n",
       "    <tr>\n",
       "      <th>78886</th>\n",
       "      <td>0kkig</td>\n",
       "      <td>-0.857585</td>\n",
       "      <td>-1.969698</td>\n",
       "      <td>1.229993</td>\n",
       "      <td>163.262973</td>\n",
       "    </tr>\n",
       "    <tr>\n",
       "      <th>27871</th>\n",
       "      <td>0tyyi</td>\n",
       "      <td>-1.175388</td>\n",
       "      <td>-2.154337</td>\n",
       "      <td>-1.084661</td>\n",
       "      <td>30.152253</td>\n",
       "    </tr>\n",
       "    <tr>\n",
       "      <th>...</th>\n",
       "      <td>...</td>\n",
       "      <td>...</td>\n",
       "      <td>...</td>\n",
       "      <td>...</td>\n",
       "      <td>...</td>\n",
       "    </tr>\n",
       "    <tr>\n",
       "      <th>66349</th>\n",
       "      <td>znlds</td>\n",
       "      <td>1.963687</td>\n",
       "      <td>-0.779411</td>\n",
       "      <td>2.386001</td>\n",
       "      <td>29.538412</td>\n",
       "    </tr>\n",
       "    <tr>\n",
       "      <th>43576</th>\n",
       "      <td>zrngv</td>\n",
       "      <td>1.788106</td>\n",
       "      <td>-0.480662</td>\n",
       "      <td>7.393034</td>\n",
       "      <td>105.484341</td>\n",
       "    </tr>\n",
       "    <tr>\n",
       "      <th>19363</th>\n",
       "      <td>zrngv</td>\n",
       "      <td>0.395785</td>\n",
       "      <td>0.998022</td>\n",
       "      <td>0.827759</td>\n",
       "      <td>38.965521</td>\n",
       "    </tr>\n",
       "    <tr>\n",
       "      <th>38113</th>\n",
       "      <td>zvith</td>\n",
       "      <td>-0.249816</td>\n",
       "      <td>1.172505</td>\n",
       "      <td>3.430165</td>\n",
       "      <td>60.741729</td>\n",
       "    </tr>\n",
       "    <tr>\n",
       "      <th>94045</th>\n",
       "      <td>zvith</td>\n",
       "      <td>-0.578682</td>\n",
       "      <td>0.947596</td>\n",
       "      <td>0.804494</td>\n",
       "      <td>36.562319</td>\n",
       "    </tr>\n",
       "  </tbody>\n",
       "</table>\n",
       "<p>198 rows × 5 columns</p>\n",
       "</div>"
      ],
      "text/plain": [
       "          id        f0        f1        f2     product\n",
       "87893  0jrjy  3.795287 -1.028641  6.460283  148.625147\n",
       "92343  0jrjy  0.163728  2.003687  1.550877   53.388635\n",
       "37800  0kkig  1.223558 -0.275630  7.035492  150.332182\n",
       "78886  0kkig -0.857585 -1.969698  1.229993  163.262973\n",
       "27871  0tyyi -1.175388 -2.154337 -1.084661   30.152253\n",
       "...      ...       ...       ...       ...         ...\n",
       "66349  znlds  1.963687 -0.779411  2.386001   29.538412\n",
       "43576  zrngv  1.788106 -0.480662  7.393034  105.484341\n",
       "19363  zrngv  0.395785  0.998022  0.827759   38.965521\n",
       "38113  zvith -0.249816  1.172505  3.430165   60.741729\n",
       "94045  zvith -0.578682  0.947596  0.804494   36.562319\n",
       "\n",
       "[198 rows x 5 columns]"
      ]
     },
     "execution_count": 18,
     "metadata": {},
     "output_type": "execute_result"
    }
   ],
   "source": [
    "# дублирование с столбце id таблицы df_3\n",
    "dubl_3 = df_3['id']\n",
    "df_3[dubl_3.isin(dubl_3[dubl_3.duplicated()])].sort_values('id')"
   ]
  },
  {
   "cell_type": "markdown",
   "metadata": {},
   "source": [
    "В датасете обнаружены неявные дубликаты. Дублируются названия скважин, а все признаки различаются. Так как нет возможности вяснить, какие данные реальны, и таких строк в общем объеме мало (df_1 - 113 скважин, df_2 - 113 скважины, df_3 - 98 скважины) - удалим строки с неявными дубликатами."
   ]
  },
  {
   "cell_type": "code",
   "execution_count": 19,
   "metadata": {},
   "outputs": [
    {
     "name": "stdout",
     "output_type": "stream",
     "text": [
      "Количество уникальных значений столбца id таблицы df_1: 99774\n",
      "Количество неявных дубликатов в столбце \"id\" таблицы df_1: 0\n",
      "bzk02    1\n",
      "suoag    1\n",
      "npwwg    1\n",
      "xaf6e    1\n",
      "2zdx3    1\n",
      "Name: id, dtype: int64\n",
      "\n",
      "Количество уникальных значений столбца id таблицы df_2: 99774\n",
      "Количество неявных дубликатов в столбце \"id\" таблицы df_2: 0\n",
      "nljjy    1\n",
      "zlxxb    1\n",
      "jt0ui    1\n",
      "1caq6    1\n",
      "lb1ev    1\n",
      "Name: id, dtype: int64\n",
      "\n",
      "Количество уникальных значений столбца id таблицы df_3: 99802\n",
      "Количество неявных дубликатов в столбце \"id\" таблицы df_3: 0\n",
      "3cez9    1\n",
      "ystng    1\n",
      "sxyym    1\n",
      "pxtwa    1\n",
      "8v8im    1\n",
      "Name: id, dtype: int64\n",
      "\n"
     ]
    }
   ],
   "source": [
    "# удадяем строки с неявными дубликатами в df_1, df_2, df_3\n",
    "\n",
    "df_1 = df_1.drop_duplicates(subset=['id'], keep=False)\n",
    "print('Количество уникальных значений столбца id таблицы df_1:', len(df_1['id'].unique()))\n",
    "print('Количество неявных дубликатов в столбце \"id\" таблицы df_1:', df_1['id'].duplicated().sum())\n",
    "print(df_1['id'].value_counts().head())\n",
    "print()\n",
    "df_2 = df_2.drop_duplicates(subset=['id'], keep=False)\n",
    "print('Количество уникальных значений столбца id таблицы df_2:', len(df_2['id'].unique()))\n",
    "print('Количество неявных дубликатов в столбце \"id\" таблицы df_2:', df_2['id'].duplicated().sum())\n",
    "print(df_2['id'].value_counts().head())\n",
    "print()\n",
    "df_3 = df_3.drop_duplicates(subset=['id'], keep=False)\n",
    "print('Количество уникальных значений столбца id таблицы df_3:', len(df_3['id'].unique()))\n",
    "print('Количество неявных дубликатов в столбце \"id\" таблицы df_3:', df_3['id'].duplicated().sum())\n",
    "print(df_3['id'].value_counts().head())\n",
    "print()"
   ]
  },
  {
   "cell_type": "code",
   "execution_count": 20,
   "metadata": {},
   "outputs": [
    {
     "name": "stdout",
     "output_type": "stream",
     "text": [
      "Размер (99774, 5)\n",
      "Размер (99774, 5)\n",
      "Размер (99802, 5)\n"
     ]
    }
   ],
   "source": [
    "# размер таблиц\n",
    "all_df = [df_1, df_2, df_3]\n",
    "for data in all_df:\n",
    "    print('Размер', data.shape)"
   ]
  },
  {
   "cell_type": "markdown",
   "metadata": {},
   "source": [
    "### Описание 1-го региона df_0"
   ]
  },
  {
   "cell_type": "code",
   "execution_count": 21,
   "metadata": {},
   "outputs": [
    {
     "name": "stdout",
     "output_type": "stream",
     "text": [
      "Описательная статистика для df_1\n",
      "                 f0            f1            f2       product\n",
      "count  99774.000000  99774.000000  99774.000000  99774.000000\n",
      "mean       0.500558      0.250084      2.502705     92.498563\n",
      "std        0.871944      0.504424      3.248072     44.291747\n",
      "min       -1.408605     -0.848218    -12.088328      0.000000\n",
      "25%       -0.072712     -0.200922      0.288084     56.486212\n",
      "50%        0.502454      0.250085      2.515416     91.847928\n",
      "75%        1.073942      0.700571      4.715313    128.568240\n",
      "max        2.362331      1.343769     16.003790    185.364347\n",
      "\n",
      "Показатели корреляции df_1\n",
      "               f0        f1        f2   product\n",
      "f0       1.000000 -0.440760 -0.003256  0.143508\n",
      "f1      -0.440760  1.000000  0.001930 -0.192217\n",
      "f2      -0.003256  0.001930  1.000000  0.483626\n",
      "product  0.143508 -0.192217  0.483626  1.000000\n"
     ]
    }
   ],
   "source": [
    "# описательная статистика и корреляция для df_1\n",
    "\n",
    "print('Описательная статистика для df_1')\n",
    "print(df_1.describe())\n",
    "print()\n",
    "print('Показатели корреляции df_1')\n",
    "print(df_1.corr())"
   ]
  },
  {
   "cell_type": "code",
   "execution_count": 22,
   "metadata": {},
   "outputs": [
    {
     "data": {
      "image/png": "[encoded data removed]",
      "text/plain": [
       "<Figure size 432x288 with 4 Axes>"
      ]
     },
     "metadata": {
      "needs_background": "light"
     },
     "output_type": "display_data"
    }
   ],
   "source": [
    "df_1[['f0', 'f1', 'f2', 'product']].hist()\n",
    "plt.show()"
   ]
  },
  {
   "cell_type": "markdown",
   "metadata": {},
   "source": [
    "### Описание 2-го региона df_2"
   ]
  },
  {
   "cell_type": "code",
   "execution_count": 23,
   "metadata": {},
   "outputs": [
    {
     "name": "stdout",
     "output_type": "stream",
     "text": [
      "Описательная статистика для df_2\n",
      "                 f0            f1            f2       product\n",
      "count  99774.000000  99774.000000  99774.000000  99774.000000\n",
      "mean       1.141694     -4.797206      2.495020     68.837711\n",
      "std        8.966110      5.120475      1.703707     45.948340\n",
      "min      -31.609576    -26.358598     -0.018144      0.000000\n",
      "25%       -6.297770     -8.267926      1.000027     26.953261\n",
      "50%        1.153055     -4.813373      2.011586     57.085625\n",
      "75%        8.621963     -1.333547      3.999910    107.813044\n",
      "max       29.421755     18.734063      5.019721    137.945408\n",
      "\n",
      "Показатели корреляции df_2\n",
      "               f0        f1        f2   product\n",
      "f0       1.000000  0.182168 -0.002010 -0.030719\n",
      "f1       0.182168  1.000000 -0.002682 -0.010242\n",
      "f2      -0.002010 -0.002682  1.000000  0.999397\n",
      "product -0.030719 -0.010242  0.999397  1.000000\n"
     ]
    }
   ],
   "source": [
    "# описательная статистика и корреляция для df_2\n",
    "\n",
    "print('Описательная статистика для df_2')\n",
    "print(df_2.describe())\n",
    "print()\n",
    "print('Показатели корреляции df_2')\n",
    "print(df_2.corr())"
   ]
  },
  {
   "cell_type": "code",
   "execution_count": 24,
   "metadata": {},
   "outputs": [
    {
     "data": {
      "image/png": "[encoded data removed]",
      "text/plain": [
       "<Figure size 432x288 with 4 Axes>"
      ]
     },
     "metadata": {
      "needs_background": "light"
     },
     "output_type": "display_data"
    }
   ],
   "source": [
    "df_2[['f0', 'f1', 'f2', 'product']].hist()\n",
    "plt.show()"
   ]
  },
  {
   "cell_type": "markdown",
   "metadata": {},
   "source": [
    "### Описание 3-го региона df_3"
   ]
  },
  {
   "cell_type": "code",
   "execution_count": 25,
   "metadata": {},
   "outputs": [
    {
     "name": "stdout",
     "output_type": "stream",
     "text": [
      "Описательная статистика для df_3\n",
      "                 f0            f1            f2       product\n",
      "count  99802.000000  99802.000000  99802.000000  99802.000000\n",
      "mean       0.001927     -0.001923      2.494801     95.010857\n",
      "std        1.732346      1.730273      3.472707     44.741875\n",
      "min       -8.760004     -7.084020    -11.970335      0.000000\n",
      "25%       -1.162611     -1.174680      0.130145     59.470159\n",
      "50%        0.009135     -0.009663      2.484647     94.937429\n",
      "75%        1.158699      1.163889      4.857771    130.593539\n",
      "max        7.238262      7.844801     16.739402    190.029838\n",
      "\n",
      "Показатели корреляции df_3\n",
      "               f0        f1        f2   product\n",
      "f0       1.000000  0.000528 -0.000809 -0.002181\n",
      "f1       0.000528  1.000000  0.000906 -0.000769\n",
      "f2      -0.000809  0.000906  1.000000  0.445668\n",
      "product -0.002181 -0.000769  0.445668  1.000000\n"
     ]
    }
   ],
   "source": [
    "# описательная статистика и корреляция для df_3\n",
    "\n",
    "print('Описательная статистика для df_3')\n",
    "print(df_3.describe())\n",
    "print()\n",
    "print('Показатели корреляции df_3')\n",
    "print(df_3.corr())"
   ]
  },
  {
   "cell_type": "code",
   "execution_count": 26,
   "metadata": {},
   "outputs": [
    {
     "data": {
      "image/png": "[encoded data removed]",
      "text/plain": [
       "<Figure size 432x288 with 4 Axes>"
      ]
     },
     "metadata": {
      "needs_background": "light"
     },
     "output_type": "display_data"
    }
   ],
   "source": [
    "df_3[['f0', 'f1', 'f2', 'product']].hist()\n",
    "plt.show()"
   ]
  },
  {
   "cell_type": "code",
   "execution_count": 27,
   "metadata": {},
   "outputs": [
    {
     "data": {
      "image/png": "[encoded data removed]",
      "text/plain": [
       "<Figure size 432x288 with 2 Axes>"
      ]
     },
     "metadata": {
      "needs_background": "light"
     },
     "output_type": "display_data"
    },
    {
     "data": {
      "image/png": "[encoded data removed]",
      "text/plain": [
       "<Figure size 432x288 with 2 Axes>"
      ]
     },
     "metadata": {
      "needs_background": "light"
     },
     "output_type": "display_data"
    },
    {
     "data": {
      "image/png": "[encoded data removed]",
      "text/plain": [
       "<Figure size 432x288 with 2 Axes>"
      ]
     },
     "metadata": {
      "needs_background": "light"
     },
     "output_type": "display_data"
    }
   ],
   "source": [
    "# Графики корреляции df_1, df_2, df_3\n",
    "\n",
    "for data in all_df:\n",
    "    sns.heatmap(data.corr(), annot=True)\n",
    "    plt.title('Корреляция df')\n",
    "    plt.show()"
   ]
  },
  {
   "cell_type": "code",
   "execution_count": 28,
   "metadata": {},
   "outputs": [
    {
     "data": {
      "image/png": "[encoded data removed]",
      "text/plain": [
       "<Figure size 1080x360 with 1 Axes>"
      ]
     },
     "metadata": {
      "needs_background": "light"
     },
     "output_type": "display_data"
    }
   ],
   "source": [
    "plt.title('Графики распределения запасов по регионам')\n",
    "df_1['product'].hist(figsize=(15, 5),\n",
    "                     grid=True, alpha=0.7, histtype='step', linewidth=6, color='blue', label='1 регион')\n",
    "df_2['product'].hist(figsize=(15, 5),\n",
    "                     grid=True, alpha=0.7, histtype='step', linewidth=6, color='red', label='2 регион')\n",
    "df_3['product'].hist(figsize=(15, 5),\n",
    "                     grid=True, alpha=0.7, histtype='step', linewidth=6, color='green', label='3 регион')\n",
    "plt.xlabel('Объем запасов, тыс.баррелей')\n",
    "plt.ylabel('Распределение данных по запасам сырья в регионах')\n",
    "plt.legend()\n",
    "plt.show()"
   ]
  },
  {
   "cell_type": "markdown",
   "metadata": {},
   "source": [
    "Первый и третий регион имеют нормальное распределение запасов, во втором регион встречаются 2 моды."
   ]
  },
  {
   "cell_type": "code",
   "execution_count": 29,
   "metadata": {},
   "outputs": [
    {
     "data": {
      "image/png": "[encoded data removed]",
      "text/plain": [
       "<Figure size 432x288 with 1 Axes>"
      ]
     },
     "metadata": {
      "needs_background": "light"
     },
     "output_type": "display_data"
    },
    {
     "data": {
      "image/png": "[encoded data removed]",
      "text/plain": [
       "<Figure size 432x288 with 1 Axes>"
      ]
     },
     "metadata": {
      "needs_background": "light"
     },
     "output_type": "display_data"
    },
    {
     "data": {
      "image/png": "[encoded data removed]",
      "text/plain": [
       "<Figure size 432x288 with 1 Axes>"
      ]
     },
     "metadata": {
      "needs_background": "light"
     },
     "output_type": "display_data"
    }
   ],
   "source": [
    "# диаграммы размаха для столбца \"product\" таблиц df_1, df_2, df_3 соответственно\n",
    "\n",
    "for data in all_df:\n",
    "    data.boxplot(column='product')\n",
    "    plt.title('Диаграмма размаха')\n",
    "    plt.show()"
   ]
  },
  {
   "cell_type": "markdown",
   "metadata": {},
   "source": [
    "### Вывод"
   ]
  },
  {
   "cell_type": "markdown",
   "metadata": {},
   "source": [
    "В результате предобработки данных и анализа данных иммеем следующее:<br><br>- Размеры таблиц:<br>--df_1: 99774 строк, 5 столбцов <br>--df_2: 99774 строк, 5 столбцов<br>--df_: 99802 строк, 5 столбцов\n",
    "<br><br>- Таблицы имеют числовые данные (за исключением столбца id с названием скважин). Для обучения модели подходит только линейная регрессия<br><br>- Явные дубликаты отсутствуют<br><br> - Пропуски отсутствуют.<br><br> - Названия столбцов корректные<br><br> - Обнаружены и удалены неявные дубликаты: дублирующиеся названия скважин с различающимися признаками (df_1 - 113 скважин, df_2 - 113 скважины, df_3 - 98 скважины).<br><br> - Проверили  корреляцию - в показателях корреляции регионов 1 и 3 сильной корреляции данных нетВ регионе 2 заметна сильная взаимосвязь признака f2 и целевого признака, почти единица (Причина неизвестна, данные синтетические)."
   ]
  },
  {
   "cell_type": "markdown",
   "metadata": {},
   "source": [
    "## Обучение и проверка модели"
   ]
  },
  {
   "cell_type": "markdown",
   "metadata": {
    "scrolled": true
   },
   "source": [
    "f0, f1 и f2 - признаки (три признака точек, неважно, что они  означают, но сами признаки значимы)\n",
    "product - целевой признак (объем запасов в скважине, тыс. баррелей)\n",
    "Для обучения модели подходит только линейная регрессия. Цель числовая, это задача регрессии."
   ]
  },
  {
   "cell_type": "code",
   "execution_count": 30,
   "metadata": {},
   "outputs": [],
   "source": [
    "# проверка размера выборок\n",
    "\n",
    "def selection(data):\n",
    "    \n",
    "    # признаки и целевой признак\n",
    "    features = data.drop(['product', 'id'], axis=1)\n",
    "    target = data['product']\n",
    "    \n",
    "    # разбиваем данные df_1, df_2, df_3 на обучающую и валидационную выборки в соотношении 75:25\n",
    "    features_train, features_valid, target_train, target_valid = train_test_split(\n",
    "        features, target, test_size=0.25, random_state=12345)\n",
    "    \n",
    "    return features_train, target_train, features_valid, target_valid"
   ]
  },
  {
   "cell_type": "code",
   "execution_count": 31,
   "metadata": {},
   "outputs": [
    {
     "name": "stdout",
     "output_type": "stream",
     "text": [
      "Размер обучающей выборки df_1:\n",
      "(74830, 3)\n",
      "(74830,)\n",
      "Размер обучающей выборки df_2:\n",
      "(74830, 3)\n",
      "(74830,)\n",
      "Размер обучающей выборки df_3:\n",
      "(74851, 3)\n",
      "(74851,)\n",
      "Размер валидационной выборки df_1:\n",
      "(24944, 3)\n",
      "(24944,)\n",
      "Размер валидационной выборки df_2:\n",
      "(24944, 3)\n",
      "(24944,)\n",
      "Размер валидационной выборки df_3:\n",
      "(24951, 3)\n",
      "(24951,)\n",
      "\n"
     ]
    }
   ],
   "source": [
    "features_train_1, target_train_1, features_valid_1, target_valid_1 = selection(df_1)\n",
    "features_train_2, target_train_2, features_valid_2, target_valid_2 = selection(df_2)\n",
    "features_train_3, target_train_3, features_valid_3, target_valid_3 = selection(df_3)\n",
    "\n",
    "print('Размер обучающей выборки df_1:')\n",
    "print(features_train_1.shape)\n",
    "print(target_train_1.shape)\n",
    "print('Размер обучающей выборки df_2:')\n",
    "print(features_train_2.shape)\n",
    "print(target_train_2.shape)\n",
    "print('Размер обучающей выборки df_3:')\n",
    "print(features_train_3.shape)\n",
    "print(target_train_3.shape)\n",
    "print('Размер валидационной выборки df_1:')\n",
    "print(features_valid_1.shape)\n",
    "print(target_valid_1.shape)\n",
    "print('Размер валидационной выборки df_2:')\n",
    "print(features_valid_2.shape)\n",
    "print(target_valid_2.shape)\n",
    "print('Размер валидационной выборки df_3:')\n",
    "print(features_valid_3.shape)\n",
    "print(target_valid_3.shape)\n",
    "print()"
   ]
  },
  {
   "cell_type": "code",
   "execution_count": 32,
   "metadata": {},
   "outputs": [],
   "source": [
    "# модель линейной регрессии\n",
    "\n",
    "def linear_regression_model(data):\n",
    "    \n",
    "    # признаки и целевой признак\n",
    "    features = data.drop(['product', 'id'], axis=1)\n",
    "    target = data['product']\n",
    "    \n",
    "    # разбиваем данные df_1, df_2, df_3 на обучающую и валидационную выборки в соотношении 75:25\n",
    "    features_train, features_valid, target_train, target_valid = train_test_split(\n",
    "        features, target, test_size=0.25, random_state=12345)\n",
    "    \n",
    "    model = LinearRegression()\n",
    "    \n",
    "    # обучение модели\n",
    "    model.fit(features_train, target_train)\n",
    "    \n",
    "    # прогноз\n",
    "    predictions = model.predict(features_valid)\n",
    "    \n",
    "    # расчет rmse\n",
    "    rmse = mean_squared_error(target_valid, predictions)**0.5\n",
    "    \n",
    "    # расчет предсказанного среднего запаса сырья\n",
    "    predictions_mean =  predictions.sum() / len(predictions)\n",
    "    \n",
    "    return target_valid, predictions, rmse, predictions_mean "
   ]
  },
  {
   "cell_type": "code",
   "execution_count": 33,
   "metadata": {},
   "outputs": [
    {
     "name": "stdout",
     "output_type": "stream",
     "text": [
      "1 регион\n",
      "\n",
      "Средний запас предсказанного сырья = 92.52469024570901 rmse = 37.617292443412616\n",
      "Средний запас реального сырья = 92.49856281260517\n",
      "\n",
      "2 регион\n",
      "\n",
      "Средний запас предсказанного сырья = 68.46601778107235 rmse = 0.8904514565085925\n",
      "Средний запас реального сырья = 68.83771126846999\n",
      "\n",
      "3 регион\n",
      "\n",
      "Средний запас предсказанного сырья = 94.93510901053764 rmse = 39.938915870029646\n",
      "Средний запас реального сырья = 95.01085680312825\n"
     ]
    }
   ],
   "source": [
    "# Показатели по регионам\n",
    "\n",
    "target_valid_1, predictions_1, rmse_1, predictions_mean_1 = linear_regression_model(df_1)\n",
    "target_valid_2, predictions_2, rmse_2, predictions_mean_2 = linear_regression_model(df_2)\n",
    "target_valid_3, predictions_3, rmse_3, predictions_mean_3 = linear_regression_model(df_3)\n",
    "\n",
    "print('1 регион')\n",
    "print()\n",
    "print('Средний запас предсказанного сырья =', predictions_mean_1, 'rmse =', rmse_1)\n",
    "print('Средний запас реального сырья =', df_1['product'].mean())\n",
    "print()\n",
    "print('2 регион')\n",
    "print()\n",
    "print('Средний запас предсказанного сырья =', predictions_mean_2, 'rmse =', rmse_2)\n",
    "print('Средний запас реального сырья =', df_2['product'].mean())\n",
    "print()\n",
    "print('3 регион')\n",
    "print()\n",
    "print('Средний запас предсказанного сырья =', predictions_mean_3, 'rmse =', rmse_3)\n",
    "print('Средний запас реального сырья =', df_3['product'].mean())"
   ]
  },
  {
   "cell_type": "markdown",
   "metadata": {},
   "source": [
    "Лучше всего модель работает во 2-ом регионе, там самое низкое среднеквадратичное отклонение 0.8904514565085925. Но во втором регионе самый низкий средний объем запасов сырья. <br> 1-ый и 3-ий регионы похожи, rmse = 37.617292443412616 и rmse = 39.938915870029646 соответственно. Отклонение большое. Но в 3-ем регионе самый большой объем запасов сырья."
   ]
  },
  {
   "cell_type": "markdown",
   "metadata": {},
   "source": [
    "## Подготовка к расчёту прибыли"
   ]
  },
  {
   "cell_type": "markdown",
   "metadata": {},
   "source": [
    "Условия задачи:"
   ]
  },
  {
   "cell_type": "markdown",
   "metadata": {},
   "source": [
    "КОНСТАНТЫ:"
   ]
  },
  {
   "cell_type": "code",
   "execution_count": 34,
   "metadata": {},
   "outputs": [],
   "source": [
    "# при разведке региона исследуют 500 точек\n",
    "POINTS_EXPLORATION = 500\n",
    "\n",
    "# количество лучших точек для разработки (выбирают с помощью машинного обучения)\n",
    "POINTS_DEVELOPMENT = 200\n",
    "\n",
    "# бюджет на разратотку скважин в одном регионе (расходы, рублей)\n",
    "DEVELOPMENT_BUDGET = 10000000000\n",
    "\n",
    "# доход с 1 барреля сырья (рублей)\n",
    "INCOME_FROM_1_BARREL = 450\n",
    "\n",
    "# доход с 1 барреля сырья (рублей), так как объем указан в тысячах барелей\n",
    "REVENUE_1_PRODUCT = 450000\n",
    "\n",
    "# вероятность убытков\n",
    "PROBABILITY_OF_LOSSER = 0.025"
   ]
  },
  {
   "cell_type": "code",
   "execution_count": 35,
   "metadata": {},
   "outputs": [
    {
     "name": "stdout",
     "output_type": "stream",
     "text": [
      "Бюджет на разработку 1 скважины в регионе 50000000.0\n"
     ]
    }
   ],
   "source": [
    "# расчет бюджета на разработку 1 скважины в регионе\n",
    "\n",
    "budget_per_well = DEVELOPMENT_BUDGET / POINTS_DEVELOPMENT\n",
    "print('Бюджет на разработку 1 скважины в регионе', budget_per_well)"
   ]
  },
  {
   "cell_type": "code",
   "execution_count": 36,
   "metadata": {},
   "outputs": [
    {
     "name": "stdout",
     "output_type": "stream",
     "text": [
      "Необходимы объем запасов сырья для безубыточности: 111.11111111111111\n"
     ]
    }
   ],
   "source": [
    "# расчет объема сырья для безубыточности\n",
    "\n",
    "volume = budget_per_well / REVENUE_1_PRODUCT\n",
    "print('Необходимы объем запасов сырья для безубыточности:', volume)"
   ]
  },
  {
   "cell_type": "code",
   "execution_count": 37,
   "metadata": {},
   "outputs": [
    {
     "name": "stdout",
     "output_type": "stream",
     "text": [
      "Средний запас реального сырья 1 региона = 92.49856281260517\n",
      "Средний запас реального сырья 2 региона = 68.83771126846999\n",
      "Средний запас реального сырья 3 региона = 95.01085680312825\n"
     ]
    }
   ],
   "source": [
    "print('Средний запас реального сырья 1 региона =', df_1['product'].mean())\n",
    "print('Средний запас реального сырья 2 региона =', df_2['product'].mean())\n",
    "print('Средний запас реального сырья 3 региона =', df_3['product'].mean())"
   ]
  },
  {
   "cell_type": "code",
   "execution_count": 38,
   "metadata": {},
   "outputs": [
    {
     "name": "stdout",
     "output_type": "stream",
     "text": [
      "Средний запас предсказанного сырья 1 региона = 92.52469024570901\n",
      "Средний запас предсказанного сырья 2 региона = 68.46601778107235\n",
      "Средний запас предсказанного сырья 3 региона = 94.93510901053764\n"
     ]
    }
   ],
   "source": [
    "print('Средний запас предсказанного сырья 1 региона =', predictions_mean_1)\n",
    "print('Средний запас предсказанного сырья 2 региона =', predictions_mean_2)\n",
    "print('Средний запас предсказанного сырья 3 региона =', predictions_mean_3)"
   ]
  },
  {
   "cell_type": "markdown",
   "metadata": {},
   "source": [
    "Минимальный объем сырья, при котором не будет убытка = 111,11 тыс.баррелей. Мы видим, что ни средний реальный объем запасов сырья, ни средний предсказанный объем запасов сырья не соответствуют объему безубыточности (все регионы убыточны). Но, по услувию задачи, надо исследовать 500 скважин и выбрать из них 200 самых лучших для разработки."
   ]
  },
  {
   "cell_type": "markdown",
   "metadata": {},
   "source": [
    "## Расчёт прибыли и рисков "
   ]
  },
  {
   "cell_type": "markdown",
   "metadata": {},
   "source": [
    "### Функция для расчета прибыли по выбранным скважинам и предсказаниям модели"
   ]
  },
  {
   "cell_type": "code",
   "execution_count": 39,
   "metadata": {},
   "outputs": [],
   "source": [
    "# расчет прибыли с 200 лучших по предсказаниям скважин регионов\n",
    "\n",
    "def income(target_valid, predictions):\n",
    "    target_valid = pd.Series(target_valid).reset_index(drop=True)\n",
    "    predictions = pd.Series(predictions).reset_index(drop=True)\n",
    "    # отбор (сортировка) предсказаний по убыванию\n",
    "    predictions_sorted = predictions.sort_values(ascending=False)\n",
    "    # индексы скважин с максимальным значением предсказаний\n",
    "    selected = target_valid[predictions_sorted.index][:POINTS_DEVELOPMENT]\n",
    "    \n",
    "    return (REVENUE_1_PRODUCT * selected.sum() - DEVELOPMENT_BUDGET)"
   ]
  },
  {
   "cell_type": "code",
   "execution_count": 40,
   "metadata": {},
   "outputs": [
    {
     "name": "stdout",
     "output_type": "stream",
     "text": [
      "Прибыль с 200 лучших по предсказаниям скважин 1 регион: 3364099755.1334553\n",
      "Прибыль с 200 лучших по предсказаниям скважин 2 регион: 2415086696.681511\n",
      "Прибыль с 200 лучших по предсказаниям скважин 3 регион: 2513769272.9195995\n"
     ]
    }
   ],
   "source": [
    "print('Прибыль с 200 лучших по предсказаниям скважин 1 регион:', income(target_valid_1, predictions_1))\n",
    "print('Прибыль с 200 лучших по предсказаниям скважин 2 регион:', income(target_valid_2, predictions_2))\n",
    "print('Прибыль с 200 лучших по предсказаниям скважин 3 регион:', income(target_valid_3, predictions_3))"
   ]
  },
  {
   "cell_type": "markdown",
   "metadata": {},
   "source": [
    "### Расчет рисков и прибыли для каждого региона с применением техники Bootstrap "
   ]
  },
  {
   "cell_type": "code",
   "execution_count": 41,
   "metadata": {},
   "outputs": [],
   "source": [
    "state = np.random.RandomState(12345)"
   ]
  },
  {
   "cell_type": "code",
   "execution_count": 42,
   "metadata": {},
   "outputs": [],
   "source": [
    "def bootstrap(target_valid, predictions):\n",
    "    \n",
    "    values = []\n",
    "    \n",
    "    for i in range(1000):\n",
    "        target_subsample = target_valid.reset_index(drop=True).sample(\n",
    "            n=POINTS_EXPLORATION, replace=True, random_state=state)\n",
    "        probs_subsample = predictions[target_subsample.index]\n",
    "        inc = income(target_subsample, probs_subsample)\n",
    "        values.append(inc)\n",
    "\n",
    "    values = pd.Series(values)\n",
    "    \n",
    "    lower = int(values.quantile(PROBABILITY_OF_LOSSER))\n",
    "    upper = int(values.quantile(1 - PROBABILITY_OF_LOSSER))\n",
    "    values_mean = int(values.mean())\n",
    "    risk_loss = (len(values[values < 0]) / len(values)) * 100\n",
    "    \n",
    "    return values_mean, lower, upper, risk_loss"
   ]
  },
  {
   "cell_type": "code",
   "execution_count": 43,
   "metadata": {},
   "outputs": [],
   "source": [
    "values_mean_1, lower_1, upper_1, risk_loss_1 = bootstrap(target_valid_1, predictions_1)\n",
    "values_mean_2, lower_2, upper_2, risk_loss_2 = bootstrap(target_valid_2, predictions_2)\n",
    "values_mean_3, lower_3, upper_3, risk_loss_3 = bootstrap(target_valid_3, predictions_3)"
   ]
  },
  {
   "cell_type": "code",
   "execution_count": 44,
   "metadata": {},
   "outputs": [
    {
     "name": "stdout",
     "output_type": "stream",
     "text": [
      "Средняя прибыль лучших месторождений региона 1 = 441591294\n",
      "Средняя прибыль лучших месторождений региона 2 = 419790751\n",
      "Средняя прибыль лучших месторождений региона 3 = 392909227\n"
     ]
    }
   ],
   "source": [
    "print('Средняя прибыль лучших месторождений региона 1 =', values_mean_1)\n",
    "print('Средняя прибыль лучших месторождений региона 2 =', values_mean_2)\n",
    "print('Средняя прибыль лучших месторождений региона 3 =', values_mean_3)"
   ]
  },
  {
   "cell_type": "code",
   "execution_count": 45,
   "metadata": {},
   "outputs": [
    {
     "name": "stdout",
     "output_type": "stream",
     "text": [
      "95% доверительный интервал средней прибыли лучших месторождений региона 1 = -81107345 944686256\n",
      "\n",
      "95% доверительный интервал средней прибыли лучших месторождений региона 2 = 8841056 814549705\n",
      "\n",
      "95% доверительный интервал средней прибыли лучших месторождений региона 3 = -124062959 926113379\n"
     ]
    }
   ],
   "source": [
    "print('95% доверительный интервал средней прибыли лучших месторождений региона 1 =', lower_1, upper_1)\n",
    "print()\n",
    "print('95% доверительный интервал средней прибыли лучших месторождений региона 2 =', lower_2, upper_2)\n",
    "print()\n",
    "print('95% доверительный интервал средней прибыли лучших месторождений региона 3 =', lower_3, upper_3)"
   ]
  },
  {
   "cell_type": "code",
   "execution_count": 46,
   "metadata": {},
   "outputs": [
    {
     "name": "stdout",
     "output_type": "stream",
     "text": [
      "Риск убытка лучших месторождений региона 1 = 4.5 %\n",
      "Риск убытка лучших месторождений региона 2 = 2.0 %\n",
      "Риск убытка лучших месторождений региона 3 = 7.5 %\n"
     ]
    }
   ],
   "source": [
    "print('Риск убытка лучших месторождений региона 1 =', risk_loss_1, '%')\n",
    "print('Риск убытка лучших месторождений региона 2 =', risk_loss_2, '%')\n",
    "print('Риск убытка лучших месторождений региона 3 =', risk_loss_3, '%')"
   ]
  },
  {
   "cell_type": "markdown",
   "metadata": {},
   "source": [
    "## Вывод"
   ]
  },
  {
   "cell_type": "markdown",
   "metadata": {},
   "source": [
    "В результате предобработки исходных данных и анализа данных имеем следующее:\n",
    "- Размеры таблиц:\n",
    "--df_1: 99774 строк, 5 столбцов\n",
    "--df_2: 99774 строк, 5 столбцов\n",
    "--df_: 99802 строк, 5 столбцов\n",
    "- Таблицы имеют числовые данные (за исключением столбца id с названием скважин). Для обучения модели подходит только линейная регрессия\n",
    "- Явные дубликаты отсутствуют\n",
    "- Пропуски отсутствуют.\n",
    "- Названия столбцов корректные\n",
    "- Обнаружены и удалены неявные дубликаты: дублирующиеся названия скважин с различающимися признаками (df_1 - 113 скважин, df_2 - 113 скважины, df_3 - 98 скважины).\n",
    "- Проверили корреляцию - в показателях корреляции регионов 1 и 3 сильной корреляции данных нетВ регионе 2 заметна сильная взаимосвязь признака f2 и целевого признака, почти единица (Причина неизвестна, данные синтетические)."
   ]
  },
  {
   "cell_type": "markdown",
   "metadata": {},
   "source": [
    "f0, f1 и f2 - признаки (три признака точек, неважно, что они означают, но сами признаки значимы) product - целевой признак (объем запасов в скважине, тыс. баррелей) Для обучения модели подходит только линейная регрессия. Цель числовая, это задача регрессии."
   ]
  },
  {
   "cell_type": "markdown",
   "metadata": {},
   "source": [
    "При обучении модели линейной регрессии лучше всего модель работает во 2-ом регионе, там самое низкое среднеквадратичное отклонение 0.8904514565085925. Но во втором регионе самый низкий средний общий объем запасов сырья. 1-ый и 3-ий регионы похожи, rmse = 37.617292443412616 и rmse = 39.938915870029646 соответственно. Отклонение большое. Но в 3-ем регионе самый большой объем запасов сырья."
   ]
  },
  {
   "cell_type": "markdown",
   "metadata": {},
   "source": [
    "Средний запас реального сырья 1 региона = 92.49856281260517<br>\n",
    "Средний запас реального сырья 2 региона = 68.83771126846999<br>\n",
    "Средний запас реального сырья 3 региона = 95.01085680312825<br>\n",
    "Средний запас предсказанного сырья 1 региона = 92.52469024570901<br>\n",
    "Средний запас предсказанного сырья 2 региона = 68.46601778107235<br>\n",
    "Средний запас предсказанного сырья 3 региона = 94.93510901053764<br>\n",
    "Минимальный объем сырья, при котором не будет убытка = 111,11 тыс.баррелей. Мы видим, что ни средний реальный объем запасов сырья, ни средний предсказанный объем запасов сырья не соответствуют объему безубыточности (все регионы убыточны). Но, по услувию задачи, надо исследовать 500 скважин и выбрать из них 200 самых лучших для разработки."
   ]
  },
  {
   "cell_type": "markdown",
   "metadata": {},
   "source": [
    "Прибыль с 200 лучших по предсказаниям скважин 1 регион: 3364099755.1334553<br>\n",
    "Прибыль с 200 лучших по предсказаниям скважин 2 регион: 2415086696.681511<br>\n",
    "Прибыль с 200 лучших по предсказаниям скважин 3 регион: 2513769272.9195995<br>"
   ]
  },
  {
   "cell_type": "markdown",
   "metadata": {},
   "source": [
    "Расчет рисков и прибыли для каждого региона с применением техники Bootstrap<br>Средняя прибыль лучших месторождений региона 1 = 441591294<br>\n",
    "Средняя прибыль лучших месторождений региона 2 = 419790751<br>\n",
    "Средняя прибыль лучших месторождений региона 3 = 392909227<br>Риск убытка лучших месторождений региона 1 = 4.5 %<br>\n",
    "Риск убытка лучших месторождений региона 2 = 2.0 %<br>\n",
    "Риск убытка лучших месторождений региона 3 = 7.5 %<br>"
   ]
  },
  {
   "cell_type": "markdown",
   "metadata": {},
   "source": [
    "Для расчёта распределения прибыли применена техника Bootstrap с 1000 выборок, которая показала, что наиболее подходящий для разработки регион - 2 (несмотря на то, что средняя прибыль больше в 1 регионе), так как у него наименьшая вероятность убытков - 2% (по условию после оценки нужно оставить только те регионы в которых вероятность убытков меньше 2,5%)."
   ]
  }
 ],
 "metadata": {
  "ExecuteTimeLog": [
   {
    "duration": 905,
    "start_time": "2023-04-13T13:47:43.921Z"
   },
   {
    "duration": 75,
    "start_time": "2023-04-13T13:51:03.950Z"
   },
   {
    "duration": 3,
    "start_time": "2023-04-13T13:51:13.287Z"
   },
   {
    "duration": 12,
    "start_time": "2023-04-13T13:51:13.897Z"
   },
   {
    "duration": 3,
    "start_time": "2023-04-13T13:51:45.811Z"
   },
   {
    "duration": 508,
    "start_time": "2023-04-13T13:51:46.393Z"
   },
   {
    "duration": 1274,
    "start_time": "2023-04-13T13:52:25.473Z"
   },
   {
    "duration": 146,
    "start_time": "2023-04-13T13:52:26.750Z"
   },
   {
    "duration": 116,
    "start_time": "2023-04-13T13:52:26.898Z"
   },
   {
    "duration": 123,
    "start_time": "2023-04-13T13:52:27.016Z"
   },
   {
    "duration": 79,
    "start_time": "2023-04-13T13:52:51.011Z"
   },
   {
    "duration": 17,
    "start_time": "2023-04-13T13:53:02.945Z"
   },
   {
    "duration": 757,
    "start_time": "2023-04-13T13:53:50.751Z"
   },
   {
    "duration": 131,
    "start_time": "2023-04-13T13:53:51.509Z"
   },
   {
    "duration": 11,
    "start_time": "2023-04-13T13:53:51.642Z"
   },
   {
    "duration": 116,
    "start_time": "2023-04-13T13:53:51.655Z"
   },
   {
    "duration": 10,
    "start_time": "2023-04-13T13:53:51.773Z"
   },
   {
    "duration": 121,
    "start_time": "2023-04-13T13:53:51.785Z"
   },
   {
    "duration": 8,
    "start_time": "2023-04-13T13:53:51.907Z"
   },
   {
    "duration": 855,
    "start_time": "2023-04-13T13:54:39.746Z"
   },
   {
    "duration": 136,
    "start_time": "2023-04-13T13:54:40.602Z"
   },
   {
    "duration": 12,
    "start_time": "2023-04-13T13:54:40.740Z"
   },
   {
    "duration": 565,
    "start_time": "2023-04-13T13:54:40.754Z"
   },
   {
    "duration": 8,
    "start_time": "2023-04-13T13:54:41.320Z"
   },
   {
    "duration": 533,
    "start_time": "2023-04-13T13:54:41.329Z"
   },
   {
    "duration": 8,
    "start_time": "2023-04-13T13:54:41.863Z"
   },
   {
    "duration": 4,
    "start_time": "2023-04-13T13:59:28.415Z"
   },
   {
    "duration": 33,
    "start_time": "2023-04-13T14:00:31.435Z"
   },
   {
    "duration": 34,
    "start_time": "2023-04-13T14:00:57.337Z"
   },
   {
    "duration": 3,
    "start_time": "2023-04-13T14:01:53.320Z"
   },
   {
    "duration": 90,
    "start_time": "2023-04-13T14:03:10.015Z"
   },
   {
    "duration": 25,
    "start_time": "2023-04-13T14:03:27.555Z"
   },
   {
    "duration": 19,
    "start_time": "2023-04-13T14:04:11.217Z"
   },
   {
    "duration": 26,
    "start_time": "2023-04-13T14:04:44.497Z"
   },
   {
    "duration": 19,
    "start_time": "2023-04-13T14:05:05.530Z"
   },
   {
    "duration": 39,
    "start_time": "2023-04-13T14:07:02.048Z"
   },
   {
    "duration": 31,
    "start_time": "2023-04-13T14:07:27.876Z"
   },
   {
    "duration": 32,
    "start_time": "2023-04-13T14:07:39.017Z"
   },
   {
    "duration": 4,
    "start_time": "2023-04-13T14:09:36.561Z"
   },
   {
    "duration": 690,
    "start_time": "2023-04-13T14:17:46.073Z"
   },
   {
    "duration": 120,
    "start_time": "2023-04-13T14:17:46.765Z"
   },
   {
    "duration": 12,
    "start_time": "2023-04-13T14:17:46.887Z"
   },
   {
    "duration": 112,
    "start_time": "2023-04-13T14:17:46.900Z"
   },
   {
    "duration": 8,
    "start_time": "2023-04-13T14:17:47.014Z"
   },
   {
    "duration": 121,
    "start_time": "2023-04-13T14:17:47.024Z"
   },
   {
    "duration": 7,
    "start_time": "2023-04-13T14:17:47.147Z"
   },
   {
    "duration": 16,
    "start_time": "2023-04-13T14:17:47.156Z"
   },
   {
    "duration": 32,
    "start_time": "2023-04-13T14:17:47.173Z"
   },
   {
    "duration": 17,
    "start_time": "2023-04-13T14:17:47.206Z"
   },
   {
    "duration": 52,
    "start_time": "2023-04-13T14:17:47.225Z"
   },
   {
    "duration": 33,
    "start_time": "2023-04-13T14:17:47.278Z"
   },
   {
    "duration": 30,
    "start_time": "2023-04-13T14:17:47.312Z"
   },
   {
    "duration": 3,
    "start_time": "2023-04-13T14:17:47.345Z"
   },
   {
    "duration": 5,
    "start_time": "2023-04-13T14:18:14.499Z"
   },
   {
    "duration": 72,
    "start_time": "2023-04-13T14:19:41.770Z"
   },
   {
    "duration": 41,
    "start_time": "2023-04-13T14:20:00.498Z"
   },
   {
    "duration": 103,
    "start_time": "2023-04-13T14:21:37.764Z"
   },
   {
    "duration": 104,
    "start_time": "2023-04-13T14:21:50.828Z"
   },
   {
    "duration": 779,
    "start_time": "2023-04-13T14:22:05.432Z"
   },
   {
    "duration": 132,
    "start_time": "2023-04-13T14:22:06.212Z"
   },
   {
    "duration": 13,
    "start_time": "2023-04-13T14:22:06.346Z"
   },
   {
    "duration": 110,
    "start_time": "2023-04-13T14:22:06.360Z"
   },
   {
    "duration": 9,
    "start_time": "2023-04-13T14:22:06.471Z"
   },
   {
    "duration": 123,
    "start_time": "2023-04-13T14:22:06.481Z"
   },
   {
    "duration": 9,
    "start_time": "2023-04-13T14:22:06.605Z"
   },
   {
    "duration": 7,
    "start_time": "2023-04-13T14:22:06.616Z"
   },
   {
    "duration": 70,
    "start_time": "2023-04-13T14:22:06.625Z"
   },
   {
    "duration": 21,
    "start_time": "2023-04-13T14:22:06.698Z"
   },
   {
    "duration": 52,
    "start_time": "2023-04-13T14:22:06.721Z"
   },
   {
    "duration": 33,
    "start_time": "2023-04-13T14:22:06.775Z"
   },
   {
    "duration": 34,
    "start_time": "2023-04-13T14:22:06.810Z"
   },
   {
    "duration": 14,
    "start_time": "2023-04-13T14:22:06.845Z"
   },
   {
    "duration": 124,
    "start_time": "2023-04-13T14:22:06.872Z"
   },
   {
    "duration": 126,
    "start_time": "2023-04-13T14:26:03.831Z"
   },
   {
    "duration": 326,
    "start_time": "2023-04-13T14:27:51.220Z"
   },
   {
    "duration": 24,
    "start_time": "2023-04-13T14:32:24.795Z"
   },
   {
    "duration": 835,
    "start_time": "2023-04-14T12:35:52.421Z"
   },
   {
    "duration": 433,
    "start_time": "2023-04-14T12:35:53.258Z"
   },
   {
    "duration": 16,
    "start_time": "2023-04-14T12:35:53.695Z"
   },
   {
    "duration": 658,
    "start_time": "2023-04-14T12:35:53.713Z"
   },
   {
    "duration": 13,
    "start_time": "2023-04-14T12:35:54.373Z"
   },
   {
    "duration": 563,
    "start_time": "2023-04-14T12:35:54.388Z"
   },
   {
    "duration": 10,
    "start_time": "2023-04-14T12:35:54.952Z"
   },
   {
    "duration": 49,
    "start_time": "2023-04-14T12:35:54.964Z"
   },
   {
    "duration": 85,
    "start_time": "2023-04-14T12:35:55.015Z"
   },
   {
    "duration": 27,
    "start_time": "2023-04-14T12:35:55.103Z"
   },
   {
    "duration": 122,
    "start_time": "2023-04-14T12:35:55.133Z"
   },
   {
    "duration": 47,
    "start_time": "2023-04-14T12:35:55.259Z"
   },
   {
    "duration": 42,
    "start_time": "2023-04-14T12:35:55.308Z"
   },
   {
    "duration": 31,
    "start_time": "2023-04-14T12:35:55.352Z"
   },
   {
    "duration": 156,
    "start_time": "2023-04-14T12:35:55.385Z"
   },
   {
    "duration": 554,
    "start_time": "2023-04-14T12:35:55.543Z"
   },
   {
    "duration": 22,
    "start_time": "2023-04-14T12:35:56.099Z"
   },
   {
    "duration": 23,
    "start_time": "2023-04-14T12:36:18.772Z"
   },
   {
    "duration": 45,
    "start_time": "2023-04-14T12:37:08.703Z"
   },
   {
    "duration": 370,
    "start_time": "2023-04-14T12:39:37.603Z"
   },
   {
    "duration": 406,
    "start_time": "2023-04-14T12:39:43.096Z"
   },
   {
    "duration": 25,
    "start_time": "2023-04-14T12:40:10.655Z"
   },
   {
    "duration": 776,
    "start_time": "2023-04-14T12:40:25.937Z"
   },
   {
    "duration": 22,
    "start_time": "2023-04-14T12:40:55.603Z"
   },
   {
    "duration": 406,
    "start_time": "2023-04-14T12:49:18.032Z"
   },
   {
    "duration": 8,
    "start_time": "2023-04-14T12:53:42.270Z"
   },
   {
    "duration": 29,
    "start_time": "2023-04-14T12:53:57.976Z"
   },
   {
    "duration": 34,
    "start_time": "2023-04-14T12:56:38.507Z"
   },
   {
    "duration": 27,
    "start_time": "2023-04-14T12:57:17.425Z"
   },
   {
    "duration": 23,
    "start_time": "2023-04-14T12:57:42.810Z"
   },
   {
    "duration": 26,
    "start_time": "2023-04-14T13:02:55.895Z"
   },
   {
    "duration": 14,
    "start_time": "2023-04-14T13:22:38.113Z"
   },
   {
    "duration": 29,
    "start_time": "2023-04-14T13:23:33.460Z"
   },
   {
    "duration": 1254,
    "start_time": "2023-04-14T13:32:22.645Z"
   },
   {
    "duration": 132,
    "start_time": "2023-04-14T13:32:23.901Z"
   },
   {
    "duration": 13,
    "start_time": "2023-04-14T13:32:24.035Z"
   },
   {
    "duration": 132,
    "start_time": "2023-04-14T13:32:24.050Z"
   },
   {
    "duration": 8,
    "start_time": "2023-04-14T13:32:24.184Z"
   },
   {
    "duration": 142,
    "start_time": "2023-04-14T13:32:24.193Z"
   },
   {
    "duration": 9,
    "start_time": "2023-04-14T13:32:24.337Z"
   },
   {
    "duration": 10,
    "start_time": "2023-04-14T13:32:24.347Z"
   },
   {
    "duration": 45,
    "start_time": "2023-04-14T13:32:24.359Z"
   },
   {
    "duration": 19,
    "start_time": "2023-04-14T13:32:24.407Z"
   },
   {
    "duration": 49,
    "start_time": "2023-04-14T13:32:24.428Z"
   },
   {
    "duration": 34,
    "start_time": "2023-04-14T13:32:24.483Z"
   },
   {
    "duration": 30,
    "start_time": "2023-04-14T13:32:24.519Z"
   },
   {
    "duration": 6,
    "start_time": "2023-04-14T13:32:24.551Z"
   },
   {
    "duration": 128,
    "start_time": "2023-04-14T13:32:24.559Z"
   },
   {
    "duration": 428,
    "start_time": "2023-04-14T13:32:24.689Z"
   },
   {
    "duration": 26,
    "start_time": "2023-04-14T13:32:25.118Z"
   },
   {
    "duration": 40,
    "start_time": "2023-04-14T13:32:25.145Z"
   },
   {
    "duration": 58,
    "start_time": "2023-04-14T13:32:25.187Z"
   },
   {
    "duration": 46,
    "start_time": "2023-04-14T13:32:25.247Z"
   },
   {
    "duration": 3,
    "start_time": "2023-04-14T13:42:01.918Z"
   },
   {
    "duration": 99,
    "start_time": "2023-04-14T13:42:22.770Z"
   },
   {
    "duration": 9,
    "start_time": "2023-04-14T13:42:35.085Z"
   },
   {
    "duration": 326,
    "start_time": "2023-04-14T13:43:38.270Z"
   },
   {
    "duration": 259,
    "start_time": "2023-04-14T13:44:03.800Z"
   },
   {
    "duration": 18,
    "start_time": "2023-04-14T13:44:22.694Z"
   },
   {
    "duration": 304,
    "start_time": "2023-04-14T13:44:46.208Z"
   },
   {
    "duration": 409,
    "start_time": "2023-04-14T14:01:01.425Z"
   },
   {
    "duration": 367,
    "start_time": "2023-04-14T14:01:23.456Z"
   },
   {
    "duration": 370,
    "start_time": "2023-04-14T14:01:41.899Z"
   },
   {
    "duration": 344,
    "start_time": "2023-04-14T14:02:01.344Z"
   },
   {
    "duration": 1191,
    "start_time": "2023-04-14T14:02:34.593Z"
   },
   {
    "duration": 145,
    "start_time": "2023-04-14T14:02:35.785Z"
   },
   {
    "duration": 13,
    "start_time": "2023-04-14T14:02:35.932Z"
   },
   {
    "duration": 131,
    "start_time": "2023-04-14T14:02:35.947Z"
   },
   {
    "duration": 9,
    "start_time": "2023-04-14T14:02:36.080Z"
   },
   {
    "duration": 132,
    "start_time": "2023-04-14T14:02:36.091Z"
   },
   {
    "duration": 9,
    "start_time": "2023-04-14T14:02:36.224Z"
   },
   {
    "duration": 13,
    "start_time": "2023-04-14T14:02:36.235Z"
   },
   {
    "duration": 45,
    "start_time": "2023-04-14T14:02:36.250Z"
   },
   {
    "duration": 21,
    "start_time": "2023-04-14T14:02:36.298Z"
   },
   {
    "duration": 3,
    "start_time": "2023-04-14T14:02:36.321Z"
   },
   {
    "duration": 146,
    "start_time": "2023-04-14T14:02:36.326Z"
   },
   {
    "duration": 457,
    "start_time": "2023-04-14T14:02:36.474Z"
   },
   {
    "duration": 29,
    "start_time": "2023-04-14T14:02:36.933Z"
   },
   {
    "duration": 39,
    "start_time": "2023-04-14T14:02:36.964Z"
   },
   {
    "duration": 38,
    "start_time": "2023-04-14T14:02:37.005Z"
   },
   {
    "duration": 386,
    "start_time": "2023-04-14T14:02:37.045Z"
   },
   {
    "duration": 372,
    "start_time": "2023-04-14T14:02:37.433Z"
   },
   {
    "duration": 382,
    "start_time": "2023-04-14T14:02:37.807Z"
   },
   {
    "duration": 5024,
    "start_time": "2023-04-14T14:07:16.020Z"
   },
   {
    "duration": 5248,
    "start_time": "2023-04-14T14:07:32.316Z"
   },
   {
    "duration": 5023,
    "start_time": "2023-04-14T14:08:36.737Z"
   },
   {
    "duration": 4724,
    "start_time": "2023-04-14T14:09:00.235Z"
   },
   {
    "duration": 93,
    "start_time": "2023-04-14T14:13:58.780Z"
   },
   {
    "duration": 14488,
    "start_time": "2023-04-14T14:14:13.656Z"
   },
   {
    "duration": 2,
    "start_time": "2023-04-14T14:14:53.328Z"
   },
   {
    "duration": 3,
    "start_time": "2023-04-14T14:14:56.815Z"
   },
   {
    "duration": 14592,
    "start_time": "2023-04-14T14:15:22.543Z"
   },
   {
    "duration": 44,
    "start_time": "2023-04-14T14:18:03.349Z"
   },
   {
    "duration": 43,
    "start_time": "2023-04-14T14:18:04.027Z"
   },
   {
    "duration": 14723,
    "start_time": "2023-04-14T14:22:16.240Z"
   },
   {
    "duration": 14040,
    "start_time": "2023-04-14T14:23:32.777Z"
   },
   {
    "duration": 14793,
    "start_time": "2023-04-14T14:26:04.744Z"
   },
   {
    "duration": 14788,
    "start_time": "2023-04-14T14:26:36.510Z"
   },
   {
    "duration": 109,
    "start_time": "2023-04-14T14:36:25.629Z"
   },
   {
    "duration": 14382,
    "start_time": "2023-04-14T14:37:00.971Z"
   },
   {
    "duration": 14137,
    "start_time": "2023-04-14T14:37:24.151Z"
   },
   {
    "duration": 14592,
    "start_time": "2023-04-14T14:38:14.671Z"
   },
   {
    "duration": 14190,
    "start_time": "2023-04-14T14:39:21.157Z"
   },
   {
    "duration": 374,
    "start_time": "2023-04-14T14:40:02.351Z"
   },
   {
    "duration": 13927,
    "start_time": "2023-04-14T14:40:36.756Z"
   },
   {
    "duration": 18,
    "start_time": "2023-04-14T14:45:10.698Z"
   },
   {
    "duration": 17,
    "start_time": "2023-04-14T14:45:47.253Z"
   },
   {
    "duration": 20,
    "start_time": "2023-04-14T14:46:35.619Z"
   },
   {
    "duration": 4694,
    "start_time": "2023-04-14T14:47:58.789Z"
   },
   {
    "duration": 13635,
    "start_time": "2023-04-14T14:48:13.518Z"
   },
   {
    "duration": 113,
    "start_time": "2023-04-14T14:49:11.052Z"
   },
   {
    "duration": 13834,
    "start_time": "2023-04-14T14:49:17.867Z"
   },
   {
    "duration": 1269,
    "start_time": "2023-04-14T14:51:19.060Z"
   },
   {
    "duration": 14481,
    "start_time": "2023-04-14T14:52:10.660Z"
   },
   {
    "duration": 13743,
    "start_time": "2023-04-14T14:57:52.884Z"
   },
   {
    "duration": 110,
    "start_time": "2023-04-14T14:58:55.874Z"
   },
   {
    "duration": 78,
    "start_time": "2023-04-14T15:00:31.308Z"
   },
   {
    "duration": 43,
    "start_time": "2023-04-14T15:01:02.457Z"
   },
   {
    "duration": 43,
    "start_time": "2023-04-14T15:01:32.837Z"
   },
   {
    "duration": 45,
    "start_time": "2023-04-14T15:01:46.203Z"
   },
   {
    "duration": 63,
    "start_time": "2023-04-14T18:27:22.392Z"
   },
   {
    "duration": 8,
    "start_time": "2023-04-14T18:29:07.891Z"
   },
   {
    "duration": 1445,
    "start_time": "2023-04-14T18:29:21.123Z"
   },
   {
    "duration": 582,
    "start_time": "2023-04-14T18:29:22.570Z"
   },
   {
    "duration": 14,
    "start_time": "2023-04-14T18:29:23.154Z"
   },
   {
    "duration": 254,
    "start_time": "2023-04-14T18:29:23.170Z"
   },
   {
    "duration": 10,
    "start_time": "2023-04-14T18:29:23.426Z"
   },
   {
    "duration": 232,
    "start_time": "2023-04-14T18:29:23.438Z"
   },
   {
    "duration": 10,
    "start_time": "2023-04-14T18:29:23.671Z"
   },
   {
    "duration": 7,
    "start_time": "2023-04-14T18:29:23.683Z"
   },
   {
    "duration": 51,
    "start_time": "2023-04-14T18:29:23.692Z"
   },
   {
    "duration": 21,
    "start_time": "2023-04-14T18:29:23.747Z"
   },
   {
    "duration": 3,
    "start_time": "2023-04-14T18:29:23.770Z"
   },
   {
    "duration": 184,
    "start_time": "2023-04-14T18:29:23.775Z"
   },
   {
    "duration": 531,
    "start_time": "2023-04-14T18:29:23.961Z"
   },
   {
    "duration": 46,
    "start_time": "2023-04-14T18:29:24.494Z"
   },
   {
    "duration": 28,
    "start_time": "2023-04-14T18:29:24.542Z"
   },
   {
    "duration": 45,
    "start_time": "2023-04-14T18:29:24.572Z"
   },
   {
    "duration": 52,
    "start_time": "2023-04-14T18:29:24.619Z"
   },
   {
    "duration": 73,
    "start_time": "2023-04-14T18:29:24.673Z"
   },
   {
    "duration": 42,
    "start_time": "2023-04-14T18:29:24.748Z"
   },
   {
    "duration": 128,
    "start_time": "2023-04-14T18:29:24.792Z"
   },
   {
    "duration": 128,
    "start_time": "2023-04-14T18:29:51.690Z"
   },
   {
    "duration": 11,
    "start_time": "2023-04-14T18:31:00.724Z"
   },
   {
    "duration": 11,
    "start_time": "2023-04-14T18:31:51.853Z"
   },
   {
    "duration": 120,
    "start_time": "2023-04-14T18:32:27.289Z"
   },
   {
    "duration": 15,
    "start_time": "2023-04-14T18:34:43.141Z"
   },
   {
    "duration": 1270,
    "start_time": "2023-04-14T18:34:59.932Z"
   },
   {
    "duration": 164,
    "start_time": "2023-04-14T18:35:01.204Z"
   },
   {
    "duration": 14,
    "start_time": "2023-04-14T18:35:01.370Z"
   },
   {
    "duration": 155,
    "start_time": "2023-04-14T18:35:01.387Z"
   },
   {
    "duration": 9,
    "start_time": "2023-04-14T18:35:01.544Z"
   },
   {
    "duration": 181,
    "start_time": "2023-04-14T18:35:01.555Z"
   },
   {
    "duration": 9,
    "start_time": "2023-04-14T18:35:01.738Z"
   },
   {
    "duration": 46,
    "start_time": "2023-04-14T18:35:01.748Z"
   },
   {
    "duration": 72,
    "start_time": "2023-04-14T18:35:01.796Z"
   },
   {
    "duration": 21,
    "start_time": "2023-04-14T18:35:01.871Z"
   },
   {
    "duration": 29,
    "start_time": "2023-04-14T18:35:01.894Z"
   },
   {
    "duration": 188,
    "start_time": "2023-04-14T18:35:01.925Z"
   },
   {
    "duration": 555,
    "start_time": "2023-04-14T18:35:02.115Z"
   },
   {
    "duration": 52,
    "start_time": "2023-04-14T18:35:02.672Z"
   },
   {
    "duration": 53,
    "start_time": "2023-04-14T18:35:02.726Z"
   },
   {
    "duration": 60,
    "start_time": "2023-04-14T18:35:02.781Z"
   },
   {
    "duration": 67,
    "start_time": "2023-04-14T18:35:02.843Z"
   },
   {
    "duration": 80,
    "start_time": "2023-04-14T18:35:02.912Z"
   },
   {
    "duration": 52,
    "start_time": "2023-04-14T18:35:02.994Z"
   },
   {
    "duration": 141,
    "start_time": "2023-04-14T18:35:03.047Z"
   },
   {
    "duration": 18,
    "start_time": "2023-04-14T18:35:57.248Z"
   },
   {
    "duration": 41,
    "start_time": "2023-04-14T18:48:38.360Z"
   },
   {
    "duration": 1925,
    "start_time": "2023-04-14T18:48:56.626Z"
   },
   {
    "duration": 11,
    "start_time": "2023-04-14T18:49:33.993Z"
   },
   {
    "duration": 375,
    "start_time": "2023-04-14T18:53:08.542Z"
   },
   {
    "duration": 1227,
    "start_time": "2023-04-14T18:57:15.051Z"
   },
   {
    "duration": 177,
    "start_time": "2023-04-14T18:57:16.279Z"
   },
   {
    "duration": 16,
    "start_time": "2023-04-14T18:57:16.458Z"
   },
   {
    "duration": 145,
    "start_time": "2023-04-14T18:57:16.476Z"
   },
   {
    "duration": 12,
    "start_time": "2023-04-14T18:57:16.623Z"
   },
   {
    "duration": 148,
    "start_time": "2023-04-14T18:57:16.637Z"
   },
   {
    "duration": 10,
    "start_time": "2023-04-14T18:57:16.786Z"
   },
   {
    "duration": 13,
    "start_time": "2023-04-14T18:57:16.798Z"
   },
   {
    "duration": 47,
    "start_time": "2023-04-14T18:57:16.813Z"
   },
   {
    "duration": 21,
    "start_time": "2023-04-14T18:57:16.863Z"
   },
   {
    "duration": 4,
    "start_time": "2023-04-14T18:57:16.886Z"
   },
   {
    "duration": 159,
    "start_time": "2023-04-14T18:57:16.913Z"
   },
   {
    "duration": 563,
    "start_time": "2023-04-14T18:57:17.074Z"
   },
   {
    "duration": 31,
    "start_time": "2023-04-14T18:57:17.639Z"
   },
   {
    "duration": 45,
    "start_time": "2023-04-14T18:57:17.672Z"
   },
   {
    "duration": 35,
    "start_time": "2023-04-14T18:57:17.719Z"
   },
   {
    "duration": 375,
    "start_time": "2023-04-14T18:57:17.756Z"
   },
   {
    "duration": 45,
    "start_time": "2023-04-14T18:57:18.133Z"
   },
   {
    "duration": 68,
    "start_time": "2023-04-14T18:57:18.180Z"
   },
   {
    "duration": 121,
    "start_time": "2023-04-14T18:57:18.250Z"
   },
   {
    "duration": 398,
    "start_time": "2023-04-14T19:02:31.171Z"
   },
   {
    "duration": 59,
    "start_time": "2023-04-14T19:03:53.344Z"
   },
   {
    "duration": 312,
    "start_time": "2023-04-14T19:04:15.170Z"
   },
   {
    "duration": 372,
    "start_time": "2023-04-14T19:04:25.093Z"
   },
   {
    "duration": 190,
    "start_time": "2023-04-14T19:04:53.425Z"
   },
   {
    "duration": 431,
    "start_time": "2023-04-14T19:05:07.533Z"
   },
   {
    "duration": 392,
    "start_time": "2023-04-14T19:10:23.457Z"
   },
   {
    "duration": 54,
    "start_time": "2023-04-14T19:11:10.735Z"
   },
   {
    "duration": 406,
    "start_time": "2023-04-14T19:11:24.428Z"
   },
   {
    "duration": 414,
    "start_time": "2023-04-14T19:11:52.646Z"
   },
   {
    "duration": 485,
    "start_time": "2023-04-14T19:12:17.157Z"
   },
   {
    "duration": 1265,
    "start_time": "2023-04-14T19:12:33.004Z"
   },
   {
    "duration": 157,
    "start_time": "2023-04-14T19:12:34.271Z"
   },
   {
    "duration": 17,
    "start_time": "2023-04-14T19:12:34.430Z"
   },
   {
    "duration": 153,
    "start_time": "2023-04-14T19:12:34.449Z"
   },
   {
    "duration": 12,
    "start_time": "2023-04-14T19:12:34.604Z"
   },
   {
    "duration": 162,
    "start_time": "2023-04-14T19:12:34.618Z"
   },
   {
    "duration": 10,
    "start_time": "2023-04-14T19:12:34.782Z"
   },
   {
    "duration": 35,
    "start_time": "2023-04-14T19:12:34.794Z"
   },
   {
    "duration": 39,
    "start_time": "2023-04-14T19:12:34.831Z"
   },
   {
    "duration": 21,
    "start_time": "2023-04-14T19:12:34.873Z"
   },
   {
    "duration": 4,
    "start_time": "2023-04-14T19:12:34.896Z"
   },
   {
    "duration": 156,
    "start_time": "2023-04-14T19:12:34.913Z"
   },
   {
    "duration": 606,
    "start_time": "2023-04-14T19:12:35.071Z"
   },
   {
    "duration": 39,
    "start_time": "2023-04-14T19:12:35.679Z"
   },
   {
    "duration": 37,
    "start_time": "2023-04-14T19:12:35.720Z"
   },
   {
    "duration": 56,
    "start_time": "2023-04-14T19:12:35.759Z"
   },
   {
    "duration": 449,
    "start_time": "2023-04-14T19:12:35.817Z"
   },
   {
    "duration": 61,
    "start_time": "2023-04-14T19:12:36.268Z"
   },
   {
    "duration": 49,
    "start_time": "2023-04-14T19:12:36.331Z"
   },
   {
    "duration": 346,
    "start_time": "2023-04-14T19:13:08.237Z"
   },
   {
    "duration": 403,
    "start_time": "2023-04-14T19:15:05.455Z"
   },
   {
    "duration": 1259,
    "start_time": "2023-04-14T19:20:24.545Z"
   },
   {
    "duration": 164,
    "start_time": "2023-04-14T19:20:25.807Z"
   },
   {
    "duration": 17,
    "start_time": "2023-04-14T19:20:25.972Z"
   },
   {
    "duration": 152,
    "start_time": "2023-04-14T19:20:25.991Z"
   },
   {
    "duration": 11,
    "start_time": "2023-04-14T19:20:26.144Z"
   },
   {
    "duration": 143,
    "start_time": "2023-04-14T19:20:26.157Z"
   },
   {
    "duration": 11,
    "start_time": "2023-04-14T19:20:26.302Z"
   },
   {
    "duration": 6,
    "start_time": "2023-04-14T19:20:26.315Z"
   },
   {
    "duration": 41,
    "start_time": "2023-04-14T19:20:26.324Z"
   },
   {
    "duration": 48,
    "start_time": "2023-04-14T19:20:26.367Z"
   },
   {
    "duration": 5,
    "start_time": "2023-04-14T19:20:26.418Z"
   },
   {
    "duration": 164,
    "start_time": "2023-04-14T19:20:26.425Z"
   },
   {
    "duration": 563,
    "start_time": "2023-04-14T19:20:26.591Z"
   },
   {
    "duration": 32,
    "start_time": "2023-04-14T19:20:27.156Z"
   },
   {
    "duration": 53,
    "start_time": "2023-04-14T19:20:27.189Z"
   },
   {
    "duration": 29,
    "start_time": "2023-04-14T19:20:27.244Z"
   },
   {
    "duration": 406,
    "start_time": "2023-04-14T19:20:27.275Z"
   },
   {
    "duration": 59,
    "start_time": "2023-04-14T19:20:27.683Z"
   },
   {
    "duration": 39,
    "start_time": "2023-04-14T19:20:27.744Z"
   },
   {
    "duration": 1259,
    "start_time": "2023-04-14T19:27:26.046Z"
   },
   {
    "duration": 173,
    "start_time": "2023-04-14T19:27:27.307Z"
   },
   {
    "duration": 15,
    "start_time": "2023-04-14T19:27:27.482Z"
   },
   {
    "duration": 185,
    "start_time": "2023-04-14T19:27:27.500Z"
   },
   {
    "duration": 11,
    "start_time": "2023-04-14T19:27:27.687Z"
   },
   {
    "duration": 150,
    "start_time": "2023-04-14T19:27:27.700Z"
   },
   {
    "duration": 10,
    "start_time": "2023-04-14T19:27:27.852Z"
   },
   {
    "duration": 5,
    "start_time": "2023-04-14T19:27:27.864Z"
   },
   {
    "duration": 69,
    "start_time": "2023-04-14T19:27:27.871Z"
   },
   {
    "duration": 23,
    "start_time": "2023-04-14T19:27:27.942Z"
   },
   {
    "duration": 7,
    "start_time": "2023-04-14T19:27:27.967Z"
   },
   {
    "duration": 170,
    "start_time": "2023-04-14T19:27:27.976Z"
   },
   {
    "duration": 532,
    "start_time": "2023-04-14T19:27:28.147Z"
   },
   {
    "duration": 52,
    "start_time": "2023-04-14T19:27:28.682Z"
   },
   {
    "duration": 27,
    "start_time": "2023-04-14T19:27:28.736Z"
   },
   {
    "duration": 65,
    "start_time": "2023-04-14T19:27:28.766Z"
   },
   {
    "duration": 498,
    "start_time": "2023-04-14T19:27:28.834Z"
   },
   {
    "duration": 437,
    "start_time": "2023-04-14T19:27:29.335Z"
   },
   {
    "duration": 378,
    "start_time": "2023-04-14T19:27:29.774Z"
   },
   {
    "duration": 115,
    "start_time": "2023-04-14T19:36:33.641Z"
   },
   {
    "duration": 38,
    "start_time": "2023-04-14T19:36:44.426Z"
   },
   {
    "duration": 12,
    "start_time": "2023-04-14T19:39:56.962Z"
   },
   {
    "duration": 12,
    "start_time": "2023-04-14T19:40:56.126Z"
   },
   {
    "duration": 10,
    "start_time": "2023-04-14T19:41:09.274Z"
   },
   {
    "duration": 13,
    "start_time": "2023-04-14T19:41:49.825Z"
   },
   {
    "duration": 277,
    "start_time": "2023-04-14T19:42:42.788Z"
   },
   {
    "duration": 738,
    "start_time": "2023-04-14T19:44:24.942Z"
   },
   {
    "duration": 41,
    "start_time": "2023-04-14T19:44:37.652Z"
   },
   {
    "duration": 1299,
    "start_time": "2023-04-14T19:45:46.174Z"
   },
   {
    "duration": 164,
    "start_time": "2023-04-14T19:45:47.475Z"
   },
   {
    "duration": 15,
    "start_time": "2023-04-14T19:45:47.641Z"
   },
   {
    "duration": 143,
    "start_time": "2023-04-14T19:45:47.659Z"
   },
   {
    "duration": 11,
    "start_time": "2023-04-14T19:45:47.803Z"
   },
   {
    "duration": 157,
    "start_time": "2023-04-14T19:45:47.817Z"
   },
   {
    "duration": 10,
    "start_time": "2023-04-14T19:45:47.976Z"
   },
   {
    "duration": 10,
    "start_time": "2023-04-14T19:45:47.988Z"
   },
   {
    "duration": 50,
    "start_time": "2023-04-14T19:45:48.011Z"
   },
   {
    "duration": 34,
    "start_time": "2023-04-14T19:45:48.064Z"
   },
   {
    "duration": 5,
    "start_time": "2023-04-14T19:45:48.113Z"
   },
   {
    "duration": 173,
    "start_time": "2023-04-14T19:45:48.121Z"
   },
   {
    "duration": 789,
    "start_time": "2023-04-14T19:45:48.295Z"
   },
   {
    "duration": 167,
    "start_time": "2023-04-14T19:45:49.087Z"
   },
   {
    "duration": 0,
    "start_time": "2023-04-14T19:45:49.256Z"
   },
   {
    "duration": 0,
    "start_time": "2023-04-14T19:45:49.258Z"
   },
   {
    "duration": 0,
    "start_time": "2023-04-14T19:45:49.260Z"
   },
   {
    "duration": 0,
    "start_time": "2023-04-14T19:45:49.261Z"
   },
   {
    "duration": 0,
    "start_time": "2023-04-14T19:45:49.263Z"
   },
   {
    "duration": 0,
    "start_time": "2023-04-14T19:45:49.264Z"
   },
   {
    "duration": 1287,
    "start_time": "2023-04-14T19:47:25.173Z"
   },
   {
    "duration": 156,
    "start_time": "2023-04-14T19:47:26.462Z"
   },
   {
    "duration": 19,
    "start_time": "2023-04-14T19:47:26.621Z"
   },
   {
    "duration": 139,
    "start_time": "2023-04-14T19:47:26.642Z"
   },
   {
    "duration": 10,
    "start_time": "2023-04-14T19:47:26.783Z"
   },
   {
    "duration": 149,
    "start_time": "2023-04-14T19:47:26.796Z"
   },
   {
    "duration": 10,
    "start_time": "2023-04-14T19:47:26.947Z"
   },
   {
    "duration": 43,
    "start_time": "2023-04-14T19:47:26.959Z"
   },
   {
    "duration": 50,
    "start_time": "2023-04-14T19:47:27.004Z"
   },
   {
    "duration": 26,
    "start_time": "2023-04-14T19:47:27.056Z"
   },
   {
    "duration": 5,
    "start_time": "2023-04-14T19:47:27.084Z"
   },
   {
    "duration": 172,
    "start_time": "2023-04-14T19:47:27.111Z"
   },
   {
    "duration": 590,
    "start_time": "2023-04-14T19:47:27.285Z"
   },
   {
    "duration": 122,
    "start_time": "2023-04-14T19:47:27.876Z"
   },
   {
    "duration": 0,
    "start_time": "2023-04-14T19:47:28.000Z"
   },
   {
    "duration": 0,
    "start_time": "2023-04-14T19:47:28.001Z"
   },
   {
    "duration": 0,
    "start_time": "2023-04-14T19:47:28.002Z"
   },
   {
    "duration": 0,
    "start_time": "2023-04-14T19:47:28.012Z"
   },
   {
    "duration": 0,
    "start_time": "2023-04-14T19:47:28.013Z"
   },
   {
    "duration": 0,
    "start_time": "2023-04-14T19:47:28.016Z"
   },
   {
    "duration": 1485,
    "start_time": "2023-04-14T19:48:36.085Z"
   },
   {
    "duration": 172,
    "start_time": "2023-04-14T19:48:37.572Z"
   },
   {
    "duration": 15,
    "start_time": "2023-04-14T19:48:37.746Z"
   },
   {
    "duration": 148,
    "start_time": "2023-04-14T19:48:37.764Z"
   },
   {
    "duration": 20,
    "start_time": "2023-04-14T19:48:37.914Z"
   },
   {
    "duration": 148,
    "start_time": "2023-04-14T19:48:37.936Z"
   },
   {
    "duration": 11,
    "start_time": "2023-04-14T19:48:38.086Z"
   },
   {
    "duration": 20,
    "start_time": "2023-04-14T19:48:38.099Z"
   },
   {
    "duration": 55,
    "start_time": "2023-04-14T19:48:38.121Z"
   },
   {
    "duration": 22,
    "start_time": "2023-04-14T19:48:38.178Z"
   },
   {
    "duration": 6,
    "start_time": "2023-04-14T19:48:38.212Z"
   },
   {
    "duration": 163,
    "start_time": "2023-04-14T19:48:38.220Z"
   },
   {
    "duration": 675,
    "start_time": "2023-04-14T19:48:38.385Z"
   },
   {
    "duration": 760,
    "start_time": "2023-04-14T19:48:39.062Z"
   },
   {
    "duration": 31,
    "start_time": "2023-04-14T19:48:39.824Z"
   },
   {
    "duration": 31,
    "start_time": "2023-04-14T19:48:39.856Z"
   },
   {
    "duration": 62,
    "start_time": "2023-04-14T19:48:39.889Z"
   },
   {
    "duration": 407,
    "start_time": "2023-04-14T19:48:39.953Z"
   },
   {
    "duration": 385,
    "start_time": "2023-04-14T19:48:40.363Z"
   },
   {
    "duration": 394,
    "start_time": "2023-04-14T19:48:40.750Z"
   },
   {
    "duration": 232,
    "start_time": "2023-04-14T19:54:15.580Z"
   },
   {
    "duration": 219,
    "start_time": "2023-04-14T19:54:40.073Z"
   },
   {
    "duration": 203,
    "start_time": "2023-04-14T19:55:15.428Z"
   },
   {
    "duration": 28,
    "start_time": "2023-04-14T19:55:19.725Z"
   },
   {
    "duration": 29,
    "start_time": "2023-04-14T19:55:20.428Z"
   },
   {
    "duration": 44,
    "start_time": "2023-04-14T19:55:21.106Z"
   },
   {
    "duration": 392,
    "start_time": "2023-04-14T19:55:21.773Z"
   },
   {
    "duration": 1244,
    "start_time": "2023-04-14T19:55:27.324Z"
   },
   {
    "duration": 165,
    "start_time": "2023-04-14T19:55:28.570Z"
   },
   {
    "duration": 13,
    "start_time": "2023-04-14T19:55:28.737Z"
   },
   {
    "duration": 147,
    "start_time": "2023-04-14T19:55:28.752Z"
   },
   {
    "duration": 12,
    "start_time": "2023-04-14T19:55:28.901Z"
   },
   {
    "duration": 168,
    "start_time": "2023-04-14T19:55:28.915Z"
   },
   {
    "duration": 12,
    "start_time": "2023-04-14T19:55:29.085Z"
   },
   {
    "duration": 17,
    "start_time": "2023-04-14T19:55:29.099Z"
   },
   {
    "duration": 67,
    "start_time": "2023-04-14T19:55:29.118Z"
   },
   {
    "duration": 58,
    "start_time": "2023-04-14T19:55:29.189Z"
   },
   {
    "duration": 5,
    "start_time": "2023-04-14T19:55:29.250Z"
   },
   {
    "duration": 185,
    "start_time": "2023-04-14T19:55:29.257Z"
   },
   {
    "duration": 534,
    "start_time": "2023-04-14T19:55:29.444Z"
   },
   {
    "duration": 214,
    "start_time": "2023-04-14T19:55:29.980Z"
   },
   {
    "duration": 52,
    "start_time": "2023-04-14T19:55:30.196Z"
   },
   {
    "duration": 48,
    "start_time": "2023-04-14T19:55:30.249Z"
   },
   {
    "duration": 46,
    "start_time": "2023-04-14T19:55:30.299Z"
   },
   {
    "duration": 463,
    "start_time": "2023-04-14T19:55:30.347Z"
   },
   {
    "duration": 423,
    "start_time": "2023-04-14T19:55:30.812Z"
   },
   {
    "duration": 402,
    "start_time": "2023-04-14T19:55:31.237Z"
   },
   {
    "duration": 1319,
    "start_time": "2023-04-14T20:00:46.438Z"
   },
   {
    "duration": 165,
    "start_time": "2023-04-14T20:00:47.761Z"
   },
   {
    "duration": 16,
    "start_time": "2023-04-14T20:00:47.929Z"
   },
   {
    "duration": 142,
    "start_time": "2023-04-14T20:00:47.946Z"
   },
   {
    "duration": 9,
    "start_time": "2023-04-14T20:00:48.091Z"
   },
   {
    "duration": 160,
    "start_time": "2023-04-14T20:00:48.101Z"
   },
   {
    "duration": 10,
    "start_time": "2023-04-14T20:00:48.262Z"
   },
   {
    "duration": 13,
    "start_time": "2023-04-14T20:00:48.274Z"
   },
   {
    "duration": 65,
    "start_time": "2023-04-14T20:00:48.289Z"
   },
   {
    "duration": 23,
    "start_time": "2023-04-14T20:00:48.356Z"
   },
   {
    "duration": 18,
    "start_time": "2023-04-14T20:00:48.380Z"
   },
   {
    "duration": 167,
    "start_time": "2023-04-14T20:00:48.412Z"
   },
   {
    "duration": 123,
    "start_time": "2023-04-14T20:00:48.581Z"
   },
   {
    "duration": 225,
    "start_time": "2023-04-14T20:00:48.713Z"
   },
   {
    "duration": 41,
    "start_time": "2023-04-14T20:00:48.940Z"
   },
   {
    "duration": 4,
    "start_time": "2023-04-14T20:00:48.983Z"
   },
   {
    "duration": 49,
    "start_time": "2023-04-14T20:00:49.013Z"
   },
   {
    "duration": 70,
    "start_time": "2023-04-14T20:00:49.065Z"
   },
   {
    "duration": 435,
    "start_time": "2023-04-14T20:00:49.137Z"
   },
   {
    "duration": 384,
    "start_time": "2023-04-14T20:00:49.574Z"
   },
   {
    "duration": 392,
    "start_time": "2023-04-14T20:00:49.960Z"
   },
   {
    "duration": 223,
    "start_time": "2023-04-14T20:02:31.867Z"
   },
   {
    "duration": 1205,
    "start_time": "2023-04-14T20:03:26.965Z"
   },
   {
    "duration": 158,
    "start_time": "2023-04-14T20:03:28.172Z"
   },
   {
    "duration": 15,
    "start_time": "2023-04-14T20:03:28.331Z"
   },
   {
    "duration": 141,
    "start_time": "2023-04-14T20:03:28.348Z"
   },
   {
    "duration": 10,
    "start_time": "2023-04-14T20:03:28.490Z"
   },
   {
    "duration": 148,
    "start_time": "2023-04-14T20:03:28.511Z"
   },
   {
    "duration": 12,
    "start_time": "2023-04-14T20:03:28.660Z"
   },
   {
    "duration": 6,
    "start_time": "2023-04-14T20:03:28.673Z"
   },
   {
    "duration": 66,
    "start_time": "2023-04-14T20:03:28.681Z"
   },
   {
    "duration": 23,
    "start_time": "2023-04-14T20:03:28.749Z"
   },
   {
    "duration": 5,
    "start_time": "2023-04-14T20:03:28.774Z"
   },
   {
    "duration": 203,
    "start_time": "2023-04-14T20:03:28.781Z"
   },
   {
    "duration": 382,
    "start_time": "2023-04-14T20:03:28.986Z"
   },
   {
    "duration": 45,
    "start_time": "2023-04-14T20:03:29.370Z"
   },
   {
    "duration": 5,
    "start_time": "2023-04-14T20:03:29.417Z"
   },
   {
    "duration": 36,
    "start_time": "2023-04-14T20:03:29.424Z"
   },
   {
    "duration": 68,
    "start_time": "2023-04-14T20:03:29.462Z"
   },
   {
    "duration": 429,
    "start_time": "2023-04-14T20:03:29.532Z"
   },
   {
    "duration": 388,
    "start_time": "2023-04-14T20:03:29.963Z"
   },
   {
    "duration": 412,
    "start_time": "2023-04-14T20:03:30.353Z"
   },
   {
    "duration": 99,
    "start_time": "2023-04-14T20:24:55.623Z"
   },
   {
    "duration": 3,
    "start_time": "2023-04-14T20:25:04.301Z"
   },
   {
    "duration": 78,
    "start_time": "2023-04-14T20:25:04.987Z"
   },
   {
    "duration": 4,
    "start_time": "2023-04-14T20:25:16.983Z"
   },
   {
    "duration": 461,
    "start_time": "2023-04-14T20:25:19.042Z"
   },
   {
    "duration": 149,
    "start_time": "2023-04-14T20:25:44.416Z"
   },
   {
    "duration": 1206,
    "start_time": "2023-04-14T20:26:07.128Z"
   },
   {
    "duration": 149,
    "start_time": "2023-04-14T20:26:08.337Z"
   },
   {
    "duration": 25,
    "start_time": "2023-04-14T20:26:08.488Z"
   },
   {
    "duration": 127,
    "start_time": "2023-04-14T20:26:08.515Z"
   },
   {
    "duration": 10,
    "start_time": "2023-04-14T20:26:08.644Z"
   },
   {
    "duration": 138,
    "start_time": "2023-04-14T20:26:08.656Z"
   },
   {
    "duration": 16,
    "start_time": "2023-04-14T20:26:08.798Z"
   },
   {
    "duration": 9,
    "start_time": "2023-04-14T20:26:08.816Z"
   },
   {
    "duration": 59,
    "start_time": "2023-04-14T20:26:08.827Z"
   },
   {
    "duration": 39,
    "start_time": "2023-04-14T20:26:08.911Z"
   },
   {
    "duration": 5,
    "start_time": "2023-04-14T20:26:08.952Z"
   },
   {
    "duration": 187,
    "start_time": "2023-04-14T20:26:08.959Z"
   },
   {
    "duration": 281,
    "start_time": "2023-04-14T20:26:09.148Z"
   },
   {
    "duration": 31,
    "start_time": "2023-04-14T20:26:09.431Z"
   },
   {
    "duration": 48,
    "start_time": "2023-04-14T20:26:09.464Z"
   },
   {
    "duration": 27,
    "start_time": "2023-04-14T20:26:09.515Z"
   },
   {
    "duration": 4,
    "start_time": "2023-04-14T20:26:09.543Z"
   },
   {
    "duration": 258,
    "start_time": "2023-04-14T20:26:09.548Z"
   },
   {
    "duration": 0,
    "start_time": "2023-04-14T20:26:09.807Z"
   },
   {
    "duration": 0,
    "start_time": "2023-04-14T20:26:09.812Z"
   },
   {
    "duration": 0,
    "start_time": "2023-04-14T20:26:09.813Z"
   },
   {
    "duration": 1239,
    "start_time": "2023-04-14T20:29:08.063Z"
   },
   {
    "duration": 143,
    "start_time": "2023-04-14T20:29:09.304Z"
   },
   {
    "duration": 14,
    "start_time": "2023-04-14T20:29:09.448Z"
   },
   {
    "duration": 126,
    "start_time": "2023-04-14T20:29:09.465Z"
   },
   {
    "duration": 9,
    "start_time": "2023-04-14T20:29:09.593Z"
   },
   {
    "duration": 145,
    "start_time": "2023-04-14T20:29:09.603Z"
   },
   {
    "duration": 9,
    "start_time": "2023-04-14T20:29:09.750Z"
   },
   {
    "duration": 8,
    "start_time": "2023-04-14T20:29:09.761Z"
   },
   {
    "duration": 51,
    "start_time": "2023-04-14T20:29:09.771Z"
   },
   {
    "duration": 22,
    "start_time": "2023-04-14T20:29:09.824Z"
   },
   {
    "duration": 4,
    "start_time": "2023-04-14T20:29:09.848Z"
   },
   {
    "duration": 173,
    "start_time": "2023-04-14T20:29:09.854Z"
   },
   {
    "duration": 290,
    "start_time": "2023-04-14T20:29:10.029Z"
   },
   {
    "duration": 35,
    "start_time": "2023-04-14T20:29:10.321Z"
   },
   {
    "duration": 29,
    "start_time": "2023-04-14T20:29:10.358Z"
   },
   {
    "duration": 80,
    "start_time": "2023-04-14T20:29:10.389Z"
   },
   {
    "duration": 6,
    "start_time": "2023-04-14T20:29:10.471Z"
   },
   {
    "duration": 245,
    "start_time": "2023-04-14T20:29:10.479Z"
   },
   {
    "duration": 0,
    "start_time": "2023-04-14T20:29:10.726Z"
   },
   {
    "duration": 0,
    "start_time": "2023-04-14T20:29:10.727Z"
   },
   {
    "duration": 0,
    "start_time": "2023-04-14T20:29:10.729Z"
   },
   {
    "duration": 118,
    "start_time": "2023-04-14T20:29:29.255Z"
   },
   {
    "duration": 1161,
    "start_time": "2023-04-14T20:29:37.371Z"
   },
   {
    "duration": 145,
    "start_time": "2023-04-14T20:29:38.534Z"
   },
   {
    "duration": 14,
    "start_time": "2023-04-14T20:29:38.681Z"
   },
   {
    "duration": 131,
    "start_time": "2023-04-14T20:29:38.697Z"
   },
   {
    "duration": 12,
    "start_time": "2023-04-14T20:29:38.830Z"
   },
   {
    "duration": 198,
    "start_time": "2023-04-14T20:29:38.844Z"
   },
   {
    "duration": 11,
    "start_time": "2023-04-14T20:29:39.044Z"
   },
   {
    "duration": 6,
    "start_time": "2023-04-14T20:29:39.056Z"
   },
   {
    "duration": 59,
    "start_time": "2023-04-14T20:29:39.064Z"
   },
   {
    "duration": 24,
    "start_time": "2023-04-14T20:29:39.126Z"
   },
   {
    "duration": 5,
    "start_time": "2023-04-14T20:29:39.152Z"
   },
   {
    "duration": 175,
    "start_time": "2023-04-14T20:29:39.159Z"
   },
   {
    "duration": 259,
    "start_time": "2023-04-14T20:29:39.335Z"
   },
   {
    "duration": 39,
    "start_time": "2023-04-14T20:29:39.596Z"
   },
   {
    "duration": 28,
    "start_time": "2023-04-14T20:29:39.637Z"
   },
   {
    "duration": 56,
    "start_time": "2023-04-14T20:29:39.667Z"
   },
   {
    "duration": 4,
    "start_time": "2023-04-14T20:29:39.725Z"
   },
   {
    "duration": 254,
    "start_time": "2023-04-14T20:29:39.732Z"
   },
   {
    "duration": 0,
    "start_time": "2023-04-14T20:29:39.988Z"
   },
   {
    "duration": 0,
    "start_time": "2023-04-14T20:29:39.990Z"
   },
   {
    "duration": 0,
    "start_time": "2023-04-14T20:29:39.992Z"
   },
   {
    "duration": 1267,
    "start_time": "2023-04-14T20:33:50.388Z"
   },
   {
    "duration": 146,
    "start_time": "2023-04-14T20:33:51.657Z"
   },
   {
    "duration": 25,
    "start_time": "2023-04-14T20:33:51.805Z"
   },
   {
    "duration": 158,
    "start_time": "2023-04-14T20:33:51.832Z"
   },
   {
    "duration": 10,
    "start_time": "2023-04-14T20:33:51.993Z"
   },
   {
    "duration": 144,
    "start_time": "2023-04-14T20:33:52.013Z"
   },
   {
    "duration": 10,
    "start_time": "2023-04-14T20:33:52.159Z"
   },
   {
    "duration": 18,
    "start_time": "2023-04-14T20:33:52.172Z"
   },
   {
    "duration": 54,
    "start_time": "2023-04-14T20:33:52.193Z"
   },
   {
    "duration": 27,
    "start_time": "2023-04-14T20:33:52.250Z"
   },
   {
    "duration": 10,
    "start_time": "2023-04-14T20:33:52.279Z"
   },
   {
    "duration": 196,
    "start_time": "2023-04-14T20:33:52.291Z"
   },
   {
    "duration": 291,
    "start_time": "2023-04-14T20:33:52.489Z"
   },
   {
    "duration": 3,
    "start_time": "2023-04-14T20:33:52.783Z"
   },
   {
    "duration": 8,
    "start_time": "2023-04-14T20:33:52.788Z"
   },
   {
    "duration": 3,
    "start_time": "2023-04-14T20:33:52.811Z"
   },
   {
    "duration": 457,
    "start_time": "2023-04-14T20:33:52.817Z"
   },
   {
    "duration": 377,
    "start_time": "2023-04-14T20:33:53.277Z"
   },
   {
    "duration": 408,
    "start_time": "2023-04-14T20:33:53.656Z"
   },
   {
    "duration": 373,
    "start_time": "2023-04-14T20:35:58.895Z"
   },
   {
    "duration": 97,
    "start_time": "2023-04-14T20:36:04.307Z"
   },
   {
    "duration": 258,
    "start_time": "2023-04-14T20:36:05.330Z"
   },
   {
    "duration": 1230,
    "start_time": "2023-04-14T20:36:17.046Z"
   },
   {
    "duration": 171,
    "start_time": "2023-04-14T20:36:18.278Z"
   },
   {
    "duration": 16,
    "start_time": "2023-04-14T20:36:18.451Z"
   },
   {
    "duration": 145,
    "start_time": "2023-04-14T20:36:18.469Z"
   },
   {
    "duration": 15,
    "start_time": "2023-04-14T20:36:18.617Z"
   },
   {
    "duration": 155,
    "start_time": "2023-04-14T20:36:18.634Z"
   },
   {
    "duration": 19,
    "start_time": "2023-04-14T20:36:18.791Z"
   },
   {
    "duration": 7,
    "start_time": "2023-04-14T20:36:18.812Z"
   },
   {
    "duration": 57,
    "start_time": "2023-04-14T20:36:18.821Z"
   },
   {
    "duration": 63,
    "start_time": "2023-04-14T20:36:18.880Z"
   },
   {
    "duration": 6,
    "start_time": "2023-04-14T20:36:18.946Z"
   },
   {
    "duration": 222,
    "start_time": "2023-04-14T20:36:18.954Z"
   },
   {
    "duration": 349,
    "start_time": "2023-04-14T20:36:19.178Z"
   },
   {
    "duration": 3,
    "start_time": "2023-04-14T20:36:19.531Z"
   },
   {
    "duration": 4,
    "start_time": "2023-04-14T20:36:19.536Z"
   },
   {
    "duration": 6,
    "start_time": "2023-04-14T20:36:19.543Z"
   },
   {
    "duration": 126,
    "start_time": "2023-04-14T20:36:19.551Z"
   },
   {
    "duration": 307,
    "start_time": "2023-04-14T20:36:19.678Z"
   },
   {
    "duration": 404,
    "start_time": "2023-04-14T20:36:19.987Z"
   },
   {
    "duration": 379,
    "start_time": "2023-04-14T20:36:20.392Z"
   },
   {
    "duration": 390,
    "start_time": "2023-04-14T20:36:20.773Z"
   },
   {
    "duration": 1259,
    "start_time": "2023-04-14T20:37:13.657Z"
   },
   {
    "duration": 160,
    "start_time": "2023-04-14T20:37:14.923Z"
   },
   {
    "duration": 14,
    "start_time": "2023-04-14T20:37:15.084Z"
   },
   {
    "duration": 166,
    "start_time": "2023-04-14T20:37:15.100Z"
   },
   {
    "duration": 9,
    "start_time": "2023-04-14T20:37:15.268Z"
   },
   {
    "duration": 158,
    "start_time": "2023-04-14T20:37:15.280Z"
   },
   {
    "duration": 11,
    "start_time": "2023-04-14T20:37:15.440Z"
   },
   {
    "duration": 12,
    "start_time": "2023-04-14T20:37:15.452Z"
   },
   {
    "duration": 50,
    "start_time": "2023-04-14T20:37:15.466Z"
   },
   {
    "duration": 28,
    "start_time": "2023-04-14T20:37:15.519Z"
   },
   {
    "duration": 5,
    "start_time": "2023-04-14T20:37:15.548Z"
   },
   {
    "duration": 170,
    "start_time": "2023-04-14T20:37:15.554Z"
   },
   {
    "duration": 324,
    "start_time": "2023-04-14T20:37:15.726Z"
   },
   {
    "duration": 3,
    "start_time": "2023-04-14T20:37:16.053Z"
   },
   {
    "duration": 5,
    "start_time": "2023-04-14T20:37:16.058Z"
   },
   {
    "duration": 4,
    "start_time": "2023-04-14T20:37:16.065Z"
   },
   {
    "duration": 225,
    "start_time": "2023-04-14T20:37:16.072Z"
   },
   {
    "duration": 377,
    "start_time": "2023-04-14T20:37:16.299Z"
   },
   {
    "duration": 411,
    "start_time": "2023-04-14T20:37:16.678Z"
   },
   {
    "duration": 391,
    "start_time": "2023-04-14T20:37:17.091Z"
   },
   {
    "duration": 387,
    "start_time": "2023-04-14T20:37:17.485Z"
   },
   {
    "duration": 312,
    "start_time": "2023-04-14T20:39:50.972Z"
   },
   {
    "duration": 114,
    "start_time": "2023-04-14T20:40:24.909Z"
   },
   {
    "duration": 111,
    "start_time": "2023-04-14T20:40:57.172Z"
   },
   {
    "duration": 1212,
    "start_time": "2023-04-14T20:42:21.123Z"
   },
   {
    "duration": 158,
    "start_time": "2023-04-14T20:42:22.337Z"
   },
   {
    "duration": 20,
    "start_time": "2023-04-14T20:42:22.497Z"
   },
   {
    "duration": 160,
    "start_time": "2023-04-14T20:42:22.520Z"
   },
   {
    "duration": 11,
    "start_time": "2023-04-14T20:42:22.685Z"
   },
   {
    "duration": 142,
    "start_time": "2023-04-14T20:42:22.698Z"
   },
   {
    "duration": 14,
    "start_time": "2023-04-14T20:42:22.842Z"
   },
   {
    "duration": 23,
    "start_time": "2023-04-14T20:42:22.858Z"
   },
   {
    "duration": 43,
    "start_time": "2023-04-14T20:42:22.883Z"
   },
   {
    "duration": 24,
    "start_time": "2023-04-14T20:42:22.928Z"
   },
   {
    "duration": 6,
    "start_time": "2023-04-14T20:42:22.954Z"
   },
   {
    "duration": 190,
    "start_time": "2023-04-14T20:42:22.962Z"
   },
   {
    "duration": 313,
    "start_time": "2023-04-14T20:42:23.154Z"
   },
   {
    "duration": 3,
    "start_time": "2023-04-14T20:42:23.469Z"
   },
   {
    "duration": 8,
    "start_time": "2023-04-14T20:42:23.473Z"
   },
   {
    "duration": 4,
    "start_time": "2023-04-14T20:42:23.483Z"
   },
   {
    "duration": 162,
    "start_time": "2023-04-14T20:42:23.489Z"
   },
   {
    "duration": 353,
    "start_time": "2023-04-14T20:42:23.652Z"
   },
   {
    "duration": 450,
    "start_time": "2023-04-14T20:42:24.012Z"
   },
   {
    "duration": 397,
    "start_time": "2023-04-14T20:42:24.464Z"
   },
   {
    "duration": 377,
    "start_time": "2023-04-14T20:42:24.863Z"
   },
   {
    "duration": 1175,
    "start_time": "2023-04-14T20:44:25.349Z"
   },
   {
    "duration": 143,
    "start_time": "2023-04-14T20:44:26.527Z"
   },
   {
    "duration": 17,
    "start_time": "2023-04-14T20:44:26.672Z"
   },
   {
    "duration": 158,
    "start_time": "2023-04-14T20:44:26.693Z"
   },
   {
    "duration": 13,
    "start_time": "2023-04-14T20:44:26.853Z"
   },
   {
    "duration": 152,
    "start_time": "2023-04-14T20:44:26.868Z"
   },
   {
    "duration": 10,
    "start_time": "2023-04-14T20:44:27.022Z"
   },
   {
    "duration": 5,
    "start_time": "2023-04-14T20:44:27.034Z"
   },
   {
    "duration": 38,
    "start_time": "2023-04-14T20:44:27.040Z"
   },
   {
    "duration": 23,
    "start_time": "2023-04-14T20:44:27.112Z"
   },
   {
    "duration": 5,
    "start_time": "2023-04-14T20:44:27.136Z"
   },
   {
    "duration": 169,
    "start_time": "2023-04-14T20:44:27.143Z"
   },
   {
    "duration": 289,
    "start_time": "2023-04-14T20:44:27.314Z"
   },
   {
    "duration": 29,
    "start_time": "2023-04-14T20:44:27.612Z"
   },
   {
    "duration": 28,
    "start_time": "2023-04-14T20:44:27.643Z"
   },
   {
    "duration": 47,
    "start_time": "2023-04-14T20:44:27.673Z"
   },
   {
    "duration": 465,
    "start_time": "2023-04-14T20:44:27.722Z"
   },
   {
    "duration": 396,
    "start_time": "2023-04-14T20:44:28.189Z"
   },
   {
    "duration": 415,
    "start_time": "2023-04-14T20:44:28.587Z"
   },
   {
    "duration": 362,
    "start_time": "2023-04-14T20:46:02.200Z"
   },
   {
    "duration": 21,
    "start_time": "2023-04-14T20:47:14.425Z"
   },
   {
    "duration": 79,
    "start_time": "2023-04-14T20:47:34.623Z"
   },
   {
    "duration": 90,
    "start_time": "2023-04-14T20:48:07.489Z"
   },
   {
    "duration": 32,
    "start_time": "2023-04-14T20:48:24.310Z"
   },
   {
    "duration": 463,
    "start_time": "2023-04-14T20:50:00.456Z"
   },
   {
    "duration": 31,
    "start_time": "2023-04-14T20:50:33.277Z"
   },
   {
    "duration": 29,
    "start_time": "2023-04-14T20:50:44.060Z"
   },
   {
    "duration": 36,
    "start_time": "2023-04-14T20:50:47.480Z"
   },
   {
    "duration": 73,
    "start_time": "2023-04-14T21:00:35.635Z"
   },
   {
    "duration": 1213,
    "start_time": "2023-04-14T21:00:57.537Z"
   },
   {
    "duration": 177,
    "start_time": "2023-04-14T21:00:58.752Z"
   },
   {
    "duration": 19,
    "start_time": "2023-04-14T21:00:58.932Z"
   },
   {
    "duration": 151,
    "start_time": "2023-04-14T21:00:58.953Z"
   },
   {
    "duration": 13,
    "start_time": "2023-04-14T21:00:59.106Z"
   },
   {
    "duration": 138,
    "start_time": "2023-04-14T21:00:59.121Z"
   },
   {
    "duration": 11,
    "start_time": "2023-04-14T21:00:59.260Z"
   },
   {
    "duration": 6,
    "start_time": "2023-04-14T21:00:59.273Z"
   },
   {
    "duration": 58,
    "start_time": "2023-04-14T21:00:59.281Z"
   },
   {
    "duration": 23,
    "start_time": "2023-04-14T21:00:59.343Z"
   },
   {
    "duration": 5,
    "start_time": "2023-04-14T21:00:59.368Z"
   },
   {
    "duration": 177,
    "start_time": "2023-04-14T21:00:59.375Z"
   },
   {
    "duration": 471,
    "start_time": "2023-04-14T21:00:59.553Z"
   },
   {
    "duration": 29,
    "start_time": "2023-04-14T21:01:00.026Z"
   },
   {
    "duration": 30,
    "start_time": "2023-04-14T21:01:00.057Z"
   },
   {
    "duration": 55,
    "start_time": "2023-04-14T21:01:00.089Z"
   },
   {
    "duration": 105,
    "start_time": "2023-04-14T21:01:00.146Z"
   },
   {
    "duration": 427,
    "start_time": "2023-04-14T21:01:00.253Z"
   },
   {
    "duration": 377,
    "start_time": "2023-04-14T21:01:00.682Z"
   },
   {
    "duration": 360,
    "start_time": "2023-04-14T21:01:01.061Z"
   },
   {
    "duration": 52,
    "start_time": "2023-04-14T21:05:33.775Z"
   },
   {
    "duration": 52,
    "start_time": "2023-04-14T21:05:36.981Z"
   },
   {
    "duration": 1263,
    "start_time": "2023-04-14T21:07:39.121Z"
   },
   {
    "duration": 151,
    "start_time": "2023-04-14T21:07:40.385Z"
   },
   {
    "duration": 14,
    "start_time": "2023-04-14T21:07:40.538Z"
   },
   {
    "duration": 132,
    "start_time": "2023-04-14T21:07:40.554Z"
   },
   {
    "duration": 17,
    "start_time": "2023-04-14T21:07:40.688Z"
   },
   {
    "duration": 150,
    "start_time": "2023-04-14T21:07:40.712Z"
   },
   {
    "duration": 10,
    "start_time": "2023-04-14T21:07:40.865Z"
   },
   {
    "duration": 23,
    "start_time": "2023-04-14T21:07:40.877Z"
   },
   {
    "duration": 80,
    "start_time": "2023-04-14T21:07:40.903Z"
   },
   {
    "duration": 22,
    "start_time": "2023-04-14T21:07:40.986Z"
   },
   {
    "duration": 4,
    "start_time": "2023-04-14T21:07:41.012Z"
   },
   {
    "duration": 168,
    "start_time": "2023-04-14T21:07:41.018Z"
   },
   {
    "duration": 488,
    "start_time": "2023-04-14T21:07:41.188Z"
   },
   {
    "duration": 43,
    "start_time": "2023-04-14T21:07:41.678Z"
   },
   {
    "duration": 32,
    "start_time": "2023-04-14T21:07:41.723Z"
   },
   {
    "duration": 42,
    "start_time": "2023-04-14T21:07:41.756Z"
   },
   {
    "duration": 59,
    "start_time": "2023-04-14T21:07:41.812Z"
   },
   {
    "duration": 401,
    "start_time": "2023-04-14T21:07:41.872Z"
   },
   {
    "duration": 370,
    "start_time": "2023-04-14T21:07:42.274Z"
   },
   {
    "duration": 383,
    "start_time": "2023-04-14T21:07:42.646Z"
   },
   {
    "duration": 52,
    "start_time": "2023-04-14T21:08:31.215Z"
   },
   {
    "duration": 58,
    "start_time": "2023-04-14T21:09:43.288Z"
   },
   {
    "duration": 1187,
    "start_time": "2023-04-14T21:09:50.468Z"
   },
   {
    "duration": 148,
    "start_time": "2023-04-14T21:09:51.657Z"
   },
   {
    "duration": 14,
    "start_time": "2023-04-14T21:09:51.811Z"
   },
   {
    "duration": 137,
    "start_time": "2023-04-14T21:09:51.827Z"
   },
   {
    "duration": 10,
    "start_time": "2023-04-14T21:09:51.966Z"
   },
   {
    "duration": 150,
    "start_time": "2023-04-14T21:09:51.978Z"
   },
   {
    "duration": 10,
    "start_time": "2023-04-14T21:09:52.130Z"
   },
   {
    "duration": 25,
    "start_time": "2023-04-14T21:09:52.142Z"
   },
   {
    "duration": 64,
    "start_time": "2023-04-14T21:09:52.169Z"
   },
   {
    "duration": 23,
    "start_time": "2023-04-14T21:09:52.236Z"
   },
   {
    "duration": 5,
    "start_time": "2023-04-14T21:09:52.260Z"
   },
   {
    "duration": 171,
    "start_time": "2023-04-14T21:09:52.266Z"
   },
   {
    "duration": 504,
    "start_time": "2023-04-14T21:09:52.439Z"
   },
   {
    "duration": 34,
    "start_time": "2023-04-14T21:09:52.945Z"
   },
   {
    "duration": 52,
    "start_time": "2023-04-14T21:09:52.981Z"
   },
   {
    "duration": 39,
    "start_time": "2023-04-14T21:09:53.035Z"
   },
   {
    "duration": 87,
    "start_time": "2023-04-14T21:09:53.076Z"
   },
   {
    "duration": 403,
    "start_time": "2023-04-14T21:09:53.165Z"
   },
   {
    "duration": 383,
    "start_time": "2023-04-14T21:09:53.570Z"
   },
   {
    "duration": 401,
    "start_time": "2023-04-14T21:09:53.954Z"
   },
   {
    "duration": 66,
    "start_time": "2023-04-14T21:12:15.322Z"
   },
   {
    "duration": 86,
    "start_time": "2023-04-14T21:12:28.440Z"
   },
   {
    "duration": 76,
    "start_time": "2023-04-14T21:13:01.089Z"
   },
   {
    "duration": 56,
    "start_time": "2023-04-14T21:13:47.861Z"
   },
   {
    "duration": 55,
    "start_time": "2023-04-14T21:13:52.252Z"
   },
   {
    "duration": 1237,
    "start_time": "2023-04-14T21:14:04.589Z"
   },
   {
    "duration": 152,
    "start_time": "2023-04-14T21:14:05.828Z"
   },
   {
    "duration": 13,
    "start_time": "2023-04-14T21:14:05.982Z"
   },
   {
    "duration": 142,
    "start_time": "2023-04-14T21:14:05.997Z"
   },
   {
    "duration": 10,
    "start_time": "2023-04-14T21:14:06.141Z"
   },
   {
    "duration": 138,
    "start_time": "2023-04-14T21:14:06.152Z"
   },
   {
    "duration": 9,
    "start_time": "2023-04-14T21:14:06.292Z"
   },
   {
    "duration": 4,
    "start_time": "2023-04-14T21:14:06.311Z"
   },
   {
    "duration": 59,
    "start_time": "2023-04-14T21:14:06.317Z"
   },
   {
    "duration": 33,
    "start_time": "2023-04-14T21:14:06.379Z"
   },
   {
    "duration": 4,
    "start_time": "2023-04-14T21:14:06.414Z"
   },
   {
    "duration": 157,
    "start_time": "2023-04-14T21:14:06.420Z"
   },
   {
    "duration": 472,
    "start_time": "2023-04-14T21:14:06.578Z"
   },
   {
    "duration": 31,
    "start_time": "2023-04-14T21:14:07.052Z"
   },
   {
    "duration": 54,
    "start_time": "2023-04-14T21:14:07.084Z"
   },
   {
    "duration": 39,
    "start_time": "2023-04-14T21:14:07.140Z"
   },
   {
    "duration": 73,
    "start_time": "2023-04-14T21:14:07.181Z"
   },
   {
    "duration": 397,
    "start_time": "2023-04-14T21:14:07.256Z"
   },
   {
    "duration": 375,
    "start_time": "2023-04-14T21:14:07.655Z"
   },
   {
    "duration": 389,
    "start_time": "2023-04-14T21:14:08.031Z"
   },
   {
    "duration": 31,
    "start_time": "2023-04-14T21:15:34.643Z"
   },
   {
    "duration": 143,
    "start_time": "2023-04-14T21:27:01.572Z"
   },
   {
    "duration": 13,
    "start_time": "2023-04-14T21:27:06.921Z"
   },
   {
    "duration": 14,
    "start_time": "2023-04-14T21:27:23.888Z"
   },
   {
    "duration": 1242,
    "start_time": "2023-04-14T21:27:33.591Z"
   },
   {
    "duration": 140,
    "start_time": "2023-04-14T21:27:34.836Z"
   },
   {
    "duration": 13,
    "start_time": "2023-04-14T21:27:34.978Z"
   },
   {
    "duration": 128,
    "start_time": "2023-04-14T21:27:34.993Z"
   },
   {
    "duration": 9,
    "start_time": "2023-04-14T21:27:35.123Z"
   },
   {
    "duration": 138,
    "start_time": "2023-04-14T21:27:35.134Z"
   },
   {
    "duration": 10,
    "start_time": "2023-04-14T21:27:35.273Z"
   },
   {
    "duration": 20,
    "start_time": "2023-04-14T21:27:35.284Z"
   },
   {
    "duration": 37,
    "start_time": "2023-04-14T21:27:35.312Z"
   },
   {
    "duration": 22,
    "start_time": "2023-04-14T21:27:35.351Z"
   },
   {
    "duration": 11,
    "start_time": "2023-04-14T21:27:35.374Z"
   },
   {
    "duration": 159,
    "start_time": "2023-04-14T21:27:35.386Z"
   },
   {
    "duration": 450,
    "start_time": "2023-04-14T21:27:35.547Z"
   },
   {
    "duration": 39,
    "start_time": "2023-04-14T21:27:35.999Z"
   },
   {
    "duration": 37,
    "start_time": "2023-04-14T21:27:36.040Z"
   },
   {
    "duration": 46,
    "start_time": "2023-04-14T21:27:36.079Z"
   },
   {
    "duration": 55,
    "start_time": "2023-04-14T21:27:36.127Z"
   },
   {
    "duration": 407,
    "start_time": "2023-04-14T21:27:36.183Z"
   },
   {
    "duration": 355,
    "start_time": "2023-04-14T21:27:36.592Z"
   },
   {
    "duration": 396,
    "start_time": "2023-04-14T21:27:36.948Z"
   },
   {
    "duration": 1173,
    "start_time": "2023-04-14T21:27:53.271Z"
   },
   {
    "duration": 152,
    "start_time": "2023-04-14T21:27:54.447Z"
   },
   {
    "duration": 19,
    "start_time": "2023-04-14T21:27:54.601Z"
   },
   {
    "duration": 146,
    "start_time": "2023-04-14T21:27:54.622Z"
   },
   {
    "duration": 11,
    "start_time": "2023-04-14T21:27:54.770Z"
   },
   {
    "duration": 151,
    "start_time": "2023-04-14T21:27:54.782Z"
   },
   {
    "duration": 11,
    "start_time": "2023-04-14T21:27:54.935Z"
   },
   {
    "duration": 22,
    "start_time": "2023-04-14T21:27:54.947Z"
   },
   {
    "duration": 45,
    "start_time": "2023-04-14T21:27:54.971Z"
   },
   {
    "duration": 23,
    "start_time": "2023-04-14T21:27:55.019Z"
   },
   {
    "duration": 4,
    "start_time": "2023-04-14T21:27:55.044Z"
   },
   {
    "duration": 177,
    "start_time": "2023-04-14T21:27:55.049Z"
   },
   {
    "duration": 455,
    "start_time": "2023-04-14T21:27:55.228Z"
   },
   {
    "duration": 38,
    "start_time": "2023-04-14T21:27:55.685Z"
   },
   {
    "duration": 29,
    "start_time": "2023-04-14T21:27:55.724Z"
   },
   {
    "duration": 36,
    "start_time": "2023-04-14T21:27:55.755Z"
   },
   {
    "duration": 49,
    "start_time": "2023-04-14T21:27:55.812Z"
   },
   {
    "duration": 0,
    "start_time": "2023-04-14T21:27:55.863Z"
   },
   {
    "duration": 0,
    "start_time": "2023-04-14T21:27:55.865Z"
   },
   {
    "duration": 0,
    "start_time": "2023-04-14T21:27:55.866Z"
   },
   {
    "duration": 1207,
    "start_time": "2023-04-14T21:28:21.338Z"
   },
   {
    "duration": 152,
    "start_time": "2023-04-14T21:28:22.547Z"
   },
   {
    "duration": 21,
    "start_time": "2023-04-14T21:28:22.701Z"
   },
   {
    "duration": 137,
    "start_time": "2023-04-14T21:28:22.725Z"
   },
   {
    "duration": 10,
    "start_time": "2023-04-14T21:28:22.865Z"
   },
   {
    "duration": 134,
    "start_time": "2023-04-14T21:28:22.878Z"
   },
   {
    "duration": 10,
    "start_time": "2023-04-14T21:28:23.013Z"
   },
   {
    "duration": 12,
    "start_time": "2023-04-14T21:28:23.024Z"
   },
   {
    "duration": 41,
    "start_time": "2023-04-14T21:28:23.037Z"
   },
   {
    "duration": 47,
    "start_time": "2023-04-14T21:28:23.081Z"
   },
   {
    "duration": 5,
    "start_time": "2023-04-14T21:28:23.130Z"
   },
   {
    "duration": 166,
    "start_time": "2023-04-14T21:28:23.137Z"
   },
   {
    "duration": 490,
    "start_time": "2023-04-14T21:28:23.311Z"
   },
   {
    "duration": 40,
    "start_time": "2023-04-14T21:28:23.802Z"
   },
   {
    "duration": 31,
    "start_time": "2023-04-14T21:28:23.844Z"
   },
   {
    "duration": 84,
    "start_time": "2023-04-14T21:28:23.877Z"
   },
   {
    "duration": 165,
    "start_time": "2023-04-14T21:28:23.963Z"
   },
   {
    "duration": 0,
    "start_time": "2023-04-14T21:28:24.130Z"
   },
   {
    "duration": 0,
    "start_time": "2023-04-14T21:28:24.131Z"
   },
   {
    "duration": 0,
    "start_time": "2023-04-14T21:28:24.133Z"
   },
   {
    "duration": 10,
    "start_time": "2023-04-14T21:28:47.003Z"
   },
   {
    "duration": 10,
    "start_time": "2023-04-14T21:28:57.641Z"
   },
   {
    "duration": 1213,
    "start_time": "2023-04-14T21:29:04.686Z"
   },
   {
    "duration": 147,
    "start_time": "2023-04-14T21:29:05.901Z"
   },
   {
    "duration": 15,
    "start_time": "2023-04-14T21:29:06.049Z"
   },
   {
    "duration": 134,
    "start_time": "2023-04-14T21:29:06.066Z"
   },
   {
    "duration": 17,
    "start_time": "2023-04-14T21:29:06.203Z"
   },
   {
    "duration": 139,
    "start_time": "2023-04-14T21:29:06.222Z"
   },
   {
    "duration": 11,
    "start_time": "2023-04-14T21:29:06.363Z"
   },
   {
    "duration": 6,
    "start_time": "2023-04-14T21:29:06.376Z"
   },
   {
    "duration": 78,
    "start_time": "2023-04-14T21:29:06.384Z"
   },
   {
    "duration": 22,
    "start_time": "2023-04-14T21:29:06.466Z"
   },
   {
    "duration": 4,
    "start_time": "2023-04-14T21:29:06.490Z"
   },
   {
    "duration": 159,
    "start_time": "2023-04-14T21:29:06.512Z"
   },
   {
    "duration": 472,
    "start_time": "2023-04-14T21:29:06.673Z"
   },
   {
    "duration": 42,
    "start_time": "2023-04-14T21:29:07.147Z"
   },
   {
    "duration": 60,
    "start_time": "2023-04-14T21:29:07.191Z"
   },
   {
    "duration": 67,
    "start_time": "2023-04-14T21:29:07.253Z"
   },
   {
    "duration": 33,
    "start_time": "2023-04-14T21:29:07.322Z"
   },
   {
    "duration": 429,
    "start_time": "2023-04-14T21:29:07.357Z"
   },
   {
    "duration": 406,
    "start_time": "2023-04-14T21:29:07.788Z"
   },
   {
    "duration": 393,
    "start_time": "2023-04-14T21:29:08.196Z"
   },
   {
    "duration": 102,
    "start_time": "2023-04-14T21:30:03.661Z"
   },
   {
    "duration": 306,
    "start_time": "2023-04-14T21:31:41.438Z"
   },
   {
    "duration": 1214,
    "start_time": "2023-04-14T21:32:30.834Z"
   },
   {
    "duration": 146,
    "start_time": "2023-04-14T21:32:32.051Z"
   },
   {
    "duration": 17,
    "start_time": "2023-04-14T21:32:32.199Z"
   },
   {
    "duration": 134,
    "start_time": "2023-04-14T21:32:32.218Z"
   },
   {
    "duration": 10,
    "start_time": "2023-04-14T21:32:32.353Z"
   },
   {
    "duration": 133,
    "start_time": "2023-04-14T21:32:32.365Z"
   },
   {
    "duration": 14,
    "start_time": "2023-04-14T21:32:32.500Z"
   },
   {
    "duration": 41,
    "start_time": "2023-04-14T21:32:32.516Z"
   },
   {
    "duration": 59,
    "start_time": "2023-04-14T21:32:32.559Z"
   },
   {
    "duration": 22,
    "start_time": "2023-04-14T21:32:32.622Z"
   },
   {
    "duration": 9,
    "start_time": "2023-04-14T21:32:32.645Z"
   },
   {
    "duration": 187,
    "start_time": "2023-04-14T21:32:32.655Z"
   },
   {
    "duration": 480,
    "start_time": "2023-04-14T21:32:32.844Z"
   },
   {
    "duration": 33,
    "start_time": "2023-04-14T21:32:33.326Z"
   },
   {
    "duration": 57,
    "start_time": "2023-04-14T21:32:33.361Z"
   },
   {
    "duration": 38,
    "start_time": "2023-04-14T21:32:33.421Z"
   },
   {
    "duration": 357,
    "start_time": "2023-04-14T21:32:33.461Z"
   },
   {
    "duration": 409,
    "start_time": "2023-04-14T21:32:33.820Z"
   },
   {
    "duration": 391,
    "start_time": "2023-04-14T21:32:34.231Z"
   },
   {
    "duration": 424,
    "start_time": "2023-04-14T21:32:34.624Z"
   },
   {
    "duration": 1374,
    "start_time": "2023-04-17T05:27:46.034Z"
   },
   {
    "duration": 366,
    "start_time": "2023-04-17T05:27:47.410Z"
   },
   {
    "duration": 13,
    "start_time": "2023-04-17T05:27:47.778Z"
   },
   {
    "duration": 928,
    "start_time": "2023-04-17T05:27:47.792Z"
   },
   {
    "duration": 14,
    "start_time": "2023-04-17T05:27:48.723Z"
   },
   {
    "duration": 559,
    "start_time": "2023-04-17T05:27:48.739Z"
   },
   {
    "duration": 9,
    "start_time": "2023-04-17T05:27:49.300Z"
   },
   {
    "duration": 11,
    "start_time": "2023-04-17T05:27:49.311Z"
   },
   {
    "duration": 63,
    "start_time": "2023-04-17T05:27:49.324Z"
   },
   {
    "duration": 22,
    "start_time": "2023-04-17T05:27:49.388Z"
   },
   {
    "duration": 4,
    "start_time": "2023-04-17T05:27:49.412Z"
   },
   {
    "duration": 169,
    "start_time": "2023-04-17T05:27:49.418Z"
   },
   {
    "duration": 496,
    "start_time": "2023-04-17T05:27:49.588Z"
   },
   {
    "duration": 30,
    "start_time": "2023-04-17T05:27:50.087Z"
   },
   {
    "duration": 35,
    "start_time": "2023-04-17T05:27:50.119Z"
   },
   {
    "duration": 56,
    "start_time": "2023-04-17T05:27:50.156Z"
   },
   {
    "duration": 337,
    "start_time": "2023-04-17T05:27:50.213Z"
   },
   {
    "duration": 431,
    "start_time": "2023-04-17T05:27:50.552Z"
   },
   {
    "duration": 347,
    "start_time": "2023-04-17T05:27:50.985Z"
   },
   {
    "duration": 360,
    "start_time": "2023-04-17T05:27:51.334Z"
   },
   {
    "duration": 4,
    "start_time": "2023-04-17T05:32:57.817Z"
   },
   {
    "duration": 404,
    "start_time": "2023-04-17T05:48:29.522Z"
   },
   {
    "duration": 10,
    "start_time": "2023-04-17T05:51:12.950Z"
   },
   {
    "duration": 371,
    "start_time": "2023-04-17T05:51:24.995Z"
   },
   {
    "duration": 10,
    "start_time": "2023-04-17T05:52:17.569Z"
   },
   {
    "duration": 2180,
    "start_time": "2023-04-17T05:53:14.401Z"
   },
   {
    "duration": 938,
    "start_time": "2023-04-17T05:53:25.680Z"
   },
   {
    "duration": 399,
    "start_time": "2023-04-17T05:53:36.594Z"
   },
   {
    "duration": 382,
    "start_time": "2023-04-17T05:53:53.759Z"
   },
   {
    "duration": 1050,
    "start_time": "2023-04-17T05:53:59.822Z"
   },
   {
    "duration": 394,
    "start_time": "2023-04-17T05:54:21.247Z"
   },
   {
    "duration": 387,
    "start_time": "2023-04-17T05:54:45.826Z"
   },
   {
    "duration": 319,
    "start_time": "2023-04-17T05:54:56.016Z"
   },
   {
    "duration": 314,
    "start_time": "2023-04-17T05:55:04.399Z"
   },
   {
    "duration": 1054,
    "start_time": "2023-04-17T05:55:12.050Z"
   },
   {
    "duration": 9,
    "start_time": "2023-04-17T05:57:48.122Z"
   },
   {
    "duration": 4,
    "start_time": "2023-04-17T05:57:51.936Z"
   },
   {
    "duration": 12,
    "start_time": "2023-04-17T05:58:00.815Z"
   },
   {
    "duration": 903,
    "start_time": "2023-04-17T05:58:08.806Z"
   },
   {
    "duration": 716,
    "start_time": "2023-04-17T05:59:50.033Z"
   },
   {
    "duration": 724,
    "start_time": "2023-04-17T06:00:03.879Z"
   },
   {
    "duration": 912,
    "start_time": "2023-04-17T06:00:10.715Z"
   },
   {
    "duration": 407,
    "start_time": "2023-04-17T06:00:37.099Z"
   },
   {
    "duration": 370,
    "start_time": "2023-04-17T06:01:24.902Z"
   },
   {
    "duration": 954,
    "start_time": "2023-04-17T06:01:29.966Z"
   },
   {
    "duration": 923,
    "start_time": "2023-04-17T06:04:48.399Z"
   },
   {
    "duration": 80,
    "start_time": "2023-04-17T06:05:22.715Z"
   },
   {
    "duration": 329,
    "start_time": "2023-04-17T06:05:32.713Z"
   },
   {
    "duration": 4,
    "start_time": "2023-04-17T06:06:35.497Z"
   },
   {
    "duration": 1168,
    "start_time": "2023-04-17T06:07:12.832Z"
   },
   {
    "duration": 146,
    "start_time": "2023-04-17T06:07:14.002Z"
   },
   {
    "duration": 13,
    "start_time": "2023-04-17T06:07:14.149Z"
   },
   {
    "duration": 143,
    "start_time": "2023-04-17T06:07:14.164Z"
   },
   {
    "duration": 10,
    "start_time": "2023-04-17T06:07:14.309Z"
   },
   {
    "duration": 136,
    "start_time": "2023-04-17T06:07:14.320Z"
   },
   {
    "duration": 9,
    "start_time": "2023-04-17T06:07:14.457Z"
   },
   {
    "duration": 34,
    "start_time": "2023-04-17T06:07:14.467Z"
   },
   {
    "duration": 38,
    "start_time": "2023-04-17T06:07:14.503Z"
   },
   {
    "duration": 22,
    "start_time": "2023-04-17T06:07:14.543Z"
   },
   {
    "duration": 4,
    "start_time": "2023-04-17T06:07:14.567Z"
   },
   {
    "duration": 150,
    "start_time": "2023-04-17T06:07:14.585Z"
   },
   {
    "duration": 566,
    "start_time": "2023-04-17T06:07:14.737Z"
   },
   {
    "duration": 31,
    "start_time": "2023-04-17T06:07:15.307Z"
   },
   {
    "duration": 57,
    "start_time": "2023-04-17T06:07:15.340Z"
   },
   {
    "duration": 36,
    "start_time": "2023-04-17T06:07:15.399Z"
   },
   {
    "duration": 411,
    "start_time": "2023-04-17T06:07:15.436Z"
   },
   {
    "duration": 424,
    "start_time": "2023-04-17T06:07:15.848Z"
   },
   {
    "duration": 381,
    "start_time": "2023-04-17T06:07:16.274Z"
   },
   {
    "duration": 378,
    "start_time": "2023-04-17T06:07:16.656Z"
   },
   {
    "duration": 499,
    "start_time": "2023-04-17T06:07:17.035Z"
   },
   {
    "duration": 0,
    "start_time": "2023-04-17T06:07:17.535Z"
   },
   {
    "duration": 1309,
    "start_time": "2023-04-17T06:07:38.997Z"
   },
   {
    "duration": 154,
    "start_time": "2023-04-17T06:07:40.308Z"
   },
   {
    "duration": 34,
    "start_time": "2023-04-17T06:07:40.464Z"
   },
   {
    "duration": 134,
    "start_time": "2023-04-17T06:07:40.500Z"
   },
   {
    "duration": 10,
    "start_time": "2023-04-17T06:07:40.637Z"
   },
   {
    "duration": 147,
    "start_time": "2023-04-17T06:07:40.648Z"
   },
   {
    "duration": 9,
    "start_time": "2023-04-17T06:07:40.799Z"
   },
   {
    "duration": 7,
    "start_time": "2023-04-17T06:07:40.810Z"
   },
   {
    "duration": 41,
    "start_time": "2023-04-17T06:07:40.818Z"
   },
   {
    "duration": 48,
    "start_time": "2023-04-17T06:07:40.860Z"
   },
   {
    "duration": 11,
    "start_time": "2023-04-17T06:07:40.910Z"
   },
   {
    "duration": 147,
    "start_time": "2023-04-17T06:07:40.923Z"
   },
   {
    "duration": 481,
    "start_time": "2023-04-17T06:07:41.072Z"
   },
   {
    "duration": 49,
    "start_time": "2023-04-17T06:07:41.556Z"
   },
   {
    "duration": 37,
    "start_time": "2023-04-17T06:07:41.607Z"
   },
   {
    "duration": 53,
    "start_time": "2023-04-17T06:07:41.646Z"
   },
   {
    "duration": 375,
    "start_time": "2023-04-17T06:07:41.701Z"
   },
   {
    "duration": 440,
    "start_time": "2023-04-17T06:07:42.078Z"
   },
   {
    "duration": 385,
    "start_time": "2023-04-17T06:07:42.520Z"
   },
   {
    "duration": 400,
    "start_time": "2023-04-17T06:07:42.906Z"
   },
   {
    "duration": 959,
    "start_time": "2023-04-17T06:07:43.308Z"
   },
   {
    "duration": 5,
    "start_time": "2023-04-17T06:07:44.268Z"
   },
   {
    "duration": 5,
    "start_time": "2023-04-17T06:08:52.469Z"
   },
   {
    "duration": 1003,
    "start_time": "2023-04-17T06:09:12.708Z"
   },
   {
    "duration": 957,
    "start_time": "2023-04-17T06:09:29.853Z"
   },
   {
    "duration": 297,
    "start_time": "2023-04-17T06:10:00.431Z"
   },
   {
    "duration": 156,
    "start_time": "2023-04-17T06:10:16.469Z"
   },
   {
    "duration": 40,
    "start_time": "2023-04-17T06:11:26.384Z"
   },
   {
    "duration": 15,
    "start_time": "2023-04-17T06:11:34.403Z"
   },
   {
    "duration": 374,
    "start_time": "2023-04-17T06:11:57.272Z"
   },
   {
    "duration": 1009,
    "start_time": "2023-04-17T06:12:02.834Z"
   },
   {
    "duration": 1091,
    "start_time": "2023-04-17T06:12:14.935Z"
   },
   {
    "duration": 5,
    "start_time": "2023-04-17T06:12:25.711Z"
   },
   {
    "duration": 5,
    "start_time": "2023-04-17T06:12:30.968Z"
   },
   {
    "duration": 1308,
    "start_time": "2023-04-17T06:12:40.913Z"
   },
   {
    "duration": 167,
    "start_time": "2023-04-17T06:12:42.223Z"
   },
   {
    "duration": 13,
    "start_time": "2023-04-17T06:12:42.398Z"
   },
   {
    "duration": 134,
    "start_time": "2023-04-17T06:12:42.413Z"
   },
   {
    "duration": 10,
    "start_time": "2023-04-17T06:12:42.550Z"
   },
   {
    "duration": 148,
    "start_time": "2023-04-17T06:12:42.563Z"
   },
   {
    "duration": 9,
    "start_time": "2023-04-17T06:12:42.713Z"
   },
   {
    "duration": 8,
    "start_time": "2023-04-17T06:12:42.724Z"
   },
   {
    "duration": 68,
    "start_time": "2023-04-17T06:12:42.733Z"
   },
   {
    "duration": 22,
    "start_time": "2023-04-17T06:12:42.803Z"
   },
   {
    "duration": 4,
    "start_time": "2023-04-17T06:12:42.827Z"
   },
   {
    "duration": 158,
    "start_time": "2023-04-17T06:12:42.833Z"
   },
   {
    "duration": 479,
    "start_time": "2023-04-17T06:12:42.994Z"
   },
   {
    "duration": 43,
    "start_time": "2023-04-17T06:12:43.475Z"
   },
   {
    "duration": 54,
    "start_time": "2023-04-17T06:12:43.520Z"
   },
   {
    "duration": 56,
    "start_time": "2023-04-17T06:12:43.575Z"
   },
   {
    "duration": 344,
    "start_time": "2023-04-17T06:12:43.632Z"
   },
   {
    "duration": 430,
    "start_time": "2023-04-17T06:12:43.983Z"
   },
   {
    "duration": 388,
    "start_time": "2023-04-17T06:12:44.414Z"
   },
   {
    "duration": 419,
    "start_time": "2023-04-17T06:12:44.807Z"
   },
   {
    "duration": 998,
    "start_time": "2023-04-17T06:12:45.227Z"
   },
   {
    "duration": 4,
    "start_time": "2023-04-17T06:12:46.227Z"
   },
   {
    "duration": 1145,
    "start_time": "2023-04-17T06:14:15.873Z"
   },
   {
    "duration": 148,
    "start_time": "2023-04-17T06:14:17.020Z"
   },
   {
    "duration": 25,
    "start_time": "2023-04-17T06:14:17.170Z"
   },
   {
    "duration": 123,
    "start_time": "2023-04-17T06:14:17.202Z"
   },
   {
    "duration": 9,
    "start_time": "2023-04-17T06:14:17.326Z"
   },
   {
    "duration": 156,
    "start_time": "2023-04-17T06:14:17.337Z"
   },
   {
    "duration": 14,
    "start_time": "2023-04-17T06:14:17.497Z"
   },
   {
    "duration": 35,
    "start_time": "2023-04-17T06:14:17.513Z"
   },
   {
    "duration": 72,
    "start_time": "2023-04-17T06:14:17.550Z"
   },
   {
    "duration": 20,
    "start_time": "2023-04-17T06:14:17.624Z"
   },
   {
    "duration": 16,
    "start_time": "2023-04-17T06:14:17.645Z"
   },
   {
    "duration": 213,
    "start_time": "2023-04-17T06:14:17.663Z"
   },
   {
    "duration": 492,
    "start_time": "2023-04-17T06:14:17.882Z"
   },
   {
    "duration": 35,
    "start_time": "2023-04-17T06:14:18.376Z"
   },
   {
    "duration": 29,
    "start_time": "2023-04-17T06:14:18.413Z"
   },
   {
    "duration": 57,
    "start_time": "2023-04-17T06:14:18.443Z"
   },
   {
    "duration": 330,
    "start_time": "2023-04-17T06:14:18.502Z"
   },
   {
    "duration": 54,
    "start_time": "2023-04-17T06:14:18.833Z"
   },
   {
    "duration": 47,
    "start_time": "2023-04-17T06:14:18.888Z"
   },
   {
    "duration": 64,
    "start_time": "2023-04-17T06:14:18.937Z"
   },
   {
    "duration": 935,
    "start_time": "2023-04-17T06:14:19.003Z"
   },
   {
    "duration": 4,
    "start_time": "2023-04-17T06:14:19.939Z"
   },
   {
    "duration": 6,
    "start_time": "2023-04-17T06:15:02.309Z"
   },
   {
    "duration": 1254,
    "start_time": "2023-04-17T06:15:08.412Z"
   },
   {
    "duration": 180,
    "start_time": "2023-04-17T06:15:09.668Z"
   },
   {
    "duration": 15,
    "start_time": "2023-04-17T06:15:09.851Z"
   },
   {
    "duration": 151,
    "start_time": "2023-04-17T06:15:09.868Z"
   },
   {
    "duration": 10,
    "start_time": "2023-04-17T06:15:10.021Z"
   },
   {
    "duration": 151,
    "start_time": "2023-04-17T06:15:10.033Z"
   },
   {
    "duration": 13,
    "start_time": "2023-04-17T06:15:10.190Z"
   },
   {
    "duration": 11,
    "start_time": "2023-04-17T06:15:10.205Z"
   },
   {
    "duration": 42,
    "start_time": "2023-04-17T06:15:10.218Z"
   },
   {
    "duration": 44,
    "start_time": "2023-04-17T06:15:10.261Z"
   },
   {
    "duration": 6,
    "start_time": "2023-04-17T06:15:10.307Z"
   },
   {
    "duration": 186,
    "start_time": "2023-04-17T06:15:10.315Z"
   },
   {
    "duration": 509,
    "start_time": "2023-04-17T06:15:10.503Z"
   },
   {
    "duration": 30,
    "start_time": "2023-04-17T06:15:11.015Z"
   },
   {
    "duration": 55,
    "start_time": "2023-04-17T06:15:11.048Z"
   },
   {
    "duration": 53,
    "start_time": "2023-04-17T06:15:11.104Z"
   },
   {
    "duration": 372,
    "start_time": "2023-04-17T06:15:11.159Z"
   },
   {
    "duration": 69,
    "start_time": "2023-04-17T06:15:11.532Z"
   },
   {
    "duration": 48,
    "start_time": "2023-04-17T06:15:11.603Z"
   },
   {
    "duration": 82,
    "start_time": "2023-04-17T06:15:11.654Z"
   },
   {
    "duration": 1080,
    "start_time": "2023-04-17T06:15:11.738Z"
   },
   {
    "duration": 4,
    "start_time": "2023-04-17T06:15:12.821Z"
   },
   {
    "duration": 1226,
    "start_time": "2023-04-17T06:16:32.596Z"
   },
   {
    "duration": 141,
    "start_time": "2023-04-17T06:16:33.824Z"
   },
   {
    "duration": 27,
    "start_time": "2023-04-17T06:16:33.967Z"
   },
   {
    "duration": 130,
    "start_time": "2023-04-17T06:16:33.996Z"
   },
   {
    "duration": 9,
    "start_time": "2023-04-17T06:16:34.128Z"
   },
   {
    "duration": 137,
    "start_time": "2023-04-17T06:16:34.139Z"
   },
   {
    "duration": 16,
    "start_time": "2023-04-17T06:16:34.278Z"
   },
   {
    "duration": 7,
    "start_time": "2023-04-17T06:16:34.296Z"
   },
   {
    "duration": 49,
    "start_time": "2023-04-17T06:16:34.305Z"
   },
   {
    "duration": 48,
    "start_time": "2023-04-17T06:16:34.357Z"
   },
   {
    "duration": 3,
    "start_time": "2023-04-17T06:16:34.407Z"
   },
   {
    "duration": 143,
    "start_time": "2023-04-17T06:16:34.412Z"
   },
   {
    "duration": 569,
    "start_time": "2023-04-17T06:16:34.557Z"
   },
   {
    "duration": 29,
    "start_time": "2023-04-17T06:16:35.127Z"
   },
   {
    "duration": 45,
    "start_time": "2023-04-17T06:16:35.157Z"
   },
   {
    "duration": 37,
    "start_time": "2023-04-17T06:16:35.203Z"
   },
   {
    "duration": 327,
    "start_time": "2023-04-17T06:16:35.242Z"
   },
   {
    "duration": 18,
    "start_time": "2023-04-17T06:16:35.572Z"
   },
   {
    "duration": 50,
    "start_time": "2023-04-17T06:16:35.596Z"
   },
   {
    "duration": 47,
    "start_time": "2023-04-17T06:16:35.648Z"
   },
   {
    "duration": 43,
    "start_time": "2023-04-17T06:16:35.697Z"
   },
   {
    "duration": 1082,
    "start_time": "2023-04-17T06:16:35.742Z"
   },
   {
    "duration": 100,
    "start_time": "2023-04-17T06:24:27.776Z"
   },
   {
    "duration": 10,
    "start_time": "2023-04-17T06:24:47.753Z"
   },
   {
    "duration": 913,
    "start_time": "2023-04-17T06:26:20.412Z"
   },
   {
    "duration": 708,
    "start_time": "2023-04-17T06:31:31.113Z"
   },
   {
    "duration": 1271,
    "start_time": "2023-04-17T06:32:42.242Z"
   },
   {
    "duration": 1491,
    "start_time": "2023-04-17T06:33:41.531Z"
   },
   {
    "duration": 1314,
    "start_time": "2023-04-17T17:48:15.812Z"
   },
   {
    "duration": 503,
    "start_time": "2023-04-17T17:48:17.128Z"
   },
   {
    "duration": 15,
    "start_time": "2023-04-17T17:48:17.632Z"
   },
   {
    "duration": 903,
    "start_time": "2023-04-17T17:48:17.649Z"
   },
   {
    "duration": 11,
    "start_time": "2023-04-17T17:48:18.554Z"
   },
   {
    "duration": 523,
    "start_time": "2023-04-17T17:48:18.568Z"
   },
   {
    "duration": 10,
    "start_time": "2023-04-17T17:48:19.092Z"
   },
   {
    "duration": 8,
    "start_time": "2023-04-17T17:48:19.103Z"
   },
   {
    "duration": 41,
    "start_time": "2023-04-17T17:48:19.112Z"
   },
   {
    "duration": 34,
    "start_time": "2023-04-17T17:48:19.157Z"
   },
   {
    "duration": 4,
    "start_time": "2023-04-17T17:48:19.193Z"
   },
   {
    "duration": 157,
    "start_time": "2023-04-17T17:48:19.199Z"
   },
   {
    "duration": 447,
    "start_time": "2023-04-17T17:48:19.357Z"
   },
   {
    "duration": 28,
    "start_time": "2023-04-17T17:48:19.806Z"
   },
   {
    "duration": 50,
    "start_time": "2023-04-17T17:48:19.836Z"
   },
   {
    "duration": 32,
    "start_time": "2023-04-17T17:48:19.888Z"
   },
   {
    "duration": 328,
    "start_time": "2023-04-17T17:48:19.922Z"
   },
   {
    "duration": 5,
    "start_time": "2023-04-17T17:48:20.253Z"
   },
   {
    "duration": 63,
    "start_time": "2023-04-17T17:48:20.260Z"
   },
   {
    "duration": 64,
    "start_time": "2023-04-17T17:48:20.326Z"
   },
   {
    "duration": 44,
    "start_time": "2023-04-17T17:48:20.392Z"
   },
   {
    "duration": 1097,
    "start_time": "2023-04-17T17:48:20.438Z"
   },
   {
    "duration": 6,
    "start_time": "2023-04-17T17:50:20.162Z"
   },
   {
    "duration": 7,
    "start_time": "2023-04-17T17:50:35.100Z"
   },
   {
    "duration": 37,
    "start_time": "2023-04-17T17:53:36.166Z"
   },
   {
    "duration": 1110,
    "start_time": "2023-04-17T17:53:45.721Z"
   },
   {
    "duration": 135,
    "start_time": "2023-04-17T17:53:46.833Z"
   },
   {
    "duration": 15,
    "start_time": "2023-04-17T17:53:46.970Z"
   },
   {
    "duration": 137,
    "start_time": "2023-04-17T17:53:46.987Z"
   },
   {
    "duration": 9,
    "start_time": "2023-04-17T17:53:47.126Z"
   },
   {
    "duration": 131,
    "start_time": "2023-04-17T17:53:47.137Z"
   },
   {
    "duration": 9,
    "start_time": "2023-04-17T17:53:47.269Z"
   },
   {
    "duration": 21,
    "start_time": "2023-04-17T17:53:47.279Z"
   },
   {
    "duration": 17,
    "start_time": "2023-04-17T17:53:47.301Z"
   },
   {
    "duration": 50,
    "start_time": "2023-04-17T17:53:47.320Z"
   },
   {
    "duration": 19,
    "start_time": "2023-04-17T17:53:47.372Z"
   },
   {
    "duration": 11,
    "start_time": "2023-04-17T17:53:47.393Z"
   },
   {
    "duration": 138,
    "start_time": "2023-04-17T17:53:47.405Z"
   },
   {
    "duration": 441,
    "start_time": "2023-04-17T17:53:47.544Z"
   },
   {
    "duration": 25,
    "start_time": "2023-04-17T17:53:47.987Z"
   },
   {
    "duration": 33,
    "start_time": "2023-04-17T17:53:48.014Z"
   },
   {
    "duration": 47,
    "start_time": "2023-04-17T17:53:48.048Z"
   },
   {
    "duration": 333,
    "start_time": "2023-04-17T17:53:48.097Z"
   },
   {
    "duration": 4,
    "start_time": "2023-04-17T17:53:48.432Z"
   },
   {
    "duration": 65,
    "start_time": "2023-04-17T17:53:48.437Z"
   },
   {
    "duration": 38,
    "start_time": "2023-04-17T17:53:48.503Z"
   },
   {
    "duration": 59,
    "start_time": "2023-04-17T17:53:48.542Z"
   },
   {
    "duration": 939,
    "start_time": "2023-04-17T17:53:48.603Z"
   },
   {
    "duration": 23,
    "start_time": "2023-04-17T17:54:55.896Z"
   },
   {
    "duration": 1212,
    "start_time": "2023-04-17T17:55:38.001Z"
   },
   {
    "duration": 149,
    "start_time": "2023-04-17T17:55:39.216Z"
   },
   {
    "duration": 19,
    "start_time": "2023-04-17T17:55:39.367Z"
   },
   {
    "duration": 132,
    "start_time": "2023-04-17T17:55:39.388Z"
   },
   {
    "duration": 11,
    "start_time": "2023-04-17T17:55:39.522Z"
   },
   {
    "duration": 146,
    "start_time": "2023-04-17T17:55:39.534Z"
   },
   {
    "duration": 10,
    "start_time": "2023-04-17T17:55:39.682Z"
   },
   {
    "duration": 5,
    "start_time": "2023-04-17T17:55:39.693Z"
   },
   {
    "duration": 7,
    "start_time": "2023-04-17T17:55:39.699Z"
   },
   {
    "duration": 38,
    "start_time": "2023-04-17T17:55:39.708Z"
   },
   {
    "duration": 56,
    "start_time": "2023-04-17T17:55:39.748Z"
   },
   {
    "duration": 4,
    "start_time": "2023-04-17T17:55:39.805Z"
   },
   {
    "duration": 142,
    "start_time": "2023-04-17T17:55:39.811Z"
   },
   {
    "duration": 432,
    "start_time": "2023-04-17T17:55:39.954Z"
   },
   {
    "duration": 28,
    "start_time": "2023-04-17T17:55:40.388Z"
   },
   {
    "duration": 32,
    "start_time": "2023-04-17T17:55:40.418Z"
   },
   {
    "duration": 52,
    "start_time": "2023-04-17T17:55:40.452Z"
   },
   {
    "duration": 353,
    "start_time": "2023-04-17T17:55:40.505Z"
   },
   {
    "duration": 4,
    "start_time": "2023-04-17T17:55:40.860Z"
   },
   {
    "duration": 66,
    "start_time": "2023-04-17T17:55:40.865Z"
   },
   {
    "duration": 53,
    "start_time": "2023-04-17T17:55:40.932Z"
   },
   {
    "duration": 44,
    "start_time": "2023-04-17T17:55:40.987Z"
   },
   {
    "duration": 966,
    "start_time": "2023-04-17T17:55:41.033Z"
   },
   {
    "duration": 5,
    "start_time": "2023-04-17T17:56:40.647Z"
   },
   {
    "duration": 1117,
    "start_time": "2023-04-17T17:57:18.483Z"
   },
   {
    "duration": 139,
    "start_time": "2023-04-17T17:57:19.602Z"
   },
   {
    "duration": 13,
    "start_time": "2023-04-17T17:57:19.743Z"
   },
   {
    "duration": 120,
    "start_time": "2023-04-17T17:57:19.758Z"
   },
   {
    "duration": 11,
    "start_time": "2023-04-17T17:57:19.880Z"
   },
   {
    "duration": 124,
    "start_time": "2023-04-17T17:57:19.892Z"
   },
   {
    "duration": 10,
    "start_time": "2023-04-17T17:57:20.018Z"
   },
   {
    "duration": 6,
    "start_time": "2023-04-17T17:57:20.030Z"
   },
   {
    "duration": 12,
    "start_time": "2023-04-17T17:57:20.037Z"
   },
   {
    "duration": 52,
    "start_time": "2023-04-17T17:57:20.051Z"
   },
   {
    "duration": 21,
    "start_time": "2023-04-17T17:57:20.105Z"
   },
   {
    "duration": 4,
    "start_time": "2023-04-17T17:57:20.128Z"
   },
   {
    "duration": 160,
    "start_time": "2023-04-17T17:57:20.134Z"
   },
   {
    "duration": 411,
    "start_time": "2023-04-17T17:57:20.296Z"
   },
   {
    "duration": 28,
    "start_time": "2023-04-17T17:57:20.709Z"
   },
   {
    "duration": 27,
    "start_time": "2023-04-17T17:57:20.738Z"
   },
   {
    "duration": 33,
    "start_time": "2023-04-17T17:57:20.786Z"
   },
   {
    "duration": 334,
    "start_time": "2023-04-17T17:57:20.821Z"
   },
   {
    "duration": 4,
    "start_time": "2023-04-17T17:57:21.156Z"
   },
   {
    "duration": 62,
    "start_time": "2023-04-17T17:57:21.161Z"
   },
   {
    "duration": 41,
    "start_time": "2023-04-17T17:57:21.224Z"
   },
   {
    "duration": 53,
    "start_time": "2023-04-17T17:57:21.266Z"
   },
   {
    "duration": 953,
    "start_time": "2023-04-17T17:57:21.321Z"
   },
   {
    "duration": 404,
    "start_time": "2023-04-17T18:01:05.906Z"
   },
   {
    "duration": 1186,
    "start_time": "2023-04-17T18:01:15.318Z"
   },
   {
    "duration": 135,
    "start_time": "2023-04-17T18:01:16.506Z"
   },
   {
    "duration": 12,
    "start_time": "2023-04-17T18:01:16.643Z"
   },
   {
    "duration": 115,
    "start_time": "2023-04-17T18:01:16.657Z"
   },
   {
    "duration": 12,
    "start_time": "2023-04-17T18:01:16.774Z"
   },
   {
    "duration": 120,
    "start_time": "2023-04-17T18:01:16.788Z"
   },
   {
    "duration": 9,
    "start_time": "2023-04-17T18:01:16.909Z"
   },
   {
    "duration": 9,
    "start_time": "2023-04-17T18:01:16.919Z"
   },
   {
    "duration": 9,
    "start_time": "2023-04-17T18:01:16.929Z"
   },
   {
    "duration": 50,
    "start_time": "2023-04-17T18:01:16.940Z"
   },
   {
    "duration": 20,
    "start_time": "2023-04-17T18:01:16.991Z"
   },
   {
    "duration": 4,
    "start_time": "2023-04-17T18:01:17.013Z"
   },
   {
    "duration": 139,
    "start_time": "2023-04-17T18:01:17.018Z"
   },
   {
    "duration": 378,
    "start_time": "2023-04-17T18:01:17.159Z"
   },
   {
    "duration": 374,
    "start_time": "2023-04-17T18:01:17.539Z"
   },
   {
    "duration": 27,
    "start_time": "2023-04-17T18:01:17.915Z"
   },
   {
    "duration": 46,
    "start_time": "2023-04-17T18:01:17.944Z"
   },
   {
    "duration": 32,
    "start_time": "2023-04-17T18:01:17.992Z"
   },
   {
    "duration": 342,
    "start_time": "2023-04-17T18:01:18.025Z"
   },
   {
    "duration": 4,
    "start_time": "2023-04-17T18:01:18.369Z"
   },
   {
    "duration": 46,
    "start_time": "2023-04-17T18:01:18.385Z"
   },
   {
    "duration": 57,
    "start_time": "2023-04-17T18:01:18.433Z"
   },
   {
    "duration": 41,
    "start_time": "2023-04-17T18:01:18.492Z"
   },
   {
    "duration": 943,
    "start_time": "2023-04-17T18:01:18.534Z"
   },
   {
    "duration": 1203,
    "start_time": "2023-04-17T18:02:27.801Z"
   },
   {
    "duration": 139,
    "start_time": "2023-04-17T18:02:29.007Z"
   },
   {
    "duration": 15,
    "start_time": "2023-04-17T18:02:29.147Z"
   },
   {
    "duration": 124,
    "start_time": "2023-04-17T18:02:29.163Z"
   },
   {
    "duration": 10,
    "start_time": "2023-04-17T18:02:29.290Z"
   },
   {
    "duration": 131,
    "start_time": "2023-04-17T18:02:29.302Z"
   },
   {
    "duration": 11,
    "start_time": "2023-04-17T18:02:29.435Z"
   },
   {
    "duration": 4,
    "start_time": "2023-04-17T18:02:29.448Z"
   },
   {
    "duration": 8,
    "start_time": "2023-04-17T18:02:29.453Z"
   },
   {
    "duration": 54,
    "start_time": "2023-04-17T18:02:29.462Z"
   },
   {
    "duration": 20,
    "start_time": "2023-04-17T18:02:29.517Z"
   },
   {
    "duration": 5,
    "start_time": "2023-04-17T18:02:29.538Z"
   },
   {
    "duration": 159,
    "start_time": "2023-04-17T18:02:29.544Z"
   },
   {
    "duration": 409,
    "start_time": "2023-04-17T18:02:29.706Z"
   },
   {
    "duration": 28,
    "start_time": "2023-04-17T18:02:30.117Z"
   },
   {
    "duration": 48,
    "start_time": "2023-04-17T18:02:30.146Z"
   },
   {
    "duration": 47,
    "start_time": "2023-04-17T18:02:30.195Z"
   },
   {
    "duration": 364,
    "start_time": "2023-04-17T18:02:30.244Z"
   },
   {
    "duration": 5,
    "start_time": "2023-04-17T18:02:30.610Z"
   },
   {
    "duration": 69,
    "start_time": "2023-04-17T18:02:30.617Z"
   },
   {
    "duration": 48,
    "start_time": "2023-04-17T18:02:30.687Z"
   },
   {
    "duration": 65,
    "start_time": "2023-04-17T18:02:30.737Z"
   },
   {
    "duration": 905,
    "start_time": "2023-04-17T18:02:30.804Z"
   },
   {
    "duration": 1259,
    "start_time": "2023-04-17T18:03:27.763Z"
   },
   {
    "duration": 143,
    "start_time": "2023-04-17T18:03:29.024Z"
   },
   {
    "duration": 19,
    "start_time": "2023-04-17T18:03:29.169Z"
   },
   {
    "duration": 127,
    "start_time": "2023-04-17T18:03:29.190Z"
   },
   {
    "duration": 9,
    "start_time": "2023-04-17T18:03:29.319Z"
   },
   {
    "duration": 129,
    "start_time": "2023-04-17T18:03:29.330Z"
   },
   {
    "duration": 10,
    "start_time": "2023-04-17T18:03:29.461Z"
   },
   {
    "duration": 13,
    "start_time": "2023-04-17T18:03:29.472Z"
   },
   {
    "duration": 8,
    "start_time": "2023-04-17T18:03:29.486Z"
   },
   {
    "duration": 36,
    "start_time": "2023-04-17T18:03:29.496Z"
   },
   {
    "duration": 22,
    "start_time": "2023-04-17T18:03:29.534Z"
   },
   {
    "duration": 4,
    "start_time": "2023-04-17T18:03:29.585Z"
   },
   {
    "duration": 147,
    "start_time": "2023-04-17T18:03:29.591Z"
   },
   {
    "duration": 233,
    "start_time": "2023-04-17T18:03:29.740Z"
   },
   {
    "duration": 463,
    "start_time": "2023-04-17T18:03:29.975Z"
   },
   {
    "duration": 58,
    "start_time": "2023-04-17T18:03:30.440Z"
   },
   {
    "duration": 46,
    "start_time": "2023-04-17T18:03:30.500Z"
   },
   {
    "duration": 48,
    "start_time": "2023-04-17T18:03:30.548Z"
   },
   {
    "duration": 367,
    "start_time": "2023-04-17T18:03:30.598Z"
   },
   {
    "duration": 4,
    "start_time": "2023-04-17T18:03:30.967Z"
   },
   {
    "duration": 59,
    "start_time": "2023-04-17T18:03:30.985Z"
   },
   {
    "duration": 58,
    "start_time": "2023-04-17T18:03:31.046Z"
   },
   {
    "duration": 45,
    "start_time": "2023-04-17T18:03:31.105Z"
   },
   {
    "duration": 941,
    "start_time": "2023-04-17T18:03:31.152Z"
   },
   {
    "duration": 1091,
    "start_time": "2023-04-17T18:08:21.317Z"
   },
   {
    "duration": 153,
    "start_time": "2023-04-17T18:08:22.410Z"
   },
   {
    "duration": 14,
    "start_time": "2023-04-17T18:08:22.565Z"
   },
   {
    "duration": 128,
    "start_time": "2023-04-17T18:08:22.585Z"
   },
   {
    "duration": 10,
    "start_time": "2023-04-17T18:08:22.715Z"
   },
   {
    "duration": 135,
    "start_time": "2023-04-17T18:08:22.726Z"
   },
   {
    "duration": 10,
    "start_time": "2023-04-17T18:08:22.863Z"
   },
   {
    "duration": 12,
    "start_time": "2023-04-17T18:08:22.874Z"
   },
   {
    "duration": 9,
    "start_time": "2023-04-17T18:08:22.887Z"
   },
   {
    "duration": 38,
    "start_time": "2023-04-17T18:08:22.898Z"
   },
   {
    "duration": 21,
    "start_time": "2023-04-17T18:08:22.937Z"
   },
   {
    "duration": 28,
    "start_time": "2023-04-17T18:08:22.960Z"
   },
   {
    "duration": 143,
    "start_time": "2023-04-17T18:08:22.990Z"
   },
   {
    "duration": 260,
    "start_time": "2023-04-17T18:08:23.134Z"
   },
   {
    "duration": 418,
    "start_time": "2023-04-17T18:08:23.396Z"
   },
   {
    "duration": 30,
    "start_time": "2023-04-17T18:08:23.816Z"
   },
   {
    "duration": 42,
    "start_time": "2023-04-17T18:08:23.848Z"
   },
   {
    "duration": 31,
    "start_time": "2023-04-17T18:08:23.892Z"
   },
   {
    "duration": 317,
    "start_time": "2023-04-17T18:08:23.925Z"
   },
   {
    "duration": 4,
    "start_time": "2023-04-17T18:08:24.244Z"
   },
   {
    "duration": 62,
    "start_time": "2023-04-17T18:08:24.249Z"
   },
   {
    "duration": 40,
    "start_time": "2023-04-17T18:08:24.312Z"
   },
   {
    "duration": 59,
    "start_time": "2023-04-17T18:08:24.354Z"
   },
   {
    "duration": 971,
    "start_time": "2023-04-17T18:08:24.414Z"
   },
   {
    "duration": 3,
    "start_time": "2023-04-17T18:14:36.097Z"
   },
   {
    "duration": 4,
    "start_time": "2023-04-17T18:14:40.383Z"
   },
   {
    "duration": 1229,
    "start_time": "2023-04-17T18:14:52.175Z"
   },
   {
    "duration": 142,
    "start_time": "2023-04-17T18:14:53.406Z"
   },
   {
    "duration": 13,
    "start_time": "2023-04-17T18:14:53.550Z"
   },
   {
    "duration": 128,
    "start_time": "2023-04-17T18:14:53.565Z"
   },
   {
    "duration": 10,
    "start_time": "2023-04-17T18:14:53.695Z"
   },
   {
    "duration": 134,
    "start_time": "2023-04-17T18:14:53.706Z"
   },
   {
    "duration": 9,
    "start_time": "2023-04-17T18:14:53.842Z"
   },
   {
    "duration": 10,
    "start_time": "2023-04-17T18:14:53.853Z"
   },
   {
    "duration": 20,
    "start_time": "2023-04-17T18:14:53.865Z"
   },
   {
    "duration": 37,
    "start_time": "2023-04-17T18:14:53.888Z"
   },
   {
    "duration": 22,
    "start_time": "2023-04-17T18:14:53.927Z"
   },
   {
    "duration": 4,
    "start_time": "2023-04-17T18:14:53.951Z"
   },
   {
    "duration": 173,
    "start_time": "2023-04-17T18:14:53.957Z"
   },
   {
    "duration": 281,
    "start_time": "2023-04-17T18:14:54.132Z"
   },
   {
    "duration": 416,
    "start_time": "2023-04-17T18:14:54.414Z"
   },
   {
    "duration": 30,
    "start_time": "2023-04-17T18:14:54.832Z"
   },
   {
    "duration": 38,
    "start_time": "2023-04-17T18:14:54.863Z"
   },
   {
    "duration": 33,
    "start_time": "2023-04-17T18:14:54.902Z"
   },
   {
    "duration": 3,
    "start_time": "2023-04-17T18:14:54.937Z"
   },
   {
    "duration": 11,
    "start_time": "2023-04-17T18:14:54.941Z"
   },
   {
    "duration": 70,
    "start_time": "2023-04-17T18:14:54.953Z"
   },
   {
    "duration": 39,
    "start_time": "2023-04-17T18:14:55.025Z"
   },
   {
    "duration": 56,
    "start_time": "2023-04-17T18:14:55.066Z"
   },
   {
    "duration": 963,
    "start_time": "2023-04-17T18:14:55.124Z"
   },
   {
    "duration": 4,
    "start_time": "2023-04-17T18:21:07.680Z"
   },
   {
    "duration": 5,
    "start_time": "2023-04-17T18:21:24.223Z"
   },
   {
    "duration": 875,
    "start_time": "2023-04-17T18:22:45.324Z"
   },
   {
    "duration": 774,
    "start_time": "2023-04-17T18:24:57.222Z"
   },
   {
    "duration": 778,
    "start_time": "2023-04-17T18:26:43.386Z"
   },
   {
    "duration": 1168,
    "start_time": "2023-04-17T18:37:22.890Z"
   },
   {
    "duration": 147,
    "start_time": "2023-04-17T18:37:24.060Z"
   },
   {
    "duration": 14,
    "start_time": "2023-04-17T18:37:24.209Z"
   },
   {
    "duration": 133,
    "start_time": "2023-04-17T18:37:24.225Z"
   },
   {
    "duration": 10,
    "start_time": "2023-04-17T18:37:24.360Z"
   },
   {
    "duration": 161,
    "start_time": "2023-04-17T18:37:24.372Z"
   },
   {
    "duration": 10,
    "start_time": "2023-04-17T18:37:24.534Z"
   },
   {
    "duration": 7,
    "start_time": "2023-04-17T18:37:24.546Z"
   },
   {
    "duration": 7,
    "start_time": "2023-04-17T18:37:24.554Z"
   },
   {
    "duration": 56,
    "start_time": "2023-04-17T18:37:24.562Z"
   },
   {
    "duration": 22,
    "start_time": "2023-04-17T18:37:24.620Z"
   },
   {
    "duration": 4,
    "start_time": "2023-04-17T18:37:24.644Z"
   },
   {
    "duration": 160,
    "start_time": "2023-04-17T18:37:24.650Z"
   },
   {
    "duration": 265,
    "start_time": "2023-04-17T18:37:24.813Z"
   },
   {
    "duration": 413,
    "start_time": "2023-04-17T18:37:25.085Z"
   },
   {
    "duration": 30,
    "start_time": "2023-04-17T18:37:25.500Z"
   },
   {
    "duration": 28,
    "start_time": "2023-04-17T18:37:25.531Z"
   },
   {
    "duration": 33,
    "start_time": "2023-04-17T18:37:25.586Z"
   },
   {
    "duration": 345,
    "start_time": "2023-04-17T18:37:25.621Z"
   },
   {
    "duration": 4,
    "start_time": "2023-04-17T18:37:25.968Z"
   },
   {
    "duration": 58,
    "start_time": "2023-04-17T18:37:25.974Z"
   },
   {
    "duration": 65,
    "start_time": "2023-04-17T18:37:26.034Z"
   },
   {
    "duration": 43,
    "start_time": "2023-04-17T18:37:26.102Z"
   },
   {
    "duration": 1083,
    "start_time": "2023-04-17T18:37:26.147Z"
   },
   {
    "duration": 266,
    "start_time": "2023-04-17T19:01:46.055Z"
   },
   {
    "duration": 231,
    "start_time": "2023-04-17T19:01:58.801Z"
   },
   {
    "duration": 303,
    "start_time": "2023-04-17T19:02:58.097Z"
   },
   {
    "duration": 234,
    "start_time": "2023-04-17T19:09:08.489Z"
   },
   {
    "duration": 275,
    "start_time": "2023-04-17T19:10:13.495Z"
   },
   {
    "duration": 237,
    "start_time": "2023-04-17T19:12:36.459Z"
   },
   {
    "duration": 144,
    "start_time": "2023-04-17T19:12:51.709Z"
   },
   {
    "duration": 240,
    "start_time": "2023-04-17T19:13:13.309Z"
   },
   {
    "duration": 256,
    "start_time": "2023-04-17T19:16:14.233Z"
   },
   {
    "duration": 250,
    "start_time": "2023-04-17T19:16:40.748Z"
   },
   {
    "duration": 313,
    "start_time": "2023-04-17T19:17:04.822Z"
   },
   {
    "duration": 287,
    "start_time": "2023-04-17T19:17:23.032Z"
   },
   {
    "duration": 268,
    "start_time": "2023-04-17T19:18:43.507Z"
   },
   {
    "duration": 268,
    "start_time": "2023-04-17T19:23:28.458Z"
   },
   {
    "duration": 254,
    "start_time": "2023-04-17T19:24:07.298Z"
   },
   {
    "duration": 240,
    "start_time": "2023-04-17T19:24:19.252Z"
   },
   {
    "duration": 327,
    "start_time": "2023-04-17T19:25:33.496Z"
   },
   {
    "duration": 251,
    "start_time": "2023-04-17T19:25:44.525Z"
   },
   {
    "duration": 238,
    "start_time": "2023-04-17T19:26:18.596Z"
   },
   {
    "duration": 238,
    "start_time": "2023-04-17T19:26:38.793Z"
   },
   {
    "duration": 218,
    "start_time": "2023-04-17T19:27:22.000Z"
   },
   {
    "duration": 236,
    "start_time": "2023-04-17T19:28:16.552Z"
   },
   {
    "duration": 289,
    "start_time": "2023-04-17T19:28:40.488Z"
   },
   {
    "duration": 43,
    "start_time": "2023-04-17T19:28:54.418Z"
   },
   {
    "duration": 252,
    "start_time": "2023-04-17T19:29:10.829Z"
   },
   {
    "duration": 217,
    "start_time": "2023-04-17T19:30:36.521Z"
   },
   {
    "duration": 230,
    "start_time": "2023-04-17T19:31:56.526Z"
   },
   {
    "duration": 1194,
    "start_time": "2023-04-17T19:32:35.214Z"
   },
   {
    "duration": 154,
    "start_time": "2023-04-17T19:32:36.410Z"
   },
   {
    "duration": 13,
    "start_time": "2023-04-17T19:32:36.566Z"
   },
   {
    "duration": 128,
    "start_time": "2023-04-17T19:32:36.580Z"
   },
   {
    "duration": 9,
    "start_time": "2023-04-17T19:32:36.710Z"
   },
   {
    "duration": 137,
    "start_time": "2023-04-17T19:32:36.720Z"
   },
   {
    "duration": 9,
    "start_time": "2023-04-17T19:32:36.858Z"
   },
   {
    "duration": 5,
    "start_time": "2023-04-17T19:32:36.869Z"
   },
   {
    "duration": 19,
    "start_time": "2023-04-17T19:32:36.876Z"
   },
   {
    "duration": 37,
    "start_time": "2023-04-17T19:32:36.897Z"
   },
   {
    "duration": 23,
    "start_time": "2023-04-17T19:32:36.936Z"
   },
   {
    "duration": 27,
    "start_time": "2023-04-17T19:32:36.960Z"
   },
   {
    "duration": 140,
    "start_time": "2023-04-17T19:32:36.988Z"
   },
   {
    "duration": 231,
    "start_time": "2023-04-17T19:32:37.130Z"
   },
   {
    "duration": 423,
    "start_time": "2023-04-17T19:32:37.363Z"
   },
   {
    "duration": 35,
    "start_time": "2023-04-17T19:32:37.788Z"
   },
   {
    "duration": 30,
    "start_time": "2023-04-17T19:32:37.824Z"
   },
   {
    "duration": 51,
    "start_time": "2023-04-17T19:32:37.856Z"
   },
   {
    "duration": 370,
    "start_time": "2023-04-17T19:32:37.909Z"
   },
   {
    "duration": 4,
    "start_time": "2023-04-17T19:32:38.285Z"
   },
   {
    "duration": 52,
    "start_time": "2023-04-17T19:32:38.292Z"
   },
   {
    "duration": 59,
    "start_time": "2023-04-17T19:32:38.346Z"
   },
   {
    "duration": 45,
    "start_time": "2023-04-17T19:32:38.406Z"
   },
   {
    "duration": 935,
    "start_time": "2023-04-17T19:32:38.452Z"
   },
   {
    "duration": 217,
    "start_time": "2023-04-17T19:32:39.389Z"
   },
   {
    "duration": 193,
    "start_time": "2023-04-17T19:33:39.308Z"
   },
   {
    "duration": 213,
    "start_time": "2023-04-17T19:41:05.784Z"
   },
   {
    "duration": 271,
    "start_time": "2023-04-17T19:42:34.121Z"
   },
   {
    "duration": 176,
    "start_time": "2023-04-17T19:42:48.317Z"
   },
   {
    "duration": 311,
    "start_time": "2023-04-17T19:42:56.631Z"
   },
   {
    "duration": 225,
    "start_time": "2023-04-17T19:44:23.238Z"
   },
   {
    "duration": 233,
    "start_time": "2023-04-17T19:44:47.702Z"
   },
   {
    "duration": 245,
    "start_time": "2023-04-17T19:45:08.040Z"
   },
   {
    "duration": 1104,
    "start_time": "2023-04-17T19:48:14.491Z"
   },
   {
    "duration": 133,
    "start_time": "2023-04-17T19:48:15.597Z"
   },
   {
    "duration": 12,
    "start_time": "2023-04-17T19:48:15.732Z"
   },
   {
    "duration": 121,
    "start_time": "2023-04-17T19:48:15.745Z"
   },
   {
    "duration": 9,
    "start_time": "2023-04-17T19:48:15.868Z"
   },
   {
    "duration": 134,
    "start_time": "2023-04-17T19:48:15.879Z"
   },
   {
    "duration": 9,
    "start_time": "2023-04-17T19:48:16.014Z"
   },
   {
    "duration": 5,
    "start_time": "2023-04-17T19:48:16.025Z"
   },
   {
    "duration": 9,
    "start_time": "2023-04-17T19:48:16.031Z"
   },
   {
    "duration": 52,
    "start_time": "2023-04-17T19:48:16.042Z"
   },
   {
    "duration": 21,
    "start_time": "2023-04-17T19:48:16.096Z"
   },
   {
    "duration": 4,
    "start_time": "2023-04-17T19:48:16.118Z"
   },
   {
    "duration": 146,
    "start_time": "2023-04-17T19:48:16.124Z"
   },
   {
    "duration": 241,
    "start_time": "2023-04-17T19:48:16.273Z"
   },
   {
    "duration": 393,
    "start_time": "2023-04-17T19:48:16.516Z"
   },
   {
    "duration": 27,
    "start_time": "2023-04-17T19:48:16.910Z"
   },
   {
    "duration": 26,
    "start_time": "2023-04-17T19:48:16.939Z"
   },
   {
    "duration": 31,
    "start_time": "2023-04-17T19:48:16.985Z"
   },
   {
    "duration": 309,
    "start_time": "2023-04-17T19:48:17.018Z"
   },
   {
    "duration": 4,
    "start_time": "2023-04-17T19:48:17.328Z"
   },
   {
    "duration": 64,
    "start_time": "2023-04-17T19:48:17.334Z"
   },
   {
    "duration": 41,
    "start_time": "2023-04-17T19:48:17.400Z"
   },
   {
    "duration": 59,
    "start_time": "2023-04-17T19:48:17.442Z"
   },
   {
    "duration": 886,
    "start_time": "2023-04-17T19:48:17.503Z"
   },
   {
    "duration": 229,
    "start_time": "2023-04-17T19:48:18.391Z"
   },
   {
    "duration": 1470,
    "start_time": "2023-04-17T19:55:07.170Z"
   },
   {
    "duration": 138,
    "start_time": "2023-04-17T19:55:08.642Z"
   },
   {
    "duration": 13,
    "start_time": "2023-04-17T19:55:08.781Z"
   },
   {
    "duration": 125,
    "start_time": "2023-04-17T19:55:08.795Z"
   },
   {
    "duration": 10,
    "start_time": "2023-04-17T19:55:08.922Z"
   },
   {
    "duration": 127,
    "start_time": "2023-04-17T19:55:08.933Z"
   },
   {
    "duration": 9,
    "start_time": "2023-04-17T19:55:09.061Z"
   },
   {
    "duration": 6,
    "start_time": "2023-04-17T19:55:09.071Z"
   },
   {
    "duration": 12,
    "start_time": "2023-04-17T19:55:09.078Z"
   },
   {
    "duration": 37,
    "start_time": "2023-04-17T19:55:09.091Z"
   },
   {
    "duration": 20,
    "start_time": "2023-04-17T19:55:09.130Z"
   },
   {
    "duration": 34,
    "start_time": "2023-04-17T19:55:09.151Z"
   },
   {
    "duration": 134,
    "start_time": "2023-04-17T19:55:09.187Z"
   },
   {
    "duration": 251,
    "start_time": "2023-04-17T19:55:09.323Z"
   },
   {
    "duration": 408,
    "start_time": "2023-04-17T19:55:09.584Z"
   },
   {
    "duration": 26,
    "start_time": "2023-04-17T19:55:09.994Z"
   },
   {
    "duration": 27,
    "start_time": "2023-04-17T19:55:10.022Z"
   },
   {
    "duration": 54,
    "start_time": "2023-04-17T19:55:10.051Z"
   },
   {
    "duration": 330,
    "start_time": "2023-04-17T19:55:10.106Z"
   },
   {
    "duration": 5,
    "start_time": "2023-04-17T19:55:10.438Z"
   },
   {
    "duration": 61,
    "start_time": "2023-04-17T19:55:10.445Z"
   },
   {
    "duration": 43,
    "start_time": "2023-04-17T19:55:10.508Z"
   },
   {
    "duration": 57,
    "start_time": "2023-04-17T19:55:10.553Z"
   },
   {
    "duration": 881,
    "start_time": "2023-04-17T19:55:10.612Z"
   },
   {
    "duration": 215,
    "start_time": "2023-04-17T19:55:11.495Z"
   },
   {
    "duration": 1434,
    "start_time": "2023-04-17T19:59:53.895Z"
   },
   {
    "duration": 151,
    "start_time": "2023-04-17T19:59:55.331Z"
   },
   {
    "duration": 13,
    "start_time": "2023-04-17T19:59:55.484Z"
   },
   {
    "duration": 130,
    "start_time": "2023-04-17T19:59:55.499Z"
   },
   {
    "duration": 11,
    "start_time": "2023-04-17T19:59:55.631Z"
   },
   {
    "duration": 133,
    "start_time": "2023-04-17T19:59:55.643Z"
   },
   {
    "duration": 10,
    "start_time": "2023-04-17T19:59:55.777Z"
   },
   {
    "duration": 13,
    "start_time": "2023-04-17T19:59:55.789Z"
   },
   {
    "duration": 14,
    "start_time": "2023-04-17T19:59:55.803Z"
   },
   {
    "duration": 38,
    "start_time": "2023-04-17T19:59:55.820Z"
   },
   {
    "duration": 57,
    "start_time": "2023-04-17T19:59:55.860Z"
   },
   {
    "duration": 5,
    "start_time": "2023-04-17T19:59:55.919Z"
   },
   {
    "duration": 162,
    "start_time": "2023-04-17T19:59:55.926Z"
   },
   {
    "duration": 243,
    "start_time": "2023-04-17T19:59:56.090Z"
   },
   {
    "duration": 595,
    "start_time": "2023-04-17T19:59:56.335Z"
   },
   {
    "duration": 32,
    "start_time": "2023-04-17T19:59:56.932Z"
   },
   {
    "duration": 46,
    "start_time": "2023-04-17T19:59:56.965Z"
   },
   {
    "duration": 34,
    "start_time": "2023-04-17T19:59:57.013Z"
   },
   {
    "duration": 424,
    "start_time": "2023-04-17T19:59:57.048Z"
   },
   {
    "duration": 14,
    "start_time": "2023-04-17T19:59:57.474Z"
   },
   {
    "duration": 74,
    "start_time": "2023-04-17T19:59:57.490Z"
   },
   {
    "duration": 73,
    "start_time": "2023-04-17T19:59:57.566Z"
   },
   {
    "duration": 62,
    "start_time": "2023-04-17T19:59:57.641Z"
   },
   {
    "duration": 1103,
    "start_time": "2023-04-17T19:59:57.705Z"
   },
   {
    "duration": 240,
    "start_time": "2023-04-17T19:59:58.810Z"
   },
   {
    "duration": 4903,
    "start_time": "2023-04-17T20:34:57.930Z"
   },
   {
    "duration": 112,
    "start_time": "2023-04-17T20:35:26.883Z"
   },
   {
    "duration": 612,
    "start_time": "2023-04-17T20:44:11.648Z"
   },
   {
    "duration": 498,
    "start_time": "2023-04-17T20:48:16.077Z"
   },
   {
    "duration": 174,
    "start_time": "2023-04-17T20:48:43.253Z"
   },
   {
    "duration": 67,
    "start_time": "2023-04-17T20:49:18.673Z"
   },
   {
    "duration": 179,
    "start_time": "2023-04-17T20:49:26.514Z"
   },
   {
    "duration": 480,
    "start_time": "2023-04-17T20:49:42.894Z"
   },
   {
    "duration": 10,
    "start_time": "2023-04-17T20:49:58.659Z"
   },
   {
    "duration": 9,
    "start_time": "2023-04-17T20:50:13.634Z"
   },
   {
    "duration": 514,
    "start_time": "2023-04-17T20:50:22.234Z"
   },
   {
    "duration": 513,
    "start_time": "2023-04-17T20:51:04.204Z"
   },
   {
    "duration": 184,
    "start_time": "2023-04-17T20:51:11.060Z"
   },
   {
    "duration": 313,
    "start_time": "2023-04-17T20:51:55.872Z"
   },
   {
    "duration": 494,
    "start_time": "2023-04-17T20:52:15.252Z"
   },
   {
    "duration": 11,
    "start_time": "2023-04-17T20:53:53.711Z"
   },
   {
    "duration": 11,
    "start_time": "2023-04-17T20:54:02.972Z"
   },
   {
    "duration": 101,
    "start_time": "2023-04-17T20:55:15.300Z"
   },
   {
    "duration": 13,
    "start_time": "2023-04-17T21:01:54.875Z"
   },
   {
    "duration": 45,
    "start_time": "2023-04-17T21:01:55.544Z"
   },
   {
    "duration": 3,
    "start_time": "2023-04-17T21:02:00.414Z"
   },
   {
    "duration": 1232,
    "start_time": "2023-04-17T21:02:31.784Z"
   },
   {
    "duration": 554,
    "start_time": "2023-04-17T21:02:56.904Z"
   },
   {
    "duration": 128,
    "start_time": "2023-04-17T21:03:43.304Z"
   },
   {
    "duration": 1675,
    "start_time": "2023-04-17T21:04:33.320Z"
   },
   {
    "duration": 13254,
    "start_time": "2023-04-17T21:05:02.929Z"
   },
   {
    "duration": 10,
    "start_time": "2023-04-17T21:19:01.941Z"
   },
   {
    "duration": 1381,
    "start_time": "2023-04-17T21:19:26.637Z"
   },
   {
    "duration": 134,
    "start_time": "2023-04-17T21:19:28.020Z"
   },
   {
    "duration": 12,
    "start_time": "2023-04-17T21:19:28.156Z"
   },
   {
    "duration": 138,
    "start_time": "2023-04-17T21:19:28.170Z"
   },
   {
    "duration": 9,
    "start_time": "2023-04-17T21:19:28.309Z"
   },
   {
    "duration": 124,
    "start_time": "2023-04-17T21:19:28.319Z"
   },
   {
    "duration": 9,
    "start_time": "2023-04-17T21:19:28.445Z"
   },
   {
    "duration": 5,
    "start_time": "2023-04-17T21:19:28.456Z"
   },
   {
    "duration": 7,
    "start_time": "2023-04-17T21:19:28.463Z"
   },
   {
    "duration": 33,
    "start_time": "2023-04-17T21:19:28.486Z"
   },
   {
    "duration": 20,
    "start_time": "2023-04-17T21:19:28.521Z"
   },
   {
    "duration": 4,
    "start_time": "2023-04-17T21:19:28.542Z"
   },
   {
    "duration": 152,
    "start_time": "2023-04-17T21:19:28.547Z"
   },
   {
    "duration": 210,
    "start_time": "2023-04-17T21:19:28.701Z"
   },
   {
    "duration": 360,
    "start_time": "2023-04-17T21:19:28.912Z"
   },
   {
    "duration": 31,
    "start_time": "2023-04-17T21:19:29.274Z"
   },
   {
    "duration": 26,
    "start_time": "2023-04-17T21:19:29.306Z"
   },
   {
    "duration": 52,
    "start_time": "2023-04-17T21:19:29.334Z"
   },
   {
    "duration": 286,
    "start_time": "2023-04-17T21:19:29.387Z"
   },
   {
    "duration": 3,
    "start_time": "2023-04-17T21:19:29.675Z"
   },
   {
    "duration": 42,
    "start_time": "2023-04-17T21:19:29.685Z"
   },
   {
    "duration": 57,
    "start_time": "2023-04-17T21:19:29.728Z"
   },
   {
    "duration": 40,
    "start_time": "2023-04-17T21:19:29.787Z"
   },
   {
    "duration": 965,
    "start_time": "2023-04-17T21:19:29.829Z"
   },
   {
    "duration": 218,
    "start_time": "2023-04-17T21:19:30.796Z"
   },
   {
    "duration": 589,
    "start_time": "2023-04-17T21:19:31.016Z"
   },
   {
    "duration": 15,
    "start_time": "2023-04-17T21:19:31.608Z"
   },
   {
    "duration": 12,
    "start_time": "2023-04-17T21:19:31.627Z"
   },
   {
    "duration": 56,
    "start_time": "2023-04-17T21:19:31.641Z"
   },
   {
    "duration": 21,
    "start_time": "2023-04-17T21:19:31.699Z"
   },
   {
    "duration": 11,
    "start_time": "2023-04-17T21:21:05.476Z"
   },
   {
    "duration": 6,
    "start_time": "2023-04-17T21:27:50.808Z"
   },
   {
    "duration": 424,
    "start_time": "2023-04-17T21:35:10.316Z"
   },
   {
    "duration": 333,
    "start_time": "2023-04-17T21:35:26.882Z"
   },
   {
    "duration": 1410,
    "start_time": "2023-04-17T21:35:45.767Z"
   },
   {
    "duration": 143,
    "start_time": "2023-04-17T21:35:47.179Z"
   },
   {
    "duration": 14,
    "start_time": "2023-04-17T21:35:47.324Z"
   },
   {
    "duration": 128,
    "start_time": "2023-04-17T21:35:47.341Z"
   },
   {
    "duration": 9,
    "start_time": "2023-04-17T21:35:47.471Z"
   },
   {
    "duration": 125,
    "start_time": "2023-04-17T21:35:47.484Z"
   },
   {
    "duration": 9,
    "start_time": "2023-04-17T21:35:47.611Z"
   },
   {
    "duration": 7,
    "start_time": "2023-04-17T21:35:47.622Z"
   },
   {
    "duration": 18,
    "start_time": "2023-04-17T21:35:47.631Z"
   },
   {
    "duration": 44,
    "start_time": "2023-04-17T21:35:47.652Z"
   },
   {
    "duration": 20,
    "start_time": "2023-04-17T21:35:47.698Z"
   },
   {
    "duration": 4,
    "start_time": "2023-04-17T21:35:47.720Z"
   },
   {
    "duration": 140,
    "start_time": "2023-04-17T21:35:47.726Z"
   },
   {
    "duration": 236,
    "start_time": "2023-04-17T21:35:47.868Z"
   },
   {
    "duration": 421,
    "start_time": "2023-04-17T21:35:48.106Z"
   },
   {
    "duration": 30,
    "start_time": "2023-04-17T21:35:48.529Z"
   },
   {
    "duration": 44,
    "start_time": "2023-04-17T21:35:48.561Z"
   },
   {
    "duration": 33,
    "start_time": "2023-04-17T21:35:48.606Z"
   },
   {
    "duration": 341,
    "start_time": "2023-04-17T21:35:48.641Z"
   },
   {
    "duration": 4,
    "start_time": "2023-04-17T21:35:48.986Z"
   },
   {
    "duration": 60,
    "start_time": "2023-04-17T21:35:48.991Z"
   },
   {
    "duration": 50,
    "start_time": "2023-04-17T21:35:49.052Z"
   },
   {
    "duration": 43,
    "start_time": "2023-04-17T21:35:49.104Z"
   },
   {
    "duration": 958,
    "start_time": "2023-04-17T21:35:49.149Z"
   },
   {
    "duration": 235,
    "start_time": "2023-04-17T21:35:50.109Z"
   },
   {
    "duration": 565,
    "start_time": "2023-04-17T21:35:50.346Z"
   },
   {
    "duration": 14,
    "start_time": "2023-04-17T21:35:50.913Z"
   },
   {
    "duration": 52,
    "start_time": "2023-04-17T21:35:50.930Z"
   },
   {
    "duration": 66,
    "start_time": "2023-04-17T21:35:50.984Z"
   },
   {
    "duration": 20,
    "start_time": "2023-04-17T21:35:51.051Z"
   },
   {
    "duration": 28,
    "start_time": "2023-04-17T21:35:51.072Z"
   },
   {
    "duration": 11,
    "start_time": "2023-04-17T21:35:51.102Z"
   },
   {
    "duration": 1754,
    "start_time": "2023-04-18T09:02:49.342Z"
   },
   {
    "duration": 498,
    "start_time": "2023-04-18T09:02:51.098Z"
   },
   {
    "duration": 12,
    "start_time": "2023-04-18T09:02:51.598Z"
   },
   {
    "duration": 289,
    "start_time": "2023-04-18T09:02:51.612Z"
   },
   {
    "duration": 10,
    "start_time": "2023-04-18T09:02:51.903Z"
   },
   {
    "duration": 277,
    "start_time": "2023-04-18T09:02:51.915Z"
   },
   {
    "duration": 9,
    "start_time": "2023-04-18T09:02:52.194Z"
   },
   {
    "duration": 28,
    "start_time": "2023-04-18T09:02:52.204Z"
   },
   {
    "duration": 15,
    "start_time": "2023-04-18T09:02:52.234Z"
   },
   {
    "duration": 77,
    "start_time": "2023-04-18T09:02:52.251Z"
   },
   {
    "duration": 41,
    "start_time": "2023-04-18T09:02:52.330Z"
   },
   {
    "duration": 6,
    "start_time": "2023-04-18T09:02:52.383Z"
   },
   {
    "duration": 138,
    "start_time": "2023-04-18T09:02:52.391Z"
   },
   {
    "duration": 268,
    "start_time": "2023-04-18T09:02:52.530Z"
   },
   {
    "duration": 460,
    "start_time": "2023-04-18T09:02:52.799Z"
   },
   {
    "duration": 36,
    "start_time": "2023-04-18T09:02:53.261Z"
   },
   {
    "duration": 24,
    "start_time": "2023-04-18T09:02:53.299Z"
   },
   {
    "duration": 56,
    "start_time": "2023-04-18T09:02:53.324Z"
   },
   {
    "duration": 341,
    "start_time": "2023-04-18T09:02:53.385Z"
   },
   {
    "duration": 4,
    "start_time": "2023-04-18T09:02:53.728Z"
   },
   {
    "duration": 69,
    "start_time": "2023-04-18T09:02:53.734Z"
   },
   {
    "duration": 62,
    "start_time": "2023-04-18T09:02:53.805Z"
   },
   {
    "duration": 47,
    "start_time": "2023-04-18T09:02:53.872Z"
   },
   {
    "duration": 970,
    "start_time": "2023-04-18T09:02:53.921Z"
   },
   {
    "duration": 271,
    "start_time": "2023-04-18T09:02:54.899Z"
   },
   {
    "duration": 655,
    "start_time": "2023-04-18T09:02:55.172Z"
   },
   {
    "duration": 13,
    "start_time": "2023-04-18T09:02:55.828Z"
   },
   {
    "duration": 48,
    "start_time": "2023-04-18T09:02:55.849Z"
   },
   {
    "duration": 41,
    "start_time": "2023-04-18T09:02:55.898Z"
   },
   {
    "duration": 41,
    "start_time": "2023-04-18T09:02:55.940Z"
   },
   {
    "duration": 13,
    "start_time": "2023-04-18T09:02:55.982Z"
   },
   {
    "duration": 9,
    "start_time": "2023-04-18T09:02:55.997Z"
   },
   {
    "duration": 3,
    "start_time": "2023-04-18T09:05:26.445Z"
   },
   {
    "duration": 260,
    "start_time": "2023-04-18T09:11:57.524Z"
   },
   {
    "duration": 338,
    "start_time": "2023-04-18T09:12:23.228Z"
   },
   {
    "duration": 324,
    "start_time": "2023-04-18T09:12:44.114Z"
   },
   {
    "duration": 329,
    "start_time": "2023-04-18T09:13:16.261Z"
   },
   {
    "duration": 1468,
    "start_time": "2023-04-18T09:14:52.064Z"
   },
   {
    "duration": 145,
    "start_time": "2023-04-18T09:14:53.534Z"
   },
   {
    "duration": 13,
    "start_time": "2023-04-18T09:14:53.680Z"
   },
   {
    "duration": 168,
    "start_time": "2023-04-18T09:14:53.696Z"
   },
   {
    "duration": 10,
    "start_time": "2023-04-18T09:14:53.866Z"
   },
   {
    "duration": 131,
    "start_time": "2023-04-18T09:14:53.877Z"
   },
   {
    "duration": 9,
    "start_time": "2023-04-18T09:14:54.010Z"
   },
   {
    "duration": 43,
    "start_time": "2023-04-18T09:14:54.020Z"
   },
   {
    "duration": 37,
    "start_time": "2023-04-18T09:14:54.064Z"
   },
   {
    "duration": 63,
    "start_time": "2023-04-18T09:14:54.105Z"
   },
   {
    "duration": 20,
    "start_time": "2023-04-18T09:14:54.169Z"
   },
   {
    "duration": 4,
    "start_time": "2023-04-18T09:14:54.190Z"
   },
   {
    "duration": 168,
    "start_time": "2023-04-18T09:14:54.196Z"
   },
   {
    "duration": 255,
    "start_time": "2023-04-18T09:14:54.365Z"
   },
   {
    "duration": 416,
    "start_time": "2023-04-18T09:14:54.622Z"
   },
   {
    "duration": 36,
    "start_time": "2023-04-18T09:14:55.040Z"
   },
   {
    "duration": 59,
    "start_time": "2023-04-18T09:14:55.078Z"
   },
   {
    "duration": 65,
    "start_time": "2023-04-18T09:14:55.140Z"
   },
   {
    "duration": 285,
    "start_time": "2023-04-18T09:14:55.207Z"
   },
   {
    "duration": 4,
    "start_time": "2023-04-18T09:14:55.494Z"
   },
   {
    "duration": 73,
    "start_time": "2023-04-18T09:14:55.500Z"
   },
   {
    "duration": 322,
    "start_time": "2023-04-18T09:14:55.575Z"
   },
   {
    "duration": 56,
    "start_time": "2023-04-18T09:14:55.899Z"
   },
   {
    "duration": 333,
    "start_time": "2023-04-18T09:14:55.956Z"
   },
   {
    "duration": 43,
    "start_time": "2023-04-18T09:14:56.291Z"
   },
   {
    "duration": 562,
    "start_time": "2023-04-18T09:14:56.349Z"
   },
   {
    "duration": 1030,
    "start_time": "2023-04-18T09:14:56.912Z"
   },
   {
    "duration": 232,
    "start_time": "2023-04-18T09:14:57.945Z"
   },
   {
    "duration": 522,
    "start_time": "2023-04-18T09:14:58.179Z"
   },
   {
    "duration": 15,
    "start_time": "2023-04-18T09:14:58.703Z"
   },
   {
    "duration": 20,
    "start_time": "2023-04-18T09:14:58.719Z"
   },
   {
    "duration": 57,
    "start_time": "2023-04-18T09:14:58.740Z"
   },
   {
    "duration": 17,
    "start_time": "2023-04-18T09:14:58.799Z"
   },
   {
    "duration": 20,
    "start_time": "2023-04-18T09:14:58.818Z"
   },
   {
    "duration": 29,
    "start_time": "2023-04-18T09:14:58.840Z"
   },
   {
    "duration": 17,
    "start_time": "2023-04-18T09:14:58.871Z"
   },
   {
    "duration": 5,
    "start_time": "2023-04-18T09:51:41.544Z"
   },
   {
    "duration": 172,
    "start_time": "2023-04-18T09:57:23.259Z"
   },
   {
    "duration": 4,
    "start_time": "2023-04-18T09:58:29.482Z"
   },
   {
    "duration": 868,
    "start_time": "2023-04-18T09:58:30.609Z"
   },
   {
    "duration": 849,
    "start_time": "2023-04-18T09:59:09.527Z"
   },
   {
    "duration": 902,
    "start_time": "2023-04-18T09:59:19.778Z"
   },
   {
    "duration": 4,
    "start_time": "2023-04-18T09:59:43.660Z"
   },
   {
    "duration": 282,
    "start_time": "2023-04-18T09:59:44.775Z"
   },
   {
    "duration": 763,
    "start_time": "2023-04-18T10:00:46.830Z"
   },
   {
    "duration": 707,
    "start_time": "2023-04-18T10:01:17.600Z"
   },
   {
    "duration": 308,
    "start_time": "2023-04-18T10:01:36.550Z"
   },
   {
    "duration": 153,
    "start_time": "2023-04-18T10:01:42.125Z"
   },
   {
    "duration": 157,
    "start_time": "2023-04-18T10:01:55.476Z"
   },
   {
    "duration": 184,
    "start_time": "2023-04-18T10:02:09.650Z"
   },
   {
    "duration": 337,
    "start_time": "2023-04-18T10:04:00.128Z"
   },
   {
    "duration": 165,
    "start_time": "2023-04-18T10:04:31.130Z"
   },
   {
    "duration": 176,
    "start_time": "2023-04-18T10:04:31.943Z"
   },
   {
    "duration": 163,
    "start_time": "2023-04-18T10:04:32.765Z"
   },
   {
    "duration": 160,
    "start_time": "2023-04-18T10:05:37.940Z"
   },
   {
    "duration": 5,
    "start_time": "2023-04-18T10:06:16.066Z"
   },
   {
    "duration": 426,
    "start_time": "2023-04-18T10:06:17.126Z"
   },
   {
    "duration": 159,
    "start_time": "2023-04-18T10:06:58.174Z"
   },
   {
    "duration": 159,
    "start_time": "2023-04-18T10:07:13.334Z"
   },
   {
    "duration": 569,
    "start_time": "2023-04-18T10:13:42.281Z"
   },
   {
    "duration": 316,
    "start_time": "2023-04-18T10:14:19.941Z"
   },
   {
    "duration": 507,
    "start_time": "2023-04-18T10:14:49.946Z"
   },
   {
    "duration": 1492,
    "start_time": "2023-04-18T10:15:26.638Z"
   },
   {
    "duration": 138,
    "start_time": "2023-04-18T10:15:28.131Z"
   },
   {
    "duration": 13,
    "start_time": "2023-04-18T10:15:28.270Z"
   },
   {
    "duration": 121,
    "start_time": "2023-04-18T10:15:28.284Z"
   },
   {
    "duration": 9,
    "start_time": "2023-04-18T10:15:28.407Z"
   },
   {
    "duration": 147,
    "start_time": "2023-04-18T10:15:28.417Z"
   },
   {
    "duration": 8,
    "start_time": "2023-04-18T10:15:28.566Z"
   },
   {
    "duration": 18,
    "start_time": "2023-04-18T10:15:28.576Z"
   },
   {
    "duration": 8,
    "start_time": "2023-04-18T10:15:28.595Z"
   },
   {
    "duration": 37,
    "start_time": "2023-04-18T10:15:28.605Z"
   },
   {
    "duration": 30,
    "start_time": "2023-04-18T10:15:28.643Z"
   },
   {
    "duration": 5,
    "start_time": "2023-04-18T10:15:28.675Z"
   },
   {
    "duration": 136,
    "start_time": "2023-04-18T10:15:28.682Z"
   },
   {
    "duration": 247,
    "start_time": "2023-04-18T10:15:28.820Z"
   },
   {
    "duration": 323,
    "start_time": "2023-04-18T10:15:29.074Z"
   },
   {
    "duration": 24,
    "start_time": "2023-04-18T10:15:29.398Z"
   },
   {
    "duration": 42,
    "start_time": "2023-04-18T10:15:29.423Z"
   },
   {
    "duration": 33,
    "start_time": "2023-04-18T10:15:29.467Z"
   },
   {
    "duration": 289,
    "start_time": "2023-04-18T10:15:29.501Z"
   },
   {
    "duration": 6,
    "start_time": "2023-04-18T10:15:29.792Z"
   },
   {
    "duration": 85,
    "start_time": "2023-04-18T10:15:29.803Z"
   },
   {
    "duration": 336,
    "start_time": "2023-04-18T10:15:29.890Z"
   },
   {
    "duration": 53,
    "start_time": "2023-04-18T10:15:30.227Z"
   },
   {
    "duration": 348,
    "start_time": "2023-04-18T10:15:30.281Z"
   },
   {
    "duration": 52,
    "start_time": "2023-04-18T10:15:30.631Z"
   },
   {
    "duration": 471,
    "start_time": "2023-04-18T10:15:30.684Z"
   },
   {
    "duration": 877,
    "start_time": "2023-04-18T10:15:31.164Z"
   },
   {
    "duration": 225,
    "start_time": "2023-04-18T10:15:32.043Z"
   },
   {
    "duration": 523,
    "start_time": "2023-04-18T10:15:32.270Z"
   },
   {
    "duration": 5,
    "start_time": "2023-04-18T10:15:32.795Z"
   },
   {
    "duration": 738,
    "start_time": "2023-04-18T10:15:32.802Z"
   },
   {
    "duration": 1422,
    "start_time": "2023-04-18T10:15:54.018Z"
   },
   {
    "duration": 139,
    "start_time": "2023-04-18T10:15:55.442Z"
   },
   {
    "duration": 13,
    "start_time": "2023-04-18T10:15:55.582Z"
   },
   {
    "duration": 115,
    "start_time": "2023-04-18T10:15:55.596Z"
   },
   {
    "duration": 11,
    "start_time": "2023-04-18T10:15:55.714Z"
   },
   {
    "duration": 119,
    "start_time": "2023-04-18T10:15:55.727Z"
   },
   {
    "duration": 13,
    "start_time": "2023-04-18T10:15:55.848Z"
   },
   {
    "duration": 10,
    "start_time": "2023-04-18T10:15:55.864Z"
   },
   {
    "duration": 8,
    "start_time": "2023-04-18T10:15:55.876Z"
   },
   {
    "duration": 35,
    "start_time": "2023-04-18T10:15:55.885Z"
   },
   {
    "duration": 47,
    "start_time": "2023-04-18T10:15:55.921Z"
   },
   {
    "duration": 5,
    "start_time": "2023-04-18T10:15:55.969Z"
   },
   {
    "duration": 131,
    "start_time": "2023-04-18T10:15:55.976Z"
   },
   {
    "duration": 210,
    "start_time": "2023-04-18T10:15:56.111Z"
   },
   {
    "duration": 420,
    "start_time": "2023-04-18T10:15:56.322Z"
   },
   {
    "duration": 31,
    "start_time": "2023-04-18T10:15:56.749Z"
   },
   {
    "duration": 23,
    "start_time": "2023-04-18T10:15:56.782Z"
   },
   {
    "duration": 59,
    "start_time": "2023-04-18T10:15:56.806Z"
   },
   {
    "duration": 296,
    "start_time": "2023-04-18T10:15:56.867Z"
   },
   {
    "duration": 3,
    "start_time": "2023-04-18T10:15:57.164Z"
   },
   {
    "duration": 51,
    "start_time": "2023-04-18T10:15:57.172Z"
   },
   {
    "duration": 322,
    "start_time": "2023-04-18T10:15:57.225Z"
   },
   {
    "duration": 44,
    "start_time": "2023-04-18T10:15:57.548Z"
   },
   {
    "duration": 338,
    "start_time": "2023-04-18T10:15:57.593Z"
   },
   {
    "duration": 49,
    "start_time": "2023-04-18T10:15:57.933Z"
   },
   {
    "duration": 396,
    "start_time": "2023-04-18T10:15:57.984Z"
   },
   {
    "duration": 873,
    "start_time": "2023-04-18T10:15:58.382Z"
   },
   {
    "duration": 212,
    "start_time": "2023-04-18T10:15:59.256Z"
   },
   {
    "duration": 563,
    "start_time": "2023-04-18T10:15:59.470Z"
   },
   {
    "duration": 5,
    "start_time": "2023-04-18T10:16:00.034Z"
   },
   {
    "duration": 739,
    "start_time": "2023-04-18T10:16:00.040Z"
   },
   {
    "duration": 6,
    "start_time": "2023-04-18T10:17:02.324Z"
   },
   {
    "duration": 129,
    "start_time": "2023-04-18T10:17:03.624Z"
   },
   {
    "duration": 103,
    "start_time": "2023-04-18T10:18:56.149Z"
   },
   {
    "duration": 4,
    "start_time": "2023-04-18T10:19:38.220Z"
   },
   {
    "duration": 302,
    "start_time": "2023-04-18T10:19:41.764Z"
   },
   {
    "duration": 10,
    "start_time": "2023-04-18T10:20:39.020Z"
   },
   {
    "duration": 3,
    "start_time": "2023-04-18T10:23:31.776Z"
   },
   {
    "duration": 14,
    "start_time": "2023-04-18T10:27:26.009Z"
   },
   {
    "duration": 4,
    "start_time": "2023-04-18T10:28:17.970Z"
   },
   {
    "duration": 40,
    "start_time": "2023-04-18T10:28:18.753Z"
   },
   {
    "duration": 3,
    "start_time": "2023-04-18T10:28:35.516Z"
   },
   {
    "duration": 15,
    "start_time": "2023-04-18T10:28:37.147Z"
   },
   {
    "duration": 1566,
    "start_time": "2023-04-18T10:29:32.930Z"
   },
   {
    "duration": 156,
    "start_time": "2023-04-18T10:29:34.498Z"
   },
   {
    "duration": 16,
    "start_time": "2023-04-18T10:29:34.656Z"
   },
   {
    "duration": 132,
    "start_time": "2023-04-18T10:29:34.675Z"
   },
   {
    "duration": 9,
    "start_time": "2023-04-18T10:29:34.808Z"
   },
   {
    "duration": 143,
    "start_time": "2023-04-18T10:29:34.819Z"
   },
   {
    "duration": 11,
    "start_time": "2023-04-18T10:29:34.964Z"
   },
   {
    "duration": 10,
    "start_time": "2023-04-18T10:29:34.977Z"
   },
   {
    "duration": 13,
    "start_time": "2023-04-18T10:29:34.989Z"
   },
   {
    "duration": 72,
    "start_time": "2023-04-18T10:29:35.005Z"
   },
   {
    "duration": 25,
    "start_time": "2023-04-18T10:29:35.079Z"
   },
   {
    "duration": 5,
    "start_time": "2023-04-18T10:29:35.106Z"
   },
   {
    "duration": 158,
    "start_time": "2023-04-18T10:29:35.113Z"
   },
   {
    "duration": 212,
    "start_time": "2023-04-18T10:29:35.272Z"
   },
   {
    "duration": 347,
    "start_time": "2023-04-18T10:29:35.486Z"
   },
   {
    "duration": 31,
    "start_time": "2023-04-18T10:29:35.835Z"
   },
   {
    "duration": 26,
    "start_time": "2023-04-18T10:29:35.868Z"
   },
   {
    "duration": 30,
    "start_time": "2023-04-18T10:29:35.896Z"
   },
   {
    "duration": 270,
    "start_time": "2023-04-18T10:29:35.961Z"
   },
   {
    "duration": 4,
    "start_time": "2023-04-18T10:29:36.232Z"
   },
   {
    "duration": 57,
    "start_time": "2023-04-18T10:29:36.238Z"
   },
   {
    "duration": 327,
    "start_time": "2023-04-18T10:29:36.296Z"
   },
   {
    "duration": 49,
    "start_time": "2023-04-18T10:29:36.625Z"
   },
   {
    "duration": 326,
    "start_time": "2023-04-18T10:29:36.676Z"
   },
   {
    "duration": 69,
    "start_time": "2023-04-18T10:29:37.004Z"
   },
   {
    "duration": 380,
    "start_time": "2023-04-18T10:29:37.075Z"
   },
   {
    "duration": 885,
    "start_time": "2023-04-18T10:29:37.456Z"
   },
   {
    "duration": 219,
    "start_time": "2023-04-18T10:29:38.350Z"
   },
   {
    "duration": 472,
    "start_time": "2023-04-18T10:29:38.571Z"
   },
   {
    "duration": 4,
    "start_time": "2023-04-18T10:29:39.045Z"
   },
   {
    "duration": 44,
    "start_time": "2023-04-18T10:29:39.051Z"
   },
   {
    "duration": 4,
    "start_time": "2023-04-18T10:29:39.097Z"
   },
   {
    "duration": 136,
    "start_time": "2023-04-18T10:29:39.102Z"
   },
   {
    "duration": 4,
    "start_time": "2023-04-18T10:30:40.025Z"
   },
   {
    "duration": 44,
    "start_time": "2023-04-18T10:30:40.828Z"
   },
   {
    "duration": 1389,
    "start_time": "2023-04-18T10:31:26.579Z"
   },
   {
    "duration": 131,
    "start_time": "2023-04-18T10:31:27.970Z"
   },
   {
    "duration": 12,
    "start_time": "2023-04-18T10:31:28.103Z"
   },
   {
    "duration": 122,
    "start_time": "2023-04-18T10:31:28.117Z"
   },
   {
    "duration": 8,
    "start_time": "2023-04-18T10:31:28.240Z"
   },
   {
    "duration": 116,
    "start_time": "2023-04-18T10:31:28.250Z"
   },
   {
    "duration": 9,
    "start_time": "2023-04-18T10:31:28.368Z"
   },
   {
    "duration": 13,
    "start_time": "2023-04-18T10:31:28.378Z"
   },
   {
    "duration": 18,
    "start_time": "2023-04-18T10:31:28.393Z"
   },
   {
    "duration": 42,
    "start_time": "2023-04-18T10:31:28.414Z"
   },
   {
    "duration": 19,
    "start_time": "2023-04-18T10:31:28.457Z"
   },
   {
    "duration": 4,
    "start_time": "2023-04-18T10:31:28.478Z"
   },
   {
    "duration": 152,
    "start_time": "2023-04-18T10:31:28.484Z"
   },
   {
    "duration": 200,
    "start_time": "2023-04-18T10:31:28.638Z"
   },
   {
    "duration": 338,
    "start_time": "2023-04-18T10:31:28.848Z"
   },
   {
    "duration": 24,
    "start_time": "2023-04-18T10:31:29.187Z"
   },
   {
    "duration": 37,
    "start_time": "2023-04-18T10:31:29.213Z"
   },
   {
    "duration": 27,
    "start_time": "2023-04-18T10:31:29.251Z"
   },
   {
    "duration": 260,
    "start_time": "2023-04-18T10:31:29.280Z"
   },
   {
    "duration": 9,
    "start_time": "2023-04-18T10:31:29.541Z"
   },
   {
    "duration": 63,
    "start_time": "2023-04-18T10:31:29.552Z"
   },
   {
    "duration": 339,
    "start_time": "2023-04-18T10:31:29.616Z"
   },
   {
    "duration": 40,
    "start_time": "2023-04-18T10:31:29.957Z"
   },
   {
    "duration": 318,
    "start_time": "2023-04-18T10:31:29.999Z"
   },
   {
    "duration": 48,
    "start_time": "2023-04-18T10:31:30.318Z"
   },
   {
    "duration": 416,
    "start_time": "2023-04-18T10:31:30.368Z"
   },
   {
    "duration": 865,
    "start_time": "2023-04-18T10:31:30.786Z"
   },
   {
    "duration": 216,
    "start_time": "2023-04-18T10:31:31.655Z"
   },
   {
    "duration": 488,
    "start_time": "2023-04-18T10:31:31.873Z"
   },
   {
    "duration": 4,
    "start_time": "2023-04-18T10:31:32.363Z"
   },
   {
    "duration": 64,
    "start_time": "2023-04-18T10:31:32.369Z"
   },
   {
    "duration": 16,
    "start_time": "2023-04-18T10:31:32.435Z"
   },
   {
    "duration": 65,
    "start_time": "2023-04-18T10:31:32.453Z"
   },
   {
    "duration": 4,
    "start_time": "2023-04-18T10:32:02.164Z"
   },
   {
    "duration": 336,
    "start_time": "2023-04-18T10:32:03.117Z"
   },
   {
    "duration": 3,
    "start_time": "2023-04-18T10:33:03.025Z"
   },
   {
    "duration": 139,
    "start_time": "2023-04-18T10:33:04.142Z"
   },
   {
    "duration": 4,
    "start_time": "2023-04-18T10:33:20.757Z"
   },
   {
    "duration": 313,
    "start_time": "2023-04-18T10:33:21.546Z"
   },
   {
    "duration": 5,
    "start_time": "2023-04-18T10:33:53.229Z"
   },
   {
    "duration": 27,
    "start_time": "2023-04-18T10:33:53.977Z"
   },
   {
    "duration": 4,
    "start_time": "2023-04-18T10:33:54.951Z"
   },
   {
    "duration": 249,
    "start_time": "2023-04-18T10:33:59.813Z"
   },
   {
    "duration": 1567,
    "start_time": "2023-04-18T16:36:26.346Z"
   },
   {
    "duration": 169,
    "start_time": "2023-04-18T16:36:27.915Z"
   },
   {
    "duration": 15,
    "start_time": "2023-04-18T16:36:28.088Z"
   },
   {
    "duration": 134,
    "start_time": "2023-04-18T16:36:28.106Z"
   },
   {
    "duration": 37,
    "start_time": "2023-04-18T16:36:28.242Z"
   },
   {
    "duration": 198,
    "start_time": "2023-04-18T16:36:28.281Z"
   },
   {
    "duration": 12,
    "start_time": "2023-04-18T16:36:28.480Z"
   },
   {
    "duration": 12,
    "start_time": "2023-04-18T16:36:28.493Z"
   },
   {
    "duration": 22,
    "start_time": "2023-04-18T16:36:28.507Z"
   },
   {
    "duration": 52,
    "start_time": "2023-04-18T16:36:28.532Z"
   },
   {
    "duration": 28,
    "start_time": "2023-04-18T16:36:28.587Z"
   },
   {
    "duration": 10,
    "start_time": "2023-04-18T16:36:28.617Z"
   },
   {
    "duration": 165,
    "start_time": "2023-04-18T16:36:28.629Z"
   },
   {
    "duration": 245,
    "start_time": "2023-04-18T16:36:28.796Z"
   },
   {
    "duration": 444,
    "start_time": "2023-04-18T16:36:29.055Z"
   },
   {
    "duration": 26,
    "start_time": "2023-04-18T16:36:29.500Z"
   },
   {
    "duration": 56,
    "start_time": "2023-04-18T16:36:29.527Z"
   },
   {
    "duration": 39,
    "start_time": "2023-04-18T16:36:29.584Z"
   },
   {
    "duration": 370,
    "start_time": "2023-04-18T16:36:29.625Z"
   },
   {
    "duration": 5,
    "start_time": "2023-04-18T16:36:29.997Z"
   },
   {
    "duration": 80,
    "start_time": "2023-04-18T16:36:30.003Z"
   },
   {
    "duration": 346,
    "start_time": "2023-04-18T16:36:30.086Z"
   },
   {
    "duration": 72,
    "start_time": "2023-04-18T16:36:30.433Z"
   },
   {
    "duration": 434,
    "start_time": "2023-04-18T16:36:30.507Z"
   },
   {
    "duration": 52,
    "start_time": "2023-04-18T16:36:30.943Z"
   },
   {
    "duration": 473,
    "start_time": "2023-04-18T16:36:30.997Z"
   },
   {
    "duration": 857,
    "start_time": "2023-04-18T16:36:31.480Z"
   },
   {
    "duration": 247,
    "start_time": "2023-04-18T16:36:32.341Z"
   },
   {
    "duration": 574,
    "start_time": "2023-04-18T16:36:32.590Z"
   },
   {
    "duration": 10,
    "start_time": "2023-04-18T16:36:33.165Z"
   },
   {
    "duration": 37,
    "start_time": "2023-04-18T16:36:33.177Z"
   },
   {
    "duration": 24,
    "start_time": "2023-04-18T16:36:33.215Z"
   },
   {
    "duration": 254,
    "start_time": "2023-04-18T16:36:33.241Z"
   },
   {
    "duration": 73,
    "start_time": "2023-04-18T16:36:33.499Z"
   },
   {
    "duration": 32,
    "start_time": "2023-04-18T16:36:33.579Z"
   },
   {
    "duration": 78,
    "start_time": "2023-04-18T16:36:33.613Z"
   },
   {
    "duration": 20,
    "start_time": "2023-04-18T16:36:33.693Z"
   },
   {
    "duration": 6,
    "start_time": "2023-04-18T16:36:33.715Z"
   },
   {
    "duration": 9,
    "start_time": "2023-04-18T16:36:33.722Z"
   },
   {
    "duration": 19,
    "start_time": "2023-04-18T16:53:37.009Z"
   },
   {
    "duration": 3,
    "start_time": "2023-04-18T17:27:53.013Z"
   },
   {
    "duration": 147,
    "start_time": "2023-04-18T17:35:24.045Z"
   },
   {
    "duration": 6,
    "start_time": "2023-04-18T17:36:15.235Z"
   },
   {
    "duration": 4,
    "start_time": "2023-04-18T17:36:15.929Z"
   },
   {
    "duration": 9,
    "start_time": "2023-04-18T17:36:16.786Z"
   },
   {
    "duration": 3,
    "start_time": "2023-04-18T17:36:55.608Z"
   },
   {
    "duration": 4,
    "start_time": "2023-04-18T17:36:56.185Z"
   },
   {
    "duration": 9,
    "start_time": "2023-04-18T17:36:56.782Z"
   },
   {
    "duration": 4,
    "start_time": "2023-04-18T17:37:35.289Z"
   },
   {
    "duration": 12,
    "start_time": "2023-04-18T17:37:35.827Z"
   },
   {
    "duration": 4,
    "start_time": "2023-04-18T17:39:22.641Z"
   },
   {
    "duration": 8,
    "start_time": "2023-04-18T17:39:23.726Z"
   },
   {
    "duration": 10,
    "start_time": "2023-04-18T17:41:13.601Z"
   },
   {
    "duration": 9,
    "start_time": "2023-04-18T17:48:31.029Z"
   },
   {
    "duration": 11,
    "start_time": "2023-04-18T17:50:26.317Z"
   },
   {
    "duration": 4,
    "start_time": "2023-04-18T17:54:45.803Z"
   },
   {
    "duration": 6,
    "start_time": "2023-04-18T17:55:19.902Z"
   },
   {
    "duration": 20,
    "start_time": "2023-04-18T17:55:50.279Z"
   },
   {
    "duration": 4,
    "start_time": "2023-04-18T17:55:51.015Z"
   },
   {
    "duration": 4,
    "start_time": "2023-04-18T17:56:27.702Z"
   },
   {
    "duration": 5,
    "start_time": "2023-04-18T17:56:28.392Z"
   },
   {
    "duration": 3,
    "start_time": "2023-04-18T17:56:41.412Z"
   },
   {
    "duration": 2,
    "start_time": "2023-04-18T17:57:08.021Z"
   },
   {
    "duration": 14,
    "start_time": "2023-04-18T17:57:08.787Z"
   },
   {
    "duration": 6,
    "start_time": "2023-04-18T17:57:09.400Z"
   },
   {
    "duration": 8,
    "start_time": "2023-04-18T17:57:36.897Z"
   },
   {
    "duration": 15,
    "start_time": "2023-04-18T17:58:29.407Z"
   },
   {
    "duration": 28,
    "start_time": "2023-04-18T17:59:12.042Z"
   },
   {
    "duration": 13,
    "start_time": "2023-04-18T18:00:15.601Z"
   },
   {
    "duration": 21,
    "start_time": "2023-04-18T18:00:59.925Z"
   },
   {
    "duration": 14,
    "start_time": "2023-04-18T18:01:09.886Z"
   },
   {
    "duration": 12,
    "start_time": "2023-04-18T18:01:43.225Z"
   },
   {
    "duration": 10,
    "start_time": "2023-04-18T18:07:08.736Z"
   },
   {
    "duration": 10,
    "start_time": "2023-04-18T18:07:09.337Z"
   },
   {
    "duration": 10,
    "start_time": "2023-04-18T18:07:09.834Z"
   },
   {
    "duration": 10,
    "start_time": "2023-04-18T18:09:19.201Z"
   },
   {
    "duration": 12,
    "start_time": "2023-04-18T18:09:19.806Z"
   },
   {
    "duration": 9,
    "start_time": "2023-04-18T18:09:20.800Z"
   },
   {
    "duration": 19,
    "start_time": "2023-04-18T18:12:51.103Z"
   },
   {
    "duration": 19,
    "start_time": "2023-04-18T18:13:57.879Z"
   },
   {
    "duration": 4,
    "start_time": "2023-04-18T18:15:27.480Z"
   },
   {
    "duration": 10,
    "start_time": "2023-04-18T18:15:28.210Z"
   },
   {
    "duration": 25,
    "start_time": "2023-04-18T18:16:47.918Z"
   },
   {
    "duration": 5,
    "start_time": "2023-04-18T18:17:59.132Z"
   },
   {
    "duration": 24,
    "start_time": "2023-04-18T18:17:59.708Z"
   },
   {
    "duration": 5,
    "start_time": "2023-04-18T18:18:04.916Z"
   },
   {
    "duration": 38,
    "start_time": "2023-04-18T18:18:05.529Z"
   },
   {
    "duration": 24,
    "start_time": "2023-04-18T18:18:17.595Z"
   },
   {
    "duration": 3,
    "start_time": "2023-04-18T18:23:57.889Z"
   },
   {
    "duration": 5,
    "start_time": "2023-04-18T18:26:14.306Z"
   },
   {
    "duration": 5,
    "start_time": "2023-04-18T18:45:01.718Z"
   },
   {
    "duration": 104,
    "start_time": "2023-04-18T18:47:23.912Z"
   },
   {
    "duration": 110,
    "start_time": "2023-04-18T18:47:46.412Z"
   },
   {
    "duration": 15,
    "start_time": "2023-04-18T18:48:40.509Z"
   },
   {
    "duration": 16,
    "start_time": "2023-04-18T18:48:58.112Z"
   },
   {
    "duration": 17,
    "start_time": "2023-04-18T18:49:07.608Z"
   },
   {
    "duration": 7,
    "start_time": "2023-04-18T18:49:53.027Z"
   },
   {
    "duration": 21,
    "start_time": "2023-04-18T18:49:53.672Z"
   },
   {
    "duration": 5,
    "start_time": "2023-04-18T18:50:17.211Z"
   },
   {
    "duration": 38,
    "start_time": "2023-04-18T18:50:17.943Z"
   },
   {
    "duration": 8,
    "start_time": "2023-04-18T18:50:55.901Z"
   },
   {
    "duration": 1170,
    "start_time": "2023-04-18T18:50:56.809Z"
   },
   {
    "duration": 5,
    "start_time": "2023-04-18T18:51:25.306Z"
   },
   {
    "duration": 1224,
    "start_time": "2023-04-18T18:51:26.080Z"
   },
   {
    "duration": 1479,
    "start_time": "2023-04-18T18:53:12.010Z"
   },
   {
    "duration": 163,
    "start_time": "2023-04-18T18:53:13.492Z"
   },
   {
    "duration": 33,
    "start_time": "2023-04-18T18:53:13.656Z"
   },
   {
    "duration": 131,
    "start_time": "2023-04-18T18:53:13.691Z"
   },
   {
    "duration": 9,
    "start_time": "2023-04-18T18:53:13.824Z"
   },
   {
    "duration": 172,
    "start_time": "2023-04-18T18:53:13.835Z"
   },
   {
    "duration": 10,
    "start_time": "2023-04-18T18:53:14.008Z"
   },
   {
    "duration": 13,
    "start_time": "2023-04-18T18:53:14.020Z"
   },
   {
    "duration": 32,
    "start_time": "2023-04-18T18:53:14.035Z"
   },
   {
    "duration": 99,
    "start_time": "2023-04-18T18:53:14.071Z"
   },
   {
    "duration": 22,
    "start_time": "2023-04-18T18:53:14.184Z"
   },
   {
    "duration": 4,
    "start_time": "2023-04-18T18:53:14.208Z"
   },
   {
    "duration": 181,
    "start_time": "2023-04-18T18:53:14.213Z"
   },
   {
    "duration": 327,
    "start_time": "2023-04-18T18:53:14.401Z"
   },
   {
    "duration": 573,
    "start_time": "2023-04-18T18:53:14.730Z"
   },
   {
    "duration": 34,
    "start_time": "2023-04-18T18:53:15.305Z"
   },
   {
    "duration": 42,
    "start_time": "2023-04-18T18:53:15.341Z"
   },
   {
    "duration": 34,
    "start_time": "2023-04-18T18:53:15.392Z"
   },
   {
    "duration": 350,
    "start_time": "2023-04-18T18:53:15.427Z"
   },
   {
    "duration": 8,
    "start_time": "2023-04-18T18:53:15.779Z"
   },
   {
    "duration": 55,
    "start_time": "2023-04-18T18:53:15.788Z"
   },
   {
    "duration": 350,
    "start_time": "2023-04-18T18:53:15.859Z"
   },
   {
    "duration": 61,
    "start_time": "2023-04-18T18:53:16.211Z"
   },
   {
    "duration": 335,
    "start_time": "2023-04-18T18:53:16.284Z"
   },
   {
    "duration": 68,
    "start_time": "2023-04-18T18:53:16.621Z"
   },
   {
    "duration": 424,
    "start_time": "2023-04-18T18:53:16.691Z"
   },
   {
    "duration": 972,
    "start_time": "2023-04-18T18:53:17.117Z"
   },
   {
    "duration": 241,
    "start_time": "2023-04-18T18:53:18.091Z"
   },
   {
    "duration": 576,
    "start_time": "2023-04-18T18:53:18.334Z"
   },
   {
    "duration": 4,
    "start_time": "2023-04-18T18:53:18.911Z"
   },
   {
    "duration": 72,
    "start_time": "2023-04-18T18:53:18.917Z"
   },
   {
    "duration": 15,
    "start_time": "2023-04-18T18:53:18.991Z"
   },
   {
    "duration": 447,
    "start_time": "2023-04-18T18:53:19.009Z"
   },
   {
    "duration": 11,
    "start_time": "2023-04-18T18:53:19.470Z"
   },
   {
    "duration": 120,
    "start_time": "2023-04-18T18:53:19.483Z"
   },
   {
    "duration": 9,
    "start_time": "2023-04-18T18:53:19.605Z"
   },
   {
    "duration": 9,
    "start_time": "2023-04-18T18:53:19.616Z"
   },
   {
    "duration": 7,
    "start_time": "2023-04-18T18:53:19.627Z"
   },
   {
    "duration": 7,
    "start_time": "2023-04-18T18:53:19.636Z"
   },
   {
    "duration": 59,
    "start_time": "2023-04-18T18:53:19.645Z"
   },
   {
    "duration": 4,
    "start_time": "2023-04-18T18:53:19.709Z"
   },
   {
    "duration": 22,
    "start_time": "2023-04-18T18:53:19.715Z"
   },
   {
    "duration": 1090,
    "start_time": "2023-04-18T18:53:19.739Z"
   },
   {
    "duration": 2942,
    "start_time": "2023-04-18T18:54:55.115Z"
   },
   {
    "duration": 7,
    "start_time": "2023-04-18T19:12:51.445Z"
   },
   {
    "duration": 2867,
    "start_time": "2023-04-18T19:12:52.465Z"
   },
   {
    "duration": 7,
    "start_time": "2023-04-18T19:16:13.604Z"
   },
   {
    "duration": 2897,
    "start_time": "2023-04-18T19:16:14.419Z"
   },
   {
    "duration": 969,
    "start_time": "2023-04-18T19:17:26.707Z"
   },
   {
    "duration": 2803,
    "start_time": "2023-04-18T19:18:09.300Z"
   },
   {
    "duration": 6,
    "start_time": "2023-04-18T19:19:49.744Z"
   },
   {
    "duration": 6,
    "start_time": "2023-04-18T19:23:10.600Z"
   },
   {
    "duration": 4,
    "start_time": "2023-04-18T19:24:25.235Z"
   },
   {
    "duration": 5,
    "start_time": "2023-04-18T19:24:55.400Z"
   },
   {
    "duration": 8,
    "start_time": "2023-04-18T19:30:16.023Z"
   },
   {
    "duration": 2841,
    "start_time": "2023-04-18T19:30:20.231Z"
   },
   {
    "duration": 5,
    "start_time": "2023-04-18T19:30:23.074Z"
   },
   {
    "duration": 22,
    "start_time": "2023-04-18T19:30:23.080Z"
   },
   {
    "duration": 5,
    "start_time": "2023-04-18T19:30:25.218Z"
   },
   {
    "duration": 5,
    "start_time": "2023-04-18T19:32:19.207Z"
   },
   {
    "duration": 1144,
    "start_time": "2023-04-18T19:32:19.836Z"
   },
   {
    "duration": 0,
    "start_time": "2023-04-18T19:32:20.982Z"
   },
   {
    "duration": 5,
    "start_time": "2023-04-18T19:32:52.609Z"
   },
   {
    "duration": 3055,
    "start_time": "2023-04-18T19:32:53.062Z"
   },
   {
    "duration": 5,
    "start_time": "2023-04-18T19:33:10.968Z"
   },
   {
    "duration": 12,
    "start_time": "2023-04-18T19:33:11.551Z"
   },
   {
    "duration": 11,
    "start_time": "2023-04-18T19:34:11.962Z"
   },
   {
    "duration": 2885,
    "start_time": "2023-04-18T19:35:15.911Z"
   },
   {
    "duration": 3,
    "start_time": "2023-04-18T19:35:18.799Z"
   },
   {
    "duration": 1442,
    "start_time": "2023-04-18T19:35:22.521Z"
   },
   {
    "duration": 138,
    "start_time": "2023-04-18T19:35:23.965Z"
   },
   {
    "duration": 12,
    "start_time": "2023-04-18T19:35:24.105Z"
   },
   {
    "duration": 115,
    "start_time": "2023-04-18T19:35:24.118Z"
   },
   {
    "duration": 13,
    "start_time": "2023-04-18T19:35:24.235Z"
   },
   {
    "duration": 133,
    "start_time": "2023-04-18T19:35:24.249Z"
   },
   {
    "duration": 8,
    "start_time": "2023-04-18T19:35:24.383Z"
   },
   {
    "duration": 8,
    "start_time": "2023-04-18T19:35:24.393Z"
   },
   {
    "duration": 7,
    "start_time": "2023-04-18T19:35:24.402Z"
   },
   {
    "duration": 71,
    "start_time": "2023-04-18T19:35:24.410Z"
   },
   {
    "duration": 19,
    "start_time": "2023-04-18T19:35:24.483Z"
   },
   {
    "duration": 5,
    "start_time": "2023-04-18T19:35:24.504Z"
   },
   {
    "duration": 183,
    "start_time": "2023-04-18T19:35:24.511Z"
   },
   {
    "duration": 202,
    "start_time": "2023-04-18T19:35:24.698Z"
   },
   {
    "duration": 379,
    "start_time": "2023-04-18T19:35:24.901Z"
   },
   {
    "duration": 25,
    "start_time": "2023-04-18T19:35:25.282Z"
   },
   {
    "duration": 51,
    "start_time": "2023-04-18T19:35:25.309Z"
   },
   {
    "duration": 37,
    "start_time": "2023-04-18T19:35:25.362Z"
   },
   {
    "duration": 273,
    "start_time": "2023-04-18T19:35:25.400Z"
   },
   {
    "duration": 4,
    "start_time": "2023-04-18T19:35:25.674Z"
   },
   {
    "duration": 57,
    "start_time": "2023-04-18T19:35:25.680Z"
   },
   {
    "duration": 328,
    "start_time": "2023-04-18T19:35:25.738Z"
   },
   {
    "duration": 43,
    "start_time": "2023-04-18T19:35:26.067Z"
   },
   {
    "duration": 333,
    "start_time": "2023-04-18T19:35:26.112Z"
   },
   {
    "duration": 50,
    "start_time": "2023-04-18T19:35:26.447Z"
   },
   {
    "duration": 380,
    "start_time": "2023-04-18T19:35:26.499Z"
   },
   {
    "duration": 888,
    "start_time": "2023-04-18T19:35:26.880Z"
   },
   {
    "duration": 234,
    "start_time": "2023-04-18T19:35:27.770Z"
   },
   {
    "duration": 528,
    "start_time": "2023-04-18T19:35:28.006Z"
   },
   {
    "duration": 4,
    "start_time": "2023-04-18T19:35:28.536Z"
   },
   {
    "duration": 47,
    "start_time": "2023-04-18T19:35:28.552Z"
   },
   {
    "duration": 5,
    "start_time": "2023-04-18T19:35:28.601Z"
   },
   {
    "duration": 259,
    "start_time": "2023-04-18T19:35:28.608Z"
   },
   {
    "duration": 4,
    "start_time": "2023-04-18T19:35:28.868Z"
   },
   {
    "duration": 27,
    "start_time": "2023-04-18T19:35:28.949Z"
   },
   {
    "duration": 9,
    "start_time": "2023-04-18T19:35:28.978Z"
   },
   {
    "duration": 9,
    "start_time": "2023-04-18T19:35:28.989Z"
   },
   {
    "duration": 4,
    "start_time": "2023-04-18T19:35:28.999Z"
   },
   {
    "duration": 6,
    "start_time": "2023-04-18T19:35:29.004Z"
   },
   {
    "duration": 62,
    "start_time": "2023-04-18T19:35:29.012Z"
   },
   {
    "duration": 5,
    "start_time": "2023-04-18T19:35:29.079Z"
   },
   {
    "duration": 8,
    "start_time": "2023-04-18T19:35:29.085Z"
   },
   {
    "duration": 2927,
    "start_time": "2023-04-18T19:35:29.095Z"
   },
   {
    "duration": 4,
    "start_time": "2023-04-18T19:35:32.024Z"
   },
   {
    "duration": 42,
    "start_time": "2023-04-18T19:35:32.029Z"
   },
   {
    "duration": 49,
    "start_time": "2023-04-18T19:35:32.073Z"
   },
   {
    "duration": 1477,
    "start_time": "2023-04-18T19:47:00.295Z"
   },
   {
    "duration": 148,
    "start_time": "2023-04-18T19:47:01.775Z"
   },
   {
    "duration": 14,
    "start_time": "2023-04-18T19:47:01.925Z"
   },
   {
    "duration": 134,
    "start_time": "2023-04-18T19:47:01.955Z"
   },
   {
    "duration": 9,
    "start_time": "2023-04-18T19:47:02.091Z"
   },
   {
    "duration": 165,
    "start_time": "2023-04-18T19:47:02.102Z"
   },
   {
    "duration": 13,
    "start_time": "2023-04-18T19:47:02.270Z"
   },
   {
    "duration": 55,
    "start_time": "2023-04-18T19:47:02.285Z"
   },
   {
    "duration": 42,
    "start_time": "2023-04-18T19:47:02.341Z"
   },
   {
    "duration": 67,
    "start_time": "2023-04-18T19:47:02.384Z"
   },
   {
    "duration": 20,
    "start_time": "2023-04-18T19:47:02.464Z"
   },
   {
    "duration": 21,
    "start_time": "2023-04-18T19:47:02.486Z"
   },
   {
    "duration": 184,
    "start_time": "2023-04-18T19:47:02.509Z"
   },
   {
    "duration": 235,
    "start_time": "2023-04-18T19:47:02.697Z"
   },
   {
    "duration": 402,
    "start_time": "2023-04-18T19:47:02.934Z"
   },
   {
    "duration": 29,
    "start_time": "2023-04-18T19:47:03.337Z"
   },
   {
    "duration": 30,
    "start_time": "2023-04-18T19:47:03.367Z"
   },
   {
    "duration": 31,
    "start_time": "2023-04-18T19:47:03.399Z"
   },
   {
    "duration": 319,
    "start_time": "2023-04-18T19:47:03.432Z"
   },
   {
    "duration": 7,
    "start_time": "2023-04-18T19:47:03.752Z"
   },
   {
    "duration": 63,
    "start_time": "2023-04-18T19:47:03.760Z"
   },
   {
    "duration": 357,
    "start_time": "2023-04-18T19:47:03.825Z"
   },
   {
    "duration": 44,
    "start_time": "2023-04-18T19:47:04.184Z"
   },
   {
    "duration": 342,
    "start_time": "2023-04-18T19:47:04.230Z"
   },
   {
    "duration": 44,
    "start_time": "2023-04-18T19:47:04.574Z"
   },
   {
    "duration": 400,
    "start_time": "2023-04-18T19:47:04.620Z"
   },
   {
    "duration": 919,
    "start_time": "2023-04-18T19:47:05.021Z"
   },
   {
    "duration": 228,
    "start_time": "2023-04-18T19:47:05.942Z"
   },
   {
    "duration": 543,
    "start_time": "2023-04-18T19:47:06.172Z"
   },
   {
    "duration": 4,
    "start_time": "2023-04-18T19:47:06.717Z"
   },
   {
    "duration": 58,
    "start_time": "2023-04-18T19:47:06.722Z"
   },
   {
    "duration": 4,
    "start_time": "2023-04-18T19:47:06.782Z"
   },
   {
    "duration": 194,
    "start_time": "2023-04-18T19:47:06.788Z"
   },
   {
    "duration": 11,
    "start_time": "2023-04-18T19:47:07.049Z"
   },
   {
    "duration": 106,
    "start_time": "2023-04-18T19:47:07.066Z"
   },
   {
    "duration": 8,
    "start_time": "2023-04-18T19:47:07.173Z"
   },
   {
    "duration": 8,
    "start_time": "2023-04-18T19:47:07.183Z"
   },
   {
    "duration": 3,
    "start_time": "2023-04-18T19:47:07.193Z"
   },
   {
    "duration": 5,
    "start_time": "2023-04-18T19:47:07.198Z"
   },
   {
    "duration": 24,
    "start_time": "2023-04-18T19:47:07.205Z"
   },
   {
    "duration": 3,
    "start_time": "2023-04-18T19:47:07.233Z"
   },
   {
    "duration": 33,
    "start_time": "2023-04-18T19:47:07.238Z"
   },
   {
    "duration": 3036,
    "start_time": "2023-04-18T19:47:07.273Z"
   },
   {
    "duration": 3,
    "start_time": "2023-04-18T19:47:10.311Z"
   },
   {
    "duration": 23,
    "start_time": "2023-04-18T19:47:10.315Z"
   },
   {
    "duration": 15,
    "start_time": "2023-04-18T19:47:10.340Z"
   },
   {
    "duration": 5,
    "start_time": "2023-04-18T19:54:04.425Z"
   },
   {
    "duration": 2883,
    "start_time": "2023-04-18T19:54:05.086Z"
   },
   {
    "duration": 4,
    "start_time": "2023-04-18T19:54:07.971Z"
   },
   {
    "duration": 1463,
    "start_time": "2023-04-18T19:54:19.883Z"
   },
   {
    "duration": 137,
    "start_time": "2023-04-18T19:54:21.359Z"
   },
   {
    "duration": 11,
    "start_time": "2023-04-18T19:54:21.498Z"
   },
   {
    "duration": 124,
    "start_time": "2023-04-18T19:54:21.511Z"
   },
   {
    "duration": 9,
    "start_time": "2023-04-18T19:54:21.637Z"
   },
   {
    "duration": 129,
    "start_time": "2023-04-18T19:54:21.654Z"
   },
   {
    "duration": 8,
    "start_time": "2023-04-18T19:54:21.785Z"
   },
   {
    "duration": 6,
    "start_time": "2023-04-18T19:54:21.794Z"
   },
   {
    "duration": 9,
    "start_time": "2023-04-18T19:54:21.801Z"
   },
   {
    "duration": 58,
    "start_time": "2023-04-18T19:54:21.813Z"
   },
   {
    "duration": 26,
    "start_time": "2023-04-18T19:54:21.876Z"
   },
   {
    "duration": 5,
    "start_time": "2023-04-18T19:54:21.903Z"
   },
   {
    "duration": 146,
    "start_time": "2023-04-18T19:54:21.909Z"
   },
   {
    "duration": 193,
    "start_time": "2023-04-18T19:54:22.056Z"
   },
   {
    "duration": 346,
    "start_time": "2023-04-18T19:54:22.256Z"
   },
   {
    "duration": 23,
    "start_time": "2023-04-18T19:54:22.603Z"
   },
   {
    "duration": 40,
    "start_time": "2023-04-18T19:54:22.628Z"
   },
   {
    "duration": 28,
    "start_time": "2023-04-18T19:54:22.670Z"
   },
   {
    "duration": 287,
    "start_time": "2023-04-18T19:54:22.700Z"
   },
   {
    "duration": 4,
    "start_time": "2023-04-18T19:54:22.988Z"
   },
   {
    "duration": 69,
    "start_time": "2023-04-18T19:54:22.994Z"
   },
   {
    "duration": 339,
    "start_time": "2023-04-18T19:54:23.064Z"
   },
   {
    "duration": 59,
    "start_time": "2023-04-18T19:54:23.404Z"
   },
   {
    "duration": 340,
    "start_time": "2023-04-18T19:54:23.465Z"
   },
   {
    "duration": 56,
    "start_time": "2023-04-18T19:54:23.807Z"
   },
   {
    "duration": 404,
    "start_time": "2023-04-18T19:54:23.865Z"
   },
   {
    "duration": 866,
    "start_time": "2023-04-18T19:54:24.270Z"
   },
   {
    "duration": 234,
    "start_time": "2023-04-18T19:54:25.139Z"
   },
   {
    "duration": 576,
    "start_time": "2023-04-18T19:54:25.374Z"
   },
   {
    "duration": 6,
    "start_time": "2023-04-18T19:54:25.951Z"
   },
   {
    "duration": 48,
    "start_time": "2023-04-18T19:54:25.959Z"
   },
   {
    "duration": 6,
    "start_time": "2023-04-18T19:54:26.009Z"
   },
   {
    "duration": 250,
    "start_time": "2023-04-18T19:54:26.016Z"
   },
   {
    "duration": 5,
    "start_time": "2023-04-18T19:54:26.269Z"
   },
   {
    "duration": 37,
    "start_time": "2023-04-18T19:54:26.349Z"
   },
   {
    "duration": 11,
    "start_time": "2023-04-18T19:54:26.388Z"
   },
   {
    "duration": 6,
    "start_time": "2023-04-18T19:54:26.401Z"
   },
   {
    "duration": 50,
    "start_time": "2023-04-18T19:54:26.409Z"
   },
   {
    "duration": 10,
    "start_time": "2023-04-18T19:54:26.463Z"
   },
   {
    "duration": 20,
    "start_time": "2023-04-18T19:54:26.475Z"
   },
   {
    "duration": 3,
    "start_time": "2023-04-18T19:54:26.497Z"
   },
   {
    "duration": 6,
    "start_time": "2023-04-18T19:54:26.501Z"
   },
   {
    "duration": 2887,
    "start_time": "2023-04-18T19:54:26.509Z"
   },
   {
    "duration": 3,
    "start_time": "2023-04-18T19:54:29.398Z"
   },
   {
    "duration": 7,
    "start_time": "2023-04-18T19:54:29.402Z"
   },
   {
    "duration": 8,
    "start_time": "2023-04-18T19:54:29.410Z"
   },
   {
    "duration": 1343,
    "start_time": "2023-04-18T19:55:25.594Z"
   },
   {
    "duration": 153,
    "start_time": "2023-04-18T19:55:26.939Z"
   },
   {
    "duration": 15,
    "start_time": "2023-04-18T19:55:27.093Z"
   },
   {
    "duration": 122,
    "start_time": "2023-04-18T19:55:27.110Z"
   },
   {
    "duration": 14,
    "start_time": "2023-04-18T19:55:27.234Z"
   },
   {
    "duration": 123,
    "start_time": "2023-04-18T19:55:27.258Z"
   },
   {
    "duration": 10,
    "start_time": "2023-04-18T19:55:27.382Z"
   },
   {
    "duration": 6,
    "start_time": "2023-04-18T19:55:27.393Z"
   },
   {
    "duration": 11,
    "start_time": "2023-04-18T19:55:27.400Z"
   },
   {
    "duration": 60,
    "start_time": "2023-04-18T19:55:27.413Z"
   },
   {
    "duration": 31,
    "start_time": "2023-04-18T19:55:27.475Z"
   },
   {
    "duration": 4,
    "start_time": "2023-04-18T19:55:27.508Z"
   },
   {
    "duration": 155,
    "start_time": "2023-04-18T19:55:27.513Z"
   },
   {
    "duration": 211,
    "start_time": "2023-04-18T19:55:27.671Z"
   },
   {
    "duration": 410,
    "start_time": "2023-04-18T19:55:27.884Z"
   },
   {
    "duration": 38,
    "start_time": "2023-04-18T19:55:28.296Z"
   },
   {
    "duration": 45,
    "start_time": "2023-04-18T19:55:28.336Z"
   },
   {
    "duration": 53,
    "start_time": "2023-04-18T19:55:28.383Z"
   },
   {
    "duration": 292,
    "start_time": "2023-04-18T19:55:28.439Z"
   },
   {
    "duration": 4,
    "start_time": "2023-04-18T19:55:28.733Z"
   },
   {
    "duration": 62,
    "start_time": "2023-04-18T19:55:28.739Z"
   },
   {
    "duration": 386,
    "start_time": "2023-04-18T19:55:28.803Z"
   },
   {
    "duration": 45,
    "start_time": "2023-04-18T19:55:29.190Z"
   },
   {
    "duration": 333,
    "start_time": "2023-04-18T19:55:29.251Z"
   },
   {
    "duration": 51,
    "start_time": "2023-04-18T19:55:29.585Z"
   },
   {
    "duration": 431,
    "start_time": "2023-04-18T19:55:29.638Z"
   },
   {
    "duration": 918,
    "start_time": "2023-04-18T19:55:30.073Z"
   },
   {
    "duration": 260,
    "start_time": "2023-04-18T19:55:30.994Z"
   },
   {
    "duration": 523,
    "start_time": "2023-04-18T19:55:31.255Z"
   },
   {
    "duration": 4,
    "start_time": "2023-04-18T19:55:31.780Z"
   },
   {
    "duration": 82,
    "start_time": "2023-04-18T19:55:31.786Z"
   },
   {
    "duration": 6,
    "start_time": "2023-04-18T19:55:31.870Z"
   },
   {
    "duration": 397,
    "start_time": "2023-04-18T19:55:31.878Z"
   },
   {
    "duration": 76,
    "start_time": "2023-04-18T19:55:32.277Z"
   },
   {
    "duration": 121,
    "start_time": "2023-04-18T19:55:32.356Z"
   },
   {
    "duration": 59,
    "start_time": "2023-04-18T19:55:32.479Z"
   },
   {
    "duration": 33,
    "start_time": "2023-04-18T19:55:32.540Z"
   },
   {
    "duration": 18,
    "start_time": "2023-04-18T19:55:32.574Z"
   },
   {
    "duration": 20,
    "start_time": "2023-04-18T19:55:32.594Z"
   },
   {
    "duration": 28,
    "start_time": "2023-04-18T19:55:32.616Z"
   },
   {
    "duration": 7,
    "start_time": "2023-04-18T19:55:32.648Z"
   },
   {
    "duration": 12,
    "start_time": "2023-04-18T19:55:32.668Z"
   },
   {
    "duration": 2857,
    "start_time": "2023-04-18T19:55:32.682Z"
   },
   {
    "duration": 18,
    "start_time": "2023-04-18T19:55:35.541Z"
   },
   {
    "duration": 18,
    "start_time": "2023-04-18T19:55:35.567Z"
   },
   {
    "duration": 18,
    "start_time": "2023-04-18T19:55:35.587Z"
   },
   {
    "duration": 1403,
    "start_time": "2023-04-18T19:59:18.795Z"
   },
   {
    "duration": 164,
    "start_time": "2023-04-18T19:59:20.200Z"
   },
   {
    "duration": 14,
    "start_time": "2023-04-18T19:59:20.367Z"
   },
   {
    "duration": 126,
    "start_time": "2023-04-18T19:59:20.383Z"
   },
   {
    "duration": 9,
    "start_time": "2023-04-18T19:59:20.511Z"
   },
   {
    "duration": 170,
    "start_time": "2023-04-18T19:59:20.522Z"
   },
   {
    "duration": 19,
    "start_time": "2023-04-18T19:59:20.693Z"
   },
   {
    "duration": 9,
    "start_time": "2023-04-18T19:59:20.713Z"
   },
   {
    "duration": 9,
    "start_time": "2023-04-18T19:59:20.724Z"
   },
   {
    "duration": 63,
    "start_time": "2023-04-18T19:59:20.736Z"
   },
   {
    "duration": 32,
    "start_time": "2023-04-18T19:59:20.801Z"
   },
   {
    "duration": 5,
    "start_time": "2023-04-18T19:59:20.835Z"
   },
   {
    "duration": 161,
    "start_time": "2023-04-18T19:59:20.842Z"
   },
   {
    "duration": 284,
    "start_time": "2023-04-18T19:59:21.005Z"
   },
   {
    "duration": 465,
    "start_time": "2023-04-18T19:59:21.292Z"
   },
   {
    "duration": 28,
    "start_time": "2023-04-18T19:59:21.759Z"
   },
   {
    "duration": 31,
    "start_time": "2023-04-18T19:59:21.789Z"
   },
   {
    "duration": 63,
    "start_time": "2023-04-18T19:59:21.823Z"
   },
   {
    "duration": 355,
    "start_time": "2023-04-18T19:59:21.888Z"
   },
   {
    "duration": 19,
    "start_time": "2023-04-18T19:59:22.249Z"
   },
   {
    "duration": 51,
    "start_time": "2023-04-18T19:59:22.270Z"
   },
   {
    "duration": 344,
    "start_time": "2023-04-18T19:59:22.323Z"
   },
   {
    "duration": 59,
    "start_time": "2023-04-18T19:59:22.669Z"
   },
   {
    "duration": 350,
    "start_time": "2023-04-18T19:59:22.730Z"
   },
   {
    "duration": 45,
    "start_time": "2023-04-18T19:59:23.082Z"
   },
   {
    "duration": 404,
    "start_time": "2023-04-18T19:59:23.129Z"
   },
   {
    "duration": 907,
    "start_time": "2023-04-18T19:59:23.535Z"
   },
   {
    "duration": 309,
    "start_time": "2023-04-18T19:59:24.456Z"
   },
   {
    "duration": 585,
    "start_time": "2023-04-18T19:59:24.772Z"
   },
   {
    "duration": 5,
    "start_time": "2023-04-18T19:59:25.368Z"
   },
   {
    "duration": 131,
    "start_time": "2023-04-18T19:59:25.375Z"
   },
   {
    "duration": 6,
    "start_time": "2023-04-18T19:59:25.509Z"
   },
   {
    "duration": 238,
    "start_time": "2023-04-18T19:59:25.517Z"
   },
   {
    "duration": 9,
    "start_time": "2023-04-18T19:59:25.757Z"
   },
   {
    "duration": 105,
    "start_time": "2023-04-18T19:59:25.772Z"
   },
   {
    "duration": 9,
    "start_time": "2023-04-18T19:59:25.879Z"
   },
   {
    "duration": 8,
    "start_time": "2023-04-18T19:59:25.890Z"
   },
   {
    "duration": 7,
    "start_time": "2023-04-18T19:59:25.900Z"
   },
   {
    "duration": 10,
    "start_time": "2023-04-18T19:59:25.909Z"
   },
   {
    "duration": 22,
    "start_time": "2023-04-18T19:59:25.921Z"
   },
   {
    "duration": 4,
    "start_time": "2023-04-18T19:59:25.945Z"
   },
   {
    "duration": 35,
    "start_time": "2023-04-18T19:59:25.954Z"
   },
   {
    "duration": 3037,
    "start_time": "2023-04-18T19:59:25.991Z"
   },
   {
    "duration": 5,
    "start_time": "2023-04-18T19:59:29.029Z"
   },
   {
    "duration": 6,
    "start_time": "2023-04-18T19:59:29.035Z"
   },
   {
    "duration": 21,
    "start_time": "2023-04-18T19:59:29.054Z"
   },
   {
    "duration": 1539,
    "start_time": "2023-04-18T20:01:07.245Z"
   },
   {
    "duration": 156,
    "start_time": "2023-04-18T20:01:08.787Z"
   },
   {
    "duration": 32,
    "start_time": "2023-04-18T20:01:08.945Z"
   },
   {
    "duration": 133,
    "start_time": "2023-04-18T20:01:08.979Z"
   },
   {
    "duration": 10,
    "start_time": "2023-04-18T20:01:09.114Z"
   },
   {
    "duration": 141,
    "start_time": "2023-04-18T20:01:09.126Z"
   },
   {
    "duration": 9,
    "start_time": "2023-04-18T20:01:09.269Z"
   },
   {
    "duration": 27,
    "start_time": "2023-04-18T20:01:09.279Z"
   },
   {
    "duration": 10,
    "start_time": "2023-04-18T20:01:09.308Z"
   },
   {
    "duration": 45,
    "start_time": "2023-04-18T20:01:09.319Z"
   },
   {
    "duration": 31,
    "start_time": "2023-04-18T20:01:09.366Z"
   },
   {
    "duration": 4,
    "start_time": "2023-04-18T20:01:09.399Z"
   },
   {
    "duration": 182,
    "start_time": "2023-04-18T20:01:09.405Z"
   },
   {
    "duration": 223,
    "start_time": "2023-04-18T20:01:09.590Z"
   },
   {
    "duration": 385,
    "start_time": "2023-04-18T20:01:09.816Z"
   },
   {
    "duration": 27,
    "start_time": "2023-04-18T20:01:10.203Z"
   },
   {
    "duration": 51,
    "start_time": "2023-04-18T20:01:10.232Z"
   },
   {
    "duration": 30,
    "start_time": "2023-04-18T20:01:10.285Z"
   },
   {
    "duration": 286,
    "start_time": "2023-04-18T20:01:10.317Z"
   },
   {
    "duration": 4,
    "start_time": "2023-04-18T20:01:10.605Z"
   },
   {
    "duration": 64,
    "start_time": "2023-04-18T20:01:10.610Z"
   },
   {
    "duration": 325,
    "start_time": "2023-04-18T20:01:10.676Z"
   },
   {
    "duration": 56,
    "start_time": "2023-04-18T20:01:11.003Z"
   },
   {
    "duration": 340,
    "start_time": "2023-04-18T20:01:11.060Z"
   },
   {
    "duration": 74,
    "start_time": "2023-04-18T20:01:11.402Z"
   },
   {
    "duration": 436,
    "start_time": "2023-04-18T20:01:11.478Z"
   },
   {
    "duration": 918,
    "start_time": "2023-04-18T20:01:11.916Z"
   },
   {
    "duration": 250,
    "start_time": "2023-04-18T20:01:12.835Z"
   },
   {
    "duration": 518,
    "start_time": "2023-04-18T20:01:13.088Z"
   },
   {
    "duration": 3,
    "start_time": "2023-04-18T20:01:13.608Z"
   },
   {
    "duration": 57,
    "start_time": "2023-04-18T20:01:13.613Z"
   },
   {
    "duration": 5,
    "start_time": "2023-04-18T20:01:13.671Z"
   },
   {
    "duration": 297,
    "start_time": "2023-04-18T20:01:13.678Z"
   },
   {
    "duration": 78,
    "start_time": "2023-04-18T20:01:13.978Z"
   },
   {
    "duration": 21,
    "start_time": "2023-04-18T20:01:14.058Z"
   },
   {
    "duration": 14,
    "start_time": "2023-04-18T20:01:14.155Z"
   },
   {
    "duration": 7,
    "start_time": "2023-04-18T20:01:14.170Z"
   },
   {
    "duration": 4,
    "start_time": "2023-04-18T20:01:14.179Z"
   },
   {
    "duration": 5,
    "start_time": "2023-04-18T20:01:14.185Z"
   },
   {
    "duration": 27,
    "start_time": "2023-04-18T20:01:14.192Z"
   },
   {
    "duration": 4,
    "start_time": "2023-04-18T20:01:14.223Z"
   },
   {
    "duration": 8,
    "start_time": "2023-04-18T20:01:14.256Z"
   },
   {
    "duration": 3042,
    "start_time": "2023-04-18T20:01:14.266Z"
   },
   {
    "duration": 5,
    "start_time": "2023-04-18T20:01:17.309Z"
   },
   {
    "duration": 8,
    "start_time": "2023-04-18T20:01:17.315Z"
   },
   {
    "duration": 13,
    "start_time": "2023-04-18T20:01:17.324Z"
   },
   {
    "duration": 3383,
    "start_time": "2023-04-18T20:23:05.980Z"
   },
   {
    "duration": 146,
    "start_time": "2023-04-18T20:23:09.365Z"
   },
   {
    "duration": 13,
    "start_time": "2023-04-18T20:23:09.513Z"
   },
   {
    "duration": 129,
    "start_time": "2023-04-18T20:23:09.528Z"
   },
   {
    "duration": 10,
    "start_time": "2023-04-18T20:23:09.659Z"
   },
   {
    "duration": 141,
    "start_time": "2023-04-18T20:23:09.671Z"
   },
   {
    "duration": 13,
    "start_time": "2023-04-18T20:23:09.814Z"
   },
   {
    "duration": 5,
    "start_time": "2023-04-18T20:23:09.829Z"
   },
   {
    "duration": 20,
    "start_time": "2023-04-18T20:23:09.836Z"
   },
   {
    "duration": 70,
    "start_time": "2023-04-18T20:23:09.859Z"
   },
   {
    "duration": 33,
    "start_time": "2023-04-18T20:23:09.931Z"
   },
   {
    "duration": 20,
    "start_time": "2023-04-18T20:23:09.966Z"
   },
   {
    "duration": 154,
    "start_time": "2023-04-18T20:23:09.988Z"
   },
   {
    "duration": 271,
    "start_time": "2023-04-18T20:23:10.145Z"
   },
   {
    "duration": 425,
    "start_time": "2023-04-18T20:23:10.419Z"
   },
   {
    "duration": 39,
    "start_time": "2023-04-18T20:23:10.846Z"
   },
   {
    "duration": 42,
    "start_time": "2023-04-18T20:23:10.888Z"
   },
   {
    "duration": 33,
    "start_time": "2023-04-18T20:23:10.931Z"
   },
   {
    "duration": 354,
    "start_time": "2023-04-18T20:23:10.965Z"
   },
   {
    "duration": 4,
    "start_time": "2023-04-18T20:23:11.321Z"
   },
   {
    "duration": 60,
    "start_time": "2023-04-18T20:23:11.326Z"
   },
   {
    "duration": 379,
    "start_time": "2023-04-18T20:23:11.388Z"
   },
   {
    "duration": 59,
    "start_time": "2023-04-18T20:23:11.769Z"
   },
   {
    "duration": 407,
    "start_time": "2023-04-18T20:23:11.830Z"
   },
   {
    "duration": 60,
    "start_time": "2023-04-18T20:23:12.240Z"
   },
   {
    "duration": 484,
    "start_time": "2023-04-18T20:23:12.302Z"
   },
   {
    "duration": 914,
    "start_time": "2023-04-18T20:23:12.788Z"
   },
   {
    "duration": 242,
    "start_time": "2023-04-18T20:23:13.704Z"
   },
   {
    "duration": 540,
    "start_time": "2023-04-18T20:23:13.948Z"
   },
   {
    "duration": 4,
    "start_time": "2023-04-18T20:23:14.490Z"
   },
   {
    "duration": 41,
    "start_time": "2023-04-18T20:23:14.496Z"
   },
   {
    "duration": 5,
    "start_time": "2023-04-18T20:23:14.538Z"
   },
   {
    "duration": 441,
    "start_time": "2023-04-18T20:23:14.545Z"
   },
   {
    "duration": 4,
    "start_time": "2023-04-18T20:23:14.988Z"
   },
   {
    "duration": 92,
    "start_time": "2023-04-18T20:23:14.994Z"
   },
   {
    "duration": 21,
    "start_time": "2023-04-18T20:23:15.089Z"
   },
   {
    "duration": 12,
    "start_time": "2023-04-18T20:23:15.112Z"
   },
   {
    "duration": 12,
    "start_time": "2023-04-18T20:23:15.126Z"
   },
   {
    "duration": 5,
    "start_time": "2023-04-18T20:23:15.140Z"
   },
   {
    "duration": 23,
    "start_time": "2023-04-18T20:23:15.147Z"
   },
   {
    "duration": 3,
    "start_time": "2023-04-18T20:23:15.173Z"
   },
   {
    "duration": 4,
    "start_time": "2023-04-18T20:23:15.185Z"
   },
   {
    "duration": 3436,
    "start_time": "2023-04-18T20:23:15.191Z"
   },
   {
    "duration": 4,
    "start_time": "2023-04-18T20:23:18.629Z"
   },
   {
    "duration": 36,
    "start_time": "2023-04-18T20:23:18.635Z"
   },
   {
    "duration": 17,
    "start_time": "2023-04-18T20:23:18.673Z"
   },
   {
    "duration": 1509,
    "start_time": "2023-04-19T04:54:30.764Z"
   },
   {
    "duration": 337,
    "start_time": "2023-04-19T04:54:32.275Z"
   },
   {
    "duration": 11,
    "start_time": "2023-04-19T04:54:32.614Z"
   },
   {
    "duration": 166,
    "start_time": "2023-04-19T04:54:32.626Z"
   },
   {
    "duration": 7,
    "start_time": "2023-04-19T04:54:32.794Z"
   },
   {
    "duration": 173,
    "start_time": "2023-04-19T04:54:32.803Z"
   },
   {
    "duration": 8,
    "start_time": "2023-04-19T04:54:32.978Z"
   },
   {
    "duration": 9,
    "start_time": "2023-04-19T04:54:32.988Z"
   },
   {
    "duration": 7,
    "start_time": "2023-04-19T04:54:32.998Z"
   },
   {
    "duration": 34,
    "start_time": "2023-04-19T04:54:33.007Z"
   },
   {
    "duration": 33,
    "start_time": "2023-04-19T04:54:33.043Z"
   },
   {
    "duration": 4,
    "start_time": "2023-04-19T04:54:33.077Z"
   },
   {
    "duration": 129,
    "start_time": "2023-04-19T04:54:33.083Z"
   },
   {
    "duration": 178,
    "start_time": "2023-04-19T04:54:33.215Z"
   },
   {
    "duration": 312,
    "start_time": "2023-04-19T04:54:33.394Z"
   },
   {
    "duration": 22,
    "start_time": "2023-04-19T04:54:33.707Z"
   },
   {
    "duration": 21,
    "start_time": "2023-04-19T04:54:33.731Z"
   },
   {
    "duration": 43,
    "start_time": "2023-04-19T04:54:33.753Z"
   },
   {
    "duration": 234,
    "start_time": "2023-04-19T04:54:33.797Z"
   },
   {
    "duration": 3,
    "start_time": "2023-04-19T04:54:34.033Z"
   },
   {
    "duration": 54,
    "start_time": "2023-04-19T04:54:34.038Z"
   },
   {
    "duration": 310,
    "start_time": "2023-04-19T04:54:34.093Z"
   },
   {
    "duration": 41,
    "start_time": "2023-04-19T04:54:34.404Z"
   },
   {
    "duration": 315,
    "start_time": "2023-04-19T04:54:34.446Z"
   },
   {
    "duration": 44,
    "start_time": "2023-04-19T04:54:34.763Z"
   },
   {
    "duration": 361,
    "start_time": "2023-04-19T04:54:34.808Z"
   },
   {
    "duration": 922,
    "start_time": "2023-04-19T04:54:35.171Z"
   },
   {
    "duration": 221,
    "start_time": "2023-04-19T04:54:36.095Z"
   },
   {
    "duration": 435,
    "start_time": "2023-04-19T04:54:36.317Z"
   },
   {
    "duration": 3,
    "start_time": "2023-04-19T04:54:36.754Z"
   },
   {
    "duration": 53,
    "start_time": "2023-04-19T04:54:36.759Z"
   },
   {
    "duration": 4,
    "start_time": "2023-04-19T04:54:36.813Z"
   },
   {
    "duration": 264,
    "start_time": "2023-04-19T04:54:36.818Z"
   },
   {
    "duration": 4,
    "start_time": "2023-04-19T04:54:37.173Z"
   },
   {
    "duration": 100,
    "start_time": "2023-04-19T04:54:37.178Z"
   },
   {
    "duration": 8,
    "start_time": "2023-04-19T04:54:37.279Z"
   },
   {
    "duration": 7,
    "start_time": "2023-04-19T04:54:37.288Z"
   },
   {
    "duration": 4,
    "start_time": "2023-04-19T04:54:37.297Z"
   },
   {
    "duration": 4,
    "start_time": "2023-04-19T04:54:37.303Z"
   },
   {
    "duration": 28,
    "start_time": "2023-04-19T04:54:37.308Z"
   },
   {
    "duration": 3,
    "start_time": "2023-04-19T04:54:37.339Z"
   },
   {
    "duration": 6,
    "start_time": "2023-04-19T04:54:37.343Z"
   },
   {
    "duration": 2679,
    "start_time": "2023-04-19T04:54:37.350Z"
   },
   {
    "duration": 3,
    "start_time": "2023-04-19T04:54:40.031Z"
   },
   {
    "duration": 7,
    "start_time": "2023-04-19T04:54:40.036Z"
   },
   {
    "duration": 7,
    "start_time": "2023-04-19T04:54:40.045Z"
   },
   {
    "duration": 1393,
    "start_time": "2023-04-19T04:55:30.472Z"
   },
   {
    "duration": 121,
    "start_time": "2023-04-19T04:55:31.867Z"
   },
   {
    "duration": 11,
    "start_time": "2023-04-19T04:55:31.990Z"
   },
   {
    "duration": 120,
    "start_time": "2023-04-19T04:55:32.003Z"
   },
   {
    "duration": 7,
    "start_time": "2023-04-19T04:55:32.126Z"
   },
   {
    "duration": 155,
    "start_time": "2023-04-19T04:55:32.135Z"
   },
   {
    "duration": 9,
    "start_time": "2023-04-19T04:55:32.291Z"
   },
   {
    "duration": 11,
    "start_time": "2023-04-19T04:55:32.301Z"
   },
   {
    "duration": 35,
    "start_time": "2023-04-19T04:55:32.314Z"
   },
   {
    "duration": 44,
    "start_time": "2023-04-19T04:55:32.350Z"
   },
   {
    "duration": 17,
    "start_time": "2023-04-19T04:55:32.396Z"
   },
   {
    "duration": 4,
    "start_time": "2023-04-19T04:55:32.414Z"
   },
   {
    "duration": 122,
    "start_time": "2023-04-19T04:55:32.419Z"
   },
   {
    "duration": 172,
    "start_time": "2023-04-19T04:55:32.544Z"
   },
   {
    "duration": 343,
    "start_time": "2023-04-19T04:55:32.718Z"
   },
   {
    "duration": 32,
    "start_time": "2023-04-19T04:55:33.062Z"
   },
   {
    "duration": 25,
    "start_time": "2023-04-19T04:55:33.095Z"
   },
   {
    "duration": 26,
    "start_time": "2023-04-19T04:55:33.122Z"
   },
   {
    "duration": 247,
    "start_time": "2023-04-19T04:55:33.150Z"
   },
   {
    "duration": 4,
    "start_time": "2023-04-19T04:55:33.399Z"
   },
   {
    "duration": 43,
    "start_time": "2023-04-19T04:55:33.405Z"
   },
   {
    "duration": 324,
    "start_time": "2023-04-19T04:55:33.449Z"
   },
   {
    "duration": 40,
    "start_time": "2023-04-19T04:55:33.775Z"
   },
   {
    "duration": 321,
    "start_time": "2023-04-19T04:55:33.817Z"
   },
   {
    "duration": 48,
    "start_time": "2023-04-19T04:55:34.140Z"
   },
   {
    "duration": 367,
    "start_time": "2023-04-19T04:55:34.189Z"
   },
   {
    "duration": 899,
    "start_time": "2023-04-19T04:55:34.558Z"
   },
   {
    "duration": 219,
    "start_time": "2023-04-19T04:55:35.459Z"
   },
   {
    "duration": 546,
    "start_time": "2023-04-19T04:55:35.680Z"
   },
   {
    "duration": 3,
    "start_time": "2023-04-19T04:55:36.228Z"
   },
   {
    "duration": 41,
    "start_time": "2023-04-19T04:55:36.233Z"
   },
   {
    "duration": 4,
    "start_time": "2023-04-19T04:55:36.276Z"
   },
   {
    "duration": 296,
    "start_time": "2023-04-19T04:55:36.282Z"
   },
   {
    "duration": 93,
    "start_time": "2023-04-19T04:55:36.580Z"
   },
   {
    "duration": 16,
    "start_time": "2023-04-19T04:55:36.675Z"
   },
   {
    "duration": 14,
    "start_time": "2023-04-19T04:55:36.772Z"
   },
   {
    "duration": 13,
    "start_time": "2023-04-19T04:55:36.787Z"
   },
   {
    "duration": 15,
    "start_time": "2023-04-19T04:55:36.802Z"
   },
   {
    "duration": 6,
    "start_time": "2023-04-19T04:55:36.818Z"
   },
   {
    "duration": 19,
    "start_time": "2023-04-19T04:55:36.825Z"
   },
   {
    "duration": 2,
    "start_time": "2023-04-19T04:55:36.849Z"
   },
   {
    "duration": 6,
    "start_time": "2023-04-19T04:55:36.853Z"
   },
   {
    "duration": 997,
    "start_time": "2023-04-19T04:55:36.860Z"
   },
   {
    "duration": 0,
    "start_time": "2023-04-19T04:55:37.858Z"
   },
   {
    "duration": 0,
    "start_time": "2023-04-19T04:55:37.859Z"
   },
   {
    "duration": 0,
    "start_time": "2023-04-19T04:55:37.860Z"
   },
   {
    "duration": 1278,
    "start_time": "2023-04-19T04:57:00.632Z"
   },
   {
    "duration": 126,
    "start_time": "2023-04-19T04:57:01.912Z"
   },
   {
    "duration": 11,
    "start_time": "2023-04-19T04:57:02.040Z"
   },
   {
    "duration": 118,
    "start_time": "2023-04-19T04:57:02.053Z"
   },
   {
    "duration": 9,
    "start_time": "2023-04-19T04:57:02.172Z"
   },
   {
    "duration": 121,
    "start_time": "2023-04-19T04:57:02.182Z"
   },
   {
    "duration": 8,
    "start_time": "2023-04-19T04:57:02.304Z"
   },
   {
    "duration": 12,
    "start_time": "2023-04-19T04:57:02.313Z"
   },
   {
    "duration": 37,
    "start_time": "2023-04-19T04:57:02.326Z"
   },
   {
    "duration": 39,
    "start_time": "2023-04-19T04:57:02.365Z"
   },
   {
    "duration": 17,
    "start_time": "2023-04-19T04:57:02.405Z"
   },
   {
    "duration": 9,
    "start_time": "2023-04-19T04:57:02.423Z"
   },
   {
    "duration": 119,
    "start_time": "2023-04-19T04:57:02.433Z"
   },
   {
    "duration": 177,
    "start_time": "2023-04-19T04:57:02.553Z"
   },
   {
    "duration": 340,
    "start_time": "2023-04-19T04:57:02.732Z"
   },
   {
    "duration": 26,
    "start_time": "2023-04-19T04:57:03.074Z"
   },
   {
    "duration": 24,
    "start_time": "2023-04-19T04:57:03.102Z"
   },
   {
    "duration": 51,
    "start_time": "2023-04-19T04:57:03.128Z"
   },
   {
    "duration": 219,
    "start_time": "2023-04-19T04:57:03.180Z"
   },
   {
    "duration": 4,
    "start_time": "2023-04-19T04:57:03.400Z"
   },
   {
    "duration": 40,
    "start_time": "2023-04-19T04:57:03.405Z"
   },
   {
    "duration": 316,
    "start_time": "2023-04-19T04:57:03.447Z"
   },
   {
    "duration": 42,
    "start_time": "2023-04-19T04:57:03.764Z"
   },
   {
    "duration": 300,
    "start_time": "2023-04-19T04:57:03.808Z"
   },
   {
    "duration": 40,
    "start_time": "2023-04-19T04:57:04.110Z"
   },
   {
    "duration": 347,
    "start_time": "2023-04-19T04:57:04.151Z"
   },
   {
    "duration": 837,
    "start_time": "2023-04-19T04:57:04.500Z"
   },
   {
    "duration": 191,
    "start_time": "2023-04-19T04:57:05.340Z"
   },
   {
    "duration": 489,
    "start_time": "2023-04-19T04:57:05.532Z"
   },
   {
    "duration": 4,
    "start_time": "2023-04-19T04:57:06.023Z"
   },
   {
    "duration": 49,
    "start_time": "2023-04-19T04:57:06.029Z"
   },
   {
    "duration": 5,
    "start_time": "2023-04-19T04:57:06.080Z"
   },
   {
    "duration": 287,
    "start_time": "2023-04-19T04:57:06.087Z"
   },
   {
    "duration": 96,
    "start_time": "2023-04-19T04:57:06.377Z"
   },
   {
    "duration": 5,
    "start_time": "2023-04-19T04:57:06.475Z"
   },
   {
    "duration": 15,
    "start_time": "2023-04-19T04:57:06.482Z"
   },
   {
    "duration": 7,
    "start_time": "2023-04-19T04:57:06.498Z"
   },
   {
    "duration": 14,
    "start_time": "2023-04-19T04:57:06.506Z"
   },
   {
    "duration": 6,
    "start_time": "2023-04-19T04:57:06.522Z"
   },
   {
    "duration": 18,
    "start_time": "2023-04-19T04:57:06.529Z"
   },
   {
    "duration": 3,
    "start_time": "2023-04-19T04:57:06.548Z"
   },
   {
    "duration": 17,
    "start_time": "2023-04-19T04:57:06.553Z"
   },
   {
    "duration": 2528,
    "start_time": "2023-04-19T04:57:06.571Z"
   },
   {
    "duration": 3,
    "start_time": "2023-04-19T04:57:09.100Z"
   },
   {
    "duration": 8,
    "start_time": "2023-04-19T04:57:09.105Z"
   },
   {
    "duration": 7,
    "start_time": "2023-04-19T04:57:09.115Z"
   },
   {
    "duration": 78,
    "start_time": "2023-04-19T05:01:58.430Z"
   },
   {
    "duration": 86,
    "start_time": "2023-04-19T05:02:05.039Z"
   },
   {
    "duration": 78,
    "start_time": "2023-04-19T05:02:53.666Z"
   },
   {
    "duration": 70,
    "start_time": "2023-04-19T05:03:25.315Z"
   },
   {
    "duration": 230,
    "start_time": "2023-04-19T05:07:29.541Z"
   },
   {
    "duration": 1313,
    "start_time": "2023-04-19T05:09:30.580Z"
   },
   {
    "duration": 120,
    "start_time": "2023-04-19T05:09:31.894Z"
   },
   {
    "duration": 12,
    "start_time": "2023-04-19T05:09:32.015Z"
   },
   {
    "duration": 104,
    "start_time": "2023-04-19T05:09:32.028Z"
   },
   {
    "duration": 9,
    "start_time": "2023-04-19T05:09:32.133Z"
   },
   {
    "duration": 115,
    "start_time": "2023-04-19T05:09:32.143Z"
   },
   {
    "duration": 8,
    "start_time": "2023-04-19T05:09:32.259Z"
   },
   {
    "duration": 4,
    "start_time": "2023-04-19T05:09:32.271Z"
   },
   {
    "duration": 6,
    "start_time": "2023-04-19T05:09:37.026Z"
   },
   {
    "duration": 33,
    "start_time": "2023-04-19T05:09:37.034Z"
   },
   {
    "duration": 19,
    "start_time": "2023-04-19T05:09:37.069Z"
   },
   {
    "duration": 11,
    "start_time": "2023-04-19T05:09:37.090Z"
   },
   {
    "duration": 107,
    "start_time": "2023-04-19T05:09:37.913Z"
   },
   {
    "duration": 178,
    "start_time": "2023-04-19T05:09:38.022Z"
   },
   {
    "duration": 301,
    "start_time": "2023-04-19T05:09:38.201Z"
   },
   {
    "duration": 22,
    "start_time": "2023-04-19T05:09:38.503Z"
   },
   {
    "duration": 22,
    "start_time": "2023-04-19T05:09:39.823Z"
   },
   {
    "duration": 24,
    "start_time": "2023-04-19T05:09:39.847Z"
   },
   {
    "duration": 221,
    "start_time": "2023-04-19T05:09:39.873Z"
   },
   {
    "duration": 3,
    "start_time": "2023-04-19T05:09:40.096Z"
   },
   {
    "duration": 43,
    "start_time": "2023-04-19T05:09:40.100Z"
   },
   {
    "duration": 294,
    "start_time": "2023-04-19T05:09:40.144Z"
   },
   {
    "duration": 45,
    "start_time": "2023-04-19T05:09:40.439Z"
   },
   {
    "duration": 290,
    "start_time": "2023-04-19T05:09:40.485Z"
   },
   {
    "duration": 37,
    "start_time": "2023-04-19T05:09:40.776Z"
   },
   {
    "duration": 345,
    "start_time": "2023-04-19T05:09:40.815Z"
   },
   {
    "duration": 872,
    "start_time": "2023-04-19T05:09:41.161Z"
   },
   {
    "duration": 197,
    "start_time": "2023-04-19T05:09:42.035Z"
   },
   {
    "duration": 431,
    "start_time": "2023-04-19T05:09:42.234Z"
   },
   {
    "duration": 6,
    "start_time": "2023-04-19T05:09:42.666Z"
   },
   {
    "duration": 31,
    "start_time": "2023-04-19T05:09:42.673Z"
   },
   {
    "duration": 3,
    "start_time": "2023-04-19T05:09:49.034Z"
   },
   {
    "duration": 341,
    "start_time": "2023-04-19T05:09:49.039Z"
   },
   {
    "duration": 90,
    "start_time": "2023-04-19T05:09:49.382Z"
   },
   {
    "duration": 95,
    "start_time": "2023-04-19T05:09:49.478Z"
   },
   {
    "duration": 11,
    "start_time": "2023-04-19T05:09:49.575Z"
   },
   {
    "duration": 28,
    "start_time": "2023-04-19T05:09:49.587Z"
   },
   {
    "duration": 8,
    "start_time": "2023-04-19T05:09:49.616Z"
   },
   {
    "duration": 10,
    "start_time": "2023-04-19T05:09:49.626Z"
   },
   {
    "duration": 28,
    "start_time": "2023-04-19T05:09:49.638Z"
   },
   {
    "duration": 10,
    "start_time": "2023-04-19T05:09:49.668Z"
   },
   {
    "duration": 7,
    "start_time": "2023-04-19T05:09:49.680Z"
   },
   {
    "duration": 2493,
    "start_time": "2023-04-19T05:09:49.689Z"
   },
   {
    "duration": 3,
    "start_time": "2023-04-19T05:09:52.184Z"
   },
   {
    "duration": 15,
    "start_time": "2023-04-19T05:09:52.188Z"
   },
   {
    "duration": 27,
    "start_time": "2023-04-19T05:09:52.205Z"
   }
  ],
  "kernelspec": {
   "display_name": "Python 3 (ipykernel)",
   "language": "python",
   "name": "python3"
  },
  "language_info": {
   "codemirror_mode": {
    "name": "ipython",
    "version": 3
   },
   "file_extension": ".py",
   "mimetype": "text/x-python",
   "name": "python",
   "nbconvert_exporter": "python",
   "pygments_lexer": "ipython3",
   "version": "3.9.16"
  },
  "toc": {
   "base_numbering": 1,
   "nav_menu": {},
   "number_sections": true,
   "sideBar": true,
   "skip_h1_title": true,
   "title_cell": "Table of Contents",
   "title_sidebar": "Contents",
   "toc_cell": false,
   "toc_position": {
    "height": "calc(100% - 180px)",
    "left": "10px",
    "top": "150px",
    "width": "183.767px"
   },
   "toc_section_display": true,
   "toc_window_display": false
  }
 },
 "nbformat": 4,
 "nbformat_minor": 2
}
