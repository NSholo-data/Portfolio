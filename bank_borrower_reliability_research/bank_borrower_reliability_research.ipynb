{
 "cells": [
  {
   "cell_type": "markdown",
   "id": "67c82ea6",
   "metadata": {
    "deletable": false,
    "editable": false,
    "id": "c81daeeb"
   },
   "source": [
    "# Исследование надежности заемщиков\n"
   ]
  },
  {
   "cell_type": "markdown",
   "id": "e8b18b71",
   "metadata": {
    "deletable": false,
    "editable": false,
    "id": "827c20bf"
   },
   "source": [
    "Во второй части проекта вы выполните шаги 3 и 4. Их вручную проверит ревьюер.\n",
    "Чтобы вам не пришлось писать код заново для шагов 1 и 2, мы добавили авторские решения в ячейки с кодом. \n",
    "\n"
   ]
  },
  {
   "cell_type": "markdown",
   "id": "cf7ee767",
   "metadata": {
    "deletable": false,
    "editable": false,
    "id": "744d7639"
   },
   "source": [
    "## Откройте таблицу и изучите общую информацию о данных"
   ]
  },
  {
   "cell_type": "markdown",
   "id": "e13d8ee4",
   "metadata": {
    "deletable": false,
    "editable": false,
    "id": "e7a14c31"
   },
   "source": [
    "**Задание 1. Импортируйте библиотеку pandas. Считайте данные из csv-файла в датафрейм и сохраните в переменную `data`. Путь к файлу:**\n",
    "\n",
    "`/datasets/data.csv`"
   ]
  },
  {
   "cell_type": "code",
   "execution_count": 1,
   "id": "e66dccbc",
   "metadata": {
    "deletable": false,
    "id": "7bcf75c9"
   },
   "outputs": [],
   "source": [
    "import pandas as pd\n",
    "\n",
    "try:\n",
    "    data = pd.read_csv('/datasets/data.csv')\n",
    "except:\n",
    "    data = pd.read_csv('https://code.s3.yandex.net/datasets/data.csv')"
   ]
  },
  {
   "cell_type": "markdown",
   "id": "ab46b145",
   "metadata": {
    "deletable": false,
    "editable": false,
    "id": "b8038fe3"
   },
   "source": [
    "**Задание 2. Выведите первые 20 строчек датафрейма `data` на экран.**"
   ]
  },
  {
   "cell_type": "code",
   "execution_count": 2,
   "id": "2816b727",
   "metadata": {
    "deletable": false,
    "id": "2a7cab99",
    "outputId": "1a8f3ef2-d323-4ec2-ddf7-89670b5944c4"
   },
   "outputs": [
    {
     "data": {
      "text/html": [
       "<div>\n",
       "<style scoped>\n",
       "    .dataframe tbody tr th:only-of-type {\n",
       "        vertical-align: middle;\n",
       "    }\n",
       "\n",
       "    .dataframe tbody tr th {\n",
       "        vertical-align: top;\n",
       "    }\n",
       "\n",
       "    .dataframe thead th {\n",
       "        text-align: right;\n",
       "    }\n",
       "</style>\n",
       "<table border=\"1\" class=\"dataframe\">\n",
       "  <thead>\n",
       "    <tr style=\"text-align: right;\">\n",
       "      <th></th>\n",
       "      <th>children</th>\n",
       "      <th>days_employed</th>\n",
       "      <th>dob_years</th>\n",
       "      <th>education</th>\n",
       "      <th>education_id</th>\n",
       "      <th>family_status</th>\n",
       "      <th>family_status_id</th>\n",
       "      <th>gender</th>\n",
       "      <th>income_type</th>\n",
       "      <th>debt</th>\n",
       "      <th>total_income</th>\n",
       "      <th>purpose</th>\n",
       "    </tr>\n",
       "  </thead>\n",
       "  <tbody>\n",
       "    <tr>\n",
       "      <th>0</th>\n",
       "      <td>1</td>\n",
       "      <td>-8437.673028</td>\n",
       "      <td>42</td>\n",
       "      <td>высшее</td>\n",
       "      <td>0</td>\n",
       "      <td>женат / замужем</td>\n",
       "      <td>0</td>\n",
       "      <td>F</td>\n",
       "      <td>сотрудник</td>\n",
       "      <td>0</td>\n",
       "      <td>253875.639453</td>\n",
       "      <td>покупка жилья</td>\n",
       "    </tr>\n",
       "    <tr>\n",
       "      <th>1</th>\n",
       "      <td>1</td>\n",
       "      <td>-4024.803754</td>\n",
       "      <td>36</td>\n",
       "      <td>среднее</td>\n",
       "      <td>1</td>\n",
       "      <td>женат / замужем</td>\n",
       "      <td>0</td>\n",
       "      <td>F</td>\n",
       "      <td>сотрудник</td>\n",
       "      <td>0</td>\n",
       "      <td>112080.014102</td>\n",
       "      <td>приобретение автомобиля</td>\n",
       "    </tr>\n",
       "    <tr>\n",
       "      <th>2</th>\n",
       "      <td>0</td>\n",
       "      <td>-5623.422610</td>\n",
       "      <td>33</td>\n",
       "      <td>Среднее</td>\n",
       "      <td>1</td>\n",
       "      <td>женат / замужем</td>\n",
       "      <td>0</td>\n",
       "      <td>M</td>\n",
       "      <td>сотрудник</td>\n",
       "      <td>0</td>\n",
       "      <td>145885.952297</td>\n",
       "      <td>покупка жилья</td>\n",
       "    </tr>\n",
       "    <tr>\n",
       "      <th>3</th>\n",
       "      <td>3</td>\n",
       "      <td>-4124.747207</td>\n",
       "      <td>32</td>\n",
       "      <td>среднее</td>\n",
       "      <td>1</td>\n",
       "      <td>женат / замужем</td>\n",
       "      <td>0</td>\n",
       "      <td>M</td>\n",
       "      <td>сотрудник</td>\n",
       "      <td>0</td>\n",
       "      <td>267628.550329</td>\n",
       "      <td>дополнительное образование</td>\n",
       "    </tr>\n",
       "    <tr>\n",
       "      <th>4</th>\n",
       "      <td>0</td>\n",
       "      <td>340266.072047</td>\n",
       "      <td>53</td>\n",
       "      <td>среднее</td>\n",
       "      <td>1</td>\n",
       "      <td>гражданский брак</td>\n",
       "      <td>1</td>\n",
       "      <td>F</td>\n",
       "      <td>пенсионер</td>\n",
       "      <td>0</td>\n",
       "      <td>158616.077870</td>\n",
       "      <td>сыграть свадьбу</td>\n",
       "    </tr>\n",
       "    <tr>\n",
       "      <th>5</th>\n",
       "      <td>0</td>\n",
       "      <td>-926.185831</td>\n",
       "      <td>27</td>\n",
       "      <td>высшее</td>\n",
       "      <td>0</td>\n",
       "      <td>гражданский брак</td>\n",
       "      <td>1</td>\n",
       "      <td>M</td>\n",
       "      <td>компаньон</td>\n",
       "      <td>0</td>\n",
       "      <td>255763.565419</td>\n",
       "      <td>покупка жилья</td>\n",
       "    </tr>\n",
       "    <tr>\n",
       "      <th>6</th>\n",
       "      <td>0</td>\n",
       "      <td>-2879.202052</td>\n",
       "      <td>43</td>\n",
       "      <td>высшее</td>\n",
       "      <td>0</td>\n",
       "      <td>женат / замужем</td>\n",
       "      <td>0</td>\n",
       "      <td>F</td>\n",
       "      <td>компаньон</td>\n",
       "      <td>0</td>\n",
       "      <td>240525.971920</td>\n",
       "      <td>операции с жильем</td>\n",
       "    </tr>\n",
       "    <tr>\n",
       "      <th>7</th>\n",
       "      <td>0</td>\n",
       "      <td>-152.779569</td>\n",
       "      <td>50</td>\n",
       "      <td>СРЕДНЕЕ</td>\n",
       "      <td>1</td>\n",
       "      <td>женат / замужем</td>\n",
       "      <td>0</td>\n",
       "      <td>M</td>\n",
       "      <td>сотрудник</td>\n",
       "      <td>0</td>\n",
       "      <td>135823.934197</td>\n",
       "      <td>образование</td>\n",
       "    </tr>\n",
       "    <tr>\n",
       "      <th>8</th>\n",
       "      <td>2</td>\n",
       "      <td>-6929.865299</td>\n",
       "      <td>35</td>\n",
       "      <td>ВЫСШЕЕ</td>\n",
       "      <td>0</td>\n",
       "      <td>гражданский брак</td>\n",
       "      <td>1</td>\n",
       "      <td>F</td>\n",
       "      <td>сотрудник</td>\n",
       "      <td>0</td>\n",
       "      <td>95856.832424</td>\n",
       "      <td>на проведение свадьбы</td>\n",
       "    </tr>\n",
       "    <tr>\n",
       "      <th>9</th>\n",
       "      <td>0</td>\n",
       "      <td>-2188.756445</td>\n",
       "      <td>41</td>\n",
       "      <td>среднее</td>\n",
       "      <td>1</td>\n",
       "      <td>женат / замужем</td>\n",
       "      <td>0</td>\n",
       "      <td>M</td>\n",
       "      <td>сотрудник</td>\n",
       "      <td>0</td>\n",
       "      <td>144425.938277</td>\n",
       "      <td>покупка жилья для семьи</td>\n",
       "    </tr>\n",
       "    <tr>\n",
       "      <th>10</th>\n",
       "      <td>2</td>\n",
       "      <td>-4171.483647</td>\n",
       "      <td>36</td>\n",
       "      <td>высшее</td>\n",
       "      <td>0</td>\n",
       "      <td>женат / замужем</td>\n",
       "      <td>0</td>\n",
       "      <td>M</td>\n",
       "      <td>компаньон</td>\n",
       "      <td>0</td>\n",
       "      <td>113943.491460</td>\n",
       "      <td>покупка недвижимости</td>\n",
       "    </tr>\n",
       "    <tr>\n",
       "      <th>11</th>\n",
       "      <td>0</td>\n",
       "      <td>-792.701887</td>\n",
       "      <td>40</td>\n",
       "      <td>среднее</td>\n",
       "      <td>1</td>\n",
       "      <td>женат / замужем</td>\n",
       "      <td>0</td>\n",
       "      <td>F</td>\n",
       "      <td>сотрудник</td>\n",
       "      <td>0</td>\n",
       "      <td>77069.234271</td>\n",
       "      <td>покупка коммерческой недвижимости</td>\n",
       "    </tr>\n",
       "    <tr>\n",
       "      <th>12</th>\n",
       "      <td>0</td>\n",
       "      <td>NaN</td>\n",
       "      <td>65</td>\n",
       "      <td>среднее</td>\n",
       "      <td>1</td>\n",
       "      <td>гражданский брак</td>\n",
       "      <td>1</td>\n",
       "      <td>M</td>\n",
       "      <td>пенсионер</td>\n",
       "      <td>0</td>\n",
       "      <td>NaN</td>\n",
       "      <td>сыграть свадьбу</td>\n",
       "    </tr>\n",
       "    <tr>\n",
       "      <th>13</th>\n",
       "      <td>0</td>\n",
       "      <td>-1846.641941</td>\n",
       "      <td>54</td>\n",
       "      <td>неоконченное высшее</td>\n",
       "      <td>2</td>\n",
       "      <td>женат / замужем</td>\n",
       "      <td>0</td>\n",
       "      <td>F</td>\n",
       "      <td>сотрудник</td>\n",
       "      <td>0</td>\n",
       "      <td>130458.228857</td>\n",
       "      <td>приобретение автомобиля</td>\n",
       "    </tr>\n",
       "    <tr>\n",
       "      <th>14</th>\n",
       "      <td>0</td>\n",
       "      <td>-1844.956182</td>\n",
       "      <td>56</td>\n",
       "      <td>высшее</td>\n",
       "      <td>0</td>\n",
       "      <td>гражданский брак</td>\n",
       "      <td>1</td>\n",
       "      <td>F</td>\n",
       "      <td>компаньон</td>\n",
       "      <td>1</td>\n",
       "      <td>165127.911772</td>\n",
       "      <td>покупка жилой недвижимости</td>\n",
       "    </tr>\n",
       "    <tr>\n",
       "      <th>15</th>\n",
       "      <td>1</td>\n",
       "      <td>-972.364419</td>\n",
       "      <td>26</td>\n",
       "      <td>среднее</td>\n",
       "      <td>1</td>\n",
       "      <td>женат / замужем</td>\n",
       "      <td>0</td>\n",
       "      <td>F</td>\n",
       "      <td>сотрудник</td>\n",
       "      <td>0</td>\n",
       "      <td>116820.904450</td>\n",
       "      <td>строительство собственной недвижимости</td>\n",
       "    </tr>\n",
       "    <tr>\n",
       "      <th>16</th>\n",
       "      <td>0</td>\n",
       "      <td>-1719.934226</td>\n",
       "      <td>35</td>\n",
       "      <td>среднее</td>\n",
       "      <td>1</td>\n",
       "      <td>женат / замужем</td>\n",
       "      <td>0</td>\n",
       "      <td>F</td>\n",
       "      <td>сотрудник</td>\n",
       "      <td>0</td>\n",
       "      <td>289202.704229</td>\n",
       "      <td>недвижимость</td>\n",
       "    </tr>\n",
       "    <tr>\n",
       "      <th>17</th>\n",
       "      <td>0</td>\n",
       "      <td>-2369.999720</td>\n",
       "      <td>33</td>\n",
       "      <td>высшее</td>\n",
       "      <td>0</td>\n",
       "      <td>гражданский брак</td>\n",
       "      <td>1</td>\n",
       "      <td>M</td>\n",
       "      <td>сотрудник</td>\n",
       "      <td>0</td>\n",
       "      <td>90410.586745</td>\n",
       "      <td>строительство недвижимости</td>\n",
       "    </tr>\n",
       "    <tr>\n",
       "      <th>18</th>\n",
       "      <td>0</td>\n",
       "      <td>400281.136913</td>\n",
       "      <td>53</td>\n",
       "      <td>среднее</td>\n",
       "      <td>1</td>\n",
       "      <td>вдовец / вдова</td>\n",
       "      <td>2</td>\n",
       "      <td>F</td>\n",
       "      <td>пенсионер</td>\n",
       "      <td>0</td>\n",
       "      <td>56823.777243</td>\n",
       "      <td>на покупку подержанного автомобиля</td>\n",
       "    </tr>\n",
       "    <tr>\n",
       "      <th>19</th>\n",
       "      <td>0</td>\n",
       "      <td>-10038.818549</td>\n",
       "      <td>48</td>\n",
       "      <td>СРЕДНЕЕ</td>\n",
       "      <td>1</td>\n",
       "      <td>в разводе</td>\n",
       "      <td>3</td>\n",
       "      <td>F</td>\n",
       "      <td>сотрудник</td>\n",
       "      <td>0</td>\n",
       "      <td>242831.107982</td>\n",
       "      <td>на покупку своего автомобиля</td>\n",
       "    </tr>\n",
       "  </tbody>\n",
       "</table>\n",
       "</div>"
      ],
      "text/plain": [
       "    children  days_employed  dob_years            education  education_id  \\\n",
       "0          1   -8437.673028         42               высшее             0   \n",
       "1          1   -4024.803754         36              среднее             1   \n",
       "2          0   -5623.422610         33              Среднее             1   \n",
       "3          3   -4124.747207         32              среднее             1   \n",
       "4          0  340266.072047         53              среднее             1   \n",
       "5          0    -926.185831         27               высшее             0   \n",
       "6          0   -2879.202052         43               высшее             0   \n",
       "7          0    -152.779569         50              СРЕДНЕЕ             1   \n",
       "8          2   -6929.865299         35               ВЫСШЕЕ             0   \n",
       "9          0   -2188.756445         41              среднее             1   \n",
       "10         2   -4171.483647         36               высшее             0   \n",
       "11         0    -792.701887         40              среднее             1   \n",
       "12         0            NaN         65              среднее             1   \n",
       "13         0   -1846.641941         54  неоконченное высшее             2   \n",
       "14         0   -1844.956182         56               высшее             0   \n",
       "15         1    -972.364419         26              среднее             1   \n",
       "16         0   -1719.934226         35              среднее             1   \n",
       "17         0   -2369.999720         33               высшее             0   \n",
       "18         0  400281.136913         53              среднее             1   \n",
       "19         0  -10038.818549         48              СРЕДНЕЕ             1   \n",
       "\n",
       "       family_status  family_status_id gender income_type  debt  \\\n",
       "0    женат / замужем                 0      F   сотрудник     0   \n",
       "1    женат / замужем                 0      F   сотрудник     0   \n",
       "2    женат / замужем                 0      M   сотрудник     0   \n",
       "3    женат / замужем                 0      M   сотрудник     0   \n",
       "4   гражданский брак                 1      F   пенсионер     0   \n",
       "5   гражданский брак                 1      M   компаньон     0   \n",
       "6    женат / замужем                 0      F   компаньон     0   \n",
       "7    женат / замужем                 0      M   сотрудник     0   \n",
       "8   гражданский брак                 1      F   сотрудник     0   \n",
       "9    женат / замужем                 0      M   сотрудник     0   \n",
       "10   женат / замужем                 0      M   компаньон     0   \n",
       "11   женат / замужем                 0      F   сотрудник     0   \n",
       "12  гражданский брак                 1      M   пенсионер     0   \n",
       "13   женат / замужем                 0      F   сотрудник     0   \n",
       "14  гражданский брак                 1      F   компаньон     1   \n",
       "15   женат / замужем                 0      F   сотрудник     0   \n",
       "16   женат / замужем                 0      F   сотрудник     0   \n",
       "17  гражданский брак                 1      M   сотрудник     0   \n",
       "18    вдовец / вдова                 2      F   пенсионер     0   \n",
       "19         в разводе                 3      F   сотрудник     0   \n",
       "\n",
       "     total_income                                 purpose  \n",
       "0   253875.639453                           покупка жилья  \n",
       "1   112080.014102                 приобретение автомобиля  \n",
       "2   145885.952297                           покупка жилья  \n",
       "3   267628.550329              дополнительное образование  \n",
       "4   158616.077870                         сыграть свадьбу  \n",
       "5   255763.565419                           покупка жилья  \n",
       "6   240525.971920                       операции с жильем  \n",
       "7   135823.934197                             образование  \n",
       "8    95856.832424                   на проведение свадьбы  \n",
       "9   144425.938277                 покупка жилья для семьи  \n",
       "10  113943.491460                    покупка недвижимости  \n",
       "11   77069.234271       покупка коммерческой недвижимости  \n",
       "12            NaN                         сыграть свадьбу  \n",
       "13  130458.228857                 приобретение автомобиля  \n",
       "14  165127.911772              покупка жилой недвижимости  \n",
       "15  116820.904450  строительство собственной недвижимости  \n",
       "16  289202.704229                            недвижимость  \n",
       "17   90410.586745              строительство недвижимости  \n",
       "18   56823.777243      на покупку подержанного автомобиля  \n",
       "19  242831.107982            на покупку своего автомобиля  "
      ]
     },
     "execution_count": 2,
     "metadata": {},
     "output_type": "execute_result"
    }
   ],
   "source": [
    "data.head(20)"
   ]
  },
  {
   "cell_type": "markdown",
   "id": "dea9f0b9",
   "metadata": {
    "deletable": false,
    "editable": false,
    "id": "1c12e233"
   },
   "source": [
    "**Задание 3. Выведите основную информацию о датафрейме с помощью метода `info()`.**"
   ]
  },
  {
   "cell_type": "code",
   "execution_count": 3,
   "id": "cdd2a1a4",
   "metadata": {
    "deletable": false,
    "id": "2b757bca",
    "outputId": "15376089-8dad-46c9-b520-c05248d43158"
   },
   "outputs": [
    {
     "name": "stdout",
     "output_type": "stream",
     "text": [
      "<class 'pandas.core.frame.DataFrame'>\n",
      "RangeIndex: 21525 entries, 0 to 21524\n",
      "Data columns (total 12 columns):\n",
      " #   Column            Non-Null Count  Dtype  \n",
      "---  ------            --------------  -----  \n",
      " 0   children          21525 non-null  int64  \n",
      " 1   days_employed     19351 non-null  float64\n",
      " 2   dob_years         21525 non-null  int64  \n",
      " 3   education         21525 non-null  object \n",
      " 4   education_id      21525 non-null  int64  \n",
      " 5   family_status     21525 non-null  object \n",
      " 6   family_status_id  21525 non-null  int64  \n",
      " 7   gender            21525 non-null  object \n",
      " 8   income_type       21525 non-null  object \n",
      " 9   debt              21525 non-null  int64  \n",
      " 10  total_income      19351 non-null  float64\n",
      " 11  purpose           21525 non-null  object \n",
      "dtypes: float64(2), int64(5), object(5)\n",
      "memory usage: 2.0+ MB\n"
     ]
    }
   ],
   "source": [
    "data.info()"
   ]
  },
  {
   "cell_type": "markdown",
   "id": "bbcf2fa0",
   "metadata": {
    "deletable": false,
    "editable": false,
    "id": "333ec665"
   },
   "source": [
    "## Предобработка данных"
   ]
  },
  {
   "cell_type": "markdown",
   "id": "c41b591b",
   "metadata": {
    "deletable": false,
    "editable": false,
    "id": "02d92d53"
   },
   "source": [
    "### Удаление пропусков"
   ]
  },
  {
   "cell_type": "markdown",
   "id": "02ca0322",
   "metadata": {
    "deletable": false,
    "editable": false,
    "id": "cd84967c"
   },
   "source": [
    "**Задание 4. Выведите количество пропущенных значений для каждого столбца. Используйте комбинацию двух методов.**"
   ]
  },
  {
   "cell_type": "code",
   "execution_count": 4,
   "id": "56a4f851",
   "metadata": {
    "deletable": false,
    "id": "7f9b2309",
    "outputId": "81f4d817-781c-465c-ed15-91ce4446810d"
   },
   "outputs": [
    {
     "data": {
      "text/plain": [
       "children               0\n",
       "days_employed       2174\n",
       "dob_years              0\n",
       "education              0\n",
       "education_id           0\n",
       "family_status          0\n",
       "family_status_id       0\n",
       "gender                 0\n",
       "income_type            0\n",
       "debt                   0\n",
       "total_income        2174\n",
       "purpose                0\n",
       "dtype: int64"
      ]
     },
     "execution_count": 4,
     "metadata": {},
     "output_type": "execute_result"
    }
   ],
   "source": [
    "data.isna().sum()"
   ]
  },
  {
   "cell_type": "markdown",
   "id": "2ded51aa",
   "metadata": {
    "deletable": false,
    "editable": false,
    "id": "db86e27b"
   },
   "source": [
    "**Задание 5. В двух столбцах есть пропущенные значения. Один из них — `days_employed`. Пропуски в этом столбце вы обработаете на следующем этапе. Другой столбец с пропущенными значениями — `total_income` — хранит данные о доходах. На сумму дохода сильнее всего влияет тип занятости, поэтому заполнить пропуски в этом столбце нужно медианным значением по каждому типу из столбца `income_type`. Например, у человека с типом занятости `сотрудник` пропуск в столбце `total_income` должен быть заполнен медианным доходом среди всех записей с тем же типом.**"
   ]
  },
  {
   "cell_type": "code",
   "execution_count": 5,
   "id": "60e6b74c",
   "metadata": {
    "deletable": false,
    "id": "42006a93"
   },
   "outputs": [],
   "source": [
    "for t in data['income_type'].unique():\n",
    "    data.loc[(data['income_type'] == t) & (data['total_income'].isna()), 'total_income'] = \\\n",
    "    data.loc[(data['income_type'] == t), 'total_income'].median()"
   ]
  },
  {
   "cell_type": "markdown",
   "id": "bec98c50",
   "metadata": {
    "deletable": false,
    "editable": false,
    "id": "89da5ece"
   },
   "source": [
    "### Обработка аномальных значений"
   ]
  },
  {
   "cell_type": "markdown",
   "id": "35565de2",
   "metadata": {
    "deletable": false,
    "editable": false,
    "id": "57964554"
   },
   "source": [
    "**Задание 6. В данных могут встречаться артефакты (аномалии) — значения, которые не отражают действительность и появились по какой-то ошибке. таким артефактом будет отрицательное количество дней трудового стажа в столбце `days_employed`. Для реальных данных это нормально. Обработайте значения в этом столбце: замените все отрицательные значения положительными с помощью метода `abs()`.**"
   ]
  },
  {
   "cell_type": "code",
   "execution_count": 6,
   "id": "c27f7a43",
   "metadata": {
    "deletable": false,
    "id": "f6f055bf"
   },
   "outputs": [],
   "source": [
    "data['days_employed'] = data['days_employed'].abs()"
   ]
  },
  {
   "cell_type": "markdown",
   "id": "3dd6b83f",
   "metadata": {
    "deletable": false,
    "editable": false,
    "id": "6107dd2f"
   },
   "source": [
    "**Задание 7. Для каждого типа занятости выведите медианное значение трудового стажа `days_employed` в днях.**"
   ]
  },
  {
   "cell_type": "code",
   "execution_count": 7,
   "id": "ae947cd7",
   "metadata": {
    "deletable": false,
    "id": "85a5faf6",
    "outputId": "801ef80e-522b-4668-f34e-565af7432bcf"
   },
   "outputs": [
    {
     "data": {
      "text/plain": [
       "income_type\n",
       "безработный        366413.652744\n",
       "в декрете            3296.759962\n",
       "госслужащий          2689.368353\n",
       "компаньон            1547.382223\n",
       "пенсионер          365213.306266\n",
       "предприниматель       520.848083\n",
       "сотрудник            1574.202821\n",
       "студент               578.751554\n",
       "Name: days_employed, dtype: float64"
      ]
     },
     "execution_count": 7,
     "metadata": {},
     "output_type": "execute_result"
    }
   ],
   "source": [
    "data.groupby('income_type')['days_employed'].agg('median')"
   ]
  },
  {
   "cell_type": "markdown",
   "id": "4fc57e39",
   "metadata": {
    "deletable": false,
    "editable": false,
    "id": "38d1a030"
   },
   "source": [
    "У двух типов (безработные и пенсионеры) получатся аномально большие значения. Исправить такие значения сложно, поэтому оставьте их как есть. Тем более этот столбец не понадобится вам для исследования."
   ]
  },
  {
   "cell_type": "markdown",
   "id": "fd988f21",
   "metadata": {
    "deletable": false,
    "editable": false,
    "id": "d8a9f147"
   },
   "source": [
    "**Задание 8. Выведите перечень уникальных значений столбца `children`.**"
   ]
  },
  {
   "cell_type": "code",
   "execution_count": 8,
   "id": "2642343d",
   "metadata": {
    "deletable": false,
    "id": "ef5056eb",
    "outputId": "6975b15c-7f95-4697-d16d-a0c79b657b03"
   },
   "outputs": [
    {
     "data": {
      "text/plain": [
       "array([ 1,  0,  3,  2, -1,  4, 20,  5])"
      ]
     },
     "execution_count": 8,
     "metadata": {},
     "output_type": "execute_result"
    }
   ],
   "source": [
    "data['children'].unique()"
   ]
  },
  {
   "cell_type": "markdown",
   "id": "581d30f2",
   "metadata": {
    "deletable": false,
    "editable": false,
    "id": "40b9ebf2"
   },
   "source": [
    "**Задание 9. В столбце `children` есть два аномальных значения. Удалите строки, в которых встречаются такие аномальные значения из датафрейма `data`.**"
   ]
  },
  {
   "cell_type": "code",
   "execution_count": 9,
   "id": "d8fa704b",
   "metadata": {
    "deletable": false,
    "id": "3ff9801d"
   },
   "outputs": [],
   "source": [
    "data = data[(data['children'] != -1) & (data['children'] != 20)]"
   ]
  },
  {
   "cell_type": "markdown",
   "id": "a96ffc07",
   "metadata": {
    "deletable": false,
    "editable": false,
    "id": "bbc4d0ce"
   },
   "source": [
    "**Задание 10. Ещё раз выведите перечень уникальных значений столбца `children`, чтобы убедиться, что артефакты удалены.**"
   ]
  },
  {
   "cell_type": "code",
   "execution_count": 10,
   "id": "cb651738",
   "metadata": {
    "deletable": false,
    "id": "ad4fa8b7",
    "outputId": "b2097101-d49d-44d9-901b-32a65c9463d1"
   },
   "outputs": [
    {
     "data": {
      "text/plain": [
       "array([1, 0, 3, 2, 4, 5])"
      ]
     },
     "execution_count": 10,
     "metadata": {},
     "output_type": "execute_result"
    }
   ],
   "source": [
    "data['children'].unique()"
   ]
  },
  {
   "cell_type": "markdown",
   "id": "8aa0ac1f",
   "metadata": {
    "deletable": false,
    "editable": false,
    "id": "75440b63"
   },
   "source": [
    "### Удаление пропусков (продолжение)"
   ]
  },
  {
   "cell_type": "markdown",
   "id": "dbc9eba5",
   "metadata": {
    "deletable": false,
    "editable": false,
    "id": "f4ea573f"
   },
   "source": [
    "**Задание 11. Заполните пропуски в столбце `days_employed` медианными значениями по каждого типа занятости `income_type`.**"
   ]
  },
  {
   "cell_type": "code",
   "execution_count": 11,
   "id": "db181dcc",
   "metadata": {
    "deletable": false,
    "id": "af6b1a7e"
   },
   "outputs": [],
   "source": [
    "for t in data['income_type'].unique():\n",
    "    data.loc[(data['income_type'] == t) & (data['days_employed'].isna()), 'days_employed'] = \\\n",
    "    data.loc[(data['income_type'] == t), 'days_employed'].median()"
   ]
  },
  {
   "cell_type": "markdown",
   "id": "16d26b56",
   "metadata": {
    "deletable": false,
    "editable": false,
    "id": "2753f40d"
   },
   "source": [
    "**Задание 12. Убедитесь, что все пропуски заполнены. Проверьте себя и ещё раз выведите количество пропущенных значений для каждого столбца с помощью двух методов.**"
   ]
  },
  {
   "cell_type": "code",
   "execution_count": 12,
   "id": "2f2798ff",
   "metadata": {
    "deletable": false,
    "id": "55f78bc2",
    "outputId": "8da1e4e1-358e-4e87-98c9-f261bce0a7b2"
   },
   "outputs": [
    {
     "data": {
      "text/plain": [
       "children            0\n",
       "days_employed       0\n",
       "dob_years           0\n",
       "education           0\n",
       "education_id        0\n",
       "family_status       0\n",
       "family_status_id    0\n",
       "gender              0\n",
       "income_type         0\n",
       "debt                0\n",
       "total_income        0\n",
       "purpose             0\n",
       "dtype: int64"
      ]
     },
     "execution_count": 12,
     "metadata": {},
     "output_type": "execute_result"
    }
   ],
   "source": [
    "data.isna().sum()"
   ]
  },
  {
   "cell_type": "markdown",
   "id": "f0ec3078",
   "metadata": {
    "deletable": false,
    "editable": false,
    "id": "ddc81e43"
   },
   "source": [
    "### Изменение типов данных"
   ]
  },
  {
   "cell_type": "markdown",
   "id": "097d9e1f",
   "metadata": {
    "deletable": false,
    "editable": false,
    "id": "42d19d24"
   },
   "source": [
    "**Задание 13. Замените вещественный тип данных в столбце `total_income` на целочисленный с помощью метода `astype()`.**"
   ]
  },
  {
   "cell_type": "code",
   "execution_count": 13,
   "id": "299a59c0",
   "metadata": {
    "deletable": false,
    "id": "920b65ad"
   },
   "outputs": [],
   "source": [
    "data['total_income'] = data['total_income'].astype(int)"
   ]
  },
  {
   "cell_type": "markdown",
   "id": "33403234",
   "metadata": {
    "deletable": false,
    "editable": false,
    "id": "80c420ba"
   },
   "source": [
    "### Обработка дубликатов"
   ]
  },
  {
   "cell_type": "markdown",
   "id": "a43e5f38",
   "metadata": {
    "deletable": false,
    "editable": false
   },
   "source": [
    "**Задание 14. Обработайте неявные дубликаты в столбце `education`. В этом столбце есть одни и те же значения, но записанные по-разному: с использованием заглавных и строчных букв. Приведите их к нижнему регистру. Проверьте остальные столбцы.**"
   ]
  },
  {
   "cell_type": "code",
   "execution_count": 14,
   "id": "38382cbd",
   "metadata": {
    "deletable": false
   },
   "outputs": [],
   "source": [
    "data['education'] = data['education'].str.lower()"
   ]
  },
  {
   "cell_type": "markdown",
   "id": "898e0dc4",
   "metadata": {
    "deletable": false,
    "editable": false,
    "id": "dc587695"
   },
   "source": [
    "**Задание 15. Выведите на экран количество строк-дубликатов в данных. Если такие строки присутствуют, удалите их.**"
   ]
  },
  {
   "cell_type": "code",
   "execution_count": 15,
   "id": "3fee5b26",
   "metadata": {
    "deletable": false,
    "id": "3ee445e4",
    "outputId": "9684deba-1934-42d1-99e1-cda61740f822"
   },
   "outputs": [
    {
     "data": {
      "text/plain": [
       "71"
      ]
     },
     "execution_count": 15,
     "metadata": {},
     "output_type": "execute_result"
    }
   ],
   "source": [
    "data.duplicated().sum()"
   ]
  },
  {
   "cell_type": "code",
   "execution_count": 16,
   "id": "d287c816",
   "metadata": {
    "deletable": false,
    "id": "8575fe05"
   },
   "outputs": [],
   "source": [
    "data = data.drop_duplicates()"
   ]
  },
  {
   "cell_type": "markdown",
   "id": "f65cd64c",
   "metadata": {
    "deletable": false,
    "editable": false,
    "id": "9904cf55"
   },
   "source": [
    "### Категоризация данных"
   ]
  },
  {
   "cell_type": "markdown",
   "id": "3e8a5298",
   "metadata": {
    "deletable": false,
    "editable": false,
    "id": "72fcc8a2"
   },
   "source": [
    "**Задание 16. На основании диапазонов, указанных ниже, создайте в датафрейме `data` столбец `total_income_category` с категориями:**\n",
    "\n",
    "- 0–30000 — `'E'`;\n",
    "- 30001–50000 — `'D'`;\n",
    "- 50001–200000 — `'C'`;\n",
    "- 200001–1000000 — `'B'`;\n",
    "- 1000001 и выше — `'A'`.\n",
    "\n",
    "\n",
    "**Например, кредитополучателю с доходом 25000 нужно назначить категорию `'E'`, а клиенту, получающему 235000, — `'B'`. Используйте собственную функцию с именем `categorize_income()` и метод `apply()`.**"
   ]
  },
  {
   "cell_type": "code",
   "execution_count": 17,
   "id": "6acd350c",
   "metadata": {
    "deletable": false,
    "id": "e1771346"
   },
   "outputs": [],
   "source": [
    "def categorize_income(income):\n",
    "    try:\n",
    "        if 0 <= income <= 30000:\n",
    "            return 'E'\n",
    "        elif 30001 <= income <= 50000:\n",
    "            return 'D'\n",
    "        elif 50001 <= income <= 200000:\n",
    "            return 'C'\n",
    "        elif 200001 <= income <= 1000000:\n",
    "            return 'B'\n",
    "        elif income >= 1000001:\n",
    "            return 'A'\n",
    "    except:\n",
    "        pass"
   ]
  },
  {
   "cell_type": "code",
   "execution_count": 18,
   "id": "aabf9b9c",
   "metadata": {
    "deletable": false,
    "id": "d5f3586d"
   },
   "outputs": [],
   "source": [
    "data['total_income_category'] = data['total_income'].apply(categorize_income)"
   ]
  },
  {
   "cell_type": "markdown",
   "id": "4f000f6d",
   "metadata": {
    "deletable": false,
    "editable": false,
    "id": "dde49b5c"
   },
   "source": [
    "**Задание 17. Выведите на экран перечень уникальных целей взятия кредита из столбца `purpose`.**"
   ]
  },
  {
   "cell_type": "code",
   "execution_count": 19,
   "id": "bce025ca",
   "metadata": {
    "deletable": false,
    "id": "f67ce9b3",
    "outputId": "673c12d9-7d7e-4ae0-9812-c622c89dd244"
   },
   "outputs": [
    {
     "data": {
      "text/plain": [
       "array(['покупка жилья', 'приобретение автомобиля',\n",
       "       'дополнительное образование', 'сыграть свадьбу',\n",
       "       'операции с жильем', 'образование', 'на проведение свадьбы',\n",
       "       'покупка жилья для семьи', 'покупка недвижимости',\n",
       "       'покупка коммерческой недвижимости', 'покупка жилой недвижимости',\n",
       "       'строительство собственной недвижимости', 'недвижимость',\n",
       "       'строительство недвижимости', 'на покупку подержанного автомобиля',\n",
       "       'на покупку своего автомобиля',\n",
       "       'операции с коммерческой недвижимостью',\n",
       "       'строительство жилой недвижимости', 'жилье',\n",
       "       'операции со своей недвижимостью', 'автомобили',\n",
       "       'заняться образованием', 'сделка с подержанным автомобилем',\n",
       "       'получение образования', 'автомобиль', 'свадьба',\n",
       "       'получение дополнительного образования', 'покупка своего жилья',\n",
       "       'операции с недвижимостью', 'получение высшего образования',\n",
       "       'свой автомобиль', 'сделка с автомобилем',\n",
       "       'профильное образование', 'высшее образование',\n",
       "       'покупка жилья для сдачи', 'на покупку автомобиля', 'ремонт жилью',\n",
       "       'заняться высшим образованием'], dtype=object)"
      ]
     },
     "execution_count": 19,
     "metadata": {},
     "output_type": "execute_result"
    }
   ],
   "source": [
    "data['purpose'].unique()"
   ]
  },
  {
   "cell_type": "markdown",
   "id": "e0859b83",
   "metadata": {
    "deletable": false,
    "editable": false,
    "id": "85d0aef0"
   },
   "source": [
    "**Задание 18. Создайте функцию, которая на основании данных из столбца `purpose` сформирует новый столбец `purpose_category`, в который войдут следующие категории:**\n",
    "\n",
    "- `'операции с автомобилем'`,\n",
    "- `'операции с недвижимостью'`,\n",
    "- `'проведение свадьбы'`,\n",
    "- `'получение образования'`.\n",
    "\n",
    "**Например, если в столбце `purpose` находится подстрока `'на покупку автомобиля'`, то в столбце `purpose_category` должна появиться строка `'операции с автомобилем'`.**\n",
    "\n",
    "**Используйте собственную функцию с именем `categorize_purpose()` и метод `apply()`. Изучите данные в столбце `purpose` и определите, какие подстроки помогут вам правильно определить категорию.**"
   ]
  },
  {
   "cell_type": "code",
   "execution_count": 20,
   "id": "f9457019",
   "metadata": {
    "deletable": false,
    "id": "e149fab4"
   },
   "outputs": [],
   "source": [
    "def categorize_purpose(row):\n",
    "    try:\n",
    "        if 'автом' in row:\n",
    "            return 'операции с автомобилем'\n",
    "        elif 'жил' in row or 'недвиж' in row:\n",
    "            return 'операции с недвижимостью'\n",
    "        elif 'свад' in row:\n",
    "            return 'проведение свадьбы'\n",
    "        elif 'образов' in row:\n",
    "            return 'получение образования'\n",
    "    except:\n",
    "        return 'нет категории'"
   ]
  },
  {
   "cell_type": "code",
   "execution_count": 21,
   "id": "222d2e98",
   "metadata": {
    "deletable": false,
    "id": "bf36e69b"
   },
   "outputs": [],
   "source": [
    "data['purpose_category'] = data['purpose'].apply(categorize_purpose)"
   ]
  },
  {
   "cell_type": "markdown",
   "id": "486a6fe5",
   "metadata": {
    "deletable": false,
    "editable": false,
    "id": "09b242bf"
   },
   "source": [
    "### Шаг 3. Исследуйте данные и ответьте на вопросы"
   ]
  },
  {
   "cell_type": "markdown",
   "id": "abb836e8",
   "metadata": {
    "deletable": false,
    "editable": false,
    "id": "c5d66278"
   },
   "source": [
    "#### 3.1 Есть ли зависимость между количеством детей и возвратом кредита в срок?"
   ]
  },
  {
   "cell_type": "code",
   "execution_count": 22,
   "id": "5c7e9553",
   "metadata": {
    "deletable": false,
    "id": "2cacfc4a"
   },
   "outputs": [
    {
     "name": "stdout",
     "output_type": "stream",
     "text": [
      "          count   sum      mean\n",
      "           debt  debt      debt\n",
      "children                       \n",
      "0         14091  1063  0.075438\n",
      "1          4808   444  0.092346\n",
      "2          2052   194  0.094542\n",
      "3           330    27  0.081818\n",
      "4            41     4  0.097561\n",
      "5             9     0  0.000000\n"
     ]
    }
   ],
   "source": [
    "data_children_pivot = data.pivot_table(index=['children'],  values='debt', aggfunc = ['count','sum', 'mean'])\n",
    "\n",
    "print(data_children_pivot)"
   ]
  },
  {
   "cell_type": "code",
   "execution_count": 23,
   "id": "be1aa7e8",
   "metadata": {},
   "outputs": [
    {
     "data": {
      "text/html": [
       "<div>\n",
       "<style scoped>\n",
       "    .dataframe tbody tr th:only-of-type {\n",
       "        vertical-align: middle;\n",
       "    }\n",
       "\n",
       "    .dataframe tbody tr th {\n",
       "        vertical-align: top;\n",
       "    }\n",
       "\n",
       "    .dataframe thead th {\n",
       "        text-align: right;\n",
       "    }\n",
       "</style>\n",
       "<table border=\"1\" class=\"dataframe\">\n",
       "  <thead>\n",
       "    <tr style=\"text-align: right;\">\n",
       "      <th></th>\n",
       "      <th>children</th>\n",
       "      <th>days_employed</th>\n",
       "      <th>dob_years</th>\n",
       "      <th>education</th>\n",
       "      <th>education_id</th>\n",
       "      <th>family_status</th>\n",
       "      <th>family_status_id</th>\n",
       "      <th>gender</th>\n",
       "      <th>income_type</th>\n",
       "      <th>debt</th>\n",
       "      <th>total_income</th>\n",
       "      <th>purpose</th>\n",
       "      <th>total_income_category</th>\n",
       "      <th>purpose_category</th>\n",
       "    </tr>\n",
       "  </thead>\n",
       "  <tbody>\n",
       "    <tr>\n",
       "      <th>0</th>\n",
       "      <td>1</td>\n",
       "      <td>8437.673028</td>\n",
       "      <td>42</td>\n",
       "      <td>высшее</td>\n",
       "      <td>0</td>\n",
       "      <td>женат / замужем</td>\n",
       "      <td>0</td>\n",
       "      <td>F</td>\n",
       "      <td>сотрудник</td>\n",
       "      <td>0</td>\n",
       "      <td>253875</td>\n",
       "      <td>покупка жилья</td>\n",
       "      <td>B</td>\n",
       "      <td>операции с недвижимостью</td>\n",
       "    </tr>\n",
       "    <tr>\n",
       "      <th>1</th>\n",
       "      <td>1</td>\n",
       "      <td>4024.803754</td>\n",
       "      <td>36</td>\n",
       "      <td>среднее</td>\n",
       "      <td>1</td>\n",
       "      <td>женат / замужем</td>\n",
       "      <td>0</td>\n",
       "      <td>F</td>\n",
       "      <td>сотрудник</td>\n",
       "      <td>0</td>\n",
       "      <td>112080</td>\n",
       "      <td>приобретение автомобиля</td>\n",
       "      <td>C</td>\n",
       "      <td>операции с автомобилем</td>\n",
       "    </tr>\n",
       "  </tbody>\n",
       "</table>\n",
       "</div>"
      ],
      "text/plain": [
       "   children  days_employed  dob_years education  education_id  \\\n",
       "0         1    8437.673028         42    высшее             0   \n",
       "1         1    4024.803754         36   среднее             1   \n",
       "\n",
       "     family_status  family_status_id gender income_type  debt  total_income  \\\n",
       "0  женат / замужем                 0      F   сотрудник     0        253875   \n",
       "1  женат / замужем                 0      F   сотрудник     0        112080   \n",
       "\n",
       "                   purpose total_income_category          purpose_category  \n",
       "0            покупка жилья                     B  операции с недвижимостью  \n",
       "1  приобретение автомобиля                     C    операции с автомобилем  "
      ]
     },
     "metadata": {},
     "output_type": "display_data"
    },
    {
     "data": {
      "text/html": [
       "<div>\n",
       "<style scoped>\n",
       "    .dataframe tbody tr th:only-of-type {\n",
       "        vertical-align: middle;\n",
       "    }\n",
       "\n",
       "    .dataframe tbody tr th {\n",
       "        vertical-align: top;\n",
       "    }\n",
       "\n",
       "    .dataframe thead th {\n",
       "        text-align: right;\n",
       "    }\n",
       "</style>\n",
       "<table border=\"1\" class=\"dataframe\">\n",
       "  <thead>\n",
       "    <tr style=\"text-align: right;\">\n",
       "      <th></th>\n",
       "      <th>children</th>\n",
       "      <th>days_employed</th>\n",
       "      <th>dob_years</th>\n",
       "      <th>education</th>\n",
       "      <th>education_id</th>\n",
       "      <th>family_status</th>\n",
       "      <th>family_status_id</th>\n",
       "      <th>gender</th>\n",
       "      <th>income_type</th>\n",
       "      <th>debt</th>\n",
       "      <th>total_income</th>\n",
       "      <th>purpose</th>\n",
       "      <th>total_income_category</th>\n",
       "      <th>purpose_category</th>\n",
       "    </tr>\n",
       "  </thead>\n",
       "  <tbody>\n",
       "    <tr>\n",
       "      <th>0</th>\n",
       "      <td>1</td>\n",
       "      <td>8437.673028</td>\n",
       "      <td>42</td>\n",
       "      <td>высшее</td>\n",
       "      <td>0</td>\n",
       "      <td>женат / замужем</td>\n",
       "      <td>0</td>\n",
       "      <td>F</td>\n",
       "      <td>сотрудник</td>\n",
       "      <td>0</td>\n",
       "      <td>253875</td>\n",
       "      <td>покупка жилья</td>\n",
       "      <td>B</td>\n",
       "      <td>операции с недвижимостью</td>\n",
       "    </tr>\n",
       "    <tr>\n",
       "      <th>1</th>\n",
       "      <td>1</td>\n",
       "      <td>4024.803754</td>\n",
       "      <td>36</td>\n",
       "      <td>среднее</td>\n",
       "      <td>1</td>\n",
       "      <td>женат / замужем</td>\n",
       "      <td>0</td>\n",
       "      <td>F</td>\n",
       "      <td>сотрудник</td>\n",
       "      <td>0</td>\n",
       "      <td>112080</td>\n",
       "      <td>приобретение автомобиля</td>\n",
       "      <td>C</td>\n",
       "      <td>операции с автомобилем</td>\n",
       "    </tr>\n",
       "    <tr>\n",
       "      <th>2</th>\n",
       "      <td>0</td>\n",
       "      <td>5623.422610</td>\n",
       "      <td>33</td>\n",
       "      <td>среднее</td>\n",
       "      <td>1</td>\n",
       "      <td>женат / замужем</td>\n",
       "      <td>0</td>\n",
       "      <td>M</td>\n",
       "      <td>сотрудник</td>\n",
       "      <td>0</td>\n",
       "      <td>145885</td>\n",
       "      <td>покупка жилья</td>\n",
       "      <td>C</td>\n",
       "      <td>операции с недвижимостью</td>\n",
       "    </tr>\n",
       "  </tbody>\n",
       "</table>\n",
       "</div>"
      ],
      "text/plain": [
       "   children  days_employed  dob_years education  education_id  \\\n",
       "0         1    8437.673028         42    высшее             0   \n",
       "1         1    4024.803754         36   среднее             1   \n",
       "2         0    5623.422610         33   среднее             1   \n",
       "\n",
       "     family_status  family_status_id gender income_type  debt  total_income  \\\n",
       "0  женат / замужем                 0      F   сотрудник     0        253875   \n",
       "1  женат / замужем                 0      F   сотрудник     0        112080   \n",
       "2  женат / замужем                 0      M   сотрудник     0        145885   \n",
       "\n",
       "                   purpose total_income_category          purpose_category  \n",
       "0            покупка жилья                     B  операции с недвижимостью  \n",
       "1  приобретение автомобиля                     C    операции с автомобилем  \n",
       "2            покупка жилья                     C  операции с недвижимостью  "
      ]
     },
     "metadata": {},
     "output_type": "display_data"
    },
    {
     "data": {
      "text/html": [
       "<div>\n",
       "<style scoped>\n",
       "    .dataframe tbody tr th:only-of-type {\n",
       "        vertical-align: middle;\n",
       "    }\n",
       "\n",
       "    .dataframe tbody tr th {\n",
       "        vertical-align: top;\n",
       "    }\n",
       "\n",
       "    .dataframe thead th {\n",
       "        text-align: right;\n",
       "    }\n",
       "</style>\n",
       "<table border=\"1\" class=\"dataframe\">\n",
       "  <thead>\n",
       "    <tr style=\"text-align: right;\">\n",
       "      <th></th>\n",
       "      <th>children</th>\n",
       "      <th>days_employed</th>\n",
       "      <th>dob_years</th>\n",
       "      <th>education</th>\n",
       "      <th>education_id</th>\n",
       "      <th>family_status</th>\n",
       "      <th>family_status_id</th>\n",
       "      <th>gender</th>\n",
       "      <th>income_type</th>\n",
       "      <th>debt</th>\n",
       "      <th>total_income</th>\n",
       "      <th>purpose</th>\n",
       "      <th>total_income_category</th>\n",
       "      <th>purpose_category</th>\n",
       "    </tr>\n",
       "  </thead>\n",
       "  <tbody>\n",
       "    <tr>\n",
       "      <th>0</th>\n",
       "      <td>1</td>\n",
       "      <td>8437.673028</td>\n",
       "      <td>42</td>\n",
       "      <td>высшее</td>\n",
       "      <td>0</td>\n",
       "      <td>женат / замужем</td>\n",
       "      <td>0</td>\n",
       "      <td>F</td>\n",
       "      <td>сотрудник</td>\n",
       "      <td>0</td>\n",
       "      <td>253875</td>\n",
       "      <td>покупка жилья</td>\n",
       "      <td>B</td>\n",
       "      <td>операции с недвижимостью</td>\n",
       "    </tr>\n",
       "    <tr>\n",
       "      <th>1</th>\n",
       "      <td>1</td>\n",
       "      <td>4024.803754</td>\n",
       "      <td>36</td>\n",
       "      <td>среднее</td>\n",
       "      <td>1</td>\n",
       "      <td>женат / замужем</td>\n",
       "      <td>0</td>\n",
       "      <td>F</td>\n",
       "      <td>сотрудник</td>\n",
       "      <td>0</td>\n",
       "      <td>112080</td>\n",
       "      <td>приобретение автомобиля</td>\n",
       "      <td>C</td>\n",
       "      <td>операции с автомобилем</td>\n",
       "    </tr>\n",
       "    <tr>\n",
       "      <th>2</th>\n",
       "      <td>0</td>\n",
       "      <td>5623.422610</td>\n",
       "      <td>33</td>\n",
       "      <td>среднее</td>\n",
       "      <td>1</td>\n",
       "      <td>женат / замужем</td>\n",
       "      <td>0</td>\n",
       "      <td>M</td>\n",
       "      <td>сотрудник</td>\n",
       "      <td>0</td>\n",
       "      <td>145885</td>\n",
       "      <td>покупка жилья</td>\n",
       "      <td>C</td>\n",
       "      <td>операции с недвижимостью</td>\n",
       "    </tr>\n",
       "    <tr>\n",
       "      <th>3</th>\n",
       "      <td>3</td>\n",
       "      <td>4124.747207</td>\n",
       "      <td>32</td>\n",
       "      <td>среднее</td>\n",
       "      <td>1</td>\n",
       "      <td>женат / замужем</td>\n",
       "      <td>0</td>\n",
       "      <td>M</td>\n",
       "      <td>сотрудник</td>\n",
       "      <td>0</td>\n",
       "      <td>267628</td>\n",
       "      <td>дополнительное образование</td>\n",
       "      <td>B</td>\n",
       "      <td>получение образования</td>\n",
       "    </tr>\n",
       "  </tbody>\n",
       "</table>\n",
       "</div>"
      ],
      "text/plain": [
       "   children  days_employed  dob_years education  education_id  \\\n",
       "0         1    8437.673028         42    высшее             0   \n",
       "1         1    4024.803754         36   среднее             1   \n",
       "2         0    5623.422610         33   среднее             1   \n",
       "3         3    4124.747207         32   среднее             1   \n",
       "\n",
       "     family_status  family_status_id gender income_type  debt  total_income  \\\n",
       "0  женат / замужем                 0      F   сотрудник     0        253875   \n",
       "1  женат / замужем                 0      F   сотрудник     0        112080   \n",
       "2  женат / замужем                 0      M   сотрудник     0        145885   \n",
       "3  женат / замужем                 0      M   сотрудник     0        267628   \n",
       "\n",
       "                      purpose total_income_category          purpose_category  \n",
       "0               покупка жилья                     B  операции с недвижимостью  \n",
       "1     приобретение автомобиля                     C    операции с автомобилем  \n",
       "2               покупка жилья                     C  операции с недвижимостью  \n",
       "3  дополнительное образование                     B     получение образования  "
      ]
     },
     "execution_count": 23,
     "metadata": {},
     "output_type": "execute_result"
    }
   ],
   "source": [
    "# КОД РЕВЬЮЕРА\n",
    "\n",
    "display(data.head(2))\n",
    "display(data.head(3))\n",
    "data.head(4)"
   ]
  },
  {
   "cell_type": "markdown",
   "id": "3e5053c5",
   "metadata": {
    "deletable": false,
    "id": "3a6b99ec"
   },
   "source": [
    "**Вывод:** "
   ]
  },
  {
   "cell_type": "markdown",
   "id": "76a59e2b",
   "metadata": {},
   "source": [
    "При иследовании зависимсти между количеством детей и возвратом кредита в срок выявили следующие данные. \n",
    "Самый большой процент невозврата кредита 9,76% с семьях с 4-мя детьми (таких семей всего 41, и на 41 семью приходится 4 невозрата). \n",
    "На втором и третьем месте семьи с 2-мя и с 1-им ребенком: 9,45% и 9,23% соответственно, процент возврата незначительно различается, а вот количество семей с 1-им ребенком в 2,3 раза превышает количество семей с 2-мя детьми (так же как и случаев невозврата).\n",
    "На 4-ом месте семьи с 3-мя детьми - невозврат составляет 8,18%.\n",
    "На 5-ом месте семьи без детей (таких семей в  2 раза больше, чем семей с детьми) - невозврат составляет 7,54%.\n",
    "и на 6-ом месте семьи с 5-ю детьми - там нет случаев невозврата."
   ]
  },
  {
   "cell_type": "code",
   "execution_count": 24,
   "id": "bea8c21e",
   "metadata": {
    "scrolled": true
   },
   "outputs": [
    {
     "data": {
      "text/html": [
       "<div>\n",
       "<style scoped>\n",
       "    .dataframe tbody tr th:only-of-type {\n",
       "        vertical-align: middle;\n",
       "    }\n",
       "\n",
       "    .dataframe tbody tr th {\n",
       "        vertical-align: top;\n",
       "    }\n",
       "\n",
       "    .dataframe thead th {\n",
       "        text-align: right;\n",
       "    }\n",
       "</style>\n",
       "<table border=\"1\" class=\"dataframe\">\n",
       "  <thead>\n",
       "    <tr style=\"text-align: right;\">\n",
       "      <th></th>\n",
       "      <th>count</th>\n",
       "      <th>mean</th>\n",
       "      <th>sum</th>\n",
       "      <th>percent</th>\n",
       "    </tr>\n",
       "    <tr>\n",
       "      <th>children</th>\n",
       "      <th></th>\n",
       "      <th></th>\n",
       "      <th></th>\n",
       "      <th></th>\n",
       "    </tr>\n",
       "  </thead>\n",
       "  <tbody>\n",
       "    <tr>\n",
       "      <th>4</th>\n",
       "      <td>41.0</td>\n",
       "      <td>0.097561</td>\n",
       "      <td>4.0</td>\n",
       "      <td>9.756098</td>\n",
       "    </tr>\n",
       "    <tr>\n",
       "      <th>2</th>\n",
       "      <td>2052.0</td>\n",
       "      <td>0.094542</td>\n",
       "      <td>194.0</td>\n",
       "      <td>9.454191</td>\n",
       "    </tr>\n",
       "    <tr>\n",
       "      <th>1</th>\n",
       "      <td>4808.0</td>\n",
       "      <td>0.092346</td>\n",
       "      <td>444.0</td>\n",
       "      <td>9.234609</td>\n",
       "    </tr>\n",
       "    <tr>\n",
       "      <th>3</th>\n",
       "      <td>330.0</td>\n",
       "      <td>0.081818</td>\n",
       "      <td>27.0</td>\n",
       "      <td>8.181818</td>\n",
       "    </tr>\n",
       "    <tr>\n",
       "      <th>0</th>\n",
       "      <td>14091.0</td>\n",
       "      <td>0.075438</td>\n",
       "      <td>1063.0</td>\n",
       "      <td>7.543822</td>\n",
       "    </tr>\n",
       "    <tr>\n",
       "      <th>5</th>\n",
       "      <td>9.0</td>\n",
       "      <td>0.000000</td>\n",
       "      <td>0.0</td>\n",
       "      <td>0.000000</td>\n",
       "    </tr>\n",
       "  </tbody>\n",
       "</table>\n",
       "</div>"
      ],
      "text/plain": [
       "            count      mean     sum   percent\n",
       "children                                     \n",
       "4            41.0  0.097561     4.0  9.756098\n",
       "2          2052.0  0.094542   194.0  9.454191\n",
       "1          4808.0  0.092346   444.0  9.234609\n",
       "3           330.0  0.081818    27.0  8.181818\n",
       "0         14091.0  0.075438  1063.0  7.543822\n",
       "5             9.0  0.000000     0.0  0.000000"
      ]
     },
     "metadata": {},
     "output_type": "display_data"
    }
   ],
   "source": [
    "data_children_pivot = data.pivot_table(index = ['children'],  values = 'debt', aggfunc = {'count', 'sum', 'mean'})\n",
    "data_children_pivot['percent'] = data_children_pivot['mean']*100\n",
    "data_children_pivot = data_children_pivot.sort_values(by='percent', ascending=False)\n",
    "display(data_children_pivot)"
   ]
  },
  {
   "cell_type": "markdown",
   "id": "de24e871",
   "metadata": {},
   "source": [
    "При иследовании зависимсти между количеством детей и возвратом кредита в срок выявили следующие данные. <br>\n",
    "<ul>\n",
    " <li> Самый большой процент невозврата кредита 9,76% с семьях с 4-мя детьми (таких семей всего 41, и на 41 семью приходится 4 невозрата). </li>\n",
    " <li> На втором и третьем месте семьи с 2-мя и с 1-им ребенком: 9,45% и 9,23% соответственно, процент возврата незначительно различается, а вот количество семей с 1-им ребенком в 2,3 раза превышает количество семей с 2-мя детьми (так же как и случаев невозврата).  </li>\n",
    " <li> На 4-ом месте семьи с 3-мя детьми - невозврат составляет 8,18%. <li>На 5-ом месте семьи без детей (таких семей в 2 раза больше, чем семей с детьми) - невозврат составляет 7,54%.  </li>\n",
    " </ul> <br> Cемьи с 5-ю детьми не имеют случаев невозврата. Данную категорию в анализе учитывать неккоректно, так как случаев невозврата не выявлено, категория совсем малочисленная. И, к тому же, у семей с 4-мя детьми доля просрочек самая большая, было бы ошибочным сделать вывод о том, что семьи с 5-ю детьми являются более надежными заемщики, чем с 4-мя."
   ]
  },
  {
   "cell_type": "markdown",
   "id": "34c3bea1",
   "metadata": {
    "deletable": false,
    "editable": false,
    "id": "97be82ca"
   },
   "source": [
    "#### 3.2 Есть ли зависимость между семейным положением и возвратом кредита в срок?"
   ]
  },
  {
   "cell_type": "code",
   "execution_count": 25,
   "id": "8523cb04",
   "metadata": {
    "deletable": false,
    "id": "dc3f7ee8"
   },
   "outputs": [
    {
     "data": {
      "text/html": [
       "<div>\n",
       "<style scoped>\n",
       "    .dataframe tbody tr th:only-of-type {\n",
       "        vertical-align: middle;\n",
       "    }\n",
       "\n",
       "    .dataframe tbody tr th {\n",
       "        vertical-align: top;\n",
       "    }\n",
       "\n",
       "    .dataframe thead th {\n",
       "        text-align: right;\n",
       "    }\n",
       "</style>\n",
       "<table border=\"1\" class=\"dataframe\">\n",
       "  <thead>\n",
       "    <tr style=\"text-align: right;\">\n",
       "      <th></th>\n",
       "      <th>count</th>\n",
       "      <th>mean</th>\n",
       "      <th>sum</th>\n",
       "      <th>percent</th>\n",
       "    </tr>\n",
       "    <tr>\n",
       "      <th>family_status</th>\n",
       "      <th></th>\n",
       "      <th></th>\n",
       "      <th></th>\n",
       "      <th></th>\n",
       "    </tr>\n",
       "  </thead>\n",
       "  <tbody>\n",
       "    <tr>\n",
       "      <th>Не женат / не замужем</th>\n",
       "      <td>2796.0</td>\n",
       "      <td>0.097639</td>\n",
       "      <td>273.0</td>\n",
       "      <td>9.763948</td>\n",
       "    </tr>\n",
       "    <tr>\n",
       "      <th>гражданский брак</th>\n",
       "      <td>4134.0</td>\n",
       "      <td>0.093130</td>\n",
       "      <td>385.0</td>\n",
       "      <td>9.313014</td>\n",
       "    </tr>\n",
       "    <tr>\n",
       "      <th>женат / замужем</th>\n",
       "      <td>12261.0</td>\n",
       "      <td>0.075606</td>\n",
       "      <td>927.0</td>\n",
       "      <td>7.560558</td>\n",
       "    </tr>\n",
       "    <tr>\n",
       "      <th>в разводе</th>\n",
       "      <td>1189.0</td>\n",
       "      <td>0.070648</td>\n",
       "      <td>84.0</td>\n",
       "      <td>7.064760</td>\n",
       "    </tr>\n",
       "    <tr>\n",
       "      <th>вдовец / вдова</th>\n",
       "      <td>951.0</td>\n",
       "      <td>0.066246</td>\n",
       "      <td>63.0</td>\n",
       "      <td>6.624606</td>\n",
       "    </tr>\n",
       "  </tbody>\n",
       "</table>\n",
       "</div>"
      ],
      "text/plain": [
       "                         count      mean    sum   percent\n",
       "family_status                                            \n",
       "Не женат / не замужем   2796.0  0.097639  273.0  9.763948\n",
       "гражданский брак        4134.0  0.093130  385.0  9.313014\n",
       "женат / замужем        12261.0  0.075606  927.0  7.560558\n",
       "в разводе               1189.0  0.070648   84.0  7.064760\n",
       "вдовец / вдова           951.0  0.066246   63.0  6.624606"
      ]
     },
     "metadata": {},
     "output_type": "display_data"
    }
   ],
   "source": [
    "# Ваш код будет здесь. Вы можете создавать новые ячейки.\n",
    "data_family_pivot = data.pivot_table(index=['family_status'],  values='debt', aggfunc = {'count','sum', 'mean'})\n",
    "data_family_pivot['percent'] = data_family_pivot['mean']*100\n",
    "data_family_pivot = data_family_pivot.sort_values(by='percent', ascending=False)\n",
    "display(data_family_pivot)"
   ]
  },
  {
   "cell_type": "markdown",
   "id": "7da4fbb1",
   "metadata": {
    "deletable": false,
    "id": "1cef7837"
   },
   "source": [
    "**Вывод:** "
   ]
  },
  {
   "cell_type": "markdown",
   "id": "1e91b346",
   "metadata": {},
   "source": [
    "При иследовании зависимсти между семейным положение и возвратом кредита в срок выявили следующие данные.<br>\n",
    "<ul> \n",
    "<li>Самый высокий процент невозврата кредита у заемщиков со статусом \"не женат / не замужем\" и \"гражданский брак\" - 9,76% и 9,31% соответственно.</li>\n",
    "<li>Самый низкий процент невозврата в семьях со статусом \"вдовец / вдова\" - 6,62%.</li>\n",
    "<li>Средние провенты имеют семьи со статусом \"женат / замужем\" и \"в разводе\" - 7,56% и 7,06% соответственно.</li><br>\n",
    "Возможно, на эти данные влияет и возраст заемщиков, так как \"вдовец / вдова\" - это чаще всего люди в возрасте и имеющие взрослых детей, а \"не женат / не замужем\" и \"гражданский брак\" - молодые люди."
   ]
  },
  {
   "cell_type": "markdown",
   "id": "0dfb14d5",
   "metadata": {
    "deletable": false,
    "editable": false,
    "id": "1e8b2fca"
   },
   "source": [
    "#### 3.3 Есть ли зависимость между уровнем дохода и возвратом кредита в срок?"
   ]
  },
  {
   "cell_type": "code",
   "execution_count": 26,
   "id": "22905313",
   "metadata": {
    "deletable": false,
    "id": "cd7e3720"
   },
   "outputs": [
    {
     "data": {
      "text/html": [
       "<div>\n",
       "<style scoped>\n",
       "    .dataframe tbody tr th:only-of-type {\n",
       "        vertical-align: middle;\n",
       "    }\n",
       "\n",
       "    .dataframe tbody tr th {\n",
       "        vertical-align: top;\n",
       "    }\n",
       "\n",
       "    .dataframe thead th {\n",
       "        text-align: right;\n",
       "    }\n",
       "</style>\n",
       "<table border=\"1\" class=\"dataframe\">\n",
       "  <thead>\n",
       "    <tr style=\"text-align: right;\">\n",
       "      <th></th>\n",
       "      <th>count</th>\n",
       "      <th>mean</th>\n",
       "      <th>sum</th>\n",
       "      <th>percent</th>\n",
       "    </tr>\n",
       "    <tr>\n",
       "      <th>total_income_category</th>\n",
       "      <th></th>\n",
       "      <th></th>\n",
       "      <th></th>\n",
       "      <th></th>\n",
       "    </tr>\n",
       "  </thead>\n",
       "  <tbody>\n",
       "    <tr>\n",
       "      <th>E</th>\n",
       "      <td>22.0</td>\n",
       "      <td>0.090909</td>\n",
       "      <td>2.0</td>\n",
       "      <td>9.090909</td>\n",
       "    </tr>\n",
       "    <tr>\n",
       "      <th>C</th>\n",
       "      <td>15921.0</td>\n",
       "      <td>0.084982</td>\n",
       "      <td>1353.0</td>\n",
       "      <td>8.498210</td>\n",
       "    </tr>\n",
       "    <tr>\n",
       "      <th>A</th>\n",
       "      <td>25.0</td>\n",
       "      <td>0.080000</td>\n",
       "      <td>2.0</td>\n",
       "      <td>8.000000</td>\n",
       "    </tr>\n",
       "    <tr>\n",
       "      <th>B</th>\n",
       "      <td>5014.0</td>\n",
       "      <td>0.070602</td>\n",
       "      <td>354.0</td>\n",
       "      <td>7.060231</td>\n",
       "    </tr>\n",
       "    <tr>\n",
       "      <th>D</th>\n",
       "      <td>349.0</td>\n",
       "      <td>0.060172</td>\n",
       "      <td>21.0</td>\n",
       "      <td>6.017192</td>\n",
       "    </tr>\n",
       "  </tbody>\n",
       "</table>\n",
       "</div>"
      ],
      "text/plain": [
       "                         count      mean     sum   percent\n",
       "total_income_category                                     \n",
       "E                         22.0  0.090909     2.0  9.090909\n",
       "C                      15921.0  0.084982  1353.0  8.498210\n",
       "A                         25.0  0.080000     2.0  8.000000\n",
       "B                       5014.0  0.070602   354.0  7.060231\n",
       "D                        349.0  0.060172    21.0  6.017192"
      ]
     },
     "metadata": {},
     "output_type": "display_data"
    }
   ],
   "source": [
    "# Ваш код будет здесь. Вы можете создавать новые ячейки.\n",
    "data_income_pivot = data.pivot_table(index=['total_income_category'],  values='debt', aggfunc = {'count','sum', 'mean'})\n",
    "data_income_pivot['percent'] = data_income_pivot['mean']*100\n",
    "data_income_pivot = data_income_pivot.sort_values(by='percent', ascending=False)\n",
    "display(data_income_pivot)"
   ]
  },
  {
   "cell_type": "markdown",
   "id": "aa004762",
   "metadata": {
    "deletable": false,
    "id": "e8593def"
   },
   "source": [
    "**Вывод:** "
   ]
  },
  {
   "cell_type": "markdown",
   "id": "65a432a8",
   "metadata": {},
   "source": [
    "При иследовании зависимсти между уровнем дохода и возвратом кредита в срок выявили следующие данные.<br>\n",
    "<ul> \n",
    "<li>Самый высокий процент невозврата кредита в семьях с доходом категории \"Е\" - 9,09%, это группа с самым низким уровнем дохода (до 30000). </li>\n",
    "<li>На 2-ом месте по невозвратам группа \"С\" - 8,50% (группа с доходом от 50000 до 200000).</li>\n",
    "<li>На 3-ем месте по невозвратам группа \"А\" - 8,00% (группа с доходом от 1 000 000).</li>\n",
    "<li>На 4-ом месте по невозвратам группа \"В\" - 7,06% (группа с доходом от 200 000 до 1 000 000).</li>\n",
    "<li>Самый низкий процент невозврата в семьях с доходом категории \"D\" - 6,02%, это группа с  достатком от 30000 до 50000.</li><br> Если брать количество случаев в каждой категории, то мы видим, что больше всего заемщиков с доходом от 50 000 до 20000 и заемщиков с доходом от 200 000 до 1 000 000. Данные вызывают сомнения, так как средняя зарплата по России более низкая. Следовательно, анализировать заемщиков именно по этим показателям некорректно, слишком разное колличество случаев в категориях. Возможно, нужна более узкая разбивка на категории или исследовать вместе с доходом дополнительный параметр(например, регион)."
   ]
  },
  {
   "cell_type": "markdown",
   "id": "3483598a",
   "metadata": {
    "deletable": false,
    "editable": false,
    "id": "99ecbd1f"
   },
   "source": [
    "#### 3.4 Как разные цели кредита влияют на его возврат в срок?"
   ]
  },
  {
   "cell_type": "code",
   "execution_count": 27,
   "id": "3d69c1de",
   "metadata": {
    "deletable": false,
    "id": "2b687290"
   },
   "outputs": [
    {
     "data": {
      "text/html": [
       "<div>\n",
       "<style scoped>\n",
       "    .dataframe tbody tr th:only-of-type {\n",
       "        vertical-align: middle;\n",
       "    }\n",
       "\n",
       "    .dataframe tbody tr th {\n",
       "        vertical-align: top;\n",
       "    }\n",
       "\n",
       "    .dataframe thead th {\n",
       "        text-align: right;\n",
       "    }\n",
       "</style>\n",
       "<table border=\"1\" class=\"dataframe\">\n",
       "  <thead>\n",
       "    <tr style=\"text-align: right;\">\n",
       "      <th></th>\n",
       "      <th>count</th>\n",
       "      <th>mean</th>\n",
       "      <th>sum</th>\n",
       "      <th>percent</th>\n",
       "    </tr>\n",
       "    <tr>\n",
       "      <th>purpose_category</th>\n",
       "      <th></th>\n",
       "      <th></th>\n",
       "      <th></th>\n",
       "      <th></th>\n",
       "    </tr>\n",
       "  </thead>\n",
       "  <tbody>\n",
       "    <tr>\n",
       "      <th>операции с автомобилем</th>\n",
       "      <td>4279.0</td>\n",
       "      <td>0.093480</td>\n",
       "      <td>400.0</td>\n",
       "      <td>9.347978</td>\n",
       "    </tr>\n",
       "    <tr>\n",
       "      <th>получение образования</th>\n",
       "      <td>3988.0</td>\n",
       "      <td>0.092528</td>\n",
       "      <td>369.0</td>\n",
       "      <td>9.252758</td>\n",
       "    </tr>\n",
       "    <tr>\n",
       "      <th>проведение свадьбы</th>\n",
       "      <td>2313.0</td>\n",
       "      <td>0.079118</td>\n",
       "      <td>183.0</td>\n",
       "      <td>7.911803</td>\n",
       "    </tr>\n",
       "    <tr>\n",
       "      <th>операции с недвижимостью</th>\n",
       "      <td>10751.0</td>\n",
       "      <td>0.072551</td>\n",
       "      <td>780.0</td>\n",
       "      <td>7.255139</td>\n",
       "    </tr>\n",
       "  </tbody>\n",
       "</table>\n",
       "</div>"
      ],
      "text/plain": [
       "                            count      mean    sum   percent\n",
       "purpose_category                                            \n",
       "операции с автомобилем     4279.0  0.093480  400.0  9.347978\n",
       "получение образования      3988.0  0.092528  369.0  9.252758\n",
       "проведение свадьбы         2313.0  0.079118  183.0  7.911803\n",
       "операции с недвижимостью  10751.0  0.072551  780.0  7.255139"
      ]
     },
     "metadata": {},
     "output_type": "display_data"
    }
   ],
   "source": [
    "data_purpose_pivot = data.pivot_table(index=['purpose_category'],  values='debt', aggfunc = {'count','sum', 'mean'})\n",
    "data_purpose_pivot['percent'] = data_purpose_pivot['mean']*100\n",
    "data_purpose_pivot = data_purpose_pivot.sort_values(by='percent', ascending=False)\n",
    "display(data_purpose_pivot)"
   ]
  },
  {
   "cell_type": "markdown",
   "id": "7e4574e1",
   "metadata": {
    "deletable": false,
    "id": "b4bb2ce6"
   },
   "source": [
    "**Вывод:** "
   ]
  },
  {
   "cell_type": "markdown",
   "id": "dfcb9a0f",
   "metadata": {},
   "source": [
    "При иследовании зависимсти между уровнем дохода и возвратом кредита в срок выявили следующие данные.<br>\n",
    "<ul> \n",
    "<li>Самый высокий процент невозврата кредита имеют кредиты с целью \"операции с автомобилем\" и \"получение образования\" - 9,35% и 9,25% соответственно.</li>\n",
    "<li>Самый низкий процент невозврата кредита имеют кредиты с целью \"операции с недвижимостью\" и \"проведение свадьбы \" - 7,73% и 7,91% соответственно.</li><br>\n",
    "Но количество кредитов на \"операции с недвижимостью\" практически равны количеству кредитов на остальные нужды.\n"
   ]
  },
  {
   "cell_type": "markdown",
   "id": "a2dcd3f2",
   "metadata": {
    "deletable": false,
    "editable": false,
    "id": "09c3ac4c"
   },
   "source": [
    "#### 3.5 Приведите возможные причины появления пропусков в исходных данных."
   ]
  },
  {
   "cell_type": "markdown",
   "id": "ce236ab7",
   "metadata": {
    "deletable": false,
    "id": "9da2ceda"
   },
   "source": [
    "*Ответ:* "
   ]
  },
  {
   "cell_type": "markdown",
   "id": "4e907f18",
   "metadata": {},
   "source": [
    "Пропуски встречались в столбцах \"days_employed\" и \"total_income\" (\"общий стаж в днях\" и \"доход ежемесячный\"). Причем, количество пропусков в обоих столбцах одинаково и равно 2174. Возможно, что незаполнение одного столбца ведет к незаполнению другого.<br>\n",
    "Пропуски, скорее всего, носят случайный характер, так как непредоставление сведений о доходах при больших суммах кредита (на приобретение недвижимости, например) приведут к неодобрению кредита. Следовательно, это не умышленное неуказание данных."
   ]
  },
  {
   "cell_type": "markdown",
   "id": "63b6f8e8",
   "metadata": {
    "deletable": false,
    "editable": false,
    "id": "7b0487d6"
   },
   "source": [
    "#### 3.6 Объясните, почему заполнить пропуски медианным значением — лучшее решение для количественных переменных."
   ]
  },
  {
   "cell_type": "markdown",
   "id": "3a8a77b7",
   "metadata": {
    "deletable": false,
    "id": "7ecf2b8e"
   },
   "source": [
    "*Ответ:* "
   ]
  },
  {
   "cell_type": "markdown",
   "id": "5a34e328",
   "metadata": {},
   "source": [
    "В столбцах, в которых необходимо было заполнить пропуски, очень большой числовой разброс. Следовательно, если брать среднее арифметическое по данным, то анализ данных будет не совсем корректным. Медианное же значение лучше всего характеризует выборки и больше подходит для заполнения пропусков."
   ]
  },
  {
   "cell_type": "markdown",
   "id": "d7dc6f0d",
   "metadata": {
    "deletable": false,
    "editable": false,
    "id": "6db5255a"
   },
   "source": [
    "### Шаг 4: общий вывод."
   ]
  },
  {
   "cell_type": "markdown",
   "id": "97da5540",
   "metadata": {
    "deletable": false,
    "id": "bad65432"
   },
   "source": [
    "<p>По проведенному анализу можно слелать следующий вывод. </p> <p>Следующие категории граждан имеют высокий процент риска невозврата кредита: <ul> <li>заемщики с низким уровнем дохода (ниже 30 000) 9,09%,</li> <li>либо заемщики с 4-мя детьми 9,96%,</li> <li>либо заемщик со статусом \"не женат / не замужем\" 9,76% и \"гражданский брак\" 9,31%,</li> <li>либо цель кредита  \"операции с автомобилем\" 9,35% и \"получение образования\" 9,25%.</li> <p> Риск невозврата повышается, если совпадет несколько из этих категорий. </p> <p>Наиболее надежными заемщиками являются следующие категории:</p> <ul> <li>заемщики с целью кредита \"операции с недвижимостью\" и \"проведение свадьбы \" - 7,73% и 7,91% соответственно</li> <li>с семейным статусом \"женат / замужем\" и \"в разводе\" - 7,56% и 7,06% соответственно, либо \"вдовец/вдова\" 6,62% (но количество случаев в этой категории мало)</li> <li>семьи с 3-мя детьми 8,18%</li> <li> и семьи с доходом категории \"D\" - 6,02%, это группа с достатком от 30 000 до 50 000.\n"
   ]
  }
 ],
 "metadata": {
  "ExecuteTimeLog": [
   {
    "duration": 53,
    "start_time": "2023-01-23T12:26:44.143Z"
   },
   {
    "duration": 528,
    "start_time": "2023-01-23T12:27:02.594Z"
   },
   {
    "duration": 25,
    "start_time": "2023-01-23T12:27:03.125Z"
   },
   {
    "duration": 54,
    "start_time": "2023-01-23T12:27:03.152Z"
   },
   {
    "duration": 29,
    "start_time": "2023-01-23T12:27:03.209Z"
   },
   {
    "duration": 54,
    "start_time": "2023-01-23T12:27:03.240Z"
   },
   {
    "duration": 5,
    "start_time": "2023-01-23T12:27:03.295Z"
   },
   {
    "duration": 46,
    "start_time": "2023-01-23T12:27:03.302Z"
   },
   {
    "duration": 47,
    "start_time": "2023-01-23T12:27:03.350Z"
   },
   {
    "duration": 32,
    "start_time": "2023-01-23T12:27:03.399Z"
   },
   {
    "duration": 41,
    "start_time": "2023-01-23T12:27:03.435Z"
   },
   {
    "duration": 100,
    "start_time": "2023-01-23T12:27:03.478Z"
   },
   {
    "duration": 12,
    "start_time": "2023-01-23T12:27:03.580Z"
   },
   {
    "duration": 14,
    "start_time": "2023-01-23T12:27:03.594Z"
   },
   {
    "duration": 44,
    "start_time": "2023-01-23T12:27:03.610Z"
   },
   {
    "duration": 46,
    "start_time": "2023-01-23T12:27:03.656Z"
   },
   {
    "duration": 54,
    "start_time": "2023-01-23T12:27:03.704Z"
   },
   {
    "duration": 7,
    "start_time": "2023-01-23T12:27:03.760Z"
   },
   {
    "duration": 54,
    "start_time": "2023-01-23T12:27:03.768Z"
   },
   {
    "duration": 42,
    "start_time": "2023-01-23T12:27:03.824Z"
   },
   {
    "duration": 20,
    "start_time": "2023-01-23T12:27:03.867Z"
   },
   {
    "duration": 52,
    "start_time": "2023-01-23T12:27:03.888Z"
   },
   {
    "duration": 28,
    "start_time": "2023-01-23T12:27:03.942Z"
   },
   {
    "duration": 32,
    "start_time": "2023-01-23T12:27:03.972Z"
   },
   {
    "duration": 28,
    "start_time": "2023-01-23T12:27:04.007Z"
   },
   {
    "duration": 21,
    "start_time": "2023-01-23T12:27:04.037Z"
   },
   {
    "duration": 756,
    "start_time": "2023-01-23T12:27:10.620Z"
   },
   {
    "duration": 4,
    "start_time": "2023-01-23T12:27:36.662Z"
   },
   {
    "duration": 8,
    "start_time": "2023-01-23T12:28:26.959Z"
   },
   {
    "duration": 5,
    "start_time": "2023-01-23T12:28:42.214Z"
   },
   {
    "duration": 5,
    "start_time": "2023-01-23T12:29:36.448Z"
   },
   {
    "duration": 7,
    "start_time": "2023-01-23T12:29:59.907Z"
   },
   {
    "duration": 23,
    "start_time": "2023-01-23T12:31:33.526Z"
   },
   {
    "duration": 5,
    "start_time": "2023-01-23T12:32:23.055Z"
   },
   {
    "duration": 31,
    "start_time": "2023-01-23T12:32:31.673Z"
   },
   {
    "duration": 10,
    "start_time": "2023-01-23T12:33:01.631Z"
   },
   {
    "duration": 17,
    "start_time": "2023-01-23T12:33:09.075Z"
   },
   {
    "duration": 6,
    "start_time": "2023-01-23T12:33:34.336Z"
   },
   {
    "duration": 6,
    "start_time": "2023-01-23T12:34:15.939Z"
   },
   {
    "duration": 5,
    "start_time": "2023-01-23T12:38:46.916Z"
   },
   {
    "duration": 9,
    "start_time": "2023-01-23T12:38:51.092Z"
   },
   {
    "duration": 23,
    "start_time": "2023-01-23T12:41:36.942Z"
   },
   {
    "duration": 8,
    "start_time": "2023-01-23T12:41:58.550Z"
   },
   {
    "duration": 8,
    "start_time": "2023-01-23T12:42:25.139Z"
   },
   {
    "duration": 8,
    "start_time": "2023-01-23T12:42:58.899Z"
   },
   {
    "duration": 7,
    "start_time": "2023-01-23T12:43:12.627Z"
   },
   {
    "duration": 7,
    "start_time": "2023-01-23T12:43:19.630Z"
   },
   {
    "duration": 7,
    "start_time": "2023-01-23T12:47:11.267Z"
   },
   {
    "duration": 20,
    "start_time": "2023-01-23T12:49:07.558Z"
   },
   {
    "duration": 5,
    "start_time": "2023-01-23T12:52:19.379Z"
   },
   {
    "duration": 869,
    "start_time": "2023-01-23T13:12:57.129Z"
   },
   {
    "duration": 736,
    "start_time": "2023-01-23T13:13:04.633Z"
   },
   {
    "duration": 690,
    "start_time": "2023-01-23T13:13:26.536Z"
   },
   {
    "duration": 16,
    "start_time": "2023-01-23T13:14:52.128Z"
   },
   {
    "duration": 17,
    "start_time": "2023-01-23T13:16:20.728Z"
   },
   {
    "duration": 23,
    "start_time": "2023-01-23T13:16:45.861Z"
   },
   {
    "duration": 526,
    "start_time": "2023-01-25T09:00:51.007Z"
   },
   {
    "duration": 22,
    "start_time": "2023-01-25T09:00:51.535Z"
   },
   {
    "duration": 21,
    "start_time": "2023-01-25T09:00:51.559Z"
   },
   {
    "duration": 9,
    "start_time": "2023-01-25T09:00:51.582Z"
   },
   {
    "duration": 37,
    "start_time": "2023-01-25T09:00:51.593Z"
   },
   {
    "duration": 3,
    "start_time": "2023-01-25T09:00:51.631Z"
   },
   {
    "duration": 13,
    "start_time": "2023-01-25T09:00:51.636Z"
   },
   {
    "duration": 3,
    "start_time": "2023-01-25T09:00:51.651Z"
   },
   {
    "duration": 10,
    "start_time": "2023-01-25T09:00:51.656Z"
   },
   {
    "duration": 7,
    "start_time": "2023-01-25T09:00:51.669Z"
   },
   {
    "duration": 56,
    "start_time": "2023-01-25T09:00:51.678Z"
   },
   {
    "duration": 10,
    "start_time": "2023-01-25T09:00:51.736Z"
   },
   {
    "duration": 4,
    "start_time": "2023-01-25T09:00:51.748Z"
   },
   {
    "duration": 16,
    "start_time": "2023-01-25T09:00:51.753Z"
   },
   {
    "duration": 38,
    "start_time": "2023-01-25T09:00:51.770Z"
   },
   {
    "duration": 17,
    "start_time": "2023-01-25T09:00:51.810Z"
   },
   {
    "duration": 3,
    "start_time": "2023-01-25T09:00:51.829Z"
   },
   {
    "duration": 23,
    "start_time": "2023-01-25T09:00:51.834Z"
   },
   {
    "duration": 10,
    "start_time": "2023-01-25T09:00:51.859Z"
   },
   {
    "duration": 10,
    "start_time": "2023-01-25T09:00:51.870Z"
   },
   {
    "duration": 25,
    "start_time": "2023-01-25T09:00:51.881Z"
   },
   {
    "duration": 22,
    "start_time": "2023-01-25T09:00:51.908Z"
   },
   {
    "duration": 2,
    "start_time": "2023-01-25T09:00:51.932Z"
   },
   {
    "duration": 14,
    "start_time": "2023-01-25T09:00:51.936Z"
   },
   {
    "duration": 7,
    "start_time": "2023-01-25T09:00:51.953Z"
   },
   {
    "duration": 20,
    "start_time": "2023-01-25T09:05:40.642Z"
   },
   {
    "duration": 26,
    "start_time": "2023-01-25T09:06:09.534Z"
   },
   {
    "duration": 23,
    "start_time": "2023-01-25T09:06:31.069Z"
   },
   {
    "duration": 80,
    "start_time": "2023-01-25T09:07:08.111Z"
   },
   {
    "duration": 22,
    "start_time": "2023-01-25T09:07:21.282Z"
   },
   {
    "duration": 51,
    "start_time": "2023-01-25T09:20:45.878Z"
   },
   {
    "duration": 20,
    "start_time": "2023-01-25T09:21:12.052Z"
   },
   {
    "duration": 25,
    "start_time": "2023-01-25T09:21:28.299Z"
   },
   {
    "duration": 23,
    "start_time": "2023-01-25T09:21:38.137Z"
   },
   {
    "duration": 29,
    "start_time": "2023-01-25T09:26:27.451Z"
   },
   {
    "duration": 22,
    "start_time": "2023-01-25T09:27:27.109Z"
   },
   {
    "duration": 4,
    "start_time": "2023-01-25T10:00:33.539Z"
   },
   {
    "duration": 4,
    "start_time": "2023-01-25T10:00:49.735Z"
   },
   {
    "duration": 24,
    "start_time": "2023-01-25T10:06:59.862Z"
   },
   {
    "duration": 25,
    "start_time": "2023-01-25T10:08:56.215Z"
   },
   {
    "duration": 27,
    "start_time": "2023-01-25T10:09:55.287Z"
   },
   {
    "duration": 32,
    "start_time": "2023-01-25T10:10:33.629Z"
   },
   {
    "duration": 32,
    "start_time": "2023-01-25T10:10:51.767Z"
   },
   {
    "duration": 32,
    "start_time": "2023-01-25T10:11:05.737Z"
   },
   {
    "duration": 34,
    "start_time": "2023-01-25T10:11:21.184Z"
   },
   {
    "duration": 33,
    "start_time": "2023-01-25T10:11:29.370Z"
   },
   {
    "duration": 28,
    "start_time": "2023-01-25T10:11:44.436Z"
   },
   {
    "duration": 72,
    "start_time": "2023-01-25T10:14:25.255Z"
   },
   {
    "duration": 36,
    "start_time": "2023-01-25T10:32:25.550Z"
   },
   {
    "duration": 25,
    "start_time": "2023-01-25T10:33:16.419Z"
   },
   {
    "duration": 31,
    "start_time": "2023-01-25T10:34:24.515Z"
   },
   {
    "duration": 36,
    "start_time": "2023-01-25T10:34:43.696Z"
   },
   {
    "duration": 37,
    "start_time": "2023-01-25T10:35:11.509Z"
   },
   {
    "duration": 27,
    "start_time": "2023-01-25T10:36:53.354Z"
   },
   {
    "duration": 29,
    "start_time": "2023-01-25T10:37:33.046Z"
   },
   {
    "duration": 29,
    "start_time": "2023-01-25T10:38:17.576Z"
   },
   {
    "duration": 27,
    "start_time": "2023-01-25T10:38:28.361Z"
   },
   {
    "duration": 27,
    "start_time": "2023-01-25T10:38:36.572Z"
   },
   {
    "duration": 76,
    "start_time": "2023-01-25T11:50:18.514Z"
   },
   {
    "duration": 720,
    "start_time": "2023-01-25T11:50:26.172Z"
   },
   {
    "duration": 24,
    "start_time": "2023-01-25T11:50:26.894Z"
   },
   {
    "duration": 23,
    "start_time": "2023-01-25T11:50:26.920Z"
   },
   {
    "duration": 31,
    "start_time": "2023-01-25T11:50:26.945Z"
   },
   {
    "duration": 58,
    "start_time": "2023-01-25T11:50:26.979Z"
   },
   {
    "duration": 4,
    "start_time": "2023-01-25T11:50:27.039Z"
   },
   {
    "duration": 47,
    "start_time": "2023-01-25T11:50:27.045Z"
   },
   {
    "duration": 31,
    "start_time": "2023-01-25T11:50:27.094Z"
   },
   {
    "duration": 34,
    "start_time": "2023-01-25T11:50:27.127Z"
   },
   {
    "duration": 41,
    "start_time": "2023-01-25T11:50:27.166Z"
   },
   {
    "duration": 58,
    "start_time": "2023-01-25T11:50:27.209Z"
   },
   {
    "duration": 14,
    "start_time": "2023-01-25T11:50:27.270Z"
   },
   {
    "duration": 23,
    "start_time": "2023-01-25T11:50:27.285Z"
   },
   {
    "duration": 42,
    "start_time": "2023-01-25T11:50:27.311Z"
   },
   {
    "duration": 42,
    "start_time": "2023-01-25T11:50:27.355Z"
   },
   {
    "duration": 25,
    "start_time": "2023-01-25T11:50:27.399Z"
   },
   {
    "duration": 23,
    "start_time": "2023-01-25T11:50:27.427Z"
   },
   {
    "duration": 31,
    "start_time": "2023-01-25T11:50:27.452Z"
   },
   {
    "duration": 37,
    "start_time": "2023-01-25T11:50:27.485Z"
   },
   {
    "duration": 41,
    "start_time": "2023-01-25T11:50:27.524Z"
   },
   {
    "duration": 41,
    "start_time": "2023-01-25T11:50:27.567Z"
   },
   {
    "duration": 61,
    "start_time": "2023-01-25T11:50:27.610Z"
   },
   {
    "duration": 32,
    "start_time": "2023-01-25T11:50:27.673Z"
   },
   {
    "duration": 38,
    "start_time": "2023-01-25T11:50:27.707Z"
   },
   {
    "duration": 38,
    "start_time": "2023-01-25T11:50:27.747Z"
   },
   {
    "duration": 702,
    "start_time": "2023-01-25T17:54:07.762Z"
   },
   {
    "duration": 22,
    "start_time": "2023-01-25T17:54:08.466Z"
   },
   {
    "duration": 18,
    "start_time": "2023-01-25T17:54:08.490Z"
   },
   {
    "duration": 11,
    "start_time": "2023-01-25T17:54:08.510Z"
   },
   {
    "duration": 48,
    "start_time": "2023-01-25T17:54:08.522Z"
   },
   {
    "duration": 4,
    "start_time": "2023-01-25T17:54:08.571Z"
   },
   {
    "duration": 14,
    "start_time": "2023-01-25T17:54:08.577Z"
   },
   {
    "duration": 14,
    "start_time": "2023-01-25T17:54:08.593Z"
   },
   {
    "duration": 12,
    "start_time": "2023-01-25T17:54:08.609Z"
   },
   {
    "duration": 4,
    "start_time": "2023-01-25T17:54:08.624Z"
   },
   {
    "duration": 44,
    "start_time": "2023-01-25T17:54:08.629Z"
   },
   {
    "duration": 10,
    "start_time": "2023-01-25T17:54:08.674Z"
   },
   {
    "duration": 8,
    "start_time": "2023-01-25T17:54:08.685Z"
   },
   {
    "duration": 19,
    "start_time": "2023-01-25T17:54:08.694Z"
   },
   {
    "duration": 23,
    "start_time": "2023-01-25T17:54:08.715Z"
   },
   {
    "duration": 21,
    "start_time": "2023-01-25T17:54:08.740Z"
   },
   {
    "duration": 17,
    "start_time": "2023-01-25T17:54:08.762Z"
   },
   {
    "duration": 25,
    "start_time": "2023-01-25T17:54:08.781Z"
   },
   {
    "duration": 8,
    "start_time": "2023-01-25T17:54:08.807Z"
   },
   {
    "duration": 4,
    "start_time": "2023-01-25T17:54:08.816Z"
   },
   {
    "duration": 15,
    "start_time": "2023-01-25T17:54:08.821Z"
   },
   {
    "duration": 33,
    "start_time": "2023-01-25T17:54:08.837Z"
   },
   {
    "duration": 23,
    "start_time": "2023-01-25T17:54:08.872Z"
   },
   {
    "duration": 22,
    "start_time": "2023-01-25T17:54:08.896Z"
   },
   {
    "duration": 46,
    "start_time": "2023-01-25T17:54:08.920Z"
   },
   {
    "duration": 748,
    "start_time": "2023-01-26T11:22:20.233Z"
   },
   {
    "duration": 27,
    "start_time": "2023-01-26T11:22:20.983Z"
   },
   {
    "duration": 21,
    "start_time": "2023-01-26T11:22:21.011Z"
   },
   {
    "duration": 18,
    "start_time": "2023-01-26T11:22:21.034Z"
   },
   {
    "duration": 50,
    "start_time": "2023-01-26T11:22:21.053Z"
   },
   {
    "duration": 4,
    "start_time": "2023-01-26T11:22:21.106Z"
   },
   {
    "duration": 30,
    "start_time": "2023-01-26T11:22:21.112Z"
   },
   {
    "duration": 21,
    "start_time": "2023-01-26T11:22:21.144Z"
   },
   {
    "duration": 15,
    "start_time": "2023-01-26T11:22:21.167Z"
   },
   {
    "duration": 38,
    "start_time": "2023-01-26T11:22:21.184Z"
   },
   {
    "duration": 54,
    "start_time": "2023-01-26T11:22:21.224Z"
   },
   {
    "duration": 11,
    "start_time": "2023-01-26T11:22:21.280Z"
   },
   {
    "duration": 12,
    "start_time": "2023-01-26T11:22:21.297Z"
   },
   {
    "duration": 13,
    "start_time": "2023-01-26T11:22:21.311Z"
   },
   {
    "duration": 24,
    "start_time": "2023-01-26T11:22:21.326Z"
   },
   {
    "duration": 18,
    "start_time": "2023-01-26T11:22:21.351Z"
   },
   {
    "duration": 4,
    "start_time": "2023-01-26T11:22:21.371Z"
   },
   {
    "duration": 16,
    "start_time": "2023-01-26T11:22:21.396Z"
   },
   {
    "duration": 10,
    "start_time": "2023-01-26T11:22:21.414Z"
   },
   {
    "duration": 4,
    "start_time": "2023-01-26T11:22:21.426Z"
   },
   {
    "duration": 18,
    "start_time": "2023-01-26T11:22:21.432Z"
   },
   {
    "duration": 57,
    "start_time": "2023-01-26T11:22:21.452Z"
   },
   {
    "duration": 39,
    "start_time": "2023-01-26T11:22:21.512Z"
   },
   {
    "duration": 25,
    "start_time": "2023-01-26T11:22:21.553Z"
   },
   {
    "duration": 56,
    "start_time": "2023-01-26T11:22:21.580Z"
   },
   {
    "duration": 37,
    "start_time": "2023-01-26T11:24:01.708Z"
   },
   {
    "duration": 48,
    "start_time": "2023-01-26T11:56:03.049Z"
   },
   {
    "duration": 792,
    "start_time": "2023-01-26T11:56:27.127Z"
   },
   {
    "duration": 23,
    "start_time": "2023-01-26T11:56:27.921Z"
   },
   {
    "duration": 16,
    "start_time": "2023-01-26T11:56:27.945Z"
   },
   {
    "duration": 8,
    "start_time": "2023-01-26T11:56:27.963Z"
   },
   {
    "duration": 36,
    "start_time": "2023-01-26T11:56:27.973Z"
   },
   {
    "duration": 3,
    "start_time": "2023-01-26T11:56:28.010Z"
   },
   {
    "duration": 10,
    "start_time": "2023-01-26T11:56:28.015Z"
   },
   {
    "duration": 24,
    "start_time": "2023-01-26T11:56:28.026Z"
   },
   {
    "duration": 5,
    "start_time": "2023-01-26T11:56:28.052Z"
   },
   {
    "duration": 12,
    "start_time": "2023-01-26T11:56:28.061Z"
   },
   {
    "duration": 37,
    "start_time": "2023-01-26T11:56:28.074Z"
   },
   {
    "duration": 10,
    "start_time": "2023-01-26T11:56:28.112Z"
   },
   {
    "duration": 8,
    "start_time": "2023-01-26T11:56:28.123Z"
   },
   {
    "duration": 30,
    "start_time": "2023-01-26T11:56:28.133Z"
   },
   {
    "duration": 28,
    "start_time": "2023-01-26T11:56:28.164Z"
   },
   {
    "duration": 23,
    "start_time": "2023-01-26T11:56:28.194Z"
   },
   {
    "duration": 4,
    "start_time": "2023-01-26T11:56:28.220Z"
   },
   {
    "duration": 26,
    "start_time": "2023-01-26T11:56:28.226Z"
   },
   {
    "duration": 19,
    "start_time": "2023-01-26T11:56:28.254Z"
   },
   {
    "duration": 15,
    "start_time": "2023-01-26T11:56:28.275Z"
   },
   {
    "duration": 23,
    "start_time": "2023-01-26T11:56:28.292Z"
   },
   {
    "duration": 27,
    "start_time": "2023-01-26T11:56:28.317Z"
   },
   {
    "duration": 31,
    "start_time": "2023-01-26T11:56:28.345Z"
   },
   {
    "duration": 95,
    "start_time": "2023-01-26T11:56:28.377Z"
   },
   {
    "duration": 0,
    "start_time": "2023-01-26T11:56:28.474Z"
   },
   {
    "duration": 0,
    "start_time": "2023-01-26T11:56:28.476Z"
   },
   {
    "duration": 0,
    "start_time": "2023-01-26T11:56:28.478Z"
   },
   {
    "duration": 30,
    "start_time": "2023-01-26T11:57:00.425Z"
   },
   {
    "duration": 21,
    "start_time": "2023-01-26T11:57:32.337Z"
   },
   {
    "duration": 21,
    "start_time": "2023-01-26T11:59:55.144Z"
   },
   {
    "duration": 50,
    "start_time": "2023-01-26T12:11:21.212Z"
   },
   {
    "duration": 106,
    "start_time": "2023-01-26T12:12:56.743Z"
   },
   {
    "duration": 22,
    "start_time": "2023-01-26T12:13:23.310Z"
   },
   {
    "duration": 19,
    "start_time": "2023-01-26T12:21:14.003Z"
   },
   {
    "duration": 18,
    "start_time": "2023-01-26T12:21:45.561Z"
   },
   {
    "duration": 22,
    "start_time": "2023-01-26T12:24:52.249Z"
   },
   {
    "duration": 23,
    "start_time": "2023-01-26T12:30:59.100Z"
   },
   {
    "duration": 29,
    "start_time": "2023-01-26T12:32:01.340Z"
   },
   {
    "duration": 35,
    "start_time": "2023-01-26T12:43:29.694Z"
   },
   {
    "duration": 23,
    "start_time": "2023-01-26T12:54:07.703Z"
   },
   {
    "duration": 24,
    "start_time": "2023-01-26T12:54:15.243Z"
   },
   {
    "duration": 22,
    "start_time": "2023-01-26T12:54:50.863Z"
   },
   {
    "duration": 27,
    "start_time": "2023-01-26T13:25:57.280Z"
   },
   {
    "duration": 20,
    "start_time": "2023-01-26T13:26:15.316Z"
   },
   {
    "duration": 32,
    "start_time": "2023-01-26T14:10:11.252Z"
   },
   {
    "duration": 30,
    "start_time": "2023-01-26T14:11:00.884Z"
   },
   {
    "duration": 36,
    "start_time": "2023-01-26T14:11:25.288Z"
   },
   {
    "duration": 497,
    "start_time": "2023-01-26T14:11:35.712Z"
   },
   {
    "duration": 34,
    "start_time": "2023-01-26T14:11:36.212Z"
   },
   {
    "duration": 25,
    "start_time": "2023-01-26T14:11:36.249Z"
   },
   {
    "duration": 11,
    "start_time": "2023-01-26T14:11:36.277Z"
   },
   {
    "duration": 82,
    "start_time": "2023-01-26T14:11:36.293Z"
   },
   {
    "duration": 4,
    "start_time": "2023-01-26T14:11:36.378Z"
   },
   {
    "duration": 33,
    "start_time": "2023-01-26T14:11:36.383Z"
   },
   {
    "duration": 13,
    "start_time": "2023-01-26T14:11:36.417Z"
   },
   {
    "duration": 22,
    "start_time": "2023-01-26T14:11:36.432Z"
   },
   {
    "duration": 55,
    "start_time": "2023-01-26T14:11:36.456Z"
   },
   {
    "duration": 69,
    "start_time": "2023-01-26T14:11:36.512Z"
   },
   {
    "duration": 16,
    "start_time": "2023-01-26T14:11:36.583Z"
   },
   {
    "duration": 9,
    "start_time": "2023-01-26T14:11:36.601Z"
   },
   {
    "duration": 27,
    "start_time": "2023-01-26T14:11:36.613Z"
   },
   {
    "duration": 76,
    "start_time": "2023-01-26T14:11:36.642Z"
   },
   {
    "duration": 31,
    "start_time": "2023-01-26T14:11:36.723Z"
   },
   {
    "duration": 6,
    "start_time": "2023-01-26T14:11:36.756Z"
   },
   {
    "duration": 22,
    "start_time": "2023-01-26T14:11:36.764Z"
   },
   {
    "duration": 9,
    "start_time": "2023-01-26T14:11:36.788Z"
   },
   {
    "duration": 4,
    "start_time": "2023-01-26T14:11:36.800Z"
   },
   {
    "duration": 32,
    "start_time": "2023-01-26T14:11:36.807Z"
   },
   {
    "duration": 30,
    "start_time": "2023-01-26T14:11:36.841Z"
   },
   {
    "duration": 38,
    "start_time": "2023-01-26T14:11:36.872Z"
   },
   {
    "duration": 51,
    "start_time": "2023-01-26T14:11:36.912Z"
   },
   {
    "duration": 146,
    "start_time": "2023-01-26T14:11:36.966Z"
   },
   {
    "duration": 0,
    "start_time": "2023-01-26T14:11:37.116Z"
   },
   {
    "duration": 0,
    "start_time": "2023-01-26T14:11:37.118Z"
   },
   {
    "duration": 30,
    "start_time": "2023-01-26T14:12:01.937Z"
   },
   {
    "duration": 47,
    "start_time": "2023-01-26T14:12:11.912Z"
   },
   {
    "duration": 28,
    "start_time": "2023-01-26T14:12:36.661Z"
   },
   {
    "duration": 24,
    "start_time": "2023-01-26T14:12:41.616Z"
   },
   {
    "duration": 23,
    "start_time": "2023-01-26T14:12:51.052Z"
   },
   {
    "duration": 27,
    "start_time": "2023-01-26T14:13:31.284Z"
   },
   {
    "duration": 26,
    "start_time": "2023-01-26T14:16:17.080Z"
   },
   {
    "duration": 20,
    "start_time": "2023-01-26T14:16:32.367Z"
   },
   {
    "duration": 26,
    "start_time": "2023-01-26T14:17:45.283Z"
   },
   {
    "duration": 22,
    "start_time": "2023-01-26T14:18:04.121Z"
   },
   {
    "duration": 27,
    "start_time": "2023-01-26T14:18:22.049Z"
   },
   {
    "duration": 24,
    "start_time": "2023-01-26T14:18:27.920Z"
   },
   {
    "duration": 27,
    "start_time": "2023-01-26T14:18:32.407Z"
   },
   {
    "duration": 22,
    "start_time": "2023-01-26T14:38:59.865Z"
   },
   {
    "duration": 25,
    "start_time": "2023-01-26T14:39:47.170Z"
   },
   {
    "duration": 499,
    "start_time": "2023-01-26T15:19:14.046Z"
   },
   {
    "duration": 23,
    "start_time": "2023-01-26T15:19:14.547Z"
   },
   {
    "duration": 15,
    "start_time": "2023-01-26T15:19:14.572Z"
   },
   {
    "duration": 10,
    "start_time": "2023-01-26T15:19:14.588Z"
   },
   {
    "duration": 75,
    "start_time": "2023-01-26T15:19:14.600Z"
   },
   {
    "duration": 5,
    "start_time": "2023-01-26T15:19:14.677Z"
   },
   {
    "duration": 9,
    "start_time": "2023-01-26T15:19:14.684Z"
   },
   {
    "duration": 5,
    "start_time": "2023-01-26T15:19:14.695Z"
   },
   {
    "duration": 8,
    "start_time": "2023-01-26T15:19:14.701Z"
   },
   {
    "duration": 4,
    "start_time": "2023-01-26T15:19:14.711Z"
   },
   {
    "duration": 68,
    "start_time": "2023-01-26T15:19:14.716Z"
   },
   {
    "duration": 9,
    "start_time": "2023-01-26T15:19:14.786Z"
   },
   {
    "duration": 9,
    "start_time": "2023-01-26T15:19:14.796Z"
   },
   {
    "duration": 11,
    "start_time": "2023-01-26T15:19:14.807Z"
   },
   {
    "duration": 31,
    "start_time": "2023-01-26T15:19:14.820Z"
   },
   {
    "duration": 15,
    "start_time": "2023-01-26T15:19:14.853Z"
   },
   {
    "duration": 3,
    "start_time": "2023-01-26T15:19:14.870Z"
   },
   {
    "duration": 15,
    "start_time": "2023-01-26T15:19:14.875Z"
   },
   {
    "duration": 28,
    "start_time": "2023-01-26T15:19:14.892Z"
   },
   {
    "duration": 7,
    "start_time": "2023-01-26T15:19:14.922Z"
   },
   {
    "duration": 11,
    "start_time": "2023-01-26T15:19:14.930Z"
   },
   {
    "duration": 27,
    "start_time": "2023-01-26T15:19:14.942Z"
   },
   {
    "duration": 43,
    "start_time": "2023-01-26T15:19:14.970Z"
   },
   {
    "duration": 44,
    "start_time": "2023-01-26T15:19:15.015Z"
   },
   {
    "duration": 24,
    "start_time": "2023-01-26T15:19:15.061Z"
   },
   {
    "duration": 25,
    "start_time": "2023-01-26T15:19:15.086Z"
   },
   {
    "duration": 46,
    "start_time": "2023-01-26T15:19:15.112Z"
   },
   {
    "duration": 73,
    "start_time": "2023-01-26T15:24:45.383Z"
   },
   {
    "duration": 488,
    "start_time": "2023-01-26T15:29:29.551Z"
   },
   {
    "duration": 22,
    "start_time": "2023-01-26T15:29:30.041Z"
   },
   {
    "duration": 15,
    "start_time": "2023-01-26T15:29:30.064Z"
   },
   {
    "duration": 11,
    "start_time": "2023-01-26T15:29:30.081Z"
   },
   {
    "duration": 56,
    "start_time": "2023-01-26T15:29:30.093Z"
   },
   {
    "duration": 4,
    "start_time": "2023-01-26T15:29:30.150Z"
   },
   {
    "duration": 14,
    "start_time": "2023-01-26T15:29:30.156Z"
   },
   {
    "duration": 7,
    "start_time": "2023-01-26T15:29:30.171Z"
   },
   {
    "duration": 14,
    "start_time": "2023-01-26T15:29:30.179Z"
   },
   {
    "duration": 4,
    "start_time": "2023-01-26T15:29:30.196Z"
   },
   {
    "duration": 54,
    "start_time": "2023-01-26T15:29:30.202Z"
   },
   {
    "duration": 12,
    "start_time": "2023-01-26T15:29:30.258Z"
   },
   {
    "duration": 31,
    "start_time": "2023-01-26T15:29:30.272Z"
   },
   {
    "duration": 41,
    "start_time": "2023-01-26T15:29:30.306Z"
   },
   {
    "duration": 27,
    "start_time": "2023-01-26T15:29:30.349Z"
   },
   {
    "duration": 26,
    "start_time": "2023-01-26T15:29:30.379Z"
   },
   {
    "duration": 5,
    "start_time": "2023-01-26T15:29:30.407Z"
   },
   {
    "duration": 44,
    "start_time": "2023-01-26T15:29:30.414Z"
   },
   {
    "duration": 17,
    "start_time": "2023-01-26T15:29:30.460Z"
   },
   {
    "duration": 24,
    "start_time": "2023-01-26T15:29:30.479Z"
   },
   {
    "duration": 38,
    "start_time": "2023-01-26T15:29:30.505Z"
   },
   {
    "duration": 51,
    "start_time": "2023-01-26T15:29:30.544Z"
   },
   {
    "duration": 49,
    "start_time": "2023-01-26T15:29:30.599Z"
   },
   {
    "duration": 45,
    "start_time": "2023-01-26T15:29:30.650Z"
   },
   {
    "duration": 54,
    "start_time": "2023-01-26T15:29:30.697Z"
   },
   {
    "duration": 29,
    "start_time": "2023-01-26T15:29:30.753Z"
   },
   {
    "duration": 34,
    "start_time": "2023-01-26T15:29:30.786Z"
   }
  ],
  "colab": {
   "name": "dpp_template_part2.ipynb",
   "provenance": []
  },
  "kernelspec": {
   "display_name": "Python 3 (ipykernel)",
   "language": "python",
   "name": "python3"
  },
  "language_info": {
   "codemirror_mode": {
    "name": "ipython",
    "version": 3
   },
   "file_extension": ".py",
   "mimetype": "text/x-python",
   "name": "python",
   "nbconvert_exporter": "python",
   "pygments_lexer": "ipython3",
   "version": "3.9.16"
  },
  "toc": {
   "base_numbering": 1,
   "nav_menu": {},
   "number_sections": true,
   "sideBar": true,
   "skip_h1_title": true,
   "title_cell": "Table of Contents",
   "title_sidebar": "Contents",
   "toc_cell": false,
   "toc_position": {
    "height": "calc(100% - 180px)",
    "left": "10px",
    "top": "150px",
    "width": "363.854px"
   },
   "toc_section_display": true,
   "toc_window_display": false
  }
 },
 "nbformat": 4,
 "nbformat_minor": 5
}
