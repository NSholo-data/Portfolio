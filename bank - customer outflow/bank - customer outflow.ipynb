{
 "cells": [
  {
   "cell_type": "markdown",
   "metadata": {
    "toc": true
   },
   "source": [
    "<h1>Содержание<span class=\"tocSkip\"></span></h1>\n",
    "<div class=\"toc\"><ul class=\"toc-item\"><li><span><a href=\"#Подготовка-данных\" data-toc-modified-id=\"Подготовка-данных-1\"><span class=\"toc-item-num\">1&nbsp;&nbsp;</span>Подготовка данных</a></span></li><li><span><a href=\"#Исследование-задачи\" data-toc-modified-id=\"Исследование-задачи-2\"><span class=\"toc-item-num\">2&nbsp;&nbsp;</span>Исследование задачи</a></span><ul class=\"toc-item\"><li><span><a href=\"#Подготовка-данных\" data-toc-modified-id=\"Подготовка-данных-2.1\"><span class=\"toc-item-num\">2.1&nbsp;&nbsp;</span>Подготовка данных</a></span></li><li><span><a href=\"#Формирование-выборок\" data-toc-modified-id=\"Формирование-выборок-2.2\"><span class=\"toc-item-num\">2.2&nbsp;&nbsp;</span>Формирование выборок</a></span></li><li><span><a href=\"#Масштабирование-признаков\" data-toc-modified-id=\"Масштабирование-признаков-2.3\"><span class=\"toc-item-num\">2.3&nbsp;&nbsp;</span>Масштабирование признаков</a></span></li><li><span><a href=\"#Модель-без-учета-баланса\" data-toc-modified-id=\"Модель-без-учета-баланса-2.4\"><span class=\"toc-item-num\">2.4&nbsp;&nbsp;</span>Модель без учета баланса</a></span><ul class=\"toc-item\"><li><span><a href=\"#Логистическая-регрессия\" data-toc-modified-id=\"Логистическая-регрессия-2.4.1\"><span class=\"toc-item-num\">2.4.1&nbsp;&nbsp;</span>Логистическая регрессия</a></span></li><li><span><a href=\"#Дерево-решений\" data-toc-modified-id=\"Дерево-решений-2.4.2\"><span class=\"toc-item-num\">2.4.2&nbsp;&nbsp;</span>Дерево решений</a></span></li><li><span><a href=\"#Случайный-лес\" data-toc-modified-id=\"Случайный-лес-2.4.3\"><span class=\"toc-item-num\">2.4.3&nbsp;&nbsp;</span>Случайный лес</a></span></li></ul></li></ul></li><li><span><a href=\"#Борьба-с-дисбалансом\" data-toc-modified-id=\"Борьба-с-дисбалансом-3\"><span class=\"toc-item-num\">3&nbsp;&nbsp;</span>Борьба с дисбалансом</a></span><ul class=\"toc-item\"><li><span><a href=\"#Увеличение-выборки-(upsample)\" data-toc-modified-id=\"Увеличение-выборки-(upsample)-3.1\"><span class=\"toc-item-num\">3.1&nbsp;&nbsp;</span>Увеличение выборки (upsample)</a></span></li><li><span><a href=\"#Уменьшение-выборки-(downsample)\" data-toc-modified-id=\"Уменьшение-выборки-(downsample)-3.2\"><span class=\"toc-item-num\">3.2&nbsp;&nbsp;</span>Уменьшение выборки (downsample)</a></span></li><li><span><a href=\"#AUC-ROC\" data-toc-modified-id=\"AUC-ROC-3.3\"><span class=\"toc-item-num\">3.3&nbsp;&nbsp;</span>AUC-ROC</a></span></li></ul></li><li><span><a href=\"#Тестирование-модели\" data-toc-modified-id=\"Тестирование-модели-4\"><span class=\"toc-item-num\">4&nbsp;&nbsp;</span>Тестирование модели</a></span></li><li><span><a href=\"#ВЫВОД\" data-toc-modified-id=\"ВЫВОД-5\"><span class=\"toc-item-num\">5&nbsp;&nbsp;</span>ВЫВОД</a></span></li><li><span><a href=\"#Чек-лист-готовности-проекта\" data-toc-modified-id=\"Чек-лист-готовности-проекта-6\"><span class=\"toc-item-num\">6&nbsp;&nbsp;</span>Чек-лист готовности проекта</a></span></li></ul></div>"
   ]
  },
  {
   "cell_type": "markdown",
   "metadata": {},
   "source": [
    "# Отток клиентов"
   ]
  },
  {
   "cell_type": "markdown",
   "metadata": {},
   "source": [
    "Из «Бета-Банка» стали уходить клиенты. Каждый месяц. Немного, но заметно. Банковские маркетологи посчитали: сохранять текущих клиентов дешевле, чем привлекать новых.\n",
    "\n",
    "Нужно спрогнозировать, уйдёт клиент из банка в ближайшее время или нет. Вам предоставлены исторические данные о поведении клиентов и расторжении договоров с банком. \n",
    "\n",
    "Постройте модель с предельно большим значением *F1*-меры. Чтобы сдать проект успешно, нужно довести метрику до 0.59. Проверьте *F1*-меру на тестовой выборке самостоятельно.\n",
    "\n",
    "Дополнительно измеряйте *AUC-ROC*, сравнивайте её значение с *F1*-мерой.\n",
    "\n",
    "Источник данных: [https://www.kaggle.com/barelydedicated/bank-customer-churn-modeling](https://www.kaggle.com/barelydedicated/bank-customer-churn-modeling)"
   ]
  },
  {
   "cell_type": "markdown",
   "metadata": {},
   "source": [
    "## Подготовка данных"
   ]
  },
  {
   "cell_type": "code",
   "execution_count": 1,
   "metadata": {},
   "outputs": [],
   "source": [
    "import pandas as pd\n",
    "import matplotlib.pyplot as plt\n",
    "import seaborn as sns\n",
    "import numpy as np\n",
    "from sklearn.model_selection import train_test_split\n",
    "from sklearn.preprocessing import StandardScaler\n",
    "from sklearn.linear_model import LogisticRegression\n",
    "from sklearn.tree import DecisionTreeClassifier\n",
    "from sklearn.ensemble import RandomForestClassifier\n",
    "from sklearn.metrics import accuracy_score\n",
    "from sklearn.metrics import confusion_matrix\n",
    "from sklearn.metrics import precision_score\n",
    "from sklearn.metrics import recall_score\n",
    "from sklearn.metrics import f1_score\n",
    "from sklearn.utils import shuffle\n",
    "from sklearn.metrics import roc_curve\n",
    "from sklearn.metrics import roc_auc_score"
   ]
  },
  {
   "cell_type": "code",
   "execution_count": 2,
   "metadata": {},
   "outputs": [],
   "source": [
    "try:\n",
    "    df = pd.read_csv('/datasets/Churn.csv')\n",
    "except:\n",
    "    df = pd.read_csv('Churn.csv')"
   ]
  },
  {
   "cell_type": "code",
   "execution_count": 3,
   "metadata": {},
   "outputs": [
    {
     "data": {
      "text/html": [
       "<div>\n",
       "<style scoped>\n",
       "    .dataframe tbody tr th:only-of-type {\n",
       "        vertical-align: middle;\n",
       "    }\n",
       "\n",
       "    .dataframe tbody tr th {\n",
       "        vertical-align: top;\n",
       "    }\n",
       "\n",
       "    .dataframe thead th {\n",
       "        text-align: right;\n",
       "    }\n",
       "</style>\n",
       "<table border=\"1\" class=\"dataframe\">\n",
       "  <thead>\n",
       "    <tr style=\"text-align: right;\">\n",
       "      <th></th>\n",
       "      <th>RowNumber</th>\n",
       "      <th>CustomerId</th>\n",
       "      <th>Surname</th>\n",
       "      <th>CreditScore</th>\n",
       "      <th>Geography</th>\n",
       "      <th>Gender</th>\n",
       "      <th>Age</th>\n",
       "      <th>Tenure</th>\n",
       "      <th>Balance</th>\n",
       "      <th>NumOfProducts</th>\n",
       "      <th>HasCrCard</th>\n",
       "      <th>IsActiveMember</th>\n",
       "      <th>EstimatedSalary</th>\n",
       "      <th>Exited</th>\n",
       "    </tr>\n",
       "  </thead>\n",
       "  <tbody>\n",
       "    <tr>\n",
       "      <th>0</th>\n",
       "      <td>1</td>\n",
       "      <td>15634602</td>\n",
       "      <td>Hargrave</td>\n",
       "      <td>619</td>\n",
       "      <td>France</td>\n",
       "      <td>Female</td>\n",
       "      <td>42</td>\n",
       "      <td>2.0</td>\n",
       "      <td>0.00</td>\n",
       "      <td>1</td>\n",
       "      <td>1</td>\n",
       "      <td>1</td>\n",
       "      <td>101348.88</td>\n",
       "      <td>1</td>\n",
       "    </tr>\n",
       "    <tr>\n",
       "      <th>1</th>\n",
       "      <td>2</td>\n",
       "      <td>15647311</td>\n",
       "      <td>Hill</td>\n",
       "      <td>608</td>\n",
       "      <td>Spain</td>\n",
       "      <td>Female</td>\n",
       "      <td>41</td>\n",
       "      <td>1.0</td>\n",
       "      <td>83807.86</td>\n",
       "      <td>1</td>\n",
       "      <td>0</td>\n",
       "      <td>1</td>\n",
       "      <td>112542.58</td>\n",
       "      <td>0</td>\n",
       "    </tr>\n",
       "    <tr>\n",
       "      <th>2</th>\n",
       "      <td>3</td>\n",
       "      <td>15619304</td>\n",
       "      <td>Onio</td>\n",
       "      <td>502</td>\n",
       "      <td>France</td>\n",
       "      <td>Female</td>\n",
       "      <td>42</td>\n",
       "      <td>8.0</td>\n",
       "      <td>159660.80</td>\n",
       "      <td>3</td>\n",
       "      <td>1</td>\n",
       "      <td>0</td>\n",
       "      <td>113931.57</td>\n",
       "      <td>1</td>\n",
       "    </tr>\n",
       "    <tr>\n",
       "      <th>3</th>\n",
       "      <td>4</td>\n",
       "      <td>15701354</td>\n",
       "      <td>Boni</td>\n",
       "      <td>699</td>\n",
       "      <td>France</td>\n",
       "      <td>Female</td>\n",
       "      <td>39</td>\n",
       "      <td>1.0</td>\n",
       "      <td>0.00</td>\n",
       "      <td>2</td>\n",
       "      <td>0</td>\n",
       "      <td>0</td>\n",
       "      <td>93826.63</td>\n",
       "      <td>0</td>\n",
       "    </tr>\n",
       "    <tr>\n",
       "      <th>4</th>\n",
       "      <td>5</td>\n",
       "      <td>15737888</td>\n",
       "      <td>Mitchell</td>\n",
       "      <td>850</td>\n",
       "      <td>Spain</td>\n",
       "      <td>Female</td>\n",
       "      <td>43</td>\n",
       "      <td>2.0</td>\n",
       "      <td>125510.82</td>\n",
       "      <td>1</td>\n",
       "      <td>1</td>\n",
       "      <td>1</td>\n",
       "      <td>79084.10</td>\n",
       "      <td>0</td>\n",
       "    </tr>\n",
       "  </tbody>\n",
       "</table>\n",
       "</div>"
      ],
      "text/plain": [
       "   RowNumber  CustomerId   Surname  CreditScore Geography  Gender  Age  \\\n",
       "0          1    15634602  Hargrave          619    France  Female   42   \n",
       "1          2    15647311      Hill          608     Spain  Female   41   \n",
       "2          3    15619304      Onio          502    France  Female   42   \n",
       "3          4    15701354      Boni          699    France  Female   39   \n",
       "4          5    15737888  Mitchell          850     Spain  Female   43   \n",
       "\n",
       "   Tenure    Balance  NumOfProducts  HasCrCard  IsActiveMember  \\\n",
       "0     2.0       0.00              1          1               1   \n",
       "1     1.0   83807.86              1          0               1   \n",
       "2     8.0  159660.80              3          1               0   \n",
       "3     1.0       0.00              2          0               0   \n",
       "4     2.0  125510.82              1          1               1   \n",
       "\n",
       "   EstimatedSalary  Exited  \n",
       "0        101348.88       1  \n",
       "1        112542.58       0  \n",
       "2        113931.57       1  \n",
       "3         93826.63       0  \n",
       "4         79084.10       0  "
      ]
     },
     "execution_count": 3,
     "metadata": {},
     "output_type": "execute_result"
    }
   ],
   "source": [
    "    # обзор: первые 5 строк таблицы\n",
    "df.head()"
   ]
  },
  {
   "cell_type": "markdown",
   "metadata": {},
   "source": [
    "**Описание данных:** <br><br>\n",
    "**Признаки:**<br> RowNumber — индекс строки в данных <br> CustomerId — уникальный идентификатор клиента <br> Surname — фамилия <br> CreditScore — кредитный рейтинг <br> Geography — страна проживания <br> Gender — пол <br> Age — возраст <br> Tenure — сколько лет человек является клиентом банка <br> Balance — баланс на счёте <br> NumOfProducts — количество продуктов банка, используемых клиентом <br> \tHasCrCard — наличие кредитной карты <br> IsActiveMember — активность клиента <br> EstimatedSalary — предполагаемая зарплата <br><br> **Целевой признак:** <br>Exited — факт ухода клиента"
   ]
  },
  {
   "cell_type": "code",
   "execution_count": 4,
   "metadata": {},
   "outputs": [
    {
     "data": {
      "text/plain": [
       "(10000, 14)"
      ]
     },
     "execution_count": 4,
     "metadata": {},
     "output_type": "execute_result"
    }
   ],
   "source": [
    "# размер таблицы\n",
    "df.shape"
   ]
  },
  {
   "cell_type": "code",
   "execution_count": 5,
   "metadata": {},
   "outputs": [
    {
     "name": "stdout",
     "output_type": "stream",
     "text": [
      "<class 'pandas.core.frame.DataFrame'>\n",
      "RangeIndex: 10000 entries, 0 to 9999\n",
      "Data columns (total 14 columns):\n",
      " #   Column           Non-Null Count  Dtype  \n",
      "---  ------           --------------  -----  \n",
      " 0   RowNumber        10000 non-null  int64  \n",
      " 1   CustomerId       10000 non-null  int64  \n",
      " 2   Surname          10000 non-null  object \n",
      " 3   CreditScore      10000 non-null  int64  \n",
      " 4   Geography        10000 non-null  object \n",
      " 5   Gender           10000 non-null  object \n",
      " 6   Age              10000 non-null  int64  \n",
      " 7   Tenure           9091 non-null   float64\n",
      " 8   Balance          10000 non-null  float64\n",
      " 9   NumOfProducts    10000 non-null  int64  \n",
      " 10  HasCrCard        10000 non-null  int64  \n",
      " 11  IsActiveMember   10000 non-null  int64  \n",
      " 12  EstimatedSalary  10000 non-null  float64\n",
      " 13  Exited           10000 non-null  int64  \n",
      "dtypes: float64(3), int64(8), object(3)\n",
      "memory usage: 1.1+ MB\n"
     ]
    }
   ],
   "source": [
    "# сводная информация по таблице\n",
    "df.info()"
   ]
  },
  {
   "cell_type": "code",
   "execution_count": 6,
   "metadata": {},
   "outputs": [
    {
     "data": {
      "text/html": [
       "<div>\n",
       "<style scoped>\n",
       "    .dataframe tbody tr th:only-of-type {\n",
       "        vertical-align: middle;\n",
       "    }\n",
       "\n",
       "    .dataframe tbody tr th {\n",
       "        vertical-align: top;\n",
       "    }\n",
       "\n",
       "    .dataframe thead th {\n",
       "        text-align: right;\n",
       "    }\n",
       "</style>\n",
       "<table border=\"1\" class=\"dataframe\">\n",
       "  <thead>\n",
       "    <tr style=\"text-align: right;\">\n",
       "      <th></th>\n",
       "      <th>RowNumber</th>\n",
       "      <th>CustomerId</th>\n",
       "      <th>CreditScore</th>\n",
       "      <th>Age</th>\n",
       "      <th>Tenure</th>\n",
       "      <th>Balance</th>\n",
       "      <th>NumOfProducts</th>\n",
       "      <th>HasCrCard</th>\n",
       "      <th>IsActiveMember</th>\n",
       "      <th>EstimatedSalary</th>\n",
       "      <th>Exited</th>\n",
       "    </tr>\n",
       "  </thead>\n",
       "  <tbody>\n",
       "    <tr>\n",
       "      <th>count</th>\n",
       "      <td>10000.00000</td>\n",
       "      <td>1.000000e+04</td>\n",
       "      <td>10000.000000</td>\n",
       "      <td>10000.000000</td>\n",
       "      <td>9091.000000</td>\n",
       "      <td>10000.000000</td>\n",
       "      <td>10000.000000</td>\n",
       "      <td>10000.00000</td>\n",
       "      <td>10000.000000</td>\n",
       "      <td>10000.000000</td>\n",
       "      <td>10000.000000</td>\n",
       "    </tr>\n",
       "    <tr>\n",
       "      <th>mean</th>\n",
       "      <td>5000.50000</td>\n",
       "      <td>1.569094e+07</td>\n",
       "      <td>650.528800</td>\n",
       "      <td>38.921800</td>\n",
       "      <td>4.997690</td>\n",
       "      <td>76485.889288</td>\n",
       "      <td>1.530200</td>\n",
       "      <td>0.70550</td>\n",
       "      <td>0.515100</td>\n",
       "      <td>100090.239881</td>\n",
       "      <td>0.203700</td>\n",
       "    </tr>\n",
       "    <tr>\n",
       "      <th>std</th>\n",
       "      <td>2886.89568</td>\n",
       "      <td>7.193619e+04</td>\n",
       "      <td>96.653299</td>\n",
       "      <td>10.487806</td>\n",
       "      <td>2.894723</td>\n",
       "      <td>62397.405202</td>\n",
       "      <td>0.581654</td>\n",
       "      <td>0.45584</td>\n",
       "      <td>0.499797</td>\n",
       "      <td>57510.492818</td>\n",
       "      <td>0.402769</td>\n",
       "    </tr>\n",
       "    <tr>\n",
       "      <th>min</th>\n",
       "      <td>1.00000</td>\n",
       "      <td>1.556570e+07</td>\n",
       "      <td>350.000000</td>\n",
       "      <td>18.000000</td>\n",
       "      <td>0.000000</td>\n",
       "      <td>0.000000</td>\n",
       "      <td>1.000000</td>\n",
       "      <td>0.00000</td>\n",
       "      <td>0.000000</td>\n",
       "      <td>11.580000</td>\n",
       "      <td>0.000000</td>\n",
       "    </tr>\n",
       "    <tr>\n",
       "      <th>25%</th>\n",
       "      <td>2500.75000</td>\n",
       "      <td>1.562853e+07</td>\n",
       "      <td>584.000000</td>\n",
       "      <td>32.000000</td>\n",
       "      <td>2.000000</td>\n",
       "      <td>0.000000</td>\n",
       "      <td>1.000000</td>\n",
       "      <td>0.00000</td>\n",
       "      <td>0.000000</td>\n",
       "      <td>51002.110000</td>\n",
       "      <td>0.000000</td>\n",
       "    </tr>\n",
       "    <tr>\n",
       "      <th>50%</th>\n",
       "      <td>5000.50000</td>\n",
       "      <td>1.569074e+07</td>\n",
       "      <td>652.000000</td>\n",
       "      <td>37.000000</td>\n",
       "      <td>5.000000</td>\n",
       "      <td>97198.540000</td>\n",
       "      <td>1.000000</td>\n",
       "      <td>1.00000</td>\n",
       "      <td>1.000000</td>\n",
       "      <td>100193.915000</td>\n",
       "      <td>0.000000</td>\n",
       "    </tr>\n",
       "    <tr>\n",
       "      <th>75%</th>\n",
       "      <td>7500.25000</td>\n",
       "      <td>1.575323e+07</td>\n",
       "      <td>718.000000</td>\n",
       "      <td>44.000000</td>\n",
       "      <td>7.000000</td>\n",
       "      <td>127644.240000</td>\n",
       "      <td>2.000000</td>\n",
       "      <td>1.00000</td>\n",
       "      <td>1.000000</td>\n",
       "      <td>149388.247500</td>\n",
       "      <td>0.000000</td>\n",
       "    </tr>\n",
       "    <tr>\n",
       "      <th>max</th>\n",
       "      <td>10000.00000</td>\n",
       "      <td>1.581569e+07</td>\n",
       "      <td>850.000000</td>\n",
       "      <td>92.000000</td>\n",
       "      <td>10.000000</td>\n",
       "      <td>250898.090000</td>\n",
       "      <td>4.000000</td>\n",
       "      <td>1.00000</td>\n",
       "      <td>1.000000</td>\n",
       "      <td>199992.480000</td>\n",
       "      <td>1.000000</td>\n",
       "    </tr>\n",
       "  </tbody>\n",
       "</table>\n",
       "</div>"
      ],
      "text/plain": [
       "         RowNumber    CustomerId   CreditScore           Age       Tenure  \\\n",
       "count  10000.00000  1.000000e+04  10000.000000  10000.000000  9091.000000   \n",
       "mean    5000.50000  1.569094e+07    650.528800     38.921800     4.997690   \n",
       "std     2886.89568  7.193619e+04     96.653299     10.487806     2.894723   \n",
       "min        1.00000  1.556570e+07    350.000000     18.000000     0.000000   \n",
       "25%     2500.75000  1.562853e+07    584.000000     32.000000     2.000000   \n",
       "50%     5000.50000  1.569074e+07    652.000000     37.000000     5.000000   \n",
       "75%     7500.25000  1.575323e+07    718.000000     44.000000     7.000000   \n",
       "max    10000.00000  1.581569e+07    850.000000     92.000000    10.000000   \n",
       "\n",
       "             Balance  NumOfProducts    HasCrCard  IsActiveMember  \\\n",
       "count   10000.000000   10000.000000  10000.00000    10000.000000   \n",
       "mean    76485.889288       1.530200      0.70550        0.515100   \n",
       "std     62397.405202       0.581654      0.45584        0.499797   \n",
       "min         0.000000       1.000000      0.00000        0.000000   \n",
       "25%         0.000000       1.000000      0.00000        0.000000   \n",
       "50%     97198.540000       1.000000      1.00000        1.000000   \n",
       "75%    127644.240000       2.000000      1.00000        1.000000   \n",
       "max    250898.090000       4.000000      1.00000        1.000000   \n",
       "\n",
       "       EstimatedSalary        Exited  \n",
       "count     10000.000000  10000.000000  \n",
       "mean     100090.239881      0.203700  \n",
       "std       57510.492818      0.402769  \n",
       "min          11.580000      0.000000  \n",
       "25%       51002.110000      0.000000  \n",
       "50%      100193.915000      0.000000  \n",
       "75%      149388.247500      0.000000  \n",
       "max      199992.480000      1.000000  "
      ]
     },
     "execution_count": 6,
     "metadata": {},
     "output_type": "execute_result"
    }
   ],
   "source": [
    "df.describe()"
   ]
  },
  {
   "cell_type": "code",
   "execution_count": 7,
   "metadata": {},
   "outputs": [
    {
     "data": {
      "text/plain": [
       "Index(['RowNumber', 'CustomerId', 'Surname', 'CreditScore', 'Geography',\n",
       "       'Gender', 'Age', 'Tenure', 'Balance', 'NumOfProducts', 'HasCrCard',\n",
       "       'IsActiveMember', 'EstimatedSalary', 'Exited'],\n",
       "      dtype='object')"
      ]
     },
     "execution_count": 7,
     "metadata": {},
     "output_type": "execute_result"
    }
   ],
   "source": [
    "# названия столбцов\n",
    "df.columns"
   ]
  },
  {
   "cell_type": "code",
   "execution_count": 8,
   "metadata": {},
   "outputs": [],
   "source": [
    "df = df.rename(columns = {'RowNumber': 'Row_Number', 'CustomerId': 'Customer_Id', \n",
    "                     'CreditScore': 'Credit_Score', 'NumOfProducts': 'Num_Of_Products', \n",
    "                     'HasCrCard': 'Has_Cr_Card', 'IsActiveMember': 'Is_Active_Member', \n",
    "                     'EstimatedSalary': 'Estimated_Salary'})"
   ]
  },
  {
   "cell_type": "code",
   "execution_count": 9,
   "metadata": {},
   "outputs": [
    {
     "data": {
      "text/plain": [
       "Index(['row_number', 'customer_id', 'surname', 'credit_score', 'geography',\n",
       "       'gender', 'age', 'tenure', 'balance', 'num_of_products', 'has_cr_card',\n",
       "       'is_active_member', 'estimated_salary', 'exited'],\n",
       "      dtype='object')"
      ]
     },
     "execution_count": 9,
     "metadata": {},
     "output_type": "execute_result"
    }
   ],
   "source": [
    "# что бы избежать в дальнейшем ошибок в названии столбцов, приведем их к нижнему регистру\n",
    "df.columns = df.columns.str.lower()\n",
    "# названия столбцов\n",
    "df.columns"
   ]
  },
  {
   "cell_type": "markdown",
   "metadata": {},
   "source": [
    "Названия столбцов приведены к нижнему регистру."
   ]
  },
  {
   "cell_type": "code",
   "execution_count": 10,
   "metadata": {},
   "outputs": [
    {
     "data": {
      "text/plain": [
       "0"
      ]
     },
     "execution_count": 10,
     "metadata": {},
     "output_type": "execute_result"
    }
   ],
   "source": [
    "# проверка наличия дубликатов\n",
    "df.duplicated().sum()"
   ]
  },
  {
   "cell_type": "markdown",
   "metadata": {},
   "source": [
    "Явные дубликаты отсутствуют."
   ]
  },
  {
   "cell_type": "code",
   "execution_count": 11,
   "metadata": {},
   "outputs": [
    {
     "data": {
      "text/plain": [
       "row_number            0\n",
       "customer_id           0\n",
       "surname               0\n",
       "credit_score          0\n",
       "geography             0\n",
       "gender                0\n",
       "age                   0\n",
       "tenure              909\n",
       "balance               0\n",
       "num_of_products       0\n",
       "has_cr_card           0\n",
       "is_active_member      0\n",
       "estimated_salary      0\n",
       "exited                0\n",
       "dtype: int64"
      ]
     },
     "execution_count": 11,
     "metadata": {},
     "output_type": "execute_result"
    }
   ],
   "source": [
    "# проверим пропуски в данных\n",
    "df.isna().sum()"
   ]
  },
  {
   "cell_type": "code",
   "execution_count": 12,
   "metadata": {},
   "outputs": [
    {
     "name": "stdout",
     "output_type": "stream",
     "text": [
      "Процент пропусков в столбце \"tenure\" (сколько лет человек является клиентом банка):\n",
      "9.09%\n"
     ]
    }
   ],
   "source": [
    "print('Процент пропусков в столбце \"tenure\" (сколько лет человек является клиентом банка):')\n",
    "print(f\"{(df['tenure'].isna().mean()):.2%}\")"
   ]
  },
  {
   "cell_type": "code",
   "execution_count": 13,
   "metadata": {},
   "outputs": [
    {
     "data": {
      "text/html": [
       "<div>\n",
       "<style scoped>\n",
       "    .dataframe tbody tr th:only-of-type {\n",
       "        vertical-align: middle;\n",
       "    }\n",
       "\n",
       "    .dataframe tbody tr th {\n",
       "        vertical-align: top;\n",
       "    }\n",
       "\n",
       "    .dataframe thead th {\n",
       "        text-align: right;\n",
       "    }\n",
       "</style>\n",
       "<table border=\"1\" class=\"dataframe\">\n",
       "  <thead>\n",
       "    <tr style=\"text-align: right;\">\n",
       "      <th></th>\n",
       "      <th>row_number</th>\n",
       "      <th>customer_id</th>\n",
       "      <th>surname</th>\n",
       "      <th>credit_score</th>\n",
       "      <th>geography</th>\n",
       "      <th>gender</th>\n",
       "      <th>age</th>\n",
       "      <th>tenure</th>\n",
       "      <th>balance</th>\n",
       "      <th>num_of_products</th>\n",
       "      <th>has_cr_card</th>\n",
       "      <th>is_active_member</th>\n",
       "      <th>estimated_salary</th>\n",
       "      <th>exited</th>\n",
       "    </tr>\n",
       "  </thead>\n",
       "  <tbody>\n",
       "    <tr>\n",
       "      <th>30</th>\n",
       "      <td>31</td>\n",
       "      <td>15589475</td>\n",
       "      <td>Azikiwe</td>\n",
       "      <td>591</td>\n",
       "      <td>Spain</td>\n",
       "      <td>Female</td>\n",
       "      <td>39</td>\n",
       "      <td>NaN</td>\n",
       "      <td>0.00</td>\n",
       "      <td>3</td>\n",
       "      <td>1</td>\n",
       "      <td>0</td>\n",
       "      <td>140469.38</td>\n",
       "      <td>1</td>\n",
       "    </tr>\n",
       "    <tr>\n",
       "      <th>48</th>\n",
       "      <td>49</td>\n",
       "      <td>15766205</td>\n",
       "      <td>Yin</td>\n",
       "      <td>550</td>\n",
       "      <td>Germany</td>\n",
       "      <td>Male</td>\n",
       "      <td>38</td>\n",
       "      <td>NaN</td>\n",
       "      <td>103391.38</td>\n",
       "      <td>1</td>\n",
       "      <td>0</td>\n",
       "      <td>1</td>\n",
       "      <td>90878.13</td>\n",
       "      <td>0</td>\n",
       "    </tr>\n",
       "    <tr>\n",
       "      <th>51</th>\n",
       "      <td>52</td>\n",
       "      <td>15768193</td>\n",
       "      <td>Trevisani</td>\n",
       "      <td>585</td>\n",
       "      <td>Germany</td>\n",
       "      <td>Male</td>\n",
       "      <td>36</td>\n",
       "      <td>NaN</td>\n",
       "      <td>146050.97</td>\n",
       "      <td>2</td>\n",
       "      <td>0</td>\n",
       "      <td>0</td>\n",
       "      <td>86424.57</td>\n",
       "      <td>0</td>\n",
       "    </tr>\n",
       "    <tr>\n",
       "      <th>53</th>\n",
       "      <td>54</td>\n",
       "      <td>15702298</td>\n",
       "      <td>Parkhill</td>\n",
       "      <td>655</td>\n",
       "      <td>Germany</td>\n",
       "      <td>Male</td>\n",
       "      <td>41</td>\n",
       "      <td>NaN</td>\n",
       "      <td>125561.97</td>\n",
       "      <td>1</td>\n",
       "      <td>0</td>\n",
       "      <td>0</td>\n",
       "      <td>164040.94</td>\n",
       "      <td>1</td>\n",
       "    </tr>\n",
       "    <tr>\n",
       "      <th>60</th>\n",
       "      <td>61</td>\n",
       "      <td>15651280</td>\n",
       "      <td>Hunter</td>\n",
       "      <td>742</td>\n",
       "      <td>Germany</td>\n",
       "      <td>Male</td>\n",
       "      <td>35</td>\n",
       "      <td>NaN</td>\n",
       "      <td>136857.00</td>\n",
       "      <td>1</td>\n",
       "      <td>0</td>\n",
       "      <td>0</td>\n",
       "      <td>84509.57</td>\n",
       "      <td>0</td>\n",
       "    </tr>\n",
       "  </tbody>\n",
       "</table>\n",
       "</div>"
      ],
      "text/plain": [
       "    row_number  customer_id    surname  credit_score geography  gender  age  \\\n",
       "30          31     15589475    Azikiwe           591     Spain  Female   39   \n",
       "48          49     15766205        Yin           550   Germany    Male   38   \n",
       "51          52     15768193  Trevisani           585   Germany    Male   36   \n",
       "53          54     15702298   Parkhill           655   Germany    Male   41   \n",
       "60          61     15651280     Hunter           742   Germany    Male   35   \n",
       "\n",
       "    tenure    balance  num_of_products  has_cr_card  is_active_member  \\\n",
       "30     NaN       0.00                3            1                 0   \n",
       "48     NaN  103391.38                1            0                 1   \n",
       "51     NaN  146050.97                2            0                 0   \n",
       "53     NaN  125561.97                1            0                 0   \n",
       "60     NaN  136857.00                1            0                 0   \n",
       "\n",
       "    estimated_salary  exited  \n",
       "30         140469.38       1  \n",
       "48          90878.13       0  \n",
       "51          86424.57       0  \n",
       "53         164040.94       1  \n",
       "60          84509.57       0  "
      ]
     },
     "execution_count": 13,
     "metadata": {},
     "output_type": "execute_result"
    }
   ],
   "source": [
    "# строки с пропущенными значениями 'tenure'\n",
    "df[df['tenure'].isnull() == True].head()"
   ]
  },
  {
   "cell_type": "code",
   "execution_count": 14,
   "metadata": {},
   "outputs": [
    {
     "data": {
      "image/png": "[encoded data removed]",
      "text/plain": [
       "<Figure size 432x288 with 1 Axes>"
      ]
     },
     "metadata": {
      "needs_background": "light"
     },
     "output_type": "display_data"
    }
   ],
   "source": [
    "df['tenure'].plot(kind='kde')\n",
    "plt.legend()\n",
    "plt.xlabel('Сколько лет человек является клиентом банка')\n",
    "plt.ylabel('Плотность')\n",
    "plt.title('Распределение tenure')\n",
    "plt.show()"
   ]
  },
  {
   "cell_type": "markdown",
   "metadata": {},
   "source": [
    "Заполним пропуски столбца 'tenure' (сколько лет человек является клиентом банка) \n",
    "на 0."
   ]
  },
  {
   "cell_type": "code",
   "execution_count": 15,
   "metadata": {},
   "outputs": [
    {
     "name": "stdout",
     "output_type": "stream",
     "text": [
      "Уникальные значения в столце 'tenure': [ 0.  1.  2.  3.  4.  5.  6.  7.  8.  9. 10. nan]\n",
      "Количество: 12\n",
      "Медиана 5.0\n",
      "После замены:\n",
      "Уникальные значения в столце 'tenure': [ 0  1  2  3  4  5  6  7  8  9 10]\n",
      "Количество: 11\n"
     ]
    }
   ],
   "source": [
    "print(\"Уникальные значения в столце 'tenure':\", df['tenure'].sort_values().unique())\n",
    "print(\"Количество:\", len(df['tenure'].unique()))\n",
    "print('Медиана', df['tenure'].median())\n",
    "# заменим пропушенные значения на медиану\n",
    "df['tenure'] = df['tenure'].fillna(df['tenure'].median()).astype('int64')\n",
    "print('После замены:')\n",
    "print(\"Уникальные значения в столце 'tenure':\", df['tenure'].sort_values().unique())\n",
    "print(\"Количество:\", len(df['tenure'].unique()))"
   ]
  },
  {
   "cell_type": "code",
   "execution_count": 16,
   "metadata": {},
   "outputs": [
    {
     "name": "stdout",
     "output_type": "stream",
     "text": [
      "После замены:\n",
      "Уникальные значения в столце 'tenure': [ 0  1  2  3  4  5  6  7  8  9 10]\n",
      "Количество: 11\n"
     ]
    }
   ],
   "source": [
    "print('После замены:')\n",
    "print(\"Уникальные значения в столце 'tenure':\", df['tenure'].sort_values().unique())\n",
    "print(\"Количество:\", len(df['tenure'].unique()))"
   ]
  },
  {
   "cell_type": "code",
   "execution_count": 17,
   "metadata": {},
   "outputs": [
    {
     "data": {
      "image/png": "[encoded data removed]",
      "text/plain": [
       "<Figure size 432x288 with 1 Axes>"
      ]
     },
     "metadata": {
      "needs_background": "light"
     },
     "output_type": "display_data"
    }
   ],
   "source": [
    "df['tenure'].plot(kind='kde')\n",
    "plt.legend()\n",
    "plt.xlabel('Сколько лет человек является клиентом банка')\n",
    "plt.ylabel('Плотность')\n",
    "plt.title('Распределение tenure')\n",
    "plt.show()"
   ]
  },
  {
   "cell_type": "code",
   "execution_count": 18,
   "metadata": {},
   "outputs": [
    {
     "name": "stdout",
     "output_type": "stream",
     "text": [
      "Уникальные значения в столце 'geography': ['France' 'Spain' 'Germany'] Количество: 3\n",
      "Уникальные значения в столце 'gender': ['Female' 'Male'] Количество: 2\n"
     ]
    }
   ],
   "source": [
    "print(\"Уникальные значения в столце 'geography':\", df['geography'].unique(), \"Количество:\",\n",
    "      len(df['geography'].unique()))\n",
    "print(\"Уникальные значения в столце 'gender':\", df['gender'].unique(), \"Количество:\", \n",
    "      len(df['gender'].unique()))"
   ]
  },
  {
   "cell_type": "code",
   "execution_count": 19,
   "metadata": {},
   "outputs": [
    {
     "name": "stdout",
     "output_type": "stream",
     "text": [
      "Уникальные значения в столце 'age': [18 19 20 21 22 23 24 25 26 27 28 29 30 31 32 33 34 35 36 37 38 39 40 41\n",
      " 42 43 44 45 46 47 48 49 50 51 52 53 54 55 56 57 58 59 60 61 62 63 64 65\n",
      " 66 67 68 69 70 71 72 73 74 75 76 77 78 79 80 81 82 83 84 85 88 92] Количество: 70\n"
     ]
    }
   ],
   "source": [
    "print(\"Уникальные значения в столце 'age':\", df['age'].sort_values().unique(), \"Количество:\", \n",
    "      len(df['age'].unique()))"
   ]
  },
  {
   "cell_type": "code",
   "execution_count": 20,
   "metadata": {},
   "outputs": [
    {
     "name": "stdout",
     "output_type": "stream",
     "text": [
      "Уникальные значения в столце 'num_of_products': [1 2 3 4] Количество: 4\n"
     ]
    }
   ],
   "source": [
    "print(\"Уникальные значения в столце 'num_of_products':\", df['num_of_products'].sort_values().unique(), \n",
    "      \"Количество:\", len(df['num_of_products'].unique()))"
   ]
  },
  {
   "cell_type": "code",
   "execution_count": 21,
   "metadata": {},
   "outputs": [
    {
     "name": "stdout",
     "output_type": "stream",
     "text": [
      "Уникальные значения в столце 'is_active_member': [0 1] Количество: 2\n"
     ]
    }
   ],
   "source": [
    "print(\"Уникальные значения в столце 'is_active_member':\", df['is_active_member'].sort_values().unique(), \n",
    "      \"Количество:\", len(df['is_active_member'].unique()))"
   ]
  },
  {
   "cell_type": "markdown",
   "metadata": {},
   "source": [
    "**Вывод** <br> В исходных данных 10000 строк (объекты) и 14 столбцов (признаки: 13 признаков и 1 целевой признак). <br> - Дубликаты отсутствуют. <br> - Пропуски данных были только в 1 столбце (\"tenure\" (сколько лет человек является клиентом банка) и составили небольшой процент = 9,09. Заменила эти пропуски на наименьшее значение 0 сменили тип данных на int (целое число). <br> - В целевом признаке пропуски отсутствуют. <br> - Названия столбцов приведены к нижнему регистру во избежание ошибок в дальнейшем. <br> - В нашем распоряжении обучающий набор данных (признаки) и целевой признак, который нужно предсказать по остальным признакам. Такие задачи относятся к \"обучению с учителем\" / бинарная (двоичная) классификация (категориальный целевой признак)."
   ]
  },
  {
   "cell_type": "markdown",
   "metadata": {},
   "source": [
    "## Исследование задачи"
   ]
  },
  {
   "cell_type": "markdown",
   "metadata": {},
   "source": [
    "Ненужные признаки снижают скорость обучения модели. Перед обучение необходимо удалить лишние данные, имеющие: высокий процент пропущенных значений (таких у нас нет); коллинеарность (сильная корреляция); низкая важность; единственное значение.<br> В наборе данных есть некоторые столбцы, которые имеют категориальные значения, и мы хотим использовать их для обучения нашей модели. В этом случае мы должны преобразовать значения категорий в числовые типы."
   ]
  },
  {
   "cell_type": "markdown",
   "metadata": {},
   "source": [
    "### Подготовка данных"
   ]
  },
  {
   "cell_type": "code",
   "execution_count": 22,
   "metadata": {},
   "outputs": [
    {
     "data": {
      "text/plain": [
       "(10000, 14)"
      ]
     },
     "execution_count": 22,
     "metadata": {},
     "output_type": "execute_result"
    }
   ],
   "source": [
    "# размер данных\n",
    "df.shape"
   ]
  },
  {
   "cell_type": "markdown",
   "metadata": {},
   "source": [
    "Удалим лишние столбцы: явные дубликаты проверены, следовательно можно удалить столбец 'rownumber' (индекс строки в данных), так как в таблице есть индексация и столбец 'customerid' (уникальный идентификатор клиента), так как они не несут ценности для обучения модели"
   ]
  },
  {
   "cell_type": "code",
   "execution_count": 23,
   "metadata": {
    "scrolled": true
   },
   "outputs": [
    {
     "data": {
      "text/html": [
       "<div>\n",
       "<style scoped>\n",
       "    .dataframe tbody tr th:only-of-type {\n",
       "        vertical-align: middle;\n",
       "    }\n",
       "\n",
       "    .dataframe tbody tr th {\n",
       "        vertical-align: top;\n",
       "    }\n",
       "\n",
       "    .dataframe thead th {\n",
       "        text-align: right;\n",
       "    }\n",
       "</style>\n",
       "<table border=\"1\" class=\"dataframe\">\n",
       "  <thead>\n",
       "    <tr style=\"text-align: right;\">\n",
       "      <th></th>\n",
       "      <th>surname</th>\n",
       "      <th>credit_score</th>\n",
       "      <th>geography</th>\n",
       "      <th>gender</th>\n",
       "      <th>age</th>\n",
       "      <th>tenure</th>\n",
       "      <th>balance</th>\n",
       "      <th>num_of_products</th>\n",
       "      <th>has_cr_card</th>\n",
       "      <th>is_active_member</th>\n",
       "      <th>estimated_salary</th>\n",
       "      <th>exited</th>\n",
       "    </tr>\n",
       "  </thead>\n",
       "  <tbody>\n",
       "    <tr>\n",
       "      <th>0</th>\n",
       "      <td>Hargrave</td>\n",
       "      <td>619</td>\n",
       "      <td>France</td>\n",
       "      <td>Female</td>\n",
       "      <td>42</td>\n",
       "      <td>2</td>\n",
       "      <td>0.00</td>\n",
       "      <td>1</td>\n",
       "      <td>1</td>\n",
       "      <td>1</td>\n",
       "      <td>101348.88</td>\n",
       "      <td>1</td>\n",
       "    </tr>\n",
       "    <tr>\n",
       "      <th>1</th>\n",
       "      <td>Hill</td>\n",
       "      <td>608</td>\n",
       "      <td>Spain</td>\n",
       "      <td>Female</td>\n",
       "      <td>41</td>\n",
       "      <td>1</td>\n",
       "      <td>83807.86</td>\n",
       "      <td>1</td>\n",
       "      <td>0</td>\n",
       "      <td>1</td>\n",
       "      <td>112542.58</td>\n",
       "      <td>0</td>\n",
       "    </tr>\n",
       "    <tr>\n",
       "      <th>2</th>\n",
       "      <td>Onio</td>\n",
       "      <td>502</td>\n",
       "      <td>France</td>\n",
       "      <td>Female</td>\n",
       "      <td>42</td>\n",
       "      <td>8</td>\n",
       "      <td>159660.80</td>\n",
       "      <td>3</td>\n",
       "      <td>1</td>\n",
       "      <td>0</td>\n",
       "      <td>113931.57</td>\n",
       "      <td>1</td>\n",
       "    </tr>\n",
       "  </tbody>\n",
       "</table>\n",
       "</div>"
      ],
      "text/plain": [
       "    surname  credit_score geography  gender  age  tenure    balance  \\\n",
       "0  Hargrave           619    France  Female   42       2       0.00   \n",
       "1      Hill           608     Spain  Female   41       1   83807.86   \n",
       "2      Onio           502    France  Female   42       8  159660.80   \n",
       "\n",
       "   num_of_products  has_cr_card  is_active_member  estimated_salary  exited  \n",
       "0                1            1                 1         101348.88       1  \n",
       "1                1            0                 1         112542.58       0  \n",
       "2                3            1                 0         113931.57       1  "
      ]
     },
     "execution_count": 23,
     "metadata": {},
     "output_type": "execute_result"
    }
   ],
   "source": [
    "df = df.drop(['row_number', 'customer_id'], axis=1)\n",
    "df.head(3)"
   ]
  },
  {
   "cell_type": "code",
   "execution_count": 24,
   "metadata": {},
   "outputs": [
    {
     "name": "stdout",
     "output_type": "stream",
     "text": [
      "Уникальные значения в столце 'surname': ['Hargrave' 'Hill' 'Onio' ... 'Kashiwagi' 'Aldridge' 'Burbidge'] Количество: 2932\n"
     ]
    }
   ],
   "source": [
    "# проверим уникальные значения в столбце 'surname'\n",
    "print(\"Уникальные значения в столце 'surname':\", df['surname'].unique(), \"Количество:\",\n",
    "      len(df['surname'].unique()))"
   ]
  },
  {
   "cell_type": "markdown",
   "metadata": {},
   "source": [
    "Уникальных значений в столбце 'surname' (фамилия) 2932, это очень много для преобразования категориального признака в числовой - удаляем этот столбец"
   ]
  },
  {
   "cell_type": "code",
   "execution_count": 25,
   "metadata": {},
   "outputs": [
    {
     "data": {
      "text/html": [
       "<div>\n",
       "<style scoped>\n",
       "    .dataframe tbody tr th:only-of-type {\n",
       "        vertical-align: middle;\n",
       "    }\n",
       "\n",
       "    .dataframe tbody tr th {\n",
       "        vertical-align: top;\n",
       "    }\n",
       "\n",
       "    .dataframe thead th {\n",
       "        text-align: right;\n",
       "    }\n",
       "</style>\n",
       "<table border=\"1\" class=\"dataframe\">\n",
       "  <thead>\n",
       "    <tr style=\"text-align: right;\">\n",
       "      <th></th>\n",
       "      <th>credit_score</th>\n",
       "      <th>geography</th>\n",
       "      <th>gender</th>\n",
       "      <th>age</th>\n",
       "      <th>tenure</th>\n",
       "      <th>balance</th>\n",
       "      <th>num_of_products</th>\n",
       "      <th>has_cr_card</th>\n",
       "      <th>is_active_member</th>\n",
       "      <th>estimated_salary</th>\n",
       "      <th>exited</th>\n",
       "    </tr>\n",
       "  </thead>\n",
       "  <tbody>\n",
       "    <tr>\n",
       "      <th>0</th>\n",
       "      <td>619</td>\n",
       "      <td>France</td>\n",
       "      <td>Female</td>\n",
       "      <td>42</td>\n",
       "      <td>2</td>\n",
       "      <td>0.00</td>\n",
       "      <td>1</td>\n",
       "      <td>1</td>\n",
       "      <td>1</td>\n",
       "      <td>101348.88</td>\n",
       "      <td>1</td>\n",
       "    </tr>\n",
       "    <tr>\n",
       "      <th>1</th>\n",
       "      <td>608</td>\n",
       "      <td>Spain</td>\n",
       "      <td>Female</td>\n",
       "      <td>41</td>\n",
       "      <td>1</td>\n",
       "      <td>83807.86</td>\n",
       "      <td>1</td>\n",
       "      <td>0</td>\n",
       "      <td>1</td>\n",
       "      <td>112542.58</td>\n",
       "      <td>0</td>\n",
       "    </tr>\n",
       "    <tr>\n",
       "      <th>2</th>\n",
       "      <td>502</td>\n",
       "      <td>France</td>\n",
       "      <td>Female</td>\n",
       "      <td>42</td>\n",
       "      <td>8</td>\n",
       "      <td>159660.80</td>\n",
       "      <td>3</td>\n",
       "      <td>1</td>\n",
       "      <td>0</td>\n",
       "      <td>113931.57</td>\n",
       "      <td>1</td>\n",
       "    </tr>\n",
       "  </tbody>\n",
       "</table>\n",
       "</div>"
      ],
      "text/plain": [
       "   credit_score geography  gender  age  tenure    balance  num_of_products  \\\n",
       "0           619    France  Female   42       2       0.00                1   \n",
       "1           608     Spain  Female   41       1   83807.86                1   \n",
       "2           502    France  Female   42       8  159660.80                3   \n",
       "\n",
       "   has_cr_card  is_active_member  estimated_salary  exited  \n",
       "0            1                 1         101348.88       1  \n",
       "1            0                 1         112542.58       0  \n",
       "2            1                 0         113931.57       1  "
      ]
     },
     "execution_count": 25,
     "metadata": {},
     "output_type": "execute_result"
    }
   ],
   "source": [
    "df = df.drop(['surname'], axis=1)\n",
    "df.head(3)"
   ]
  },
  {
   "cell_type": "code",
   "execution_count": 26,
   "metadata": {},
   "outputs": [
    {
     "data": {
      "text/plain": [
       "(10000, 11)"
      ]
     },
     "execution_count": 26,
     "metadata": {},
     "output_type": "execute_result"
    }
   ],
   "source": [
    "# размер данных\n",
    "df.shape"
   ]
  },
  {
   "cell_type": "code",
   "execution_count": 27,
   "metadata": {},
   "outputs": [
    {
     "data": {
      "text/html": [
       "<div>\n",
       "<style scoped>\n",
       "    .dataframe tbody tr th:only-of-type {\n",
       "        vertical-align: middle;\n",
       "    }\n",
       "\n",
       "    .dataframe tbody tr th {\n",
       "        vertical-align: top;\n",
       "    }\n",
       "\n",
       "    .dataframe thead th {\n",
       "        text-align: right;\n",
       "    }\n",
       "</style>\n",
       "<table border=\"1\" class=\"dataframe\">\n",
       "  <thead>\n",
       "    <tr style=\"text-align: right;\">\n",
       "      <th></th>\n",
       "      <th>credit_score</th>\n",
       "      <th>geography</th>\n",
       "      <th>gender</th>\n",
       "      <th>age</th>\n",
       "      <th>tenure</th>\n",
       "      <th>balance</th>\n",
       "      <th>num_of_products</th>\n",
       "      <th>has_cr_card</th>\n",
       "      <th>is_active_member</th>\n",
       "      <th>estimated_salary</th>\n",
       "      <th>exited</th>\n",
       "    </tr>\n",
       "  </thead>\n",
       "  <tbody>\n",
       "    <tr>\n",
       "      <th>0</th>\n",
       "      <td>619</td>\n",
       "      <td>France</td>\n",
       "      <td>Female</td>\n",
       "      <td>42</td>\n",
       "      <td>2</td>\n",
       "      <td>0.00</td>\n",
       "      <td>1</td>\n",
       "      <td>1</td>\n",
       "      <td>1</td>\n",
       "      <td>101348.88</td>\n",
       "      <td>1</td>\n",
       "    </tr>\n",
       "    <tr>\n",
       "      <th>1</th>\n",
       "      <td>608</td>\n",
       "      <td>Spain</td>\n",
       "      <td>Female</td>\n",
       "      <td>41</td>\n",
       "      <td>1</td>\n",
       "      <td>83807.86</td>\n",
       "      <td>1</td>\n",
       "      <td>0</td>\n",
       "      <td>1</td>\n",
       "      <td>112542.58</td>\n",
       "      <td>0</td>\n",
       "    </tr>\n",
       "    <tr>\n",
       "      <th>2</th>\n",
       "      <td>502</td>\n",
       "      <td>France</td>\n",
       "      <td>Female</td>\n",
       "      <td>42</td>\n",
       "      <td>8</td>\n",
       "      <td>159660.80</td>\n",
       "      <td>3</td>\n",
       "      <td>1</td>\n",
       "      <td>0</td>\n",
       "      <td>113931.57</td>\n",
       "      <td>1</td>\n",
       "    </tr>\n",
       "    <tr>\n",
       "      <th>3</th>\n",
       "      <td>699</td>\n",
       "      <td>France</td>\n",
       "      <td>Female</td>\n",
       "      <td>39</td>\n",
       "      <td>1</td>\n",
       "      <td>0.00</td>\n",
       "      <td>2</td>\n",
       "      <td>0</td>\n",
       "      <td>0</td>\n",
       "      <td>93826.63</td>\n",
       "      <td>0</td>\n",
       "    </tr>\n",
       "    <tr>\n",
       "      <th>4</th>\n",
       "      <td>850</td>\n",
       "      <td>Spain</td>\n",
       "      <td>Female</td>\n",
       "      <td>43</td>\n",
       "      <td>2</td>\n",
       "      <td>125510.82</td>\n",
       "      <td>1</td>\n",
       "      <td>1</td>\n",
       "      <td>1</td>\n",
       "      <td>79084.10</td>\n",
       "      <td>0</td>\n",
       "    </tr>\n",
       "  </tbody>\n",
       "</table>\n",
       "</div>"
      ],
      "text/plain": [
       "   credit_score geography  gender  age  tenure    balance  num_of_products  \\\n",
       "0           619    France  Female   42       2       0.00                1   \n",
       "1           608     Spain  Female   41       1   83807.86                1   \n",
       "2           502    France  Female   42       8  159660.80                3   \n",
       "3           699    France  Female   39       1       0.00                2   \n",
       "4           850     Spain  Female   43       2  125510.82                1   \n",
       "\n",
       "   has_cr_card  is_active_member  estimated_salary  exited  \n",
       "0            1                 1         101348.88       1  \n",
       "1            0                 1         112542.58       0  \n",
       "2            1                 0         113931.57       1  \n",
       "3            0                 0          93826.63       0  \n",
       "4            1                 1          79084.10       0  "
      ]
     },
     "metadata": {},
     "output_type": "display_data"
    },
    {
     "data": {
      "text/html": [
       "<div>\n",
       "<style scoped>\n",
       "    .dataframe tbody tr th:only-of-type {\n",
       "        vertical-align: middle;\n",
       "    }\n",
       "\n",
       "    .dataframe tbody tr th {\n",
       "        vertical-align: top;\n",
       "    }\n",
       "\n",
       "    .dataframe thead th {\n",
       "        text-align: right;\n",
       "    }\n",
       "</style>\n",
       "<table border=\"1\" class=\"dataframe\">\n",
       "  <thead>\n",
       "    <tr style=\"text-align: right;\">\n",
       "      <th></th>\n",
       "      <th>credit_score</th>\n",
       "      <th>age</th>\n",
       "      <th>tenure</th>\n",
       "      <th>balance</th>\n",
       "      <th>num_of_products</th>\n",
       "      <th>has_cr_card</th>\n",
       "      <th>is_active_member</th>\n",
       "      <th>estimated_salary</th>\n",
       "      <th>exited</th>\n",
       "    </tr>\n",
       "  </thead>\n",
       "  <tbody>\n",
       "    <tr>\n",
       "      <th>count</th>\n",
       "      <td>10000.000000</td>\n",
       "      <td>10000.000000</td>\n",
       "      <td>10000.00000</td>\n",
       "      <td>10000.000000</td>\n",
       "      <td>10000.000000</td>\n",
       "      <td>10000.00000</td>\n",
       "      <td>10000.000000</td>\n",
       "      <td>10000.000000</td>\n",
       "      <td>10000.000000</td>\n",
       "    </tr>\n",
       "    <tr>\n",
       "      <th>mean</th>\n",
       "      <td>650.528800</td>\n",
       "      <td>38.921800</td>\n",
       "      <td>4.99790</td>\n",
       "      <td>76485.889288</td>\n",
       "      <td>1.530200</td>\n",
       "      <td>0.70550</td>\n",
       "      <td>0.515100</td>\n",
       "      <td>100090.239881</td>\n",
       "      <td>0.203700</td>\n",
       "    </tr>\n",
       "    <tr>\n",
       "      <th>std</th>\n",
       "      <td>96.653299</td>\n",
       "      <td>10.487806</td>\n",
       "      <td>2.76001</td>\n",
       "      <td>62397.405202</td>\n",
       "      <td>0.581654</td>\n",
       "      <td>0.45584</td>\n",
       "      <td>0.499797</td>\n",
       "      <td>57510.492818</td>\n",
       "      <td>0.402769</td>\n",
       "    </tr>\n",
       "    <tr>\n",
       "      <th>min</th>\n",
       "      <td>350.000000</td>\n",
       "      <td>18.000000</td>\n",
       "      <td>0.00000</td>\n",
       "      <td>0.000000</td>\n",
       "      <td>1.000000</td>\n",
       "      <td>0.00000</td>\n",
       "      <td>0.000000</td>\n",
       "      <td>11.580000</td>\n",
       "      <td>0.000000</td>\n",
       "    </tr>\n",
       "    <tr>\n",
       "      <th>25%</th>\n",
       "      <td>584.000000</td>\n",
       "      <td>32.000000</td>\n",
       "      <td>3.00000</td>\n",
       "      <td>0.000000</td>\n",
       "      <td>1.000000</td>\n",
       "      <td>0.00000</td>\n",
       "      <td>0.000000</td>\n",
       "      <td>51002.110000</td>\n",
       "      <td>0.000000</td>\n",
       "    </tr>\n",
       "    <tr>\n",
       "      <th>50%</th>\n",
       "      <td>652.000000</td>\n",
       "      <td>37.000000</td>\n",
       "      <td>5.00000</td>\n",
       "      <td>97198.540000</td>\n",
       "      <td>1.000000</td>\n",
       "      <td>1.00000</td>\n",
       "      <td>1.000000</td>\n",
       "      <td>100193.915000</td>\n",
       "      <td>0.000000</td>\n",
       "    </tr>\n",
       "    <tr>\n",
       "      <th>75%</th>\n",
       "      <td>718.000000</td>\n",
       "      <td>44.000000</td>\n",
       "      <td>7.00000</td>\n",
       "      <td>127644.240000</td>\n",
       "      <td>2.000000</td>\n",
       "      <td>1.00000</td>\n",
       "      <td>1.000000</td>\n",
       "      <td>149388.247500</td>\n",
       "      <td>0.000000</td>\n",
       "    </tr>\n",
       "    <tr>\n",
       "      <th>max</th>\n",
       "      <td>850.000000</td>\n",
       "      <td>92.000000</td>\n",
       "      <td>10.00000</td>\n",
       "      <td>250898.090000</td>\n",
       "      <td>4.000000</td>\n",
       "      <td>1.00000</td>\n",
       "      <td>1.000000</td>\n",
       "      <td>199992.480000</td>\n",
       "      <td>1.000000</td>\n",
       "    </tr>\n",
       "  </tbody>\n",
       "</table>\n",
       "</div>"
      ],
      "text/plain": [
       "       credit_score           age       tenure        balance  \\\n",
       "count  10000.000000  10000.000000  10000.00000   10000.000000   \n",
       "mean     650.528800     38.921800      4.99790   76485.889288   \n",
       "std       96.653299     10.487806      2.76001   62397.405202   \n",
       "min      350.000000     18.000000      0.00000       0.000000   \n",
       "25%      584.000000     32.000000      3.00000       0.000000   \n",
       "50%      652.000000     37.000000      5.00000   97198.540000   \n",
       "75%      718.000000     44.000000      7.00000  127644.240000   \n",
       "max      850.000000     92.000000     10.00000  250898.090000   \n",
       "\n",
       "       num_of_products  has_cr_card  is_active_member  estimated_salary  \\\n",
       "count     10000.000000  10000.00000      10000.000000      10000.000000   \n",
       "mean          1.530200      0.70550          0.515100     100090.239881   \n",
       "std           0.581654      0.45584          0.499797      57510.492818   \n",
       "min           1.000000      0.00000          0.000000         11.580000   \n",
       "25%           1.000000      0.00000          0.000000      51002.110000   \n",
       "50%           1.000000      1.00000          1.000000     100193.915000   \n",
       "75%           2.000000      1.00000          1.000000     149388.247500   \n",
       "max           4.000000      1.00000          1.000000     199992.480000   \n",
       "\n",
       "             exited  \n",
       "count  10000.000000  \n",
       "mean       0.203700  \n",
       "std        0.402769  \n",
       "min        0.000000  \n",
       "25%        0.000000  \n",
       "50%        0.000000  \n",
       "75%        0.000000  \n",
       "max        1.000000  "
      ]
     },
     "metadata": {},
     "output_type": "display_data"
    }
   ],
   "source": [
    "# сводная информация по таблице\n",
    "display(df.head())\n",
    "display(df.describe())"
   ]
  },
  {
   "cell_type": "markdown",
   "metadata": {},
   "source": [
    "Осталось 11 столбцов. Столбцы возраста и зарплаты корректны: возраст от 18 до 92, предполагаемая зарплата от 11 до 199992. Далее проверяем корреляцию признаков."
   ]
  },
  {
   "cell_type": "code",
   "execution_count": 28,
   "metadata": {},
   "outputs": [
    {
     "data": {
      "text/html": [
       "<div>\n",
       "<style scoped>\n",
       "    .dataframe tbody tr th:only-of-type {\n",
       "        vertical-align: middle;\n",
       "    }\n",
       "\n",
       "    .dataframe tbody tr th {\n",
       "        vertical-align: top;\n",
       "    }\n",
       "\n",
       "    .dataframe thead th {\n",
       "        text-align: right;\n",
       "    }\n",
       "</style>\n",
       "<table border=\"1\" class=\"dataframe\">\n",
       "  <thead>\n",
       "    <tr style=\"text-align: right;\">\n",
       "      <th></th>\n",
       "      <th>credit_score</th>\n",
       "      <th>age</th>\n",
       "      <th>tenure</th>\n",
       "      <th>balance</th>\n",
       "      <th>num_of_products</th>\n",
       "      <th>has_cr_card</th>\n",
       "      <th>is_active_member</th>\n",
       "      <th>estimated_salary</th>\n",
       "      <th>exited</th>\n",
       "    </tr>\n",
       "  </thead>\n",
       "  <tbody>\n",
       "    <tr>\n",
       "      <th>credit_score</th>\n",
       "      <td>1.000000</td>\n",
       "      <td>-0.003965</td>\n",
       "      <td>-0.000060</td>\n",
       "      <td>0.006268</td>\n",
       "      <td>0.012238</td>\n",
       "      <td>-0.005458</td>\n",
       "      <td>0.025651</td>\n",
       "      <td>-0.001384</td>\n",
       "      <td>-0.027094</td>\n",
       "    </tr>\n",
       "    <tr>\n",
       "      <th>age</th>\n",
       "      <td>-0.003965</td>\n",
       "      <td>1.000000</td>\n",
       "      <td>-0.012606</td>\n",
       "      <td>0.028308</td>\n",
       "      <td>-0.030680</td>\n",
       "      <td>-0.011721</td>\n",
       "      <td>0.085472</td>\n",
       "      <td>-0.007201</td>\n",
       "      <td>0.285323</td>\n",
       "    </tr>\n",
       "    <tr>\n",
       "      <th>tenure</th>\n",
       "      <td>-0.000060</td>\n",
       "      <td>-0.012606</td>\n",
       "      <td>1.000000</td>\n",
       "      <td>-0.007535</td>\n",
       "      <td>0.011409</td>\n",
       "      <td>0.025979</td>\n",
       "      <td>-0.030681</td>\n",
       "      <td>0.010049</td>\n",
       "      <td>-0.015989</td>\n",
       "    </tr>\n",
       "    <tr>\n",
       "      <th>balance</th>\n",
       "      <td>0.006268</td>\n",
       "      <td>0.028308</td>\n",
       "      <td>-0.007535</td>\n",
       "      <td>1.000000</td>\n",
       "      <td>-0.304180</td>\n",
       "      <td>-0.014858</td>\n",
       "      <td>-0.010084</td>\n",
       "      <td>0.012797</td>\n",
       "      <td>0.118533</td>\n",
       "    </tr>\n",
       "    <tr>\n",
       "      <th>num_of_products</th>\n",
       "      <td>0.012238</td>\n",
       "      <td>-0.030680</td>\n",
       "      <td>0.011409</td>\n",
       "      <td>-0.304180</td>\n",
       "      <td>1.000000</td>\n",
       "      <td>0.003183</td>\n",
       "      <td>0.009612</td>\n",
       "      <td>0.014204</td>\n",
       "      <td>-0.047820</td>\n",
       "    </tr>\n",
       "    <tr>\n",
       "      <th>has_cr_card</th>\n",
       "      <td>-0.005458</td>\n",
       "      <td>-0.011721</td>\n",
       "      <td>0.025979</td>\n",
       "      <td>-0.014858</td>\n",
       "      <td>0.003183</td>\n",
       "      <td>1.000000</td>\n",
       "      <td>-0.011866</td>\n",
       "      <td>-0.009933</td>\n",
       "      <td>-0.007138</td>\n",
       "    </tr>\n",
       "    <tr>\n",
       "      <th>is_active_member</th>\n",
       "      <td>0.025651</td>\n",
       "      <td>0.085472</td>\n",
       "      <td>-0.030681</td>\n",
       "      <td>-0.010084</td>\n",
       "      <td>0.009612</td>\n",
       "      <td>-0.011866</td>\n",
       "      <td>1.000000</td>\n",
       "      <td>-0.011421</td>\n",
       "      <td>-0.156128</td>\n",
       "    </tr>\n",
       "    <tr>\n",
       "      <th>estimated_salary</th>\n",
       "      <td>-0.001384</td>\n",
       "      <td>-0.007201</td>\n",
       "      <td>0.010049</td>\n",
       "      <td>0.012797</td>\n",
       "      <td>0.014204</td>\n",
       "      <td>-0.009933</td>\n",
       "      <td>-0.011421</td>\n",
       "      <td>1.000000</td>\n",
       "      <td>0.012097</td>\n",
       "    </tr>\n",
       "    <tr>\n",
       "      <th>exited</th>\n",
       "      <td>-0.027094</td>\n",
       "      <td>0.285323</td>\n",
       "      <td>-0.015989</td>\n",
       "      <td>0.118533</td>\n",
       "      <td>-0.047820</td>\n",
       "      <td>-0.007138</td>\n",
       "      <td>-0.156128</td>\n",
       "      <td>0.012097</td>\n",
       "      <td>1.000000</td>\n",
       "    </tr>\n",
       "  </tbody>\n",
       "</table>\n",
       "</div>"
      ],
      "text/plain": [
       "                  credit_score       age    tenure   balance  num_of_products  \\\n",
       "credit_score          1.000000 -0.003965 -0.000060  0.006268         0.012238   \n",
       "age                  -0.003965  1.000000 -0.012606  0.028308        -0.030680   \n",
       "tenure               -0.000060 -0.012606  1.000000 -0.007535         0.011409   \n",
       "balance               0.006268  0.028308 -0.007535  1.000000        -0.304180   \n",
       "num_of_products       0.012238 -0.030680  0.011409 -0.304180         1.000000   \n",
       "has_cr_card          -0.005458 -0.011721  0.025979 -0.014858         0.003183   \n",
       "is_active_member      0.025651  0.085472 -0.030681 -0.010084         0.009612   \n",
       "estimated_salary     -0.001384 -0.007201  0.010049  0.012797         0.014204   \n",
       "exited               -0.027094  0.285323 -0.015989  0.118533        -0.047820   \n",
       "\n",
       "                  has_cr_card  is_active_member  estimated_salary    exited  \n",
       "credit_score        -0.005458          0.025651         -0.001384 -0.027094  \n",
       "age                 -0.011721          0.085472         -0.007201  0.285323  \n",
       "tenure               0.025979         -0.030681          0.010049 -0.015989  \n",
       "balance             -0.014858         -0.010084          0.012797  0.118533  \n",
       "num_of_products      0.003183          0.009612          0.014204 -0.047820  \n",
       "has_cr_card          1.000000         -0.011866         -0.009933 -0.007138  \n",
       "is_active_member    -0.011866          1.000000         -0.011421 -0.156128  \n",
       "estimated_salary    -0.009933         -0.011421          1.000000  0.012097  \n",
       "exited              -0.007138         -0.156128          0.012097  1.000000  "
      ]
     },
     "execution_count": 28,
     "metadata": {},
     "output_type": "execute_result"
    }
   ],
   "source": [
    "df.corr()"
   ]
  },
  {
   "cell_type": "markdown",
   "metadata": {},
   "source": [
    "Проверили Все признаки слабо коррелируют между собой и с целевым признаком. Следовательно, данных с сильной корреляцией нет. \"Мультиколлинеарности\" нет."
   ]
  },
  {
   "cell_type": "markdown",
   "metadata": {},
   "source": [
    "Применим прямое кодирование (признаки должны быть численные). Оne-hot-encoding работает со всеми моделями."
   ]
  },
  {
   "cell_type": "markdown",
   "metadata": {},
   "source": [
    "Категориальные признаки: 'geography'(страна проживания) - содержит 3 уникальных значения и 'gender' (пол) - содержит 2 уникальных значения, преобразуем в числовые с помощью прямого кодирования. Преобразуем 'geography' и 'gender' техникой OHE. Соответственно, в таблицу, избегая дамми-ловушки, добавится 2 и 1 новых столбца соответственно."
   ]
  },
  {
   "cell_type": "code",
   "execution_count": 29,
   "metadata": {
    "scrolled": true
   },
   "outputs": [
    {
     "data": {
      "text/html": [
       "<div>\n",
       "<style scoped>\n",
       "    .dataframe tbody tr th:only-of-type {\n",
       "        vertical-align: middle;\n",
       "    }\n",
       "\n",
       "    .dataframe tbody tr th {\n",
       "        vertical-align: top;\n",
       "    }\n",
       "\n",
       "    .dataframe thead th {\n",
       "        text-align: right;\n",
       "    }\n",
       "</style>\n",
       "<table border=\"1\" class=\"dataframe\">\n",
       "  <thead>\n",
       "    <tr style=\"text-align: right;\">\n",
       "      <th></th>\n",
       "      <th>credit_score</th>\n",
       "      <th>age</th>\n",
       "      <th>tenure</th>\n",
       "      <th>balance</th>\n",
       "      <th>num_of_products</th>\n",
       "      <th>has_cr_card</th>\n",
       "      <th>is_active_member</th>\n",
       "      <th>estimated_salary</th>\n",
       "      <th>exited</th>\n",
       "      <th>geography_Germany</th>\n",
       "      <th>geography_Spain</th>\n",
       "      <th>gender_Male</th>\n",
       "    </tr>\n",
       "  </thead>\n",
       "  <tbody>\n",
       "    <tr>\n",
       "      <th>0</th>\n",
       "      <td>619</td>\n",
       "      <td>42</td>\n",
       "      <td>2</td>\n",
       "      <td>0.00</td>\n",
       "      <td>1</td>\n",
       "      <td>1</td>\n",
       "      <td>1</td>\n",
       "      <td>101348.88</td>\n",
       "      <td>1</td>\n",
       "      <td>0</td>\n",
       "      <td>0</td>\n",
       "      <td>0</td>\n",
       "    </tr>\n",
       "    <tr>\n",
       "      <th>1</th>\n",
       "      <td>608</td>\n",
       "      <td>41</td>\n",
       "      <td>1</td>\n",
       "      <td>83807.86</td>\n",
       "      <td>1</td>\n",
       "      <td>0</td>\n",
       "      <td>1</td>\n",
       "      <td>112542.58</td>\n",
       "      <td>0</td>\n",
       "      <td>0</td>\n",
       "      <td>1</td>\n",
       "      <td>0</td>\n",
       "    </tr>\n",
       "    <tr>\n",
       "      <th>2</th>\n",
       "      <td>502</td>\n",
       "      <td>42</td>\n",
       "      <td>8</td>\n",
       "      <td>159660.80</td>\n",
       "      <td>3</td>\n",
       "      <td>1</td>\n",
       "      <td>0</td>\n",
       "      <td>113931.57</td>\n",
       "      <td>1</td>\n",
       "      <td>0</td>\n",
       "      <td>0</td>\n",
       "      <td>0</td>\n",
       "    </tr>\n",
       "  </tbody>\n",
       "</table>\n",
       "</div>"
      ],
      "text/plain": [
       "   credit_score  age  tenure    balance  num_of_products  has_cr_card  \\\n",
       "0           619   42       2       0.00                1            1   \n",
       "1           608   41       1   83807.86                1            0   \n",
       "2           502   42       8  159660.80                3            1   \n",
       "\n",
       "   is_active_member  estimated_salary  exited  geography_Germany  \\\n",
       "0                 1         101348.88       1                  0   \n",
       "1                 1         112542.58       0                  0   \n",
       "2                 0         113931.57       1                  0   \n",
       "\n",
       "   geography_Spain  gender_Male  \n",
       "0                0            0  \n",
       "1                1            0  \n",
       "2                0            0  "
      ]
     },
     "execution_count": 29,
     "metadata": {},
     "output_type": "execute_result"
    }
   ],
   "source": [
    "# one-hot-encoding: получение дамми-признаков (избегая дамми-ловушки)\n",
    "df_one = pd.get_dummies(df, drop_first=True)\n",
    "df_one.head(3)"
   ]
  },
  {
   "cell_type": "code",
   "execution_count": 30,
   "metadata": {},
   "outputs": [
    {
     "data": {
      "text/plain": [
       "(10000, 12)"
      ]
     },
     "execution_count": 30,
     "metadata": {},
     "output_type": "execute_result"
    }
   ],
   "source": [
    "# размер данных\n",
    "df_one.shape"
   ]
  },
  {
   "cell_type": "code",
   "execution_count": 31,
   "metadata": {},
   "outputs": [
    {
     "data": {
      "image/png": "[encoded data removed]",
      "text/plain": [
       "<Figure size 432x288 with 2 Axes>"
      ]
     },
     "metadata": {
      "needs_background": "light"
     },
     "output_type": "display_data"
    }
   ],
   "source": [
    "# численные признаки\n",
    "list_numeric_features = ['credit_score', 'age', 'tenure', 'balance', 'num_of_products', 'estimated_salary']\n",
    "sns.heatmap(df_one.loc[:, list_numeric_features].corr(),\n",
    "            xticklabels=df_one.loc[:, list_numeric_features].corr().columns,\n",
    "            yticklabels=df_one.loc[:, list_numeric_features].corr().columns)\n",
    "plt.title('Матрица корреляции числовых признаков')\n",
    "plt.show()"
   ]
  },
  {
   "cell_type": "markdown",
   "metadata": {},
   "source": [
    "Получили 12 столбцов. Сильной корреляции среди признаков нет. Данные готовы для формирования выборок.\n"
   ]
  },
  {
   "cell_type": "markdown",
   "metadata": {},
   "source": [
    "### Формирование выборок"
   ]
  },
  {
   "cell_type": "markdown",
   "metadata": {},
   "source": [
    "Выделяем признаки и целевой признак"
   ]
  },
  {
   "cell_type": "code",
   "execution_count": 32,
   "metadata": {},
   "outputs": [],
   "source": [
    "# признаки\n",
    "features = df_one.drop(['exited'], axis=1)"
   ]
  },
  {
   "cell_type": "code",
   "execution_count": 33,
   "metadata": {},
   "outputs": [],
   "source": [
    "# целевой признак\n",
    "target = df_one['exited']"
   ]
  },
  {
   "cell_type": "markdown",
   "metadata": {},
   "source": [
    "Целевой признак 'exited' (факт ухода клиента) - признак оттока, бинарный (1 - потеря клиента, отток).<br> Посмотрим на распределение целевого признака - оттока клиентов."
   ]
  },
  {
   "cell_type": "code",
   "execution_count": 34,
   "metadata": {},
   "outputs": [
    {
     "data": {
      "text/plain": [
       "0    7963\n",
       "1    2037\n",
       "Name: exited, dtype: int64"
      ]
     },
     "execution_count": 34,
     "metadata": {},
     "output_type": "execute_result"
    }
   ],
   "source": [
    "df_one['exited'].value_counts()"
   ]
  },
  {
   "cell_type": "code",
   "execution_count": 35,
   "metadata": {},
   "outputs": [
    {
     "data": {
      "image/png": "[encoded data removed]",
      "text/plain": [
       "<Figure size 720x360 with 1 Axes>"
      ]
     },
     "metadata": {
      "needs_background": "light"
     },
     "output_type": "display_data"
    }
   ],
   "source": [
    "df_one['exited'].value_counts().plot(kind='bar', label='exited', figsize=(10, 5))\n",
    "plt.legend()\n",
    "plt.xlabel('Признак оттока')\n",
    "plt.ylabel('Количество')\n",
    "plt.title('Распределение оттока клиентов')\n",
    "plt.show()"
   ]
  },
  {
   "cell_type": "markdown",
   "metadata": {},
   "source": [
    "Соотношение оттока клиентов к оставшимся клиентам = 1/4. Выявлен дисбаланс классов, позже нужно это изменить для повышения качества обучения модели. Сначала обучим модель без исправления дисбаланса, для того чтобы сравнить результаты. Значений в отрицательном классе больше, чем в положительном почти в 4 раза."
   ]
  },
  {
   "cell_type": "markdown",
   "metadata": {},
   "source": [
    "Обучающий (тренировочный) набор данных (выборка) - набор данных, на котором будет обучаться алгоритммашинного обучения.<br> Тестовая выборка необходима для оценки работы готовой модели. Это набор данных, на котором будет проверятся качество обученной модели, что бы точно знать, что модель не вызубрила ответы.<br> Валидационная выборка - набор данных, извлекаемый из исходного датасета, на которой проверяется качество работы алгоритма во время обучения модели. При валидации модели выбирают набор гиперпараметров, который соответствует лучшей модели. <br> Спрятанной выборки у нас нет, значит от основной для валидации отделяем 20%, и 20% для тестовой. Соотношение получается 3/1/1 (обучающая 60%, тестовая 20% и валидационная 20%)."
   ]
  },
  {
   "cell_type": "code",
   "execution_count": 36,
   "metadata": {},
   "outputs": [],
   "source": [
    "# разделяем данные, выделяем обучающую и валидационную + тестовую (60/40)\n",
    "df_one_train, df_one_train_testing = train_test_split(df_one, test_size=0.4, random_state=12345)"
   ]
  },
  {
   "cell_type": "code",
   "execution_count": 37,
   "metadata": {},
   "outputs": [],
   "source": [
    "# разделяем df_one_train_testing, выделяем валидационную и тестовую (50/50)\n",
    "df_one_test, df_one_valid = train_test_split(df_one_train_testing, test_size=0.5, random_state=12345)"
   ]
  },
  {
   "cell_type": "markdown",
   "metadata": {},
   "source": [
    "df_one_train - обучающая выборка<br>\n",
    "df_one_train_testing - валидационная + тестовая выборки<br>\n",
    "df_one_test - тестовая выборка<br>\n",
    "df_one_valid - валидационная выборка<br>"
   ]
  },
  {
   "cell_type": "markdown",
   "metadata": {},
   "source": [
    "Создаем переменные для признаков и целевого признака для обучающей, валидационной и тестовой выборки:"
   ]
  },
  {
   "cell_type": "code",
   "execution_count": 38,
   "metadata": {},
   "outputs": [],
   "source": [
    "# для обучающей\n",
    "features_train = df_one_train.drop(['exited'], axis=1)\n",
    "target_train = df_one_train['exited']"
   ]
  },
  {
   "cell_type": "code",
   "execution_count": 39,
   "metadata": {},
   "outputs": [],
   "source": [
    "# для тестовой\n",
    "features_test = df_one_test.drop(['exited'], axis=1)\n",
    "target_test = df_one_test['exited']"
   ]
  },
  {
   "cell_type": "code",
   "execution_count": 40,
   "metadata": {},
   "outputs": [],
   "source": [
    "# для валидационной\n",
    "features_valid = df_one_valid.drop(['exited'], axis=1)\n",
    "target_valid = df_one_valid['exited']"
   ]
  },
  {
   "cell_type": "code",
   "execution_count": 41,
   "metadata": {},
   "outputs": [
    {
     "name": "stdout",
     "output_type": "stream",
     "text": [
      "(6000, 11)\n",
      "(6000,)\n",
      "(2000, 11)\n",
      "(2000,)\n",
      "(2000, 11)\n",
      "(2000,)\n"
     ]
    }
   ],
   "source": [
    "# размеры полученных выборок\n",
    "print(features_train.shape)\n",
    "print(target_train.shape)\n",
    "print(features_test.shape)\n",
    "print(target_test.shape)\n",
    "print(features_valid.shape)\n",
    "print(target_valid.shape)"
   ]
  },
  {
   "cell_type": "markdown",
   "metadata": {},
   "source": [
    "### Масштабирование признаков"
   ]
  },
  {
   "cell_type": "markdown",
   "metadata": {},
   "source": [
    "Следующим шагом модели машинного обучения является масштабирование функций. Это метод стандартизации обучающего набора данных в определенном диапазоне. При масштабировании объектов все значения сохраняются в одном диапазоне и в одном масштабе, чтобы ни одна переменная не доминировала над другой переменной."
   ]
  },
  {
   "cell_type": "markdown",
   "metadata": {},
   "source": [
    "Для масштабирования функций мы используем класс StandardScaler - стандартизация данных. Создадим объект этой структуры и настроим (вычислим среднее и дисперсию) его на обучающих данных."
   ]
  },
  {
   "cell_type": "code",
   "execution_count": 42,
   "metadata": {},
   "outputs": [],
   "source": [
    "# список всех численных признаков\n",
    "numeric = ['credit_score', 'age', 'tenure', 'balance', 'num_of_products', 'has_cr_card', \n",
    "           'estimated_salary']"
   ]
  },
  {
   "cell_type": "code",
   "execution_count": 43,
   "metadata": {},
   "outputs": [
    {
     "name": "stdout",
     "output_type": "stream",
     "text": [
      "Обучающая\n"
     ]
    },
    {
     "data": {
      "text/html": [
       "<div>\n",
       "<style scoped>\n",
       "    .dataframe tbody tr th:only-of-type {\n",
       "        vertical-align: middle;\n",
       "    }\n",
       "\n",
       "    .dataframe tbody tr th {\n",
       "        vertical-align: top;\n",
       "    }\n",
       "\n",
       "    .dataframe thead th {\n",
       "        text-align: right;\n",
       "    }\n",
       "</style>\n",
       "<table border=\"1\" class=\"dataframe\">\n",
       "  <thead>\n",
       "    <tr style=\"text-align: right;\">\n",
       "      <th></th>\n",
       "      <th>credit_score</th>\n",
       "      <th>age</th>\n",
       "      <th>tenure</th>\n",
       "      <th>balance</th>\n",
       "      <th>num_of_products</th>\n",
       "      <th>has_cr_card</th>\n",
       "      <th>is_active_member</th>\n",
       "      <th>estimated_salary</th>\n",
       "      <th>geography_Germany</th>\n",
       "      <th>geography_Spain</th>\n",
       "      <th>gender_Male</th>\n",
       "    </tr>\n",
       "  </thead>\n",
       "  <tbody>\n",
       "    <tr>\n",
       "      <th>7479</th>\n",
       "      <td>-0.886751</td>\n",
       "      <td>-0.373192</td>\n",
       "      <td>1.082277</td>\n",
       "      <td>1.232271</td>\n",
       "      <td>-0.891560</td>\n",
       "      <td>0.642466</td>\n",
       "      <td>0</td>\n",
       "      <td>-0.187705</td>\n",
       "      <td>0</td>\n",
       "      <td>1</td>\n",
       "      <td>1</td>\n",
       "    </tr>\n",
       "    <tr>\n",
       "      <th>3411</th>\n",
       "      <td>0.608663</td>\n",
       "      <td>-0.183385</td>\n",
       "      <td>1.082277</td>\n",
       "      <td>0.600563</td>\n",
       "      <td>-0.891560</td>\n",
       "      <td>-1.556504</td>\n",
       "      <td>0</td>\n",
       "      <td>-0.333945</td>\n",
       "      <td>0</td>\n",
       "      <td>0</td>\n",
       "      <td>0</td>\n",
       "    </tr>\n",
       "    <tr>\n",
       "      <th>6027</th>\n",
       "      <td>2.052152</td>\n",
       "      <td>0.480939</td>\n",
       "      <td>-0.737696</td>\n",
       "      <td>1.027098</td>\n",
       "      <td>0.830152</td>\n",
       "      <td>-1.556504</td>\n",
       "      <td>1</td>\n",
       "      <td>1.503095</td>\n",
       "      <td>1</td>\n",
       "      <td>0</td>\n",
       "      <td>1</td>\n",
       "    </tr>\n",
       "    <tr>\n",
       "      <th>1247</th>\n",
       "      <td>-1.457915</td>\n",
       "      <td>-1.417129</td>\n",
       "      <td>0.354288</td>\n",
       "      <td>-1.233163</td>\n",
       "      <td>0.830152</td>\n",
       "      <td>0.642466</td>\n",
       "      <td>0</td>\n",
       "      <td>-1.071061</td>\n",
       "      <td>0</td>\n",
       "      <td>0</td>\n",
       "      <td>1</td>\n",
       "    </tr>\n",
       "    <tr>\n",
       "      <th>3716</th>\n",
       "      <td>0.130961</td>\n",
       "      <td>-1.132419</td>\n",
       "      <td>-1.101690</td>\n",
       "      <td>1.140475</td>\n",
       "      <td>-0.891560</td>\n",
       "      <td>-1.556504</td>\n",
       "      <td>0</td>\n",
       "      <td>1.524268</td>\n",
       "      <td>1</td>\n",
       "      <td>0</td>\n",
       "      <td>0</td>\n",
       "    </tr>\n",
       "  </tbody>\n",
       "</table>\n",
       "</div>"
      ],
      "text/plain": [
       "      credit_score       age    tenure   balance  num_of_products  \\\n",
       "7479     -0.886751 -0.373192  1.082277  1.232271        -0.891560   \n",
       "3411      0.608663 -0.183385  1.082277  0.600563        -0.891560   \n",
       "6027      2.052152  0.480939 -0.737696  1.027098         0.830152   \n",
       "1247     -1.457915 -1.417129  0.354288 -1.233163         0.830152   \n",
       "3716      0.130961 -1.132419 -1.101690  1.140475        -0.891560   \n",
       "\n",
       "      has_cr_card  is_active_member  estimated_salary  geography_Germany  \\\n",
       "7479     0.642466                 0         -0.187705                  0   \n",
       "3411    -1.556504                 0         -0.333945                  0   \n",
       "6027    -1.556504                 1          1.503095                  1   \n",
       "1247     0.642466                 0         -1.071061                  0   \n",
       "3716    -1.556504                 0          1.524268                  1   \n",
       "\n",
       "      geography_Spain  gender_Male  \n",
       "7479                1            1  \n",
       "3411                0            0  \n",
       "6027                0            1  \n",
       "1247                0            1  \n",
       "3716                0            0  "
      ]
     },
     "metadata": {},
     "output_type": "display_data"
    },
    {
     "name": "stdout",
     "output_type": "stream",
     "text": [
      "(6000, 11)\n"
     ]
    }
   ],
   "source": [
    "scaler = StandardScaler()\n",
    "scaler.fit(features_train[numeric])\n",
    "# масштабируем числовые признаки обучающей выборки\n",
    "features_train[numeric] = scaler.transform(features_train[numeric])\n",
    "# масштабируем числовые признаки тестовой выборки\n",
    "features_test[numeric] = scaler.transform(features_test[numeric])\n",
    "# масштабируем числовые признаки валидационной выборки\n",
    "features_valid[numeric] = scaler.transform(features_valid[numeric])\n",
    "print('Обучающая')\n",
    "display(features_train.head())\n",
    "print(features_train.shape)"
   ]
  },
  {
   "cell_type": "markdown",
   "metadata": {},
   "source": [
    "### Модель без учета баланса"
   ]
  },
  {
   "cell_type": "markdown",
   "metadata": {},
   "source": [
    "#### Логистическая регрессия"
   ]
  },
  {
   "cell_type": "code",
   "execution_count": 44,
   "metadata": {},
   "outputs": [
    {
     "name": "stdout",
     "output_type": "stream",
     "text": [
      "Итог LogisticRegression\n",
      "Accuracy LogisticRegression: 0.7915\n",
      "Полнота LogisticRegression:  0.1867612293144208\n",
      "Точность LogisticRegression: 0.5197368421052632\n",
      "F1 LogisticRegression:       0.27478260869565213\n",
      "Матрица ошибок LogisticRegression:\n",
      "[[1504   73]\n",
      " [ 344   79]]\n"
     ]
    }
   ],
   "source": [
    "# обучение с помощью модели логистической регрессии\n",
    "model_log = LogisticRegression(random_state=12345, solver = 'liblinear')\n",
    "model_log.fit(features_train, target_train)\n",
    "prediction_valid_log = model_log.predict(features_valid)\n",
    "print('Итог LogisticRegression')\n",
    "print('Accuracy LogisticRegression:', accuracy_score(target_valid, prediction_valid_log))\n",
    "print('Полнота LogisticRegression: ', recall_score(target_valid, prediction_valid_log))\n",
    "print('Точность LogisticRegression:', precision_score(target_valid, prediction_valid_log))\n",
    "print('F1 LogisticRegression:      ',f1_score(target_valid, prediction_valid_log))\n",
    "print('Матрица ошибок LogisticRegression:')\n",
    "print(confusion_matrix(target_valid, prediction_valid_log))"
   ]
  },
  {
   "cell_type": "markdown",
   "metadata": {},
   "source": [
    "#### Дерево решений"
   ]
  },
  {
   "cell_type": "code",
   "execution_count": 45,
   "metadata": {},
   "outputs": [
    {
     "name": "stdout",
     "output_type": "stream",
     "text": [
      "max_depth = 1 : 0.7885\n",
      "0.0\n",
      "max_depth = 2 : 0.817\n",
      "0.4986301369863014\n",
      "max_depth = 3 : 0.83\n",
      "0.3795620437956204\n",
      "max_depth = 4 : 0.832\n",
      "0.48307692307692307\n",
      "max_depth = 5 : 0.842\n",
      "0.5015772870662459\n",
      "max_depth = 6 : 0.848\n",
      "0.5337423312883436\n",
      "max_depth = 7 : 0.8375\n",
      "0.4976816074188563\n",
      "max_depth = 8 : 0.833\n",
      "0.48773006134969327\n",
      "max_depth = 9 : 0.8275\n",
      "0.5254470426409904\n",
      "max_depth = 10 : 0.8265\n",
      "0.5035765379113019\n",
      "max_depth = 11 : 0.815\n",
      "0.4986449864498645\n",
      "max_depth = 12 : 0.807\n",
      "0.49343832020997375\n",
      "max_depth = 13 : 0.8035\n",
      "0.490272373540856\n",
      "max_depth = 14 : 0.799\n",
      "0.48854961832061067\n",
      "\n",
      "Итог DecisionTreeClassifier\n",
      "Accuracy DecisionTreeClassifier: 0.848\n",
      "F1 DecisionTreeClassifier:       0.5337423312883436\n",
      "Глубина дерева:                  6\n"
     ]
    }
   ],
   "source": [
    "# обучение с помощью модели дерево решений\n",
    "best_accuracy = 0\n",
    "best_F1 = 0\n",
    "best_depth = 0\n",
    "for depth in range(1, 15):\n",
    "    model_dr = DecisionTreeClassifier(random_state=12345, max_depth=depth)\n",
    "    model_dr.fit(features_train, target_train)\n",
    "    prediction_valid_dr = model_dr.predict(features_valid)\n",
    "    print(\"max_depth =\", depth, \": \", end='')\n",
    "    print(accuracy_score(target_valid, prediction_valid_dr))\n",
    "    print(f1_score(target_valid, prediction_valid_dr))\n",
    "    if accuracy_score(target_valid, prediction_valid_dr) > best_accuracy:\n",
    "        if f1_score(target_valid, prediction_valid_dr) > best_F1:\n",
    "            best_accuracy = accuracy_score(target_valid, prediction_valid_dr)\n",
    "            best_F1 = f1_score(target_valid, prediction_valid_dr)\n",
    "            best_depth = depth\n",
    "print()\n",
    "print('Итог DecisionTreeClassifier')\n",
    "print('Accuracy DecisionTreeClassifier:', best_accuracy)\n",
    "print('F1 DecisionTreeClassifier:      ', best_F1)\n",
    "print('Глубина дерева:                 ', best_depth)"
   ]
  },
  {
   "cell_type": "markdown",
   "metadata": {},
   "source": [
    "#### Случайный лес"
   ]
  },
  {
   "cell_type": "code",
   "execution_count": 46,
   "metadata": {},
   "outputs": [
    {
     "name": "stdout",
     "output_type": "stream",
     "text": [
      "\n",
      "Итог RandomForestClassifier\n",
      "Accuracy RandomForestClassifier: 0.847\n",
      "F1 RandomForestClassifier:       0.5513196480938415\n",
      "Количество деревьев:             15\n",
      "Глубина дерева:                  14\n"
     ]
    }
   ],
   "source": [
    "# обучение с помощью модели случайный лес\n",
    "\n",
    "best_model_sl = None\n",
    "best_accuracy = 0\n",
    "best_F1 = 0\n",
    "best_depth = 0\n",
    "best_est = 0\n",
    "for est in range(5, 50, 5):\n",
    "    for depth in range(1, 20):\n",
    "        model_sl = RandomForestClassifier(random_state=12345, n_estimators=est, max_depth=depth)\n",
    "        model_sl.fit(features_train, target_train)\n",
    "        prediction_valid_sl = model_sl.predict(features_valid)\n",
    "        if accuracy_score(target_valid, prediction_valid_sl) > best_accuracy:\n",
    "            if f1_score(target_valid, prediction_valid_sl) > best_F1:\n",
    "                best_model = best_model_sl\n",
    "                best_accuracy = accuracy_score(target_valid, prediction_valid_sl)\n",
    "                best_F1 = f1_score(target_valid, prediction_valid_sl)\n",
    "                best_est = est\n",
    "                best_depth = depth\n",
    "\n",
    "print()\n",
    "print('Итог RandomForestClassifier')\n",
    "print('Accuracy RandomForestClassifier:', best_accuracy)\n",
    "print('F1 RandomForestClassifier:      ', best_F1)\n",
    "print('Количество деревьев:            ', best_est)\n",
    "print('Глубина дерева:                 ', best_depth)"
   ]
  },
  {
   "cell_type": "markdown",
   "metadata": {},
   "source": [
    "Рассмотрены данные с дисбалансом. Лучшие показатели у случайного леса с параметрами:<br> - Accuracy RandomForestClassifier: 0.852,<br> - F1 RandomForestClassifier: 0.5513196480938415, <br> - Количество деревьев: 15, <br> - Глубина дерева: 14"
   ]
  },
  {
   "cell_type": "code",
   "execution_count": 47,
   "metadata": {},
   "outputs": [
    {
     "name": "stdout",
     "output_type": "stream",
     "text": [
      "0.7386994787661283\n"
     ]
    }
   ],
   "source": [
    "probabilities_log = model_log.predict_proba(features_valid)\n",
    "probabilities_one_valid_log = probabilities_log[:,1]\n",
    "fpr_log, tpr_log, thresholds_log = roc_curve(target_valid, probabilities_one_valid_log)\n",
    "auc_roc_log = roc_auc_score(target_valid, probabilities_one_valid_log)\n",
    "print(auc_roc_log)"
   ]
  },
  {
   "cell_type": "code",
   "execution_count": 48,
   "metadata": {},
   "outputs": [
    {
     "name": "stdout",
     "output_type": "stream",
     "text": [
      "0.6886733196316434\n"
     ]
    }
   ],
   "source": [
    "probabilities_dr = model_dr.predict_proba(features_valid)\n",
    "probabilities_one_valid_dr = probabilities_dr[:,1]\n",
    "fpr_dr, tpr_dr, thresholds_dr = roc_curve(target_valid, probabilities_one_valid_dr)\n",
    "auc_roc_dr = roc_auc_score(target_valid, probabilities_one_valid_dr)\n",
    "print(auc_roc_dr)"
   ]
  },
  {
   "cell_type": "code",
   "execution_count": 49,
   "metadata": {},
   "outputs": [
    {
     "name": "stdout",
     "output_type": "stream",
     "text": [
      "0.8497551235175866\n"
     ]
    }
   ],
   "source": [
    "probabilities_sl = model_sl.predict_proba(features_valid)\n",
    "probabilities_one_valid_sl = probabilities_sl[:,1]\n",
    "fpr_sl, tpr_sl, thresholds_sl = roc_curve(target_valid, probabilities_one_valid_sl)\n",
    "auc_roc_sl = roc_auc_score(target_valid, probabilities_one_valid_sl)\n",
    "print(auc_roc_sl)"
   ]
  },
  {
   "cell_type": "code",
   "execution_count": 50,
   "metadata": {
    "scrolled": false
   },
   "outputs": [
    {
     "data": {
      "image/png": "[encoded data removed]",
      "text/plain": [
       "<Figure size 1080x504 with 1 Axes>"
      ]
     },
     "metadata": {
      "needs_background": "light"
     },
     "output_type": "display_data"
    }
   ],
   "source": [
    "#plt.figure()\n",
    "plt.figure(figsize=(15,7))\n",
    "plt.plot([0, 1], [0, 1], linestyle='--')\n",
    "plt.xlim([0.0, 1.0])\n",
    "plt.ylim([0.0, 1.0])\n",
    "plt.plot(fpr_sl, tpr_sl)\n",
    "plt.plot(fpr_log, tpr_log)\n",
    "plt.plot(fpr_dr, tpr_dr)\n",
    "plt.xlabel('False Positive Rate')\n",
    "plt.ylabel('True Positive Rate')\n",
    "plt.title('ROC-кривая')\n",
    "plt.legend(('Случайная модель', 'Случайный лес', 'Логистическая регрессия', 'Дерево решений'), loc= 'upper left')\n",
    "plt.show()"
   ]
  },
  {
   "cell_type": "markdown",
   "metadata": {},
   "source": [
    "## Борьба с дисбалансом"
   ]
  },
  {
   "cell_type": "markdown",
   "metadata": {},
   "source": [
    "Чтобы оценить адекватность модели, проверим, как часто в целевом признаке встречается класс \"1\" или класс \"0\". Подсчитываем количество уникальных значений (он группирует строго одинаковые величины):"
   ]
  },
  {
   "cell_type": "code",
   "execution_count": 51,
   "metadata": {},
   "outputs": [
    {
     "name": "stdout",
     "output_type": "stream",
     "text": [
      "0    0.7963\n",
      "1    0.2037\n",
      "Name: exited, dtype: float64\n"
     ]
    },
    {
     "data": {
      "image/png": "[encoded data removed]",
      "text/plain": [
       "<Figure size 432x288 with 1 Axes>"
      ]
     },
     "metadata": {
      "needs_background": "light"
     },
     "output_type": "display_data"
    }
   ],
   "source": [
    "# получим относительные частоты, normalize возвращает пропорции, а не частоты\n",
    "class_frequency = df_one['exited'].value_counts(normalize=True)\n",
    "print(class_frequency)\n",
    "class_frequency.plot(kind='bar')\n",
    "plt.legend()\n",
    "plt.xlabel('Признак оттока')\n",
    "plt.ylabel('Пропорции')\n",
    "plt.title('Распределение оттока клиентов')\n",
    "plt.show()"
   ]
  },
  {
   "cell_type": "code",
   "execution_count": 52,
   "metadata": {},
   "outputs": [
    {
     "name": "stdout",
     "output_type": "stream",
     "text": [
      "0    0.8795\n",
      "1    0.1205\n",
      "dtype: float64\n"
     ]
    },
    {
     "data": {
      "image/png": "[encoded data removed]",
      "text/plain": [
       "<Figure size 432x288 with 1 Axes>"
      ]
     },
     "metadata": {
      "needs_background": "light"
     },
     "output_type": "display_data"
    }
   ],
   "source": [
    "model_sl1 = RandomForestClassifier(random_state=12345, n_estimators=24, max_depth=15)\n",
    "model_sl1.fit(features_train, target_train)\n",
    "prediction_valid_sl1 = pd.Series(model_sl1.predict(features_valid))\n",
    "class_frequency1 = prediction_valid_sl1.value_counts(normalize=True)\n",
    "print(class_frequency1)\n",
    "class_frequency1.plot(kind='bar')\n",
    "plt.legend()\n",
    "plt.xlabel('Признак оттока')\n",
    "plt.ylabel('Пропорции')\n",
    "plt.title('Распределение оттока клиентов')\n",
    "plt.show()"
   ]
  },
  {
   "cell_type": "markdown",
   "metadata": {},
   "source": [
    "Баланс классов наблюдается, если их количество примерно равно."
   ]
  },
  {
   "cell_type": "code",
   "execution_count": 53,
   "metadata": {},
   "outputs": [
    {
     "name": "stdout",
     "output_type": "stream",
     "text": [
      "Матрица ошибок RandomForestClassifier:\n",
      "[[1520   57]\n",
      " [ 239  184]]\n"
     ]
    }
   ],
   "source": [
    "model_sl = RandomForestClassifier(random_state=12345, n_estimators=24, max_depth=15)\n",
    "model_sl.fit(features_train, target_train)\n",
    "prediction_valid_sl = pd.Series(model_sl.predict(features_valid))\n",
    "print('Матрица ошибок RandomForestClassifier:')\n",
    "print(confusion_matrix(target_valid, prediction_valid_sl))"
   ]
  },
  {
   "cell_type": "markdown",
   "metadata": {},
   "source": [
    "### Увеличение выборки (upsample)"
   ]
  },
  {
   "cell_type": "code",
   "execution_count": 54,
   "metadata": {},
   "outputs": [
    {
     "name": "stdout",
     "output_type": "stream",
     "text": [
      "(9588, 11)\n",
      "(9588,)\n"
     ]
    }
   ],
   "source": [
    "# Разделим обучающую выборку на отрицательные и положительные объекты. Объявим 4 переменные:\n",
    "def upsample(features, target, repeat):\n",
    "    features_zeros = features_train[target_train == 0]\n",
    "    features_ones = features_train[target_train == 1]\n",
    "    target_zeros = target_train[target_train == 0]\n",
    "    target_ones = target_train[target_train == 1]\n",
    "    \n",
    "    repeat = 4\n",
    "    \n",
    "    # Увеличение выборки\n",
    "    features_upsampled = pd.concat([features_zeros] + [features_ones] * repeat)\n",
    "    target_upsampled = pd.concat([target_zeros] + [target_ones] * repeat)\n",
    "    \n",
    "    # перемешивание\n",
    "    features_upsampled, target_upsampled = shuffle(\n",
    "        features_upsampled, target_upsampled, random_state=12345)\n",
    "    \n",
    "    return features_upsampled, target_upsampled\n",
    "\n",
    "features_upsampled, target_upsampled = upsample(features_train, target_train, 4)\n",
    "\n",
    "print(features_upsampled.shape)\n",
    "print(target_upsampled.shape)"
   ]
  },
  {
   "cell_type": "code",
   "execution_count": 55,
   "metadata": {},
   "outputs": [
    {
     "name": "stdout",
     "output_type": "stream",
     "text": [
      "Итог LogisticRegression\n",
      "Accuracy LogisticRegression_upsample: 0.6975\n",
      "Полнота LogisticRegression_upsample:  0.6501182033096927\n",
      "Точность LogisticRegression_upsample: 0.3756830601092896\n",
      "F1 LogisticRegression_upsample:       0.47619047619047616\n",
      "Матрица ошибок LogisticRegression_upsample:\n",
      "[[1120  457]\n",
      " [ 148  275]]\n",
      "CPU times: user 40.2 ms, sys: 4.39 ms, total: 44.6 ms\n",
      "Wall time: 40.7 ms\n"
     ]
    }
   ],
   "source": [
    "%%time\n",
    "# обучение на новых данных с помощью модели логистической регрессии\n",
    "model_log_upsample = LogisticRegression(random_state=12345, solver = 'liblinear')\n",
    "model_log_upsample.fit(features_upsampled, target_upsampled)\n",
    "prediction_valid_log_upsample = model_log_upsample.predict(features_valid)\n",
    "print('Итог LogisticRegression')\n",
    "print('Accuracy LogisticRegression_upsample:', accuracy_score(target_valid, prediction_valid_log_upsample))\n",
    "print('Полнота LogisticRegression_upsample: ', recall_score(target_valid, prediction_valid_log_upsample))\n",
    "print('Точность LogisticRegression_upsample:', precision_score(target_valid, prediction_valid_log_upsample))\n",
    "print('F1 LogisticRegression_upsample:      ',f1_score(target_valid, prediction_valid_log_upsample))\n",
    "print('Матрица ошибок LogisticRegression_upsample:')\n",
    "print(confusion_matrix(target_valid, prediction_valid_log_upsample))"
   ]
  },
  {
   "cell_type": "markdown",
   "metadata": {},
   "source": [
    "F1 LogisticRegression увеличилась с 0.27478260869565213 до 0.47619047619047616"
   ]
  },
  {
   "cell_type": "code",
   "execution_count": 56,
   "metadata": {},
   "outputs": [
    {
     "name": "stdout",
     "output_type": "stream",
     "text": [
      "max_depth = 1 : 0.74\n",
      "0.48514851485148514\n",
      "max_depth = 2 : 0.7465\n",
      "0.5129682997118156\n",
      "max_depth = 3 : 0.7465\n",
      "0.5129682997118156\n",
      "max_depth = 4 : 0.7155\n",
      "0.5385239253852393\n",
      "max_depth = 5 : 0.798\n",
      "0.5809128630705395\n",
      "max_depth = 6 : 0.7615\n",
      "0.5643835616438356\n",
      "max_depth = 7 : 0.771\n",
      "0.5604606525911708\n",
      "max_depth = 8 : 0.7585\n",
      "0.5498602050326189\n",
      "max_depth = 9 : 0.766\n",
      "0.5482625482625482\n",
      "max_depth = 10 : 0.752\n",
      "0.5258126195028681\n",
      "max_depth = 11 : 0.7635\n",
      "0.5168539325842697\n",
      "max_depth = 12 : 0.7625\n",
      "0.5158002038735984\n",
      "max_depth = 13 : 0.7775\n",
      "0.5199568500539374\n",
      "max_depth = 14 : 0.7855\n",
      "0.5152542372881356\n",
      "\n",
      "Итог DecisionTreeClassifier_upsample\n",
      "Accuracy DecisionTreeClassifier_upsample: 0.798\n",
      "F1 DecisionTreeClassifier_upsample:       0.5809128630705395\n",
      "Глубина дерева_upsample:                  5\n",
      "CPU times: user 472 ms, sys: 36.2 ms, total: 508 ms\n",
      "Wall time: 579 ms\n"
     ]
    }
   ],
   "source": [
    "%%time\n",
    "# обучение на новых данных с помощью модели дерево решений\n",
    "best_accuracy = 0\n",
    "best_F1 = 0\n",
    "best_depth = 0\n",
    "for depth in range(1, 15):\n",
    "    model_dr_upsample = DecisionTreeClassifier(random_state=12345, max_depth=depth)\n",
    "    model_dr_upsample.fit(features_upsampled, target_upsampled)\n",
    "    prediction_valid_dr_upsample = model_dr_upsample.predict(features_valid)\n",
    "    print(\"max_depth =\", depth, \": \", end='')\n",
    "    print(accuracy_score(target_valid, prediction_valid_dr_upsample))\n",
    "    print(f1_score(target_valid, prediction_valid_dr_upsample))\n",
    "    if accuracy_score(target_valid, prediction_valid_dr_upsample) > best_accuracy:\n",
    "        if f1_score(target_valid, prediction_valid_dr_upsample) > best_F1:\n",
    "            best_accuracy = accuracy_score(target_valid, prediction_valid_dr_upsample)\n",
    "            best_F1 = f1_score(target_valid, prediction_valid_dr_upsample)\n",
    "            best_depth = depth\n",
    "print()\n",
    "print('Итог DecisionTreeClassifier_upsample')\n",
    "print('Accuracy DecisionTreeClassifier_upsample:', best_accuracy)\n",
    "print('F1 DecisionTreeClassifier_upsample:      ', best_F1)\n",
    "print('Глубина дерева_upsample:                 ', best_depth)"
   ]
  },
  {
   "cell_type": "markdown",
   "metadata": {},
   "source": [
    "F1 DecisionTreeClassifier увеличилась с 0.5337423312883436 до 0.5809128630705395, глубина дерева 5"
   ]
  },
  {
   "cell_type": "code",
   "execution_count": 57,
   "metadata": {},
   "outputs": [
    {
     "name": "stdout",
     "output_type": "stream",
     "text": [
      "\n",
      "Итог RandomForestClassifier_upsample\n",
      "Accuracy RandomForestClassifier_upsample: 0.8325\n",
      "F1 RandomForestClassifier_upsample:       0.6206115515288788\n",
      "Количество деревьев_upsample:             35\n",
      "Глубина дерева_upsample:                  11\n",
      "CPU times: user 36.9 s, sys: 144 ms, total: 37.1 s\n",
      "Wall time: 37.2 s\n"
     ]
    }
   ],
   "source": [
    "%%time\n",
    "# обучение на новых данных с помощью модели случайный лес\n",
    "\n",
    "best_model_sl = None\n",
    "best_accuracy = 0\n",
    "best_F1 = 0\n",
    "best_depth = 0\n",
    "best_est = 0\n",
    "for est in range(5, 50, 5):\n",
    "    for depth in range(1, 20):\n",
    "        model_sl_upsample = RandomForestClassifier(random_state=12345, n_estimators=est, max_depth=depth)\n",
    "        model_sl_upsample.fit(features_upsampled, target_upsampled)\n",
    "        prediction_valid_sl_upsample = model_sl_upsample.predict(features_valid)\n",
    "        if accuracy_score(target_valid, prediction_valid_sl) > best_accuracy:\n",
    "            if f1_score(target_valid, prediction_valid_sl_upsample) > best_F1:\n",
    "                best_model = best_model_sl\n",
    "                best_accuracy = accuracy_score(target_valid, prediction_valid_sl_upsample)\n",
    "                best_F1 = f1_score(target_valid, prediction_valid_sl_upsample)\n",
    "                best_est = est\n",
    "                best_depth = depth\n",
    "\n",
    "print()\n",
    "print('Итог RandomForestClassifier_upsample')\n",
    "print('Accuracy RandomForestClassifier_upsample:', best_accuracy)\n",
    "print('F1 RandomForestClassifier_upsample:      ', best_F1)\n",
    "print('Количество деревьев_upsample:            ', best_est)\n",
    "print('Глубина дерева_upsample:                 ', best_depth)"
   ]
  },
  {
   "cell_type": "markdown",
   "metadata": {},
   "source": [
    "F1 RandomForestClassifier увеличилась с 0.5513196480938415 до 0.6206115515288788 с количеством деревьев 35 и глубиной дерева 11."
   ]
  },
  {
   "cell_type": "markdown",
   "metadata": {},
   "source": [
    "Рассмотрены данные с upsample. Лучшие показатели у случайного леса с параметрами:\n",
    "- Accuracy RandomForestClassifier: 8325,\n",
    "- F1 RandomForestClassifier: 0.6206115515288788,\n",
    "- Количество деревьев: 35,\n",
    "- Глубина дерева: 11"
   ]
  },
  {
   "cell_type": "markdown",
   "metadata": {},
   "source": [
    "### Уменьшение выборки (downsample)"
   ]
  },
  {
   "cell_type": "code",
   "execution_count": 58,
   "metadata": {},
   "outputs": [
    {
     "name": "stdout",
     "output_type": "stream",
     "text": [
      "(2397, 11)\n",
      "(2397,)\n"
     ]
    }
   ],
   "source": [
    "# Разделим обучающую выборку на отрицательные и положительные объекты. Объявим 4 переменные:\n",
    "def downsample(features, target, fraction):\n",
    "    features_zeros = features_train[target_train == 0]\n",
    "    features_ones = features_train[target_train == 1]\n",
    "    target_zeros = target_train[target_train == 0]\n",
    "    target_ones = target_train[target_train == 1]\n",
    "    \n",
    "    # Уменьшение выборки\n",
    "    features_downsampled = pd.concat([features_zeros.sample(frac=fraction, random_state=12345)] + [features_ones])\n",
    "    target_downsampled = pd.concat([target_zeros.sample(frac=fraction, random_state=12345)] + [target_ones])\n",
    "    \n",
    "    # перемешивание\n",
    "    features_downsampled, target_downsampled = shuffle(\n",
    "        features_downsampled, target_downsampled, random_state=12345)\n",
    "    \n",
    "    return features_downsampled, target_downsampled\n",
    "\n",
    "features_downsampled, target_downsampled = downsample(features_train, target_train, 0.25)\n",
    "\n",
    "print(features_downsampled.shape)\n",
    "print(target_downsampled.shape)"
   ]
  },
  {
   "cell_type": "code",
   "execution_count": 59,
   "metadata": {},
   "outputs": [
    {
     "name": "stdout",
     "output_type": "stream",
     "text": [
      "Итог LogisticRegression_downsample\n",
      "Accuracy LogisticRegression_downsample: 0.699\n",
      "Полнота LogisticRegression_downsample:  0.6713947990543735\n",
      "Точность LogisticRegression_downsample: 0.38018741633199465\n",
      "F1 LogisticRegression_downsample:       0.48547008547008547\n",
      "Матрица ошибок LogisticRegression_downsample:\n",
      "[[1114  463]\n",
      " [ 139  284]]\n",
      "CPU times: user 42.8 ms, sys: 32.3 ms, total: 75.1 ms\n",
      "Wall time: 33.9 ms\n"
     ]
    }
   ],
   "source": [
    "%%time\n",
    "# обучение на новых данных с помощью модели логистической регрессии\n",
    "model_log_downsample = LogisticRegression(random_state=12345, solver = 'liblinear')\n",
    "model_log_downsample.fit(features_downsampled, target_downsampled)\n",
    "prediction_valid_log_downsample = model_log_downsample.predict(features_valid)\n",
    "print('Итог LogisticRegression_downsample')\n",
    "print('Accuracy LogisticRegression_downsample:', accuracy_score(target_valid, prediction_valid_log_downsample))\n",
    "print('Полнота LogisticRegression_downsample: ', recall_score(target_valid, prediction_valid_log_downsample))\n",
    "print('Точность LogisticRegression_downsample:', precision_score(target_valid, prediction_valid_log_downsample))\n",
    "print('F1 LogisticRegression_downsample:      ',f1_score(target_valid, prediction_valid_log_downsample))\n",
    "print('Матрица ошибок LogisticRegression_downsample:')\n",
    "print(confusion_matrix(target_valid, prediction_valid_log_downsample))"
   ]
  },
  {
   "cell_type": "code",
   "execution_count": 60,
   "metadata": {},
   "outputs": [
    {
     "name": "stdout",
     "output_type": "stream",
     "text": [
      "max_depth = 1 : 0.725\n",
      "0.4878957169459963\n",
      "max_depth = 2 : 0.731\n",
      "0.5109090909090909\n",
      "max_depth = 3 : 0.7505\n",
      "0.5261158594491927\n",
      "max_depth = 4 : 0.7255\n",
      "0.5405857740585773\n",
      "max_depth = 5 : 0.8105\n",
      "0.608066184074457\n",
      "max_depth = 6 : 0.776\n",
      "0.588235294117647\n",
      "max_depth = 7 : 0.7385\n",
      "0.5440278988666085\n",
      "max_depth = 8 : 0.748\n",
      "0.5426497277676952\n",
      "max_depth = 9 : 0.7535\n",
      "0.5554553651938684\n",
      "max_depth = 10 : 0.762\n",
      "0.5405405405405406\n",
      "max_depth = 11 : 0.747\n",
      "0.5262172284644194\n",
      "max_depth = 12 : 0.7235\n",
      "0.5040358744394617\n",
      "max_depth = 13 : 0.7305\n",
      "0.5217391304347826\n",
      "max_depth = 14 : 0.7145\n",
      "0.49602824360105907\n",
      "\n",
      "Итог DecisionTreeClassifier_downsample\n",
      "Accuracy DecisionTreeClassifier_downsample: 0.8105\n",
      "F1 DecisionTreeClassifier_downsample:       0.608066184074457\n",
      "Глубина дерева_downsample:                  5\n",
      "CPU times: user 245 ms, sys: 32.2 ms, total: 277 ms\n",
      "Wall time: 336 ms\n"
     ]
    }
   ],
   "source": [
    "%%time\n",
    "# обучение на новых данных с помощью модели дерево решений\n",
    "best_accuracy = 0\n",
    "best_F1 = 0\n",
    "best_depth = 0\n",
    "for depth in range(1, 15):\n",
    "    model_dr_downsample = DecisionTreeClassifier(random_state=12345, max_depth=depth)\n",
    "    model_dr_downsample.fit(features_downsampled, target_downsampled)\n",
    "    prediction_valid_dr_downsample = model_dr_downsample.predict(features_valid)\n",
    "    print(\"max_depth =\", depth, \": \", end='')\n",
    "    print(accuracy_score(target_valid, prediction_valid_dr_downsample))\n",
    "    print(f1_score(target_valid, prediction_valid_dr_downsample))\n",
    "    if accuracy_score(target_valid, prediction_valid_dr_downsample) > best_accuracy:\n",
    "        if f1_score(target_valid, prediction_valid_dr_downsample) > best_F1:\n",
    "            best_accuracy = accuracy_score(target_valid, prediction_valid_dr_downsample)\n",
    "            best_F1 = f1_score(target_valid, prediction_valid_dr_downsample)\n",
    "            best_depth = depth\n",
    "print()\n",
    "print('Итог DecisionTreeClassifier_downsample')\n",
    "print('Accuracy DecisionTreeClassifier_downsample:', best_accuracy)\n",
    "print('F1 DecisionTreeClassifier_downsample:      ', best_F1)\n",
    "print('Глубина дерева_downsample:                 ', best_depth)"
   ]
  },
  {
   "cell_type": "code",
   "execution_count": 61,
   "metadata": {},
   "outputs": [
    {
     "name": "stdout",
     "output_type": "stream",
     "text": [
      "\n",
      "Итог RandomForestClassifier_downsample\n",
      "Accuracy RandomForestClassifier_downsample: 0.793\n",
      "F1 RandomForestClassifier_downsample:       0.5818181818181817\n",
      "Количество деревьев_downsample:             10\n",
      "Глубина дерева_downsample:                  4\n",
      "CPU times: user 15.3 s, sys: 55.9 ms, total: 15.4 s\n",
      "Wall time: 15.4 s\n"
     ]
    }
   ],
   "source": [
    "%%time\n",
    "# обучение на новых данных с помощью модели случайный лес\n",
    "\n",
    "best_model_sl = None\n",
    "best_accuracy = 0\n",
    "best_F1 = 0\n",
    "best_depth = 0\n",
    "best_est = 0\n",
    "for est in range(5, 50, 5):\n",
    "    for depth in range(1, 20):\n",
    "        model_sl_downsample = RandomForestClassifier(random_state=12345, n_estimators=est, max_depth=depth)\n",
    "        model_sl_downsample.fit(features_downsampled, target_downsampled)\n",
    "        prediction_valid_sl_downsample = model_sl_downsample.predict(features_valid)\n",
    "        if accuracy_score(target_valid, prediction_valid_sl_downsample) > best_accuracy:\n",
    "            if f1_score(target_valid, prediction_valid_sl_downsample) > best_F1:\n",
    "                best_model = best_model_sl\n",
    "                best_accuracy = accuracy_score(target_valid, prediction_valid_sl_downsample)\n",
    "                best_F1 = f1_score(target_valid, prediction_valid_sl_downsample)\n",
    "                best_est = est\n",
    "                best_depth = depth\n",
    "\n",
    "print()\n",
    "print('Итог RandomForestClassifier_downsample')\n",
    "print('Accuracy RandomForestClassifier_downsample:', best_accuracy)\n",
    "print('F1 RandomForestClassifier_downsample:      ', best_F1)\n",
    "print('Количество деревьев_downsample:            ', best_est)\n",
    "print('Глубина дерева_downsample:                 ', best_depth)"
   ]
  },
  {
   "cell_type": "markdown",
   "metadata": {},
   "source": [
    "Показатели при уменьшении выборки хуже, чем после увеличения выборки.<br> \n",
    "Лучшая модель model_sl_upsample - случайный лес после увеличения выборки с параметрами:<br> \n",
    "F1 RandomForestClassifier увеличилась с 0.5513196480938415 до 0.6206115515288788 <br> \n",
    "с количеством деревьев 35<br>  и глубиной дерева 11."
   ]
  },
  {
   "cell_type": "markdown",
   "metadata": {},
   "source": [
    "### AUC-ROC"
   ]
  },
  {
   "cell_type": "code",
   "execution_count": 62,
   "metadata": {},
   "outputs": [
    {
     "name": "stdout",
     "output_type": "stream",
     "text": [
      "0.741732139457419\n"
     ]
    }
   ],
   "source": [
    "probabilities_log = model_log_upsample.predict_proba(features_valid)\n",
    "probabilities_one_valid_log = probabilities_log[:,1]\n",
    "fpr_log, tpr_log, thresholds_log = roc_curve(target_valid, probabilities_one_valid_log)\n",
    "auc_roc_log = roc_auc_score(target_valid, probabilities_one_valid_log)\n",
    "print(auc_roc_log)"
   ]
  },
  {
   "cell_type": "code",
   "execution_count": 63,
   "metadata": {},
   "outputs": [
    {
     "name": "stdout",
     "output_type": "stream",
     "text": [
      "0.7056722597744469\n"
     ]
    }
   ],
   "source": [
    "probabilities_dr = model_dr_upsample.predict_proba(features_valid)\n",
    "probabilities_one_valid_dr = probabilities_dr[:,1]\n",
    "fpr_dr, tpr_dr, thresholds_dr = roc_curve(target_valid, probabilities_one_valid_dr)\n",
    "auc_roc_dr = roc_auc_score(target_valid, probabilities_one_valid_dr)\n",
    "print(auc_roc_dr)"
   ]
  },
  {
   "cell_type": "code",
   "execution_count": 64,
   "metadata": {},
   "outputs": [
    {
     "name": "stdout",
     "output_type": "stream",
     "text": [
      "0.8435833666881035\n"
     ]
    }
   ],
   "source": [
    "probabilities_sl = model_sl_upsample.predict_proba(features_valid)\n",
    "probabilities_one_valid_sl = probabilities_sl[:,1]\n",
    "fpr_sl, tpr_sl, thresholds_sl = roc_curve(target_valid, probabilities_one_valid_sl)\n",
    "auc_roc_sl = roc_auc_score(target_valid, probabilities_one_valid_sl)\n",
    "print(auc_roc_sl)"
   ]
  },
  {
   "cell_type": "code",
   "execution_count": 65,
   "metadata": {},
   "outputs": [
    {
     "data": {
      "image/png": "[encoded data removed]",
      "text/plain": [
       "<Figure size 1080x504 with 1 Axes>"
      ]
     },
     "metadata": {
      "needs_background": "light"
     },
     "output_type": "display_data"
    }
   ],
   "source": [
    "#plt.figure()\n",
    "plt.figure(figsize=(15,7))\n",
    "plt.plot([0, 1], [0, 1], linestyle='--')\n",
    "plt.xlim([0.0, 1.0])\n",
    "plt.ylim([0.0, 1.0])\n",
    "plt.plot(fpr_sl, tpr_sl)\n",
    "plt.plot(fpr_log, tpr_log)\n",
    "plt.plot(fpr_dr, tpr_dr)\n",
    "plt.xlabel('False Positive Rate')\n",
    "plt.ylabel('True Positive Rate')\n",
    "plt.title('ROC-кривая')\n",
    "plt.legend(('Случайная модель', 'Случайный лес', 'Логистическая регрессия', 'Дерево решений'), loc= 'upper left')\n",
    "plt.show()"
   ]
  },
  {
   "cell_type": "markdown",
   "metadata": {},
   "source": [
    "Лучшее значение метрики auc_roc также у модели 'Случайный лес' - 0.8435833666881035."
   ]
  },
  {
   "cell_type": "markdown",
   "metadata": {},
   "source": [
    "## Тестирование модели"
   ]
  },
  {
   "cell_type": "markdown",
   "metadata": {},
   "source": [
    "Преверим лучшую модель на тестовой выборке"
   ]
  },
  {
   "cell_type": "code",
   "execution_count": 66,
   "metadata": {},
   "outputs": [
    {
     "name": "stdout",
     "output_type": "stream",
     "text": [
      "Accuracy RandomForestClassifier_upsample: 0.829\n",
      "F1 RandomForestClassifier_upsample: 0.6122448979591836\n",
      "0.8487053817165602\n"
     ]
    }
   ],
   "source": [
    "model_sl_upsample = RandomForestClassifier(random_state=12345, n_estimators=35, max_depth=11)\n",
    "model_sl_upsample.fit(features_upsampled, target_upsampled)\n",
    "prediction_test_sl_upsample = model_sl_upsample.predict(features_test)\n",
    "print('Accuracy RandomForestClassifier_upsample:', accuracy_score(target_test, prediction_test_sl_upsample))\n",
    "print('F1 RandomForestClassifier_upsample:', f1_score(target_test, prediction_test_sl_upsample))\n",
    "probabilities_sl_t = model_sl_upsample.predict_proba(features_test)\n",
    "probabilities_one_test_sl_t = probabilities_sl_t[:,1]\n",
    "fpr_sl_t, tpr_sl_t, thresholds_sl_t = roc_curve(target_test, probabilities_one_test_sl_t)\n",
    "auc_roc_sl_t = roc_auc_score(target_test, probabilities_one_test_sl_t)\n",
    "print(auc_roc_sl_t)"
   ]
  },
  {
   "cell_type": "code",
   "execution_count": 67,
   "metadata": {},
   "outputs": [
    {
     "data": {
      "image/png": "[encoded data removed]",
      "text/plain": [
       "<Figure size 720x360 with 1 Axes>"
      ]
     },
     "metadata": {
      "needs_background": "light"
     },
     "output_type": "display_data"
    }
   ],
   "source": [
    "plt.figure(figsize=(10,5))\n",
    "plt.plot([0, 1], [0, 1], linestyle='--')\n",
    "plt.xlim([0.0, 1.0])\n",
    "plt.ylim([0.0, 1.0])\n",
    "plt.plot(fpr_sl_t, tpr_sl_t)\n",
    "plt.xlabel('False Positive Rate')\n",
    "plt.ylabel('True Positive Rate')\n",
    "plt.title('ROC-кривая')\n",
    "plt.legend(('Случайная модель', 'Случайный лес_тест'), loc= 'upper left')\n",
    "plt.show()"
   ]
  },
  {
   "cell_type": "code",
   "execution_count": 68,
   "metadata": {},
   "outputs": [
    {
     "data": {
      "text/plain": [
       "0    2000\n",
       "dtype: int64"
      ]
     },
     "execution_count": 68,
     "metadata": {},
     "output_type": "execute_result"
    }
   ],
   "source": [
    "#Создаем константную модель\n",
    "target_constant = pd.Series([0]*len(target_test))\n",
    "target_constant.value_counts()"
   ]
  },
  {
   "cell_type": "code",
   "execution_count": 69,
   "metadata": {},
   "outputs": [
    {
     "name": "stdout",
     "output_type": "stream",
     "text": [
      "accuracy_score константой модели: 0.7885\n",
      "AUC-ROC константой модели: 0.5\n"
     ]
    }
   ],
   "source": [
    "#Сравним показатель точности (accuracy_score) константной модели и финальной\n",
    "print('accuracy_score константой модели:', accuracy_score(target_valid, target_constant))\n",
    "#Дополнительно сравним AUC-ROC \n",
    "print('AUC-ROC константой модели:', roc_auc_score(target_valid, target_constant))"
   ]
  },
  {
   "cell_type": "markdown",
   "metadata": {},
   "source": [
    "## ВЫВОД"
   ]
  },
  {
   "cell_type": "code",
   "execution_count": 70,
   "metadata": {},
   "outputs": [],
   "source": [
    "# Объединим результаты исследований в таблицу\n",
    "final_table = {'Логистическая регрессия':np.array([0.274783, 0.476190]),\n",
    "            'Дерево Решения':np.array([0.533742, 0.580913]), \n",
    "            'Случайный лес':np.array([0.551320, 0.620613])}\n",
    "final_table_1 = pd.DataFrame(final_table, index=['F1 без учета дисбаланса','F1 с учетом дисбаланса'])\n",
    "final_table_auc = {'Логистическая регрессия':np.array([0.738699, 0.741732]),\n",
    "            'Дерево Решения':np.array([0.688673, 0.705672]), \n",
    "            'Случайный лес':np.array([0.849755, 0.843583])}\n",
    "final_table__auc1 = pd.DataFrame(final_table_auc, index=['AUC-ROC без учета дисбаланса','AUC-ROC с учетом дисбаланса'])"
   ]
  },
  {
   "cell_type": "code",
   "execution_count": 71,
   "metadata": {},
   "outputs": [
    {
     "data": {
      "text/html": [
       "<div>\n",
       "<style scoped>\n",
       "    .dataframe tbody tr th:only-of-type {\n",
       "        vertical-align: middle;\n",
       "    }\n",
       "\n",
       "    .dataframe tbody tr th {\n",
       "        vertical-align: top;\n",
       "    }\n",
       "\n",
       "    .dataframe thead th {\n",
       "        text-align: right;\n",
       "    }\n",
       "</style>\n",
       "<table border=\"1\" class=\"dataframe\">\n",
       "  <thead>\n",
       "    <tr style=\"text-align: right;\">\n",
       "      <th></th>\n",
       "      <th>Логистическая регрессия</th>\n",
       "      <th>Дерево Решения</th>\n",
       "      <th>Случайный лес</th>\n",
       "    </tr>\n",
       "  </thead>\n",
       "  <tbody>\n",
       "    <tr>\n",
       "      <th>F1 без учета дисбаланса</th>\n",
       "      <td>0.274783</td>\n",
       "      <td>0.533742</td>\n",
       "      <td>0.551320</td>\n",
       "    </tr>\n",
       "    <tr>\n",
       "      <th>F1 с учетом дисбаланса</th>\n",
       "      <td>0.476190</td>\n",
       "      <td>0.580913</td>\n",
       "      <td>0.620613</td>\n",
       "    </tr>\n",
       "  </tbody>\n",
       "</table>\n",
       "</div>"
      ],
      "text/plain": [
       "                         Логистическая регрессия  Дерево Решения  \\\n",
       "F1 без учета дисбаланса                 0.274783        0.533742   \n",
       "F1 с учетом дисбаланса                  0.476190        0.580913   \n",
       "\n",
       "                         Случайный лес  \n",
       "F1 без учета дисбаланса       0.551320  \n",
       "F1 с учетом дисбаланса        0.620613  "
      ]
     },
     "metadata": {},
     "output_type": "display_data"
    },
    {
     "data": {
      "text/html": [
       "<div>\n",
       "<style scoped>\n",
       "    .dataframe tbody tr th:only-of-type {\n",
       "        vertical-align: middle;\n",
       "    }\n",
       "\n",
       "    .dataframe tbody tr th {\n",
       "        vertical-align: top;\n",
       "    }\n",
       "\n",
       "    .dataframe thead th {\n",
       "        text-align: right;\n",
       "    }\n",
       "</style>\n",
       "<table border=\"1\" class=\"dataframe\">\n",
       "  <thead>\n",
       "    <tr style=\"text-align: right;\">\n",
       "      <th></th>\n",
       "      <th>Логистическая регрессия</th>\n",
       "      <th>Дерево Решения</th>\n",
       "      <th>Случайный лес</th>\n",
       "    </tr>\n",
       "  </thead>\n",
       "  <tbody>\n",
       "    <tr>\n",
       "      <th>AUC-ROC без учета дисбаланса</th>\n",
       "      <td>0.738699</td>\n",
       "      <td>0.688673</td>\n",
       "      <td>0.849755</td>\n",
       "    </tr>\n",
       "    <tr>\n",
       "      <th>AUC-ROC с учетом дисбаланса</th>\n",
       "      <td>0.741732</td>\n",
       "      <td>0.705672</td>\n",
       "      <td>0.843583</td>\n",
       "    </tr>\n",
       "  </tbody>\n",
       "</table>\n",
       "</div>"
      ],
      "text/plain": [
       "                              Логистическая регрессия  Дерево Решения  \\\n",
       "AUC-ROC без учета дисбаланса                 0.738699        0.688673   \n",
       "AUC-ROC с учетом дисбаланса                  0.741732        0.705672   \n",
       "\n",
       "                              Случайный лес  \n",
       "AUC-ROC без учета дисбаланса       0.849755  \n",
       "AUC-ROC с учетом дисбаланса        0.843583  "
      ]
     },
     "metadata": {},
     "output_type": "display_data"
    }
   ],
   "source": [
    "display(final_table_1)\n",
    "display(final_table__auc1)"
   ]
  },
  {
   "cell_type": "markdown",
   "metadata": {},
   "source": [
    "**Вывод** <br> В исходных данных имелось 10000 строк (объекты) и 14 столбцов (признаки: 13 признаков и 1 целевой признак).<br> - Дубликаты отсутствуют.<br>- Пропуски данных были только в 1 столбце (\"tenure\" (сколько лет человек является клиентом банка) и составили небольшой процент = 9,09. Заменила эти пропуски на наименьшее значение 0 сменили тип данных на int (целое число).<br>- В целевом признаке пропуски отсутствуют.<br>- Названия столбцов приведены к нижнему регистру во избежание ошибок в дальнейшем.<br>- В нашем распоряжении обучающий набор данных (признаки) и целевой признак, который нужно предсказать по остальным признакам. <br> Такие задачи относятся к \"обучению с учителем\" / бинарная (двоичная) классификация (категориальный целевой признак).<br>В ходе работы удалили лишние столбцы, проверили корреляцию признаков: данных с сильной корреляцией нет, \"Мультиколлинеарности\" нет.  Применили прямое кодирование (признаки должны быть численные) Оne-hot-encoding: категориальные признаки: 'geography'(страна проживания) - содержит 3 уникальных значения и 'gender' (пол) - содержит 2 уникальных значения, преобразовали в числовые с помощью прямого кодирования. Преобразуем 'geography' и 'gender' техникой OHE. Соответственно, в таблицу, избегая дамми-ловушки, добавились 2 и 1 новых столбца соответственно.\n",
    "Сформированы выборки df_one_train - обучающая выборка, df_one_test - тестовая выборка, df_one_valid - валидационная выборка в соотношении 3:1:1. Для масштабирования функций мы используем класс StandardScaler - стандартизация данных. Исследован баланс классов. Для борьбы с дисбалансом применялось: увеличение выборки и уменьшение выборки (увеличение выборки принесло лучшие результаты).\n",
    "<br> <br>**Удалось добиться следующих метрик: F1 = 0.620613, AUC = 0.843583.** <br> Данных показателей удалось добится на модели \"Случайный лес\" с количеством деревьев 35 и глубиной дерева 11.<br> Сделали это засчёт увеличения меньшего класса для достижения баланса классов. Лучше всего себя показала модель Случайного леса. Хуже всего себя показала модель Логистическая регрессия."
   ]
  }
 ],
 "metadata": {
  "ExecuteTimeLog": [
   {
    "duration": 819,
    "start_time": "2023-03-30T14:59:35.598Z"
   },
   {
    "duration": 638,
    "start_time": "2023-03-30T14:59:50.510Z"
   },
   {
    "duration": 61,
    "start_time": "2023-03-30T14:59:58.711Z"
   },
   {
    "duration": 77,
    "start_time": "2023-03-30T15:02:10.046Z"
   },
   {
    "duration": 16,
    "start_time": "2023-03-30T15:02:30.928Z"
   },
   {
    "duration": 4,
    "start_time": "2023-03-30T15:07:42.695Z"
   },
   {
    "duration": 13,
    "start_time": "2023-03-30T15:07:50.299Z"
   },
   {
    "duration": 16,
    "start_time": "2023-03-30T15:09:25.363Z"
   },
   {
    "duration": 12,
    "start_time": "2023-03-30T15:09:34.457Z"
   },
   {
    "duration": 15,
    "start_time": "2023-03-30T15:09:50.009Z"
   },
   {
    "duration": 12,
    "start_time": "2023-03-30T15:10:01.611Z"
   },
   {
    "duration": 4,
    "start_time": "2023-03-30T15:12:05.580Z"
   },
   {
    "duration": 5,
    "start_time": "2023-03-30T15:15:49.444Z"
   },
   {
    "duration": 7,
    "start_time": "2023-03-30T15:17:13.252Z"
   },
   {
    "duration": 64,
    "start_time": "2023-03-30T15:19:51.905Z"
   },
   {
    "duration": 12,
    "start_time": "2023-03-30T15:19:57.305Z"
   },
   {
    "duration": 1268,
    "start_time": "2023-03-30T15:21:31.296Z"
   },
   {
    "duration": 35,
    "start_time": "2023-03-30T15:21:32.566Z"
   },
   {
    "duration": 15,
    "start_time": "2023-03-30T15:21:32.603Z"
   },
   {
    "duration": 19,
    "start_time": "2023-03-30T15:21:32.620Z"
   },
   {
    "duration": 26,
    "start_time": "2023-03-30T15:21:32.641Z"
   },
   {
    "duration": 24,
    "start_time": "2023-03-30T15:21:32.669Z"
   },
   {
    "duration": 10,
    "start_time": "2023-03-30T15:21:32.695Z"
   },
   {
    "duration": 38,
    "start_time": "2023-03-30T15:21:32.707Z"
   },
   {
    "duration": 21,
    "start_time": "2023-03-30T15:21:32.747Z"
   },
   {
    "duration": 10,
    "start_time": "2023-03-30T15:25:21.787Z"
   },
   {
    "duration": 106,
    "start_time": "2023-03-30T15:26:46.959Z"
   },
   {
    "duration": 7,
    "start_time": "2023-03-30T15:27:34.471Z"
   },
   {
    "duration": 10,
    "start_time": "2023-03-30T15:27:49.287Z"
   },
   {
    "duration": 10,
    "start_time": "2023-03-30T15:28:08.939Z"
   },
   {
    "duration": 8,
    "start_time": "2023-03-30T15:28:39.847Z"
   },
   {
    "duration": 7,
    "start_time": "2023-03-30T15:28:45.722Z"
   },
   {
    "duration": 13,
    "start_time": "2023-03-30T15:31:06.822Z"
   },
   {
    "duration": 12,
    "start_time": "2023-03-30T15:31:28.313Z"
   },
   {
    "duration": 7,
    "start_time": "2023-03-30T15:31:41.119Z"
   },
   {
    "duration": 46,
    "start_time": "2023-03-30T15:32:26.566Z"
   },
   {
    "duration": 12,
    "start_time": "2023-03-30T15:32:41.323Z"
   },
   {
    "duration": 8,
    "start_time": "2023-03-30T15:32:55.427Z"
   },
   {
    "duration": 12,
    "start_time": "2023-03-30T15:34:08.721Z"
   },
   {
    "duration": 4,
    "start_time": "2023-03-30T15:34:36.032Z"
   },
   {
    "duration": 4,
    "start_time": "2023-03-30T15:34:47.013Z"
   },
   {
    "duration": 5,
    "start_time": "2023-03-30T15:36:17.882Z"
   },
   {
    "duration": 4,
    "start_time": "2023-03-30T15:36:40.221Z"
   },
   {
    "duration": 704,
    "start_time": "2023-03-30T15:41:37.933Z"
   },
   {
    "duration": 4,
    "start_time": "2023-03-30T15:41:47.112Z"
   },
   {
    "duration": 5,
    "start_time": "2023-03-30T15:42:29.062Z"
   },
   {
    "duration": 7,
    "start_time": "2023-03-30T15:44:01.746Z"
   },
   {
    "duration": 6,
    "start_time": "2023-03-30T15:44:54.672Z"
   },
   {
    "duration": 45,
    "start_time": "2023-03-30T15:46:07.060Z"
   },
   {
    "duration": 7,
    "start_time": "2023-03-30T15:46:22.481Z"
   },
   {
    "duration": 6,
    "start_time": "2023-03-30T15:47:24.830Z"
   },
   {
    "duration": 1245,
    "start_time": "2023-03-30T15:47:41.138Z"
   },
   {
    "duration": 37,
    "start_time": "2023-03-30T15:47:42.384Z"
   },
   {
    "duration": 17,
    "start_time": "2023-03-30T15:47:42.422Z"
   },
   {
    "duration": 3,
    "start_time": "2023-03-30T15:47:42.442Z"
   },
   {
    "duration": 19,
    "start_time": "2023-03-30T15:47:42.447Z"
   },
   {
    "duration": 4,
    "start_time": "2023-03-30T15:47:42.468Z"
   },
   {
    "duration": 15,
    "start_time": "2023-03-30T15:47:42.473Z"
   },
   {
    "duration": 17,
    "start_time": "2023-03-30T15:47:42.489Z"
   },
   {
    "duration": 7,
    "start_time": "2023-03-30T15:47:42.507Z"
   },
   {
    "duration": 4,
    "start_time": "2023-03-30T15:47:42.515Z"
   },
   {
    "duration": 6,
    "start_time": "2023-03-30T15:47:42.521Z"
   },
   {
    "duration": 4,
    "start_time": "2023-03-30T15:52:37.677Z"
   },
   {
    "duration": 104,
    "start_time": "2023-03-30T15:53:02.358Z"
   },
   {
    "duration": 5,
    "start_time": "2023-03-30T15:53:06.907Z"
   },
   {
    "duration": 5,
    "start_time": "2023-03-30T15:55:07.359Z"
   },
   {
    "duration": 6,
    "start_time": "2023-03-30T15:55:50.011Z"
   },
   {
    "duration": 695,
    "start_time": "2023-03-30T15:56:37.629Z"
   },
   {
    "duration": 68,
    "start_time": "2023-03-30T16:07:38.869Z"
   },
   {
    "duration": 13,
    "start_time": "2023-03-30T16:07:44.856Z"
   },
   {
    "duration": 12,
    "start_time": "2023-03-30T16:08:23.878Z"
   },
   {
    "duration": 4,
    "start_time": "2023-03-30T16:09:14.581Z"
   },
   {
    "duration": 16,
    "start_time": "2023-03-30T16:09:25.293Z"
   },
   {
    "duration": 51,
    "start_time": "2023-03-30T16:09:49.447Z"
   },
   {
    "duration": 14,
    "start_time": "2023-03-30T16:09:58.158Z"
   },
   {
    "duration": 9,
    "start_time": "2023-03-30T16:10:37.937Z"
   },
   {
    "duration": 48,
    "start_time": "2023-03-30T16:11:47.577Z"
   },
   {
    "duration": 9,
    "start_time": "2023-03-30T16:11:57.052Z"
   },
   {
    "duration": 9,
    "start_time": "2023-03-30T16:12:42.749Z"
   },
   {
    "duration": 8,
    "start_time": "2023-03-30T16:13:03.484Z"
   },
   {
    "duration": 9,
    "start_time": "2023-03-30T16:13:09.817Z"
   },
   {
    "duration": 9,
    "start_time": "2023-03-30T16:13:17.093Z"
   },
   {
    "duration": 9,
    "start_time": "2023-03-30T16:13:22.342Z"
   },
   {
    "duration": 8,
    "start_time": "2023-03-30T16:13:27.371Z"
   },
   {
    "duration": 9,
    "start_time": "2023-03-30T16:13:33.702Z"
   },
   {
    "duration": 9,
    "start_time": "2023-03-30T16:13:38.914Z"
   },
   {
    "duration": 9,
    "start_time": "2023-03-30T16:13:44.291Z"
   },
   {
    "duration": 9,
    "start_time": "2023-03-30T16:13:50.599Z"
   },
   {
    "duration": 9,
    "start_time": "2023-03-30T16:13:56.966Z"
   },
   {
    "duration": 7,
    "start_time": "2023-03-30T16:14:12.788Z"
   },
   {
    "duration": 11,
    "start_time": "2023-03-30T16:14:23.345Z"
   },
   {
    "duration": 6,
    "start_time": "2023-03-30T16:14:30.090Z"
   },
   {
    "duration": 40,
    "start_time": "2023-03-30T16:19:26.761Z"
   },
   {
    "duration": 9,
    "start_time": "2023-03-30T16:27:49.768Z"
   },
   {
    "duration": 9,
    "start_time": "2023-03-30T16:28:18.718Z"
   },
   {
    "duration": 1323,
    "start_time": "2023-03-30T16:28:49.092Z"
   },
   {
    "duration": 38,
    "start_time": "2023-03-30T16:28:50.417Z"
   },
   {
    "duration": 17,
    "start_time": "2023-03-30T16:28:50.456Z"
   },
   {
    "duration": 4,
    "start_time": "2023-03-30T16:28:50.474Z"
   },
   {
    "duration": 14,
    "start_time": "2023-03-30T16:28:50.480Z"
   },
   {
    "duration": 40,
    "start_time": "2023-03-30T16:28:50.496Z"
   },
   {
    "duration": 4,
    "start_time": "2023-03-30T16:28:50.537Z"
   },
   {
    "duration": 6,
    "start_time": "2023-03-30T16:28:50.542Z"
   },
   {
    "duration": 14,
    "start_time": "2023-03-30T16:28:50.550Z"
   },
   {
    "duration": 7,
    "start_time": "2023-03-30T16:28:50.589Z"
   },
   {
    "duration": 3,
    "start_time": "2023-03-30T16:28:50.598Z"
   },
   {
    "duration": 10,
    "start_time": "2023-03-30T16:28:50.603Z"
   },
   {
    "duration": 6,
    "start_time": "2023-03-30T16:28:50.615Z"
   },
   {
    "duration": 6737,
    "start_time": "2023-03-30T16:38:02.989Z"
   },
   {
    "duration": 6243,
    "start_time": "2023-03-30T16:39:07.639Z"
   },
   {
    "duration": 6365,
    "start_time": "2023-03-30T16:39:26.901Z"
   },
   {
    "duration": 6677,
    "start_time": "2023-03-30T16:39:38.938Z"
   },
   {
    "duration": 13,
    "start_time": "2023-03-30T16:58:34.437Z"
   },
   {
    "duration": 5,
    "start_time": "2023-03-30T17:00:23.629Z"
   },
   {
    "duration": 6,
    "start_time": "2023-03-30T17:01:00.042Z"
   },
   {
    "duration": 4,
    "start_time": "2023-03-30T17:17:54.610Z"
   },
   {
    "duration": 16,
    "start_time": "2023-03-30T17:18:46.518Z"
   },
   {
    "duration": 15,
    "start_time": "2023-03-30T17:19:00.492Z"
   },
   {
    "duration": 15,
    "start_time": "2023-03-30T17:19:32.526Z"
   },
   {
    "duration": 1240,
    "start_time": "2023-03-30T17:19:40.742Z"
   },
   {
    "duration": 37,
    "start_time": "2023-03-30T17:19:41.984Z"
   },
   {
    "duration": 16,
    "start_time": "2023-03-30T17:19:42.023Z"
   },
   {
    "duration": 45,
    "start_time": "2023-03-30T17:19:42.041Z"
   },
   {
    "duration": 39,
    "start_time": "2023-03-30T17:19:42.087Z"
   },
   {
    "duration": 40,
    "start_time": "2023-03-30T17:19:42.127Z"
   },
   {
    "duration": 3,
    "start_time": "2023-03-30T17:19:42.169Z"
   },
   {
    "duration": 7,
    "start_time": "2023-03-30T17:19:42.174Z"
   },
   {
    "duration": 15,
    "start_time": "2023-03-30T17:19:42.183Z"
   },
   {
    "duration": 6,
    "start_time": "2023-03-30T17:19:42.201Z"
   },
   {
    "duration": 10,
    "start_time": "2023-03-30T17:19:42.209Z"
   },
   {
    "duration": 112,
    "start_time": "2023-03-30T17:19:42.220Z"
   },
   {
    "duration": 0,
    "start_time": "2023-03-30T17:19:42.334Z"
   },
   {
    "duration": 0,
    "start_time": "2023-03-30T17:19:42.335Z"
   },
   {
    "duration": 0,
    "start_time": "2023-03-30T17:19:42.336Z"
   },
   {
    "duration": 15,
    "start_time": "2023-03-30T17:20:17.378Z"
   },
   {
    "duration": 9,
    "start_time": "2023-03-30T17:20:54.620Z"
   },
   {
    "duration": 14,
    "start_time": "2023-03-30T17:21:12.723Z"
   },
   {
    "duration": 9,
    "start_time": "2023-03-30T17:21:38.524Z"
   },
   {
    "duration": 1301,
    "start_time": "2023-03-30T17:22:44.171Z"
   },
   {
    "duration": 36,
    "start_time": "2023-03-30T17:22:45.474Z"
   },
   {
    "duration": 15,
    "start_time": "2023-03-30T17:22:45.512Z"
   },
   {
    "duration": 6,
    "start_time": "2023-03-30T17:22:45.529Z"
   },
   {
    "duration": 11,
    "start_time": "2023-03-30T17:22:45.537Z"
   },
   {
    "duration": 53,
    "start_time": "2023-03-30T17:22:45.549Z"
   },
   {
    "duration": 4,
    "start_time": "2023-03-30T17:22:45.604Z"
   },
   {
    "duration": 11,
    "start_time": "2023-03-30T17:22:45.609Z"
   },
   {
    "duration": 25,
    "start_time": "2023-03-30T17:22:45.622Z"
   },
   {
    "duration": 7,
    "start_time": "2023-03-30T17:22:45.649Z"
   },
   {
    "duration": 6,
    "start_time": "2023-03-30T17:22:45.657Z"
   },
   {
    "duration": 9,
    "start_time": "2023-03-30T17:22:45.664Z"
   },
   {
    "duration": 19,
    "start_time": "2023-03-30T17:22:45.674Z"
   },
   {
    "duration": 14,
    "start_time": "2023-03-30T17:22:45.694Z"
   },
   {
    "duration": 5,
    "start_time": "2023-03-30T17:22:45.709Z"
   },
   {
    "duration": 12,
    "start_time": "2023-03-30T17:31:44.331Z"
   },
   {
    "duration": 5,
    "start_time": "2023-03-30T17:31:44.970Z"
   },
   {
    "duration": 14,
    "start_time": "2023-03-30T17:32:01.866Z"
   },
   {
    "duration": 1294,
    "start_time": "2023-03-30T17:32:17.591Z"
   },
   {
    "duration": 37,
    "start_time": "2023-03-30T17:32:18.887Z"
   },
   {
    "duration": 17,
    "start_time": "2023-03-30T17:32:18.925Z"
   },
   {
    "duration": 19,
    "start_time": "2023-03-30T17:32:18.944Z"
   },
   {
    "duration": 20,
    "start_time": "2023-03-30T17:32:18.964Z"
   },
   {
    "duration": 44,
    "start_time": "2023-03-30T17:32:18.986Z"
   },
   {
    "duration": 4,
    "start_time": "2023-03-30T17:32:19.032Z"
   },
   {
    "duration": 22,
    "start_time": "2023-03-30T17:32:19.037Z"
   },
   {
    "duration": 26,
    "start_time": "2023-03-30T17:32:19.061Z"
   },
   {
    "duration": 8,
    "start_time": "2023-03-30T17:32:19.089Z"
   },
   {
    "duration": 10,
    "start_time": "2023-03-30T17:32:19.099Z"
   },
   {
    "duration": 18,
    "start_time": "2023-03-30T17:32:19.110Z"
   },
   {
    "duration": 6,
    "start_time": "2023-03-30T17:32:19.129Z"
   },
   {
    "duration": 26,
    "start_time": "2023-03-30T17:32:19.137Z"
   },
   {
    "duration": 10,
    "start_time": "2023-03-30T17:32:19.164Z"
   },
   {
    "duration": 33,
    "start_time": "2023-03-30T17:32:19.175Z"
   },
   {
    "duration": 102,
    "start_time": "2023-03-30T17:33:40.062Z"
   },
   {
    "duration": 1283,
    "start_time": "2023-03-30T17:33:52.776Z"
   },
   {
    "duration": 35,
    "start_time": "2023-03-30T17:33:54.060Z"
   },
   {
    "duration": 14,
    "start_time": "2023-03-30T17:33:54.097Z"
   },
   {
    "duration": 3,
    "start_time": "2023-03-30T17:33:54.113Z"
   },
   {
    "duration": 16,
    "start_time": "2023-03-30T17:33:54.117Z"
   },
   {
    "duration": 56,
    "start_time": "2023-03-30T17:33:54.134Z"
   },
   {
    "duration": 4,
    "start_time": "2023-03-30T17:33:54.191Z"
   },
   {
    "duration": 10,
    "start_time": "2023-03-30T17:33:54.196Z"
   },
   {
    "duration": 13,
    "start_time": "2023-03-30T17:33:54.207Z"
   },
   {
    "duration": 6,
    "start_time": "2023-03-30T17:33:54.222Z"
   },
   {
    "duration": 5,
    "start_time": "2023-03-30T17:33:54.229Z"
   },
   {
    "duration": 9,
    "start_time": "2023-03-30T17:33:54.235Z"
   },
   {
    "duration": 6,
    "start_time": "2023-03-30T17:33:54.245Z"
   },
   {
    "duration": 37,
    "start_time": "2023-03-30T17:33:54.252Z"
   },
   {
    "duration": 5,
    "start_time": "2023-03-30T17:33:54.290Z"
   },
   {
    "duration": 8,
    "start_time": "2023-03-30T17:33:54.297Z"
   },
   {
    "duration": 108,
    "start_time": "2023-03-30T17:33:54.306Z"
   },
   {
    "duration": 11,
    "start_time": "2023-03-30T17:34:44.386Z"
   },
   {
    "duration": 4,
    "start_time": "2023-03-30T17:35:42.206Z"
   },
   {
    "duration": 5,
    "start_time": "2023-03-30T17:35:44.570Z"
   },
   {
    "duration": 4,
    "start_time": "2023-03-30T17:35:45.917Z"
   },
   {
    "duration": 10,
    "start_time": "2023-03-30T17:35:46.567Z"
   },
   {
    "duration": 1280,
    "start_time": "2023-03-30T17:36:39.703Z"
   },
   {
    "duration": 36,
    "start_time": "2023-03-30T17:36:40.984Z"
   },
   {
    "duration": 16,
    "start_time": "2023-03-30T17:36:41.022Z"
   },
   {
    "duration": 4,
    "start_time": "2023-03-30T17:36:41.039Z"
   },
   {
    "duration": 12,
    "start_time": "2023-03-30T17:36:41.044Z"
   },
   {
    "duration": 42,
    "start_time": "2023-03-30T17:36:41.058Z"
   },
   {
    "duration": 4,
    "start_time": "2023-03-30T17:36:41.101Z"
   },
   {
    "duration": 5,
    "start_time": "2023-03-30T17:36:41.106Z"
   },
   {
    "duration": 12,
    "start_time": "2023-03-30T17:36:41.112Z"
   },
   {
    "duration": 6,
    "start_time": "2023-03-30T17:36:41.126Z"
   },
   {
    "duration": 3,
    "start_time": "2023-03-30T17:36:41.134Z"
   },
   {
    "duration": 15,
    "start_time": "2023-03-30T17:36:41.138Z"
   },
   {
    "duration": 35,
    "start_time": "2023-03-30T17:36:41.155Z"
   },
   {
    "duration": 116,
    "start_time": "2023-03-30T17:36:41.191Z"
   },
   {
    "duration": 0,
    "start_time": "2023-03-30T17:36:41.308Z"
   },
   {
    "duration": 0,
    "start_time": "2023-03-30T17:36:41.309Z"
   },
   {
    "duration": 12,
    "start_time": "2023-03-30T17:37:25.657Z"
   },
   {
    "duration": 13,
    "start_time": "2023-03-30T17:37:32.856Z"
   },
   {
    "duration": 1245,
    "start_time": "2023-03-30T17:38:00.845Z"
   },
   {
    "duration": 36,
    "start_time": "2023-03-30T17:38:02.092Z"
   },
   {
    "duration": 15,
    "start_time": "2023-03-30T17:38:02.130Z"
   },
   {
    "duration": 13,
    "start_time": "2023-03-30T17:38:02.147Z"
   },
   {
    "duration": 33,
    "start_time": "2023-03-30T17:38:02.161Z"
   },
   {
    "duration": 52,
    "start_time": "2023-03-30T17:38:02.195Z"
   },
   {
    "duration": 5,
    "start_time": "2023-03-30T17:38:02.248Z"
   },
   {
    "duration": 31,
    "start_time": "2023-03-30T17:38:02.254Z"
   },
   {
    "duration": 26,
    "start_time": "2023-03-30T17:38:02.286Z"
   },
   {
    "duration": 21,
    "start_time": "2023-03-30T17:38:02.314Z"
   },
   {
    "duration": 21,
    "start_time": "2023-03-30T17:38:02.336Z"
   },
   {
    "duration": 29,
    "start_time": "2023-03-30T17:38:02.359Z"
   },
   {
    "duration": 23,
    "start_time": "2023-03-30T17:38:02.389Z"
   },
   {
    "duration": 13,
    "start_time": "2023-03-30T17:38:02.414Z"
   },
   {
    "duration": 29,
    "start_time": "2023-03-30T17:38:02.428Z"
   },
   {
    "duration": 9,
    "start_time": "2023-03-30T17:38:02.459Z"
   },
   {
    "duration": 26,
    "start_time": "2023-03-30T17:38:02.470Z"
   },
   {
    "duration": 13,
    "start_time": "2023-03-30T17:38:33.237Z"
   },
   {
    "duration": 117,
    "start_time": "2023-03-30T17:39:08.332Z"
   },
   {
    "duration": 1268,
    "start_time": "2023-03-30T17:39:17.442Z"
   },
   {
    "duration": 37,
    "start_time": "2023-03-30T17:39:18.711Z"
   },
   {
    "duration": 18,
    "start_time": "2023-03-30T17:39:18.750Z"
   },
   {
    "duration": 33,
    "start_time": "2023-03-30T17:39:18.770Z"
   },
   {
    "duration": 19,
    "start_time": "2023-03-30T17:39:18.805Z"
   },
   {
    "duration": 41,
    "start_time": "2023-03-30T17:39:18.826Z"
   },
   {
    "duration": 4,
    "start_time": "2023-03-30T17:39:18.868Z"
   },
   {
    "duration": 13,
    "start_time": "2023-03-30T17:39:18.873Z"
   },
   {
    "duration": 13,
    "start_time": "2023-03-30T17:39:18.888Z"
   },
   {
    "duration": 7,
    "start_time": "2023-03-30T17:39:18.903Z"
   },
   {
    "duration": 9,
    "start_time": "2023-03-30T17:39:18.911Z"
   },
   {
    "duration": 9,
    "start_time": "2023-03-30T17:39:18.922Z"
   },
   {
    "duration": 11,
    "start_time": "2023-03-30T17:39:18.933Z"
   },
   {
    "duration": 7,
    "start_time": "2023-03-30T17:39:18.945Z"
   },
   {
    "duration": 39,
    "start_time": "2023-03-30T17:39:18.954Z"
   },
   {
    "duration": 5,
    "start_time": "2023-03-30T17:39:18.995Z"
   },
   {
    "duration": 20,
    "start_time": "2023-03-30T17:39:19.002Z"
   },
   {
    "duration": 12,
    "start_time": "2023-03-30T17:40:19.655Z"
   },
   {
    "duration": 5,
    "start_time": "2023-03-30T17:40:24.627Z"
   },
   {
    "duration": 107,
    "start_time": "2023-03-30T17:40:25.930Z"
   },
   {
    "duration": 14,
    "start_time": "2023-03-30T17:40:32.368Z"
   },
   {
    "duration": 10,
    "start_time": "2023-03-30T17:40:48.616Z"
   },
   {
    "duration": 3,
    "start_time": "2023-03-30T17:40:55.989Z"
   },
   {
    "duration": 13,
    "start_time": "2023-03-30T17:55:39.382Z"
   },
   {
    "duration": 766,
    "start_time": "2023-03-30T17:56:13.312Z"
   },
   {
    "duration": 13,
    "start_time": "2023-03-30T17:56:29.354Z"
   },
   {
    "duration": 730,
    "start_time": "2023-03-30T17:56:31.035Z"
   },
   {
    "duration": 13,
    "start_time": "2023-03-30T17:56:35.750Z"
   },
   {
    "duration": 47,
    "start_time": "2023-03-30T17:57:36.810Z"
   },
   {
    "duration": 48,
    "start_time": "2023-03-30T17:57:46.891Z"
   },
   {
    "duration": 59,
    "start_time": "2023-03-30T17:58:29.551Z"
   },
   {
    "duration": 49,
    "start_time": "2023-03-30T17:58:41.825Z"
   },
   {
    "duration": 51,
    "start_time": "2023-03-30T17:58:50.048Z"
   },
   {
    "duration": 1343,
    "start_time": "2023-03-30T17:58:58.557Z"
   },
   {
    "duration": 38,
    "start_time": "2023-03-30T17:58:59.902Z"
   },
   {
    "duration": 18,
    "start_time": "2023-03-30T17:58:59.942Z"
   },
   {
    "duration": 3,
    "start_time": "2023-03-30T17:58:59.962Z"
   },
   {
    "duration": 12,
    "start_time": "2023-03-30T17:58:59.967Z"
   },
   {
    "duration": 44,
    "start_time": "2023-03-30T17:58:59.981Z"
   },
   {
    "duration": 4,
    "start_time": "2023-03-30T17:59:00.027Z"
   },
   {
    "duration": 8,
    "start_time": "2023-03-30T17:59:00.033Z"
   },
   {
    "duration": 16,
    "start_time": "2023-03-30T17:59:00.042Z"
   },
   {
    "duration": 29,
    "start_time": "2023-03-30T17:59:00.061Z"
   },
   {
    "duration": 4,
    "start_time": "2023-03-30T17:59:00.092Z"
   },
   {
    "duration": 10,
    "start_time": "2023-03-30T17:59:00.098Z"
   },
   {
    "duration": 21,
    "start_time": "2023-03-30T17:59:00.110Z"
   },
   {
    "duration": 47,
    "start_time": "2023-03-30T17:59:00.133Z"
   },
   {
    "duration": 0,
    "start_time": "2023-03-30T17:59:00.182Z"
   },
   {
    "duration": 0,
    "start_time": "2023-03-30T17:59:00.183Z"
   },
   {
    "duration": 0,
    "start_time": "2023-03-30T17:59:00.184Z"
   },
   {
    "duration": 44,
    "start_time": "2023-03-30T17:59:19.551Z"
   },
   {
    "duration": 99,
    "start_time": "2023-03-30T17:59:32.338Z"
   },
   {
    "duration": 59,
    "start_time": "2023-03-30T17:59:41.699Z"
   },
   {
    "duration": 10,
    "start_time": "2023-03-30T17:59:59.413Z"
   },
   {
    "duration": 9,
    "start_time": "2023-03-30T18:00:10.305Z"
   },
   {
    "duration": 1291,
    "start_time": "2023-03-30T18:00:21.286Z"
   },
   {
    "duration": 35,
    "start_time": "2023-03-30T18:00:22.579Z"
   },
   {
    "duration": 19,
    "start_time": "2023-03-30T18:00:22.616Z"
   },
   {
    "duration": 18,
    "start_time": "2023-03-30T18:00:22.638Z"
   },
   {
    "duration": 23,
    "start_time": "2023-03-30T18:00:22.657Z"
   },
   {
    "duration": 54,
    "start_time": "2023-03-30T18:00:22.681Z"
   },
   {
    "duration": 4,
    "start_time": "2023-03-30T18:00:22.737Z"
   },
   {
    "duration": 6,
    "start_time": "2023-03-30T18:00:22.743Z"
   },
   {
    "duration": 25,
    "start_time": "2023-03-30T18:00:22.751Z"
   },
   {
    "duration": 12,
    "start_time": "2023-03-30T18:00:22.778Z"
   },
   {
    "duration": 9,
    "start_time": "2023-03-30T18:00:22.791Z"
   },
   {
    "duration": 26,
    "start_time": "2023-03-30T18:00:22.801Z"
   },
   {
    "duration": 9,
    "start_time": "2023-03-30T18:00:22.828Z"
   },
   {
    "duration": 24,
    "start_time": "2023-03-30T18:00:22.838Z"
   },
   {
    "duration": 4,
    "start_time": "2023-03-30T18:00:22.863Z"
   },
   {
    "duration": 21,
    "start_time": "2023-03-30T18:00:22.868Z"
   },
   {
    "duration": 7,
    "start_time": "2023-03-30T18:00:22.890Z"
   },
   {
    "duration": 19,
    "start_time": "2023-03-30T18:10:43.256Z"
   },
   {
    "duration": 3,
    "start_time": "2023-03-30T18:11:47.264Z"
   },
   {
    "duration": 1308,
    "start_time": "2023-03-30T18:12:09.491Z"
   },
   {
    "duration": 36,
    "start_time": "2023-03-30T18:12:10.801Z"
   },
   {
    "duration": 16,
    "start_time": "2023-03-30T18:12:10.839Z"
   },
   {
    "duration": 11,
    "start_time": "2023-03-30T18:12:10.856Z"
   },
   {
    "duration": 26,
    "start_time": "2023-03-30T18:12:10.868Z"
   },
   {
    "duration": 43,
    "start_time": "2023-03-30T18:12:10.896Z"
   },
   {
    "duration": 3,
    "start_time": "2023-03-30T18:12:10.941Z"
   },
   {
    "duration": 26,
    "start_time": "2023-03-30T18:12:10.946Z"
   },
   {
    "duration": 21,
    "start_time": "2023-03-30T18:12:10.974Z"
   },
   {
    "duration": 14,
    "start_time": "2023-03-30T18:12:10.997Z"
   },
   {
    "duration": 13,
    "start_time": "2023-03-30T18:12:11.012Z"
   },
   {
    "duration": 26,
    "start_time": "2023-03-30T18:12:11.026Z"
   },
   {
    "duration": 8,
    "start_time": "2023-03-30T18:12:11.054Z"
   },
   {
    "duration": 10,
    "start_time": "2023-03-30T18:12:11.063Z"
   },
   {
    "duration": 27,
    "start_time": "2023-03-30T18:12:11.075Z"
   },
   {
    "duration": 17,
    "start_time": "2023-03-30T18:12:11.103Z"
   },
   {
    "duration": 39,
    "start_time": "2023-03-30T18:12:11.121Z"
   },
   {
    "duration": 18,
    "start_time": "2023-03-30T18:12:11.161Z"
   },
   {
    "duration": 24,
    "start_time": "2023-03-30T18:12:11.181Z"
   },
   {
    "duration": 12,
    "start_time": "2023-03-30T18:12:11.207Z"
   },
   {
    "duration": 2,
    "start_time": "2023-03-30T18:14:26.182Z"
   },
   {
    "duration": 1269,
    "start_time": "2023-03-30T18:16:36.639Z"
   },
   {
    "duration": 38,
    "start_time": "2023-03-30T18:16:37.910Z"
   },
   {
    "duration": 19,
    "start_time": "2023-03-30T18:16:37.950Z"
   },
   {
    "duration": 18,
    "start_time": "2023-03-30T18:16:37.971Z"
   },
   {
    "duration": 31,
    "start_time": "2023-03-30T18:16:37.992Z"
   },
   {
    "duration": 41,
    "start_time": "2023-03-30T18:16:38.025Z"
   },
   {
    "duration": 4,
    "start_time": "2023-03-30T18:16:38.068Z"
   },
   {
    "duration": 6,
    "start_time": "2023-03-30T18:16:38.073Z"
   },
   {
    "duration": 18,
    "start_time": "2023-03-30T18:16:38.081Z"
   },
   {
    "duration": 8,
    "start_time": "2023-03-30T18:16:38.103Z"
   },
   {
    "duration": 4,
    "start_time": "2023-03-30T18:16:38.112Z"
   },
   {
    "duration": 14,
    "start_time": "2023-03-30T18:16:38.118Z"
   },
   {
    "duration": 18,
    "start_time": "2023-03-30T18:16:38.134Z"
   },
   {
    "duration": 10,
    "start_time": "2023-03-30T18:16:38.153Z"
   },
   {
    "duration": 31,
    "start_time": "2023-03-30T18:16:38.164Z"
   },
   {
    "duration": 5,
    "start_time": "2023-03-30T18:16:38.197Z"
   },
   {
    "duration": 12,
    "start_time": "2023-03-30T18:16:38.204Z"
   },
   {
    "duration": 5,
    "start_time": "2023-03-30T18:16:38.217Z"
   },
   {
    "duration": 20,
    "start_time": "2023-03-30T18:16:38.223Z"
   },
   {
    "duration": 3,
    "start_time": "2023-03-30T18:16:38.245Z"
   },
   {
    "duration": 22,
    "start_time": "2023-03-30T18:17:23.178Z"
   },
   {
    "duration": 103,
    "start_time": "2023-03-30T18:22:15.841Z"
   },
   {
    "duration": 10,
    "start_time": "2023-03-30T18:23:12.780Z"
   },
   {
    "duration": 10,
    "start_time": "2023-03-30T18:23:56.308Z"
   },
   {
    "duration": 10,
    "start_time": "2023-03-30T18:24:11.782Z"
   },
   {
    "duration": 11,
    "start_time": "2023-03-30T18:24:26.550Z"
   },
   {
    "duration": 10,
    "start_time": "2023-03-30T18:24:36.101Z"
   },
   {
    "duration": 7236,
    "start_time": "2023-03-30T18:24:54.651Z"
   },
   {
    "duration": 7216,
    "start_time": "2023-03-30T18:25:20.320Z"
   },
   {
    "duration": 1243,
    "start_time": "2023-03-30T18:27:57.848Z"
   },
   {
    "duration": 38,
    "start_time": "2023-03-30T18:27:59.093Z"
   },
   {
    "duration": 16,
    "start_time": "2023-03-30T18:27:59.132Z"
   },
   {
    "duration": 3,
    "start_time": "2023-03-30T18:27:59.149Z"
   },
   {
    "duration": 13,
    "start_time": "2023-03-30T18:27:59.154Z"
   },
   {
    "duration": 42,
    "start_time": "2023-03-30T18:27:59.168Z"
   },
   {
    "duration": 4,
    "start_time": "2023-03-30T18:27:59.212Z"
   },
   {
    "duration": 6,
    "start_time": "2023-03-30T18:27:59.217Z"
   },
   {
    "duration": 11,
    "start_time": "2023-03-30T18:27:59.225Z"
   },
   {
    "duration": 6,
    "start_time": "2023-03-30T18:27:59.238Z"
   },
   {
    "duration": 6,
    "start_time": "2023-03-30T18:27:59.246Z"
   },
   {
    "duration": 41,
    "start_time": "2023-03-30T18:27:59.253Z"
   },
   {
    "duration": 8,
    "start_time": "2023-03-30T18:27:59.296Z"
   },
   {
    "duration": 4,
    "start_time": "2023-03-30T18:27:59.306Z"
   },
   {
    "duration": 15,
    "start_time": "2023-03-30T18:27:59.311Z"
   },
   {
    "duration": 7,
    "start_time": "2023-03-30T18:27:59.328Z"
   },
   {
    "duration": 12,
    "start_time": "2023-03-30T18:27:59.337Z"
   },
   {
    "duration": 41,
    "start_time": "2023-03-30T18:27:59.350Z"
   },
   {
    "duration": 4172,
    "start_time": "2023-03-30T18:27:59.392Z"
   },
   {
    "duration": 17,
    "start_time": "2023-03-30T18:28:03.566Z"
   },
   {
    "duration": 5,
    "start_time": "2023-03-30T18:28:03.585Z"
   },
   {
    "duration": 1249,
    "start_time": "2023-03-30T18:28:49.525Z"
   },
   {
    "duration": 36,
    "start_time": "2023-03-30T18:28:50.776Z"
   },
   {
    "duration": 14,
    "start_time": "2023-03-30T18:28:50.813Z"
   },
   {
    "duration": 3,
    "start_time": "2023-03-30T18:28:50.829Z"
   },
   {
    "duration": 15,
    "start_time": "2023-03-30T18:28:50.833Z"
   },
   {
    "duration": 55,
    "start_time": "2023-03-30T18:28:50.849Z"
   },
   {
    "duration": 3,
    "start_time": "2023-03-30T18:28:50.905Z"
   },
   {
    "duration": 14,
    "start_time": "2023-03-30T18:28:50.909Z"
   },
   {
    "duration": 24,
    "start_time": "2023-03-30T18:28:50.925Z"
   },
   {
    "duration": 20,
    "start_time": "2023-03-30T18:28:50.951Z"
   },
   {
    "duration": 27,
    "start_time": "2023-03-30T18:28:50.972Z"
   },
   {
    "duration": 20,
    "start_time": "2023-03-30T18:28:51.001Z"
   },
   {
    "duration": 14,
    "start_time": "2023-03-30T18:28:51.023Z"
   },
   {
    "duration": 6,
    "start_time": "2023-03-30T18:28:51.038Z"
   },
   {
    "duration": 16,
    "start_time": "2023-03-30T18:28:51.045Z"
   },
   {
    "duration": 5,
    "start_time": "2023-03-30T18:28:51.062Z"
   },
   {
    "duration": 11,
    "start_time": "2023-03-30T18:28:51.068Z"
   },
   {
    "duration": 9,
    "start_time": "2023-03-30T18:28:51.081Z"
   },
   {
    "duration": 4897,
    "start_time": "2023-03-30T18:28:51.091Z"
   },
   {
    "duration": 19,
    "start_time": "2023-03-30T18:28:55.990Z"
   },
   {
    "duration": 4,
    "start_time": "2023-03-30T18:28:56.011Z"
   },
   {
    "duration": 1359,
    "start_time": "2023-03-30T18:41:09.174Z"
   },
   {
    "duration": 38,
    "start_time": "2023-03-30T18:41:10.535Z"
   },
   {
    "duration": 17,
    "start_time": "2023-03-30T18:41:10.575Z"
   },
   {
    "duration": 23,
    "start_time": "2023-03-30T18:41:10.595Z"
   },
   {
    "duration": 34,
    "start_time": "2023-03-30T18:41:10.620Z"
   },
   {
    "duration": 75,
    "start_time": "2023-03-30T18:41:10.656Z"
   },
   {
    "duration": 4,
    "start_time": "2023-03-30T18:41:10.732Z"
   },
   {
    "duration": 39,
    "start_time": "2023-03-30T18:41:10.738Z"
   },
   {
    "duration": 37,
    "start_time": "2023-03-30T18:41:10.778Z"
   },
   {
    "duration": 31,
    "start_time": "2023-03-30T18:41:10.817Z"
   },
   {
    "duration": 18,
    "start_time": "2023-03-30T18:41:10.849Z"
   },
   {
    "duration": 37,
    "start_time": "2023-03-30T18:41:10.868Z"
   },
   {
    "duration": 40,
    "start_time": "2023-03-30T18:41:10.907Z"
   },
   {
    "duration": 24,
    "start_time": "2023-03-30T18:41:10.949Z"
   },
   {
    "duration": 42,
    "start_time": "2023-03-30T18:41:10.975Z"
   },
   {
    "duration": 17,
    "start_time": "2023-03-30T18:41:11.019Z"
   },
   {
    "duration": 32,
    "start_time": "2023-03-30T18:41:11.038Z"
   },
   {
    "duration": 38,
    "start_time": "2023-03-30T18:41:11.072Z"
   },
   {
    "duration": 5284,
    "start_time": "2023-03-30T18:41:11.112Z"
   },
   {
    "duration": 16,
    "start_time": "2023-03-30T18:41:16.398Z"
   },
   {
    "duration": 31,
    "start_time": "2023-03-30T18:41:16.416Z"
   },
   {
    "duration": 5,
    "start_time": "2023-03-30T19:12:42.112Z"
   },
   {
    "duration": 3,
    "start_time": "2023-03-30T19:12:42.901Z"
   },
   {
    "duration": 6,
    "start_time": "2023-03-30T19:25:12.030Z"
   },
   {
    "duration": 6,
    "start_time": "2023-03-30T19:26:49.933Z"
   },
   {
    "duration": 4,
    "start_time": "2023-03-30T19:34:41.131Z"
   },
   {
    "duration": 4,
    "start_time": "2023-03-30T19:35:56.323Z"
   },
   {
    "duration": 105,
    "start_time": "2023-03-30T19:38:06.344Z"
   },
   {
    "duration": 1246,
    "start_time": "2023-03-30T19:38:51.151Z"
   },
   {
    "duration": 37,
    "start_time": "2023-03-30T19:38:52.399Z"
   },
   {
    "duration": 17,
    "start_time": "2023-03-30T19:38:52.438Z"
   },
   {
    "duration": 4,
    "start_time": "2023-03-30T19:38:52.456Z"
   },
   {
    "duration": 23,
    "start_time": "2023-03-30T19:38:52.461Z"
   },
   {
    "duration": 43,
    "start_time": "2023-03-30T19:38:52.485Z"
   },
   {
    "duration": 4,
    "start_time": "2023-03-30T19:38:52.529Z"
   },
   {
    "duration": 7,
    "start_time": "2023-03-30T19:38:52.534Z"
   },
   {
    "duration": 15,
    "start_time": "2023-03-30T19:38:52.542Z"
   },
   {
    "duration": 7,
    "start_time": "2023-03-30T19:38:52.561Z"
   },
   {
    "duration": 5,
    "start_time": "2023-03-30T19:38:52.589Z"
   },
   {
    "duration": 11,
    "start_time": "2023-03-30T19:38:52.595Z"
   },
   {
    "duration": 15,
    "start_time": "2023-03-30T19:38:52.608Z"
   },
   {
    "duration": 5,
    "start_time": "2023-03-30T19:38:52.627Z"
   },
   {
    "duration": 12,
    "start_time": "2023-03-30T19:38:52.634Z"
   },
   {
    "duration": 6,
    "start_time": "2023-03-30T19:38:52.648Z"
   },
   {
    "duration": 43,
    "start_time": "2023-03-30T19:38:52.656Z"
   },
   {
    "duration": 7,
    "start_time": "2023-03-30T19:38:52.701Z"
   },
   {
    "duration": 5049,
    "start_time": "2023-03-30T19:38:52.710Z"
   },
   {
    "duration": 19,
    "start_time": "2023-03-30T19:38:57.761Z"
   },
   {
    "duration": 3,
    "start_time": "2023-03-30T19:38:57.782Z"
   },
   {
    "duration": 5,
    "start_time": "2023-03-30T19:38:57.789Z"
   },
   {
    "duration": 4,
    "start_time": "2023-03-30T19:38:57.795Z"
   },
   {
    "duration": 6,
    "start_time": "2023-03-30T19:38:57.801Z"
   },
   {
    "duration": 7,
    "start_time": "2023-03-30T19:38:57.808Z"
   },
   {
    "duration": 6,
    "start_time": "2023-03-30T19:38:57.817Z"
   },
   {
    "duration": 6,
    "start_time": "2023-03-30T19:38:57.824Z"
   },
   {
    "duration": 12,
    "start_time": "2023-03-30T19:38:57.833Z"
   },
   {
    "duration": 5,
    "start_time": "2023-03-30T19:38:57.846Z"
   },
   {
    "duration": 99,
    "start_time": "2023-03-30T19:40:44.462Z"
   },
   {
    "duration": 4,
    "start_time": "2023-03-30T19:40:58.010Z"
   },
   {
    "duration": 10,
    "start_time": "2023-03-30T19:41:37.288Z"
   },
   {
    "duration": 9,
    "start_time": "2023-03-30T19:41:45.203Z"
   },
   {
    "duration": 9,
    "start_time": "2023-03-30T19:42:10.743Z"
   },
   {
    "duration": 4,
    "start_time": "2023-03-30T19:42:23.095Z"
   },
   {
    "duration": 10,
    "start_time": "2023-03-30T19:42:45.018Z"
   },
   {
    "duration": 10,
    "start_time": "2023-03-30T19:42:49.112Z"
   },
   {
    "duration": 5,
    "start_time": "2023-03-30T20:02:07.866Z"
   },
   {
    "duration": 1274,
    "start_time": "2023-03-30T20:03:56.104Z"
   },
   {
    "duration": 36,
    "start_time": "2023-03-30T20:03:57.381Z"
   },
   {
    "duration": 16,
    "start_time": "2023-03-30T20:03:57.418Z"
   },
   {
    "duration": 3,
    "start_time": "2023-03-30T20:03:57.436Z"
   },
   {
    "duration": 33,
    "start_time": "2023-03-30T20:03:57.441Z"
   },
   {
    "duration": 51,
    "start_time": "2023-03-30T20:03:57.476Z"
   },
   {
    "duration": 3,
    "start_time": "2023-03-30T20:03:57.529Z"
   },
   {
    "duration": 11,
    "start_time": "2023-03-30T20:03:57.533Z"
   },
   {
    "duration": 15,
    "start_time": "2023-03-30T20:03:57.545Z"
   },
   {
    "duration": 6,
    "start_time": "2023-03-30T20:03:57.562Z"
   },
   {
    "duration": 4,
    "start_time": "2023-03-30T20:03:57.569Z"
   },
   {
    "duration": 10,
    "start_time": "2023-03-30T20:03:57.589Z"
   },
   {
    "duration": 6,
    "start_time": "2023-03-30T20:03:57.600Z"
   },
   {
    "duration": 42,
    "start_time": "2023-03-30T20:03:57.607Z"
   },
   {
    "duration": 4,
    "start_time": "2023-03-30T20:03:57.651Z"
   },
   {
    "duration": 46,
    "start_time": "2023-03-30T20:03:57.656Z"
   },
   {
    "duration": 7,
    "start_time": "2023-03-30T20:03:57.704Z"
   },
   {
    "duration": 16,
    "start_time": "2023-03-30T20:03:57.712Z"
   },
   {
    "duration": 9,
    "start_time": "2023-03-30T20:03:57.730Z"
   },
   {
    "duration": 5064,
    "start_time": "2023-03-30T20:03:57.740Z"
   },
   {
    "duration": 16,
    "start_time": "2023-03-30T20:04:02.806Z"
   },
   {
    "duration": 4,
    "start_time": "2023-03-30T20:04:02.823Z"
   },
   {
    "duration": 5,
    "start_time": "2023-03-30T20:04:02.828Z"
   },
   {
    "duration": 2,
    "start_time": "2023-03-30T20:04:02.834Z"
   },
   {
    "duration": 11,
    "start_time": "2023-03-30T20:04:02.838Z"
   },
   {
    "duration": 6,
    "start_time": "2023-03-30T20:04:02.851Z"
   },
   {
    "duration": 13,
    "start_time": "2023-03-30T20:04:02.858Z"
   },
   {
    "duration": 4,
    "start_time": "2023-03-30T20:04:02.888Z"
   },
   {
    "duration": 21,
    "start_time": "2023-03-30T20:04:02.894Z"
   },
   {
    "duration": 11,
    "start_time": "2023-03-30T20:04:02.917Z"
   },
   {
    "duration": 44,
    "start_time": "2023-03-30T20:04:29.975Z"
   },
   {
    "duration": 1320,
    "start_time": "2023-03-30T20:04:39.085Z"
   },
   {
    "duration": 36,
    "start_time": "2023-03-30T20:04:40.407Z"
   },
   {
    "duration": 15,
    "start_time": "2023-03-30T20:04:40.445Z"
   },
   {
    "duration": 3,
    "start_time": "2023-03-30T20:04:40.462Z"
   },
   {
    "duration": 20,
    "start_time": "2023-03-30T20:04:40.467Z"
   },
   {
    "duration": 48,
    "start_time": "2023-03-30T20:04:40.489Z"
   },
   {
    "duration": 3,
    "start_time": "2023-03-30T20:04:40.539Z"
   },
   {
    "duration": 6,
    "start_time": "2023-03-30T20:04:40.543Z"
   },
   {
    "duration": 21,
    "start_time": "2023-03-30T20:04:40.550Z"
   },
   {
    "duration": 17,
    "start_time": "2023-03-30T20:04:40.573Z"
   },
   {
    "duration": 3,
    "start_time": "2023-03-30T20:04:40.592Z"
   },
   {
    "duration": 9,
    "start_time": "2023-03-30T20:04:40.597Z"
   },
   {
    "duration": 6,
    "start_time": "2023-03-30T20:04:40.608Z"
   },
   {
    "duration": 46,
    "start_time": "2023-03-30T20:04:40.617Z"
   },
   {
    "duration": 25,
    "start_time": "2023-03-30T20:04:40.665Z"
   },
   {
    "duration": 12,
    "start_time": "2023-03-30T20:04:40.691Z"
   },
   {
    "duration": 7,
    "start_time": "2023-03-30T20:04:40.704Z"
   },
   {
    "duration": 10,
    "start_time": "2023-03-30T20:04:40.712Z"
   },
   {
    "duration": 5,
    "start_time": "2023-03-30T20:04:40.723Z"
   },
   {
    "duration": 5276,
    "start_time": "2023-03-30T20:04:40.729Z"
   },
   {
    "duration": 19,
    "start_time": "2023-03-30T20:04:46.007Z"
   },
   {
    "duration": 4,
    "start_time": "2023-03-30T20:04:46.028Z"
   },
   {
    "duration": 8,
    "start_time": "2023-03-30T20:04:46.033Z"
   },
   {
    "duration": 4,
    "start_time": "2023-03-30T20:04:46.042Z"
   },
   {
    "duration": 22,
    "start_time": "2023-03-30T20:04:46.047Z"
   },
   {
    "duration": 25,
    "start_time": "2023-03-30T20:04:46.070Z"
   },
   {
    "duration": 4,
    "start_time": "2023-03-30T20:04:46.097Z"
   },
   {
    "duration": 5,
    "start_time": "2023-03-30T20:04:46.102Z"
   },
   {
    "duration": 8,
    "start_time": "2023-03-30T20:04:46.109Z"
   },
   {
    "duration": 4,
    "start_time": "2023-03-30T20:04:46.119Z"
   },
   {
    "duration": 1322,
    "start_time": "2023-03-30T20:05:49.112Z"
   },
   {
    "duration": 37,
    "start_time": "2023-03-30T20:05:50.436Z"
   },
   {
    "duration": 16,
    "start_time": "2023-03-30T20:05:50.474Z"
   },
   {
    "duration": 3,
    "start_time": "2023-03-30T20:05:50.492Z"
   },
   {
    "duration": 20,
    "start_time": "2023-03-30T20:05:50.496Z"
   },
   {
    "duration": 48,
    "start_time": "2023-03-30T20:05:50.518Z"
   },
   {
    "duration": 3,
    "start_time": "2023-03-30T20:05:50.568Z"
   },
   {
    "duration": 7,
    "start_time": "2023-03-30T20:05:50.573Z"
   },
   {
    "duration": 24,
    "start_time": "2023-03-30T20:05:50.582Z"
   },
   {
    "duration": 10,
    "start_time": "2023-03-30T20:05:50.609Z"
   },
   {
    "duration": 5,
    "start_time": "2023-03-30T20:05:50.621Z"
   },
   {
    "duration": 11,
    "start_time": "2023-03-30T20:05:50.628Z"
   },
   {
    "duration": 17,
    "start_time": "2023-03-30T20:05:50.641Z"
   },
   {
    "duration": 4,
    "start_time": "2023-03-30T20:05:50.660Z"
   },
   {
    "duration": 35,
    "start_time": "2023-03-30T20:05:50.665Z"
   },
   {
    "duration": 5,
    "start_time": "2023-03-30T20:05:50.702Z"
   },
   {
    "duration": 15,
    "start_time": "2023-03-30T20:05:50.709Z"
   },
   {
    "duration": 5,
    "start_time": "2023-03-30T20:05:50.725Z"
   },
   {
    "duration": 60,
    "start_time": "2023-03-30T20:05:50.731Z"
   },
   {
    "duration": 4955,
    "start_time": "2023-03-30T20:05:50.792Z"
   },
   {
    "duration": 15,
    "start_time": "2023-03-30T20:05:55.748Z"
   },
   {
    "duration": 3,
    "start_time": "2023-03-30T20:05:55.764Z"
   },
   {
    "duration": 12,
    "start_time": "2023-03-30T20:05:55.768Z"
   },
   {
    "duration": 4,
    "start_time": "2023-03-30T20:05:55.781Z"
   },
   {
    "duration": 6,
    "start_time": "2023-03-30T20:05:55.786Z"
   },
   {
    "duration": 6,
    "start_time": "2023-03-30T20:05:55.793Z"
   },
   {
    "duration": 10,
    "start_time": "2023-03-30T20:05:55.801Z"
   },
   {
    "duration": 8,
    "start_time": "2023-03-30T20:05:55.813Z"
   },
   {
    "duration": 27,
    "start_time": "2023-03-30T20:05:55.822Z"
   },
   {
    "duration": 5,
    "start_time": "2023-03-30T20:05:55.850Z"
   },
   {
    "duration": 35,
    "start_time": "2023-03-30T20:06:23.108Z"
   },
   {
    "duration": 1305,
    "start_time": "2023-03-30T20:06:38.092Z"
   },
   {
    "duration": 37,
    "start_time": "2023-03-30T20:06:39.399Z"
   },
   {
    "duration": 16,
    "start_time": "2023-03-30T20:06:39.437Z"
   },
   {
    "duration": 3,
    "start_time": "2023-03-30T20:06:39.455Z"
   },
   {
    "duration": 14,
    "start_time": "2023-03-30T20:06:39.460Z"
   },
   {
    "duration": 48,
    "start_time": "2023-03-30T20:06:39.475Z"
   },
   {
    "duration": 4,
    "start_time": "2023-03-30T20:06:39.525Z"
   },
   {
    "duration": 12,
    "start_time": "2023-03-30T20:06:39.530Z"
   },
   {
    "duration": 17,
    "start_time": "2023-03-30T20:06:39.544Z"
   },
   {
    "duration": 6,
    "start_time": "2023-03-30T20:06:39.564Z"
   },
   {
    "duration": 18,
    "start_time": "2023-03-30T20:06:39.572Z"
   },
   {
    "duration": 9,
    "start_time": "2023-03-30T20:06:39.591Z"
   },
   {
    "duration": 6,
    "start_time": "2023-03-30T20:06:39.601Z"
   },
   {
    "duration": 3,
    "start_time": "2023-03-30T20:06:39.609Z"
   },
   {
    "duration": 13,
    "start_time": "2023-03-30T20:06:39.613Z"
   },
   {
    "duration": 5,
    "start_time": "2023-03-30T20:06:39.628Z"
   },
   {
    "duration": 16,
    "start_time": "2023-03-30T20:06:39.634Z"
   },
   {
    "duration": 40,
    "start_time": "2023-03-30T20:06:39.651Z"
   },
   {
    "duration": 47,
    "start_time": "2023-03-30T20:06:39.692Z"
   },
   {
    "duration": 5227,
    "start_time": "2023-03-30T20:06:39.741Z"
   },
   {
    "duration": 16,
    "start_time": "2023-03-30T20:06:44.969Z"
   },
   {
    "duration": 16,
    "start_time": "2023-03-30T20:06:44.989Z"
   },
   {
    "duration": 33,
    "start_time": "2023-03-30T20:06:45.007Z"
   },
   {
    "duration": 17,
    "start_time": "2023-03-30T20:06:45.042Z"
   },
   {
    "duration": 10,
    "start_time": "2023-03-30T20:06:45.061Z"
   },
   {
    "duration": 14,
    "start_time": "2023-03-30T20:06:45.073Z"
   },
   {
    "duration": 16,
    "start_time": "2023-03-30T20:06:45.088Z"
   },
   {
    "duration": 8,
    "start_time": "2023-03-30T20:06:45.107Z"
   },
   {
    "duration": 11,
    "start_time": "2023-03-30T20:06:45.117Z"
   },
   {
    "duration": 13,
    "start_time": "2023-03-30T20:06:45.130Z"
   },
   {
    "duration": 1338,
    "start_time": "2023-03-30T20:16:02.331Z"
   },
   {
    "duration": 36,
    "start_time": "2023-03-30T20:16:03.671Z"
   },
   {
    "duration": 15,
    "start_time": "2023-03-30T20:16:03.709Z"
   },
   {
    "duration": 17,
    "start_time": "2023-03-30T20:16:03.725Z"
   },
   {
    "duration": 34,
    "start_time": "2023-03-30T20:16:03.744Z"
   },
   {
    "duration": 39,
    "start_time": "2023-03-30T20:16:03.779Z"
   },
   {
    "duration": 4,
    "start_time": "2023-03-30T20:16:03.820Z"
   },
   {
    "duration": 28,
    "start_time": "2023-03-30T20:16:03.825Z"
   },
   {
    "duration": 16,
    "start_time": "2023-03-30T20:16:03.855Z"
   },
   {
    "duration": 17,
    "start_time": "2023-03-30T20:16:03.873Z"
   },
   {
    "duration": 15,
    "start_time": "2023-03-30T20:16:03.891Z"
   },
   {
    "duration": 10,
    "start_time": "2023-03-30T20:16:03.907Z"
   },
   {
    "duration": 17,
    "start_time": "2023-03-30T20:16:03.919Z"
   },
   {
    "duration": 17,
    "start_time": "2023-03-30T20:16:03.939Z"
   },
   {
    "duration": 5,
    "start_time": "2023-03-30T20:16:03.958Z"
   },
   {
    "duration": 21,
    "start_time": "2023-03-30T20:16:03.964Z"
   },
   {
    "duration": 7,
    "start_time": "2023-03-30T20:16:03.989Z"
   },
   {
    "duration": 36,
    "start_time": "2023-03-30T20:16:03.997Z"
   },
   {
    "duration": 29,
    "start_time": "2023-03-30T20:16:04.035Z"
   },
   {
    "duration": 51,
    "start_time": "2023-03-30T20:16:04.066Z"
   },
   {
    "duration": 5287,
    "start_time": "2023-03-30T20:16:04.119Z"
   },
   {
    "duration": 20,
    "start_time": "2023-03-30T20:16:09.408Z"
   },
   {
    "duration": 4,
    "start_time": "2023-03-30T20:16:09.430Z"
   },
   {
    "duration": 43,
    "start_time": "2023-03-30T20:16:09.437Z"
   },
   {
    "duration": 52,
    "start_time": "2023-03-30T20:16:09.482Z"
   },
   {
    "duration": 15,
    "start_time": "2023-03-30T20:16:09.536Z"
   },
   {
    "duration": 15,
    "start_time": "2023-03-30T20:16:09.553Z"
   },
   {
    "duration": 14,
    "start_time": "2023-03-30T20:16:09.569Z"
   },
   {
    "duration": 5,
    "start_time": "2023-03-30T20:16:09.585Z"
   },
   {
    "duration": 5,
    "start_time": "2023-03-30T20:16:09.592Z"
   },
   {
    "duration": 5,
    "start_time": "2023-03-30T20:16:09.599Z"
   },
   {
    "duration": 1310,
    "start_time": "2023-03-30T20:19:41.274Z"
   },
   {
    "duration": 38,
    "start_time": "2023-03-30T20:19:42.585Z"
   },
   {
    "duration": 16,
    "start_time": "2023-03-30T20:19:42.624Z"
   },
   {
    "duration": 4,
    "start_time": "2023-03-30T20:19:42.642Z"
   },
   {
    "duration": 13,
    "start_time": "2023-03-30T20:19:42.647Z"
   },
   {
    "duration": 50,
    "start_time": "2023-03-30T20:19:42.661Z"
   },
   {
    "duration": 5,
    "start_time": "2023-03-30T20:19:42.713Z"
   },
   {
    "duration": 5,
    "start_time": "2023-03-30T20:19:42.719Z"
   },
   {
    "duration": 5,
    "start_time": "2023-03-30T20:19:42.726Z"
   },
   {
    "duration": 14,
    "start_time": "2023-03-30T20:19:42.734Z"
   },
   {
    "duration": 7,
    "start_time": "2023-03-30T20:19:42.749Z"
   },
   {
    "duration": 33,
    "start_time": "2023-03-30T20:19:42.758Z"
   },
   {
    "duration": 11,
    "start_time": "2023-03-30T20:19:42.793Z"
   },
   {
    "duration": 6,
    "start_time": "2023-03-30T20:19:42.805Z"
   },
   {
    "duration": 3,
    "start_time": "2023-03-30T20:19:42.813Z"
   },
   {
    "duration": 139,
    "start_time": "2023-03-30T20:19:42.817Z"
   },
   {
    "duration": 0,
    "start_time": "2023-03-30T20:19:42.958Z"
   },
   {
    "duration": 0,
    "start_time": "2023-03-30T20:19:42.959Z"
   },
   {
    "duration": 0,
    "start_time": "2023-03-30T20:19:42.961Z"
   },
   {
    "duration": 0,
    "start_time": "2023-03-30T20:19:42.962Z"
   },
   {
    "duration": 0,
    "start_time": "2023-03-30T20:19:42.964Z"
   },
   {
    "duration": 0,
    "start_time": "2023-03-30T20:19:42.965Z"
   },
   {
    "duration": 0,
    "start_time": "2023-03-30T20:19:42.966Z"
   },
   {
    "duration": 0,
    "start_time": "2023-03-30T20:19:42.968Z"
   },
   {
    "duration": 0,
    "start_time": "2023-03-30T20:19:42.992Z"
   },
   {
    "duration": 0,
    "start_time": "2023-03-30T20:19:42.994Z"
   },
   {
    "duration": 0,
    "start_time": "2023-03-30T20:19:42.995Z"
   },
   {
    "duration": 0,
    "start_time": "2023-03-30T20:19:42.996Z"
   },
   {
    "duration": 0,
    "start_time": "2023-03-30T20:19:42.997Z"
   },
   {
    "duration": 0,
    "start_time": "2023-03-30T20:19:42.998Z"
   },
   {
    "duration": 0,
    "start_time": "2023-03-30T20:19:42.999Z"
   },
   {
    "duration": 1239,
    "start_time": "2023-03-30T20:20:34.045Z"
   },
   {
    "duration": 37,
    "start_time": "2023-03-30T20:20:35.286Z"
   },
   {
    "duration": 15,
    "start_time": "2023-03-30T20:20:35.324Z"
   },
   {
    "duration": 3,
    "start_time": "2023-03-30T20:20:35.342Z"
   },
   {
    "duration": 13,
    "start_time": "2023-03-30T20:20:35.347Z"
   },
   {
    "duration": 41,
    "start_time": "2023-03-30T20:20:35.362Z"
   },
   {
    "duration": 4,
    "start_time": "2023-03-30T20:20:35.405Z"
   },
   {
    "duration": 12,
    "start_time": "2023-03-30T20:20:35.410Z"
   },
   {
    "duration": 8,
    "start_time": "2023-03-30T20:20:35.423Z"
   },
   {
    "duration": 22,
    "start_time": "2023-03-30T20:20:35.434Z"
   },
   {
    "duration": 7,
    "start_time": "2023-03-30T20:20:35.458Z"
   },
   {
    "duration": 7,
    "start_time": "2023-03-30T20:20:35.467Z"
   },
   {
    "duration": 24,
    "start_time": "2023-03-30T20:20:35.475Z"
   },
   {
    "duration": 12,
    "start_time": "2023-03-30T20:20:35.500Z"
   },
   {
    "duration": 5,
    "start_time": "2023-03-30T20:20:35.513Z"
   },
   {
    "duration": 12,
    "start_time": "2023-03-30T20:20:35.520Z"
   },
   {
    "duration": 5,
    "start_time": "2023-03-30T20:20:35.534Z"
   },
   {
    "duration": 14,
    "start_time": "2023-03-30T20:20:35.540Z"
   },
   {
    "duration": 17,
    "start_time": "2023-03-30T20:20:35.555Z"
   },
   {
    "duration": 49,
    "start_time": "2023-03-30T20:20:35.574Z"
   },
   {
    "duration": 5119,
    "start_time": "2023-03-30T20:20:35.625Z"
   },
   {
    "duration": 16,
    "start_time": "2023-03-30T20:20:40.746Z"
   },
   {
    "duration": 12,
    "start_time": "2023-03-30T20:20:40.763Z"
   },
   {
    "duration": 10,
    "start_time": "2023-03-30T20:20:40.776Z"
   },
   {
    "duration": 5,
    "start_time": "2023-03-30T20:20:40.788Z"
   },
   {
    "duration": 10,
    "start_time": "2023-03-30T20:20:40.794Z"
   },
   {
    "duration": 9,
    "start_time": "2023-03-30T20:20:40.805Z"
   },
   {
    "duration": 4,
    "start_time": "2023-03-30T20:20:40.817Z"
   },
   {
    "duration": 8,
    "start_time": "2023-03-30T20:20:40.823Z"
   },
   {
    "duration": 6,
    "start_time": "2023-03-30T20:20:40.832Z"
   },
   {
    "duration": 11,
    "start_time": "2023-03-30T20:20:40.839Z"
   },
   {
    "duration": 1282,
    "start_time": "2023-03-30T20:21:31.600Z"
   },
   {
    "duration": 38,
    "start_time": "2023-03-30T20:21:32.884Z"
   },
   {
    "duration": 16,
    "start_time": "2023-03-30T20:21:32.924Z"
   },
   {
    "duration": 11,
    "start_time": "2023-03-30T20:21:32.942Z"
   },
   {
    "duration": 34,
    "start_time": "2023-03-30T20:21:32.955Z"
   },
   {
    "duration": 39,
    "start_time": "2023-03-30T20:21:32.992Z"
   },
   {
    "duration": 4,
    "start_time": "2023-03-30T20:21:33.033Z"
   },
   {
    "duration": 12,
    "start_time": "2023-03-30T20:21:33.038Z"
   },
   {
    "duration": 5,
    "start_time": "2023-03-30T20:21:33.052Z"
   },
   {
    "duration": 36,
    "start_time": "2023-03-30T20:21:33.059Z"
   },
   {
    "duration": 6,
    "start_time": "2023-03-30T20:21:33.097Z"
   },
   {
    "duration": 18,
    "start_time": "2023-03-30T20:21:33.105Z"
   },
   {
    "duration": 26,
    "start_time": "2023-03-30T20:21:33.125Z"
   },
   {
    "duration": 17,
    "start_time": "2023-03-30T20:21:33.155Z"
   },
   {
    "duration": 12,
    "start_time": "2023-03-30T20:21:33.174Z"
   },
   {
    "duration": 30,
    "start_time": "2023-03-30T20:21:33.187Z"
   },
   {
    "duration": 4,
    "start_time": "2023-03-30T20:21:33.218Z"
   },
   {
    "duration": 22,
    "start_time": "2023-03-30T20:21:33.224Z"
   },
   {
    "duration": 10,
    "start_time": "2023-03-30T20:21:33.247Z"
   },
   {
    "duration": 55,
    "start_time": "2023-03-30T20:21:33.258Z"
   },
   {
    "duration": 4914,
    "start_time": "2023-03-30T20:21:33.314Z"
   },
   {
    "duration": 19,
    "start_time": "2023-03-30T20:21:38.230Z"
   },
   {
    "duration": 3,
    "start_time": "2023-03-30T20:21:38.251Z"
   },
   {
    "duration": 7,
    "start_time": "2023-03-30T20:21:38.256Z"
   },
   {
    "duration": 2,
    "start_time": "2023-03-30T20:21:38.264Z"
   },
   {
    "duration": 23,
    "start_time": "2023-03-30T20:21:38.268Z"
   },
   {
    "duration": 5,
    "start_time": "2023-03-30T20:21:38.292Z"
   },
   {
    "duration": 8,
    "start_time": "2023-03-30T20:21:38.298Z"
   },
   {
    "duration": 5,
    "start_time": "2023-03-30T20:21:38.307Z"
   },
   {
    "duration": 5,
    "start_time": "2023-03-30T20:21:38.314Z"
   },
   {
    "duration": 7,
    "start_time": "2023-03-30T20:21:38.320Z"
   },
   {
    "duration": 1674,
    "start_time": "2023-03-31T16:45:19.243Z"
   },
   {
    "duration": 154,
    "start_time": "2023-03-31T16:45:20.920Z"
   },
   {
    "duration": 20,
    "start_time": "2023-03-31T16:45:21.075Z"
   },
   {
    "duration": 4,
    "start_time": "2023-03-31T16:45:21.098Z"
   },
   {
    "duration": 15,
    "start_time": "2023-03-31T16:45:21.104Z"
   },
   {
    "duration": 83,
    "start_time": "2023-03-31T16:45:21.122Z"
   },
   {
    "duration": 6,
    "start_time": "2023-03-31T16:45:21.208Z"
   },
   {
    "duration": 10,
    "start_time": "2023-03-31T16:45:21.217Z"
   },
   {
    "duration": 9,
    "start_time": "2023-03-31T16:45:21.229Z"
   },
   {
    "duration": 21,
    "start_time": "2023-03-31T16:45:21.241Z"
   },
   {
    "duration": 8,
    "start_time": "2023-03-31T16:45:21.287Z"
   },
   {
    "duration": 8,
    "start_time": "2023-03-31T16:45:21.297Z"
   },
   {
    "duration": 13,
    "start_time": "2023-03-31T16:45:21.307Z"
   },
   {
    "duration": 10,
    "start_time": "2023-03-31T16:45:21.322Z"
   },
   {
    "duration": 6,
    "start_time": "2023-03-31T16:45:21.333Z"
   },
   {
    "duration": 17,
    "start_time": "2023-03-31T16:45:21.340Z"
   },
   {
    "duration": 5,
    "start_time": "2023-03-31T16:45:21.388Z"
   },
   {
    "duration": 14,
    "start_time": "2023-03-31T16:45:21.395Z"
   },
   {
    "duration": 5,
    "start_time": "2023-03-31T16:45:21.410Z"
   },
   {
    "duration": 73,
    "start_time": "2023-03-31T16:45:21.417Z"
   },
   {
    "duration": 6180,
    "start_time": "2023-03-31T16:45:21.492Z"
   },
   {
    "duration": 18,
    "start_time": "2023-03-31T16:45:27.674Z"
   },
   {
    "duration": 4,
    "start_time": "2023-03-31T16:45:27.693Z"
   },
   {
    "duration": 7,
    "start_time": "2023-03-31T16:45:27.698Z"
   },
   {
    "duration": 12,
    "start_time": "2023-03-31T16:45:27.706Z"
   },
   {
    "duration": 9,
    "start_time": "2023-03-31T16:45:27.719Z"
   },
   {
    "duration": 5,
    "start_time": "2023-03-31T16:45:27.730Z"
   },
   {
    "duration": 5,
    "start_time": "2023-03-31T16:45:27.738Z"
   },
   {
    "duration": 9,
    "start_time": "2023-03-31T16:45:27.745Z"
   },
   {
    "duration": 11,
    "start_time": "2023-03-31T16:45:27.755Z"
   },
   {
    "duration": 21,
    "start_time": "2023-03-31T16:45:27.767Z"
   },
   {
    "duration": 5,
    "start_time": "2023-03-31T16:47:24.547Z"
   },
   {
    "duration": 1420,
    "start_time": "2023-03-31T16:47:28.133Z"
   },
   {
    "duration": 1430,
    "start_time": "2023-03-31T16:47:36.411Z"
   },
   {
    "duration": 42,
    "start_time": "2023-03-31T16:47:37.843Z"
   },
   {
    "duration": 17,
    "start_time": "2023-03-31T16:47:37.887Z"
   },
   {
    "duration": 10,
    "start_time": "2023-03-31T16:47:37.906Z"
   },
   {
    "duration": 20,
    "start_time": "2023-03-31T16:47:37.918Z"
   },
   {
    "duration": 51,
    "start_time": "2023-03-31T16:47:37.940Z"
   },
   {
    "duration": 4,
    "start_time": "2023-03-31T16:47:37.992Z"
   },
   {
    "duration": 6,
    "start_time": "2023-03-31T16:47:37.998Z"
   },
   {
    "duration": 6,
    "start_time": "2023-03-31T16:47:38.006Z"
   },
   {
    "duration": 14,
    "start_time": "2023-03-31T16:47:38.015Z"
   },
   {
    "duration": 8,
    "start_time": "2023-03-31T16:47:38.031Z"
   },
   {
    "duration": 5,
    "start_time": "2023-03-31T16:47:38.040Z"
   },
   {
    "duration": 1321,
    "start_time": "2023-03-31T16:47:38.047Z"
   },
   {
    "duration": 0,
    "start_time": "2023-03-31T16:47:39.370Z"
   },
   {
    "duration": 0,
    "start_time": "2023-03-31T16:47:39.371Z"
   },
   {
    "duration": 0,
    "start_time": "2023-03-31T16:47:39.372Z"
   },
   {
    "duration": 0,
    "start_time": "2023-03-31T16:47:39.373Z"
   },
   {
    "duration": 0,
    "start_time": "2023-03-31T16:47:39.374Z"
   },
   {
    "duration": 0,
    "start_time": "2023-03-31T16:47:39.375Z"
   },
   {
    "duration": 0,
    "start_time": "2023-03-31T16:47:39.377Z"
   },
   {
    "duration": 0,
    "start_time": "2023-03-31T16:47:39.378Z"
   },
   {
    "duration": 0,
    "start_time": "2023-03-31T16:47:39.379Z"
   },
   {
    "duration": 0,
    "start_time": "2023-03-31T16:47:39.380Z"
   },
   {
    "duration": 0,
    "start_time": "2023-03-31T16:47:39.381Z"
   },
   {
    "duration": 0,
    "start_time": "2023-03-31T16:47:39.382Z"
   },
   {
    "duration": 0,
    "start_time": "2023-03-31T16:47:39.383Z"
   },
   {
    "duration": 0,
    "start_time": "2023-03-31T16:47:39.384Z"
   },
   {
    "duration": 0,
    "start_time": "2023-03-31T16:47:39.385Z"
   },
   {
    "duration": 0,
    "start_time": "2023-03-31T16:47:39.386Z"
   },
   {
    "duration": 0,
    "start_time": "2023-03-31T16:47:39.388Z"
   },
   {
    "duration": 0,
    "start_time": "2023-03-31T16:47:39.389Z"
   },
   {
    "duration": 0,
    "start_time": "2023-03-31T16:47:39.390Z"
   },
   {
    "duration": 1440,
    "start_time": "2023-03-31T16:49:04.124Z"
   },
   {
    "duration": 44,
    "start_time": "2023-03-31T16:49:05.566Z"
   },
   {
    "duration": 18,
    "start_time": "2023-03-31T16:49:05.611Z"
   },
   {
    "duration": 20,
    "start_time": "2023-03-31T16:49:05.632Z"
   },
   {
    "duration": 26,
    "start_time": "2023-03-31T16:49:05.654Z"
   },
   {
    "duration": 61,
    "start_time": "2023-03-31T16:49:05.682Z"
   },
   {
    "duration": 5,
    "start_time": "2023-03-31T16:49:05.745Z"
   },
   {
    "duration": 25,
    "start_time": "2023-03-31T16:49:05.752Z"
   },
   {
    "duration": 10,
    "start_time": "2023-03-31T16:49:05.779Z"
   },
   {
    "duration": 24,
    "start_time": "2023-03-31T16:49:05.792Z"
   },
   {
    "duration": 9,
    "start_time": "2023-03-31T16:49:05.818Z"
   },
   {
    "duration": 15,
    "start_time": "2023-03-31T16:49:05.828Z"
   },
   {
    "duration": 130,
    "start_time": "2023-03-31T16:49:05.845Z"
   },
   {
    "duration": 0,
    "start_time": "2023-03-31T16:49:05.977Z"
   },
   {
    "duration": 0,
    "start_time": "2023-03-31T16:49:05.978Z"
   },
   {
    "duration": 0,
    "start_time": "2023-03-31T16:49:05.979Z"
   },
   {
    "duration": 0,
    "start_time": "2023-03-31T16:49:05.980Z"
   },
   {
    "duration": 0,
    "start_time": "2023-03-31T16:49:05.987Z"
   },
   {
    "duration": 0,
    "start_time": "2023-03-31T16:49:05.989Z"
   },
   {
    "duration": 0,
    "start_time": "2023-03-31T16:49:05.990Z"
   },
   {
    "duration": 0,
    "start_time": "2023-03-31T16:49:05.992Z"
   },
   {
    "duration": 0,
    "start_time": "2023-03-31T16:49:05.992Z"
   },
   {
    "duration": 0,
    "start_time": "2023-03-31T16:49:05.993Z"
   },
   {
    "duration": 0,
    "start_time": "2023-03-31T16:49:05.994Z"
   },
   {
    "duration": 0,
    "start_time": "2023-03-31T16:49:05.995Z"
   },
   {
    "duration": 0,
    "start_time": "2023-03-31T16:49:05.996Z"
   },
   {
    "duration": 0,
    "start_time": "2023-03-31T16:49:05.997Z"
   },
   {
    "duration": 0,
    "start_time": "2023-03-31T16:49:05.998Z"
   },
   {
    "duration": 0,
    "start_time": "2023-03-31T16:49:05.999Z"
   },
   {
    "duration": 0,
    "start_time": "2023-03-31T16:49:06.000Z"
   },
   {
    "duration": 0,
    "start_time": "2023-03-31T16:49:06.001Z"
   },
   {
    "duration": 0,
    "start_time": "2023-03-31T16:49:06.003Z"
   },
   {
    "duration": 14,
    "start_time": "2023-03-31T16:49:27.013Z"
   },
   {
    "duration": 4,
    "start_time": "2023-03-31T16:49:40.191Z"
   },
   {
    "duration": 14,
    "start_time": "2023-03-31T16:49:52.583Z"
   },
   {
    "duration": 1430,
    "start_time": "2023-03-31T16:50:07.403Z"
   },
   {
    "duration": 41,
    "start_time": "2023-03-31T16:50:08.835Z"
   },
   {
    "duration": 17,
    "start_time": "2023-03-31T16:50:08.878Z"
   },
   {
    "duration": 10,
    "start_time": "2023-03-31T16:50:08.897Z"
   },
   {
    "duration": 16,
    "start_time": "2023-03-31T16:50:08.908Z"
   },
   {
    "duration": 42,
    "start_time": "2023-03-31T16:50:08.926Z"
   },
   {
    "duration": 4,
    "start_time": "2023-03-31T16:50:08.987Z"
   },
   {
    "duration": 7,
    "start_time": "2023-03-31T16:50:08.994Z"
   },
   {
    "duration": 11,
    "start_time": "2023-03-31T16:50:09.003Z"
   },
   {
    "duration": 24,
    "start_time": "2023-03-31T16:50:09.018Z"
   },
   {
    "duration": 8,
    "start_time": "2023-03-31T16:50:09.044Z"
   },
   {
    "duration": 9,
    "start_time": "2023-03-31T16:50:09.054Z"
   },
   {
    "duration": 134,
    "start_time": "2023-03-31T16:50:09.087Z"
   },
   {
    "duration": 0,
    "start_time": "2023-03-31T16:50:09.223Z"
   },
   {
    "duration": 0,
    "start_time": "2023-03-31T16:50:09.224Z"
   },
   {
    "duration": 0,
    "start_time": "2023-03-31T16:50:09.225Z"
   },
   {
    "duration": 0,
    "start_time": "2023-03-31T16:50:09.226Z"
   },
   {
    "duration": 0,
    "start_time": "2023-03-31T16:50:09.227Z"
   },
   {
    "duration": 0,
    "start_time": "2023-03-31T16:50:09.228Z"
   },
   {
    "duration": 0,
    "start_time": "2023-03-31T16:50:09.229Z"
   },
   {
    "duration": 0,
    "start_time": "2023-03-31T16:50:09.230Z"
   },
   {
    "duration": 0,
    "start_time": "2023-03-31T16:50:09.231Z"
   },
   {
    "duration": 0,
    "start_time": "2023-03-31T16:50:09.233Z"
   },
   {
    "duration": 0,
    "start_time": "2023-03-31T16:50:09.234Z"
   },
   {
    "duration": 0,
    "start_time": "2023-03-31T16:50:09.235Z"
   },
   {
    "duration": 0,
    "start_time": "2023-03-31T16:50:09.238Z"
   },
   {
    "duration": 0,
    "start_time": "2023-03-31T16:50:09.239Z"
   },
   {
    "duration": 0,
    "start_time": "2023-03-31T16:50:09.240Z"
   },
   {
    "duration": 0,
    "start_time": "2023-03-31T16:50:09.242Z"
   },
   {
    "duration": 0,
    "start_time": "2023-03-31T16:50:09.243Z"
   },
   {
    "duration": 0,
    "start_time": "2023-03-31T16:50:09.244Z"
   },
   {
    "duration": 0,
    "start_time": "2023-03-31T16:50:09.246Z"
   },
   {
    "duration": 1200,
    "start_time": "2023-03-31T16:51:48.965Z"
   },
   {
    "duration": 1203,
    "start_time": "2023-03-31T16:52:04.647Z"
   },
   {
    "duration": 1444,
    "start_time": "2023-03-31T16:55:13.981Z"
   },
   {
    "duration": 44,
    "start_time": "2023-03-31T16:55:15.427Z"
   },
   {
    "duration": 17,
    "start_time": "2023-03-31T16:55:15.472Z"
   },
   {
    "duration": 4,
    "start_time": "2023-03-31T16:55:15.492Z"
   },
   {
    "duration": 17,
    "start_time": "2023-03-31T16:55:15.498Z"
   },
   {
    "duration": 40,
    "start_time": "2023-03-31T16:55:15.517Z"
   },
   {
    "duration": 4,
    "start_time": "2023-03-31T16:55:15.559Z"
   },
   {
    "duration": 6,
    "start_time": "2023-03-31T16:55:15.587Z"
   },
   {
    "duration": 10,
    "start_time": "2023-03-31T16:55:15.595Z"
   },
   {
    "duration": 15,
    "start_time": "2023-03-31T16:55:15.607Z"
   },
   {
    "duration": 10,
    "start_time": "2023-03-31T16:55:15.624Z"
   },
   {
    "duration": 5,
    "start_time": "2023-03-31T16:55:15.636Z"
   },
   {
    "duration": 68,
    "start_time": "2023-03-31T16:55:15.643Z"
   },
   {
    "duration": 12,
    "start_time": "2023-03-31T16:55:15.713Z"
   },
   {
    "duration": 8,
    "start_time": "2023-03-31T16:55:15.727Z"
   },
   {
    "duration": 5,
    "start_time": "2023-03-31T16:55:15.737Z"
   },
   {
    "duration": 16,
    "start_time": "2023-03-31T16:55:15.743Z"
   },
   {
    "duration": 6,
    "start_time": "2023-03-31T16:55:15.788Z"
   },
   {
    "duration": 14,
    "start_time": "2023-03-31T16:55:15.795Z"
   },
   {
    "duration": 5,
    "start_time": "2023-03-31T16:55:15.811Z"
   },
   {
    "duration": 70,
    "start_time": "2023-03-31T16:55:15.818Z"
   },
   {
    "duration": 6040,
    "start_time": "2023-03-31T16:55:15.890Z"
   },
   {
    "duration": 17,
    "start_time": "2023-03-31T16:55:21.932Z"
   },
   {
    "duration": 10,
    "start_time": "2023-03-31T16:55:21.951Z"
   },
   {
    "duration": 9,
    "start_time": "2023-03-31T16:55:21.962Z"
   },
   {
    "duration": 6,
    "start_time": "2023-03-31T16:55:21.973Z"
   },
   {
    "duration": 15,
    "start_time": "2023-03-31T16:55:21.980Z"
   },
   {
    "duration": 6,
    "start_time": "2023-03-31T16:55:21.998Z"
   },
   {
    "duration": 6,
    "start_time": "2023-03-31T16:55:22.006Z"
   },
   {
    "duration": 8,
    "start_time": "2023-03-31T16:55:22.013Z"
   },
   {
    "duration": 25,
    "start_time": "2023-03-31T16:55:22.022Z"
   },
   {
    "duration": 9,
    "start_time": "2023-03-31T16:55:22.048Z"
   },
   {
    "duration": 10,
    "start_time": "2023-03-31T17:04:58.409Z"
   },
   {
    "duration": 1486,
    "start_time": "2023-03-31T17:05:06.279Z"
   },
   {
    "duration": 44,
    "start_time": "2023-03-31T17:05:07.767Z"
   },
   {
    "duration": 17,
    "start_time": "2023-03-31T17:05:07.813Z"
   },
   {
    "duration": 5,
    "start_time": "2023-03-31T17:05:07.831Z"
   },
   {
    "duration": 17,
    "start_time": "2023-03-31T17:05:07.838Z"
   },
   {
    "duration": 57,
    "start_time": "2023-03-31T17:05:07.857Z"
   },
   {
    "duration": 5,
    "start_time": "2023-03-31T17:05:07.915Z"
   },
   {
    "duration": 11,
    "start_time": "2023-03-31T17:05:07.922Z"
   },
   {
    "duration": 7,
    "start_time": "2023-03-31T17:05:07.935Z"
   },
   {
    "duration": 19,
    "start_time": "2023-03-31T17:05:07.944Z"
   },
   {
    "duration": 35,
    "start_time": "2023-03-31T17:05:07.965Z"
   },
   {
    "duration": 8,
    "start_time": "2023-03-31T17:05:08.002Z"
   },
   {
    "duration": 28,
    "start_time": "2023-03-31T17:05:08.012Z"
   },
   {
    "duration": 13,
    "start_time": "2023-03-31T17:05:08.044Z"
   },
   {
    "duration": 32,
    "start_time": "2023-03-31T17:05:08.059Z"
   },
   {
    "duration": 5,
    "start_time": "2023-03-31T17:05:08.094Z"
   },
   {
    "duration": 18,
    "start_time": "2023-03-31T17:05:08.102Z"
   },
   {
    "duration": 7,
    "start_time": "2023-03-31T17:05:08.123Z"
   },
   {
    "duration": 21,
    "start_time": "2023-03-31T17:05:08.132Z"
   },
   {
    "duration": 33,
    "start_time": "2023-03-31T17:05:08.155Z"
   },
   {
    "duration": 56,
    "start_time": "2023-03-31T17:05:08.190Z"
   },
   {
    "duration": 5810,
    "start_time": "2023-03-31T17:05:08.248Z"
   },
   {
    "duration": 18,
    "start_time": "2023-03-31T17:05:14.059Z"
   },
   {
    "duration": 4,
    "start_time": "2023-03-31T17:05:14.079Z"
   },
   {
    "duration": 7,
    "start_time": "2023-03-31T17:05:14.085Z"
   },
   {
    "duration": 4,
    "start_time": "2023-03-31T17:05:14.093Z"
   },
   {
    "duration": 8,
    "start_time": "2023-03-31T17:05:14.098Z"
   },
   {
    "duration": 6,
    "start_time": "2023-03-31T17:05:14.107Z"
   },
   {
    "duration": 8,
    "start_time": "2023-03-31T17:05:14.115Z"
   },
   {
    "duration": 16,
    "start_time": "2023-03-31T17:05:14.125Z"
   },
   {
    "duration": 8,
    "start_time": "2023-03-31T17:05:14.143Z"
   },
   {
    "duration": 7,
    "start_time": "2023-03-31T17:05:14.152Z"
   },
   {
    "duration": 8,
    "start_time": "2023-03-31T17:07:05.172Z"
   },
   {
    "duration": 1480,
    "start_time": "2023-03-31T17:07:10.986Z"
   },
   {
    "duration": 53,
    "start_time": "2023-03-31T17:07:12.468Z"
   },
   {
    "duration": 20,
    "start_time": "2023-03-31T17:07:12.523Z"
   },
   {
    "duration": 5,
    "start_time": "2023-03-31T17:07:12.545Z"
   },
   {
    "duration": 17,
    "start_time": "2023-03-31T17:07:12.551Z"
   },
   {
    "duration": 53,
    "start_time": "2023-03-31T17:07:12.570Z"
   },
   {
    "duration": 4,
    "start_time": "2023-03-31T17:07:12.625Z"
   },
   {
    "duration": 8,
    "start_time": "2023-03-31T17:07:12.631Z"
   },
   {
    "duration": 6,
    "start_time": "2023-03-31T17:07:12.640Z"
   },
   {
    "duration": 18,
    "start_time": "2023-03-31T17:07:12.649Z"
   },
   {
    "duration": 10,
    "start_time": "2023-03-31T17:07:12.687Z"
   },
   {
    "duration": 27,
    "start_time": "2023-03-31T17:07:12.698Z"
   },
   {
    "duration": 22,
    "start_time": "2023-03-31T17:07:12.727Z"
   },
   {
    "duration": 9,
    "start_time": "2023-03-31T17:07:12.750Z"
   },
   {
    "duration": 11,
    "start_time": "2023-03-31T17:07:12.761Z"
   },
   {
    "duration": 15,
    "start_time": "2023-03-31T17:07:12.774Z"
   },
   {
    "duration": 34,
    "start_time": "2023-03-31T17:07:12.792Z"
   },
   {
    "duration": 9,
    "start_time": "2023-03-31T17:07:12.828Z"
   },
   {
    "duration": 19,
    "start_time": "2023-03-31T17:07:12.839Z"
   },
   {
    "duration": 19,
    "start_time": "2023-03-31T17:07:12.859Z"
   },
   {
    "duration": 68,
    "start_time": "2023-03-31T17:07:12.880Z"
   },
   {
    "duration": 5613,
    "start_time": "2023-03-31T17:07:12.950Z"
   },
   {
    "duration": 18,
    "start_time": "2023-03-31T17:07:18.565Z"
   },
   {
    "duration": 12,
    "start_time": "2023-03-31T17:07:18.585Z"
   },
   {
    "duration": 12,
    "start_time": "2023-03-31T17:07:18.599Z"
   },
   {
    "duration": 15,
    "start_time": "2023-03-31T17:07:18.613Z"
   },
   {
    "duration": 7,
    "start_time": "2023-03-31T17:07:18.630Z"
   },
   {
    "duration": 9,
    "start_time": "2023-03-31T17:07:18.641Z"
   },
   {
    "duration": 14,
    "start_time": "2023-03-31T17:07:18.652Z"
   },
   {
    "duration": 13,
    "start_time": "2023-03-31T17:07:18.668Z"
   },
   {
    "duration": 22,
    "start_time": "2023-03-31T17:07:18.683Z"
   },
   {
    "duration": 22,
    "start_time": "2023-03-31T17:07:18.707Z"
   },
   {
    "duration": 1478,
    "start_time": "2023-03-31T17:13:47.529Z"
   },
   {
    "duration": 46,
    "start_time": "2023-03-31T17:13:49.009Z"
   },
   {
    "duration": 21,
    "start_time": "2023-03-31T17:13:49.056Z"
   },
   {
    "duration": 24,
    "start_time": "2023-03-31T17:13:49.079Z"
   },
   {
    "duration": 28,
    "start_time": "2023-03-31T17:13:49.105Z"
   },
   {
    "duration": 51,
    "start_time": "2023-03-31T17:13:49.134Z"
   },
   {
    "duration": 14,
    "start_time": "2023-03-31T17:13:49.187Z"
   },
   {
    "duration": 18,
    "start_time": "2023-03-31T17:13:49.203Z"
   },
   {
    "duration": 6,
    "start_time": "2023-03-31T17:13:49.223Z"
   },
   {
    "duration": 15,
    "start_time": "2023-03-31T17:13:49.231Z"
   },
   {
    "duration": 10,
    "start_time": "2023-03-31T17:13:49.248Z"
   },
   {
    "duration": 12,
    "start_time": "2023-03-31T17:13:49.260Z"
   },
   {
    "duration": 39,
    "start_time": "2023-03-31T17:13:49.274Z"
   },
   {
    "duration": 23,
    "start_time": "2023-03-31T17:13:49.316Z"
   },
   {
    "duration": 9,
    "start_time": "2023-03-31T17:13:49.341Z"
   },
   {
    "duration": 14,
    "start_time": "2023-03-31T17:13:49.352Z"
   },
   {
    "duration": 34,
    "start_time": "2023-03-31T17:13:49.368Z"
   },
   {
    "duration": 6,
    "start_time": "2023-03-31T17:13:49.405Z"
   },
   {
    "duration": 15,
    "start_time": "2023-03-31T17:13:49.413Z"
   },
   {
    "duration": 12,
    "start_time": "2023-03-31T17:13:49.430Z"
   },
   {
    "duration": 65,
    "start_time": "2023-03-31T17:13:49.443Z"
   },
   {
    "duration": 6114,
    "start_time": "2023-03-31T17:13:49.510Z"
   },
   {
    "duration": 18,
    "start_time": "2023-03-31T17:13:55.625Z"
   },
   {
    "duration": 4,
    "start_time": "2023-03-31T17:13:55.645Z"
   },
   {
    "duration": 11,
    "start_time": "2023-03-31T17:13:55.650Z"
   },
   {
    "duration": 9,
    "start_time": "2023-03-31T17:13:55.663Z"
   },
   {
    "duration": 15,
    "start_time": "2023-03-31T17:13:55.674Z"
   },
   {
    "duration": 20,
    "start_time": "2023-03-31T17:13:55.693Z"
   },
   {
    "duration": 20,
    "start_time": "2023-03-31T17:13:55.715Z"
   },
   {
    "duration": 21,
    "start_time": "2023-03-31T17:13:55.737Z"
   },
   {
    "duration": 9,
    "start_time": "2023-03-31T17:13:55.760Z"
   },
   {
    "duration": 7,
    "start_time": "2023-03-31T17:13:55.771Z"
   },
   {
    "duration": 1498,
    "start_time": "2023-03-31T17:27:12.700Z"
   },
   {
    "duration": 42,
    "start_time": "2023-03-31T17:27:14.201Z"
   },
   {
    "duration": 17,
    "start_time": "2023-03-31T17:27:14.245Z"
   },
   {
    "duration": 6,
    "start_time": "2023-03-31T17:27:14.264Z"
   },
   {
    "duration": 21,
    "start_time": "2023-03-31T17:27:14.272Z"
   },
   {
    "duration": 39,
    "start_time": "2023-03-31T17:27:14.299Z"
   },
   {
    "duration": 3,
    "start_time": "2023-03-31T17:27:14.340Z"
   },
   {
    "duration": 5,
    "start_time": "2023-03-31T17:27:14.345Z"
   },
   {
    "duration": 11,
    "start_time": "2023-03-31T17:27:14.351Z"
   },
   {
    "duration": 20,
    "start_time": "2023-03-31T17:27:14.363Z"
   },
   {
    "duration": 18,
    "start_time": "2023-03-31T17:27:14.387Z"
   },
   {
    "duration": 6,
    "start_time": "2023-03-31T17:27:14.407Z"
   },
   {
    "duration": 25,
    "start_time": "2023-03-31T17:27:14.415Z"
   },
   {
    "duration": 162,
    "start_time": "2023-03-31T17:27:14.443Z"
   },
   {
    "duration": 0,
    "start_time": "2023-03-31T17:27:14.609Z"
   },
   {
    "duration": 0,
    "start_time": "2023-03-31T17:27:14.610Z"
   },
   {
    "duration": 0,
    "start_time": "2023-03-31T17:27:14.611Z"
   },
   {
    "duration": 0,
    "start_time": "2023-03-31T17:27:14.612Z"
   },
   {
    "duration": 0,
    "start_time": "2023-03-31T17:27:14.613Z"
   },
   {
    "duration": 0,
    "start_time": "2023-03-31T17:27:14.614Z"
   },
   {
    "duration": 0,
    "start_time": "2023-03-31T17:27:14.615Z"
   },
   {
    "duration": 0,
    "start_time": "2023-03-31T17:27:14.616Z"
   },
   {
    "duration": 0,
    "start_time": "2023-03-31T17:27:14.617Z"
   },
   {
    "duration": 0,
    "start_time": "2023-03-31T17:27:14.618Z"
   },
   {
    "duration": 0,
    "start_time": "2023-03-31T17:27:14.619Z"
   },
   {
    "duration": 0,
    "start_time": "2023-03-31T17:27:14.620Z"
   },
   {
    "duration": 0,
    "start_time": "2023-03-31T17:27:14.621Z"
   },
   {
    "duration": 0,
    "start_time": "2023-03-31T17:27:14.622Z"
   },
   {
    "duration": 0,
    "start_time": "2023-03-31T17:27:14.623Z"
   },
   {
    "duration": 0,
    "start_time": "2023-03-31T17:27:14.624Z"
   },
   {
    "duration": 0,
    "start_time": "2023-03-31T17:27:14.626Z"
   },
   {
    "duration": 0,
    "start_time": "2023-03-31T17:27:14.627Z"
   },
   {
    "duration": 1484,
    "start_time": "2023-03-31T17:29:24.414Z"
   },
   {
    "duration": 41,
    "start_time": "2023-03-31T17:29:25.900Z"
   },
   {
    "duration": 17,
    "start_time": "2023-03-31T17:29:25.943Z"
   },
   {
    "duration": 4,
    "start_time": "2023-03-31T17:29:25.961Z"
   },
   {
    "duration": 13,
    "start_time": "2023-03-31T17:29:25.967Z"
   },
   {
    "duration": 48,
    "start_time": "2023-03-31T17:29:25.981Z"
   },
   {
    "duration": 4,
    "start_time": "2023-03-31T17:29:26.031Z"
   },
   {
    "duration": 8,
    "start_time": "2023-03-31T17:29:26.037Z"
   },
   {
    "duration": 8,
    "start_time": "2023-03-31T17:29:26.046Z"
   },
   {
    "duration": 41,
    "start_time": "2023-03-31T17:29:26.056Z"
   },
   {
    "duration": 7,
    "start_time": "2023-03-31T17:29:26.099Z"
   },
   {
    "duration": 10,
    "start_time": "2023-03-31T17:29:26.108Z"
   },
   {
    "duration": 20,
    "start_time": "2023-03-31T17:29:26.120Z"
   },
   {
    "duration": 8,
    "start_time": "2023-03-31T17:29:26.143Z"
   },
   {
    "duration": 7,
    "start_time": "2023-03-31T17:29:26.153Z"
   },
   {
    "duration": 3,
    "start_time": "2023-03-31T17:29:26.162Z"
   },
   {
    "duration": 17,
    "start_time": "2023-03-31T17:29:26.194Z"
   },
   {
    "duration": 5,
    "start_time": "2023-03-31T17:29:26.213Z"
   },
   {
    "duration": 13,
    "start_time": "2023-03-31T17:29:26.220Z"
   },
   {
    "duration": 9,
    "start_time": "2023-03-31T17:29:26.235Z"
   },
   {
    "duration": 75,
    "start_time": "2023-03-31T17:29:26.245Z"
   },
   {
    "duration": 6184,
    "start_time": "2023-03-31T17:29:26.322Z"
   },
   {
    "duration": 19,
    "start_time": "2023-03-31T17:29:32.508Z"
   },
   {
    "duration": 4,
    "start_time": "2023-03-31T17:29:32.528Z"
   },
   {
    "duration": 7,
    "start_time": "2023-03-31T17:29:32.534Z"
   },
   {
    "duration": 9,
    "start_time": "2023-03-31T17:29:32.542Z"
   },
   {
    "duration": 13,
    "start_time": "2023-03-31T17:29:32.552Z"
   },
   {
    "duration": 27,
    "start_time": "2023-03-31T17:29:32.567Z"
   },
   {
    "duration": 9,
    "start_time": "2023-03-31T17:29:32.596Z"
   },
   {
    "duration": 11,
    "start_time": "2023-03-31T17:29:32.607Z"
   },
   {
    "duration": 12,
    "start_time": "2023-03-31T17:29:32.620Z"
   },
   {
    "duration": 10,
    "start_time": "2023-03-31T17:29:32.634Z"
   },
   {
    "duration": 1470,
    "start_time": "2023-03-31T17:35:00.579Z"
   },
   {
    "duration": 47,
    "start_time": "2023-03-31T17:35:02.051Z"
   },
   {
    "duration": 18,
    "start_time": "2023-03-31T17:35:02.099Z"
   },
   {
    "duration": 32,
    "start_time": "2023-03-31T17:35:02.119Z"
   },
   {
    "duration": 76,
    "start_time": "2023-03-31T17:35:02.157Z"
   },
   {
    "duration": 51,
    "start_time": "2023-03-31T17:35:02.235Z"
   },
   {
    "duration": 4,
    "start_time": "2023-03-31T17:35:02.288Z"
   },
   {
    "duration": 20,
    "start_time": "2023-03-31T17:35:02.294Z"
   },
   {
    "duration": 35,
    "start_time": "2023-03-31T17:35:02.315Z"
   },
   {
    "duration": 29,
    "start_time": "2023-03-31T17:35:02.352Z"
   },
   {
    "duration": 9,
    "start_time": "2023-03-31T17:35:02.383Z"
   },
   {
    "duration": 12,
    "start_time": "2023-03-31T17:35:02.393Z"
   },
   {
    "duration": 40,
    "start_time": "2023-03-31T17:35:02.407Z"
   },
   {
    "duration": 206,
    "start_time": "2023-03-31T17:35:02.450Z"
   },
   {
    "duration": 0,
    "start_time": "2023-03-31T17:35:02.658Z"
   },
   {
    "duration": 0,
    "start_time": "2023-03-31T17:35:02.659Z"
   },
   {
    "duration": 0,
    "start_time": "2023-03-31T17:35:02.660Z"
   },
   {
    "duration": 0,
    "start_time": "2023-03-31T17:35:02.661Z"
   },
   {
    "duration": 0,
    "start_time": "2023-03-31T17:35:02.662Z"
   },
   {
    "duration": 0,
    "start_time": "2023-03-31T17:35:02.663Z"
   },
   {
    "duration": 0,
    "start_time": "2023-03-31T17:35:02.665Z"
   },
   {
    "duration": 0,
    "start_time": "2023-03-31T17:35:02.666Z"
   },
   {
    "duration": 0,
    "start_time": "2023-03-31T17:35:02.667Z"
   },
   {
    "duration": 0,
    "start_time": "2023-03-31T17:35:02.668Z"
   },
   {
    "duration": 0,
    "start_time": "2023-03-31T17:35:02.670Z"
   },
   {
    "duration": 0,
    "start_time": "2023-03-31T17:35:02.671Z"
   },
   {
    "duration": 0,
    "start_time": "2023-03-31T17:35:02.673Z"
   },
   {
    "duration": 0,
    "start_time": "2023-03-31T17:35:02.674Z"
   },
   {
    "duration": 0,
    "start_time": "2023-03-31T17:35:02.675Z"
   },
   {
    "duration": 0,
    "start_time": "2023-03-31T17:35:02.677Z"
   },
   {
    "duration": 0,
    "start_time": "2023-03-31T17:35:02.678Z"
   },
   {
    "duration": 0,
    "start_time": "2023-03-31T17:35:02.679Z"
   },
   {
    "duration": 1614,
    "start_time": "2023-03-31T17:37:49.928Z"
   },
   {
    "duration": 55,
    "start_time": "2023-03-31T17:37:51.545Z"
   },
   {
    "duration": 18,
    "start_time": "2023-03-31T17:37:51.603Z"
   },
   {
    "duration": 11,
    "start_time": "2023-03-31T17:37:51.624Z"
   },
   {
    "duration": 24,
    "start_time": "2023-03-31T17:37:51.637Z"
   },
   {
    "duration": 72,
    "start_time": "2023-03-31T17:37:51.663Z"
   },
   {
    "duration": 5,
    "start_time": "2023-03-31T17:37:51.737Z"
   },
   {
    "duration": 12,
    "start_time": "2023-03-31T17:37:51.743Z"
   },
   {
    "duration": 13,
    "start_time": "2023-03-31T17:37:51.757Z"
   },
   {
    "duration": 19,
    "start_time": "2023-03-31T17:37:51.792Z"
   },
   {
    "duration": 20,
    "start_time": "2023-03-31T17:37:51.813Z"
   },
   {
    "duration": 6,
    "start_time": "2023-03-31T17:37:51.835Z"
   },
   {
    "duration": 24,
    "start_time": "2023-03-31T17:37:51.842Z"
   },
   {
    "duration": 148,
    "start_time": "2023-03-31T17:37:51.868Z"
   },
   {
    "duration": 0,
    "start_time": "2023-03-31T17:37:52.019Z"
   },
   {
    "duration": 0,
    "start_time": "2023-03-31T17:37:52.022Z"
   },
   {
    "duration": 0,
    "start_time": "2023-03-31T17:37:52.024Z"
   },
   {
    "duration": 0,
    "start_time": "2023-03-31T17:37:52.025Z"
   },
   {
    "duration": 0,
    "start_time": "2023-03-31T17:37:52.026Z"
   },
   {
    "duration": 0,
    "start_time": "2023-03-31T17:37:52.028Z"
   },
   {
    "duration": 0,
    "start_time": "2023-03-31T17:37:52.029Z"
   },
   {
    "duration": 0,
    "start_time": "2023-03-31T17:37:52.030Z"
   },
   {
    "duration": 0,
    "start_time": "2023-03-31T17:37:52.032Z"
   },
   {
    "duration": 0,
    "start_time": "2023-03-31T17:37:52.033Z"
   },
   {
    "duration": 0,
    "start_time": "2023-03-31T17:37:52.035Z"
   },
   {
    "duration": 0,
    "start_time": "2023-03-31T17:37:52.036Z"
   },
   {
    "duration": 0,
    "start_time": "2023-03-31T17:37:52.038Z"
   },
   {
    "duration": 0,
    "start_time": "2023-03-31T17:37:52.039Z"
   },
   {
    "duration": 0,
    "start_time": "2023-03-31T17:37:52.042Z"
   },
   {
    "duration": 0,
    "start_time": "2023-03-31T17:37:52.045Z"
   },
   {
    "duration": 0,
    "start_time": "2023-03-31T17:37:52.047Z"
   },
   {
    "duration": 0,
    "start_time": "2023-03-31T17:37:52.047Z"
   },
   {
    "duration": 1461,
    "start_time": "2023-03-31T17:38:21.020Z"
   },
   {
    "duration": 49,
    "start_time": "2023-03-31T17:38:22.483Z"
   },
   {
    "duration": 18,
    "start_time": "2023-03-31T17:38:22.535Z"
   },
   {
    "duration": 4,
    "start_time": "2023-03-31T17:38:22.555Z"
   },
   {
    "duration": 16,
    "start_time": "2023-03-31T17:38:22.560Z"
   },
   {
    "duration": 49,
    "start_time": "2023-03-31T17:38:22.577Z"
   },
   {
    "duration": 4,
    "start_time": "2023-03-31T17:38:22.628Z"
   },
   {
    "duration": 8,
    "start_time": "2023-03-31T17:38:22.633Z"
   },
   {
    "duration": 7,
    "start_time": "2023-03-31T17:38:22.643Z"
   },
   {
    "duration": 15,
    "start_time": "2023-03-31T17:38:22.652Z"
   },
   {
    "duration": 27,
    "start_time": "2023-03-31T17:38:22.668Z"
   },
   {
    "duration": 22,
    "start_time": "2023-03-31T17:38:22.699Z"
   },
   {
    "duration": 20,
    "start_time": "2023-03-31T17:38:22.723Z"
   },
   {
    "duration": 79,
    "start_time": "2023-03-31T17:38:22.745Z"
   },
   {
    "duration": 0,
    "start_time": "2023-03-31T17:38:22.826Z"
   },
   {
    "duration": 0,
    "start_time": "2023-03-31T17:38:22.827Z"
   },
   {
    "duration": 0,
    "start_time": "2023-03-31T17:38:22.828Z"
   },
   {
    "duration": 0,
    "start_time": "2023-03-31T17:38:22.829Z"
   },
   {
    "duration": 0,
    "start_time": "2023-03-31T17:38:22.830Z"
   },
   {
    "duration": 0,
    "start_time": "2023-03-31T17:38:22.831Z"
   },
   {
    "duration": 0,
    "start_time": "2023-03-31T17:38:22.832Z"
   },
   {
    "duration": 0,
    "start_time": "2023-03-31T17:38:22.833Z"
   },
   {
    "duration": 0,
    "start_time": "2023-03-31T17:38:22.834Z"
   },
   {
    "duration": 0,
    "start_time": "2023-03-31T17:38:22.835Z"
   },
   {
    "duration": 0,
    "start_time": "2023-03-31T17:38:22.836Z"
   },
   {
    "duration": 0,
    "start_time": "2023-03-31T17:38:22.837Z"
   },
   {
    "duration": 0,
    "start_time": "2023-03-31T17:38:22.838Z"
   },
   {
    "duration": 0,
    "start_time": "2023-03-31T17:38:22.840Z"
   },
   {
    "duration": 0,
    "start_time": "2023-03-31T17:38:22.840Z"
   },
   {
    "duration": 0,
    "start_time": "2023-03-31T17:38:22.842Z"
   },
   {
    "duration": 0,
    "start_time": "2023-03-31T17:38:22.843Z"
   },
   {
    "duration": 0,
    "start_time": "2023-03-31T17:38:22.844Z"
   },
   {
    "duration": 1589,
    "start_time": "2023-03-31T17:39:52.477Z"
   },
   {
    "duration": 62,
    "start_time": "2023-03-31T17:39:54.068Z"
   },
   {
    "duration": 18,
    "start_time": "2023-03-31T17:39:54.132Z"
   },
   {
    "duration": 12,
    "start_time": "2023-03-31T17:39:54.152Z"
   },
   {
    "duration": 17,
    "start_time": "2023-03-31T17:39:54.166Z"
   },
   {
    "duration": 63,
    "start_time": "2023-03-31T17:39:54.184Z"
   },
   {
    "duration": 4,
    "start_time": "2023-03-31T17:39:54.248Z"
   },
   {
    "duration": 6,
    "start_time": "2023-03-31T17:39:54.254Z"
   },
   {
    "duration": 8,
    "start_time": "2023-03-31T17:39:54.262Z"
   },
   {
    "duration": 36,
    "start_time": "2023-03-31T17:39:54.273Z"
   },
   {
    "duration": 11,
    "start_time": "2023-03-31T17:39:54.311Z"
   },
   {
    "duration": 9,
    "start_time": "2023-03-31T17:39:54.324Z"
   },
   {
    "duration": 30,
    "start_time": "2023-03-31T17:39:54.334Z"
   },
   {
    "duration": 6,
    "start_time": "2023-03-31T17:39:54.365Z"
   },
   {
    "duration": 163,
    "start_time": "2023-03-31T17:39:54.373Z"
   },
   {
    "duration": 0,
    "start_time": "2023-03-31T17:39:54.539Z"
   },
   {
    "duration": 0,
    "start_time": "2023-03-31T17:39:54.540Z"
   },
   {
    "duration": 0,
    "start_time": "2023-03-31T17:39:54.541Z"
   },
   {
    "duration": 0,
    "start_time": "2023-03-31T17:39:54.542Z"
   },
   {
    "duration": 0,
    "start_time": "2023-03-31T17:39:54.543Z"
   },
   {
    "duration": 0,
    "start_time": "2023-03-31T17:39:54.544Z"
   },
   {
    "duration": 0,
    "start_time": "2023-03-31T17:39:54.545Z"
   },
   {
    "duration": 0,
    "start_time": "2023-03-31T17:39:54.546Z"
   },
   {
    "duration": 0,
    "start_time": "2023-03-31T17:39:54.547Z"
   },
   {
    "duration": 0,
    "start_time": "2023-03-31T17:39:54.548Z"
   },
   {
    "duration": 0,
    "start_time": "2023-03-31T17:39:54.549Z"
   },
   {
    "duration": 0,
    "start_time": "2023-03-31T17:39:54.550Z"
   },
   {
    "duration": 0,
    "start_time": "2023-03-31T17:39:54.551Z"
   },
   {
    "duration": 0,
    "start_time": "2023-03-31T17:39:54.552Z"
   },
   {
    "duration": 0,
    "start_time": "2023-03-31T17:39:54.553Z"
   },
   {
    "duration": 0,
    "start_time": "2023-03-31T17:39:54.554Z"
   },
   {
    "duration": 0,
    "start_time": "2023-03-31T17:39:54.555Z"
   },
   {
    "duration": 0,
    "start_time": "2023-03-31T17:39:54.556Z"
   },
   {
    "duration": 0,
    "start_time": "2023-03-31T17:39:54.557Z"
   },
   {
    "duration": 0,
    "start_time": "2023-03-31T17:39:54.558Z"
   },
   {
    "duration": 1669,
    "start_time": "2023-03-31T17:40:39.367Z"
   },
   {
    "duration": 42,
    "start_time": "2023-03-31T17:40:41.039Z"
   },
   {
    "duration": 45,
    "start_time": "2023-03-31T17:40:41.083Z"
   },
   {
    "duration": 4,
    "start_time": "2023-03-31T17:40:41.133Z"
   },
   {
    "duration": 18,
    "start_time": "2023-03-31T17:40:41.139Z"
   },
   {
    "duration": 59,
    "start_time": "2023-03-31T17:40:41.158Z"
   },
   {
    "duration": 5,
    "start_time": "2023-03-31T17:40:41.226Z"
   },
   {
    "duration": 11,
    "start_time": "2023-03-31T17:40:41.236Z"
   },
   {
    "duration": 7,
    "start_time": "2023-03-31T17:40:41.249Z"
   },
   {
    "duration": 14,
    "start_time": "2023-03-31T17:40:41.259Z"
   },
   {
    "duration": 9,
    "start_time": "2023-03-31T17:40:41.274Z"
   },
   {
    "duration": 46,
    "start_time": "2023-03-31T17:40:41.287Z"
   },
   {
    "duration": 24,
    "start_time": "2023-03-31T17:40:41.335Z"
   },
   {
    "duration": 6,
    "start_time": "2023-03-31T17:40:41.361Z"
   },
   {
    "duration": 207,
    "start_time": "2023-03-31T17:40:41.368Z"
   },
   {
    "duration": 0,
    "start_time": "2023-03-31T17:40:41.577Z"
   },
   {
    "duration": 0,
    "start_time": "2023-03-31T17:40:41.579Z"
   },
   {
    "duration": 0,
    "start_time": "2023-03-31T17:40:41.580Z"
   },
   {
    "duration": 0,
    "start_time": "2023-03-31T17:40:41.581Z"
   },
   {
    "duration": 0,
    "start_time": "2023-03-31T17:40:41.582Z"
   },
   {
    "duration": 0,
    "start_time": "2023-03-31T17:40:41.583Z"
   },
   {
    "duration": 0,
    "start_time": "2023-03-31T17:40:41.584Z"
   },
   {
    "duration": 0,
    "start_time": "2023-03-31T17:40:41.585Z"
   },
   {
    "duration": 1,
    "start_time": "2023-03-31T17:40:41.585Z"
   },
   {
    "duration": 0,
    "start_time": "2023-03-31T17:40:41.586Z"
   },
   {
    "duration": 0,
    "start_time": "2023-03-31T17:40:41.587Z"
   },
   {
    "duration": 0,
    "start_time": "2023-03-31T17:40:41.588Z"
   },
   {
    "duration": 0,
    "start_time": "2023-03-31T17:40:41.588Z"
   },
   {
    "duration": 0,
    "start_time": "2023-03-31T17:40:41.589Z"
   },
   {
    "duration": 0,
    "start_time": "2023-03-31T17:40:41.590Z"
   },
   {
    "duration": 0,
    "start_time": "2023-03-31T17:40:41.590Z"
   },
   {
    "duration": 0,
    "start_time": "2023-03-31T17:40:41.591Z"
   },
   {
    "duration": 0,
    "start_time": "2023-03-31T17:40:41.592Z"
   },
   {
    "duration": 0,
    "start_time": "2023-03-31T17:40:41.593Z"
   },
   {
    "duration": 0,
    "start_time": "2023-03-31T17:40:41.607Z"
   },
   {
    "duration": 1605,
    "start_time": "2023-03-31T17:41:48.926Z"
   },
   {
    "duration": 64,
    "start_time": "2023-03-31T17:41:50.538Z"
   },
   {
    "duration": 27,
    "start_time": "2023-03-31T17:41:50.610Z"
   },
   {
    "duration": 15,
    "start_time": "2023-03-31T17:41:50.639Z"
   },
   {
    "duration": 41,
    "start_time": "2023-03-31T17:41:50.657Z"
   },
   {
    "duration": 103,
    "start_time": "2023-03-31T17:41:50.700Z"
   },
   {
    "duration": 11,
    "start_time": "2023-03-31T17:41:50.812Z"
   },
   {
    "duration": 28,
    "start_time": "2023-03-31T17:41:50.825Z"
   },
   {
    "duration": 12,
    "start_time": "2023-03-31T17:41:50.854Z"
   },
   {
    "duration": 37,
    "start_time": "2023-03-31T17:41:50.868Z"
   },
   {
    "duration": 36,
    "start_time": "2023-03-31T17:41:50.907Z"
   },
   {
    "duration": 12,
    "start_time": "2023-03-31T17:41:50.945Z"
   },
   {
    "duration": 65,
    "start_time": "2023-03-31T17:41:50.959Z"
   },
   {
    "duration": 19,
    "start_time": "2023-03-31T17:41:51.027Z"
   },
   {
    "duration": 6,
    "start_time": "2023-03-31T17:41:51.048Z"
   },
   {
    "duration": 0,
    "start_time": "2023-03-31T17:41:51.056Z"
   },
   {
    "duration": 0,
    "start_time": "2023-03-31T17:41:51.057Z"
   },
   {
    "duration": 0,
    "start_time": "2023-03-31T17:41:51.059Z"
   },
   {
    "duration": 0,
    "start_time": "2023-03-31T17:41:51.060Z"
   },
   {
    "duration": 0,
    "start_time": "2023-03-31T17:41:51.061Z"
   },
   {
    "duration": 0,
    "start_time": "2023-03-31T17:41:51.062Z"
   },
   {
    "duration": 0,
    "start_time": "2023-03-31T17:41:51.064Z"
   },
   {
    "duration": 0,
    "start_time": "2023-03-31T17:41:51.066Z"
   },
   {
    "duration": 0,
    "start_time": "2023-03-31T17:41:51.067Z"
   },
   {
    "duration": 0,
    "start_time": "2023-03-31T17:41:51.068Z"
   },
   {
    "duration": 0,
    "start_time": "2023-03-31T17:41:51.069Z"
   },
   {
    "duration": 0,
    "start_time": "2023-03-31T17:41:51.070Z"
   },
   {
    "duration": 0,
    "start_time": "2023-03-31T17:41:51.072Z"
   },
   {
    "duration": 0,
    "start_time": "2023-03-31T17:41:51.073Z"
   },
   {
    "duration": 0,
    "start_time": "2023-03-31T17:41:51.074Z"
   },
   {
    "duration": 0,
    "start_time": "2023-03-31T17:41:51.075Z"
   },
   {
    "duration": 0,
    "start_time": "2023-03-31T17:41:51.076Z"
   },
   {
    "duration": 0,
    "start_time": "2023-03-31T17:41:51.093Z"
   },
   {
    "duration": 0,
    "start_time": "2023-03-31T17:41:51.094Z"
   },
   {
    "duration": 0,
    "start_time": "2023-03-31T17:41:51.095Z"
   },
   {
    "duration": 1529,
    "start_time": "2023-03-31T17:42:19.230Z"
   },
   {
    "duration": 66,
    "start_time": "2023-03-31T17:42:20.762Z"
   },
   {
    "duration": 22,
    "start_time": "2023-03-31T17:42:20.836Z"
   },
   {
    "duration": 22,
    "start_time": "2023-03-31T17:42:20.860Z"
   },
   {
    "duration": 84,
    "start_time": "2023-03-31T17:42:20.884Z"
   },
   {
    "duration": 104,
    "start_time": "2023-03-31T17:42:20.970Z"
   },
   {
    "duration": 3,
    "start_time": "2023-03-31T17:42:21.076Z"
   },
   {
    "duration": 53,
    "start_time": "2023-03-31T17:42:21.081Z"
   },
   {
    "duration": 34,
    "start_time": "2023-03-31T17:42:21.136Z"
   },
   {
    "duration": 31,
    "start_time": "2023-03-31T17:42:21.172Z"
   },
   {
    "duration": 46,
    "start_time": "2023-03-31T17:42:21.205Z"
   },
   {
    "duration": 4,
    "start_time": "2023-03-31T17:42:21.254Z"
   },
   {
    "duration": 64,
    "start_time": "2023-03-31T17:42:21.260Z"
   },
   {
    "duration": 7,
    "start_time": "2023-03-31T17:42:21.328Z"
   },
   {
    "duration": 2079,
    "start_time": "2023-03-31T17:42:21.336Z"
   },
   {
    "duration": 0,
    "start_time": "2023-03-31T17:42:23.417Z"
   },
   {
    "duration": 0,
    "start_time": "2023-03-31T17:42:23.419Z"
   },
   {
    "duration": 0,
    "start_time": "2023-03-31T17:42:23.421Z"
   },
   {
    "duration": 0,
    "start_time": "2023-03-31T17:42:23.423Z"
   },
   {
    "duration": 0,
    "start_time": "2023-03-31T17:42:23.424Z"
   },
   {
    "duration": 0,
    "start_time": "2023-03-31T17:42:23.428Z"
   },
   {
    "duration": 0,
    "start_time": "2023-03-31T17:42:23.429Z"
   },
   {
    "duration": 0,
    "start_time": "2023-03-31T17:42:23.430Z"
   },
   {
    "duration": 0,
    "start_time": "2023-03-31T17:42:23.431Z"
   },
   {
    "duration": 0,
    "start_time": "2023-03-31T17:42:23.432Z"
   },
   {
    "duration": 0,
    "start_time": "2023-03-31T17:42:23.434Z"
   },
   {
    "duration": 0,
    "start_time": "2023-03-31T17:42:23.435Z"
   },
   {
    "duration": 0,
    "start_time": "2023-03-31T17:42:23.436Z"
   },
   {
    "duration": 0,
    "start_time": "2023-03-31T17:42:23.438Z"
   },
   {
    "duration": 0,
    "start_time": "2023-03-31T17:42:23.440Z"
   },
   {
    "duration": 0,
    "start_time": "2023-03-31T17:42:23.442Z"
   },
   {
    "duration": 0,
    "start_time": "2023-03-31T17:42:23.443Z"
   },
   {
    "duration": 0,
    "start_time": "2023-03-31T17:42:23.444Z"
   },
   {
    "duration": 0,
    "start_time": "2023-03-31T17:42:23.445Z"
   },
   {
    "duration": 0,
    "start_time": "2023-03-31T17:42:23.447Z"
   },
   {
    "duration": 1624,
    "start_time": "2023-03-31T17:43:00.814Z"
   },
   {
    "duration": 60,
    "start_time": "2023-03-31T17:43:02.439Z"
   },
   {
    "duration": 27,
    "start_time": "2023-03-31T17:43:02.501Z"
   },
   {
    "duration": 5,
    "start_time": "2023-03-31T17:43:02.541Z"
   },
   {
    "duration": 19,
    "start_time": "2023-03-31T17:43:02.549Z"
   },
   {
    "duration": 60,
    "start_time": "2023-03-31T17:43:02.570Z"
   },
   {
    "duration": 5,
    "start_time": "2023-03-31T17:43:02.634Z"
   },
   {
    "duration": 6,
    "start_time": "2023-03-31T17:43:02.641Z"
   },
   {
    "duration": 6,
    "start_time": "2023-03-31T17:43:02.649Z"
   },
   {
    "duration": 14,
    "start_time": "2023-03-31T17:43:02.658Z"
   },
   {
    "duration": 14,
    "start_time": "2023-03-31T17:43:02.674Z"
   },
   {
    "duration": 7,
    "start_time": "2023-03-31T17:43:02.694Z"
   },
   {
    "duration": 50,
    "start_time": "2023-03-31T17:43:02.702Z"
   },
   {
    "duration": 6,
    "start_time": "2023-03-31T17:43:02.753Z"
   },
   {
    "duration": 1848,
    "start_time": "2023-03-31T17:43:02.761Z"
   },
   {
    "duration": 0,
    "start_time": "2023-03-31T17:43:04.611Z"
   },
   {
    "duration": 0,
    "start_time": "2023-03-31T17:43:04.612Z"
   },
   {
    "duration": 0,
    "start_time": "2023-03-31T17:43:04.614Z"
   },
   {
    "duration": 0,
    "start_time": "2023-03-31T17:43:04.615Z"
   },
   {
    "duration": 0,
    "start_time": "2023-03-31T17:43:04.616Z"
   },
   {
    "duration": 0,
    "start_time": "2023-03-31T17:43:04.617Z"
   },
   {
    "duration": 1,
    "start_time": "2023-03-31T17:43:04.620Z"
   },
   {
    "duration": 0,
    "start_time": "2023-03-31T17:43:04.622Z"
   },
   {
    "duration": 0,
    "start_time": "2023-03-31T17:43:04.623Z"
   },
   {
    "duration": 0,
    "start_time": "2023-03-31T17:43:04.624Z"
   },
   {
    "duration": 0,
    "start_time": "2023-03-31T17:43:04.625Z"
   },
   {
    "duration": 1,
    "start_time": "2023-03-31T17:43:04.626Z"
   },
   {
    "duration": 0,
    "start_time": "2023-03-31T17:43:04.628Z"
   },
   {
    "duration": 0,
    "start_time": "2023-03-31T17:43:04.629Z"
   },
   {
    "duration": 0,
    "start_time": "2023-03-31T17:43:04.631Z"
   },
   {
    "duration": 0,
    "start_time": "2023-03-31T17:43:04.631Z"
   },
   {
    "duration": 0,
    "start_time": "2023-03-31T17:43:04.632Z"
   },
   {
    "duration": 0,
    "start_time": "2023-03-31T17:43:04.633Z"
   },
   {
    "duration": 0,
    "start_time": "2023-03-31T17:43:04.634Z"
   },
   {
    "duration": 0,
    "start_time": "2023-03-31T17:43:04.635Z"
   },
   {
    "duration": 1528,
    "start_time": "2023-03-31T17:44:35.415Z"
   },
   {
    "duration": 55,
    "start_time": "2023-03-31T17:44:36.945Z"
   },
   {
    "duration": 25,
    "start_time": "2023-03-31T17:44:37.006Z"
   },
   {
    "duration": 4,
    "start_time": "2023-03-31T17:44:37.033Z"
   },
   {
    "duration": 16,
    "start_time": "2023-03-31T17:44:37.040Z"
   },
   {
    "duration": 43,
    "start_time": "2023-03-31T17:44:37.058Z"
   },
   {
    "duration": 16,
    "start_time": "2023-03-31T17:44:37.103Z"
   },
   {
    "duration": 19,
    "start_time": "2023-03-31T17:44:37.120Z"
   },
   {
    "duration": 8,
    "start_time": "2023-03-31T17:44:37.140Z"
   },
   {
    "duration": 17,
    "start_time": "2023-03-31T17:44:37.149Z"
   },
   {
    "duration": 8,
    "start_time": "2023-03-31T17:44:37.168Z"
   },
   {
    "duration": 52,
    "start_time": "2023-03-31T17:44:37.178Z"
   },
   {
    "duration": 24,
    "start_time": "2023-03-31T17:44:37.231Z"
   },
   {
    "duration": 7,
    "start_time": "2023-03-31T17:44:37.258Z"
   },
   {
    "duration": 1808,
    "start_time": "2023-03-31T17:44:37.267Z"
   },
   {
    "duration": 0,
    "start_time": "2023-03-31T17:44:39.077Z"
   },
   {
    "duration": 0,
    "start_time": "2023-03-31T17:44:39.078Z"
   },
   {
    "duration": 0,
    "start_time": "2023-03-31T17:44:39.079Z"
   },
   {
    "duration": 0,
    "start_time": "2023-03-31T17:44:39.080Z"
   },
   {
    "duration": 0,
    "start_time": "2023-03-31T17:44:39.081Z"
   },
   {
    "duration": 0,
    "start_time": "2023-03-31T17:44:39.082Z"
   },
   {
    "duration": 0,
    "start_time": "2023-03-31T17:44:39.083Z"
   },
   {
    "duration": 0,
    "start_time": "2023-03-31T17:44:39.084Z"
   },
   {
    "duration": 0,
    "start_time": "2023-03-31T17:44:39.086Z"
   },
   {
    "duration": 0,
    "start_time": "2023-03-31T17:44:39.090Z"
   },
   {
    "duration": 0,
    "start_time": "2023-03-31T17:44:39.097Z"
   },
   {
    "duration": 0,
    "start_time": "2023-03-31T17:44:39.098Z"
   },
   {
    "duration": 0,
    "start_time": "2023-03-31T17:44:39.098Z"
   },
   {
    "duration": 0,
    "start_time": "2023-03-31T17:44:39.099Z"
   },
   {
    "duration": 0,
    "start_time": "2023-03-31T17:44:39.100Z"
   },
   {
    "duration": 0,
    "start_time": "2023-03-31T17:44:39.101Z"
   },
   {
    "duration": 0,
    "start_time": "2023-03-31T17:44:39.102Z"
   },
   {
    "duration": 0,
    "start_time": "2023-03-31T17:44:39.103Z"
   },
   {
    "duration": 0,
    "start_time": "2023-03-31T17:44:39.104Z"
   },
   {
    "duration": 0,
    "start_time": "2023-03-31T17:44:39.104Z"
   },
   {
    "duration": 1830,
    "start_time": "2023-03-31T17:46:09.929Z"
   },
   {
    "duration": 58,
    "start_time": "2023-03-31T17:46:11.761Z"
   },
   {
    "duration": 18,
    "start_time": "2023-03-31T17:46:11.829Z"
   },
   {
    "duration": 4,
    "start_time": "2023-03-31T17:46:11.849Z"
   },
   {
    "duration": 16,
    "start_time": "2023-03-31T17:46:11.854Z"
   },
   {
    "duration": 58,
    "start_time": "2023-03-31T17:46:11.871Z"
   },
   {
    "duration": 5,
    "start_time": "2023-03-31T17:46:11.934Z"
   },
   {
    "duration": 6,
    "start_time": "2023-03-31T17:46:11.940Z"
   },
   {
    "duration": 10,
    "start_time": "2023-03-31T17:46:11.949Z"
   },
   {
    "duration": 16,
    "start_time": "2023-03-31T17:46:11.962Z"
   },
   {
    "duration": 19,
    "start_time": "2023-03-31T17:46:11.979Z"
   },
   {
    "duration": 40,
    "start_time": "2023-03-31T17:46:12.001Z"
   },
   {
    "duration": 22,
    "start_time": "2023-03-31T17:46:12.043Z"
   },
   {
    "duration": 6,
    "start_time": "2023-03-31T17:46:12.067Z"
   },
   {
    "duration": 2005,
    "start_time": "2023-03-31T17:46:12.074Z"
   },
   {
    "duration": 0,
    "start_time": "2023-03-31T17:46:14.082Z"
   },
   {
    "duration": 0,
    "start_time": "2023-03-31T17:46:14.083Z"
   },
   {
    "duration": 0,
    "start_time": "2023-03-31T17:46:14.085Z"
   },
   {
    "duration": 0,
    "start_time": "2023-03-31T17:46:14.087Z"
   },
   {
    "duration": 0,
    "start_time": "2023-03-31T17:46:14.089Z"
   },
   {
    "duration": 0,
    "start_time": "2023-03-31T17:46:14.089Z"
   },
   {
    "duration": 0,
    "start_time": "2023-03-31T17:46:14.090Z"
   },
   {
    "duration": 0,
    "start_time": "2023-03-31T17:46:14.091Z"
   },
   {
    "duration": 0,
    "start_time": "2023-03-31T17:46:14.091Z"
   },
   {
    "duration": 0,
    "start_time": "2023-03-31T17:46:14.092Z"
   },
   {
    "duration": 0,
    "start_time": "2023-03-31T17:46:14.093Z"
   },
   {
    "duration": 0,
    "start_time": "2023-03-31T17:46:14.094Z"
   },
   {
    "duration": 0,
    "start_time": "2023-03-31T17:46:14.094Z"
   },
   {
    "duration": 0,
    "start_time": "2023-03-31T17:46:14.095Z"
   },
   {
    "duration": 0,
    "start_time": "2023-03-31T17:46:14.096Z"
   },
   {
    "duration": 0,
    "start_time": "2023-03-31T17:46:14.096Z"
   },
   {
    "duration": 0,
    "start_time": "2023-03-31T17:46:14.103Z"
   },
   {
    "duration": 0,
    "start_time": "2023-03-31T17:46:14.104Z"
   },
   {
    "duration": 0,
    "start_time": "2023-03-31T17:46:14.105Z"
   },
   {
    "duration": 1646,
    "start_time": "2023-03-31T17:47:05.427Z"
   },
   {
    "duration": 71,
    "start_time": "2023-03-31T17:47:07.075Z"
   },
   {
    "duration": 18,
    "start_time": "2023-03-31T17:47:07.148Z"
   },
   {
    "duration": 5,
    "start_time": "2023-03-31T17:47:07.168Z"
   },
   {
    "duration": 36,
    "start_time": "2023-03-31T17:47:07.175Z"
   },
   {
    "duration": 64,
    "start_time": "2023-03-31T17:47:07.215Z"
   },
   {
    "duration": 4,
    "start_time": "2023-03-31T17:47:07.280Z"
   },
   {
    "duration": 44,
    "start_time": "2023-03-31T17:47:07.286Z"
   },
   {
    "duration": 6,
    "start_time": "2023-03-31T17:47:07.332Z"
   },
   {
    "duration": 14,
    "start_time": "2023-03-31T17:47:07.339Z"
   },
   {
    "duration": 6,
    "start_time": "2023-03-31T17:47:07.355Z"
   },
   {
    "duration": 5,
    "start_time": "2023-03-31T17:47:07.363Z"
   },
   {
    "duration": 26,
    "start_time": "2023-03-31T17:47:07.369Z"
   },
   {
    "duration": 8,
    "start_time": "2023-03-31T17:47:07.399Z"
   },
   {
    "duration": 25,
    "start_time": "2023-03-31T17:47:07.409Z"
   },
   {
    "duration": 8,
    "start_time": "2023-03-31T17:47:07.436Z"
   },
   {
    "duration": 14,
    "start_time": "2023-03-31T17:47:07.445Z"
   },
   {
    "duration": 4,
    "start_time": "2023-03-31T17:47:07.461Z"
   },
   {
    "duration": 16,
    "start_time": "2023-03-31T17:47:07.466Z"
   },
   {
    "duration": 21,
    "start_time": "2023-03-31T17:47:07.484Z"
   },
   {
    "duration": 45,
    "start_time": "2023-03-31T17:47:07.508Z"
   },
   {
    "duration": 7,
    "start_time": "2023-03-31T17:47:07.554Z"
   },
   {
    "duration": 63,
    "start_time": "2023-03-31T17:47:07.562Z"
   },
   {
    "duration": 6583,
    "start_time": "2023-03-31T17:47:07.628Z"
   },
   {
    "duration": 27,
    "start_time": "2023-03-31T17:47:14.213Z"
   },
   {
    "duration": 7,
    "start_time": "2023-03-31T17:47:14.243Z"
   },
   {
    "duration": 13,
    "start_time": "2023-03-31T17:47:14.252Z"
   },
   {
    "duration": 2,
    "start_time": "2023-03-31T17:47:14.267Z"
   },
   {
    "duration": 8,
    "start_time": "2023-03-31T17:47:14.271Z"
   },
   {
    "duration": 49,
    "start_time": "2023-03-31T17:47:14.280Z"
   },
   {
    "duration": 11,
    "start_time": "2023-03-31T17:47:14.331Z"
   },
   {
    "duration": 23,
    "start_time": "2023-03-31T17:47:14.344Z"
   },
   {
    "duration": 11,
    "start_time": "2023-03-31T17:47:14.370Z"
   },
   {
    "duration": 28,
    "start_time": "2023-03-31T17:47:14.383Z"
   },
   {
    "duration": 308,
    "start_time": "2023-03-31T17:50:38.906Z"
   },
   {
    "duration": 542,
    "start_time": "2023-03-31T17:51:08.623Z"
   },
   {
    "duration": 115,
    "start_time": "2023-03-31T17:53:08.456Z"
   },
   {
    "duration": 230,
    "start_time": "2023-03-31T17:53:14.981Z"
   },
   {
    "duration": 294,
    "start_time": "2023-03-31T17:55:27.787Z"
   },
   {
    "duration": 290,
    "start_time": "2023-03-31T18:01:02.643Z"
   },
   {
    "duration": 205,
    "start_time": "2023-03-31T18:02:16.323Z"
   },
   {
    "duration": 284,
    "start_time": "2023-03-31T18:02:24.639Z"
   },
   {
    "duration": 1593,
    "start_time": "2023-03-31T18:02:35.447Z"
   },
   {
    "duration": 41,
    "start_time": "2023-03-31T18:02:37.043Z"
   },
   {
    "duration": 37,
    "start_time": "2023-03-31T18:02:37.086Z"
   },
   {
    "duration": 14,
    "start_time": "2023-03-31T18:02:37.130Z"
   },
   {
    "duration": 14,
    "start_time": "2023-03-31T18:02:37.146Z"
   },
   {
    "duration": 58,
    "start_time": "2023-03-31T18:02:37.161Z"
   },
   {
    "duration": 5,
    "start_time": "2023-03-31T18:02:37.224Z"
   },
   {
    "duration": 15,
    "start_time": "2023-03-31T18:02:37.230Z"
   },
   {
    "duration": 7,
    "start_time": "2023-03-31T18:02:37.247Z"
   },
   {
    "duration": 15,
    "start_time": "2023-03-31T18:02:37.257Z"
   },
   {
    "duration": 8,
    "start_time": "2023-03-31T18:02:37.273Z"
   },
   {
    "duration": 23,
    "start_time": "2023-03-31T18:02:37.283Z"
   },
   {
    "duration": 44,
    "start_time": "2023-03-31T18:02:37.307Z"
   },
   {
    "duration": 7,
    "start_time": "2023-03-31T18:02:37.353Z"
   },
   {
    "duration": 14,
    "start_time": "2023-03-31T18:02:37.362Z"
   },
   {
    "duration": 9,
    "start_time": "2023-03-31T18:02:37.378Z"
   },
   {
    "duration": 46,
    "start_time": "2023-03-31T18:02:37.388Z"
   },
   {
    "duration": 7,
    "start_time": "2023-03-31T18:02:37.436Z"
   },
   {
    "duration": 15,
    "start_time": "2023-03-31T18:02:37.445Z"
   },
   {
    "duration": 5,
    "start_time": "2023-03-31T18:02:37.462Z"
   },
   {
    "duration": 41,
    "start_time": "2023-03-31T18:02:37.468Z"
   },
   {
    "duration": 23,
    "start_time": "2023-03-31T18:02:37.511Z"
   },
   {
    "duration": 47,
    "start_time": "2023-03-31T18:02:37.535Z"
   },
   {
    "duration": 6819,
    "start_time": "2023-03-31T18:02:37.584Z"
   },
   {
    "duration": 220,
    "start_time": "2023-03-31T18:02:44.405Z"
   },
   {
    "duration": 267,
    "start_time": "2023-03-31T18:02:44.628Z"
   },
   {
    "duration": 23,
    "start_time": "2023-03-31T18:02:44.903Z"
   },
   {
    "duration": 7,
    "start_time": "2023-03-31T18:02:44.930Z"
   },
   {
    "duration": 7,
    "start_time": "2023-03-31T18:02:44.938Z"
   },
   {
    "duration": 6,
    "start_time": "2023-03-31T18:02:44.947Z"
   },
   {
    "duration": 8,
    "start_time": "2023-03-31T18:02:44.955Z"
   },
   {
    "duration": 9,
    "start_time": "2023-03-31T18:02:44.964Z"
   },
   {
    "duration": 24,
    "start_time": "2023-03-31T18:02:44.975Z"
   },
   {
    "duration": 36,
    "start_time": "2023-03-31T18:02:45.001Z"
   },
   {
    "duration": 8,
    "start_time": "2023-03-31T18:02:45.039Z"
   },
   {
    "duration": 23,
    "start_time": "2023-03-31T18:02:45.049Z"
   },
   {
    "duration": 1636,
    "start_time": "2023-03-31T18:03:24.975Z"
   },
   {
    "duration": 47,
    "start_time": "2023-03-31T18:03:26.617Z"
   },
   {
    "duration": 16,
    "start_time": "2023-03-31T18:03:26.666Z"
   },
   {
    "duration": 47,
    "start_time": "2023-03-31T18:03:26.684Z"
   },
   {
    "duration": 29,
    "start_time": "2023-03-31T18:03:26.733Z"
   },
   {
    "duration": 66,
    "start_time": "2023-03-31T18:03:26.764Z"
   },
   {
    "duration": 8,
    "start_time": "2023-03-31T18:03:26.833Z"
   },
   {
    "duration": 23,
    "start_time": "2023-03-31T18:03:26.842Z"
   },
   {
    "duration": 16,
    "start_time": "2023-03-31T18:03:26.866Z"
   },
   {
    "duration": 60,
    "start_time": "2023-03-31T18:03:26.885Z"
   },
   {
    "duration": 10,
    "start_time": "2023-03-31T18:03:26.946Z"
   },
   {
    "duration": 12,
    "start_time": "2023-03-31T18:03:26.958Z"
   },
   {
    "duration": 31,
    "start_time": "2023-03-31T18:03:26.972Z"
   },
   {
    "duration": 13,
    "start_time": "2023-03-31T18:03:27.009Z"
   },
   {
    "duration": 9,
    "start_time": "2023-03-31T18:03:27.024Z"
   },
   {
    "duration": 10,
    "start_time": "2023-03-31T18:03:27.035Z"
   },
   {
    "duration": 8,
    "start_time": "2023-03-31T18:03:27.047Z"
   },
   {
    "duration": 6,
    "start_time": "2023-03-31T18:03:27.056Z"
   },
   {
    "duration": 17,
    "start_time": "2023-03-31T18:03:27.064Z"
   },
   {
    "duration": 7,
    "start_time": "2023-03-31T18:03:27.086Z"
   },
   {
    "duration": 58,
    "start_time": "2023-03-31T18:03:27.095Z"
   },
   {
    "duration": 180,
    "start_time": "2023-03-31T18:03:27.155Z"
   },
   {
    "duration": 47,
    "start_time": "2023-03-31T18:03:27.338Z"
   },
   {
    "duration": 6820,
    "start_time": "2023-03-31T18:03:27.387Z"
   },
   {
    "duration": 23,
    "start_time": "2023-03-31T18:03:34.209Z"
   },
   {
    "duration": 21,
    "start_time": "2023-03-31T18:03:34.234Z"
   },
   {
    "duration": 8,
    "start_time": "2023-03-31T18:03:34.257Z"
   },
   {
    "duration": 7,
    "start_time": "2023-03-31T18:03:34.268Z"
   },
   {
    "duration": 72,
    "start_time": "2023-03-31T18:03:34.278Z"
   },
   {
    "duration": 17,
    "start_time": "2023-03-31T18:03:34.352Z"
   },
   {
    "duration": 14,
    "start_time": "2023-03-31T18:03:34.371Z"
   },
   {
    "duration": 49,
    "start_time": "2023-03-31T18:03:34.387Z"
   },
   {
    "duration": 23,
    "start_time": "2023-03-31T18:03:34.438Z"
   },
   {
    "duration": 7,
    "start_time": "2023-03-31T18:03:34.462Z"
   },
   {
    "duration": 1625,
    "start_time": "2023-03-31T19:05:34.760Z"
   },
   {
    "duration": 0,
    "start_time": "2023-03-31T19:05:36.395Z"
   },
   {
    "duration": 0,
    "start_time": "2023-03-31T19:05:36.396Z"
   },
   {
    "duration": 0,
    "start_time": "2023-03-31T19:05:36.397Z"
   },
   {
    "duration": 0,
    "start_time": "2023-03-31T19:05:36.399Z"
   },
   {
    "duration": 0,
    "start_time": "2023-03-31T19:05:36.400Z"
   },
   {
    "duration": 0,
    "start_time": "2023-03-31T19:05:36.405Z"
   },
   {
    "duration": 0,
    "start_time": "2023-03-31T19:05:36.406Z"
   },
   {
    "duration": 0,
    "start_time": "2023-03-31T19:05:36.416Z"
   },
   {
    "duration": 0,
    "start_time": "2023-03-31T19:05:36.416Z"
   },
   {
    "duration": 0,
    "start_time": "2023-03-31T19:05:36.417Z"
   },
   {
    "duration": 0,
    "start_time": "2023-03-31T19:05:36.424Z"
   },
   {
    "duration": 0,
    "start_time": "2023-03-31T19:05:36.425Z"
   },
   {
    "duration": 0,
    "start_time": "2023-03-31T19:05:36.426Z"
   },
   {
    "duration": 0,
    "start_time": "2023-03-31T19:05:36.428Z"
   },
   {
    "duration": 0,
    "start_time": "2023-03-31T19:05:36.429Z"
   },
   {
    "duration": 0,
    "start_time": "2023-03-31T19:05:36.430Z"
   },
   {
    "duration": 0,
    "start_time": "2023-03-31T19:05:36.433Z"
   },
   {
    "duration": 0,
    "start_time": "2023-03-31T19:05:36.434Z"
   },
   {
    "duration": 0,
    "start_time": "2023-03-31T19:05:36.436Z"
   },
   {
    "duration": 0,
    "start_time": "2023-03-31T19:05:36.438Z"
   },
   {
    "duration": 0,
    "start_time": "2023-03-31T19:05:36.439Z"
   },
   {
    "duration": 0,
    "start_time": "2023-03-31T19:05:36.440Z"
   },
   {
    "duration": 0,
    "start_time": "2023-03-31T19:05:36.441Z"
   },
   {
    "duration": 0,
    "start_time": "2023-03-31T19:05:36.443Z"
   },
   {
    "duration": 0,
    "start_time": "2023-03-31T19:05:36.446Z"
   },
   {
    "duration": 0,
    "start_time": "2023-03-31T19:05:36.448Z"
   },
   {
    "duration": 0,
    "start_time": "2023-03-31T19:05:36.449Z"
   },
   {
    "duration": 0,
    "start_time": "2023-03-31T19:05:36.487Z"
   },
   {
    "duration": 0,
    "start_time": "2023-03-31T19:05:36.488Z"
   },
   {
    "duration": 0,
    "start_time": "2023-03-31T19:05:36.488Z"
   },
   {
    "duration": 0,
    "start_time": "2023-03-31T19:05:36.494Z"
   },
   {
    "duration": 0,
    "start_time": "2023-03-31T19:05:36.495Z"
   },
   {
    "duration": 1,
    "start_time": "2023-03-31T19:05:36.495Z"
   },
   {
    "duration": 1630,
    "start_time": "2023-03-31T19:11:05.616Z"
   },
   {
    "duration": 0,
    "start_time": "2023-03-31T19:11:07.248Z"
   },
   {
    "duration": 0,
    "start_time": "2023-03-31T19:11:07.249Z"
   },
   {
    "duration": 0,
    "start_time": "2023-03-31T19:11:07.251Z"
   },
   {
    "duration": 0,
    "start_time": "2023-03-31T19:11:07.252Z"
   },
   {
    "duration": 0,
    "start_time": "2023-03-31T19:11:07.253Z"
   },
   {
    "duration": 0,
    "start_time": "2023-03-31T19:11:07.254Z"
   },
   {
    "duration": 0,
    "start_time": "2023-03-31T19:11:07.255Z"
   },
   {
    "duration": 0,
    "start_time": "2023-03-31T19:11:07.256Z"
   },
   {
    "duration": 0,
    "start_time": "2023-03-31T19:11:07.257Z"
   },
   {
    "duration": 0,
    "start_time": "2023-03-31T19:11:07.258Z"
   },
   {
    "duration": 0,
    "start_time": "2023-03-31T19:11:07.259Z"
   },
   {
    "duration": 0,
    "start_time": "2023-03-31T19:11:07.260Z"
   },
   {
    "duration": 0,
    "start_time": "2023-03-31T19:11:07.261Z"
   },
   {
    "duration": 0,
    "start_time": "2023-03-31T19:11:07.263Z"
   },
   {
    "duration": 0,
    "start_time": "2023-03-31T19:11:07.264Z"
   },
   {
    "duration": 0,
    "start_time": "2023-03-31T19:11:07.265Z"
   },
   {
    "duration": 0,
    "start_time": "2023-03-31T19:11:07.289Z"
   },
   {
    "duration": 0,
    "start_time": "2023-03-31T19:11:07.290Z"
   },
   {
    "duration": 0,
    "start_time": "2023-03-31T19:11:07.291Z"
   },
   {
    "duration": 0,
    "start_time": "2023-03-31T19:11:07.291Z"
   },
   {
    "duration": 0,
    "start_time": "2023-03-31T19:11:07.292Z"
   },
   {
    "duration": 0,
    "start_time": "2023-03-31T19:11:07.292Z"
   },
   {
    "duration": 0,
    "start_time": "2023-03-31T19:11:07.293Z"
   },
   {
    "duration": 0,
    "start_time": "2023-03-31T19:11:07.294Z"
   },
   {
    "duration": 0,
    "start_time": "2023-03-31T19:11:07.295Z"
   },
   {
    "duration": 0,
    "start_time": "2023-03-31T19:11:07.295Z"
   },
   {
    "duration": 0,
    "start_time": "2023-03-31T19:11:07.296Z"
   },
   {
    "duration": 0,
    "start_time": "2023-03-31T19:11:07.297Z"
   },
   {
    "duration": 0,
    "start_time": "2023-03-31T19:11:07.297Z"
   },
   {
    "duration": 0,
    "start_time": "2023-03-31T19:11:07.298Z"
   },
   {
    "duration": 0,
    "start_time": "2023-03-31T19:11:07.299Z"
   },
   {
    "duration": 0,
    "start_time": "2023-03-31T19:11:07.299Z"
   },
   {
    "duration": 0,
    "start_time": "2023-03-31T19:11:07.300Z"
   },
   {
    "duration": 54,
    "start_time": "2023-03-31T19:15:11.202Z"
   },
   {
    "duration": 1614,
    "start_time": "2023-03-31T19:15:18.566Z"
   },
   {
    "duration": 62,
    "start_time": "2023-03-31T19:15:20.182Z"
   },
   {
    "duration": 22,
    "start_time": "2023-03-31T19:15:20.246Z"
   },
   {
    "duration": 5,
    "start_time": "2023-03-31T19:15:20.270Z"
   },
   {
    "duration": 22,
    "start_time": "2023-03-31T19:15:20.276Z"
   },
   {
    "duration": 83,
    "start_time": "2023-03-31T19:15:20.299Z"
   },
   {
    "duration": 26,
    "start_time": "2023-03-31T19:15:20.384Z"
   },
   {
    "duration": 26,
    "start_time": "2023-03-31T19:15:20.417Z"
   },
   {
    "duration": 7,
    "start_time": "2023-03-31T19:15:20.448Z"
   },
   {
    "duration": 27,
    "start_time": "2023-03-31T19:15:20.458Z"
   },
   {
    "duration": 21,
    "start_time": "2023-03-31T19:15:20.492Z"
   },
   {
    "duration": 43,
    "start_time": "2023-03-31T19:15:20.515Z"
   },
   {
    "duration": 44,
    "start_time": "2023-03-31T19:15:20.560Z"
   },
   {
    "duration": 13,
    "start_time": "2023-03-31T19:15:20.605Z"
   },
   {
    "duration": 35,
    "start_time": "2023-03-31T19:15:20.634Z"
   },
   {
    "duration": 14,
    "start_time": "2023-03-31T19:15:20.672Z"
   },
   {
    "duration": 64,
    "start_time": "2023-03-31T19:15:20.690Z"
   },
   {
    "duration": 12,
    "start_time": "2023-03-31T19:15:20.756Z"
   },
   {
    "duration": 37,
    "start_time": "2023-03-31T19:15:20.770Z"
   },
   {
    "duration": 64,
    "start_time": "2023-03-31T19:15:20.809Z"
   },
   {
    "duration": 36,
    "start_time": "2023-03-31T19:15:20.875Z"
   },
   {
    "duration": 35,
    "start_time": "2023-03-31T19:15:20.913Z"
   },
   {
    "duration": 83,
    "start_time": "2023-03-31T19:15:20.951Z"
   },
   {
    "duration": 6716,
    "start_time": "2023-03-31T19:15:21.036Z"
   },
   {
    "duration": 19,
    "start_time": "2023-03-31T19:15:27.754Z"
   },
   {
    "duration": 4,
    "start_time": "2023-03-31T19:15:27.775Z"
   },
   {
    "duration": 14,
    "start_time": "2023-03-31T19:15:27.780Z"
   },
   {
    "duration": 31,
    "start_time": "2023-03-31T19:15:27.802Z"
   },
   {
    "duration": 8,
    "start_time": "2023-03-31T19:15:27.834Z"
   },
   {
    "duration": 8,
    "start_time": "2023-03-31T19:15:27.844Z"
   },
   {
    "duration": 7,
    "start_time": "2023-03-31T19:15:27.854Z"
   },
   {
    "duration": 12,
    "start_time": "2023-03-31T19:15:27.863Z"
   },
   {
    "duration": 7,
    "start_time": "2023-03-31T19:15:27.877Z"
   },
   {
    "duration": 42,
    "start_time": "2023-03-31T19:15:27.886Z"
   },
   {
    "duration": 1643,
    "start_time": "2023-03-31T19:16:16.777Z"
   },
   {
    "duration": 43,
    "start_time": "2023-03-31T19:16:18.424Z"
   },
   {
    "duration": 19,
    "start_time": "2023-03-31T19:16:18.469Z"
   },
   {
    "duration": 35,
    "start_time": "2023-03-31T19:16:18.495Z"
   },
   {
    "duration": 17,
    "start_time": "2023-03-31T19:16:18.532Z"
   },
   {
    "duration": 64,
    "start_time": "2023-03-31T19:16:18.551Z"
   },
   {
    "duration": 7,
    "start_time": "2023-03-31T19:16:18.620Z"
   },
   {
    "duration": 16,
    "start_time": "2023-03-31T19:16:18.630Z"
   },
   {
    "duration": 6,
    "start_time": "2023-03-31T19:16:18.649Z"
   },
   {
    "duration": 16,
    "start_time": "2023-03-31T19:16:18.657Z"
   },
   {
    "duration": 10,
    "start_time": "2023-03-31T19:16:18.675Z"
   },
   {
    "duration": 39,
    "start_time": "2023-03-31T19:16:18.692Z"
   },
   {
    "duration": 28,
    "start_time": "2023-03-31T19:16:18.733Z"
   },
   {
    "duration": 13,
    "start_time": "2023-03-31T19:16:18.766Z"
   },
   {
    "duration": 48,
    "start_time": "2023-03-31T19:16:18.781Z"
   },
   {
    "duration": 14,
    "start_time": "2023-03-31T19:16:18.832Z"
   },
   {
    "duration": 23,
    "start_time": "2023-03-31T19:16:18.848Z"
   },
   {
    "duration": 7,
    "start_time": "2023-03-31T19:16:18.873Z"
   },
   {
    "duration": 28,
    "start_time": "2023-03-31T19:16:18.882Z"
   },
   {
    "duration": 24,
    "start_time": "2023-03-31T19:16:18.912Z"
   },
   {
    "duration": 67,
    "start_time": "2023-03-31T19:16:18.938Z"
   },
   {
    "duration": 6972,
    "start_time": "2023-03-31T19:16:19.007Z"
   },
   {
    "duration": 27,
    "start_time": "2023-03-31T19:16:25.981Z"
   },
   {
    "duration": 26,
    "start_time": "2023-03-31T19:16:26.011Z"
   },
   {
    "duration": 16,
    "start_time": "2023-03-31T19:16:26.039Z"
   },
   {
    "duration": 6,
    "start_time": "2023-03-31T19:16:26.057Z"
   },
   {
    "duration": 14,
    "start_time": "2023-03-31T19:16:26.064Z"
   },
   {
    "duration": 5,
    "start_time": "2023-03-31T19:16:26.080Z"
   },
   {
    "duration": 42,
    "start_time": "2023-03-31T19:16:26.087Z"
   },
   {
    "duration": 7,
    "start_time": "2023-03-31T19:16:26.131Z"
   },
   {
    "duration": 11,
    "start_time": "2023-03-31T19:16:26.140Z"
   },
   {
    "duration": 24,
    "start_time": "2023-03-31T19:16:26.153Z"
   },
   {
    "duration": 1398,
    "start_time": "2023-03-31T19:19:26.046Z"
   },
   {
    "duration": 45,
    "start_time": "2023-03-31T19:19:27.446Z"
   },
   {
    "duration": 24,
    "start_time": "2023-03-31T19:19:27.498Z"
   },
   {
    "duration": 5,
    "start_time": "2023-03-31T19:19:27.524Z"
   },
   {
    "duration": 15,
    "start_time": "2023-03-31T19:19:27.530Z"
   },
   {
    "duration": 69,
    "start_time": "2023-03-31T19:19:27.546Z"
   },
   {
    "duration": 3,
    "start_time": "2023-03-31T19:19:27.617Z"
   },
   {
    "duration": 24,
    "start_time": "2023-03-31T19:19:27.622Z"
   },
   {
    "duration": 32,
    "start_time": "2023-03-31T19:19:27.648Z"
   },
   {
    "duration": 41,
    "start_time": "2023-03-31T19:19:27.684Z"
   },
   {
    "duration": 13,
    "start_time": "2023-03-31T19:19:27.726Z"
   },
   {
    "duration": 26,
    "start_time": "2023-03-31T19:19:27.740Z"
   },
   {
    "duration": 17,
    "start_time": "2023-03-31T19:19:27.768Z"
   },
   {
    "duration": 12,
    "start_time": "2023-03-31T19:19:27.793Z"
   },
   {
    "duration": 8,
    "start_time": "2023-03-31T19:19:27.807Z"
   },
   {
    "duration": 4,
    "start_time": "2023-03-31T19:19:27.817Z"
   },
   {
    "duration": 15,
    "start_time": "2023-03-31T19:19:27.822Z"
   },
   {
    "duration": 7,
    "start_time": "2023-03-31T19:19:27.839Z"
   },
   {
    "duration": 15,
    "start_time": "2023-03-31T19:19:27.848Z"
   },
   {
    "duration": 19,
    "start_time": "2023-03-31T19:19:27.888Z"
   },
   {
    "duration": 45,
    "start_time": "2023-03-31T19:19:27.909Z"
   },
   {
    "duration": 5162,
    "start_time": "2023-03-31T19:19:27.956Z"
   },
   {
    "duration": 20,
    "start_time": "2023-03-31T19:19:33.120Z"
   },
   {
    "duration": 5,
    "start_time": "2023-03-31T19:19:33.142Z"
   },
   {
    "duration": 21,
    "start_time": "2023-03-31T19:19:33.149Z"
   },
   {
    "duration": 5,
    "start_time": "2023-03-31T19:19:33.172Z"
   },
   {
    "duration": 19,
    "start_time": "2023-03-31T19:19:33.179Z"
   },
   {
    "duration": 5,
    "start_time": "2023-03-31T19:19:33.207Z"
   },
   {
    "duration": 10,
    "start_time": "2023-03-31T19:19:33.214Z"
   },
   {
    "duration": 11,
    "start_time": "2023-03-31T19:19:33.226Z"
   },
   {
    "duration": 9,
    "start_time": "2023-03-31T19:19:33.239Z"
   },
   {
    "duration": 15,
    "start_time": "2023-03-31T19:19:33.250Z"
   },
   {
    "duration": 5781,
    "start_time": "2023-03-31T19:20:28.909Z"
   },
   {
    "duration": 5149,
    "start_time": "2023-03-31T19:20:48.554Z"
   },
   {
    "duration": 5272,
    "start_time": "2023-03-31T19:21:44.694Z"
   },
   {
    "duration": 5552,
    "start_time": "2023-03-31T19:22:31.516Z"
   },
   {
    "duration": 270,
    "start_time": "2023-03-31T19:57:59.879Z"
   },
   {
    "duration": 815,
    "start_time": "2023-03-31T20:00:49.543Z"
   },
   {
    "duration": 25,
    "start_time": "2023-03-31T20:05:22.160Z"
   },
   {
    "duration": 15,
    "start_time": "2023-03-31T20:06:53.168Z"
   },
   {
    "duration": 18,
    "start_time": "2023-03-31T20:07:07.147Z"
   },
   {
    "duration": 16,
    "start_time": "2023-03-31T20:09:31.743Z"
   },
   {
    "duration": 64,
    "start_time": "2023-03-31T20:10:15.507Z"
   },
   {
    "duration": 1718,
    "start_time": "2023-03-31T20:10:27.828Z"
   },
   {
    "duration": 54,
    "start_time": "2023-03-31T20:10:29.549Z"
   },
   {
    "duration": 27,
    "start_time": "2023-03-31T20:10:29.605Z"
   },
   {
    "duration": 10,
    "start_time": "2023-03-31T20:10:29.634Z"
   },
   {
    "duration": 19,
    "start_time": "2023-03-31T20:10:29.647Z"
   },
   {
    "duration": 55,
    "start_time": "2023-03-31T20:10:29.669Z"
   },
   {
    "duration": 8,
    "start_time": "2023-03-31T20:10:29.731Z"
   },
   {
    "duration": 21,
    "start_time": "2023-03-31T20:10:29.742Z"
   },
   {
    "duration": 62,
    "start_time": "2023-03-31T20:10:29.765Z"
   },
   {
    "duration": 27,
    "start_time": "2023-03-31T20:10:29.830Z"
   },
   {
    "duration": 10,
    "start_time": "2023-03-31T20:10:29.859Z"
   },
   {
    "duration": 4,
    "start_time": "2023-03-31T20:10:29.871Z"
   },
   {
    "duration": 26,
    "start_time": "2023-03-31T20:10:29.877Z"
   },
   {
    "duration": 34,
    "start_time": "2023-03-31T20:10:29.906Z"
   },
   {
    "duration": 9,
    "start_time": "2023-03-31T20:10:29.943Z"
   },
   {
    "duration": 4,
    "start_time": "2023-03-31T20:10:29.954Z"
   },
   {
    "duration": 21,
    "start_time": "2023-03-31T20:10:29.961Z"
   },
   {
    "duration": 15,
    "start_time": "2023-03-31T20:10:29.984Z"
   },
   {
    "duration": 62,
    "start_time": "2023-03-31T20:10:30.001Z"
   },
   {
    "duration": 77,
    "start_time": "2023-03-31T20:10:30.066Z"
   },
   {
    "duration": 78,
    "start_time": "2023-03-31T20:10:30.145Z"
   },
   {
    "duration": 723,
    "start_time": "2023-03-31T20:10:30.226Z"
   },
   {
    "duration": 25,
    "start_time": "2023-03-31T20:10:30.951Z"
   },
   {
    "duration": 70,
    "start_time": "2023-03-31T20:10:30.978Z"
   },
   {
    "duration": 145,
    "start_time": "2023-03-31T20:10:31.051Z"
   },
   {
    "duration": 80,
    "start_time": "2023-03-31T20:10:31.203Z"
   },
   {
    "duration": 104,
    "start_time": "2023-03-31T20:10:31.289Z"
   },
   {
    "duration": 124,
    "start_time": "2023-03-31T20:10:31.402Z"
   },
   {
    "duration": 54,
    "start_time": "2023-03-31T20:10:31.528Z"
   },
   {
    "duration": 58,
    "start_time": "2023-03-31T20:10:31.584Z"
   },
   {
    "duration": 31,
    "start_time": "2023-03-31T20:10:31.644Z"
   },
   {
    "duration": 64,
    "start_time": "2023-03-31T20:10:31.679Z"
   },
   {
    "duration": 23,
    "start_time": "2023-03-31T20:11:11.523Z"
   },
   {
    "duration": 18,
    "start_time": "2023-03-31T20:11:32.542Z"
   },
   {
    "duration": 1727,
    "start_time": "2023-03-31T20:11:44.724Z"
   },
   {
    "duration": 53,
    "start_time": "2023-03-31T20:11:46.454Z"
   },
   {
    "duration": 26,
    "start_time": "2023-03-31T20:11:46.509Z"
   },
   {
    "duration": 9,
    "start_time": "2023-03-31T20:11:46.537Z"
   },
   {
    "duration": 19,
    "start_time": "2023-03-31T20:11:46.549Z"
   },
   {
    "duration": 58,
    "start_time": "2023-03-31T20:11:46.570Z"
   },
   {
    "duration": 4,
    "start_time": "2023-03-31T20:11:46.631Z"
   },
   {
    "duration": 12,
    "start_time": "2023-03-31T20:11:46.637Z"
   },
   {
    "duration": 9,
    "start_time": "2023-03-31T20:11:46.651Z"
   },
   {
    "duration": 32,
    "start_time": "2023-03-31T20:11:46.662Z"
   },
   {
    "duration": 12,
    "start_time": "2023-03-31T20:11:46.697Z"
   },
   {
    "duration": 21,
    "start_time": "2023-03-31T20:11:46.711Z"
   },
   {
    "duration": 20,
    "start_time": "2023-03-31T20:11:46.733Z"
   },
   {
    "duration": 11,
    "start_time": "2023-03-31T20:11:46.755Z"
   },
   {
    "duration": 7,
    "start_time": "2023-03-31T20:11:46.768Z"
   },
   {
    "duration": 34,
    "start_time": "2023-03-31T20:11:46.777Z"
   },
   {
    "duration": 29,
    "start_time": "2023-03-31T20:11:46.813Z"
   },
   {
    "duration": 6,
    "start_time": "2023-03-31T20:11:46.844Z"
   },
   {
    "duration": 17,
    "start_time": "2023-03-31T20:11:46.852Z"
   },
   {
    "duration": 7,
    "start_time": "2023-03-31T20:11:46.871Z"
   },
   {
    "duration": 88,
    "start_time": "2023-03-31T20:11:46.880Z"
   },
   {
    "duration": 23,
    "start_time": "2023-03-31T20:11:46.970Z"
   },
   {
    "duration": 32,
    "start_time": "2023-03-31T20:11:46.995Z"
   },
   {
    "duration": 12,
    "start_time": "2023-03-31T20:11:47.029Z"
   },
   {
    "duration": 17,
    "start_time": "2023-03-31T20:11:47.042Z"
   },
   {
    "duration": 3,
    "start_time": "2023-03-31T20:11:47.061Z"
   },
   {
    "duration": 9,
    "start_time": "2023-03-31T20:11:47.066Z"
   },
   {
    "duration": 7,
    "start_time": "2023-03-31T20:11:47.077Z"
   },
   {
    "duration": 44,
    "start_time": "2023-03-31T20:11:47.085Z"
   },
   {
    "duration": 12,
    "start_time": "2023-03-31T20:11:47.130Z"
   },
   {
    "duration": 8,
    "start_time": "2023-03-31T20:11:47.144Z"
   },
   {
    "duration": 10,
    "start_time": "2023-03-31T20:11:47.154Z"
   },
   {
    "duration": 7349,
    "start_time": "2023-03-31T20:14:43.006Z"
   },
   {
    "duration": 1681,
    "start_time": "2023-03-31T20:14:56.021Z"
   },
   {
    "duration": 43,
    "start_time": "2023-03-31T20:14:57.714Z"
   },
   {
    "duration": 18,
    "start_time": "2023-03-31T20:14:57.759Z"
   },
   {
    "duration": 7,
    "start_time": "2023-03-31T20:14:57.779Z"
   },
   {
    "duration": 69,
    "start_time": "2023-03-31T20:14:57.789Z"
   },
   {
    "duration": 57,
    "start_time": "2023-03-31T20:14:57.860Z"
   },
   {
    "duration": 26,
    "start_time": "2023-03-31T20:14:57.919Z"
   },
   {
    "duration": 26,
    "start_time": "2023-03-31T20:14:57.947Z"
   },
   {
    "duration": 10,
    "start_time": "2023-03-31T20:14:57.976Z"
   },
   {
    "duration": 80,
    "start_time": "2023-03-31T20:14:57.994Z"
   },
   {
    "duration": 20,
    "start_time": "2023-03-31T20:14:58.076Z"
   },
   {
    "duration": 46,
    "start_time": "2023-03-31T20:14:58.098Z"
   },
   {
    "duration": 37,
    "start_time": "2023-03-31T20:14:58.146Z"
   },
   {
    "duration": 18,
    "start_time": "2023-03-31T20:14:58.185Z"
   },
   {
    "duration": 47,
    "start_time": "2023-03-31T20:14:58.206Z"
   },
   {
    "duration": 10,
    "start_time": "2023-03-31T20:14:58.255Z"
   },
   {
    "duration": 37,
    "start_time": "2023-03-31T20:14:58.267Z"
   },
   {
    "duration": 39,
    "start_time": "2023-03-31T20:14:58.305Z"
   },
   {
    "duration": 22,
    "start_time": "2023-03-31T20:14:58.346Z"
   },
   {
    "duration": 7,
    "start_time": "2023-03-31T20:14:58.370Z"
   },
   {
    "duration": 66,
    "start_time": "2023-03-31T20:14:58.379Z"
   },
   {
    "duration": 8401,
    "start_time": "2023-03-31T20:14:58.447Z"
   },
   {
    "duration": 29,
    "start_time": "2023-03-31T20:15:06.852Z"
   },
   {
    "duration": 5,
    "start_time": "2023-03-31T20:15:06.890Z"
   },
   {
    "duration": 54,
    "start_time": "2023-03-31T20:15:06.897Z"
   },
   {
    "duration": 7,
    "start_time": "2023-03-31T20:15:06.953Z"
   },
   {
    "duration": 8,
    "start_time": "2023-03-31T20:15:06.963Z"
   },
   {
    "duration": 6,
    "start_time": "2023-03-31T20:15:06.975Z"
   },
   {
    "duration": 37,
    "start_time": "2023-03-31T20:15:06.983Z"
   },
   {
    "duration": 22,
    "start_time": "2023-03-31T20:15:07.022Z"
   },
   {
    "duration": 15,
    "start_time": "2023-03-31T20:15:07.046Z"
   },
   {
    "duration": 7,
    "start_time": "2023-03-31T20:15:07.063Z"
   },
   {
    "duration": 2006,
    "start_time": "2023-03-31T20:15:23.341Z"
   },
   {
    "duration": 62,
    "start_time": "2023-03-31T20:15:25.351Z"
   },
   {
    "duration": 28,
    "start_time": "2023-03-31T20:15:25.415Z"
   },
   {
    "duration": 21,
    "start_time": "2023-03-31T20:15:25.447Z"
   },
   {
    "duration": 29,
    "start_time": "2023-03-31T20:15:25.471Z"
   },
   {
    "duration": 100,
    "start_time": "2023-03-31T20:15:25.506Z"
   },
   {
    "duration": 7,
    "start_time": "2023-03-31T20:15:25.612Z"
   },
   {
    "duration": 27,
    "start_time": "2023-03-31T20:15:25.636Z"
   },
   {
    "duration": 10,
    "start_time": "2023-03-31T20:15:25.666Z"
   },
   {
    "duration": 43,
    "start_time": "2023-03-31T20:15:25.679Z"
   },
   {
    "duration": 33,
    "start_time": "2023-03-31T20:15:25.727Z"
   },
   {
    "duration": 6,
    "start_time": "2023-03-31T20:15:25.763Z"
   },
   {
    "duration": 35,
    "start_time": "2023-03-31T20:15:25.772Z"
   },
   {
    "duration": 44,
    "start_time": "2023-03-31T20:15:25.814Z"
   },
   {
    "duration": 11,
    "start_time": "2023-03-31T20:15:25.860Z"
   },
   {
    "duration": 10,
    "start_time": "2023-03-31T20:15:25.873Z"
   },
   {
    "duration": 38,
    "start_time": "2023-03-31T20:15:25.885Z"
   },
   {
    "duration": 29,
    "start_time": "2023-03-31T20:15:25.926Z"
   },
   {
    "duration": 19,
    "start_time": "2023-03-31T20:15:25.958Z"
   },
   {
    "duration": 19,
    "start_time": "2023-03-31T20:15:25.979Z"
   },
   {
    "duration": 127,
    "start_time": "2023-03-31T20:15:26.004Z"
   },
   {
    "duration": 9922,
    "start_time": "2023-03-31T20:15:26.160Z"
   },
   {
    "duration": 49,
    "start_time": "2023-03-31T20:15:36.085Z"
   },
   {
    "duration": 32,
    "start_time": "2023-03-31T20:15:36.139Z"
   },
   {
    "duration": 10,
    "start_time": "2023-03-31T20:15:36.173Z"
   },
   {
    "duration": 19,
    "start_time": "2023-03-31T20:15:36.185Z"
   },
   {
    "duration": 59,
    "start_time": "2023-03-31T20:15:36.206Z"
   },
   {
    "duration": 8,
    "start_time": "2023-03-31T20:15:36.267Z"
   },
   {
    "duration": 33,
    "start_time": "2023-03-31T20:15:36.277Z"
   },
   {
    "duration": 28,
    "start_time": "2023-03-31T20:15:36.322Z"
   },
   {
    "duration": 14,
    "start_time": "2023-03-31T20:15:36.352Z"
   },
   {
    "duration": 49,
    "start_time": "2023-03-31T20:15:36.369Z"
   },
   {
    "duration": 1887,
    "start_time": "2023-03-31T20:16:26.291Z"
   },
   {
    "duration": 77,
    "start_time": "2023-03-31T20:16:28.181Z"
   },
   {
    "duration": 46,
    "start_time": "2023-03-31T20:16:28.261Z"
   },
   {
    "duration": 5,
    "start_time": "2023-03-31T20:16:28.310Z"
   },
   {
    "duration": 74,
    "start_time": "2023-03-31T20:16:28.319Z"
   },
   {
    "duration": 100,
    "start_time": "2023-03-31T20:16:28.395Z"
   },
   {
    "duration": 11,
    "start_time": "2023-03-31T20:16:28.500Z"
   },
   {
    "duration": 45,
    "start_time": "2023-03-31T20:16:28.513Z"
   },
   {
    "duration": 14,
    "start_time": "2023-03-31T20:16:28.561Z"
   },
   {
    "duration": 31,
    "start_time": "2023-03-31T20:16:28.579Z"
   },
   {
    "duration": 59,
    "start_time": "2023-03-31T20:16:28.612Z"
   },
   {
    "duration": 5,
    "start_time": "2023-03-31T20:16:28.673Z"
   },
   {
    "duration": 37,
    "start_time": "2023-03-31T20:16:28.681Z"
   },
   {
    "duration": 112,
    "start_time": "2023-03-31T20:16:28.721Z"
   },
   {
    "duration": 28,
    "start_time": "2023-03-31T20:16:28.846Z"
   },
   {
    "duration": 67,
    "start_time": "2023-03-31T20:16:28.877Z"
   },
   {
    "duration": 48,
    "start_time": "2023-03-31T20:16:28.947Z"
   },
   {
    "duration": 15,
    "start_time": "2023-03-31T20:16:29.001Z"
   },
   {
    "duration": 76,
    "start_time": "2023-03-31T20:16:29.021Z"
   },
   {
    "duration": 61,
    "start_time": "2023-03-31T20:16:29.102Z"
   },
   {
    "duration": 82,
    "start_time": "2023-03-31T20:16:29.169Z"
   },
   {
    "duration": 6897,
    "start_time": "2023-03-31T20:16:29.254Z"
   },
   {
    "duration": 0,
    "start_time": "2023-03-31T20:16:36.157Z"
   },
   {
    "duration": 0,
    "start_time": "2023-03-31T20:16:36.158Z"
   },
   {
    "duration": 0,
    "start_time": "2023-03-31T20:16:36.160Z"
   },
   {
    "duration": 0,
    "start_time": "2023-03-31T20:16:36.162Z"
   },
   {
    "duration": 0,
    "start_time": "2023-03-31T20:16:36.163Z"
   },
   {
    "duration": 0,
    "start_time": "2023-03-31T20:16:36.164Z"
   },
   {
    "duration": 0,
    "start_time": "2023-03-31T20:16:36.167Z"
   },
   {
    "duration": 0,
    "start_time": "2023-03-31T20:16:36.168Z"
   },
   {
    "duration": 0,
    "start_time": "2023-03-31T20:16:36.169Z"
   },
   {
    "duration": 0,
    "start_time": "2023-03-31T20:16:36.170Z"
   },
   {
    "duration": 2150,
    "start_time": "2023-03-31T20:17:08.510Z"
   },
   {
    "duration": 70,
    "start_time": "2023-03-31T20:17:10.667Z"
   },
   {
    "duration": 32,
    "start_time": "2023-03-31T20:17:10.739Z"
   },
   {
    "duration": 64,
    "start_time": "2023-03-31T20:17:10.774Z"
   },
   {
    "duration": 37,
    "start_time": "2023-03-31T20:17:10.840Z"
   },
   {
    "duration": 68,
    "start_time": "2023-03-31T20:17:10.879Z"
   },
   {
    "duration": 62,
    "start_time": "2023-03-31T20:17:10.955Z"
   },
   {
    "duration": 50,
    "start_time": "2023-03-31T20:17:11.019Z"
   },
   {
    "duration": 23,
    "start_time": "2023-03-31T20:17:11.074Z"
   },
   {
    "duration": 171,
    "start_time": "2023-03-31T20:17:11.108Z"
   },
   {
    "duration": 32,
    "start_time": "2023-03-31T20:17:11.281Z"
   },
   {
    "duration": 46,
    "start_time": "2023-03-31T20:17:11.319Z"
   },
   {
    "duration": 23,
    "start_time": "2023-03-31T20:17:11.369Z"
   },
   {
    "duration": 57,
    "start_time": "2023-03-31T20:17:11.395Z"
   },
   {
    "duration": 23,
    "start_time": "2023-03-31T20:17:11.455Z"
   },
   {
    "duration": 84,
    "start_time": "2023-03-31T20:17:11.481Z"
   },
   {
    "duration": 37,
    "start_time": "2023-03-31T20:17:11.569Z"
   },
   {
    "duration": 63,
    "start_time": "2023-03-31T20:17:11.608Z"
   },
   {
    "duration": 90,
    "start_time": "2023-03-31T20:17:11.674Z"
   },
   {
    "duration": 27,
    "start_time": "2023-03-31T20:17:11.769Z"
   },
   {
    "duration": 85,
    "start_time": "2023-03-31T20:17:11.798Z"
   },
   {
    "duration": 8808,
    "start_time": "2023-03-31T20:17:11.885Z"
   },
   {
    "duration": 31,
    "start_time": "2023-03-31T20:17:20.695Z"
   },
   {
    "duration": 55,
    "start_time": "2023-03-31T20:17:20.728Z"
   },
   {
    "duration": 91,
    "start_time": "2023-03-31T20:17:20.786Z"
   },
   {
    "duration": 80,
    "start_time": "2023-03-31T20:17:20.879Z"
   },
   {
    "duration": 29,
    "start_time": "2023-03-31T20:17:20.962Z"
   },
   {
    "duration": 62,
    "start_time": "2023-03-31T20:17:21.002Z"
   },
   {
    "duration": 64,
    "start_time": "2023-03-31T20:17:21.067Z"
   },
   {
    "duration": 81,
    "start_time": "2023-03-31T20:17:21.135Z"
   },
   {
    "duration": 121,
    "start_time": "2023-03-31T20:17:21.218Z"
   },
   {
    "duration": 35,
    "start_time": "2023-03-31T20:17:21.341Z"
   },
   {
    "duration": 2031,
    "start_time": "2023-03-31T20:24:12.375Z"
   },
   {
    "duration": 44,
    "start_time": "2023-03-31T20:24:14.408Z"
   },
   {
    "duration": 26,
    "start_time": "2023-03-31T20:24:14.456Z"
   },
   {
    "duration": 11,
    "start_time": "2023-03-31T20:24:14.484Z"
   },
   {
    "duration": 143,
    "start_time": "2023-03-31T20:24:14.502Z"
   },
   {
    "duration": 56,
    "start_time": "2023-03-31T20:24:14.648Z"
   },
   {
    "duration": 5,
    "start_time": "2023-03-31T20:24:14.706Z"
   },
   {
    "duration": 14,
    "start_time": "2023-03-31T20:24:14.713Z"
   },
   {
    "duration": 7,
    "start_time": "2023-03-31T20:24:14.729Z"
   },
   {
    "duration": 16,
    "start_time": "2023-03-31T20:24:14.739Z"
   },
   {
    "duration": 36,
    "start_time": "2023-03-31T20:24:14.757Z"
   },
   {
    "duration": 62,
    "start_time": "2023-03-31T20:24:14.794Z"
   },
   {
    "duration": 28,
    "start_time": "2023-03-31T20:24:14.857Z"
   },
   {
    "duration": 19,
    "start_time": "2023-03-31T20:24:14.888Z"
   },
   {
    "duration": 27,
    "start_time": "2023-03-31T20:24:14.909Z"
   },
   {
    "duration": 6,
    "start_time": "2023-03-31T20:24:14.937Z"
   },
   {
    "duration": 31,
    "start_time": "2023-03-31T20:24:14.944Z"
   },
   {
    "duration": 7,
    "start_time": "2023-03-31T20:24:14.977Z"
   },
   {
    "duration": 57,
    "start_time": "2023-03-31T20:24:14.986Z"
   },
   {
    "duration": 8,
    "start_time": "2023-03-31T20:24:15.045Z"
   },
   {
    "duration": 66,
    "start_time": "2023-03-31T20:24:15.055Z"
   },
   {
    "duration": 6606,
    "start_time": "2023-03-31T20:24:15.125Z"
   },
   {
    "duration": 24,
    "start_time": "2023-03-31T20:24:21.733Z"
   },
   {
    "duration": 5,
    "start_time": "2023-03-31T20:24:21.760Z"
   },
   {
    "duration": 16,
    "start_time": "2023-03-31T20:24:21.767Z"
   },
   {
    "duration": 16,
    "start_time": "2023-03-31T20:24:21.785Z"
   },
   {
    "duration": 17,
    "start_time": "2023-03-31T20:24:21.804Z"
   },
   {
    "duration": 8,
    "start_time": "2023-03-31T20:24:21.826Z"
   },
   {
    "duration": 8,
    "start_time": "2023-03-31T20:24:21.836Z"
   },
   {
    "duration": 7,
    "start_time": "2023-03-31T20:24:21.846Z"
   },
   {
    "duration": 8,
    "start_time": "2023-03-31T20:24:21.855Z"
   },
   {
    "duration": 10,
    "start_time": "2023-03-31T20:24:21.865Z"
   },
   {
    "duration": 6,
    "start_time": "2023-03-31T20:24:56.309Z"
   },
   {
    "duration": 9,
    "start_time": "2023-03-31T20:25:28.408Z"
   },
   {
    "duration": 6,
    "start_time": "2023-03-31T20:27:39.122Z"
   },
   {
    "duration": 1540,
    "start_time": "2023-03-31T20:28:31.472Z"
   },
   {
    "duration": 44,
    "start_time": "2023-03-31T20:28:33.014Z"
   },
   {
    "duration": 17,
    "start_time": "2023-03-31T20:28:33.060Z"
   },
   {
    "duration": 4,
    "start_time": "2023-03-31T20:28:33.078Z"
   },
   {
    "duration": 42,
    "start_time": "2023-03-31T20:28:33.084Z"
   },
   {
    "duration": 42,
    "start_time": "2023-03-31T20:28:33.128Z"
   },
   {
    "duration": 4,
    "start_time": "2023-03-31T20:28:33.172Z"
   },
   {
    "duration": 12,
    "start_time": "2023-03-31T20:28:33.177Z"
   },
   {
    "duration": 17,
    "start_time": "2023-03-31T20:28:33.190Z"
   },
   {
    "duration": 22,
    "start_time": "2023-03-31T20:28:33.209Z"
   },
   {
    "duration": 9,
    "start_time": "2023-03-31T20:28:33.233Z"
   },
   {
    "duration": 9,
    "start_time": "2023-03-31T20:28:33.243Z"
   },
   {
    "duration": 25,
    "start_time": "2023-03-31T20:28:33.254Z"
   },
   {
    "duration": 16,
    "start_time": "2023-03-31T20:28:33.282Z"
   },
   {
    "duration": 8,
    "start_time": "2023-03-31T20:28:33.303Z"
   },
   {
    "duration": 8,
    "start_time": "2023-03-31T20:28:33.313Z"
   },
   {
    "duration": 6,
    "start_time": "2023-03-31T20:28:33.323Z"
   },
   {
    "duration": 4,
    "start_time": "2023-03-31T20:28:33.331Z"
   },
   {
    "duration": 14,
    "start_time": "2023-03-31T20:28:33.337Z"
   },
   {
    "duration": 5,
    "start_time": "2023-03-31T20:28:33.353Z"
   },
   {
    "duration": 16,
    "start_time": "2023-03-31T20:28:33.388Z"
   },
   {
    "duration": 18,
    "start_time": "2023-03-31T20:28:33.405Z"
   },
   {
    "duration": 54,
    "start_time": "2023-03-31T20:28:33.425Z"
   },
   {
    "duration": 6342,
    "start_time": "2023-03-31T20:28:33.480Z"
   },
   {
    "duration": 19,
    "start_time": "2023-03-31T20:28:39.824Z"
   },
   {
    "duration": 3,
    "start_time": "2023-03-31T20:28:39.845Z"
   },
   {
    "duration": 10,
    "start_time": "2023-03-31T20:28:39.850Z"
   },
   {
    "duration": 5,
    "start_time": "2023-03-31T20:28:39.862Z"
   },
   {
    "duration": 23,
    "start_time": "2023-03-31T20:28:39.869Z"
   },
   {
    "duration": 6,
    "start_time": "2023-03-31T20:28:39.897Z"
   },
   {
    "duration": 11,
    "start_time": "2023-03-31T20:28:39.905Z"
   },
   {
    "duration": 7,
    "start_time": "2023-03-31T20:28:39.918Z"
   },
   {
    "duration": 6,
    "start_time": "2023-03-31T20:28:39.927Z"
   },
   {
    "duration": 13,
    "start_time": "2023-03-31T20:28:39.935Z"
   },
   {
    "duration": 1567,
    "start_time": "2023-03-31T20:28:59.227Z"
   },
   {
    "duration": 53,
    "start_time": "2023-03-31T20:29:00.802Z"
   },
   {
    "duration": 22,
    "start_time": "2023-03-31T20:29:00.858Z"
   },
   {
    "duration": 21,
    "start_time": "2023-03-31T20:29:00.882Z"
   },
   {
    "duration": 29,
    "start_time": "2023-03-31T20:29:00.905Z"
   },
   {
    "duration": 55,
    "start_time": "2023-03-31T20:29:00.936Z"
   },
   {
    "duration": 9,
    "start_time": "2023-03-31T20:29:00.993Z"
   },
   {
    "duration": 26,
    "start_time": "2023-03-31T20:29:01.004Z"
   },
   {
    "duration": 35,
    "start_time": "2023-03-31T20:29:01.032Z"
   },
   {
    "duration": 54,
    "start_time": "2023-03-31T20:29:01.068Z"
   },
   {
    "duration": 32,
    "start_time": "2023-03-31T20:29:01.125Z"
   },
   {
    "duration": 26,
    "start_time": "2023-03-31T20:29:01.160Z"
   },
   {
    "duration": 58,
    "start_time": "2023-03-31T20:29:01.188Z"
   },
   {
    "duration": 12,
    "start_time": "2023-03-31T20:29:01.250Z"
   },
   {
    "duration": 46,
    "start_time": "2023-03-31T20:29:01.264Z"
   },
   {
    "duration": 40,
    "start_time": "2023-03-31T20:29:01.311Z"
   },
   {
    "duration": 31,
    "start_time": "2023-03-31T20:29:01.353Z"
   },
   {
    "duration": 41,
    "start_time": "2023-03-31T20:29:01.386Z"
   },
   {
    "duration": 44,
    "start_time": "2023-03-31T20:29:01.429Z"
   },
   {
    "duration": 38,
    "start_time": "2023-03-31T20:29:01.475Z"
   },
   {
    "duration": 47,
    "start_time": "2023-03-31T20:29:01.515Z"
   },
   {
    "duration": 65,
    "start_time": "2023-03-31T20:29:01.564Z"
   },
   {
    "duration": 75,
    "start_time": "2023-03-31T20:29:01.631Z"
   },
   {
    "duration": 22,
    "start_time": "2023-03-31T20:29:01.708Z"
   },
   {
    "duration": 37,
    "start_time": "2023-03-31T20:29:01.732Z"
   },
   {
    "duration": 7,
    "start_time": "2023-03-31T20:29:01.771Z"
   },
   {
    "duration": 37,
    "start_time": "2023-03-31T20:29:01.793Z"
   },
   {
    "duration": 18,
    "start_time": "2023-03-31T20:29:01.832Z"
   },
   {
    "duration": 33,
    "start_time": "2023-03-31T20:29:01.851Z"
   },
   {
    "duration": 26,
    "start_time": "2023-03-31T20:29:01.885Z"
   },
   {
    "duration": 26,
    "start_time": "2023-03-31T20:29:01.913Z"
   },
   {
    "duration": 66,
    "start_time": "2023-03-31T20:29:01.940Z"
   },
   {
    "duration": 27,
    "start_time": "2023-03-31T20:29:02.008Z"
   },
   {
    "duration": 64,
    "start_time": "2023-03-31T20:29:02.037Z"
   },
   {
    "duration": 6,
    "start_time": "2023-03-31T20:33:50.431Z"
   },
   {
    "duration": 1435,
    "start_time": "2023-03-31T20:35:37.085Z"
   },
   {
    "duration": 1207,
    "start_time": "2023-03-31T20:35:56.941Z"
   },
   {
    "duration": 1363,
    "start_time": "2023-03-31T20:36:17.216Z"
   },
   {
    "duration": 1417,
    "start_time": "2023-03-31T20:36:45.505Z"
   },
   {
    "duration": 1579,
    "start_time": "2023-03-31T20:39:10.045Z"
   },
   {
    "duration": 44,
    "start_time": "2023-03-31T20:39:11.626Z"
   },
   {
    "duration": 31,
    "start_time": "2023-03-31T20:39:11.671Z"
   },
   {
    "duration": 9,
    "start_time": "2023-03-31T20:39:11.703Z"
   },
   {
    "duration": 17,
    "start_time": "2023-03-31T20:39:11.715Z"
   },
   {
    "duration": 42,
    "start_time": "2023-03-31T20:39:11.733Z"
   },
   {
    "duration": 4,
    "start_time": "2023-03-31T20:39:11.777Z"
   },
   {
    "duration": 39,
    "start_time": "2023-03-31T20:39:11.782Z"
   },
   {
    "duration": 8,
    "start_time": "2023-03-31T20:39:11.823Z"
   },
   {
    "duration": 17,
    "start_time": "2023-03-31T20:39:11.833Z"
   },
   {
    "duration": 8,
    "start_time": "2023-03-31T20:39:11.852Z"
   },
   {
    "duration": 6,
    "start_time": "2023-03-31T20:39:11.862Z"
   },
   {
    "duration": 38,
    "start_time": "2023-03-31T20:39:11.869Z"
   },
   {
    "duration": 10,
    "start_time": "2023-03-31T20:39:11.911Z"
   },
   {
    "duration": 8,
    "start_time": "2023-03-31T20:39:11.922Z"
   },
   {
    "duration": 5,
    "start_time": "2023-03-31T20:39:11.931Z"
   },
   {
    "duration": 6,
    "start_time": "2023-03-31T20:39:11.937Z"
   },
   {
    "duration": 8,
    "start_time": "2023-03-31T20:39:11.945Z"
   },
   {
    "duration": 16,
    "start_time": "2023-03-31T20:39:11.955Z"
   },
   {
    "duration": 10,
    "start_time": "2023-03-31T20:39:11.988Z"
   },
   {
    "duration": 30,
    "start_time": "2023-03-31T20:39:12.000Z"
   },
   {
    "duration": 5,
    "start_time": "2023-03-31T20:39:12.032Z"
   },
   {
    "duration": 44,
    "start_time": "2023-03-31T20:39:12.038Z"
   },
   {
    "duration": 29,
    "start_time": "2023-03-31T20:39:12.084Z"
   },
   {
    "duration": 20,
    "start_time": "2023-03-31T20:39:12.115Z"
   },
   {
    "duration": 4,
    "start_time": "2023-03-31T20:39:12.136Z"
   },
   {
    "duration": 7,
    "start_time": "2023-03-31T20:39:12.141Z"
   },
   {
    "duration": 7,
    "start_time": "2023-03-31T20:39:12.150Z"
   },
   {
    "duration": 6,
    "start_time": "2023-03-31T20:39:12.159Z"
   },
   {
    "duration": 189,
    "start_time": "2023-03-31T20:39:12.167Z"
   },
   {
    "duration": 6,
    "start_time": "2023-03-31T20:39:12.357Z"
   },
   {
    "duration": 7,
    "start_time": "2023-03-31T20:39:12.365Z"
   },
   {
    "duration": 15,
    "start_time": "2023-03-31T20:39:12.374Z"
   },
   {
    "duration": 8,
    "start_time": "2023-03-31T20:39:12.397Z"
   },
   {
    "duration": 11,
    "start_time": "2023-03-31T20:39:12.408Z"
   },
   {
    "duration": 5,
    "start_time": "2023-03-31T20:39:12.421Z"
   },
   {
    "duration": 147,
    "start_time": "2023-03-31T20:41:43.327Z"
   },
   {
    "duration": 198,
    "start_time": "2023-03-31T20:42:01.913Z"
   },
   {
    "duration": 169,
    "start_time": "2023-03-31T20:42:08.333Z"
   },
   {
    "duration": 157,
    "start_time": "2023-03-31T20:42:16.523Z"
   },
   {
    "duration": 7,
    "start_time": "2023-03-31T20:58:40.112Z"
   },
   {
    "duration": 1717,
    "start_time": "2023-03-31T20:58:59.325Z"
   },
   {
    "duration": 63,
    "start_time": "2023-03-31T20:59:01.045Z"
   },
   {
    "duration": 28,
    "start_time": "2023-03-31T20:59:01.115Z"
   },
   {
    "duration": 19,
    "start_time": "2023-03-31T20:59:01.145Z"
   },
   {
    "duration": 30,
    "start_time": "2023-03-31T20:59:01.167Z"
   },
   {
    "duration": 142,
    "start_time": "2023-03-31T20:59:01.198Z"
   },
   {
    "duration": 5,
    "start_time": "2023-03-31T20:59:01.342Z"
   },
   {
    "duration": 30,
    "start_time": "2023-03-31T20:59:01.350Z"
   },
   {
    "duration": 70,
    "start_time": "2023-03-31T20:59:01.382Z"
   },
   {
    "duration": 65,
    "start_time": "2023-03-31T20:59:01.454Z"
   },
   {
    "duration": 37,
    "start_time": "2023-03-31T20:59:01.524Z"
   },
   {
    "duration": 53,
    "start_time": "2023-03-31T20:59:01.563Z"
   },
   {
    "duration": 80,
    "start_time": "2023-03-31T20:59:01.618Z"
   },
   {
    "duration": 25,
    "start_time": "2023-03-31T20:59:01.710Z"
   },
   {
    "duration": 25,
    "start_time": "2023-03-31T20:59:01.737Z"
   },
   {
    "duration": 40,
    "start_time": "2023-03-31T20:59:01.764Z"
   },
   {
    "duration": 39,
    "start_time": "2023-03-31T20:59:01.810Z"
   },
   {
    "duration": 33,
    "start_time": "2023-03-31T20:59:01.851Z"
   },
   {
    "duration": 43,
    "start_time": "2023-03-31T20:59:01.886Z"
   },
   {
    "duration": 28,
    "start_time": "2023-03-31T20:59:01.931Z"
   },
   {
    "duration": 18,
    "start_time": "2023-03-31T20:59:01.961Z"
   },
   {
    "duration": 90,
    "start_time": "2023-03-31T20:59:01.981Z"
   },
   {
    "duration": 34,
    "start_time": "2023-03-31T20:59:02.074Z"
   },
   {
    "duration": 94,
    "start_time": "2023-03-31T20:59:02.110Z"
   },
   {
    "duration": 20,
    "start_time": "2023-03-31T20:59:02.206Z"
   },
   {
    "duration": 33,
    "start_time": "2023-03-31T20:59:02.228Z"
   },
   {
    "duration": 4,
    "start_time": "2023-03-31T20:59:02.264Z"
   },
   {
    "duration": 27,
    "start_time": "2023-03-31T20:59:02.270Z"
   },
   {
    "duration": 31,
    "start_time": "2023-03-31T20:59:02.303Z"
   },
   {
    "duration": 10,
    "start_time": "2023-03-31T20:59:02.337Z"
   },
   {
    "duration": 209,
    "start_time": "2023-03-31T20:59:02.350Z"
   },
   {
    "duration": 9,
    "start_time": "2023-03-31T20:59:02.561Z"
   },
   {
    "duration": 17,
    "start_time": "2023-03-31T20:59:02.572Z"
   },
   {
    "duration": 28,
    "start_time": "2023-03-31T20:59:02.593Z"
   },
   {
    "duration": 16,
    "start_time": "2023-03-31T20:59:02.624Z"
   },
   {
    "duration": 9,
    "start_time": "2023-03-31T20:59:02.642Z"
   },
   {
    "duration": 11,
    "start_time": "2023-03-31T20:59:02.653Z"
   },
   {
    "duration": 12,
    "start_time": "2023-03-31T20:59:02.666Z"
   },
   {
    "duration": 201,
    "start_time": "2023-03-31T20:59:02.680Z"
   },
   {
    "duration": 11,
    "start_time": "2023-03-31T21:00:19.514Z"
   },
   {
    "duration": 10,
    "start_time": "2023-03-31T21:03:09.408Z"
   },
   {
    "duration": 49,
    "start_time": "2023-03-31T21:03:30.730Z"
   },
   {
    "duration": 38,
    "start_time": "2023-03-31T21:07:18.146Z"
   },
   {
    "duration": 47,
    "start_time": "2023-03-31T21:07:44.747Z"
   },
   {
    "duration": 43,
    "start_time": "2023-03-31T21:07:56.042Z"
   },
   {
    "duration": 41,
    "start_time": "2023-03-31T21:11:25.503Z"
   },
   {
    "duration": 1475,
    "start_time": "2023-03-31T21:12:46.157Z"
   },
   {
    "duration": 55,
    "start_time": "2023-03-31T21:12:47.634Z"
   },
   {
    "duration": 23,
    "start_time": "2023-03-31T21:12:47.696Z"
   },
   {
    "duration": 4,
    "start_time": "2023-03-31T21:12:47.721Z"
   },
   {
    "duration": 15,
    "start_time": "2023-03-31T21:12:47.727Z"
   },
   {
    "duration": 68,
    "start_time": "2023-03-31T21:12:47.744Z"
   },
   {
    "duration": 9,
    "start_time": "2023-03-31T21:12:47.819Z"
   },
   {
    "duration": 7,
    "start_time": "2023-03-31T21:12:47.830Z"
   },
   {
    "duration": 6,
    "start_time": "2023-03-31T21:12:47.838Z"
   },
   {
    "duration": 15,
    "start_time": "2023-03-31T21:12:47.847Z"
   },
   {
    "duration": 30,
    "start_time": "2023-03-31T21:12:47.864Z"
   },
   {
    "duration": 14,
    "start_time": "2023-03-31T21:12:47.899Z"
   },
   {
    "duration": 24,
    "start_time": "2023-03-31T21:12:47.914Z"
   },
   {
    "duration": 9,
    "start_time": "2023-03-31T21:12:47.939Z"
   },
   {
    "duration": 17,
    "start_time": "2023-03-31T21:12:47.950Z"
   },
   {
    "duration": 5,
    "start_time": "2023-03-31T21:12:47.969Z"
   },
   {
    "duration": 16,
    "start_time": "2023-03-31T21:12:47.976Z"
   },
   {
    "duration": 34,
    "start_time": "2023-03-31T21:12:47.993Z"
   },
   {
    "duration": 6,
    "start_time": "2023-03-31T21:12:48.029Z"
   },
   {
    "duration": 23,
    "start_time": "2023-03-31T21:12:48.037Z"
   },
   {
    "duration": 11,
    "start_time": "2023-03-31T21:12:48.062Z"
   },
   {
    "duration": 24,
    "start_time": "2023-03-31T21:12:48.074Z"
   },
   {
    "duration": 14,
    "start_time": "2023-03-31T21:12:48.109Z"
   },
   {
    "duration": 60,
    "start_time": "2023-03-31T21:12:48.124Z"
   },
   {
    "duration": 23,
    "start_time": "2023-03-31T21:12:48.186Z"
   },
   {
    "duration": 24,
    "start_time": "2023-03-31T21:12:48.211Z"
   },
   {
    "duration": 4,
    "start_time": "2023-03-31T21:12:48.237Z"
   },
   {
    "duration": 6,
    "start_time": "2023-03-31T21:12:48.245Z"
   },
   {
    "duration": 4,
    "start_time": "2023-03-31T21:12:48.252Z"
   },
   {
    "duration": 38,
    "start_time": "2023-03-31T21:12:48.257Z"
   },
   {
    "duration": 182,
    "start_time": "2023-03-31T21:12:48.297Z"
   },
   {
    "duration": 24,
    "start_time": "2023-03-31T21:12:48.481Z"
   },
   {
    "duration": 13,
    "start_time": "2023-03-31T21:12:48.507Z"
   },
   {
    "duration": 5,
    "start_time": "2023-03-31T21:12:48.522Z"
   },
   {
    "duration": 12,
    "start_time": "2023-03-31T21:12:48.529Z"
   },
   {
    "duration": 9,
    "start_time": "2023-03-31T21:12:48.542Z"
   },
   {
    "duration": 8,
    "start_time": "2023-03-31T21:12:48.553Z"
   },
   {
    "duration": 4,
    "start_time": "2023-03-31T21:12:48.563Z"
   },
   {
    "duration": 45,
    "start_time": "2023-03-31T21:12:48.569Z"
   },
   {
    "duration": 1639,
    "start_time": "2023-04-01T08:09:51.489Z"
   },
   {
    "duration": 167,
    "start_time": "2023-04-01T08:09:53.130Z"
   },
   {
    "duration": 18,
    "start_time": "2023-04-01T08:09:53.299Z"
   },
   {
    "duration": 4,
    "start_time": "2023-04-01T08:09:53.319Z"
   },
   {
    "duration": 15,
    "start_time": "2023-04-01T08:09:53.326Z"
   },
   {
    "duration": 57,
    "start_time": "2023-04-01T08:09:53.342Z"
   },
   {
    "duration": 6,
    "start_time": "2023-04-01T08:09:53.401Z"
   },
   {
    "duration": 9,
    "start_time": "2023-04-01T08:09:53.409Z"
   },
   {
    "duration": 19,
    "start_time": "2023-04-01T08:09:53.420Z"
   },
   {
    "duration": 18,
    "start_time": "2023-04-01T08:09:53.442Z"
   },
   {
    "duration": 7,
    "start_time": "2023-04-01T08:09:53.462Z"
   },
   {
    "duration": 18,
    "start_time": "2023-04-01T08:09:53.471Z"
   },
   {
    "duration": 16,
    "start_time": "2023-04-01T08:09:53.491Z"
   },
   {
    "duration": 15,
    "start_time": "2023-04-01T08:09:53.511Z"
   },
   {
    "duration": 30,
    "start_time": "2023-04-01T08:09:53.528Z"
   },
   {
    "duration": 16,
    "start_time": "2023-04-01T08:09:53.560Z"
   },
   {
    "duration": 23,
    "start_time": "2023-04-01T08:09:53.577Z"
   },
   {
    "duration": 20,
    "start_time": "2023-04-01T08:09:53.602Z"
   },
   {
    "duration": 23,
    "start_time": "2023-04-01T08:09:53.624Z"
   },
   {
    "duration": 27,
    "start_time": "2023-04-01T08:09:53.649Z"
   },
   {
    "duration": 24,
    "start_time": "2023-04-01T08:09:53.678Z"
   },
   {
    "duration": 18,
    "start_time": "2023-04-01T08:09:53.704Z"
   },
   {
    "duration": 13,
    "start_time": "2023-04-01T08:09:53.723Z"
   },
   {
    "duration": 47,
    "start_time": "2023-04-01T08:09:53.738Z"
   },
   {
    "duration": 15,
    "start_time": "2023-04-01T08:09:53.787Z"
   },
   {
    "duration": 20,
    "start_time": "2023-04-01T08:09:53.804Z"
   },
   {
    "duration": 10,
    "start_time": "2023-04-01T08:09:53.826Z"
   },
   {
    "duration": 10,
    "start_time": "2023-04-01T08:09:53.838Z"
   },
   {
    "duration": 8,
    "start_time": "2023-04-01T08:09:53.849Z"
   },
   {
    "duration": 26,
    "start_time": "2023-04-01T08:09:53.858Z"
   },
   {
    "duration": 190,
    "start_time": "2023-04-01T08:09:53.886Z"
   },
   {
    "duration": 11,
    "start_time": "2023-04-01T08:09:54.077Z"
   },
   {
    "duration": 5,
    "start_time": "2023-04-01T08:09:54.091Z"
   },
   {
    "duration": 15,
    "start_time": "2023-04-01T08:09:54.097Z"
   },
   {
    "duration": 36,
    "start_time": "2023-04-01T08:09:54.113Z"
   },
   {
    "duration": 25,
    "start_time": "2023-04-01T08:09:54.151Z"
   },
   {
    "duration": 12,
    "start_time": "2023-04-01T08:09:54.178Z"
   },
   {
    "duration": 14,
    "start_time": "2023-04-01T08:09:54.191Z"
   },
   {
    "duration": 47,
    "start_time": "2023-04-01T08:09:54.207Z"
   },
   {
    "duration": 251,
    "start_time": "2023-04-01T08:49:39.500Z"
   },
   {
    "duration": 300,
    "start_time": "2023-04-01T08:51:55.503Z"
   },
   {
    "duration": 1423,
    "start_time": "2023-04-01T08:52:07.029Z"
   },
   {
    "duration": 42,
    "start_time": "2023-04-01T08:52:08.454Z"
   },
   {
    "duration": 17,
    "start_time": "2023-04-01T08:52:08.498Z"
   },
   {
    "duration": 3,
    "start_time": "2023-04-01T08:52:08.517Z"
   },
   {
    "duration": 25,
    "start_time": "2023-04-01T08:52:08.521Z"
   },
   {
    "duration": 50,
    "start_time": "2023-04-01T08:52:08.548Z"
   },
   {
    "duration": 4,
    "start_time": "2023-04-01T08:52:08.600Z"
   },
   {
    "duration": 10,
    "start_time": "2023-04-01T08:52:08.606Z"
   },
   {
    "duration": 6,
    "start_time": "2023-04-01T08:52:08.618Z"
   },
   {
    "duration": 18,
    "start_time": "2023-04-01T08:52:08.627Z"
   },
   {
    "duration": 8,
    "start_time": "2023-04-01T08:52:08.647Z"
   },
   {
    "duration": 35,
    "start_time": "2023-04-01T08:52:08.656Z"
   },
   {
    "duration": 19,
    "start_time": "2023-04-01T08:52:08.693Z"
   },
   {
    "duration": 276,
    "start_time": "2023-04-01T08:52:08.714Z"
   },
   {
    "duration": 10,
    "start_time": "2023-04-01T08:52:08.992Z"
   },
   {
    "duration": 9,
    "start_time": "2023-04-01T08:52:09.004Z"
   },
   {
    "duration": 12,
    "start_time": "2023-04-01T08:52:09.015Z"
   },
   {
    "duration": 7,
    "start_time": "2023-04-01T08:52:09.028Z"
   },
   {
    "duration": 7,
    "start_time": "2023-04-01T08:52:09.036Z"
   },
   {
    "duration": 5,
    "start_time": "2023-04-01T08:52:09.045Z"
   },
   {
    "duration": 46,
    "start_time": "2023-04-01T08:52:09.051Z"
   },
   {
    "duration": 7,
    "start_time": "2023-04-01T08:52:09.099Z"
   },
   {
    "duration": 19,
    "start_time": "2023-04-01T08:52:09.108Z"
   },
   {
    "duration": 11,
    "start_time": "2023-04-01T08:52:09.129Z"
   },
   {
    "duration": 68,
    "start_time": "2023-04-01T08:52:09.142Z"
   },
   {
    "duration": 20,
    "start_time": "2023-04-01T08:52:09.212Z"
   },
   {
    "duration": 19,
    "start_time": "2023-04-01T08:52:09.234Z"
   },
   {
    "duration": 3,
    "start_time": "2023-04-01T08:52:09.256Z"
   },
   {
    "duration": 30,
    "start_time": "2023-04-01T08:52:09.261Z"
   },
   {
    "duration": 3,
    "start_time": "2023-04-01T08:52:09.293Z"
   },
   {
    "duration": 8,
    "start_time": "2023-04-01T08:52:09.298Z"
   },
   {
    "duration": 171,
    "start_time": "2023-04-01T08:52:09.308Z"
   },
   {
    "duration": 6,
    "start_time": "2023-04-01T08:52:09.487Z"
   },
   {
    "duration": 10,
    "start_time": "2023-04-01T08:52:09.495Z"
   },
   {
    "duration": 9,
    "start_time": "2023-04-01T08:52:09.507Z"
   },
   {
    "duration": 26,
    "start_time": "2023-04-01T08:52:09.518Z"
   },
   {
    "duration": 11,
    "start_time": "2023-04-01T08:52:09.546Z"
   },
   {
    "duration": 13,
    "start_time": "2023-04-01T08:52:09.559Z"
   },
   {
    "duration": 8,
    "start_time": "2023-04-01T08:52:09.574Z"
   },
   {
    "duration": 50,
    "start_time": "2023-04-01T08:52:09.585Z"
   },
   {
    "duration": 136404,
    "start_time": "2023-04-01T08:54:51.805Z"
   },
   {
    "duration": 1532,
    "start_time": "2023-04-01T09:00:03.558Z"
   },
   {
    "duration": 44,
    "start_time": "2023-04-01T09:00:05.092Z"
   },
   {
    "duration": 19,
    "start_time": "2023-04-01T09:00:05.138Z"
   },
   {
    "duration": 21,
    "start_time": "2023-04-01T09:00:05.159Z"
   },
   {
    "duration": 30,
    "start_time": "2023-04-01T09:00:05.183Z"
   },
   {
    "duration": 76,
    "start_time": "2023-04-01T09:00:05.215Z"
   },
   {
    "duration": 9,
    "start_time": "2023-04-01T09:00:05.294Z"
   },
   {
    "duration": 34,
    "start_time": "2023-04-01T09:00:05.305Z"
   },
   {
    "duration": 52,
    "start_time": "2023-04-01T09:00:05.340Z"
   },
   {
    "duration": 56,
    "start_time": "2023-04-01T09:00:05.395Z"
   },
   {
    "duration": 15,
    "start_time": "2023-04-01T09:00:05.453Z"
   },
   {
    "duration": 25,
    "start_time": "2023-04-01T09:00:05.469Z"
   },
   {
    "duration": 51,
    "start_time": "2023-04-01T09:00:05.496Z"
   },
   {
    "duration": 294,
    "start_time": "2023-04-01T09:00:05.549Z"
   },
   {
    "duration": 10,
    "start_time": "2023-04-01T09:00:05.845Z"
   },
   {
    "duration": 18,
    "start_time": "2023-04-01T09:00:05.856Z"
   },
   {
    "duration": 37,
    "start_time": "2023-04-01T09:00:05.877Z"
   },
   {
    "duration": 29,
    "start_time": "2023-04-01T09:00:05.916Z"
   },
   {
    "duration": 38,
    "start_time": "2023-04-01T09:00:05.948Z"
   },
   {
    "duration": 33,
    "start_time": "2023-04-01T09:00:05.988Z"
   },
   {
    "duration": 37,
    "start_time": "2023-04-01T09:00:06.022Z"
   },
   {
    "duration": 12,
    "start_time": "2023-04-01T09:00:06.061Z"
   },
   {
    "duration": 38,
    "start_time": "2023-04-01T09:00:06.075Z"
   },
   {
    "duration": 26,
    "start_time": "2023-04-01T09:00:06.115Z"
   },
   {
    "duration": 79,
    "start_time": "2023-04-01T09:00:06.143Z"
   },
   {
    "duration": 16,
    "start_time": "2023-04-01T09:00:06.223Z"
   },
   {
    "duration": 20,
    "start_time": "2023-04-01T09:00:06.240Z"
   },
   {
    "duration": 26,
    "start_time": "2023-04-01T09:00:06.263Z"
   },
   {
    "duration": 39,
    "start_time": "2023-04-01T09:00:06.291Z"
   },
   {
    "duration": 46,
    "start_time": "2023-04-01T09:00:06.332Z"
   },
   {
    "duration": 22,
    "start_time": "2023-04-01T09:00:06.380Z"
   },
   {
    "duration": 192,
    "start_time": "2023-04-01T09:00:06.404Z"
   },
   {
    "duration": 6,
    "start_time": "2023-04-01T09:00:06.598Z"
   },
   {
    "duration": 35,
    "start_time": "2023-04-01T09:00:06.606Z"
   },
   {
    "duration": 31,
    "start_time": "2023-04-01T09:00:06.643Z"
   },
   {
    "duration": 27,
    "start_time": "2023-04-01T09:00:06.676Z"
   },
   {
    "duration": 11,
    "start_time": "2023-04-01T09:00:06.704Z"
   },
   {
    "duration": 14,
    "start_time": "2023-04-01T09:00:06.717Z"
   },
   {
    "duration": 6,
    "start_time": "2023-04-01T09:00:06.733Z"
   },
   {
    "duration": 46,
    "start_time": "2023-04-01T09:00:06.741Z"
   },
   {
    "duration": 1425,
    "start_time": "2023-04-01T09:02:57.827Z"
   },
   {
    "duration": 43,
    "start_time": "2023-04-01T09:02:59.254Z"
   },
   {
    "duration": 18,
    "start_time": "2023-04-01T09:02:59.299Z"
   },
   {
    "duration": 19,
    "start_time": "2023-04-01T09:02:59.319Z"
   },
   {
    "duration": 24,
    "start_time": "2023-04-01T09:02:59.340Z"
   },
   {
    "duration": 41,
    "start_time": "2023-04-01T09:02:59.366Z"
   },
   {
    "duration": 4,
    "start_time": "2023-04-01T09:02:59.409Z"
   },
   {
    "duration": 24,
    "start_time": "2023-04-01T09:02:59.415Z"
   },
   {
    "duration": 14,
    "start_time": "2023-04-01T09:02:59.441Z"
   },
   {
    "duration": 32,
    "start_time": "2023-04-01T09:02:59.458Z"
   },
   {
    "duration": 8,
    "start_time": "2023-04-01T09:02:59.492Z"
   },
   {
    "duration": 24,
    "start_time": "2023-04-01T09:02:59.502Z"
   },
   {
    "duration": 36,
    "start_time": "2023-04-01T09:02:59.528Z"
   },
   {
    "duration": 458,
    "start_time": "2023-04-01T09:02:59.566Z"
   },
   {
    "duration": 13,
    "start_time": "2023-04-01T09:03:00.026Z"
   },
   {
    "duration": 314,
    "start_time": "2023-04-01T09:03:00.041Z"
   },
   {
    "duration": 8,
    "start_time": "2023-04-01T09:03:00.357Z"
   },
   {
    "duration": 104,
    "start_time": "2023-04-01T09:03:00.367Z"
   },
   {
    "duration": 33,
    "start_time": "2023-04-01T09:03:00.474Z"
   },
   {
    "duration": 51,
    "start_time": "2023-04-01T09:03:00.509Z"
   },
   {
    "duration": 37,
    "start_time": "2023-04-01T09:03:00.562Z"
   },
   {
    "duration": 37,
    "start_time": "2023-04-01T09:03:00.601Z"
   },
   {
    "duration": 12,
    "start_time": "2023-04-01T09:03:00.641Z"
   },
   {
    "duration": 46,
    "start_time": "2023-04-01T09:03:00.655Z"
   },
   {
    "duration": 40,
    "start_time": "2023-04-01T09:03:00.703Z"
   },
   {
    "duration": 93,
    "start_time": "2023-04-01T09:03:00.745Z"
   },
   {
    "duration": 17,
    "start_time": "2023-04-01T09:03:00.840Z"
   },
   {
    "duration": 65,
    "start_time": "2023-04-01T09:03:00.861Z"
   },
   {
    "duration": 15,
    "start_time": "2023-04-01T09:03:00.929Z"
   },
   {
    "duration": 103,
    "start_time": "2023-04-01T09:03:00.946Z"
   },
   {
    "duration": 118,
    "start_time": "2023-04-01T09:03:01.051Z"
   },
   {
    "duration": 45,
    "start_time": "2023-04-01T09:03:01.171Z"
   },
   {
    "duration": 202,
    "start_time": "2023-04-01T09:03:01.217Z"
   },
   {
    "duration": 6,
    "start_time": "2023-04-01T09:03:01.421Z"
   },
   {
    "duration": 39,
    "start_time": "2023-04-01T09:03:01.429Z"
   },
   {
    "duration": 55,
    "start_time": "2023-04-01T09:03:01.470Z"
   },
   {
    "duration": 39,
    "start_time": "2023-04-01T09:03:01.527Z"
   },
   {
    "duration": 35,
    "start_time": "2023-04-01T09:03:01.567Z"
   },
   {
    "duration": 36,
    "start_time": "2023-04-01T09:03:01.604Z"
   },
   {
    "duration": 47,
    "start_time": "2023-04-01T09:03:01.643Z"
   },
   {
    "duration": 69,
    "start_time": "2023-04-01T09:03:01.693Z"
   },
   {
    "duration": 1521,
    "start_time": "2023-04-01T09:04:07.740Z"
   },
   {
    "duration": 43,
    "start_time": "2023-04-01T09:04:09.263Z"
   },
   {
    "duration": 26,
    "start_time": "2023-04-01T09:04:09.308Z"
   },
   {
    "duration": 6,
    "start_time": "2023-04-01T09:04:09.337Z"
   },
   {
    "duration": 16,
    "start_time": "2023-04-01T09:04:09.345Z"
   },
   {
    "duration": 58,
    "start_time": "2023-04-01T09:04:09.363Z"
   },
   {
    "duration": 5,
    "start_time": "2023-04-01T09:04:09.423Z"
   },
   {
    "duration": 7,
    "start_time": "2023-04-01T09:04:09.430Z"
   },
   {
    "duration": 8,
    "start_time": "2023-04-01T09:04:09.439Z"
   },
   {
    "duration": 44,
    "start_time": "2023-04-01T09:04:09.450Z"
   },
   {
    "duration": 8,
    "start_time": "2023-04-01T09:04:09.496Z"
   },
   {
    "duration": 9,
    "start_time": "2023-04-01T09:04:09.507Z"
   },
   {
    "duration": 32,
    "start_time": "2023-04-01T09:04:09.518Z"
   },
   {
    "duration": 336,
    "start_time": "2023-04-01T09:04:09.552Z"
   },
   {
    "duration": 12,
    "start_time": "2023-04-01T09:04:09.890Z"
   },
   {
    "duration": 312,
    "start_time": "2023-04-01T09:04:09.904Z"
   },
   {
    "duration": 9,
    "start_time": "2023-04-01T09:04:10.218Z"
   },
   {
    "duration": 7,
    "start_time": "2023-04-01T09:04:10.229Z"
   },
   {
    "duration": 6,
    "start_time": "2023-04-01T09:04:10.238Z"
   },
   {
    "duration": 41,
    "start_time": "2023-04-01T09:04:10.246Z"
   },
   {
    "duration": 5,
    "start_time": "2023-04-01T09:04:10.290Z"
   },
   {
    "duration": 22,
    "start_time": "2023-04-01T09:04:10.297Z"
   },
   {
    "duration": 8,
    "start_time": "2023-04-01T09:04:10.321Z"
   },
   {
    "duration": 23,
    "start_time": "2023-04-01T09:04:10.331Z"
   },
   {
    "duration": 5,
    "start_time": "2023-04-01T09:04:10.388Z"
   },
   {
    "duration": 71,
    "start_time": "2023-04-01T09:04:10.395Z"
   },
   {
    "duration": 33,
    "start_time": "2023-04-01T09:04:10.468Z"
   },
   {
    "duration": 68,
    "start_time": "2023-04-01T09:04:10.504Z"
   },
   {
    "duration": 17,
    "start_time": "2023-04-01T09:04:10.574Z"
   },
   {
    "duration": 37,
    "start_time": "2023-04-01T09:04:10.593Z"
   },
   {
    "duration": 26,
    "start_time": "2023-04-01T09:04:10.632Z"
   },
   {
    "duration": 19,
    "start_time": "2023-04-01T09:04:10.661Z"
   },
   {
    "duration": 184,
    "start_time": "2023-04-01T09:04:10.682Z"
   },
   {
    "duration": 6,
    "start_time": "2023-04-01T09:04:10.868Z"
   },
   {
    "duration": 14,
    "start_time": "2023-04-01T09:04:10.875Z"
   },
   {
    "duration": 4,
    "start_time": "2023-04-01T09:04:10.891Z"
   },
   {
    "duration": 17,
    "start_time": "2023-04-01T09:04:10.897Z"
   },
   {
    "duration": 12,
    "start_time": "2023-04-01T09:04:10.916Z"
   },
   {
    "duration": 7,
    "start_time": "2023-04-01T09:04:10.931Z"
   },
   {
    "duration": 9,
    "start_time": "2023-04-01T09:04:10.940Z"
   },
   {
    "duration": 52,
    "start_time": "2023-04-01T09:04:10.951Z"
   },
   {
    "duration": 14,
    "start_time": "2023-04-01T09:04:56.556Z"
   },
   {
    "duration": 1490,
    "start_time": "2023-04-01T09:05:14.225Z"
   },
   {
    "duration": 42,
    "start_time": "2023-04-01T09:05:15.717Z"
   },
   {
    "duration": 21,
    "start_time": "2023-04-01T09:05:15.761Z"
   },
   {
    "duration": 12,
    "start_time": "2023-04-01T09:05:15.787Z"
   },
   {
    "duration": 15,
    "start_time": "2023-04-01T09:05:15.801Z"
   },
   {
    "duration": 47,
    "start_time": "2023-04-01T09:05:15.818Z"
   },
   {
    "duration": 4,
    "start_time": "2023-04-01T09:05:15.867Z"
   },
   {
    "duration": 5,
    "start_time": "2023-04-01T09:05:15.891Z"
   },
   {
    "duration": 9,
    "start_time": "2023-04-01T09:05:15.897Z"
   },
   {
    "duration": 15,
    "start_time": "2023-04-01T09:05:15.909Z"
   },
   {
    "duration": 8,
    "start_time": "2023-04-01T09:05:15.926Z"
   },
   {
    "duration": 149,
    "start_time": "2023-04-01T09:05:15.936Z"
   },
   {
    "duration": 20,
    "start_time": "2023-04-01T09:05:16.087Z"
   },
   {
    "duration": 312,
    "start_time": "2023-04-01T09:05:16.110Z"
   },
   {
    "duration": 19,
    "start_time": "2023-04-01T09:05:16.424Z"
   },
   {
    "duration": 460,
    "start_time": "2023-04-01T09:05:16.445Z"
   },
   {
    "duration": 8,
    "start_time": "2023-04-01T09:05:16.906Z"
   },
   {
    "duration": 7,
    "start_time": "2023-04-01T09:05:16.916Z"
   },
   {
    "duration": 11,
    "start_time": "2023-04-01T09:05:16.925Z"
   },
   {
    "duration": 12,
    "start_time": "2023-04-01T09:05:16.937Z"
   },
   {
    "duration": 13,
    "start_time": "2023-04-01T09:05:16.951Z"
   },
   {
    "duration": 14,
    "start_time": "2023-04-01T09:05:16.988Z"
   },
   {
    "duration": 7,
    "start_time": "2023-04-01T09:05:17.004Z"
   },
   {
    "duration": 13,
    "start_time": "2023-04-01T09:05:17.013Z"
   },
   {
    "duration": 11,
    "start_time": "2023-04-01T09:05:17.028Z"
   },
   {
    "duration": 85,
    "start_time": "2023-04-01T09:05:17.041Z"
   },
   {
    "duration": 16,
    "start_time": "2023-04-01T09:05:17.128Z"
   },
   {
    "duration": 48,
    "start_time": "2023-04-01T09:05:17.147Z"
   },
   {
    "duration": 4,
    "start_time": "2023-04-01T09:05:17.198Z"
   },
   {
    "duration": 14,
    "start_time": "2023-04-01T09:05:17.204Z"
   },
   {
    "duration": 12,
    "start_time": "2023-04-01T09:05:17.220Z"
   },
   {
    "duration": 17,
    "start_time": "2023-04-01T09:05:17.234Z"
   },
   {
    "duration": 179,
    "start_time": "2023-04-01T09:05:17.253Z"
   },
   {
    "duration": 6,
    "start_time": "2023-04-01T09:05:17.434Z"
   },
   {
    "duration": 58,
    "start_time": "2023-04-01T09:05:17.441Z"
   },
   {
    "duration": 10,
    "start_time": "2023-04-01T09:05:17.501Z"
   },
   {
    "duration": 13,
    "start_time": "2023-04-01T09:05:17.513Z"
   },
   {
    "duration": 9,
    "start_time": "2023-04-01T09:05:17.529Z"
   },
   {
    "duration": 13,
    "start_time": "2023-04-01T09:05:17.540Z"
   },
   {
    "duration": 6,
    "start_time": "2023-04-01T09:05:17.555Z"
   },
   {
    "duration": 63,
    "start_time": "2023-04-01T09:05:17.563Z"
   },
   {
    "duration": 1595,
    "start_time": "2023-04-01T09:17:00.364Z"
   },
   {
    "duration": 45,
    "start_time": "2023-04-01T09:17:01.960Z"
   },
   {
    "duration": 20,
    "start_time": "2023-04-01T09:17:02.007Z"
   },
   {
    "duration": 42,
    "start_time": "2023-04-01T09:17:02.029Z"
   },
   {
    "duration": 44,
    "start_time": "2023-04-01T09:17:02.074Z"
   },
   {
    "duration": 72,
    "start_time": "2023-04-01T09:17:02.121Z"
   },
   {
    "duration": 5,
    "start_time": "2023-04-01T09:17:02.196Z"
   },
   {
    "duration": 7,
    "start_time": "2023-04-01T09:17:02.203Z"
   },
   {
    "duration": 12,
    "start_time": "2023-04-01T09:17:02.212Z"
   },
   {
    "duration": 21,
    "start_time": "2023-04-01T09:17:02.226Z"
   },
   {
    "duration": 10,
    "start_time": "2023-04-01T09:17:02.249Z"
   },
   {
    "duration": 38,
    "start_time": "2023-04-01T09:17:02.260Z"
   },
   {
    "duration": 24,
    "start_time": "2023-04-01T09:17:02.300Z"
   },
   {
    "duration": 303,
    "start_time": "2023-04-01T09:17:02.329Z"
   },
   {
    "duration": 14,
    "start_time": "2023-04-01T09:17:02.634Z"
   },
   {
    "duration": 47,
    "start_time": "2023-04-01T09:17:02.650Z"
   },
   {
    "duration": 365,
    "start_time": "2023-04-01T09:17:02.699Z"
   },
   {
    "duration": 8,
    "start_time": "2023-04-01T09:17:03.065Z"
   },
   {
    "duration": 6,
    "start_time": "2023-04-01T09:17:03.087Z"
   },
   {
    "duration": 15,
    "start_time": "2023-04-01T09:17:03.095Z"
   },
   {
    "duration": 7,
    "start_time": "2023-04-01T09:17:03.111Z"
   },
   {
    "duration": 18,
    "start_time": "2023-04-01T09:17:03.119Z"
   },
   {
    "duration": 20,
    "start_time": "2023-04-01T09:17:03.139Z"
   },
   {
    "duration": 9,
    "start_time": "2023-04-01T09:17:03.161Z"
   },
   {
    "duration": 15,
    "start_time": "2023-04-01T09:17:03.187Z"
   },
   {
    "duration": 7,
    "start_time": "2023-04-01T09:17:03.204Z"
   },
   {
    "duration": 84,
    "start_time": "2023-04-01T09:17:03.213Z"
   },
   {
    "duration": 24,
    "start_time": "2023-04-01T09:17:03.299Z"
   },
   {
    "duration": 18,
    "start_time": "2023-04-01T09:17:03.326Z"
   },
   {
    "duration": 3,
    "start_time": "2023-04-01T09:17:03.346Z"
   },
   {
    "duration": 36,
    "start_time": "2023-04-01T09:17:03.351Z"
   },
   {
    "duration": 3,
    "start_time": "2023-04-01T09:17:03.389Z"
   },
   {
    "duration": 10,
    "start_time": "2023-04-01T09:17:03.394Z"
   },
   {
    "duration": 168,
    "start_time": "2023-04-01T09:17:03.406Z"
   },
   {
    "duration": 13,
    "start_time": "2023-04-01T09:17:03.577Z"
   },
   {
    "duration": 10,
    "start_time": "2023-04-01T09:17:03.592Z"
   },
   {
    "duration": 41,
    "start_time": "2023-04-01T09:17:03.604Z"
   },
   {
    "duration": 21,
    "start_time": "2023-04-01T09:17:03.648Z"
   },
   {
    "duration": 8,
    "start_time": "2023-04-01T09:17:03.671Z"
   },
   {
    "duration": 8,
    "start_time": "2023-04-01T09:17:03.680Z"
   },
   {
    "duration": 6,
    "start_time": "2023-04-01T09:17:03.692Z"
   },
   {
    "duration": 50,
    "start_time": "2023-04-01T09:17:03.699Z"
   },
   {
    "duration": 18,
    "start_time": "2023-04-01T09:17:50.407Z"
   },
   {
    "duration": 25,
    "start_time": "2023-04-01T09:17:59.498Z"
   },
   {
    "duration": 135,
    "start_time": "2023-04-01T09:19:14.242Z"
   },
   {
    "duration": 13,
    "start_time": "2023-04-01T09:25:31.336Z"
   },
   {
    "duration": 1435,
    "start_time": "2023-04-01T09:26:02.810Z"
   },
   {
    "duration": 43,
    "start_time": "2023-04-01T09:26:04.247Z"
   },
   {
    "duration": 18,
    "start_time": "2023-04-01T09:26:04.291Z"
   },
   {
    "duration": 4,
    "start_time": "2023-04-01T09:26:04.311Z"
   },
   {
    "duration": 14,
    "start_time": "2023-04-01T09:26:04.318Z"
   },
   {
    "duration": 73,
    "start_time": "2023-04-01T09:26:04.334Z"
   },
   {
    "duration": 4,
    "start_time": "2023-04-01T09:26:04.409Z"
   },
   {
    "duration": 6,
    "start_time": "2023-04-01T09:26:04.415Z"
   },
   {
    "duration": 9,
    "start_time": "2023-04-01T09:26:04.422Z"
   },
   {
    "duration": 15,
    "start_time": "2023-04-01T09:26:04.433Z"
   },
   {
    "duration": 7,
    "start_time": "2023-04-01T09:26:04.450Z"
   },
   {
    "duration": 32,
    "start_time": "2023-04-01T09:26:04.458Z"
   },
   {
    "duration": 18,
    "start_time": "2023-04-01T09:26:04.492Z"
   },
   {
    "duration": 295,
    "start_time": "2023-04-01T09:26:04.514Z"
   },
   {
    "duration": 6,
    "start_time": "2023-04-01T09:26:04.810Z"
   },
   {
    "duration": 120,
    "start_time": "2023-04-01T09:26:04.818Z"
   },
   {
    "duration": 0,
    "start_time": "2023-04-01T09:26:04.940Z"
   },
   {
    "duration": 0,
    "start_time": "2023-04-01T09:26:04.940Z"
   },
   {
    "duration": 0,
    "start_time": "2023-04-01T09:26:04.942Z"
   },
   {
    "duration": 0,
    "start_time": "2023-04-01T09:26:04.943Z"
   },
   {
    "duration": 0,
    "start_time": "2023-04-01T09:26:04.944Z"
   },
   {
    "duration": 0,
    "start_time": "2023-04-01T09:26:04.945Z"
   },
   {
    "duration": 0,
    "start_time": "2023-04-01T09:26:04.947Z"
   },
   {
    "duration": 0,
    "start_time": "2023-04-01T09:26:04.948Z"
   },
   {
    "duration": 0,
    "start_time": "2023-04-01T09:26:04.949Z"
   },
   {
    "duration": 0,
    "start_time": "2023-04-01T09:26:04.950Z"
   },
   {
    "duration": 0,
    "start_time": "2023-04-01T09:26:04.951Z"
   },
   {
    "duration": 0,
    "start_time": "2023-04-01T09:26:04.951Z"
   },
   {
    "duration": 0,
    "start_time": "2023-04-01T09:26:04.953Z"
   },
   {
    "duration": 0,
    "start_time": "2023-04-01T09:26:04.954Z"
   },
   {
    "duration": 0,
    "start_time": "2023-04-01T09:26:04.954Z"
   },
   {
    "duration": 0,
    "start_time": "2023-04-01T09:26:04.956Z"
   },
   {
    "duration": 0,
    "start_time": "2023-04-01T09:26:04.956Z"
   },
   {
    "duration": 0,
    "start_time": "2023-04-01T09:26:04.987Z"
   },
   {
    "duration": 0,
    "start_time": "2023-04-01T09:26:04.988Z"
   },
   {
    "duration": 0,
    "start_time": "2023-04-01T09:26:04.989Z"
   },
   {
    "duration": 0,
    "start_time": "2023-04-01T09:26:04.991Z"
   },
   {
    "duration": 0,
    "start_time": "2023-04-01T09:26:04.992Z"
   },
   {
    "duration": 0,
    "start_time": "2023-04-01T09:26:04.992Z"
   },
   {
    "duration": 0,
    "start_time": "2023-04-01T09:26:04.994Z"
   },
   {
    "duration": 0,
    "start_time": "2023-04-01T09:26:04.995Z"
   },
   {
    "duration": 0,
    "start_time": "2023-04-01T09:26:04.996Z"
   },
   {
    "duration": 1505,
    "start_time": "2023-04-01T09:26:23.830Z"
   },
   {
    "duration": 41,
    "start_time": "2023-04-01T09:26:25.337Z"
   },
   {
    "duration": 17,
    "start_time": "2023-04-01T09:26:25.379Z"
   },
   {
    "duration": 9,
    "start_time": "2023-04-01T09:26:25.399Z"
   },
   {
    "duration": 19,
    "start_time": "2023-04-01T09:26:25.409Z"
   },
   {
    "duration": 43,
    "start_time": "2023-04-01T09:26:25.430Z"
   },
   {
    "duration": 4,
    "start_time": "2023-04-01T09:26:25.474Z"
   },
   {
    "duration": 11,
    "start_time": "2023-04-01T09:26:25.480Z"
   },
   {
    "duration": 24,
    "start_time": "2023-04-01T09:26:25.493Z"
   },
   {
    "duration": 18,
    "start_time": "2023-04-01T09:26:25.519Z"
   },
   {
    "duration": 7,
    "start_time": "2023-04-01T09:26:25.538Z"
   },
   {
    "duration": 6,
    "start_time": "2023-04-01T09:26:25.546Z"
   },
   {
    "duration": 21,
    "start_time": "2023-04-01T09:26:25.553Z"
   },
   {
    "duration": 289,
    "start_time": "2023-04-01T09:26:25.587Z"
   },
   {
    "duration": 11,
    "start_time": "2023-04-01T09:26:25.878Z"
   },
   {
    "duration": 108,
    "start_time": "2023-04-01T09:26:25.891Z"
   },
   {
    "duration": 295,
    "start_time": "2023-04-01T09:26:26.001Z"
   },
   {
    "duration": 8,
    "start_time": "2023-04-01T09:26:26.298Z"
   },
   {
    "duration": 6,
    "start_time": "2023-04-01T09:26:26.308Z"
   },
   {
    "duration": 6,
    "start_time": "2023-04-01T09:26:26.316Z"
   },
   {
    "duration": 12,
    "start_time": "2023-04-01T09:26:26.323Z"
   },
   {
    "duration": 7,
    "start_time": "2023-04-01T09:26:26.337Z"
   },
   {
    "duration": 42,
    "start_time": "2023-04-01T09:26:26.346Z"
   },
   {
    "duration": 13,
    "start_time": "2023-04-01T09:26:26.390Z"
   },
   {
    "duration": 14,
    "start_time": "2023-04-01T09:26:26.404Z"
   },
   {
    "duration": 8,
    "start_time": "2023-04-01T09:26:26.419Z"
   },
   {
    "duration": 64,
    "start_time": "2023-04-01T09:26:26.429Z"
   },
   {
    "duration": 18,
    "start_time": "2023-04-01T09:26:26.496Z"
   },
   {
    "duration": 19,
    "start_time": "2023-04-01T09:26:26.517Z"
   },
   {
    "duration": 4,
    "start_time": "2023-04-01T09:26:26.538Z"
   },
   {
    "duration": 8,
    "start_time": "2023-04-01T09:26:26.544Z"
   },
   {
    "duration": 4,
    "start_time": "2023-04-01T09:26:26.553Z"
   },
   {
    "duration": 41,
    "start_time": "2023-04-01T09:26:26.558Z"
   },
   {
    "duration": 157,
    "start_time": "2023-04-01T09:26:26.600Z"
   },
   {
    "duration": 6,
    "start_time": "2023-04-01T09:26:26.758Z"
   },
   {
    "duration": 23,
    "start_time": "2023-04-01T09:26:26.766Z"
   },
   {
    "duration": 5,
    "start_time": "2023-04-01T09:26:26.791Z"
   },
   {
    "duration": 8,
    "start_time": "2023-04-01T09:26:26.798Z"
   },
   {
    "duration": 14,
    "start_time": "2023-04-01T09:26:26.807Z"
   },
   {
    "duration": 12,
    "start_time": "2023-04-01T09:26:26.823Z"
   },
   {
    "duration": 6,
    "start_time": "2023-04-01T09:26:26.836Z"
   },
   {
    "duration": 44,
    "start_time": "2023-04-01T09:26:26.843Z"
   },
   {
    "duration": 7,
    "start_time": "2023-04-01T09:27:50.718Z"
   },
   {
    "duration": 121,
    "start_time": "2023-04-01T09:28:35.409Z"
   },
   {
    "duration": 6,
    "start_time": "2023-04-01T09:28:35.956Z"
   },
   {
    "duration": 7,
    "start_time": "2023-04-01T09:28:43.018Z"
   },
   {
    "duration": 1429,
    "start_time": "2023-04-01T09:28:54.401Z"
   },
   {
    "duration": 41,
    "start_time": "2023-04-01T09:28:55.832Z"
   },
   {
    "duration": 18,
    "start_time": "2023-04-01T09:28:55.874Z"
   },
   {
    "duration": 4,
    "start_time": "2023-04-01T09:28:55.894Z"
   },
   {
    "duration": 17,
    "start_time": "2023-04-01T09:28:55.901Z"
   },
   {
    "duration": 42,
    "start_time": "2023-04-01T09:28:55.919Z"
   },
   {
    "duration": 4,
    "start_time": "2023-04-01T09:28:55.963Z"
   },
   {
    "duration": 5,
    "start_time": "2023-04-01T09:28:55.987Z"
   },
   {
    "duration": 9,
    "start_time": "2023-04-01T09:28:55.994Z"
   },
   {
    "duration": 16,
    "start_time": "2023-04-01T09:28:56.004Z"
   },
   {
    "duration": 9,
    "start_time": "2023-04-01T09:28:56.021Z"
   },
   {
    "duration": 10,
    "start_time": "2023-04-01T09:28:56.032Z"
   },
   {
    "duration": 45,
    "start_time": "2023-04-01T09:28:56.044Z"
   },
   {
    "duration": 288,
    "start_time": "2023-04-01T09:28:56.093Z"
   },
   {
    "duration": 7,
    "start_time": "2023-04-01T09:28:56.382Z"
   },
   {
    "duration": 116,
    "start_time": "2023-04-01T09:28:56.390Z"
   },
   {
    "duration": 6,
    "start_time": "2023-04-01T09:28:56.508Z"
   },
   {
    "duration": 317,
    "start_time": "2023-04-01T09:28:56.516Z"
   },
   {
    "duration": 9,
    "start_time": "2023-04-01T09:28:56.836Z"
   },
   {
    "duration": 9,
    "start_time": "2023-04-01T09:28:56.846Z"
   },
   {
    "duration": 6,
    "start_time": "2023-04-01T09:28:56.856Z"
   },
   {
    "duration": 5,
    "start_time": "2023-04-01T09:28:56.864Z"
   },
   {
    "duration": 5,
    "start_time": "2023-04-01T09:28:56.886Z"
   },
   {
    "duration": 16,
    "start_time": "2023-04-01T09:28:56.892Z"
   },
   {
    "duration": 8,
    "start_time": "2023-04-01T09:28:56.910Z"
   },
   {
    "duration": 13,
    "start_time": "2023-04-01T09:28:56.921Z"
   },
   {
    "duration": 6,
    "start_time": "2023-04-01T09:28:56.935Z"
   },
   {
    "duration": 69,
    "start_time": "2023-04-01T09:28:56.942Z"
   },
   {
    "duration": 15,
    "start_time": "2023-04-01T09:28:57.013Z"
   },
   {
    "duration": 17,
    "start_time": "2023-04-01T09:28:57.029Z"
   },
   {
    "duration": 3,
    "start_time": "2023-04-01T09:28:57.048Z"
   },
   {
    "duration": 14,
    "start_time": "2023-04-01T09:28:57.052Z"
   },
   {
    "duration": 20,
    "start_time": "2023-04-01T09:28:57.067Z"
   },
   {
    "duration": 8,
    "start_time": "2023-04-01T09:28:57.089Z"
   },
   {
    "duration": 154,
    "start_time": "2023-04-01T09:28:57.098Z"
   },
   {
    "duration": 6,
    "start_time": "2023-04-01T09:28:57.254Z"
   },
   {
    "duration": 8,
    "start_time": "2023-04-01T09:28:57.261Z"
   },
   {
    "duration": 17,
    "start_time": "2023-04-01T09:28:57.271Z"
   },
   {
    "duration": 14,
    "start_time": "2023-04-01T09:28:57.290Z"
   },
   {
    "duration": 13,
    "start_time": "2023-04-01T09:28:57.305Z"
   },
   {
    "duration": 9,
    "start_time": "2023-04-01T09:28:57.321Z"
   },
   {
    "duration": 8,
    "start_time": "2023-04-01T09:28:57.332Z"
   },
   {
    "duration": 42,
    "start_time": "2023-04-01T09:28:57.342Z"
   },
   {
    "duration": 107,
    "start_time": "2023-04-01T09:29:49.518Z"
   },
   {
    "duration": 6,
    "start_time": "2023-04-01T09:29:50.333Z"
   },
   {
    "duration": 275,
    "start_time": "2023-04-01T09:29:53.406Z"
   },
   {
    "duration": 1395,
    "start_time": "2023-04-01T09:29:57.730Z"
   },
   {
    "duration": 44,
    "start_time": "2023-04-01T09:29:59.127Z"
   },
   {
    "duration": 17,
    "start_time": "2023-04-01T09:29:59.172Z"
   },
   {
    "duration": 5,
    "start_time": "2023-04-01T09:29:59.190Z"
   },
   {
    "duration": 18,
    "start_time": "2023-04-01T09:29:59.197Z"
   },
   {
    "duration": 51,
    "start_time": "2023-04-01T09:29:59.216Z"
   },
   {
    "duration": 5,
    "start_time": "2023-04-01T09:29:59.268Z"
   },
   {
    "duration": 21,
    "start_time": "2023-04-01T09:29:59.274Z"
   },
   {
    "duration": 15,
    "start_time": "2023-04-01T09:29:59.297Z"
   },
   {
    "duration": 22,
    "start_time": "2023-04-01T09:29:59.314Z"
   },
   {
    "duration": 8,
    "start_time": "2023-04-01T09:29:59.339Z"
   },
   {
    "duration": 25,
    "start_time": "2023-04-01T09:29:59.348Z"
   },
   {
    "duration": 36,
    "start_time": "2023-04-01T09:29:59.374Z"
   },
   {
    "duration": 288,
    "start_time": "2023-04-01T09:29:59.415Z"
   },
   {
    "duration": 6,
    "start_time": "2023-04-01T09:29:59.705Z"
   },
   {
    "duration": 154,
    "start_time": "2023-04-01T09:29:59.713Z"
   },
   {
    "duration": 0,
    "start_time": "2023-04-01T09:29:59.869Z"
   },
   {
    "duration": 0,
    "start_time": "2023-04-01T09:29:59.870Z"
   },
   {
    "duration": 0,
    "start_time": "2023-04-01T09:29:59.871Z"
   },
   {
    "duration": 0,
    "start_time": "2023-04-01T09:29:59.872Z"
   },
   {
    "duration": 0,
    "start_time": "2023-04-01T09:29:59.873Z"
   },
   {
    "duration": 0,
    "start_time": "2023-04-01T09:29:59.874Z"
   },
   {
    "duration": 0,
    "start_time": "2023-04-01T09:29:59.875Z"
   },
   {
    "duration": 0,
    "start_time": "2023-04-01T09:29:59.876Z"
   },
   {
    "duration": 0,
    "start_time": "2023-04-01T09:29:59.887Z"
   },
   {
    "duration": 0,
    "start_time": "2023-04-01T09:29:59.889Z"
   },
   {
    "duration": 0,
    "start_time": "2023-04-01T09:29:59.890Z"
   },
   {
    "duration": 0,
    "start_time": "2023-04-01T09:29:59.891Z"
   },
   {
    "duration": 0,
    "start_time": "2023-04-01T09:29:59.892Z"
   },
   {
    "duration": 0,
    "start_time": "2023-04-01T09:29:59.893Z"
   },
   {
    "duration": 0,
    "start_time": "2023-04-01T09:29:59.894Z"
   },
   {
    "duration": 0,
    "start_time": "2023-04-01T09:29:59.896Z"
   },
   {
    "duration": 0,
    "start_time": "2023-04-01T09:29:59.897Z"
   },
   {
    "duration": 0,
    "start_time": "2023-04-01T09:29:59.898Z"
   },
   {
    "duration": 0,
    "start_time": "2023-04-01T09:29:59.899Z"
   },
   {
    "duration": 0,
    "start_time": "2023-04-01T09:29:59.900Z"
   },
   {
    "duration": 0,
    "start_time": "2023-04-01T09:29:59.901Z"
   },
   {
    "duration": 0,
    "start_time": "2023-04-01T09:29:59.902Z"
   },
   {
    "duration": 0,
    "start_time": "2023-04-01T09:29:59.903Z"
   },
   {
    "duration": 0,
    "start_time": "2023-04-01T09:29:59.904Z"
   },
   {
    "duration": 0,
    "start_time": "2023-04-01T09:29:59.905Z"
   },
   {
    "duration": 0,
    "start_time": "2023-04-01T09:29:59.906Z"
   },
   {
    "duration": 0,
    "start_time": "2023-04-01T09:29:59.907Z"
   },
   {
    "duration": 1433,
    "start_time": "2023-04-01T09:30:50.806Z"
   },
   {
    "duration": 40,
    "start_time": "2023-04-01T09:30:52.242Z"
   },
   {
    "duration": 17,
    "start_time": "2023-04-01T09:30:52.284Z"
   },
   {
    "duration": 4,
    "start_time": "2023-04-01T09:30:52.303Z"
   },
   {
    "duration": 14,
    "start_time": "2023-04-01T09:30:52.309Z"
   },
   {
    "duration": 63,
    "start_time": "2023-04-01T09:30:52.325Z"
   },
   {
    "duration": 4,
    "start_time": "2023-04-01T09:30:52.391Z"
   },
   {
    "duration": 13,
    "start_time": "2023-04-01T09:30:52.397Z"
   },
   {
    "duration": 8,
    "start_time": "2023-04-01T09:30:52.411Z"
   },
   {
    "duration": 14,
    "start_time": "2023-04-01T09:30:52.422Z"
   },
   {
    "duration": 8,
    "start_time": "2023-04-01T09:30:52.438Z"
   },
   {
    "duration": 5,
    "start_time": "2023-04-01T09:30:52.447Z"
   },
   {
    "duration": 55,
    "start_time": "2023-04-01T09:30:52.454Z"
   },
   {
    "duration": 279,
    "start_time": "2023-04-01T09:30:52.511Z"
   },
   {
    "duration": 12,
    "start_time": "2023-04-01T09:30:52.792Z"
   },
   {
    "duration": 5,
    "start_time": "2023-04-01T09:30:52.806Z"
   },
   {
    "duration": 305,
    "start_time": "2023-04-01T09:30:52.813Z"
   },
   {
    "duration": 8,
    "start_time": "2023-04-01T09:30:53.119Z"
   },
   {
    "duration": 7,
    "start_time": "2023-04-01T09:30:53.129Z"
   },
   {
    "duration": 8,
    "start_time": "2023-04-01T09:30:53.138Z"
   },
   {
    "duration": 5,
    "start_time": "2023-04-01T09:30:53.148Z"
   },
   {
    "duration": 19,
    "start_time": "2023-04-01T09:30:53.155Z"
   },
   {
    "duration": 17,
    "start_time": "2023-04-01T09:30:53.188Z"
   },
   {
    "duration": 6,
    "start_time": "2023-04-01T09:30:53.206Z"
   },
   {
    "duration": 14,
    "start_time": "2023-04-01T09:30:53.214Z"
   },
   {
    "duration": 7,
    "start_time": "2023-04-01T09:30:53.230Z"
   },
   {
    "duration": 82,
    "start_time": "2023-04-01T09:30:53.239Z"
   },
   {
    "duration": 17,
    "start_time": "2023-04-01T09:30:53.325Z"
   },
   {
    "duration": 37,
    "start_time": "2023-04-01T09:30:53.344Z"
   },
   {
    "duration": 5,
    "start_time": "2023-04-01T09:30:53.383Z"
   },
   {
    "duration": 9,
    "start_time": "2023-04-01T09:30:53.390Z"
   },
   {
    "duration": 18,
    "start_time": "2023-04-01T09:30:53.400Z"
   },
   {
    "duration": 8,
    "start_time": "2023-04-01T09:30:53.420Z"
   },
   {
    "duration": 163,
    "start_time": "2023-04-01T09:30:53.430Z"
   },
   {
    "duration": 7,
    "start_time": "2023-04-01T09:30:53.595Z"
   },
   {
    "duration": 7,
    "start_time": "2023-04-01T09:30:53.604Z"
   },
   {
    "duration": 6,
    "start_time": "2023-04-01T09:30:53.613Z"
   },
   {
    "duration": 20,
    "start_time": "2023-04-01T09:30:53.621Z"
   },
   {
    "duration": 36,
    "start_time": "2023-04-01T09:30:53.643Z"
   },
   {
    "duration": 10,
    "start_time": "2023-04-01T09:30:53.681Z"
   },
   {
    "duration": 11,
    "start_time": "2023-04-01T09:30:53.693Z"
   },
   {
    "duration": 53,
    "start_time": "2023-04-01T09:30:53.705Z"
   },
   {
    "duration": 151,
    "start_time": "2023-04-01T09:44:11.103Z"
   },
   {
    "duration": 1497,
    "start_time": "2023-04-01T09:46:43.306Z"
   },
   {
    "duration": 43,
    "start_time": "2023-04-01T09:46:44.805Z"
   },
   {
    "duration": 18,
    "start_time": "2023-04-01T09:46:44.850Z"
   },
   {
    "duration": 4,
    "start_time": "2023-04-01T09:46:44.871Z"
   },
   {
    "duration": 17,
    "start_time": "2023-04-01T09:46:44.877Z"
   },
   {
    "duration": 44,
    "start_time": "2023-04-01T09:46:44.896Z"
   },
   {
    "duration": 3,
    "start_time": "2023-04-01T09:46:44.942Z"
   },
   {
    "duration": 7,
    "start_time": "2023-04-01T09:46:44.947Z"
   },
   {
    "duration": 33,
    "start_time": "2023-04-01T09:46:44.956Z"
   },
   {
    "duration": 19,
    "start_time": "2023-04-01T09:46:44.991Z"
   },
   {
    "duration": 26,
    "start_time": "2023-04-01T09:46:45.012Z"
   },
   {
    "duration": 15,
    "start_time": "2023-04-01T09:46:45.040Z"
   },
   {
    "duration": 21,
    "start_time": "2023-04-01T09:46:45.057Z"
   },
   {
    "duration": 280,
    "start_time": "2023-04-01T09:46:45.080Z"
   },
   {
    "duration": 13,
    "start_time": "2023-04-01T09:46:45.362Z"
   },
   {
    "duration": 8,
    "start_time": "2023-04-01T09:46:45.387Z"
   },
   {
    "duration": 311,
    "start_time": "2023-04-01T09:46:45.397Z"
   },
   {
    "duration": 8,
    "start_time": "2023-04-01T09:46:45.710Z"
   },
   {
    "duration": 7,
    "start_time": "2023-04-01T09:46:45.720Z"
   },
   {
    "duration": 6,
    "start_time": "2023-04-01T09:46:45.729Z"
   },
   {
    "duration": 6,
    "start_time": "2023-04-01T09:46:45.736Z"
   },
   {
    "duration": 5,
    "start_time": "2023-04-01T09:46:45.744Z"
   },
   {
    "duration": 51,
    "start_time": "2023-04-01T09:46:45.750Z"
   },
   {
    "duration": 7,
    "start_time": "2023-04-01T09:46:45.802Z"
   },
   {
    "duration": 19,
    "start_time": "2023-04-01T09:46:45.810Z"
   },
   {
    "duration": 7,
    "start_time": "2023-04-01T09:46:45.831Z"
   },
   {
    "duration": 76,
    "start_time": "2023-04-01T09:46:45.839Z"
   },
   {
    "duration": 16,
    "start_time": "2023-04-01T09:46:45.918Z"
   },
   {
    "duration": 17,
    "start_time": "2023-04-01T09:46:45.936Z"
   },
   {
    "duration": 4,
    "start_time": "2023-04-01T09:46:45.955Z"
   },
   {
    "duration": 151,
    "start_time": "2023-04-01T09:46:45.960Z"
   },
   {
    "duration": 0,
    "start_time": "2023-04-01T09:46:46.112Z"
   },
   {
    "duration": 0,
    "start_time": "2023-04-01T09:46:46.114Z"
   },
   {
    "duration": 0,
    "start_time": "2023-04-01T09:46:46.115Z"
   },
   {
    "duration": 0,
    "start_time": "2023-04-01T09:46:46.116Z"
   },
   {
    "duration": 1,
    "start_time": "2023-04-01T09:46:46.116Z"
   },
   {
    "duration": 0,
    "start_time": "2023-04-01T09:46:46.117Z"
   },
   {
    "duration": 0,
    "start_time": "2023-04-01T09:46:46.118Z"
   },
   {
    "duration": 0,
    "start_time": "2023-04-01T09:46:46.119Z"
   },
   {
    "duration": 0,
    "start_time": "2023-04-01T09:46:46.120Z"
   },
   {
    "duration": 0,
    "start_time": "2023-04-01T09:46:46.121Z"
   },
   {
    "duration": 0,
    "start_time": "2023-04-01T09:46:46.121Z"
   },
   {
    "duration": 0,
    "start_time": "2023-04-01T09:46:46.122Z"
   },
   {
    "duration": 74,
    "start_time": "2023-04-01T09:47:50.539Z"
   },
   {
    "duration": 226,
    "start_time": "2023-04-01T09:50:14.203Z"
   },
   {
    "duration": 1528,
    "start_time": "2023-04-01T09:51:32.867Z"
   },
   {
    "duration": 42,
    "start_time": "2023-04-01T09:51:34.397Z"
   },
   {
    "duration": 18,
    "start_time": "2023-04-01T09:51:34.441Z"
   },
   {
    "duration": 11,
    "start_time": "2023-04-01T09:51:34.461Z"
   },
   {
    "duration": 18,
    "start_time": "2023-04-01T09:51:34.473Z"
   },
   {
    "duration": 40,
    "start_time": "2023-04-01T09:51:34.493Z"
   },
   {
    "duration": 4,
    "start_time": "2023-04-01T09:51:34.535Z"
   },
   {
    "duration": 12,
    "start_time": "2023-04-01T09:51:34.541Z"
   },
   {
    "duration": 16,
    "start_time": "2023-04-01T09:51:34.554Z"
   },
   {
    "duration": 14,
    "start_time": "2023-04-01T09:51:34.588Z"
   },
   {
    "duration": 9,
    "start_time": "2023-04-01T09:51:34.603Z"
   },
   {
    "duration": 6,
    "start_time": "2023-04-01T09:51:34.614Z"
   },
   {
    "duration": 27,
    "start_time": "2023-04-01T09:51:34.622Z"
   },
   {
    "duration": 337,
    "start_time": "2023-04-01T09:51:34.651Z"
   },
   {
    "duration": 16,
    "start_time": "2023-04-01T09:51:34.990Z"
   },
   {
    "duration": 15,
    "start_time": "2023-04-01T09:51:35.010Z"
   },
   {
    "duration": 348,
    "start_time": "2023-04-01T09:51:35.027Z"
   },
   {
    "duration": 11,
    "start_time": "2023-04-01T09:51:35.377Z"
   },
   {
    "duration": 7,
    "start_time": "2023-04-01T09:51:35.390Z"
   },
   {
    "duration": 13,
    "start_time": "2023-04-01T09:51:35.399Z"
   },
   {
    "duration": 15,
    "start_time": "2023-04-01T09:51:35.414Z"
   },
   {
    "duration": 18,
    "start_time": "2023-04-01T09:51:35.431Z"
   },
   {
    "duration": 26,
    "start_time": "2023-04-01T09:51:35.451Z"
   },
   {
    "duration": 10,
    "start_time": "2023-04-01T09:51:35.478Z"
   },
   {
    "duration": 30,
    "start_time": "2023-04-01T09:51:35.490Z"
   },
   {
    "duration": 9,
    "start_time": "2023-04-01T09:51:35.522Z"
   },
   {
    "duration": 48,
    "start_time": "2023-04-01T09:51:35.533Z"
   },
   {
    "duration": 17,
    "start_time": "2023-04-01T09:51:35.586Z"
   },
   {
    "duration": 50,
    "start_time": "2023-04-01T09:51:35.604Z"
   },
   {
    "duration": 5,
    "start_time": "2023-04-01T09:51:35.656Z"
   },
   {
    "duration": 242,
    "start_time": "2023-04-01T09:51:35.662Z"
   },
   {
    "duration": 4,
    "start_time": "2023-04-01T09:51:35.906Z"
   },
   {
    "duration": 7,
    "start_time": "2023-04-01T09:51:35.912Z"
   },
   {
    "duration": 15,
    "start_time": "2023-04-01T09:51:35.920Z"
   },
   {
    "duration": 245,
    "start_time": "2023-04-01T09:51:35.937Z"
   },
   {
    "duration": 7,
    "start_time": "2023-04-01T09:51:36.184Z"
   },
   {
    "duration": 14,
    "start_time": "2023-04-01T09:51:36.192Z"
   },
   {
    "duration": 6,
    "start_time": "2023-04-01T09:51:36.207Z"
   },
   {
    "duration": 6,
    "start_time": "2023-04-01T09:51:36.215Z"
   },
   {
    "duration": 7,
    "start_time": "2023-04-01T09:51:36.222Z"
   },
   {
    "duration": 8,
    "start_time": "2023-04-01T09:51:36.231Z"
   },
   {
    "duration": 5,
    "start_time": "2023-04-01T09:51:36.241Z"
   },
   {
    "duration": 62,
    "start_time": "2023-04-01T09:51:36.247Z"
   },
   {
    "duration": 330,
    "start_time": "2023-04-01T10:08:25.765Z"
   },
   {
    "duration": 1559,
    "start_time": "2023-04-01T10:11:05.675Z"
   },
   {
    "duration": 48,
    "start_time": "2023-04-01T10:11:07.237Z"
   },
   {
    "duration": 19,
    "start_time": "2023-04-01T10:11:07.287Z"
   },
   {
    "duration": 17,
    "start_time": "2023-04-01T10:11:07.309Z"
   },
   {
    "duration": 19,
    "start_time": "2023-04-01T10:11:07.328Z"
   },
   {
    "duration": 64,
    "start_time": "2023-04-01T10:11:07.348Z"
   },
   {
    "duration": 5,
    "start_time": "2023-04-01T10:11:07.414Z"
   },
   {
    "duration": 19,
    "start_time": "2023-04-01T10:11:07.421Z"
   },
   {
    "duration": 11,
    "start_time": "2023-04-01T10:11:07.442Z"
   },
   {
    "duration": 19,
    "start_time": "2023-04-01T10:11:07.457Z"
   },
   {
    "duration": 15,
    "start_time": "2023-04-01T10:11:07.478Z"
   },
   {
    "duration": 6,
    "start_time": "2023-04-01T10:11:07.495Z"
   },
   {
    "duration": 17,
    "start_time": "2023-04-01T10:11:07.503Z"
   },
   {
    "duration": 314,
    "start_time": "2023-04-01T10:11:07.522Z"
   },
   {
    "duration": 13,
    "start_time": "2023-04-01T10:11:07.837Z"
   },
   {
    "duration": 6,
    "start_time": "2023-04-01T10:11:07.852Z"
   },
   {
    "duration": 309,
    "start_time": "2023-04-01T10:11:07.860Z"
   },
   {
    "duration": 17,
    "start_time": "2023-04-01T10:11:08.171Z"
   },
   {
    "duration": 6,
    "start_time": "2023-04-01T10:11:08.190Z"
   },
   {
    "duration": 7,
    "start_time": "2023-04-01T10:11:08.198Z"
   },
   {
    "duration": 6,
    "start_time": "2023-04-01T10:11:08.207Z"
   },
   {
    "duration": 7,
    "start_time": "2023-04-01T10:11:08.214Z"
   },
   {
    "duration": 17,
    "start_time": "2023-04-01T10:11:08.222Z"
   },
   {
    "duration": 5,
    "start_time": "2023-04-01T10:11:08.241Z"
   },
   {
    "duration": 46,
    "start_time": "2023-04-01T10:11:08.248Z"
   },
   {
    "duration": 7,
    "start_time": "2023-04-01T10:11:08.296Z"
   },
   {
    "duration": 46,
    "start_time": "2023-04-01T10:11:08.305Z"
   },
   {
    "duration": 39,
    "start_time": "2023-04-01T10:11:08.354Z"
   },
   {
    "duration": 18,
    "start_time": "2023-04-01T10:11:08.395Z"
   },
   {
    "duration": 5,
    "start_time": "2023-04-01T10:11:08.415Z"
   },
   {
    "duration": 277,
    "start_time": "2023-04-01T10:11:08.421Z"
   },
   {
    "duration": 5,
    "start_time": "2023-04-01T10:11:08.700Z"
   },
   {
    "duration": 6,
    "start_time": "2023-04-01T10:11:08.707Z"
   },
   {
    "duration": 8,
    "start_time": "2023-04-01T10:11:08.715Z"
   },
   {
    "duration": 275,
    "start_time": "2023-04-01T10:11:08.724Z"
   },
   {
    "duration": 5,
    "start_time": "2023-04-01T10:11:09.001Z"
   },
   {
    "duration": 7,
    "start_time": "2023-04-01T10:11:09.008Z"
   },
   {
    "duration": 6,
    "start_time": "2023-04-01T10:11:09.017Z"
   },
   {
    "duration": 7,
    "start_time": "2023-04-01T10:11:09.025Z"
   },
   {
    "duration": 7,
    "start_time": "2023-04-01T10:11:09.034Z"
   },
   {
    "duration": 6,
    "start_time": "2023-04-01T10:11:09.043Z"
   },
   {
    "duration": 38,
    "start_time": "2023-04-01T10:11:09.051Z"
   },
   {
    "duration": 44,
    "start_time": "2023-04-01T10:11:09.090Z"
   },
   {
    "duration": 60,
    "start_time": "2023-04-01T10:11:09.135Z"
   },
   {
    "duration": 84,
    "start_time": "2023-04-01T10:17:09.225Z"
   },
   {
    "duration": 81,
    "start_time": "2023-04-01T10:17:43.814Z"
   },
   {
    "duration": 27,
    "start_time": "2023-04-01T10:18:59.119Z"
   },
   {
    "duration": 49,
    "start_time": "2023-04-01T10:19:43.358Z"
   },
   {
    "duration": 83,
    "start_time": "2023-04-01T10:20:13.612Z"
   },
   {
    "duration": 106,
    "start_time": "2023-04-01T10:20:33.387Z"
   },
   {
    "duration": 332,
    "start_time": "2023-04-01T10:22:03.075Z"
   },
   {
    "duration": 87,
    "start_time": "2023-04-01T10:22:59.501Z"
   },
   {
    "duration": 1613,
    "start_time": "2023-04-01T10:28:33.948Z"
   },
   {
    "duration": 45,
    "start_time": "2023-04-01T10:28:35.563Z"
   },
   {
    "duration": 18,
    "start_time": "2023-04-01T10:28:35.609Z"
   },
   {
    "duration": 10,
    "start_time": "2023-04-01T10:28:35.629Z"
   },
   {
    "duration": 23,
    "start_time": "2023-04-01T10:28:35.640Z"
   },
   {
    "duration": 52,
    "start_time": "2023-04-01T10:28:35.664Z"
   },
   {
    "duration": 4,
    "start_time": "2023-04-01T10:28:35.718Z"
   },
   {
    "duration": 10,
    "start_time": "2023-04-01T10:28:35.723Z"
   },
   {
    "duration": 16,
    "start_time": "2023-04-01T10:28:35.735Z"
   },
   {
    "duration": 39,
    "start_time": "2023-04-01T10:28:35.754Z"
   },
   {
    "duration": 8,
    "start_time": "2023-04-01T10:28:35.795Z"
   },
   {
    "duration": 19,
    "start_time": "2023-04-01T10:28:35.804Z"
   },
   {
    "duration": 22,
    "start_time": "2023-04-01T10:28:35.824Z"
   },
   {
    "duration": 302,
    "start_time": "2023-04-01T10:28:35.848Z"
   },
   {
    "duration": 12,
    "start_time": "2023-04-01T10:28:36.152Z"
   },
   {
    "duration": 22,
    "start_time": "2023-04-01T10:28:36.165Z"
   },
   {
    "duration": 323,
    "start_time": "2023-04-01T10:28:36.189Z"
   },
   {
    "duration": 14,
    "start_time": "2023-04-01T10:28:36.514Z"
   },
   {
    "duration": 28,
    "start_time": "2023-04-01T10:28:36.530Z"
   },
   {
    "duration": 18,
    "start_time": "2023-04-01T10:28:36.560Z"
   },
   {
    "duration": 19,
    "start_time": "2023-04-01T10:28:36.580Z"
   },
   {
    "duration": 7,
    "start_time": "2023-04-01T10:28:36.601Z"
   },
   {
    "duration": 22,
    "start_time": "2023-04-01T10:28:36.610Z"
   },
   {
    "duration": 12,
    "start_time": "2023-04-01T10:28:36.634Z"
   },
   {
    "duration": 25,
    "start_time": "2023-04-01T10:28:36.648Z"
   },
   {
    "duration": 17,
    "start_time": "2023-04-01T10:28:36.675Z"
   },
   {
    "duration": 53,
    "start_time": "2023-04-01T10:28:36.695Z"
   },
   {
    "duration": 18,
    "start_time": "2023-04-01T10:28:36.752Z"
   },
   {
    "duration": 30,
    "start_time": "2023-04-01T10:28:36.772Z"
   },
   {
    "duration": 8,
    "start_time": "2023-04-01T10:28:36.804Z"
   },
   {
    "duration": 250,
    "start_time": "2023-04-01T10:28:36.814Z"
   },
   {
    "duration": 4,
    "start_time": "2023-04-01T10:28:37.066Z"
   },
   {
    "duration": 22,
    "start_time": "2023-04-01T10:28:37.072Z"
   },
   {
    "duration": 29,
    "start_time": "2023-04-01T10:28:37.095Z"
   },
   {
    "duration": 255,
    "start_time": "2023-04-01T10:28:37.126Z"
   },
   {
    "duration": 7,
    "start_time": "2023-04-01T10:28:37.387Z"
   },
   {
    "duration": 7,
    "start_time": "2023-04-01T10:28:37.395Z"
   },
   {
    "duration": 20,
    "start_time": "2023-04-01T10:28:37.404Z"
   },
   {
    "duration": 12,
    "start_time": "2023-04-01T10:28:37.426Z"
   },
   {
    "duration": 16,
    "start_time": "2023-04-01T10:28:37.440Z"
   },
   {
    "duration": 15,
    "start_time": "2023-04-01T10:28:37.457Z"
   },
   {
    "duration": 21,
    "start_time": "2023-04-01T10:28:37.474Z"
   },
   {
    "duration": 76,
    "start_time": "2023-04-01T10:28:37.497Z"
   },
   {
    "duration": 115,
    "start_time": "2023-04-01T10:28:37.575Z"
   },
   {
    "duration": 67,
    "start_time": "2023-04-01T10:30:42.238Z"
   },
   {
    "duration": 1630,
    "start_time": "2023-04-01T11:44:19.512Z"
   },
   {
    "duration": 539,
    "start_time": "2023-04-01T11:44:58.376Z"
   },
   {
    "duration": 350,
    "start_time": "2023-04-01T11:45:26.919Z"
   },
   {
    "duration": 361,
    "start_time": "2023-04-01T11:45:44.303Z"
   },
   {
    "duration": 361,
    "start_time": "2023-04-01T11:46:03.862Z"
   },
   {
    "duration": 352,
    "start_time": "2023-04-01T11:46:19.470Z"
   },
   {
    "duration": 453,
    "start_time": "2023-04-01T11:55:40.347Z"
   },
   {
    "duration": 371,
    "start_time": "2023-04-01T11:56:15.866Z"
   },
   {
    "duration": 109417,
    "start_time": "2023-04-01T12:01:37.937Z"
   },
   {
    "duration": 108464,
    "start_time": "2023-04-01T12:04:10.444Z"
   },
   {
    "duration": 109344,
    "start_time": "2023-04-01T12:07:17.903Z"
   },
   {
    "duration": 26145,
    "start_time": "2023-04-01T12:09:45.002Z"
   },
   {
    "duration": 18181,
    "start_time": "2023-04-01T12:11:10.941Z"
   },
   {
    "duration": 14945,
    "start_time": "2023-04-01T12:14:16.570Z"
   },
   {
    "duration": 26222,
    "start_time": "2023-04-01T12:14:43.429Z"
   },
   {
    "duration": 8752,
    "start_time": "2023-04-01T12:15:14.229Z"
   },
   {
    "duration": 8862,
    "start_time": "2023-04-01T12:16:09.099Z"
   },
   {
    "duration": 1570,
    "start_time": "2023-04-01T12:18:19.426Z"
   },
   {
    "duration": 43,
    "start_time": "2023-04-01T12:18:20.998Z"
   },
   {
    "duration": 18,
    "start_time": "2023-04-01T12:18:21.043Z"
   },
   {
    "duration": 6,
    "start_time": "2023-04-01T12:18:21.062Z"
   },
   {
    "duration": 21,
    "start_time": "2023-04-01T12:18:21.070Z"
   },
   {
    "duration": 47,
    "start_time": "2023-04-01T12:18:21.093Z"
   },
   {
    "duration": 5,
    "start_time": "2023-04-01T12:18:21.142Z"
   },
   {
    "duration": 13,
    "start_time": "2023-04-01T12:18:21.148Z"
   },
   {
    "duration": 27,
    "start_time": "2023-04-01T12:18:21.163Z"
   },
   {
    "duration": 31,
    "start_time": "2023-04-01T12:18:21.193Z"
   },
   {
    "duration": 8,
    "start_time": "2023-04-01T12:18:21.226Z"
   },
   {
    "duration": 5,
    "start_time": "2023-04-01T12:18:21.236Z"
   },
   {
    "duration": 16,
    "start_time": "2023-04-01T12:18:21.243Z"
   },
   {
    "duration": 295,
    "start_time": "2023-04-01T12:18:21.263Z"
   },
   {
    "duration": 13,
    "start_time": "2023-04-01T12:18:21.560Z"
   },
   {
    "duration": 17,
    "start_time": "2023-04-01T12:18:21.574Z"
   },
   {
    "duration": 330,
    "start_time": "2023-04-01T12:18:21.595Z"
   },
   {
    "duration": 8,
    "start_time": "2023-04-01T12:18:21.927Z"
   },
   {
    "duration": 7,
    "start_time": "2023-04-01T12:18:21.937Z"
   },
   {
    "duration": 6,
    "start_time": "2023-04-01T12:18:21.946Z"
   },
   {
    "duration": 6,
    "start_time": "2023-04-01T12:18:21.954Z"
   },
   {
    "duration": 6,
    "start_time": "2023-04-01T12:18:21.987Z"
   },
   {
    "duration": 22,
    "start_time": "2023-04-01T12:18:21.995Z"
   },
   {
    "duration": 5,
    "start_time": "2023-04-01T12:18:22.019Z"
   },
   {
    "duration": 13,
    "start_time": "2023-04-01T12:18:22.026Z"
   },
   {
    "duration": 6,
    "start_time": "2023-04-01T12:18:22.040Z"
   },
   {
    "duration": 76,
    "start_time": "2023-04-01T12:18:22.048Z"
   },
   {
    "duration": 16,
    "start_time": "2023-04-01T12:18:22.126Z"
   },
   {
    "duration": 20,
    "start_time": "2023-04-01T12:18:22.144Z"
   },
   {
    "duration": 25,
    "start_time": "2023-04-01T12:18:22.165Z"
   },
   {
    "duration": 263,
    "start_time": "2023-04-01T12:18:22.192Z"
   },
   {
    "duration": 4,
    "start_time": "2023-04-01T12:18:22.457Z"
   },
   {
    "duration": 7,
    "start_time": "2023-04-01T12:18:22.463Z"
   },
   {
    "duration": 25,
    "start_time": "2023-04-01T12:18:22.472Z"
   },
   {
    "duration": 239,
    "start_time": "2023-04-01T12:18:22.500Z"
   },
   {
    "duration": 5,
    "start_time": "2023-04-01T12:18:22.740Z"
   },
   {
    "duration": 6,
    "start_time": "2023-04-01T12:18:22.746Z"
   },
   {
    "duration": 7,
    "start_time": "2023-04-01T12:18:22.753Z"
   },
   {
    "duration": 6,
    "start_time": "2023-04-01T12:18:22.761Z"
   },
   {
    "duration": 19,
    "start_time": "2023-04-01T12:18:22.769Z"
   },
   {
    "duration": 10,
    "start_time": "2023-04-01T12:18:22.793Z"
   },
   {
    "duration": 21,
    "start_time": "2023-04-01T12:18:22.805Z"
   },
   {
    "duration": 43,
    "start_time": "2023-04-01T12:18:22.828Z"
   },
   {
    "duration": 136,
    "start_time": "2023-04-01T12:18:22.873Z"
   },
   {
    "duration": 379,
    "start_time": "2023-04-01T12:18:23.089Z"
   },
   {
    "duration": 8893,
    "start_time": "2023-04-01T12:18:23.470Z"
   },
   {
    "duration": 1707,
    "start_time": "2023-04-01T12:21:11.408Z"
   },
   {
    "duration": 42,
    "start_time": "2023-04-01T12:21:13.117Z"
   },
   {
    "duration": 18,
    "start_time": "2023-04-01T12:21:13.160Z"
   },
   {
    "duration": 4,
    "start_time": "2023-04-01T12:21:13.180Z"
   },
   {
    "duration": 32,
    "start_time": "2023-04-01T12:21:13.185Z"
   },
   {
    "duration": 44,
    "start_time": "2023-04-01T12:21:13.218Z"
   },
   {
    "duration": 4,
    "start_time": "2023-04-01T12:21:13.263Z"
   },
   {
    "duration": 8,
    "start_time": "2023-04-01T12:21:13.269Z"
   },
   {
    "duration": 13,
    "start_time": "2023-04-01T12:21:13.279Z"
   },
   {
    "duration": 16,
    "start_time": "2023-04-01T12:21:13.296Z"
   },
   {
    "duration": 8,
    "start_time": "2023-04-01T12:21:13.313Z"
   },
   {
    "duration": 6,
    "start_time": "2023-04-01T12:21:13.323Z"
   },
   {
    "duration": 18,
    "start_time": "2023-04-01T12:21:13.331Z"
   },
   {
    "duration": 337,
    "start_time": "2023-04-01T12:21:13.350Z"
   },
   {
    "duration": 13,
    "start_time": "2023-04-01T12:21:13.689Z"
   },
   {
    "duration": 10,
    "start_time": "2023-04-01T12:21:13.704Z"
   },
   {
    "duration": 337,
    "start_time": "2023-04-01T12:21:13.716Z"
   },
   {
    "duration": 8,
    "start_time": "2023-04-01T12:21:14.055Z"
   },
   {
    "duration": 7,
    "start_time": "2023-04-01T12:21:14.064Z"
   },
   {
    "duration": 30,
    "start_time": "2023-04-01T12:21:14.073Z"
   },
   {
    "duration": 10,
    "start_time": "2023-04-01T12:21:14.105Z"
   },
   {
    "duration": 8,
    "start_time": "2023-04-01T12:21:14.117Z"
   },
   {
    "duration": 22,
    "start_time": "2023-04-01T12:21:14.127Z"
   },
   {
    "duration": 7,
    "start_time": "2023-04-01T12:21:14.150Z"
   },
   {
    "duration": 38,
    "start_time": "2023-04-01T12:21:14.159Z"
   },
   {
    "duration": 16,
    "start_time": "2023-04-01T12:21:14.200Z"
   },
   {
    "duration": 46,
    "start_time": "2023-04-01T12:21:14.218Z"
   },
   {
    "duration": 35,
    "start_time": "2023-04-01T12:21:14.268Z"
   },
   {
    "duration": 21,
    "start_time": "2023-04-01T12:21:14.306Z"
   },
   {
    "duration": 4,
    "start_time": "2023-04-01T12:21:14.330Z"
   },
   {
    "duration": 286,
    "start_time": "2023-04-01T12:21:14.336Z"
   },
   {
    "duration": 5,
    "start_time": "2023-04-01T12:21:14.624Z"
   },
   {
    "duration": 4,
    "start_time": "2023-04-01T12:21:14.631Z"
   },
   {
    "duration": 25,
    "start_time": "2023-04-01T12:21:14.637Z"
   },
   {
    "duration": 265,
    "start_time": "2023-04-01T12:21:14.664Z"
   },
   {
    "duration": 5,
    "start_time": "2023-04-01T12:21:14.931Z"
   },
   {
    "duration": 7,
    "start_time": "2023-04-01T12:21:14.938Z"
   },
   {
    "duration": 5,
    "start_time": "2023-04-01T12:21:14.947Z"
   },
   {
    "duration": 5,
    "start_time": "2023-04-01T12:21:14.954Z"
   },
   {
    "duration": 5,
    "start_time": "2023-04-01T12:21:14.961Z"
   },
   {
    "duration": 5,
    "start_time": "2023-04-01T12:21:14.988Z"
   },
   {
    "duration": 40,
    "start_time": "2023-04-01T12:21:14.995Z"
   },
   {
    "duration": 46,
    "start_time": "2023-04-01T12:21:15.037Z"
   },
   {
    "duration": 126,
    "start_time": "2023-04-01T12:21:15.085Z"
   },
   {
    "duration": 363,
    "start_time": "2023-04-01T12:21:15.287Z"
   },
   {
    "duration": 8960,
    "start_time": "2023-04-01T12:21:15.652Z"
   },
   {
    "duration": 1723,
    "start_time": "2023-04-01T12:21:31.681Z"
   },
   {
    "duration": 49,
    "start_time": "2023-04-01T12:21:33.407Z"
   },
   {
    "duration": 17,
    "start_time": "2023-04-01T12:21:33.459Z"
   },
   {
    "duration": 6,
    "start_time": "2023-04-01T12:21:33.478Z"
   },
   {
    "duration": 28,
    "start_time": "2023-04-01T12:21:33.486Z"
   },
   {
    "duration": 41,
    "start_time": "2023-04-01T12:21:33.515Z"
   },
   {
    "duration": 3,
    "start_time": "2023-04-01T12:21:33.558Z"
   },
   {
    "duration": 13,
    "start_time": "2023-04-01T12:21:33.563Z"
   },
   {
    "duration": 7,
    "start_time": "2023-04-01T12:21:33.594Z"
   },
   {
    "duration": 21,
    "start_time": "2023-04-01T12:21:33.607Z"
   },
   {
    "duration": 10,
    "start_time": "2023-04-01T12:21:33.630Z"
   },
   {
    "duration": 14,
    "start_time": "2023-04-01T12:21:33.641Z"
   },
   {
    "duration": 26,
    "start_time": "2023-04-01T12:21:33.656Z"
   },
   {
    "duration": 329,
    "start_time": "2023-04-01T12:21:33.687Z"
   },
   {
    "duration": 12,
    "start_time": "2023-04-01T12:21:34.019Z"
   },
   {
    "duration": 8,
    "start_time": "2023-04-01T12:21:34.033Z"
   },
   {
    "duration": 338,
    "start_time": "2023-04-01T12:21:34.043Z"
   },
   {
    "duration": 10,
    "start_time": "2023-04-01T12:21:34.387Z"
   },
   {
    "duration": 19,
    "start_time": "2023-04-01T12:21:34.399Z"
   },
   {
    "duration": 7,
    "start_time": "2023-04-01T12:21:34.420Z"
   },
   {
    "duration": 8,
    "start_time": "2023-04-01T12:21:34.428Z"
   },
   {
    "duration": 4,
    "start_time": "2023-04-01T12:21:34.438Z"
   },
   {
    "duration": 14,
    "start_time": "2023-04-01T12:21:34.444Z"
   },
   {
    "duration": 34,
    "start_time": "2023-04-01T12:21:34.460Z"
   },
   {
    "duration": 18,
    "start_time": "2023-04-01T12:21:34.497Z"
   },
   {
    "duration": 16,
    "start_time": "2023-04-01T12:21:34.517Z"
   },
   {
    "duration": 68,
    "start_time": "2023-04-01T12:21:34.534Z"
   },
   {
    "duration": 20,
    "start_time": "2023-04-01T12:21:34.604Z"
   },
   {
    "duration": 19,
    "start_time": "2023-04-01T12:21:34.625Z"
   },
   {
    "duration": 15,
    "start_time": "2023-04-01T12:21:34.646Z"
   },
   {
    "duration": 292,
    "start_time": "2023-04-01T12:21:34.663Z"
   },
   {
    "duration": 4,
    "start_time": "2023-04-01T12:21:34.956Z"
   },
   {
    "duration": 12,
    "start_time": "2023-04-01T12:21:34.962Z"
   },
   {
    "duration": 24,
    "start_time": "2023-04-01T12:21:34.976Z"
   },
   {
    "duration": 252,
    "start_time": "2023-04-01T12:21:35.003Z"
   },
   {
    "duration": 7,
    "start_time": "2023-04-01T12:21:35.257Z"
   },
   {
    "duration": 19,
    "start_time": "2023-04-01T12:21:35.265Z"
   },
   {
    "duration": 41,
    "start_time": "2023-04-01T12:21:35.285Z"
   },
   {
    "duration": 19,
    "start_time": "2023-04-01T12:21:35.328Z"
   },
   {
    "duration": 10,
    "start_time": "2023-04-01T12:21:35.349Z"
   },
   {
    "duration": 23,
    "start_time": "2023-04-01T12:21:35.363Z"
   },
   {
    "duration": 36,
    "start_time": "2023-04-01T12:21:35.388Z"
   },
   {
    "duration": 59,
    "start_time": "2023-04-01T12:21:35.426Z"
   },
   {
    "duration": 200,
    "start_time": "2023-04-01T12:21:35.487Z"
   },
   {
    "duration": 416,
    "start_time": "2023-04-01T12:21:35.689Z"
   },
   {
    "duration": 8939,
    "start_time": "2023-04-01T12:21:36.107Z"
   },
   {
    "duration": 252,
    "start_time": "2023-04-01T12:22:52.890Z"
   },
   {
    "duration": 379,
    "start_time": "2023-04-01T12:23:07.002Z"
   },
   {
    "duration": 16149,
    "start_time": "2023-04-01T12:23:56.220Z"
   },
   {
    "duration": 10802,
    "start_time": "2023-04-01T12:24:26.089Z"
   },
   {
    "duration": 15824,
    "start_time": "2023-04-01T12:24:45.306Z"
   },
   {
    "duration": 19227,
    "start_time": "2023-04-01T12:25:10.403Z"
   },
   {
    "duration": 12990,
    "start_time": "2023-04-01T12:25:46.498Z"
   },
   {
    "duration": 161,
    "start_time": "2023-04-01T12:35:01.816Z"
   },
   {
    "duration": 191,
    "start_time": "2023-04-01T12:35:20.440Z"
   },
   {
    "duration": 161,
    "start_time": "2023-04-01T12:36:11.690Z"
   },
   {
    "duration": 135,
    "start_time": "2023-04-01T12:36:18.632Z"
   },
   {
    "duration": 174,
    "start_time": "2023-04-01T12:42:51.990Z"
   },
   {
    "duration": 6,
    "start_time": "2023-04-01T12:43:01.998Z"
   },
   {
    "duration": 114,
    "start_time": "2023-04-01T12:45:08.802Z"
   },
   {
    "duration": 163,
    "start_time": "2023-04-01T12:46:09.684Z"
   },
   {
    "duration": 319,
    "start_time": "2023-04-01T12:53:06.539Z"
   },
   {
    "duration": 59,
    "start_time": "2023-04-01T15:43:17.585Z"
   },
   {
    "duration": 1803,
    "start_time": "2023-04-01T15:43:26.376Z"
   },
   {
    "duration": 193,
    "start_time": "2023-04-01T15:43:28.181Z"
   },
   {
    "duration": 24,
    "start_time": "2023-04-01T15:43:28.377Z"
   },
   {
    "duration": 24,
    "start_time": "2023-04-01T15:43:28.403Z"
   },
   {
    "duration": 21,
    "start_time": "2023-04-01T15:43:28.429Z"
   },
   {
    "duration": 61,
    "start_time": "2023-04-01T15:43:28.453Z"
   },
   {
    "duration": 7,
    "start_time": "2023-04-01T15:43:28.516Z"
   },
   {
    "duration": 26,
    "start_time": "2023-04-01T15:43:28.527Z"
   },
   {
    "duration": 23,
    "start_time": "2023-04-01T15:43:28.555Z"
   },
   {
    "duration": 55,
    "start_time": "2023-04-01T15:43:28.581Z"
   },
   {
    "duration": 13,
    "start_time": "2023-04-01T15:43:28.638Z"
   },
   {
    "duration": 20,
    "start_time": "2023-04-01T15:43:28.654Z"
   },
   {
    "duration": 52,
    "start_time": "2023-04-01T15:43:28.676Z"
   },
   {
    "duration": 287,
    "start_time": "2023-04-01T15:43:28.730Z"
   },
   {
    "duration": 12,
    "start_time": "2023-04-01T15:43:29.019Z"
   },
   {
    "duration": 17,
    "start_time": "2023-04-01T15:43:29.033Z"
   },
   {
    "duration": 306,
    "start_time": "2023-04-01T15:43:29.051Z"
   },
   {
    "duration": 7,
    "start_time": "2023-04-01T15:43:29.358Z"
   },
   {
    "duration": 30,
    "start_time": "2023-04-01T15:43:29.366Z"
   },
   {
    "duration": 34,
    "start_time": "2023-04-01T15:43:29.397Z"
   },
   {
    "duration": 13,
    "start_time": "2023-04-01T15:43:29.433Z"
   },
   {
    "duration": 37,
    "start_time": "2023-04-01T15:43:29.448Z"
   },
   {
    "duration": 45,
    "start_time": "2023-04-01T15:43:29.497Z"
   },
   {
    "duration": 5,
    "start_time": "2023-04-01T15:43:29.544Z"
   },
   {
    "duration": 16,
    "start_time": "2023-04-01T15:43:29.550Z"
   },
   {
    "duration": 47,
    "start_time": "2023-04-01T15:43:29.567Z"
   },
   {
    "duration": 50,
    "start_time": "2023-04-01T15:43:29.615Z"
   },
   {
    "duration": 13,
    "start_time": "2023-04-01T15:43:29.668Z"
   },
   {
    "duration": 25,
    "start_time": "2023-04-01T15:43:29.686Z"
   },
   {
    "duration": 10,
    "start_time": "2023-04-01T15:43:29.712Z"
   },
   {
    "duration": 255,
    "start_time": "2023-04-01T15:43:29.724Z"
   },
   {
    "duration": 6,
    "start_time": "2023-04-01T15:43:29.982Z"
   },
   {
    "duration": 48,
    "start_time": "2023-04-01T15:43:29.989Z"
   },
   {
    "duration": 75,
    "start_time": "2023-04-01T15:43:30.039Z"
   },
   {
    "duration": 298,
    "start_time": "2023-04-01T15:43:30.116Z"
   },
   {
    "duration": 5,
    "start_time": "2023-04-01T15:43:30.416Z"
   },
   {
    "duration": 57,
    "start_time": "2023-04-01T15:43:30.423Z"
   },
   {
    "duration": 59,
    "start_time": "2023-04-01T15:43:30.482Z"
   },
   {
    "duration": 29,
    "start_time": "2023-04-01T15:43:30.543Z"
   },
   {
    "duration": 64,
    "start_time": "2023-04-01T15:43:30.575Z"
   },
   {
    "duration": 37,
    "start_time": "2023-04-01T15:43:30.641Z"
   },
   {
    "duration": 49,
    "start_time": "2023-04-01T15:43:30.680Z"
   },
   {
    "duration": 86,
    "start_time": "2023-04-01T15:43:30.731Z"
   },
   {
    "duration": 168,
    "start_time": "2023-04-01T15:43:30.819Z"
   },
   {
    "duration": 381,
    "start_time": "2023-04-01T15:43:30.989Z"
   },
   {
    "duration": 12800,
    "start_time": "2023-04-01T15:43:31.372Z"
   },
   {
    "duration": 152,
    "start_time": "2023-04-01T15:43:44.174Z"
   },
   {
    "duration": 330,
    "start_time": "2023-04-01T15:43:44.327Z"
   },
   {
    "duration": 204,
    "start_time": "2023-04-01T15:43:44.658Z"
   },
   {
    "duration": 203,
    "start_time": "2023-04-01T15:44:08.147Z"
   },
   {
    "duration": 11,
    "start_time": "2023-04-01T16:07:44.012Z"
   },
   {
    "duration": 14,
    "start_time": "2023-04-01T16:26:50.081Z"
   },
   {
    "duration": 1646,
    "start_time": "2023-04-01T16:36:49.635Z"
   },
   {
    "duration": 63,
    "start_time": "2023-04-01T16:36:51.283Z"
   },
   {
    "duration": 25,
    "start_time": "2023-04-01T16:36:51.348Z"
   },
   {
    "duration": 4,
    "start_time": "2023-04-01T16:36:51.375Z"
   },
   {
    "duration": 56,
    "start_time": "2023-04-01T16:36:51.382Z"
   },
   {
    "duration": 51,
    "start_time": "2023-04-01T16:36:51.440Z"
   },
   {
    "duration": 8,
    "start_time": "2023-04-01T16:36:51.492Z"
   },
   {
    "duration": 24,
    "start_time": "2023-04-01T16:36:51.501Z"
   },
   {
    "duration": 15,
    "start_time": "2023-04-01T16:36:51.527Z"
   },
   {
    "duration": 15,
    "start_time": "2023-04-01T16:36:51.544Z"
   },
   {
    "duration": 10,
    "start_time": "2023-04-01T16:36:51.560Z"
   },
   {
    "duration": 23,
    "start_time": "2023-04-01T16:36:51.572Z"
   },
   {
    "duration": 31,
    "start_time": "2023-04-01T16:36:51.601Z"
   },
   {
    "duration": 318,
    "start_time": "2023-04-01T16:36:51.636Z"
   },
   {
    "duration": 13,
    "start_time": "2023-04-01T16:36:51.957Z"
   },
   {
    "duration": 11,
    "start_time": "2023-04-01T16:36:51.986Z"
   },
   {
    "duration": 327,
    "start_time": "2023-04-01T16:36:51.999Z"
   },
   {
    "duration": 6,
    "start_time": "2023-04-01T16:36:52.328Z"
   },
   {
    "duration": 14,
    "start_time": "2023-04-01T16:36:52.336Z"
   },
   {
    "duration": 21,
    "start_time": "2023-04-01T16:36:52.352Z"
   },
   {
    "duration": 42,
    "start_time": "2023-04-01T16:36:52.374Z"
   },
   {
    "duration": 7,
    "start_time": "2023-04-01T16:36:52.418Z"
   },
   {
    "duration": 26,
    "start_time": "2023-04-01T16:36:52.426Z"
   },
   {
    "duration": 5,
    "start_time": "2023-04-01T16:36:52.454Z"
   },
   {
    "duration": 13,
    "start_time": "2023-04-01T16:36:52.461Z"
   },
   {
    "duration": 12,
    "start_time": "2023-04-01T16:36:52.476Z"
   },
   {
    "duration": 70,
    "start_time": "2023-04-01T16:36:52.491Z"
   },
   {
    "duration": 16,
    "start_time": "2023-04-01T16:36:52.562Z"
   },
   {
    "duration": 24,
    "start_time": "2023-04-01T16:36:52.580Z"
   },
   {
    "duration": 17,
    "start_time": "2023-04-01T16:36:52.605Z"
   },
   {
    "duration": 230,
    "start_time": "2023-04-01T16:36:52.624Z"
   },
   {
    "duration": 4,
    "start_time": "2023-04-01T16:36:52.856Z"
   },
   {
    "duration": 8,
    "start_time": "2023-04-01T16:36:52.862Z"
   },
   {
    "duration": 23,
    "start_time": "2023-04-01T16:36:52.872Z"
   },
   {
    "duration": 251,
    "start_time": "2023-04-01T16:36:52.897Z"
   },
   {
    "duration": 6,
    "start_time": "2023-04-01T16:36:53.149Z"
   },
   {
    "duration": 59,
    "start_time": "2023-04-01T16:36:53.156Z"
   },
   {
    "duration": 6,
    "start_time": "2023-04-01T16:36:53.217Z"
   },
   {
    "duration": 8,
    "start_time": "2023-04-01T16:36:53.224Z"
   },
   {
    "duration": 9,
    "start_time": "2023-04-01T16:36:53.233Z"
   },
   {
    "duration": 4,
    "start_time": "2023-04-01T16:36:53.247Z"
   },
   {
    "duration": 8,
    "start_time": "2023-04-01T16:36:53.253Z"
   },
   {
    "duration": 59,
    "start_time": "2023-04-01T16:36:53.263Z"
   },
   {
    "duration": 73,
    "start_time": "2023-04-01T16:36:53.325Z"
   },
   {
    "duration": 454,
    "start_time": "2023-04-01T16:36:53.400Z"
   },
   {
    "duration": 12787,
    "start_time": "2023-04-01T16:36:53.856Z"
   },
   {
    "duration": 175,
    "start_time": "2023-04-01T16:37:06.645Z"
   },
   {
    "duration": 305,
    "start_time": "2023-04-01T16:37:06.822Z"
   },
   {
    "duration": 209,
    "start_time": "2023-04-01T16:37:07.128Z"
   },
   {
    "duration": 12,
    "start_time": "2023-04-01T16:37:07.339Z"
   },
   {
    "duration": 161,
    "start_time": "2023-04-01T16:48:50.463Z"
   },
   {
    "duration": 1583,
    "start_time": "2023-04-01T16:48:57.680Z"
   },
   {
    "duration": 63,
    "start_time": "2023-04-01T16:48:59.265Z"
   },
   {
    "duration": 16,
    "start_time": "2023-04-01T16:48:59.330Z"
   },
   {
    "duration": 23,
    "start_time": "2023-04-01T16:48:59.348Z"
   },
   {
    "duration": 18,
    "start_time": "2023-04-01T16:48:59.373Z"
   },
   {
    "duration": 69,
    "start_time": "2023-04-01T16:48:59.393Z"
   },
   {
    "duration": 5,
    "start_time": "2023-04-01T16:48:59.463Z"
   },
   {
    "duration": 8,
    "start_time": "2023-04-01T16:48:59.470Z"
   },
   {
    "duration": 41,
    "start_time": "2023-04-01T16:48:59.480Z"
   },
   {
    "duration": 21,
    "start_time": "2023-04-01T16:48:59.524Z"
   },
   {
    "duration": 9,
    "start_time": "2023-04-01T16:48:59.546Z"
   },
   {
    "duration": 5,
    "start_time": "2023-04-01T16:48:59.556Z"
   },
   {
    "duration": 18,
    "start_time": "2023-04-01T16:48:59.562Z"
   },
   {
    "duration": 330,
    "start_time": "2023-04-01T16:48:59.581Z"
   },
   {
    "duration": 15,
    "start_time": "2023-04-01T16:48:59.913Z"
   },
   {
    "duration": 16,
    "start_time": "2023-04-01T16:48:59.930Z"
   },
   {
    "duration": 362,
    "start_time": "2023-04-01T16:48:59.947Z"
   },
   {
    "duration": 11,
    "start_time": "2023-04-01T16:49:00.314Z"
   },
   {
    "duration": 12,
    "start_time": "2023-04-01T16:49:00.326Z"
   },
   {
    "duration": 8,
    "start_time": "2023-04-01T16:49:00.339Z"
   },
   {
    "duration": 8,
    "start_time": "2023-04-01T16:49:00.348Z"
   },
   {
    "duration": 9,
    "start_time": "2023-04-01T16:49:00.358Z"
   },
   {
    "duration": 28,
    "start_time": "2023-04-01T16:49:00.390Z"
   },
   {
    "duration": 19,
    "start_time": "2023-04-01T16:49:00.419Z"
   },
   {
    "duration": 22,
    "start_time": "2023-04-01T16:49:00.440Z"
   },
   {
    "duration": 19,
    "start_time": "2023-04-01T16:49:00.464Z"
   },
   {
    "duration": 86,
    "start_time": "2023-04-01T16:49:00.484Z"
   },
   {
    "duration": 18,
    "start_time": "2023-04-01T16:49:00.575Z"
   },
   {
    "duration": 43,
    "start_time": "2023-04-01T16:49:00.597Z"
   },
   {
    "duration": 9,
    "start_time": "2023-04-01T16:49:00.642Z"
   },
   {
    "duration": 277,
    "start_time": "2023-04-01T16:49:00.653Z"
   },
   {
    "duration": 4,
    "start_time": "2023-04-01T16:49:00.932Z"
   },
   {
    "duration": 36,
    "start_time": "2023-04-01T16:49:00.938Z"
   },
   {
    "duration": 70,
    "start_time": "2023-04-01T16:49:00.976Z"
   },
   {
    "duration": 284,
    "start_time": "2023-04-01T16:49:01.048Z"
   },
   {
    "duration": 6,
    "start_time": "2023-04-01T16:49:01.334Z"
   },
   {
    "duration": 34,
    "start_time": "2023-04-01T16:49:01.342Z"
   },
   {
    "duration": 43,
    "start_time": "2023-04-01T16:49:01.379Z"
   },
   {
    "duration": 22,
    "start_time": "2023-04-01T16:49:01.424Z"
   },
   {
    "duration": 21,
    "start_time": "2023-04-01T16:49:01.448Z"
   },
   {
    "duration": 15,
    "start_time": "2023-04-01T16:49:01.471Z"
   },
   {
    "duration": 60,
    "start_time": "2023-04-01T16:49:01.487Z"
   },
   {
    "duration": 58,
    "start_time": "2023-04-01T16:49:01.549Z"
   },
   {
    "duration": 132,
    "start_time": "2023-04-01T16:49:01.609Z"
   },
   {
    "duration": 0,
    "start_time": "2023-04-01T16:49:01.743Z"
   },
   {
    "duration": 0,
    "start_time": "2023-04-01T16:49:01.744Z"
   },
   {
    "duration": 0,
    "start_time": "2023-04-01T16:49:01.745Z"
   },
   {
    "duration": 0,
    "start_time": "2023-04-01T16:49:01.747Z"
   },
   {
    "duration": 0,
    "start_time": "2023-04-01T16:49:01.748Z"
   },
   {
    "duration": 0,
    "start_time": "2023-04-01T16:49:01.749Z"
   },
   {
    "duration": 0,
    "start_time": "2023-04-01T16:49:01.750Z"
   },
   {
    "duration": 1592,
    "start_time": "2023-04-01T16:49:24.716Z"
   },
   {
    "duration": 52,
    "start_time": "2023-04-01T16:49:26.324Z"
   },
   {
    "duration": 22,
    "start_time": "2023-04-01T16:49:26.378Z"
   },
   {
    "duration": 23,
    "start_time": "2023-04-01T16:49:26.405Z"
   },
   {
    "duration": 25,
    "start_time": "2023-04-01T16:49:26.434Z"
   },
   {
    "duration": 66,
    "start_time": "2023-04-01T16:49:26.461Z"
   },
   {
    "duration": 5,
    "start_time": "2023-04-01T16:49:26.529Z"
   },
   {
    "duration": 14,
    "start_time": "2023-04-01T16:49:26.536Z"
   },
   {
    "duration": 9,
    "start_time": "2023-04-01T16:49:26.551Z"
   },
   {
    "duration": 14,
    "start_time": "2023-04-01T16:49:26.562Z"
   },
   {
    "duration": 18,
    "start_time": "2023-04-01T16:49:26.583Z"
   },
   {
    "duration": 38,
    "start_time": "2023-04-01T16:49:26.606Z"
   },
   {
    "duration": 18,
    "start_time": "2023-04-01T16:49:26.647Z"
   },
   {
    "duration": 395,
    "start_time": "2023-04-01T16:49:26.668Z"
   },
   {
    "duration": 39,
    "start_time": "2023-04-01T16:49:27.065Z"
   },
   {
    "duration": 12,
    "start_time": "2023-04-01T16:49:27.112Z"
   },
   {
    "duration": 390,
    "start_time": "2023-04-01T16:49:27.126Z"
   },
   {
    "duration": 11,
    "start_time": "2023-04-01T16:49:27.518Z"
   },
   {
    "duration": 41,
    "start_time": "2023-04-01T16:49:27.531Z"
   },
   {
    "duration": 53,
    "start_time": "2023-04-01T16:49:27.575Z"
   },
   {
    "duration": 11,
    "start_time": "2023-04-01T16:49:27.631Z"
   },
   {
    "duration": 9,
    "start_time": "2023-04-01T16:49:27.643Z"
   },
   {
    "duration": 32,
    "start_time": "2023-04-01T16:49:27.653Z"
   },
   {
    "duration": 39,
    "start_time": "2023-04-01T16:49:27.687Z"
   },
   {
    "duration": 26,
    "start_time": "2023-04-01T16:49:27.729Z"
   },
   {
    "duration": 25,
    "start_time": "2023-04-01T16:49:27.757Z"
   },
   {
    "duration": 78,
    "start_time": "2023-04-01T16:49:27.790Z"
   },
   {
    "duration": 31,
    "start_time": "2023-04-01T16:49:27.870Z"
   },
   {
    "duration": 34,
    "start_time": "2023-04-01T16:49:27.905Z"
   },
   {
    "duration": 4,
    "start_time": "2023-04-01T16:49:27.941Z"
   },
   {
    "duration": 272,
    "start_time": "2023-04-01T16:49:27.946Z"
   },
   {
    "duration": 4,
    "start_time": "2023-04-01T16:49:28.220Z"
   },
   {
    "duration": 7,
    "start_time": "2023-04-01T16:49:28.226Z"
   },
   {
    "duration": 7,
    "start_time": "2023-04-01T16:49:28.235Z"
   },
   {
    "duration": 246,
    "start_time": "2023-04-01T16:49:28.244Z"
   },
   {
    "duration": 10,
    "start_time": "2023-04-01T16:49:28.493Z"
   },
   {
    "duration": 37,
    "start_time": "2023-04-01T16:49:28.511Z"
   },
   {
    "duration": 14,
    "start_time": "2023-04-01T16:49:28.550Z"
   },
   {
    "duration": 8,
    "start_time": "2023-04-01T16:49:28.566Z"
   },
   {
    "duration": 65,
    "start_time": "2023-04-01T16:49:28.576Z"
   },
   {
    "duration": 13,
    "start_time": "2023-04-01T16:49:28.647Z"
   },
   {
    "duration": 14,
    "start_time": "2023-04-01T16:49:28.662Z"
   },
   {
    "duration": 91,
    "start_time": "2023-04-01T16:49:28.678Z"
   },
   {
    "duration": 136,
    "start_time": "2023-04-01T16:49:28.771Z"
   },
   {
    "duration": 417,
    "start_time": "2023-04-01T16:49:28.913Z"
   },
   {
    "duration": 12736,
    "start_time": "2023-04-01T16:49:29.332Z"
   },
   {
    "duration": 164,
    "start_time": "2023-04-01T16:49:42.070Z"
   },
   {
    "duration": 336,
    "start_time": "2023-04-01T16:49:42.235Z"
   },
   {
    "duration": 196,
    "start_time": "2023-04-01T16:49:42.573Z"
   },
   {
    "duration": 34,
    "start_time": "2023-04-01T16:49:42.771Z"
   },
   {
    "duration": 30,
    "start_time": "2023-04-01T16:49:42.807Z"
   },
   {
    "duration": 6,
    "start_time": "2023-04-01T16:51:31.030Z"
   },
   {
    "duration": 80,
    "start_time": "2023-04-01T16:52:12.230Z"
   },
   {
    "duration": 126,
    "start_time": "2023-04-01T16:52:33.071Z"
   },
   {
    "duration": 488,
    "start_time": "2023-04-01T16:56:57.068Z"
   },
   {
    "duration": 21561,
    "start_time": "2023-04-01T17:00:35.865Z"
   },
   {
    "duration": 25269,
    "start_time": "2023-04-01T17:01:34.648Z"
   },
   {
    "duration": 39266,
    "start_time": "2023-04-01T17:02:19.932Z"
   },
   {
    "duration": 1722,
    "start_time": "2023-04-01T17:04:33.811Z"
   },
   {
    "duration": 46,
    "start_time": "2023-04-01T17:04:35.536Z"
   },
   {
    "duration": 26,
    "start_time": "2023-04-01T17:04:35.586Z"
   },
   {
    "duration": 48,
    "start_time": "2023-04-01T17:04:35.616Z"
   },
   {
    "duration": 79,
    "start_time": "2023-04-01T17:04:35.666Z"
   },
   {
    "duration": 116,
    "start_time": "2023-04-01T17:04:35.747Z"
   },
   {
    "duration": 4,
    "start_time": "2023-04-01T17:04:35.866Z"
   },
   {
    "duration": 60,
    "start_time": "2023-04-01T17:04:35.871Z"
   },
   {
    "duration": 26,
    "start_time": "2023-04-01T17:04:35.934Z"
   },
   {
    "duration": 85,
    "start_time": "2023-04-01T17:04:35.962Z"
   },
   {
    "duration": 35,
    "start_time": "2023-04-01T17:04:36.049Z"
   },
   {
    "duration": 62,
    "start_time": "2023-04-01T17:04:36.089Z"
   },
   {
    "duration": 70,
    "start_time": "2023-04-01T17:04:36.153Z"
   },
   {
    "duration": 334,
    "start_time": "2023-04-01T17:04:36.227Z"
   },
   {
    "duration": 36,
    "start_time": "2023-04-01T17:04:36.563Z"
   },
   {
    "duration": 53,
    "start_time": "2023-04-01T17:04:36.607Z"
   },
   {
    "duration": 395,
    "start_time": "2023-04-01T17:04:36.662Z"
   },
   {
    "duration": 6,
    "start_time": "2023-04-01T17:04:37.059Z"
   },
   {
    "duration": 28,
    "start_time": "2023-04-01T17:04:37.066Z"
   },
   {
    "duration": 5,
    "start_time": "2023-04-01T17:04:37.102Z"
   },
   {
    "duration": 66,
    "start_time": "2023-04-01T17:04:37.109Z"
   },
   {
    "duration": 59,
    "start_time": "2023-04-01T17:04:37.176Z"
   },
   {
    "duration": 24,
    "start_time": "2023-04-01T17:04:37.237Z"
   },
   {
    "duration": 63,
    "start_time": "2023-04-01T17:04:37.263Z"
   },
   {
    "duration": 20,
    "start_time": "2023-04-01T17:04:37.328Z"
   },
   {
    "duration": 9,
    "start_time": "2023-04-01T17:04:37.349Z"
   },
   {
    "duration": 71,
    "start_time": "2023-04-01T17:04:37.359Z"
   },
   {
    "duration": 15,
    "start_time": "2023-04-01T17:04:37.432Z"
   },
   {
    "duration": 15,
    "start_time": "2023-04-01T17:04:37.449Z"
   },
   {
    "duration": 3,
    "start_time": "2023-04-01T17:04:37.466Z"
   },
   {
    "duration": 262,
    "start_time": "2023-04-01T17:04:37.470Z"
   },
   {
    "duration": 7,
    "start_time": "2023-04-01T17:04:37.733Z"
   },
   {
    "duration": 89,
    "start_time": "2023-04-01T17:04:37.741Z"
   },
   {
    "duration": 8,
    "start_time": "2023-04-01T17:04:37.832Z"
   },
   {
    "duration": 250,
    "start_time": "2023-04-01T17:04:37.842Z"
   },
   {
    "duration": 11,
    "start_time": "2023-04-01T17:04:38.094Z"
   },
   {
    "duration": 62,
    "start_time": "2023-04-01T17:04:38.111Z"
   },
   {
    "duration": 51,
    "start_time": "2023-04-01T17:04:38.175Z"
   },
   {
    "duration": 39,
    "start_time": "2023-04-01T17:04:38.228Z"
   },
   {
    "duration": 67,
    "start_time": "2023-04-01T17:04:38.269Z"
   },
   {
    "duration": 8,
    "start_time": "2023-04-01T17:04:38.341Z"
   },
   {
    "duration": 20,
    "start_time": "2023-04-01T17:04:38.350Z"
   },
   {
    "duration": 92,
    "start_time": "2023-04-01T17:04:38.371Z"
   },
   {
    "duration": 50,
    "start_time": "2023-04-01T17:04:38.465Z"
   },
   {
    "duration": 452,
    "start_time": "2023-04-01T17:04:38.519Z"
   },
   {
    "duration": 28619,
    "start_time": "2023-04-01T17:04:38.973Z"
   },
   {
    "duration": 177,
    "start_time": "2023-04-01T17:05:07.593Z"
   },
   {
    "duration": 364,
    "start_time": "2023-04-01T17:05:07.772Z"
   },
   {
    "duration": 207,
    "start_time": "2023-04-01T17:05:08.141Z"
   },
   {
    "duration": 12,
    "start_time": "2023-04-01T17:05:08.350Z"
   },
   {
    "duration": 233,
    "start_time": "2023-04-01T17:05:08.363Z"
   },
   {
    "duration": 454,
    "start_time": "2023-04-01T17:05:08.598Z"
   },
   {
    "duration": 36973,
    "start_time": "2023-04-01T17:05:09.054Z"
   },
   {
    "duration": 115,
    "start_time": "2023-04-01T17:11:27.151Z"
   },
   {
    "duration": 3,
    "start_time": "2023-04-01T17:13:10.844Z"
   },
   {
    "duration": 24,
    "start_time": "2023-04-01T17:33:12.777Z"
   },
   {
    "duration": 165,
    "start_time": "2023-04-01T17:34:50.519Z"
   },
   {
    "duration": 255,
    "start_time": "2023-04-01T17:35:29.737Z"
   },
   {
    "duration": 16064,
    "start_time": "2023-04-01T17:36:19.339Z"
   },
   {
    "duration": 1700,
    "start_time": "2023-04-04T05:23:03.852Z"
   },
   {
    "duration": 166,
    "start_time": "2023-04-04T05:23:05.554Z"
   },
   {
    "duration": 19,
    "start_time": "2023-04-04T05:23:05.721Z"
   },
   {
    "duration": 18,
    "start_time": "2023-04-04T05:23:05.742Z"
   },
   {
    "duration": 31,
    "start_time": "2023-04-04T05:23:05.762Z"
   },
   {
    "duration": 54,
    "start_time": "2023-04-04T05:23:05.795Z"
   },
   {
    "duration": 4,
    "start_time": "2023-04-04T05:23:05.852Z"
   },
   {
    "duration": 26,
    "start_time": "2023-04-04T05:23:05.858Z"
   },
   {
    "duration": 17,
    "start_time": "2023-04-04T05:23:05.886Z"
   },
   {
    "duration": 22,
    "start_time": "2023-04-04T05:23:05.905Z"
   },
   {
    "duration": 9,
    "start_time": "2023-04-04T05:23:05.929Z"
   },
   {
    "duration": 7,
    "start_time": "2023-04-04T05:23:05.940Z"
   },
   {
    "duration": 19,
    "start_time": "2023-04-04T05:23:05.948Z"
   },
   {
    "duration": 322,
    "start_time": "2023-04-04T05:23:05.972Z"
   },
   {
    "duration": 22,
    "start_time": "2023-04-04T05:23:06.296Z"
   },
   {
    "duration": 5,
    "start_time": "2023-04-04T05:23:06.320Z"
   },
   {
    "duration": 309,
    "start_time": "2023-04-04T05:23:06.327Z"
   },
   {
    "duration": 10,
    "start_time": "2023-04-04T05:23:06.638Z"
   },
   {
    "duration": 12,
    "start_time": "2023-04-04T05:23:06.651Z"
   },
   {
    "duration": 11,
    "start_time": "2023-04-04T05:23:06.665Z"
   },
   {
    "duration": 6,
    "start_time": "2023-04-04T05:23:06.679Z"
   },
   {
    "duration": 31,
    "start_time": "2023-04-04T05:23:06.688Z"
   },
   {
    "duration": 19,
    "start_time": "2023-04-04T05:23:06.721Z"
   },
   {
    "duration": 6,
    "start_time": "2023-04-04T05:23:06.742Z"
   },
   {
    "duration": 19,
    "start_time": "2023-04-04T05:23:06.749Z"
   },
   {
    "duration": 8,
    "start_time": "2023-04-04T05:23:06.771Z"
   },
   {
    "duration": 67,
    "start_time": "2023-04-04T05:23:06.780Z"
   },
   {
    "duration": 16,
    "start_time": "2023-04-04T05:23:06.849Z"
   },
   {
    "duration": 30,
    "start_time": "2023-04-04T05:23:06.867Z"
   },
   {
    "duration": 5,
    "start_time": "2023-04-04T05:23:06.921Z"
   },
   {
    "duration": 244,
    "start_time": "2023-04-04T05:23:06.927Z"
   },
   {
    "duration": 5,
    "start_time": "2023-04-04T05:23:07.174Z"
   },
   {
    "duration": 18,
    "start_time": "2023-04-04T05:23:07.181Z"
   },
   {
    "duration": 14,
    "start_time": "2023-04-04T05:23:07.201Z"
   },
   {
    "duration": 230,
    "start_time": "2023-04-04T05:23:07.217Z"
   },
   {
    "duration": 7,
    "start_time": "2023-04-04T05:23:07.449Z"
   },
   {
    "duration": 10,
    "start_time": "2023-04-04T05:23:07.457Z"
   },
   {
    "duration": 13,
    "start_time": "2023-04-04T05:23:07.468Z"
   },
   {
    "duration": 10,
    "start_time": "2023-04-04T05:23:07.482Z"
   },
   {
    "duration": 10,
    "start_time": "2023-04-04T05:23:07.494Z"
   },
   {
    "duration": 12,
    "start_time": "2023-04-04T05:23:07.508Z"
   },
   {
    "duration": 13,
    "start_time": "2023-04-04T05:23:07.522Z"
   },
   {
    "duration": 50,
    "start_time": "2023-04-04T05:23:07.537Z"
   },
   {
    "duration": 137,
    "start_time": "2023-04-04T05:23:07.589Z"
   },
   {
    "duration": 444,
    "start_time": "2023-04-04T05:23:07.728Z"
   },
   {
    "duration": 24189,
    "start_time": "2023-04-04T05:23:08.174Z"
   },
   {
    "duration": 189,
    "start_time": "2023-04-04T05:23:32.365Z"
   },
   {
    "duration": 311,
    "start_time": "2023-04-04T05:23:32.556Z"
   },
   {
    "duration": 182,
    "start_time": "2023-04-04T05:23:32.868Z"
   },
   {
    "duration": 13,
    "start_time": "2023-04-04T05:23:33.051Z"
   },
   {
    "duration": 59,
    "start_time": "2023-04-04T05:23:33.066Z"
   },
   {
    "duration": 525,
    "start_time": "2023-04-04T05:23:33.127Z"
   },
   {
    "duration": 32301,
    "start_time": "2023-04-04T05:23:33.654Z"
   },
   {
    "duration": 14,
    "start_time": "2023-04-04T05:24:05.957Z"
   },
   {
    "duration": 58,
    "start_time": "2023-04-04T05:24:05.973Z"
   },
   {
    "duration": 313,
    "start_time": "2023-04-04T05:24:06.120Z"
   },
   {
    "duration": 14170,
    "start_time": "2023-04-04T05:24:06.435Z"
   },
   {
    "duration": 11,
    "start_time": "2023-04-04T05:24:20.608Z"
   },
   {
    "duration": 1460,
    "start_time": "2023-04-04T05:30:47.853Z"
   },
   {
    "duration": 41,
    "start_time": "2023-04-04T05:30:49.315Z"
   },
   {
    "duration": 17,
    "start_time": "2023-04-04T05:30:49.358Z"
   },
   {
    "duration": 10,
    "start_time": "2023-04-04T05:30:49.377Z"
   },
   {
    "duration": 22,
    "start_time": "2023-04-04T05:30:49.389Z"
   },
   {
    "duration": 41,
    "start_time": "2023-04-04T05:30:49.412Z"
   },
   {
    "duration": 4,
    "start_time": "2023-04-04T05:30:49.455Z"
   },
   {
    "duration": 31,
    "start_time": "2023-04-04T05:30:49.461Z"
   },
   {
    "duration": 22,
    "start_time": "2023-04-04T05:30:49.494Z"
   },
   {
    "duration": 28,
    "start_time": "2023-04-04T05:30:49.518Z"
   },
   {
    "duration": 16,
    "start_time": "2023-04-04T05:30:49.548Z"
   },
   {
    "duration": 11,
    "start_time": "2023-04-04T05:30:49.566Z"
   },
   {
    "duration": 37,
    "start_time": "2023-04-04T05:30:49.578Z"
   },
   {
    "duration": 283,
    "start_time": "2023-04-04T05:30:49.618Z"
   },
   {
    "duration": 18,
    "start_time": "2023-04-04T05:30:49.903Z"
   },
   {
    "duration": 10,
    "start_time": "2023-04-04T05:30:49.923Z"
   },
   {
    "duration": 326,
    "start_time": "2023-04-04T05:30:49.935Z"
   },
   {
    "duration": 10,
    "start_time": "2023-04-04T05:30:50.263Z"
   },
   {
    "duration": 25,
    "start_time": "2023-04-04T05:30:50.275Z"
   },
   {
    "duration": 19,
    "start_time": "2023-04-04T05:30:50.302Z"
   },
   {
    "duration": 26,
    "start_time": "2023-04-04T05:30:50.322Z"
   },
   {
    "duration": 14,
    "start_time": "2023-04-04T05:30:50.349Z"
   },
   {
    "duration": 17,
    "start_time": "2023-04-04T05:30:50.365Z"
   },
   {
    "duration": 13,
    "start_time": "2023-04-04T05:30:50.383Z"
   },
   {
    "duration": 15,
    "start_time": "2023-04-04T05:30:50.398Z"
   },
   {
    "duration": 13,
    "start_time": "2023-04-04T05:30:50.414Z"
   },
   {
    "duration": 48,
    "start_time": "2023-04-04T05:30:50.429Z"
   },
   {
    "duration": 16,
    "start_time": "2023-04-04T05:30:50.479Z"
   },
   {
    "duration": 37,
    "start_time": "2023-04-04T05:30:50.497Z"
   },
   {
    "duration": 26,
    "start_time": "2023-04-04T05:30:50.535Z"
   },
   {
    "duration": 254,
    "start_time": "2023-04-04T05:30:50.563Z"
   },
   {
    "duration": 4,
    "start_time": "2023-04-04T05:30:50.819Z"
   },
   {
    "duration": 35,
    "start_time": "2023-04-04T05:30:50.825Z"
   },
   {
    "duration": 25,
    "start_time": "2023-04-04T05:30:50.862Z"
   },
   {
    "duration": 248,
    "start_time": "2023-04-04T05:30:50.888Z"
   },
   {
    "duration": 6,
    "start_time": "2023-04-04T05:30:51.137Z"
   },
   {
    "duration": 8,
    "start_time": "2023-04-04T05:30:51.144Z"
   },
   {
    "duration": 38,
    "start_time": "2023-04-04T05:30:51.153Z"
   },
   {
    "duration": 30,
    "start_time": "2023-04-04T05:30:51.193Z"
   },
   {
    "duration": 42,
    "start_time": "2023-04-04T05:30:51.225Z"
   },
   {
    "duration": 31,
    "start_time": "2023-04-04T05:30:51.272Z"
   },
   {
    "duration": 33,
    "start_time": "2023-04-04T05:30:51.305Z"
   },
   {
    "duration": 58,
    "start_time": "2023-04-04T05:30:51.340Z"
   },
   {
    "duration": 31,
    "start_time": "2023-04-04T05:30:51.400Z"
   },
   {
    "duration": 557,
    "start_time": "2023-04-04T05:30:51.434Z"
   },
   {
    "duration": 24679,
    "start_time": "2023-04-04T05:30:51.994Z"
   },
   {
    "duration": 161,
    "start_time": "2023-04-04T05:31:16.675Z"
   },
   {
    "duration": 314,
    "start_time": "2023-04-04T05:31:16.838Z"
   },
   {
    "duration": 215,
    "start_time": "2023-04-04T05:31:17.154Z"
   },
   {
    "duration": 15,
    "start_time": "2023-04-04T05:31:17.371Z"
   },
   {
    "duration": 135,
    "start_time": "2023-04-04T05:31:17.389Z"
   },
   {
    "duration": 505,
    "start_time": "2023-04-04T05:31:17.527Z"
   },
   {
    "duration": 34380,
    "start_time": "2023-04-04T05:31:18.034Z"
   },
   {
    "duration": 17,
    "start_time": "2023-04-04T05:31:52.418Z"
   },
   {
    "duration": 190,
    "start_time": "2023-04-04T05:31:52.437Z"
   },
   {
    "duration": 390,
    "start_time": "2023-04-04T05:31:52.630Z"
   },
   {
    "duration": 14269,
    "start_time": "2023-04-04T05:31:53.021Z"
   },
   {
    "duration": 3,
    "start_time": "2023-04-04T05:32:07.292Z"
   },
   {
    "duration": 1577,
    "start_time": "2023-04-04T05:38:46.692Z"
   },
   {
    "duration": 41,
    "start_time": "2023-04-04T05:38:48.271Z"
   },
   {
    "duration": 19,
    "start_time": "2023-04-04T05:38:48.314Z"
   },
   {
    "duration": 11,
    "start_time": "2023-04-04T05:38:48.335Z"
   },
   {
    "duration": 17,
    "start_time": "2023-04-04T05:38:48.348Z"
   },
   {
    "duration": 60,
    "start_time": "2023-04-04T05:38:48.366Z"
   },
   {
    "duration": 15,
    "start_time": "2023-04-04T05:38:48.428Z"
   },
   {
    "duration": 18,
    "start_time": "2023-04-04T05:38:48.445Z"
   },
   {
    "duration": 17,
    "start_time": "2023-04-04T05:38:48.465Z"
   },
   {
    "duration": 20,
    "start_time": "2023-04-04T05:38:48.485Z"
   },
   {
    "duration": 16,
    "start_time": "2023-04-04T05:38:48.507Z"
   },
   {
    "duration": 35,
    "start_time": "2023-04-04T05:38:48.525Z"
   },
   {
    "duration": 27,
    "start_time": "2023-04-04T05:38:48.562Z"
   },
   {
    "duration": 292,
    "start_time": "2023-04-04T05:38:48.591Z"
   },
   {
    "duration": 12,
    "start_time": "2023-04-04T05:38:48.884Z"
   },
   {
    "duration": 27,
    "start_time": "2023-04-04T05:38:48.898Z"
   },
   {
    "duration": 327,
    "start_time": "2023-04-04T05:38:48.927Z"
   },
   {
    "duration": 8,
    "start_time": "2023-04-04T05:38:49.256Z"
   },
   {
    "duration": 42,
    "start_time": "2023-04-04T05:38:49.265Z"
   },
   {
    "duration": 27,
    "start_time": "2023-04-04T05:38:49.309Z"
   },
   {
    "duration": 37,
    "start_time": "2023-04-04T05:38:49.339Z"
   },
   {
    "duration": 22,
    "start_time": "2023-04-04T05:38:49.378Z"
   },
   {
    "duration": 37,
    "start_time": "2023-04-04T05:38:49.402Z"
   },
   {
    "duration": 6,
    "start_time": "2023-04-04T05:38:49.441Z"
   },
   {
    "duration": 32,
    "start_time": "2023-04-04T05:38:49.448Z"
   },
   {
    "duration": 32,
    "start_time": "2023-04-04T05:38:49.482Z"
   },
   {
    "duration": 74,
    "start_time": "2023-04-04T05:38:49.516Z"
   },
   {
    "duration": 18,
    "start_time": "2023-04-04T05:38:49.595Z"
   },
   {
    "duration": 20,
    "start_time": "2023-04-04T05:38:49.615Z"
   },
   {
    "duration": 24,
    "start_time": "2023-04-04T05:38:49.637Z"
   },
   {
    "duration": 261,
    "start_time": "2023-04-04T05:38:49.663Z"
   },
   {
    "duration": 5,
    "start_time": "2023-04-04T05:38:49.926Z"
   },
   {
    "duration": 23,
    "start_time": "2023-04-04T05:38:49.933Z"
   },
   {
    "duration": 34,
    "start_time": "2023-04-04T05:38:49.958Z"
   },
   {
    "duration": 257,
    "start_time": "2023-04-04T05:38:49.994Z"
   },
   {
    "duration": 7,
    "start_time": "2023-04-04T05:38:50.253Z"
   },
   {
    "duration": 10,
    "start_time": "2023-04-04T05:38:50.262Z"
   },
   {
    "duration": 14,
    "start_time": "2023-04-04T05:38:50.274Z"
   },
   {
    "duration": 15,
    "start_time": "2023-04-04T05:38:50.290Z"
   },
   {
    "duration": 21,
    "start_time": "2023-04-04T05:38:50.307Z"
   },
   {
    "duration": 21,
    "start_time": "2023-04-04T05:38:50.329Z"
   },
   {
    "duration": 20,
    "start_time": "2023-04-04T05:38:50.352Z"
   },
   {
    "duration": 57,
    "start_time": "2023-04-04T05:38:50.375Z"
   },
   {
    "duration": 190,
    "start_time": "2023-04-04T05:38:50.433Z"
   },
   {
    "duration": 401,
    "start_time": "2023-04-04T05:38:50.627Z"
   },
   {
    "duration": 26198,
    "start_time": "2023-04-04T05:38:51.030Z"
   },
   {
    "duration": 157,
    "start_time": "2023-04-04T05:39:17.230Z"
   },
   {
    "duration": 317,
    "start_time": "2023-04-04T05:39:17.389Z"
   },
   {
    "duration": 215,
    "start_time": "2023-04-04T05:39:17.708Z"
   },
   {
    "duration": 14,
    "start_time": "2023-04-04T05:39:17.925Z"
   },
   {
    "duration": 286,
    "start_time": "2023-04-04T05:39:17.940Z"
   },
   {
    "duration": 471,
    "start_time": "2023-04-04T05:39:18.228Z"
   },
   {
    "duration": 35302,
    "start_time": "2023-04-04T05:39:18.701Z"
   },
   {
    "duration": 17,
    "start_time": "2023-04-04T05:39:54.005Z"
   },
   {
    "duration": 110,
    "start_time": "2023-04-04T05:39:54.024Z"
   },
   {
    "duration": 254,
    "start_time": "2023-04-04T05:39:54.219Z"
   },
   {
    "duration": 15119,
    "start_time": "2023-04-04T05:39:54.476Z"
   },
   {
    "duration": 3,
    "start_time": "2023-04-04T05:40:09.596Z"
   },
   {
    "duration": 1513,
    "start_time": "2023-04-04T07:29:15.611Z"
   },
   {
    "duration": 57,
    "start_time": "2023-04-04T07:29:17.127Z"
   },
   {
    "duration": 17,
    "start_time": "2023-04-04T07:29:17.186Z"
   },
   {
    "duration": 29,
    "start_time": "2023-04-04T07:29:17.205Z"
   },
   {
    "duration": 98,
    "start_time": "2023-04-04T07:29:17.237Z"
   },
   {
    "duration": 235,
    "start_time": "2023-04-04T07:29:17.337Z"
   },
   {
    "duration": 11,
    "start_time": "2023-04-04T07:29:17.574Z"
   },
   {
    "duration": 37,
    "start_time": "2023-04-04T07:29:17.587Z"
   },
   {
    "duration": 40,
    "start_time": "2023-04-04T07:29:17.626Z"
   },
   {
    "duration": 32,
    "start_time": "2023-04-04T07:29:17.667Z"
   },
   {
    "duration": 19,
    "start_time": "2023-04-04T07:29:17.701Z"
   },
   {
    "duration": 30,
    "start_time": "2023-04-04T07:29:17.723Z"
   },
   {
    "duration": 40,
    "start_time": "2023-04-04T07:29:17.755Z"
   },
   {
    "duration": 300,
    "start_time": "2023-04-04T07:29:17.799Z"
   },
   {
    "duration": 20,
    "start_time": "2023-04-04T07:29:18.100Z"
   },
   {
    "duration": 21,
    "start_time": "2023-04-04T07:29:18.121Z"
   },
   {
    "duration": 325,
    "start_time": "2023-04-04T07:29:18.144Z"
   },
   {
    "duration": 8,
    "start_time": "2023-04-04T07:29:18.470Z"
   },
   {
    "duration": 22,
    "start_time": "2023-04-04T07:29:18.479Z"
   },
   {
    "duration": 31,
    "start_time": "2023-04-04T07:29:18.502Z"
   },
   {
    "duration": 33,
    "start_time": "2023-04-04T07:29:18.535Z"
   },
   {
    "duration": 31,
    "start_time": "2023-04-04T07:29:18.570Z"
   },
   {
    "duration": 38,
    "start_time": "2023-04-04T07:29:18.603Z"
   },
   {
    "duration": 16,
    "start_time": "2023-04-04T07:29:18.643Z"
   },
   {
    "duration": 50,
    "start_time": "2023-04-04T07:29:18.661Z"
   },
   {
    "duration": 34,
    "start_time": "2023-04-04T07:29:18.713Z"
   },
   {
    "duration": 71,
    "start_time": "2023-04-04T07:29:18.749Z"
   },
   {
    "duration": 29,
    "start_time": "2023-04-04T07:29:18.822Z"
   },
   {
    "duration": 28,
    "start_time": "2023-04-04T07:29:18.853Z"
   },
   {
    "duration": 17,
    "start_time": "2023-04-04T07:29:18.884Z"
   },
   {
    "duration": 255,
    "start_time": "2023-04-04T07:29:18.902Z"
   },
   {
    "duration": 5,
    "start_time": "2023-04-04T07:29:19.159Z"
   },
   {
    "duration": 43,
    "start_time": "2023-04-04T07:29:19.166Z"
   },
   {
    "duration": 27,
    "start_time": "2023-04-04T07:29:19.211Z"
   },
   {
    "duration": 245,
    "start_time": "2023-04-04T07:29:19.240Z"
   },
   {
    "duration": 6,
    "start_time": "2023-04-04T07:29:19.487Z"
   },
   {
    "duration": 20,
    "start_time": "2023-04-04T07:29:19.495Z"
   },
   {
    "duration": 30,
    "start_time": "2023-04-04T07:29:19.517Z"
   },
   {
    "duration": 37,
    "start_time": "2023-04-04T07:29:19.549Z"
   },
   {
    "duration": 20,
    "start_time": "2023-04-04T07:29:19.588Z"
   },
   {
    "duration": 40,
    "start_time": "2023-04-04T07:29:19.612Z"
   },
   {
    "duration": 51,
    "start_time": "2023-04-04T07:29:19.654Z"
   },
   {
    "duration": 83,
    "start_time": "2023-04-04T07:29:19.706Z"
   },
   {
    "duration": 133,
    "start_time": "2023-04-04T07:29:19.791Z"
   },
   {
    "duration": 482,
    "start_time": "2023-04-04T07:29:19.926Z"
   },
   {
    "duration": 25163,
    "start_time": "2023-04-04T07:29:20.418Z"
   },
   {
    "duration": 160,
    "start_time": "2023-04-04T07:29:45.582Z"
   },
   {
    "duration": 306,
    "start_time": "2023-04-04T07:29:45.743Z"
   },
   {
    "duration": 190,
    "start_time": "2023-04-04T07:29:46.050Z"
   },
   {
    "duration": 13,
    "start_time": "2023-04-04T07:29:46.242Z"
   },
   {
    "duration": 63,
    "start_time": "2023-04-04T07:29:46.257Z"
   },
   {
    "duration": 539,
    "start_time": "2023-04-04T07:29:46.322Z"
   },
   {
    "duration": 33717,
    "start_time": "2023-04-04T07:29:46.863Z"
   },
   {
    "duration": 13,
    "start_time": "2023-04-04T07:30:20.582Z"
   },
   {
    "duration": 227,
    "start_time": "2023-04-04T07:30:20.597Z"
   },
   {
    "duration": 231,
    "start_time": "2023-04-04T07:30:20.826Z"
   },
   {
    "duration": 14424,
    "start_time": "2023-04-04T07:30:21.058Z"
   },
   {
    "duration": 3,
    "start_time": "2023-04-04T07:30:35.484Z"
   },
   {
    "duration": 1623,
    "start_time": "2023-04-04T07:34:34.921Z"
   },
   {
    "duration": 43,
    "start_time": "2023-04-04T07:34:36.546Z"
   },
   {
    "duration": 17,
    "start_time": "2023-04-04T07:34:36.591Z"
   },
   {
    "duration": 19,
    "start_time": "2023-04-04T07:34:36.610Z"
   },
   {
    "duration": 46,
    "start_time": "2023-04-04T07:34:36.632Z"
   },
   {
    "duration": 74,
    "start_time": "2023-04-04T07:34:36.679Z"
   },
   {
    "duration": 4,
    "start_time": "2023-04-04T07:34:36.754Z"
   },
   {
    "duration": 41,
    "start_time": "2023-04-04T07:34:36.760Z"
   },
   {
    "duration": 15,
    "start_time": "2023-04-04T07:34:36.803Z"
   },
   {
    "duration": 32,
    "start_time": "2023-04-04T07:34:36.820Z"
   },
   {
    "duration": 9,
    "start_time": "2023-04-04T07:34:36.854Z"
   },
   {
    "duration": 21,
    "start_time": "2023-04-04T07:34:36.865Z"
   },
   {
    "duration": 42,
    "start_time": "2023-04-04T07:34:36.889Z"
   },
   {
    "duration": 329,
    "start_time": "2023-04-04T07:34:36.935Z"
   },
   {
    "duration": 12,
    "start_time": "2023-04-04T07:34:37.266Z"
   },
   {
    "duration": 16,
    "start_time": "2023-04-04T07:34:37.280Z"
   },
   {
    "duration": 303,
    "start_time": "2023-04-04T07:34:37.298Z"
   },
   {
    "duration": 19,
    "start_time": "2023-04-04T07:34:37.603Z"
   },
   {
    "duration": 16,
    "start_time": "2023-04-04T07:34:37.625Z"
   },
   {
    "duration": 13,
    "start_time": "2023-04-04T07:34:37.643Z"
   },
   {
    "duration": 8,
    "start_time": "2023-04-04T07:34:37.658Z"
   },
   {
    "duration": 12,
    "start_time": "2023-04-04T07:34:37.668Z"
   },
   {
    "duration": 25,
    "start_time": "2023-04-04T07:34:37.682Z"
   },
   {
    "duration": 14,
    "start_time": "2023-04-04T07:34:37.709Z"
   },
   {
    "duration": 28,
    "start_time": "2023-04-04T07:34:37.725Z"
   },
   {
    "duration": 15,
    "start_time": "2023-04-04T07:34:37.755Z"
   },
   {
    "duration": 54,
    "start_time": "2023-04-04T07:34:37.772Z"
   },
   {
    "duration": 17,
    "start_time": "2023-04-04T07:34:37.828Z"
   },
   {
    "duration": 18,
    "start_time": "2023-04-04T07:34:37.847Z"
   },
   {
    "duration": 4,
    "start_time": "2023-04-04T07:34:37.867Z"
   },
   {
    "duration": 265,
    "start_time": "2023-04-04T07:34:37.873Z"
   },
   {
    "duration": 4,
    "start_time": "2023-04-04T07:34:38.140Z"
   },
   {
    "duration": 11,
    "start_time": "2023-04-04T07:34:38.146Z"
   },
   {
    "duration": 19,
    "start_time": "2023-04-04T07:34:38.159Z"
   },
   {
    "duration": 241,
    "start_time": "2023-04-04T07:34:38.180Z"
   },
   {
    "duration": 6,
    "start_time": "2023-04-04T07:34:38.422Z"
   },
   {
    "duration": 21,
    "start_time": "2023-04-04T07:34:38.430Z"
   },
   {
    "duration": 20,
    "start_time": "2023-04-04T07:34:38.453Z"
   },
   {
    "duration": 42,
    "start_time": "2023-04-04T07:34:38.475Z"
   },
   {
    "duration": 51,
    "start_time": "2023-04-04T07:34:38.519Z"
   },
   {
    "duration": 36,
    "start_time": "2023-04-04T07:34:38.574Z"
   },
   {
    "duration": 40,
    "start_time": "2023-04-04T07:34:38.612Z"
   },
   {
    "duration": 91,
    "start_time": "2023-04-04T07:34:38.654Z"
   },
   {
    "duration": 171,
    "start_time": "2023-04-04T07:34:38.747Z"
   },
   {
    "duration": 399,
    "start_time": "2023-04-04T07:34:38.921Z"
   },
   {
    "duration": 24959,
    "start_time": "2023-04-04T07:34:39.321Z"
   },
   {
    "duration": 158,
    "start_time": "2023-04-04T07:35:04.281Z"
   },
   {
    "duration": 308,
    "start_time": "2023-04-04T07:35:04.440Z"
   },
   {
    "duration": 195,
    "start_time": "2023-04-04T07:35:04.750Z"
   },
   {
    "duration": 12,
    "start_time": "2023-04-04T07:35:04.947Z"
   },
   {
    "duration": 162,
    "start_time": "2023-04-04T07:35:04.961Z"
   },
   {
    "duration": 500,
    "start_time": "2023-04-04T07:35:05.125Z"
   },
   {
    "duration": 33738,
    "start_time": "2023-04-04T07:35:05.628Z"
   },
   {
    "duration": 12,
    "start_time": "2023-04-04T07:35:39.368Z"
   },
   {
    "duration": 43,
    "start_time": "2023-04-04T07:35:39.382Z"
   },
   {
    "duration": 430,
    "start_time": "2023-04-04T07:35:39.427Z"
   },
   {
    "duration": 13958,
    "start_time": "2023-04-04T07:35:39.859Z"
   },
   {
    "duration": 3,
    "start_time": "2023-04-04T07:35:53.820Z"
   },
   {
    "duration": 1598,
    "start_time": "2023-04-04T07:36:05.036Z"
   },
   {
    "duration": 42,
    "start_time": "2023-04-04T07:36:06.636Z"
   },
   {
    "duration": 18,
    "start_time": "2023-04-04T07:36:06.679Z"
   },
   {
    "duration": 11,
    "start_time": "2023-04-04T07:36:06.699Z"
   },
   {
    "duration": 35,
    "start_time": "2023-04-04T07:36:06.712Z"
   },
   {
    "duration": 49,
    "start_time": "2023-04-04T07:36:06.748Z"
   },
   {
    "duration": 21,
    "start_time": "2023-04-04T07:36:06.799Z"
   },
   {
    "duration": 30,
    "start_time": "2023-04-04T07:36:06.822Z"
   },
   {
    "duration": 21,
    "start_time": "2023-04-04T07:36:06.854Z"
   },
   {
    "duration": 27,
    "start_time": "2023-04-04T07:36:06.877Z"
   },
   {
    "duration": 24,
    "start_time": "2023-04-04T07:36:06.906Z"
   },
   {
    "duration": 13,
    "start_time": "2023-04-04T07:36:06.932Z"
   },
   {
    "duration": 23,
    "start_time": "2023-04-04T07:36:06.947Z"
   },
   {
    "duration": 297,
    "start_time": "2023-04-04T07:36:06.974Z"
   },
   {
    "duration": 12,
    "start_time": "2023-04-04T07:36:07.273Z"
   },
   {
    "duration": 13,
    "start_time": "2023-04-04T07:36:07.287Z"
   },
   {
    "duration": 301,
    "start_time": "2023-04-04T07:36:07.302Z"
   },
   {
    "duration": 18,
    "start_time": "2023-04-04T07:36:07.604Z"
   },
   {
    "duration": 10,
    "start_time": "2023-04-04T07:36:07.624Z"
   },
   {
    "duration": 22,
    "start_time": "2023-04-04T07:36:07.635Z"
   },
   {
    "duration": 16,
    "start_time": "2023-04-04T07:36:07.659Z"
   },
   {
    "duration": 11,
    "start_time": "2023-04-04T07:36:07.677Z"
   },
   {
    "duration": 24,
    "start_time": "2023-04-04T07:36:07.690Z"
   },
   {
    "duration": 5,
    "start_time": "2023-04-04T07:36:07.716Z"
   },
   {
    "duration": 40,
    "start_time": "2023-04-04T07:36:07.723Z"
   },
   {
    "duration": 17,
    "start_time": "2023-04-04T07:36:07.765Z"
   },
   {
    "duration": 54,
    "start_time": "2023-04-04T07:36:07.784Z"
   },
   {
    "duration": 18,
    "start_time": "2023-04-04T07:36:07.839Z"
   },
   {
    "duration": 19,
    "start_time": "2023-04-04T07:36:07.859Z"
   },
   {
    "duration": 5,
    "start_time": "2023-04-04T07:36:07.880Z"
   },
   {
    "duration": 232,
    "start_time": "2023-04-04T07:36:07.917Z"
   },
   {
    "duration": 4,
    "start_time": "2023-04-04T07:36:08.152Z"
   },
   {
    "duration": 37,
    "start_time": "2023-04-04T07:36:08.158Z"
   },
   {
    "duration": 12,
    "start_time": "2023-04-04T07:36:08.197Z"
   },
   {
    "duration": 222,
    "start_time": "2023-04-04T07:36:08.211Z"
   },
   {
    "duration": 6,
    "start_time": "2023-04-04T07:36:08.435Z"
   },
   {
    "duration": 24,
    "start_time": "2023-04-04T07:36:08.443Z"
   },
   {
    "duration": 12,
    "start_time": "2023-04-04T07:36:08.468Z"
   },
   {
    "duration": 25,
    "start_time": "2023-04-04T07:36:08.481Z"
   },
   {
    "duration": 20,
    "start_time": "2023-04-04T07:36:08.508Z"
   },
   {
    "duration": 18,
    "start_time": "2023-04-04T07:36:08.531Z"
   },
   {
    "duration": 19,
    "start_time": "2023-04-04T07:36:08.551Z"
   },
   {
    "duration": 60,
    "start_time": "2023-04-04T07:36:08.572Z"
   },
   {
    "duration": 91,
    "start_time": "2023-04-04T07:36:08.634Z"
   },
   {
    "duration": 449,
    "start_time": "2023-04-04T07:36:08.727Z"
   },
   {
    "duration": 24695,
    "start_time": "2023-04-04T07:36:09.178Z"
   },
   {
    "duration": 173,
    "start_time": "2023-04-04T07:36:33.875Z"
   },
   {
    "duration": 347,
    "start_time": "2023-04-04T07:36:34.050Z"
   },
   {
    "duration": 200,
    "start_time": "2023-04-04T07:36:34.399Z"
   },
   {
    "duration": 29,
    "start_time": "2023-04-04T07:36:34.601Z"
   },
   {
    "duration": 102,
    "start_time": "2023-04-04T07:36:34.633Z"
   },
   {
    "duration": 527,
    "start_time": "2023-04-04T07:36:34.738Z"
   },
   {
    "duration": 34094,
    "start_time": "2023-04-04T07:36:35.267Z"
   },
   {
    "duration": 13,
    "start_time": "2023-04-04T07:37:09.362Z"
   },
   {
    "duration": 51,
    "start_time": "2023-04-04T07:37:09.376Z"
   },
   {
    "duration": 306,
    "start_time": "2023-04-04T07:37:09.429Z"
   },
   {
    "duration": 14787,
    "start_time": "2023-04-04T07:37:09.736Z"
   },
   {
    "duration": 7,
    "start_time": "2023-04-04T07:37:24.526Z"
   },
   {
    "duration": 356,
    "start_time": "2023-04-04T07:56:18.924Z"
   },
   {
    "duration": 348,
    "start_time": "2023-04-04T07:56:42.514Z"
   },
   {
    "duration": 2077,
    "start_time": "2023-04-04T10:14:45.259Z"
   },
   {
    "duration": 182,
    "start_time": "2023-04-04T10:14:47.338Z"
   },
   {
    "duration": 17,
    "start_time": "2023-04-04T10:14:47.522Z"
   },
   {
    "duration": 14,
    "start_time": "2023-04-04T10:14:47.541Z"
   },
   {
    "duration": 25,
    "start_time": "2023-04-04T10:14:47.557Z"
   },
   {
    "duration": 51,
    "start_time": "2023-04-04T10:14:47.584Z"
   },
   {
    "duration": 4,
    "start_time": "2023-04-04T10:14:47.637Z"
   },
   {
    "duration": 26,
    "start_time": "2023-04-04T10:14:47.642Z"
   },
   {
    "duration": 23,
    "start_time": "2023-04-04T10:14:47.669Z"
   },
   {
    "duration": 19,
    "start_time": "2023-04-04T10:14:47.695Z"
   },
   {
    "duration": 20,
    "start_time": "2023-04-04T10:14:47.716Z"
   },
   {
    "duration": 14,
    "start_time": "2023-04-04T10:14:47.738Z"
   },
   {
    "duration": 19,
    "start_time": "2023-04-04T10:14:47.754Z"
   },
   {
    "duration": 275,
    "start_time": "2023-04-04T10:14:47.775Z"
   },
   {
    "duration": 11,
    "start_time": "2023-04-04T10:14:48.052Z"
   },
   {
    "duration": 22,
    "start_time": "2023-04-04T10:14:48.065Z"
   },
   {
    "duration": 290,
    "start_time": "2023-04-04T10:14:48.088Z"
   },
   {
    "duration": 14,
    "start_time": "2023-04-04T10:14:48.380Z"
   },
   {
    "duration": 12,
    "start_time": "2023-04-04T10:14:48.396Z"
   },
   {
    "duration": 5,
    "start_time": "2023-04-04T10:14:48.410Z"
   },
   {
    "duration": 10,
    "start_time": "2023-04-04T10:14:48.417Z"
   },
   {
    "duration": 6,
    "start_time": "2023-04-04T10:14:48.428Z"
   },
   {
    "duration": 19,
    "start_time": "2023-04-04T10:14:48.435Z"
   },
   {
    "duration": 7,
    "start_time": "2023-04-04T10:14:48.455Z"
   },
   {
    "duration": 26,
    "start_time": "2023-04-04T10:14:48.487Z"
   },
   {
    "duration": 16,
    "start_time": "2023-04-04T10:14:48.514Z"
   },
   {
    "duration": 67,
    "start_time": "2023-04-04T10:14:48.532Z"
   },
   {
    "duration": 19,
    "start_time": "2023-04-04T10:14:48.604Z"
   },
   {
    "duration": 20,
    "start_time": "2023-04-04T10:14:48.624Z"
   },
   {
    "duration": 5,
    "start_time": "2023-04-04T10:14:48.646Z"
   },
   {
    "duration": 261,
    "start_time": "2023-04-04T10:14:48.653Z"
   },
   {
    "duration": 4,
    "start_time": "2023-04-04T10:14:48.915Z"
   },
   {
    "duration": 16,
    "start_time": "2023-04-04T10:14:48.921Z"
   },
   {
    "duration": 20,
    "start_time": "2023-04-04T10:14:48.939Z"
   },
   {
    "duration": 251,
    "start_time": "2023-04-04T10:14:48.961Z"
   },
   {
    "duration": 7,
    "start_time": "2023-04-04T10:14:49.214Z"
   },
   {
    "duration": 6,
    "start_time": "2023-04-04T10:14:49.223Z"
   },
   {
    "duration": 9,
    "start_time": "2023-04-04T10:14:49.231Z"
   },
   {
    "duration": 20,
    "start_time": "2023-04-04T10:14:49.242Z"
   },
   {
    "duration": 6,
    "start_time": "2023-04-04T10:14:49.264Z"
   },
   {
    "duration": 13,
    "start_time": "2023-04-04T10:14:49.272Z"
   },
   {
    "duration": 3,
    "start_time": "2023-04-04T10:14:49.287Z"
   },
   {
    "duration": 42,
    "start_time": "2023-04-04T10:14:49.291Z"
   },
   {
    "duration": 155,
    "start_time": "2023-04-04T10:14:49.334Z"
   },
   {
    "duration": 400,
    "start_time": "2023-04-04T10:14:49.491Z"
   },
   {
    "duration": 24094,
    "start_time": "2023-04-04T10:14:49.893Z"
   },
   {
    "duration": 146,
    "start_time": "2023-04-04T10:15:13.989Z"
   },
   {
    "duration": 296,
    "start_time": "2023-04-04T10:15:14.137Z"
   },
   {
    "duration": 189,
    "start_time": "2023-04-04T10:15:14.435Z"
   },
   {
    "duration": 14,
    "start_time": "2023-04-04T10:15:14.626Z"
   },
   {
    "duration": 153,
    "start_time": "2023-04-04T10:15:14.642Z"
   },
   {
    "duration": 498,
    "start_time": "2023-04-04T10:15:14.797Z"
   },
   {
    "duration": 33310,
    "start_time": "2023-04-04T10:15:15.297Z"
   },
   {
    "duration": 13,
    "start_time": "2023-04-04T10:15:48.609Z"
   },
   {
    "duration": 70,
    "start_time": "2023-04-04T10:15:48.624Z"
   },
   {
    "duration": 328,
    "start_time": "2023-04-04T10:15:48.696Z"
   },
   {
    "duration": 14280,
    "start_time": "2023-04-04T10:15:49.026Z"
   },
   {
    "duration": 31,
    "start_time": "2023-04-04T10:16:03.308Z"
   },
   {
    "duration": 19,
    "start_time": "2023-04-04T10:20:30.387Z"
   },
   {
    "duration": 265,
    "start_time": "2023-04-04T10:21:26.024Z"
   },
   {
    "duration": 21,
    "start_time": "2023-04-04T10:22:01.124Z"
   },
   {
    "duration": 9,
    "start_time": "2023-04-04T10:25:06.018Z"
   },
   {
    "duration": 33,
    "start_time": "2023-04-04T10:26:21.986Z"
   },
   {
    "duration": 159,
    "start_time": "2023-04-04T10:27:41.089Z"
   },
   {
    "duration": 1532,
    "start_time": "2023-04-04T10:30:10.881Z"
   },
   {
    "duration": 44,
    "start_time": "2023-04-04T10:30:12.416Z"
   },
   {
    "duration": 19,
    "start_time": "2023-04-04T10:30:12.462Z"
   },
   {
    "duration": 4,
    "start_time": "2023-04-04T10:30:12.484Z"
   },
   {
    "duration": 30,
    "start_time": "2023-04-04T10:30:12.490Z"
   },
   {
    "duration": 44,
    "start_time": "2023-04-04T10:30:12.522Z"
   },
   {
    "duration": 4,
    "start_time": "2023-04-04T10:30:12.567Z"
   },
   {
    "duration": 15,
    "start_time": "2023-04-04T10:30:12.574Z"
   },
   {
    "duration": 7,
    "start_time": "2023-04-04T10:30:12.591Z"
   },
   {
    "duration": 19,
    "start_time": "2023-04-04T10:30:12.600Z"
   },
   {
    "duration": 7,
    "start_time": "2023-04-04T10:30:12.620Z"
   },
   {
    "duration": 14,
    "start_time": "2023-04-04T10:30:12.629Z"
   },
   {
    "duration": 22,
    "start_time": "2023-04-04T10:30:12.645Z"
   },
   {
    "duration": 286,
    "start_time": "2023-04-04T10:30:12.687Z"
   },
   {
    "duration": 19,
    "start_time": "2023-04-04T10:30:12.975Z"
   },
   {
    "duration": 6,
    "start_time": "2023-04-04T10:30:12.995Z"
   },
   {
    "duration": 311,
    "start_time": "2023-04-04T10:30:13.003Z"
   },
   {
    "duration": 8,
    "start_time": "2023-04-04T10:30:13.315Z"
   },
   {
    "duration": 10,
    "start_time": "2023-04-04T10:30:13.325Z"
   },
   {
    "duration": 10,
    "start_time": "2023-04-04T10:30:13.336Z"
   },
   {
    "duration": 10,
    "start_time": "2023-04-04T10:30:13.347Z"
   },
   {
    "duration": 6,
    "start_time": "2023-04-04T10:30:13.358Z"
   },
   {
    "duration": 34,
    "start_time": "2023-04-04T10:30:13.365Z"
   },
   {
    "duration": 5,
    "start_time": "2023-04-04T10:30:13.401Z"
   },
   {
    "duration": 15,
    "start_time": "2023-04-04T10:30:13.407Z"
   },
   {
    "duration": 7,
    "start_time": "2023-04-04T10:30:13.423Z"
   },
   {
    "duration": 69,
    "start_time": "2023-04-04T10:30:13.432Z"
   },
   {
    "duration": 15,
    "start_time": "2023-04-04T10:30:13.502Z"
   },
   {
    "duration": 17,
    "start_time": "2023-04-04T10:30:13.519Z"
   },
   {
    "duration": 4,
    "start_time": "2023-04-04T10:30:13.537Z"
   },
   {
    "duration": 251,
    "start_time": "2023-04-04T10:30:13.542Z"
   },
   {
    "duration": 4,
    "start_time": "2023-04-04T10:30:13.795Z"
   },
   {
    "duration": 7,
    "start_time": "2023-04-04T10:30:13.800Z"
   },
   {
    "duration": 12,
    "start_time": "2023-04-04T10:30:13.808Z"
   },
   {
    "duration": 238,
    "start_time": "2023-04-04T10:30:13.822Z"
   },
   {
    "duration": 5,
    "start_time": "2023-04-04T10:30:14.062Z"
   },
   {
    "duration": 21,
    "start_time": "2023-04-04T10:30:14.068Z"
   },
   {
    "duration": 11,
    "start_time": "2023-04-04T10:30:14.090Z"
   },
   {
    "duration": 14,
    "start_time": "2023-04-04T10:30:14.103Z"
   },
   {
    "duration": 7,
    "start_time": "2023-04-04T10:30:14.118Z"
   },
   {
    "duration": 8,
    "start_time": "2023-04-04T10:30:14.129Z"
   },
   {
    "duration": 13,
    "start_time": "2023-04-04T10:30:14.138Z"
   },
   {
    "duration": 58,
    "start_time": "2023-04-04T10:30:14.161Z"
   },
   {
    "duration": 70,
    "start_time": "2023-04-04T10:30:14.221Z"
   },
   {
    "duration": 459,
    "start_time": "2023-04-04T10:30:14.295Z"
   },
   {
    "duration": 24417,
    "start_time": "2023-04-04T10:30:14.755Z"
   },
   {
    "duration": 142,
    "start_time": "2023-04-04T10:30:39.173Z"
   },
   {
    "duration": 301,
    "start_time": "2023-04-04T10:30:39.316Z"
   },
   {
    "duration": 189,
    "start_time": "2023-04-04T10:30:39.619Z"
   },
   {
    "duration": 14,
    "start_time": "2023-04-04T10:30:39.810Z"
   },
   {
    "duration": 65,
    "start_time": "2023-04-04T10:30:39.826Z"
   },
   {
    "duration": 548,
    "start_time": "2023-04-04T10:30:39.893Z"
   },
   {
    "duration": 33588,
    "start_time": "2023-04-04T10:30:40.443Z"
   },
   {
    "duration": 14,
    "start_time": "2023-04-04T10:31:14.032Z"
   },
   {
    "duration": 47,
    "start_time": "2023-04-04T10:31:14.048Z"
   },
   {
    "duration": 415,
    "start_time": "2023-04-04T10:31:14.097Z"
   },
   {
    "duration": 13949,
    "start_time": "2023-04-04T10:31:14.514Z"
   },
   {
    "duration": 124,
    "start_time": "2023-04-04T10:31:28.465Z"
   },
   {
    "duration": 11,
    "start_time": "2023-04-04T10:31:28.591Z"
   },
   {
    "duration": 33,
    "start_time": "2023-04-04T10:31:28.688Z"
   },
   {
    "duration": 210,
    "start_time": "2023-04-04T10:31:28.723Z"
   },
   {
    "duration": 192,
    "start_time": "2023-04-04T10:32:53.259Z"
   },
   {
    "duration": 204,
    "start_time": "2023-04-04T10:34:50.961Z"
   },
   {
    "duration": 191,
    "start_time": "2023-04-04T10:35:20.764Z"
   },
   {
    "duration": 199,
    "start_time": "2023-04-04T10:36:00.263Z"
   },
   {
    "duration": 191,
    "start_time": "2023-04-04T10:36:26.835Z"
   },
   {
    "duration": 208,
    "start_time": "2023-04-04T10:37:00.039Z"
   },
   {
    "duration": 203,
    "start_time": "2023-04-04T10:37:21.867Z"
   },
   {
    "duration": 66,
    "start_time": "2023-04-04T10:38:33.790Z"
   },
   {
    "duration": 268,
    "start_time": "2023-04-04T10:38:38.755Z"
   },
   {
    "duration": 290,
    "start_time": "2023-04-04T10:39:53.822Z"
   },
   {
    "duration": 243,
    "start_time": "2023-04-04T10:41:20.329Z"
   },
   {
    "duration": 209,
    "start_time": "2023-04-04T10:41:42.910Z"
   },
   {
    "duration": 210,
    "start_time": "2023-04-04T10:42:10.667Z"
   },
   {
    "duration": 1546,
    "start_time": "2023-04-04T10:44:34.347Z"
   },
   {
    "duration": 41,
    "start_time": "2023-04-04T10:44:35.895Z"
   },
   {
    "duration": 19,
    "start_time": "2023-04-04T10:44:35.937Z"
   },
   {
    "duration": 20,
    "start_time": "2023-04-04T10:44:35.958Z"
   },
   {
    "duration": 63,
    "start_time": "2023-04-04T10:44:35.980Z"
   },
   {
    "duration": 40,
    "start_time": "2023-04-04T10:44:36.045Z"
   },
   {
    "duration": 4,
    "start_time": "2023-04-04T10:44:36.087Z"
   },
   {
    "duration": 24,
    "start_time": "2023-04-04T10:44:36.093Z"
   },
   {
    "duration": 33,
    "start_time": "2023-04-04T10:44:36.119Z"
   },
   {
    "duration": 61,
    "start_time": "2023-04-04T10:44:36.154Z"
   },
   {
    "duration": 14,
    "start_time": "2023-04-04T10:44:36.217Z"
   },
   {
    "duration": 13,
    "start_time": "2023-04-04T10:44:36.233Z"
   },
   {
    "duration": 23,
    "start_time": "2023-04-04T10:44:36.248Z"
   },
   {
    "duration": 308,
    "start_time": "2023-04-04T10:44:36.275Z"
   },
   {
    "duration": 13,
    "start_time": "2023-04-04T10:44:36.584Z"
   },
   {
    "duration": 48,
    "start_time": "2023-04-04T10:44:36.598Z"
   },
   {
    "duration": 295,
    "start_time": "2023-04-04T10:44:36.647Z"
   },
   {
    "duration": 7,
    "start_time": "2023-04-04T10:44:36.944Z"
   },
   {
    "duration": 35,
    "start_time": "2023-04-04T10:44:36.952Z"
   },
   {
    "duration": 20,
    "start_time": "2023-04-04T10:44:36.988Z"
   },
   {
    "duration": 34,
    "start_time": "2023-04-04T10:44:37.009Z"
   },
   {
    "duration": 14,
    "start_time": "2023-04-04T10:44:37.044Z"
   },
   {
    "duration": 28,
    "start_time": "2023-04-04T10:44:37.059Z"
   },
   {
    "duration": 7,
    "start_time": "2023-04-04T10:44:37.088Z"
   },
   {
    "duration": 20,
    "start_time": "2023-04-04T10:44:37.096Z"
   },
   {
    "duration": 33,
    "start_time": "2023-04-04T10:44:37.118Z"
   },
   {
    "duration": 56,
    "start_time": "2023-04-04T10:44:37.153Z"
   },
   {
    "duration": 23,
    "start_time": "2023-04-04T10:44:37.211Z"
   },
   {
    "duration": 39,
    "start_time": "2023-04-04T10:44:37.236Z"
   },
   {
    "duration": 18,
    "start_time": "2023-04-04T10:44:37.277Z"
   },
   {
    "duration": 248,
    "start_time": "2023-04-04T10:44:37.297Z"
   },
   {
    "duration": 4,
    "start_time": "2023-04-04T10:44:37.547Z"
   },
   {
    "duration": 21,
    "start_time": "2023-04-04T10:44:37.553Z"
   },
   {
    "duration": 17,
    "start_time": "2023-04-04T10:44:37.576Z"
   },
   {
    "duration": 223,
    "start_time": "2023-04-04T10:44:37.595Z"
   },
   {
    "duration": 5,
    "start_time": "2023-04-04T10:44:37.820Z"
   },
   {
    "duration": 25,
    "start_time": "2023-04-04T10:44:37.826Z"
   },
   {
    "duration": 18,
    "start_time": "2023-04-04T10:44:37.852Z"
   },
   {
    "duration": 17,
    "start_time": "2023-04-04T10:44:37.872Z"
   },
   {
    "duration": 12,
    "start_time": "2023-04-04T10:44:37.891Z"
   },
   {
    "duration": 9,
    "start_time": "2023-04-04T10:44:37.907Z"
   },
   {
    "duration": 9,
    "start_time": "2023-04-04T10:44:37.918Z"
   },
   {
    "duration": 50,
    "start_time": "2023-04-04T10:44:37.928Z"
   },
   {
    "duration": 115,
    "start_time": "2023-04-04T10:44:37.979Z"
   },
   {
    "duration": 359,
    "start_time": "2023-04-04T10:44:38.187Z"
   },
   {
    "duration": 24682,
    "start_time": "2023-04-04T10:44:38.548Z"
   },
   {
    "duration": 148,
    "start_time": "2023-04-04T10:45:03.232Z"
   },
   {
    "duration": 306,
    "start_time": "2023-04-04T10:45:03.381Z"
   },
   {
    "duration": 180,
    "start_time": "2023-04-04T10:45:03.689Z"
   },
   {
    "duration": 19,
    "start_time": "2023-04-04T10:45:03.871Z"
   },
   {
    "duration": 105,
    "start_time": "2023-04-04T10:45:03.892Z"
   },
   {
    "duration": 417,
    "start_time": "2023-04-04T10:45:04.088Z"
   },
   {
    "duration": 32884,
    "start_time": "2023-04-04T10:45:04.506Z"
   },
   {
    "duration": 12,
    "start_time": "2023-04-04T10:45:37.392Z"
   },
   {
    "duration": 90,
    "start_time": "2023-04-04T10:45:37.406Z"
   },
   {
    "duration": 207,
    "start_time": "2023-04-04T10:45:37.588Z"
   },
   {
    "duration": 14209,
    "start_time": "2023-04-04T10:45:37.797Z"
   },
   {
    "duration": 13,
    "start_time": "2023-04-04T10:45:52.007Z"
   },
   {
    "duration": 166,
    "start_time": "2023-04-04T10:45:52.022Z"
   },
   {
    "duration": 33,
    "start_time": "2023-04-04T10:45:52.190Z"
   },
   {
    "duration": 221,
    "start_time": "2023-04-04T10:45:52.224Z"
   },
   {
    "duration": 1517,
    "start_time": "2023-04-04T10:50:11.276Z"
   },
   {
    "duration": 41,
    "start_time": "2023-04-04T10:50:12.796Z"
   },
   {
    "duration": 18,
    "start_time": "2023-04-04T10:50:12.838Z"
   },
   {
    "duration": 6,
    "start_time": "2023-04-04T10:50:12.858Z"
   },
   {
    "duration": 26,
    "start_time": "2023-04-04T10:50:12.867Z"
   },
   {
    "duration": 40,
    "start_time": "2023-04-04T10:50:12.895Z"
   },
   {
    "duration": 5,
    "start_time": "2023-04-04T10:50:12.937Z"
   },
   {
    "duration": 14,
    "start_time": "2023-04-04T10:50:12.944Z"
   },
   {
    "duration": 20,
    "start_time": "2023-04-04T10:50:12.959Z"
   },
   {
    "duration": 18,
    "start_time": "2023-04-04T10:50:12.981Z"
   },
   {
    "duration": 7,
    "start_time": "2023-04-04T10:50:13.000Z"
   },
   {
    "duration": 7,
    "start_time": "2023-04-04T10:50:13.009Z"
   },
   {
    "duration": 23,
    "start_time": "2023-04-04T10:50:13.017Z"
   },
   {
    "duration": 292,
    "start_time": "2023-04-04T10:50:13.043Z"
   },
   {
    "duration": 12,
    "start_time": "2023-04-04T10:50:13.337Z"
   },
   {
    "duration": 5,
    "start_time": "2023-04-04T10:50:13.351Z"
   },
   {
    "duration": 320,
    "start_time": "2023-04-04T10:50:13.358Z"
   },
   {
    "duration": 10,
    "start_time": "2023-04-04T10:50:13.680Z"
   },
   {
    "duration": 7,
    "start_time": "2023-04-04T10:50:13.692Z"
   },
   {
    "duration": 7,
    "start_time": "2023-04-04T10:50:13.701Z"
   },
   {
    "duration": 9,
    "start_time": "2023-04-04T10:50:13.711Z"
   },
   {
    "duration": 4,
    "start_time": "2023-04-04T10:50:13.722Z"
   },
   {
    "duration": 15,
    "start_time": "2023-04-04T10:50:13.728Z"
   },
   {
    "duration": 5,
    "start_time": "2023-04-04T10:50:13.744Z"
   },
   {
    "duration": 49,
    "start_time": "2023-04-04T10:50:13.750Z"
   },
   {
    "duration": 16,
    "start_time": "2023-04-04T10:50:13.800Z"
   },
   {
    "duration": 62,
    "start_time": "2023-04-04T10:50:13.818Z"
   },
   {
    "duration": 17,
    "start_time": "2023-04-04T10:50:13.881Z"
   },
   {
    "duration": 17,
    "start_time": "2023-04-04T10:50:13.900Z"
   },
   {
    "duration": 4,
    "start_time": "2023-04-04T10:50:13.918Z"
   },
   {
    "duration": 252,
    "start_time": "2023-04-04T10:50:13.923Z"
   },
   {
    "duration": 12,
    "start_time": "2023-04-04T10:50:14.177Z"
   },
   {
    "duration": 10,
    "start_time": "2023-04-04T10:50:14.190Z"
   },
   {
    "duration": 8,
    "start_time": "2023-04-04T10:50:14.202Z"
   },
   {
    "duration": 229,
    "start_time": "2023-04-04T10:50:14.211Z"
   },
   {
    "duration": 7,
    "start_time": "2023-04-04T10:50:14.441Z"
   },
   {
    "duration": 8,
    "start_time": "2023-04-04T10:50:14.450Z"
   },
   {
    "duration": 14,
    "start_time": "2023-04-04T10:50:14.460Z"
   },
   {
    "duration": 12,
    "start_time": "2023-04-04T10:50:14.476Z"
   },
   {
    "duration": 10,
    "start_time": "2023-04-04T10:50:14.490Z"
   },
   {
    "duration": 6,
    "start_time": "2023-04-04T10:50:14.504Z"
   },
   {
    "duration": 8,
    "start_time": "2023-04-04T10:50:14.512Z"
   },
   {
    "duration": 45,
    "start_time": "2023-04-04T10:50:14.522Z"
   },
   {
    "duration": 128,
    "start_time": "2023-04-04T10:50:14.568Z"
   },
   {
    "duration": 356,
    "start_time": "2023-04-04T10:50:14.788Z"
   },
   {
    "duration": 24420,
    "start_time": "2023-04-04T10:50:15.146Z"
   },
   {
    "duration": 128,
    "start_time": "2023-04-04T10:50:39.567Z"
   },
   {
    "duration": 100,
    "start_time": "2023-04-04T10:50:39.697Z"
   },
   {
    "duration": 53,
    "start_time": "2023-04-04T10:50:39.799Z"
   },
   {
    "duration": 213,
    "start_time": "2023-04-04T10:50:39.854Z"
   },
   {
    "duration": 154,
    "start_time": "2023-04-04T10:50:40.068Z"
   },
   {
    "duration": 373,
    "start_time": "2023-04-04T10:50:40.223Z"
   },
   {
    "duration": 222,
    "start_time": "2023-04-04T10:50:40.598Z"
   },
   {
    "duration": 13,
    "start_time": "2023-04-04T10:50:40.823Z"
   },
   {
    "duration": 61,
    "start_time": "2023-04-04T10:50:40.838Z"
   },
   {
    "duration": 597,
    "start_time": "2023-04-04T10:50:40.901Z"
   },
   {
    "duration": 32736,
    "start_time": "2023-04-04T10:50:41.500Z"
   },
   {
    "duration": 12,
    "start_time": "2023-04-04T10:51:14.237Z"
   },
   {
    "duration": 48,
    "start_time": "2023-04-04T10:51:14.250Z"
   },
   {
    "duration": 247,
    "start_time": "2023-04-04T10:51:14.389Z"
   },
   {
    "duration": 13897,
    "start_time": "2023-04-04T10:51:14.637Z"
   },
   {
    "duration": 61,
    "start_time": "2023-04-04T10:51:28.536Z"
   },
   {
    "duration": 9,
    "start_time": "2023-04-04T10:51:28.688Z"
   },
   {
    "duration": 39,
    "start_time": "2023-04-04T10:51:28.699Z"
   },
   {
    "duration": 273,
    "start_time": "2023-04-04T10:51:28.739Z"
   },
   {
    "duration": 415,
    "start_time": "2023-04-04T10:59:17.593Z"
   },
   {
    "duration": 1558,
    "start_time": "2023-04-04T11:00:05.464Z"
   },
   {
    "duration": 40,
    "start_time": "2023-04-04T11:00:07.024Z"
   },
   {
    "duration": 16,
    "start_time": "2023-04-04T11:00:07.066Z"
   },
   {
    "duration": 4,
    "start_time": "2023-04-04T11:00:07.084Z"
   },
   {
    "duration": 24,
    "start_time": "2023-04-04T11:00:07.090Z"
   },
   {
    "duration": 42,
    "start_time": "2023-04-04T11:00:07.116Z"
   },
   {
    "duration": 3,
    "start_time": "2023-04-04T11:00:07.160Z"
   },
   {
    "duration": 22,
    "start_time": "2023-04-04T11:00:07.165Z"
   },
   {
    "duration": 19,
    "start_time": "2023-04-04T11:00:07.189Z"
   },
   {
    "duration": 35,
    "start_time": "2023-04-04T11:00:07.211Z"
   },
   {
    "duration": 8,
    "start_time": "2023-04-04T11:00:07.248Z"
   },
   {
    "duration": 4,
    "start_time": "2023-04-04T11:00:07.257Z"
   },
   {
    "duration": 27,
    "start_time": "2023-04-04T11:00:07.263Z"
   },
   {
    "duration": 281,
    "start_time": "2023-04-04T11:00:07.292Z"
   },
   {
    "duration": 18,
    "start_time": "2023-04-04T11:00:07.575Z"
   },
   {
    "duration": 6,
    "start_time": "2023-04-04T11:00:07.595Z"
   },
   {
    "duration": 309,
    "start_time": "2023-04-04T11:00:07.603Z"
   },
   {
    "duration": 9,
    "start_time": "2023-04-04T11:00:07.914Z"
   },
   {
    "duration": 22,
    "start_time": "2023-04-04T11:00:07.925Z"
   },
   {
    "duration": 11,
    "start_time": "2023-04-04T11:00:07.949Z"
   },
   {
    "duration": 10,
    "start_time": "2023-04-04T11:00:07.962Z"
   },
   {
    "duration": 13,
    "start_time": "2023-04-04T11:00:07.974Z"
   },
   {
    "duration": 27,
    "start_time": "2023-04-04T11:00:07.989Z"
   },
   {
    "duration": 8,
    "start_time": "2023-04-04T11:00:08.018Z"
   },
   {
    "duration": 33,
    "start_time": "2023-04-04T11:00:08.027Z"
   },
   {
    "duration": 15,
    "start_time": "2023-04-04T11:00:08.062Z"
   },
   {
    "duration": 49,
    "start_time": "2023-04-04T11:00:08.078Z"
   },
   {
    "duration": 15,
    "start_time": "2023-04-04T11:00:08.131Z"
   },
   {
    "duration": 18,
    "start_time": "2023-04-04T11:00:08.148Z"
   },
   {
    "duration": 23,
    "start_time": "2023-04-04T11:00:08.168Z"
   },
   {
    "duration": 246,
    "start_time": "2023-04-04T11:00:08.192Z"
   },
   {
    "duration": 5,
    "start_time": "2023-04-04T11:00:08.440Z"
   },
   {
    "duration": 28,
    "start_time": "2023-04-04T11:00:08.446Z"
   },
   {
    "duration": 15,
    "start_time": "2023-04-04T11:00:08.476Z"
   },
   {
    "duration": 237,
    "start_time": "2023-04-04T11:00:08.493Z"
   },
   {
    "duration": 5,
    "start_time": "2023-04-04T11:00:08.732Z"
   },
   {
    "duration": 30,
    "start_time": "2023-04-04T11:00:08.738Z"
   },
   {
    "duration": 17,
    "start_time": "2023-04-04T11:00:08.769Z"
   },
   {
    "duration": 19,
    "start_time": "2023-04-04T11:00:08.788Z"
   },
   {
    "duration": 12,
    "start_time": "2023-04-04T11:00:08.809Z"
   },
   {
    "duration": 15,
    "start_time": "2023-04-04T11:00:08.823Z"
   },
   {
    "duration": 32,
    "start_time": "2023-04-04T11:00:08.840Z"
   },
   {
    "duration": 57,
    "start_time": "2023-04-04T11:00:08.874Z"
   },
   {
    "duration": 63,
    "start_time": "2023-04-04T11:00:08.933Z"
   },
   {
    "duration": 358,
    "start_time": "2023-04-04T11:00:09.088Z"
   },
   {
    "duration": 24266,
    "start_time": "2023-04-04T11:00:09.448Z"
   },
   {
    "duration": 72,
    "start_time": "2023-04-04T11:00:33.716Z"
   },
   {
    "duration": 107,
    "start_time": "2023-04-04T11:00:33.790Z"
   },
   {
    "duration": 32,
    "start_time": "2023-04-04T11:00:33.898Z"
   },
   {
    "duration": 229,
    "start_time": "2023-04-04T11:00:33.932Z"
   },
   {
    "duration": 157,
    "start_time": "2023-04-04T11:00:34.163Z"
   },
   {
    "duration": 309,
    "start_time": "2023-04-04T11:00:34.322Z"
   },
   {
    "duration": 192,
    "start_time": "2023-04-04T11:00:34.633Z"
   },
   {
    "duration": 14,
    "start_time": "2023-04-04T11:00:34.826Z"
   },
   {
    "duration": 148,
    "start_time": "2023-04-04T11:00:34.842Z"
   },
   {
    "duration": 510,
    "start_time": "2023-04-04T11:00:34.992Z"
   },
   {
    "duration": 32903,
    "start_time": "2023-04-04T11:00:35.503Z"
   },
   {
    "duration": 12,
    "start_time": "2023-04-04T11:01:08.407Z"
   },
   {
    "duration": 166,
    "start_time": "2023-04-04T11:01:08.421Z"
   },
   {
    "duration": 220,
    "start_time": "2023-04-04T11:01:08.589Z"
   },
   {
    "duration": 13952,
    "start_time": "2023-04-04T11:01:08.810Z"
   },
   {
    "duration": 31,
    "start_time": "2023-04-04T11:01:22.763Z"
   },
   {
    "duration": 107,
    "start_time": "2023-04-04T11:01:22.796Z"
   },
   {
    "duration": 95,
    "start_time": "2023-04-04T11:01:22.905Z"
   },
   {
    "duration": 210,
    "start_time": "2023-04-04T11:01:23.002Z"
   },
   {
    "duration": 422,
    "start_time": "2023-04-04T11:01:23.214Z"
   },
   {
    "duration": 306,
    "start_time": "2023-04-04T11:02:12.025Z"
   },
   {
    "duration": 326,
    "start_time": "2023-04-04T11:02:29.788Z"
   },
   {
    "duration": 306,
    "start_time": "2023-04-04T11:02:53.738Z"
   },
   {
    "duration": 309,
    "start_time": "2023-04-04T11:03:04.174Z"
   },
   {
    "duration": 312,
    "start_time": "2023-04-04T11:03:49.130Z"
   },
   {
    "duration": 325,
    "start_time": "2023-04-04T11:05:58.624Z"
   },
   {
    "duration": 7,
    "start_time": "2023-04-04T11:11:08.304Z"
   },
   {
    "duration": 6,
    "start_time": "2023-04-04T11:13:14.499Z"
   },
   {
    "duration": 4,
    "start_time": "2023-04-04T11:19:46.711Z"
   },
   {
    "duration": 4,
    "start_time": "2023-04-04T11:24:13.516Z"
   },
   {
    "duration": 11,
    "start_time": "2023-04-04T11:25:32.193Z"
   },
   {
    "duration": 1717,
    "start_time": "2023-04-04T11:27:40.009Z"
   },
   {
    "duration": 41,
    "start_time": "2023-04-04T11:27:41.728Z"
   },
   {
    "duration": 19,
    "start_time": "2023-04-04T11:27:41.771Z"
   },
   {
    "duration": 17,
    "start_time": "2023-04-04T11:27:41.792Z"
   },
   {
    "duration": 21,
    "start_time": "2023-04-04T11:27:41.811Z"
   },
   {
    "duration": 42,
    "start_time": "2023-04-04T11:27:41.834Z"
   },
   {
    "duration": 4,
    "start_time": "2023-04-04T11:27:41.878Z"
   },
   {
    "duration": 12,
    "start_time": "2023-04-04T11:27:41.887Z"
   },
   {
    "duration": 9,
    "start_time": "2023-04-04T11:27:41.901Z"
   },
   {
    "duration": 16,
    "start_time": "2023-04-04T11:27:41.912Z"
   },
   {
    "duration": 7,
    "start_time": "2023-04-04T11:27:41.930Z"
   },
   {
    "duration": 10,
    "start_time": "2023-04-04T11:27:41.938Z"
   },
   {
    "duration": 39,
    "start_time": "2023-04-04T11:27:41.949Z"
   },
   {
    "duration": 307,
    "start_time": "2023-04-04T11:27:41.991Z"
   },
   {
    "duration": 14,
    "start_time": "2023-04-04T11:27:42.300Z"
   },
   {
    "duration": 5,
    "start_time": "2023-04-04T11:27:42.316Z"
   },
   {
    "duration": 355,
    "start_time": "2023-04-04T11:27:42.323Z"
   },
   {
    "duration": 11,
    "start_time": "2023-04-04T11:27:42.679Z"
   },
   {
    "duration": 17,
    "start_time": "2023-04-04T11:27:42.692Z"
   },
   {
    "duration": 6,
    "start_time": "2023-04-04T11:27:42.710Z"
   },
   {
    "duration": 5,
    "start_time": "2023-04-04T11:27:42.718Z"
   },
   {
    "duration": 6,
    "start_time": "2023-04-04T11:27:42.725Z"
   },
   {
    "duration": 15,
    "start_time": "2023-04-04T11:27:42.732Z"
   },
   {
    "duration": 5,
    "start_time": "2023-04-04T11:27:42.749Z"
   },
   {
    "duration": 39,
    "start_time": "2023-04-04T11:27:42.755Z"
   },
   {
    "duration": 16,
    "start_time": "2023-04-04T11:27:42.796Z"
   },
   {
    "duration": 45,
    "start_time": "2023-04-04T11:27:42.814Z"
   },
   {
    "duration": 28,
    "start_time": "2023-04-04T11:27:42.860Z"
   },
   {
    "duration": 26,
    "start_time": "2023-04-04T11:27:42.891Z"
   },
   {
    "duration": 5,
    "start_time": "2023-04-04T11:27:42.918Z"
   },
   {
    "duration": 322,
    "start_time": "2023-04-04T11:27:42.925Z"
   },
   {
    "duration": 7,
    "start_time": "2023-04-04T11:27:43.249Z"
   },
   {
    "duration": 13,
    "start_time": "2023-04-04T11:27:43.258Z"
   },
   {
    "duration": 18,
    "start_time": "2023-04-04T11:27:43.272Z"
   },
   {
    "duration": 256,
    "start_time": "2023-04-04T11:27:43.297Z"
   },
   {
    "duration": 6,
    "start_time": "2023-04-04T11:27:43.555Z"
   },
   {
    "duration": 22,
    "start_time": "2023-04-04T11:27:43.562Z"
   },
   {
    "duration": 20,
    "start_time": "2023-04-04T11:27:43.587Z"
   },
   {
    "duration": 7,
    "start_time": "2023-04-04T11:27:43.609Z"
   },
   {
    "duration": 13,
    "start_time": "2023-04-04T11:27:43.618Z"
   },
   {
    "duration": 9,
    "start_time": "2023-04-04T11:27:43.636Z"
   },
   {
    "duration": 21,
    "start_time": "2023-04-04T11:27:43.647Z"
   },
   {
    "duration": 67,
    "start_time": "2023-04-04T11:27:43.669Z"
   },
   {
    "duration": 57,
    "start_time": "2023-04-04T11:27:43.738Z"
   },
   {
    "duration": 469,
    "start_time": "2023-04-04T11:27:43.799Z"
   },
   {
    "duration": 26184,
    "start_time": "2023-04-04T11:27:44.269Z"
   },
   {
    "duration": 40,
    "start_time": "2023-04-04T11:28:10.455Z"
   },
   {
    "duration": 116,
    "start_time": "2023-04-04T11:28:10.499Z"
   },
   {
    "duration": 49,
    "start_time": "2023-04-04T11:28:10.617Z"
   },
   {
    "duration": 293,
    "start_time": "2023-04-04T11:28:10.668Z"
   },
   {
    "duration": 173,
    "start_time": "2023-04-04T11:28:10.963Z"
   },
   {
    "duration": 336,
    "start_time": "2023-04-04T11:28:11.137Z"
   },
   {
    "duration": 222,
    "start_time": "2023-04-04T11:28:11.475Z"
   },
   {
    "duration": 15,
    "start_time": "2023-04-04T11:28:11.699Z"
   },
   {
    "duration": 81,
    "start_time": "2023-04-04T11:28:11.716Z"
   },
   {
    "duration": 548,
    "start_time": "2023-04-04T11:28:11.799Z"
   },
   {
    "duration": 34233,
    "start_time": "2023-04-04T11:28:12.349Z"
   },
   {
    "duration": 13,
    "start_time": "2023-04-04T11:28:46.584Z"
   },
   {
    "duration": 189,
    "start_time": "2023-04-04T11:28:46.599Z"
   },
   {
    "duration": 221,
    "start_time": "2023-04-04T11:28:46.790Z"
   },
   {
    "duration": 13963,
    "start_time": "2023-04-04T11:28:47.012Z"
   },
   {
    "duration": 20,
    "start_time": "2023-04-04T11:29:00.977Z"
   },
   {
    "duration": 107,
    "start_time": "2023-04-04T11:29:01.088Z"
   },
   {
    "duration": 90,
    "start_time": "2023-04-04T11:29:01.197Z"
   },
   {
    "duration": 254,
    "start_time": "2023-04-04T11:29:01.289Z"
   },
   {
    "duration": 324,
    "start_time": "2023-04-04T11:29:01.545Z"
   },
   {
    "duration": 6,
    "start_time": "2023-04-04T11:29:01.871Z"
   },
   {
    "duration": 57,
    "start_time": "2023-04-04T11:29:01.888Z"
   },
   {
    "duration": 29,
    "start_time": "2023-04-04T11:29:01.947Z"
   },
   {
    "duration": 14,
    "start_time": "2023-04-04T11:29:49.548Z"
   },
   {
    "duration": 8,
    "start_time": "2023-04-04T11:29:51.412Z"
   },
   {
    "duration": 15,
    "start_time": "2023-04-04T11:35:41.883Z"
   },
   {
    "duration": 9,
    "start_time": "2023-04-04T11:35:44.657Z"
   },
   {
    "duration": 14,
    "start_time": "2023-04-04T11:37:15.588Z"
   },
   {
    "duration": 9,
    "start_time": "2023-04-04T11:37:16.797Z"
   },
   {
    "duration": 5,
    "start_time": "2023-04-04T11:39:05.635Z"
   },
   {
    "duration": 4,
    "start_time": "2023-04-04T11:39:15.864Z"
   },
   {
    "duration": 9,
    "start_time": "2023-04-04T11:39:16.741Z"
   },
   {
    "duration": 5,
    "start_time": "2023-04-04T11:42:58.714Z"
   },
   {
    "duration": 6,
    "start_time": "2023-04-04T11:43:21.823Z"
   },
   {
    "duration": 12,
    "start_time": "2023-04-04T11:43:22.591Z"
   },
   {
    "duration": 5,
    "start_time": "2023-04-04T11:43:43.195Z"
   },
   {
    "duration": 13,
    "start_time": "2023-04-04T11:43:43.851Z"
   },
   {
    "duration": 1538,
    "start_time": "2023-04-04T12:02:42.749Z"
   },
   {
    "duration": 42,
    "start_time": "2023-04-04T12:02:44.289Z"
   },
   {
    "duration": 18,
    "start_time": "2023-04-04T12:02:44.333Z"
   },
   {
    "duration": 5,
    "start_time": "2023-04-04T12:02:44.353Z"
   },
   {
    "duration": 23,
    "start_time": "2023-04-04T12:02:44.360Z"
   },
   {
    "duration": 45,
    "start_time": "2023-04-04T12:02:44.386Z"
   },
   {
    "duration": 4,
    "start_time": "2023-04-04T12:02:44.433Z"
   },
   {
    "duration": 17,
    "start_time": "2023-04-04T12:02:44.439Z"
   },
   {
    "duration": 18,
    "start_time": "2023-04-04T12:02:44.458Z"
   },
   {
    "duration": 22,
    "start_time": "2023-04-04T12:02:44.478Z"
   },
   {
    "duration": 8,
    "start_time": "2023-04-04T12:02:44.501Z"
   },
   {
    "duration": 17,
    "start_time": "2023-04-04T12:02:44.511Z"
   },
   {
    "duration": 22,
    "start_time": "2023-04-04T12:02:44.531Z"
   },
   {
    "duration": 300,
    "start_time": "2023-04-04T12:02:44.557Z"
   },
   {
    "duration": 12,
    "start_time": "2023-04-04T12:02:44.859Z"
   },
   {
    "duration": 17,
    "start_time": "2023-04-04T12:02:44.873Z"
   },
   {
    "duration": 307,
    "start_time": "2023-04-04T12:02:44.892Z"
   },
   {
    "duration": 10,
    "start_time": "2023-04-04T12:02:45.201Z"
   },
   {
    "duration": 52,
    "start_time": "2023-04-04T12:02:45.213Z"
   },
   {
    "duration": 14,
    "start_time": "2023-04-04T12:02:45.267Z"
   },
   {
    "duration": 51,
    "start_time": "2023-04-04T12:02:45.283Z"
   },
   {
    "duration": 44,
    "start_time": "2023-04-04T12:02:45.336Z"
   },
   {
    "duration": 48,
    "start_time": "2023-04-04T12:02:45.382Z"
   },
   {
    "duration": 22,
    "start_time": "2023-04-04T12:02:45.432Z"
   },
   {
    "duration": 38,
    "start_time": "2023-04-04T12:02:45.456Z"
   },
   {
    "duration": 23,
    "start_time": "2023-04-04T12:02:45.496Z"
   },
   {
    "duration": 52,
    "start_time": "2023-04-04T12:02:45.521Z"
   },
   {
    "duration": 23,
    "start_time": "2023-04-04T12:02:45.575Z"
   },
   {
    "duration": 19,
    "start_time": "2023-04-04T12:02:45.600Z"
   },
   {
    "duration": 5,
    "start_time": "2023-04-04T12:02:45.621Z"
   },
   {
    "duration": 261,
    "start_time": "2023-04-04T12:02:45.628Z"
   },
   {
    "duration": 4,
    "start_time": "2023-04-04T12:02:45.891Z"
   },
   {
    "duration": 10,
    "start_time": "2023-04-04T12:02:45.897Z"
   },
   {
    "duration": 8,
    "start_time": "2023-04-04T12:02:45.909Z"
   },
   {
    "duration": 239,
    "start_time": "2023-04-04T12:02:45.919Z"
   },
   {
    "duration": 5,
    "start_time": "2023-04-04T12:02:46.160Z"
   },
   {
    "duration": 11,
    "start_time": "2023-04-04T12:02:46.167Z"
   },
   {
    "duration": 9,
    "start_time": "2023-04-04T12:02:46.179Z"
   },
   {
    "duration": 14,
    "start_time": "2023-04-04T12:02:46.190Z"
   },
   {
    "duration": 18,
    "start_time": "2023-04-04T12:02:46.206Z"
   },
   {
    "duration": 16,
    "start_time": "2023-04-04T12:02:46.229Z"
   },
   {
    "duration": 24,
    "start_time": "2023-04-04T12:02:46.247Z"
   },
   {
    "duration": 55,
    "start_time": "2023-04-04T12:02:46.273Z"
   },
   {
    "duration": 66,
    "start_time": "2023-04-04T12:02:46.330Z"
   },
   {
    "duration": 472,
    "start_time": "2023-04-04T12:02:46.398Z"
   },
   {
    "duration": 24954,
    "start_time": "2023-04-04T12:02:46.872Z"
   },
   {
    "duration": 61,
    "start_time": "2023-04-04T12:03:11.828Z"
   },
   {
    "duration": 104,
    "start_time": "2023-04-04T12:03:11.891Z"
   },
   {
    "duration": 32,
    "start_time": "2023-04-04T12:03:11.996Z"
   },
   {
    "duration": 226,
    "start_time": "2023-04-04T12:03:12.030Z"
   },
   {
    "duration": 151,
    "start_time": "2023-04-04T12:03:12.258Z"
   },
   {
    "duration": 313,
    "start_time": "2023-04-04T12:03:12.411Z"
   },
   {
    "duration": 189,
    "start_time": "2023-04-04T12:03:12.726Z"
   },
   {
    "duration": 14,
    "start_time": "2023-04-04T12:03:12.917Z"
   },
   {
    "duration": 63,
    "start_time": "2023-04-04T12:03:12.934Z"
   },
   {
    "duration": 440,
    "start_time": "2023-04-04T12:03:13.089Z"
   },
   {
    "duration": 33979,
    "start_time": "2023-04-04T12:03:13.531Z"
   },
   {
    "duration": 13,
    "start_time": "2023-04-04T12:03:47.512Z"
   },
   {
    "duration": 163,
    "start_time": "2023-04-04T12:03:47.527Z"
   },
   {
    "duration": 229,
    "start_time": "2023-04-04T12:03:47.692Z"
   },
   {
    "duration": 14353,
    "start_time": "2023-04-04T12:03:47.922Z"
   },
   {
    "duration": 110,
    "start_time": "2023-04-04T12:04:02.277Z"
   },
   {
    "duration": 121,
    "start_time": "2023-04-04T12:04:02.394Z"
   },
   {
    "duration": 55,
    "start_time": "2023-04-04T12:04:02.517Z"
   },
   {
    "duration": 216,
    "start_time": "2023-04-04T12:04:02.574Z"
   },
   {
    "duration": 328,
    "start_time": "2023-04-04T12:04:02.792Z"
   },
   {
    "duration": 7,
    "start_time": "2023-04-04T12:04:03.122Z"
   },
   {
    "duration": 12,
    "start_time": "2023-04-04T12:04:03.130Z"
   },
   {
    "duration": 19,
    "start_time": "2023-04-04T12:04:03.144Z"
   },
   {
    "duration": 23,
    "start_time": "2023-04-04T12:04:03.165Z"
   },
   {
    "duration": 1664,
    "start_time": "2023-04-04T12:27:59.604Z"
   },
   {
    "duration": 42,
    "start_time": "2023-04-04T12:28:01.270Z"
   },
   {
    "duration": 33,
    "start_time": "2023-04-04T12:28:01.314Z"
   },
   {
    "duration": 67,
    "start_time": "2023-04-04T12:28:01.348Z"
   },
   {
    "duration": 60,
    "start_time": "2023-04-04T12:28:01.418Z"
   },
   {
    "duration": 79,
    "start_time": "2023-04-04T12:28:01.480Z"
   },
   {
    "duration": 4,
    "start_time": "2023-04-04T12:28:01.561Z"
   },
   {
    "duration": 46,
    "start_time": "2023-04-04T12:28:01.567Z"
   },
   {
    "duration": 67,
    "start_time": "2023-04-04T12:28:01.615Z"
   },
   {
    "duration": 42,
    "start_time": "2023-04-04T12:28:01.683Z"
   },
   {
    "duration": 43,
    "start_time": "2023-04-04T12:28:01.726Z"
   },
   {
    "duration": 58,
    "start_time": "2023-04-04T12:28:01.770Z"
   },
   {
    "duration": 73,
    "start_time": "2023-04-04T12:28:01.829Z"
   },
   {
    "duration": 324,
    "start_time": "2023-04-04T12:28:01.905Z"
   },
   {
    "duration": 13,
    "start_time": "2023-04-04T12:28:02.231Z"
   },
   {
    "duration": 28,
    "start_time": "2023-04-04T12:28:02.245Z"
   },
   {
    "duration": 316,
    "start_time": "2023-04-04T12:28:02.274Z"
   },
   {
    "duration": 9,
    "start_time": "2023-04-04T12:28:02.591Z"
   },
   {
    "duration": 16,
    "start_time": "2023-04-04T12:28:02.601Z"
   },
   {
    "duration": 5,
    "start_time": "2023-04-04T12:28:02.619Z"
   },
   {
    "duration": 6,
    "start_time": "2023-04-04T12:28:02.626Z"
   },
   {
    "duration": 4,
    "start_time": "2023-04-04T12:28:02.634Z"
   },
   {
    "duration": 16,
    "start_time": "2023-04-04T12:28:02.640Z"
   },
   {
    "duration": 31,
    "start_time": "2023-04-04T12:28:02.657Z"
   },
   {
    "duration": 11,
    "start_time": "2023-04-04T12:28:02.690Z"
   },
   {
    "duration": 13,
    "start_time": "2023-04-04T12:28:02.703Z"
   },
   {
    "duration": 55,
    "start_time": "2023-04-04T12:28:02.717Z"
   },
   {
    "duration": 22,
    "start_time": "2023-04-04T12:28:02.774Z"
   },
   {
    "duration": 18,
    "start_time": "2023-04-04T12:28:02.797Z"
   },
   {
    "duration": 5,
    "start_time": "2023-04-04T12:28:02.816Z"
   },
   {
    "duration": 257,
    "start_time": "2023-04-04T12:28:02.823Z"
   },
   {
    "duration": 4,
    "start_time": "2023-04-04T12:28:03.087Z"
   },
   {
    "duration": 13,
    "start_time": "2023-04-04T12:28:03.093Z"
   },
   {
    "duration": 15,
    "start_time": "2023-04-04T12:28:03.108Z"
   },
   {
    "duration": 229,
    "start_time": "2023-04-04T12:28:03.125Z"
   },
   {
    "duration": 6,
    "start_time": "2023-04-04T12:28:03.357Z"
   },
   {
    "duration": 9,
    "start_time": "2023-04-04T12:28:03.365Z"
   },
   {
    "duration": 14,
    "start_time": "2023-04-04T12:28:03.376Z"
   },
   {
    "duration": 7,
    "start_time": "2023-04-04T12:28:03.392Z"
   },
   {
    "duration": 6,
    "start_time": "2023-04-04T12:28:03.401Z"
   },
   {
    "duration": 4,
    "start_time": "2023-04-04T12:28:03.412Z"
   },
   {
    "duration": 21,
    "start_time": "2023-04-04T12:28:03.418Z"
   },
   {
    "duration": 49,
    "start_time": "2023-04-04T12:28:03.440Z"
   },
   {
    "duration": 106,
    "start_time": "2023-04-04T12:28:03.491Z"
   },
   {
    "duration": 433,
    "start_time": "2023-04-04T12:28:03.599Z"
   },
   {
    "duration": 25233,
    "start_time": "2023-04-04T12:28:04.034Z"
   },
   {
    "duration": 19,
    "start_time": "2023-04-04T12:28:29.269Z"
   },
   {
    "duration": 118,
    "start_time": "2023-04-04T12:28:29.290Z"
   },
   {
    "duration": 98,
    "start_time": "2023-04-04T12:28:29.411Z"
   },
   {
    "duration": 236,
    "start_time": "2023-04-04T12:28:29.510Z"
   },
   {
    "duration": 177,
    "start_time": "2023-04-04T12:28:29.749Z"
   },
   {
    "duration": 340,
    "start_time": "2023-04-04T12:28:29.927Z"
   },
   {
    "duration": 206,
    "start_time": "2023-04-04T12:28:30.269Z"
   },
   {
    "duration": 16,
    "start_time": "2023-04-04T12:28:30.476Z"
   },
   {
    "duration": 105,
    "start_time": "2023-04-04T12:28:30.495Z"
   },
   {
    "duration": 592,
    "start_time": "2023-04-04T12:28:30.603Z"
   },
   {
    "duration": 32730,
    "start_time": "2023-04-04T12:28:31.196Z"
   },
   {
    "duration": 12,
    "start_time": "2023-04-04T12:29:03.928Z"
   },
   {
    "duration": 148,
    "start_time": "2023-04-04T12:29:03.941Z"
   },
   {
    "duration": 308,
    "start_time": "2023-04-04T12:29:04.092Z"
   },
   {
    "duration": 13811,
    "start_time": "2023-04-04T12:29:04.402Z"
   },
   {
    "duration": 15,
    "start_time": "2023-04-04T12:29:18.215Z"
   },
   {
    "duration": 124,
    "start_time": "2023-04-04T12:29:18.289Z"
   },
   {
    "duration": 37,
    "start_time": "2023-04-04T12:29:18.415Z"
   },
   {
    "duration": 208,
    "start_time": "2023-04-04T12:29:18.454Z"
   },
   {
    "duration": 322,
    "start_time": "2023-04-04T12:29:18.664Z"
   },
   {
    "duration": 6,
    "start_time": "2023-04-04T12:29:18.987Z"
   },
   {
    "duration": 48,
    "start_time": "2023-04-04T12:29:18.995Z"
   },
   {
    "duration": 31,
    "start_time": "2023-04-04T12:29:19.045Z"
   },
   {
    "duration": 19,
    "start_time": "2023-04-04T12:29:19.077Z"
   },
   {
    "duration": 1579,
    "start_time": "2023-04-06T05:50:47.449Z"
   },
   {
    "duration": 1375,
    "start_time": "2023-04-06T05:50:55.584Z"
   },
   {
    "duration": 0,
    "start_time": "2023-04-06T05:50:56.964Z"
   },
   {
    "duration": 0,
    "start_time": "2023-04-06T05:50:56.966Z"
   },
   {
    "duration": 0,
    "start_time": "2023-04-06T05:50:56.967Z"
   },
   {
    "duration": 1,
    "start_time": "2023-04-06T05:50:56.968Z"
   },
   {
    "duration": 0,
    "start_time": "2023-04-06T05:50:56.971Z"
   },
   {
    "duration": 0,
    "start_time": "2023-04-06T05:50:56.974Z"
   },
   {
    "duration": 0,
    "start_time": "2023-04-06T05:50:56.977Z"
   },
   {
    "duration": 0,
    "start_time": "2023-04-06T05:50:56.978Z"
   },
   {
    "duration": 1,
    "start_time": "2023-04-06T05:50:56.979Z"
   },
   {
    "duration": 0,
    "start_time": "2023-04-06T05:50:57.012Z"
   },
   {
    "duration": 0,
    "start_time": "2023-04-06T05:50:57.014Z"
   },
   {
    "duration": 0,
    "start_time": "2023-04-06T05:50:57.015Z"
   },
   {
    "duration": 0,
    "start_time": "2023-04-06T05:50:57.016Z"
   },
   {
    "duration": 0,
    "start_time": "2023-04-06T05:50:57.018Z"
   },
   {
    "duration": 0,
    "start_time": "2023-04-06T05:50:57.019Z"
   },
   {
    "duration": 0,
    "start_time": "2023-04-06T05:50:57.020Z"
   },
   {
    "duration": 1,
    "start_time": "2023-04-06T05:50:57.021Z"
   },
   {
    "duration": 0,
    "start_time": "2023-04-06T05:50:57.023Z"
   },
   {
    "duration": 0,
    "start_time": "2023-04-06T05:50:57.024Z"
   },
   {
    "duration": 0,
    "start_time": "2023-04-06T05:50:57.025Z"
   },
   {
    "duration": 0,
    "start_time": "2023-04-06T05:50:57.026Z"
   },
   {
    "duration": 0,
    "start_time": "2023-04-06T05:50:57.028Z"
   },
   {
    "duration": 0,
    "start_time": "2023-04-06T05:50:57.029Z"
   },
   {
    "duration": 0,
    "start_time": "2023-04-06T05:50:57.032Z"
   },
   {
    "duration": 0,
    "start_time": "2023-04-06T05:50:57.033Z"
   },
   {
    "duration": 0,
    "start_time": "2023-04-06T05:50:57.034Z"
   },
   {
    "duration": 0,
    "start_time": "2023-04-06T05:50:57.035Z"
   },
   {
    "duration": 0,
    "start_time": "2023-04-06T05:50:57.038Z"
   },
   {
    "duration": 0,
    "start_time": "2023-04-06T05:50:57.039Z"
   },
   {
    "duration": 0,
    "start_time": "2023-04-06T05:50:57.040Z"
   },
   {
    "duration": 0,
    "start_time": "2023-04-06T05:50:57.042Z"
   },
   {
    "duration": 0,
    "start_time": "2023-04-06T05:50:57.043Z"
   },
   {
    "duration": 0,
    "start_time": "2023-04-06T05:50:57.045Z"
   },
   {
    "duration": 0,
    "start_time": "2023-04-06T05:50:57.046Z"
   },
   {
    "duration": 0,
    "start_time": "2023-04-06T05:50:57.047Z"
   },
   {
    "duration": 0,
    "start_time": "2023-04-06T05:50:57.048Z"
   },
   {
    "duration": 0,
    "start_time": "2023-04-06T05:50:57.049Z"
   },
   {
    "duration": 0,
    "start_time": "2023-04-06T05:50:57.051Z"
   },
   {
    "duration": 0,
    "start_time": "2023-04-06T05:50:57.052Z"
   },
   {
    "duration": 0,
    "start_time": "2023-04-06T05:50:57.053Z"
   },
   {
    "duration": 0,
    "start_time": "2023-04-06T05:50:57.054Z"
   },
   {
    "duration": 0,
    "start_time": "2023-04-06T05:50:57.056Z"
   },
   {
    "duration": 0,
    "start_time": "2023-04-06T05:50:57.103Z"
   },
   {
    "duration": 0,
    "start_time": "2023-04-06T05:50:57.104Z"
   },
   {
    "duration": 0,
    "start_time": "2023-04-06T05:50:57.106Z"
   },
   {
    "duration": 0,
    "start_time": "2023-04-06T05:50:57.107Z"
   },
   {
    "duration": 0,
    "start_time": "2023-04-06T05:50:57.108Z"
   },
   {
    "duration": 0,
    "start_time": "2023-04-06T05:50:57.113Z"
   },
   {
    "duration": 0,
    "start_time": "2023-04-06T05:50:57.114Z"
   },
   {
    "duration": 0,
    "start_time": "2023-04-06T05:50:57.116Z"
   },
   {
    "duration": 0,
    "start_time": "2023-04-06T05:50:57.117Z"
   },
   {
    "duration": 0,
    "start_time": "2023-04-06T05:50:57.118Z"
   },
   {
    "duration": 0,
    "start_time": "2023-04-06T05:50:57.119Z"
   },
   {
    "duration": 0,
    "start_time": "2023-04-06T05:50:57.120Z"
   },
   {
    "duration": 0,
    "start_time": "2023-04-06T05:50:57.122Z"
   },
   {
    "duration": 0,
    "start_time": "2023-04-06T05:50:57.123Z"
   },
   {
    "duration": 0,
    "start_time": "2023-04-06T05:50:57.125Z"
   },
   {
    "duration": 0,
    "start_time": "2023-04-06T05:50:57.126Z"
   },
   {
    "duration": 0,
    "start_time": "2023-04-06T05:50:57.127Z"
   },
   {
    "duration": 0,
    "start_time": "2023-04-06T05:50:57.129Z"
   },
   {
    "duration": 0,
    "start_time": "2023-04-06T05:50:57.130Z"
   },
   {
    "duration": 0,
    "start_time": "2023-04-06T05:50:57.131Z"
   },
   {
    "duration": 0,
    "start_time": "2023-04-06T05:50:57.132Z"
   },
   {
    "duration": 0,
    "start_time": "2023-04-06T05:50:57.134Z"
   },
   {
    "duration": 0,
    "start_time": "2023-04-06T05:50:57.135Z"
   },
   {
    "duration": 0,
    "start_time": "2023-04-06T05:50:57.136Z"
   },
   {
    "duration": 0,
    "start_time": "2023-04-06T05:50:57.137Z"
   },
   {
    "duration": 0,
    "start_time": "2023-04-06T05:50:57.138Z"
   },
   {
    "duration": 0,
    "start_time": "2023-04-06T05:50:57.139Z"
   },
   {
    "duration": 1535,
    "start_time": "2023-04-06T05:52:14.559Z"
   },
   {
    "duration": 91,
    "start_time": "2023-04-06T05:52:16.096Z"
   },
   {
    "duration": 23,
    "start_time": "2023-04-06T05:52:16.189Z"
   },
   {
    "duration": 5,
    "start_time": "2023-04-06T05:52:16.214Z"
   },
   {
    "duration": 30,
    "start_time": "2023-04-06T05:52:16.222Z"
   },
   {
    "duration": 73,
    "start_time": "2023-04-06T05:52:16.254Z"
   },
   {
    "duration": 6,
    "start_time": "2023-04-06T05:52:16.329Z"
   },
   {
    "duration": 6,
    "start_time": "2023-04-06T05:52:16.337Z"
   },
   {
    "duration": 8,
    "start_time": "2023-04-06T05:52:16.345Z"
   },
   {
    "duration": 18,
    "start_time": "2023-04-06T05:52:16.355Z"
   },
   {
    "duration": 37,
    "start_time": "2023-04-06T05:52:16.375Z"
   },
   {
    "duration": 5,
    "start_time": "2023-04-06T05:52:16.415Z"
   },
   {
    "duration": 23,
    "start_time": "2023-04-06T05:52:16.422Z"
   },
   {
    "duration": 467,
    "start_time": "2023-04-06T05:52:16.450Z"
   },
   {
    "duration": 16,
    "start_time": "2023-04-06T05:52:16.922Z"
   },
   {
    "duration": 7,
    "start_time": "2023-04-06T05:52:16.941Z"
   },
   {
    "duration": 373,
    "start_time": "2023-04-06T05:52:16.951Z"
   },
   {
    "duration": 9,
    "start_time": "2023-04-06T05:52:17.326Z"
   },
   {
    "duration": 7,
    "start_time": "2023-04-06T05:52:17.338Z"
   },
   {
    "duration": 7,
    "start_time": "2023-04-06T05:52:17.347Z"
   },
   {
    "duration": 7,
    "start_time": "2023-04-06T05:52:17.358Z"
   },
   {
    "duration": 38,
    "start_time": "2023-04-06T05:52:17.367Z"
   },
   {
    "duration": 20,
    "start_time": "2023-04-06T05:52:17.407Z"
   },
   {
    "duration": 6,
    "start_time": "2023-04-06T05:52:17.429Z"
   },
   {
    "duration": 14,
    "start_time": "2023-04-06T05:52:17.437Z"
   },
   {
    "duration": 6,
    "start_time": "2023-04-06T05:52:17.453Z"
   },
   {
    "duration": 88,
    "start_time": "2023-04-06T05:52:17.460Z"
   },
   {
    "duration": 18,
    "start_time": "2023-04-06T05:52:17.550Z"
   },
   {
    "duration": 54,
    "start_time": "2023-04-06T05:52:17.570Z"
   },
   {
    "duration": 5,
    "start_time": "2023-04-06T05:52:17.627Z"
   },
   {
    "duration": 290,
    "start_time": "2023-04-06T05:52:17.634Z"
   },
   {
    "duration": 5,
    "start_time": "2023-04-06T05:52:17.926Z"
   },
   {
    "duration": 6,
    "start_time": "2023-04-06T05:52:17.932Z"
   },
   {
    "duration": 8,
    "start_time": "2023-04-06T05:52:17.940Z"
   },
   {
    "duration": 273,
    "start_time": "2023-04-06T05:52:17.950Z"
   },
   {
    "duration": 8,
    "start_time": "2023-04-06T05:52:18.225Z"
   },
   {
    "duration": 38,
    "start_time": "2023-04-06T05:52:18.235Z"
   },
   {
    "duration": 16,
    "start_time": "2023-04-06T05:52:18.275Z"
   },
   {
    "duration": 42,
    "start_time": "2023-04-06T05:52:18.293Z"
   },
   {
    "duration": 10,
    "start_time": "2023-04-06T05:52:18.337Z"
   },
   {
    "duration": 13,
    "start_time": "2023-04-06T05:52:18.352Z"
   },
   {
    "duration": 4,
    "start_time": "2023-04-06T05:52:18.367Z"
   },
   {
    "duration": 60,
    "start_time": "2023-04-06T05:52:18.373Z"
   },
   {
    "duration": 168,
    "start_time": "2023-04-06T05:52:18.435Z"
   },
   {
    "duration": 461,
    "start_time": "2023-04-06T05:52:18.606Z"
   },
   {
    "duration": 27002,
    "start_time": "2023-04-06T05:52:19.069Z"
   },
   {
    "duration": 48,
    "start_time": "2023-04-06T05:52:46.073Z"
   },
   {
    "duration": 91,
    "start_time": "2023-04-06T05:52:46.125Z"
   },
   {
    "duration": 40,
    "start_time": "2023-04-06T05:52:46.219Z"
   },
   {
    "duration": 263,
    "start_time": "2023-04-06T05:52:46.261Z"
   },
   {
    "duration": 179,
    "start_time": "2023-04-06T05:52:46.526Z"
   },
   {
    "duration": 370,
    "start_time": "2023-04-06T05:52:46.711Z"
   },
   {
    "duration": 205,
    "start_time": "2023-04-06T05:52:47.083Z"
   },
   {
    "duration": 24,
    "start_time": "2023-04-06T05:52:47.291Z"
   },
   {
    "duration": 101,
    "start_time": "2023-04-06T05:52:47.318Z"
   },
   {
    "duration": 645,
    "start_time": "2023-04-06T05:52:47.428Z"
   },
   {
    "duration": 36337,
    "start_time": "2023-04-06T05:52:48.075Z"
   },
   {
    "duration": 17,
    "start_time": "2023-04-06T05:53:24.415Z"
   },
   {
    "duration": 85,
    "start_time": "2023-04-06T05:53:24.435Z"
   },
   {
    "duration": 330,
    "start_time": "2023-04-06T05:53:24.523Z"
   },
   {
    "duration": 16187,
    "start_time": "2023-04-06T05:53:24.856Z"
   },
   {
    "duration": 158,
    "start_time": "2023-04-06T05:53:41.045Z"
   },
   {
    "duration": 14,
    "start_time": "2023-04-06T05:53:41.206Z"
   },
   {
    "duration": 37,
    "start_time": "2023-04-06T05:53:41.222Z"
   },
   {
    "duration": 249,
    "start_time": "2023-04-06T05:53:41.261Z"
   },
   {
    "duration": 387,
    "start_time": "2023-04-06T05:53:41.512Z"
   },
   {
    "duration": 8,
    "start_time": "2023-04-06T05:53:41.905Z"
   },
   {
    "duration": 18,
    "start_time": "2023-04-06T05:53:41.914Z"
   },
   {
    "duration": 11,
    "start_time": "2023-04-06T05:53:41.934Z"
   },
   {
    "duration": 39,
    "start_time": "2023-04-06T05:53:41.948Z"
   },
   {
    "duration": 1594,
    "start_time": "2023-04-06T06:15:51.093Z"
   },
   {
    "duration": 36,
    "start_time": "2023-04-06T06:15:52.689Z"
   },
   {
    "duration": 19,
    "start_time": "2023-04-06T06:15:52.726Z"
   },
   {
    "duration": 4,
    "start_time": "2023-04-06T06:15:52.747Z"
   },
   {
    "duration": 15,
    "start_time": "2023-04-06T06:15:52.753Z"
   },
   {
    "duration": 65,
    "start_time": "2023-04-06T06:15:52.770Z"
   },
   {
    "duration": 8,
    "start_time": "2023-04-06T06:15:52.837Z"
   },
   {
    "duration": 6,
    "start_time": "2023-04-06T06:15:52.846Z"
   },
   {
    "duration": 7,
    "start_time": "2023-04-06T06:15:52.854Z"
   },
   {
    "duration": 39,
    "start_time": "2023-04-06T06:15:52.864Z"
   },
   {
    "duration": 10,
    "start_time": "2023-04-06T06:15:52.905Z"
   },
   {
    "duration": 5,
    "start_time": "2023-04-06T06:15:52.916Z"
   },
   {
    "duration": 23,
    "start_time": "2023-04-06T06:15:52.923Z"
   },
   {
    "duration": 410,
    "start_time": "2023-04-06T06:15:52.948Z"
   },
   {
    "duration": 12,
    "start_time": "2023-04-06T06:15:53.360Z"
   },
   {
    "duration": 19,
    "start_time": "2023-04-06T06:15:53.374Z"
   },
   {
    "duration": 317,
    "start_time": "2023-04-06T06:15:53.395Z"
   },
   {
    "duration": 10,
    "start_time": "2023-04-06T06:15:53.714Z"
   },
   {
    "duration": 19,
    "start_time": "2023-04-06T06:15:53.727Z"
   },
   {
    "duration": 11,
    "start_time": "2023-04-06T06:15:53.748Z"
   },
   {
    "duration": 10,
    "start_time": "2023-04-06T06:15:53.760Z"
   },
   {
    "duration": 6,
    "start_time": "2023-04-06T06:15:53.772Z"
   },
   {
    "duration": 33,
    "start_time": "2023-04-06T06:15:53.779Z"
   },
   {
    "duration": 11,
    "start_time": "2023-04-06T06:15:53.814Z"
   },
   {
    "duration": 24,
    "start_time": "2023-04-06T06:15:53.827Z"
   },
   {
    "duration": 12,
    "start_time": "2023-04-06T06:15:53.852Z"
   },
   {
    "duration": 75,
    "start_time": "2023-04-06T06:15:53.866Z"
   },
   {
    "duration": 18,
    "start_time": "2023-04-06T06:15:53.947Z"
   },
   {
    "duration": 41,
    "start_time": "2023-04-06T06:15:53.967Z"
   },
   {
    "duration": 5,
    "start_time": "2023-04-06T06:15:54.010Z"
   },
   {
    "duration": 264,
    "start_time": "2023-04-06T06:15:54.017Z"
   },
   {
    "duration": 4,
    "start_time": "2023-04-06T06:15:54.283Z"
   },
   {
    "duration": 14,
    "start_time": "2023-04-06T06:15:54.289Z"
   },
   {
    "duration": 9,
    "start_time": "2023-04-06T06:15:54.305Z"
   },
   {
    "duration": 262,
    "start_time": "2023-04-06T06:15:54.316Z"
   },
   {
    "duration": 5,
    "start_time": "2023-04-06T06:15:54.580Z"
   },
   {
    "duration": 19,
    "start_time": "2023-04-06T06:15:54.587Z"
   },
   {
    "duration": 7,
    "start_time": "2023-04-06T06:15:54.608Z"
   },
   {
    "duration": 19,
    "start_time": "2023-04-06T06:15:54.618Z"
   },
   {
    "duration": 6,
    "start_time": "2023-04-06T06:15:54.639Z"
   },
   {
    "duration": 16,
    "start_time": "2023-04-06T06:15:54.647Z"
   },
   {
    "duration": 8,
    "start_time": "2023-04-06T06:15:54.665Z"
   },
   {
    "duration": 71,
    "start_time": "2023-04-06T06:15:54.675Z"
   },
   {
    "duration": 65,
    "start_time": "2023-04-06T06:15:54.748Z"
   },
   {
    "duration": 511,
    "start_time": "2023-04-06T06:15:54.815Z"
   },
   {
    "duration": 26033,
    "start_time": "2023-04-06T06:15:55.328Z"
   },
   {
    "duration": 55,
    "start_time": "2023-04-06T06:16:21.362Z"
   },
   {
    "duration": 92,
    "start_time": "2023-04-06T06:16:21.419Z"
   },
   {
    "duration": 32,
    "start_time": "2023-04-06T06:16:21.513Z"
   },
   {
    "duration": 248,
    "start_time": "2023-04-06T06:16:21.547Z"
   },
   {
    "duration": 156,
    "start_time": "2023-04-06T06:16:21.796Z"
   },
   {
    "duration": 376,
    "start_time": "2023-04-06T06:16:21.954Z"
   },
   {
    "duration": 220,
    "start_time": "2023-04-06T06:16:22.332Z"
   },
   {
    "duration": 12,
    "start_time": "2023-04-06T06:16:22.554Z"
   },
   {
    "duration": 143,
    "start_time": "2023-04-06T06:16:22.568Z"
   },
   {
    "duration": 564,
    "start_time": "2023-04-06T06:16:22.714Z"
   },
   {
    "duration": 35453,
    "start_time": "2023-04-06T06:16:23.280Z"
   },
   {
    "duration": 17,
    "start_time": "2023-04-06T06:16:58.735Z"
   },
   {
    "duration": 164,
    "start_time": "2023-04-06T06:16:58.753Z"
   },
   {
    "duration": 269,
    "start_time": "2023-04-06T06:16:58.921Z"
   },
   {
    "duration": 15395,
    "start_time": "2023-04-06T06:16:59.203Z"
   },
   {
    "duration": 26,
    "start_time": "2023-04-06T06:17:14.602Z"
   },
   {
    "duration": 99,
    "start_time": "2023-04-06T06:17:14.705Z"
   },
   {
    "duration": 40,
    "start_time": "2023-04-06T06:17:14.807Z"
   },
   {
    "duration": 242,
    "start_time": "2023-04-06T06:17:14.849Z"
   },
   {
    "duration": 480,
    "start_time": "2023-04-06T06:17:15.092Z"
   },
   {
    "duration": 0,
    "start_time": "2023-04-06T06:17:15.574Z"
   },
   {
    "duration": 0,
    "start_time": "2023-04-06T06:17:15.575Z"
   },
   {
    "duration": 0,
    "start_time": "2023-04-06T06:17:15.576Z"
   },
   {
    "duration": 0,
    "start_time": "2023-04-06T06:17:15.577Z"
   },
   {
    "duration": 0,
    "start_time": "2023-04-06T06:17:15.578Z"
   },
   {
    "duration": 356,
    "start_time": "2023-04-06T06:17:55.613Z"
   },
   {
    "duration": 50,
    "start_time": "2023-04-06T06:18:18.158Z"
   },
   {
    "duration": 51,
    "start_time": "2023-04-06T06:18:32.891Z"
   },
   {
    "duration": 183,
    "start_time": "2023-04-06T06:18:54.152Z"
   },
   {
    "duration": 172,
    "start_time": "2023-04-06T06:19:04.231Z"
   },
   {
    "duration": 188,
    "start_time": "2023-04-06T06:19:09.869Z"
   },
   {
    "duration": 95,
    "start_time": "2023-04-06T06:33:34.271Z"
   },
   {
    "duration": 1644,
    "start_time": "2023-04-06T06:33:49.652Z"
   },
   {
    "duration": 58,
    "start_time": "2023-04-06T06:33:51.298Z"
   },
   {
    "duration": 192,
    "start_time": "2023-04-06T06:33:51.358Z"
   },
   {
    "duration": 6,
    "start_time": "2023-04-06T06:33:51.553Z"
   },
   {
    "duration": 83,
    "start_time": "2023-04-06T06:33:51.561Z"
   },
   {
    "duration": 53,
    "start_time": "2023-04-06T06:33:51.646Z"
   },
   {
    "duration": 13,
    "start_time": "2023-04-06T06:33:51.701Z"
   },
   {
    "duration": 11,
    "start_time": "2023-04-06T06:33:51.722Z"
   },
   {
    "duration": 22,
    "start_time": "2023-04-06T06:33:51.735Z"
   },
   {
    "duration": 14,
    "start_time": "2023-04-06T06:33:51.759Z"
   },
   {
    "duration": 9,
    "start_time": "2023-04-06T06:33:51.774Z"
   },
   {
    "duration": 8,
    "start_time": "2023-04-06T06:33:51.785Z"
   },
   {
    "duration": 34,
    "start_time": "2023-04-06T06:33:51.795Z"
   },
   {
    "duration": 428,
    "start_time": "2023-04-06T06:33:51.834Z"
   },
   {
    "duration": 20,
    "start_time": "2023-04-06T06:33:52.264Z"
   },
   {
    "duration": 7,
    "start_time": "2023-04-06T06:33:52.287Z"
   },
   {
    "duration": 484,
    "start_time": "2023-04-06T06:33:52.296Z"
   },
   {
    "duration": 13,
    "start_time": "2023-04-06T06:33:52.783Z"
   },
   {
    "duration": 16,
    "start_time": "2023-04-06T06:33:52.803Z"
   },
   {
    "duration": 13,
    "start_time": "2023-04-06T06:33:52.821Z"
   },
   {
    "duration": 32,
    "start_time": "2023-04-06T06:33:52.836Z"
   },
   {
    "duration": 4,
    "start_time": "2023-04-06T06:33:52.870Z"
   },
   {
    "duration": 38,
    "start_time": "2023-04-06T06:33:52.876Z"
   },
   {
    "duration": 19,
    "start_time": "2023-04-06T06:33:52.916Z"
   },
   {
    "duration": 32,
    "start_time": "2023-04-06T06:33:52.937Z"
   },
   {
    "duration": 29,
    "start_time": "2023-04-06T06:33:52.971Z"
   },
   {
    "duration": 79,
    "start_time": "2023-04-06T06:33:53.002Z"
   },
   {
    "duration": 16,
    "start_time": "2023-04-06T06:33:53.083Z"
   },
   {
    "duration": 40,
    "start_time": "2023-04-06T06:33:53.101Z"
   },
   {
    "duration": 16,
    "start_time": "2023-04-06T06:33:53.142Z"
   },
   {
    "duration": 309,
    "start_time": "2023-04-06T06:33:53.159Z"
   },
   {
    "duration": 5,
    "start_time": "2023-04-06T06:33:53.470Z"
   },
   {
    "duration": 274,
    "start_time": "2023-04-06T06:33:53.476Z"
   },
   {
    "duration": 25,
    "start_time": "2023-04-06T06:33:53.752Z"
   },
   {
    "duration": 307,
    "start_time": "2023-04-06T06:33:53.779Z"
   },
   {
    "duration": 8,
    "start_time": "2023-04-06T06:33:54.088Z"
   },
   {
    "duration": 24,
    "start_time": "2023-04-06T06:33:54.099Z"
   },
   {
    "duration": 12,
    "start_time": "2023-04-06T06:33:54.125Z"
   },
   {
    "duration": 19,
    "start_time": "2023-04-06T06:33:54.139Z"
   },
   {
    "duration": 16,
    "start_time": "2023-04-06T06:33:54.161Z"
   },
   {
    "duration": 5,
    "start_time": "2023-04-06T06:33:54.182Z"
   },
   {
    "duration": 13,
    "start_time": "2023-04-06T06:33:54.188Z"
   },
   {
    "duration": 69,
    "start_time": "2023-04-06T06:33:54.206Z"
   },
   {
    "duration": 52,
    "start_time": "2023-04-06T06:33:54.277Z"
   },
   {
    "duration": 522,
    "start_time": "2023-04-06T06:33:54.333Z"
   },
   {
    "duration": 28753,
    "start_time": "2023-04-06T06:33:54.856Z"
   },
   {
    "duration": 95,
    "start_time": "2023-04-06T06:34:23.611Z"
   },
   {
    "duration": 31,
    "start_time": "2023-04-06T06:34:23.710Z"
   },
   {
    "duration": 89,
    "start_time": "2023-04-06T06:34:23.743Z"
   },
   {
    "duration": 298,
    "start_time": "2023-04-06T06:34:23.834Z"
   },
   {
    "duration": 169,
    "start_time": "2023-04-06T06:34:24.134Z"
   },
   {
    "duration": 368,
    "start_time": "2023-04-06T06:34:24.304Z"
   },
   {
    "duration": 267,
    "start_time": "2023-04-06T06:34:24.673Z"
   },
   {
    "duration": 21,
    "start_time": "2023-04-06T06:34:24.943Z"
   },
   {
    "duration": 49,
    "start_time": "2023-04-06T06:34:24.966Z"
   },
   {
    "duration": 589,
    "start_time": "2023-04-06T06:34:25.028Z"
   },
   {
    "duration": 37196,
    "start_time": "2023-04-06T06:34:25.619Z"
   },
   {
    "duration": 16,
    "start_time": "2023-04-06T06:35:02.817Z"
   },
   {
    "duration": 78,
    "start_time": "2023-04-06T06:35:02.835Z"
   },
   {
    "duration": 343,
    "start_time": "2023-04-06T06:35:02.917Z"
   },
   {
    "duration": 15448,
    "start_time": "2023-04-06T06:35:03.262Z"
   },
   {
    "duration": 29,
    "start_time": "2023-04-06T06:35:18.712Z"
   },
   {
    "duration": 81,
    "start_time": "2023-04-06T06:35:18.743Z"
   },
   {
    "duration": 119,
    "start_time": "2023-04-06T06:35:18.826Z"
   },
   {
    "duration": 235,
    "start_time": "2023-04-06T06:35:18.947Z"
   },
   {
    "duration": 379,
    "start_time": "2023-04-06T06:35:19.184Z"
   },
   {
    "duration": 192,
    "start_time": "2023-04-06T06:35:19.565Z"
   },
   {
    "duration": 6,
    "start_time": "2023-04-06T06:35:19.759Z"
   },
   {
    "duration": 9,
    "start_time": "2023-04-06T06:35:19.766Z"
   },
   {
    "duration": 6,
    "start_time": "2023-04-06T06:35:19.777Z"
   },
   {
    "duration": 40,
    "start_time": "2023-04-06T06:35:19.785Z"
   }
  ],
  "kernelspec": {
   "display_name": "Python 3 (ipykernel)",
   "language": "python",
   "name": "python3"
  },
  "language_info": {
   "codemirror_mode": {
    "name": "ipython",
    "version": 3
   },
   "file_extension": ".py",
   "mimetype": "text/x-python",
   "name": "python",
   "nbconvert_exporter": "python",
   "pygments_lexer": "ipython3",
   "version": "3.9.16"
  },
  "toc": {
   "base_numbering": 1,
   "nav_menu": {},
   "number_sections": true,
   "sideBar": true,
   "skip_h1_title": true,
   "title_cell": "Содержание",
   "title_sidebar": "Contents",
   "toc_cell": true,
   "toc_position": {
    "height": "calc(100% - 180px)",
    "left": "10px",
    "top": "150px",
    "width": "310px"
   },
   "toc_section_display": true,
   "toc_window_display": true
  }
 },
 "nbformat": 4,
 "nbformat_minor": 2
}
