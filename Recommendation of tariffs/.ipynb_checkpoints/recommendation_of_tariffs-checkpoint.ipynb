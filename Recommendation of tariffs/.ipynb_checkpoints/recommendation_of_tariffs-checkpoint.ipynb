{
 "cells": [
  {
   "cell_type": "markdown",
   "metadata": {},
   "source": [
    "# Рекомендация тарифов"
   ]
  },
  {
   "cell_type": "markdown",
   "metadata": {},
   "source": [
    "Оператор мобильной связи «Мегалайн» выяснил: многие клиенты пользуются архивными тарифами. Они хотят построить систему, способную проанализировать поведение клиентов и предложить пользователям новый тариф: «Смарт» или «Ультра».<br>\n",
    "<br>\n",
    "В распоряжении данные о поведении клиентов, которые уже перешли на эти тарифы (из проекта «comparison_on_tariffs»).<br><br>\n",
    "**Задача:** <br>\n",
    "Построение модель, которая выберет подходящий тариф клиенту тариф на основании данных о поведении клиентов\n",
    "<br><br>\n",
    "**План выполнения проекта:**<br>\n",
    "1) Изучение общей информации о данных.<br>\n",
    "2) Разделение данных на выборки.<br>\n",
    "3) Исследование качества разных моделей.<br>\n",
    "4) Проверка качества модели на тестовой выборке.<br>\n",
    "5) Проверка модели на вменяемость.<br>\n",
    "6) Вывод"
   ]
  },
  {
   "cell_type": "markdown",
   "metadata": {},
   "source": [
    "## Откройте и изучите файл"
   ]
  },
  {
   "cell_type": "code",
   "execution_count": 1,
   "metadata": {},
   "outputs": [],
   "source": [
    "import pandas as pd\n",
    "import matplotlib.pyplot as plt\n",
    "from sklearn.model_selection import train_test_split\n",
    "from sklearn.tree import DecisionTreeClassifier\n",
    "from sklearn.ensemble import RandomForestClassifier\n",
    "from sklearn.linear_model import LogisticRegression\n",
    "from sklearn.metrics import accuracy_score\n",
    "from sklearn.dummy import DummyClassifier"
   ]
  },
  {
   "cell_type": "code",
   "execution_count": 2,
   "metadata": {},
   "outputs": [],
   "source": [
    "try:\n",
    "    df = pd.read_csv('/datasets/users_behavior.csv')\n",
    "except:\n",
    "    df = pd.read_csv('users_behavior.csv')"
   ]
  },
  {
   "cell_type": "code",
   "execution_count": 3,
   "metadata": {},
   "outputs": [
    {
     "data": {
      "text/html": [
       "<div>\n",
       "<style scoped>\n",
       "    .dataframe tbody tr th:only-of-type {\n",
       "        vertical-align: middle;\n",
       "    }\n",
       "\n",
       "    .dataframe tbody tr th {\n",
       "        vertical-align: top;\n",
       "    }\n",
       "\n",
       "    .dataframe thead th {\n",
       "        text-align: right;\n",
       "    }\n",
       "</style>\n",
       "<table border=\"1\" class=\"dataframe\">\n",
       "  <thead>\n",
       "    <tr style=\"text-align: right;\">\n",
       "      <th></th>\n",
       "      <th>calls</th>\n",
       "      <th>minutes</th>\n",
       "      <th>messages</th>\n",
       "      <th>mb_used</th>\n",
       "      <th>is_ultra</th>\n",
       "    </tr>\n",
       "  </thead>\n",
       "  <tbody>\n",
       "    <tr>\n",
       "      <th>0</th>\n",
       "      <td>40.0</td>\n",
       "      <td>311.90</td>\n",
       "      <td>83.0</td>\n",
       "      <td>19915.42</td>\n",
       "      <td>0</td>\n",
       "    </tr>\n",
       "    <tr>\n",
       "      <th>1</th>\n",
       "      <td>85.0</td>\n",
       "      <td>516.75</td>\n",
       "      <td>56.0</td>\n",
       "      <td>22696.96</td>\n",
       "      <td>0</td>\n",
       "    </tr>\n",
       "    <tr>\n",
       "      <th>2</th>\n",
       "      <td>77.0</td>\n",
       "      <td>467.66</td>\n",
       "      <td>86.0</td>\n",
       "      <td>21060.45</td>\n",
       "      <td>0</td>\n",
       "    </tr>\n",
       "    <tr>\n",
       "      <th>3</th>\n",
       "      <td>106.0</td>\n",
       "      <td>745.53</td>\n",
       "      <td>81.0</td>\n",
       "      <td>8437.39</td>\n",
       "      <td>1</td>\n",
       "    </tr>\n",
       "    <tr>\n",
       "      <th>4</th>\n",
       "      <td>66.0</td>\n",
       "      <td>418.74</td>\n",
       "      <td>1.0</td>\n",
       "      <td>14502.75</td>\n",
       "      <td>0</td>\n",
       "    </tr>\n",
       "  </tbody>\n",
       "</table>\n",
       "</div>"
      ],
      "text/plain": [
       "   calls  minutes  messages   mb_used  is_ultra\n",
       "0   40.0   311.90      83.0  19915.42         0\n",
       "1   85.0   516.75      56.0  22696.96         0\n",
       "2   77.0   467.66      86.0  21060.45         0\n",
       "3  106.0   745.53      81.0   8437.39         1\n",
       "4   66.0   418.74       1.0  14502.75         0"
      ]
     },
     "execution_count": 3,
     "metadata": {},
     "output_type": "execute_result"
    }
   ],
   "source": [
    "df.head()"
   ]
  },
  {
   "cell_type": "markdown",
   "metadata": {},
   "source": [
    "**Описание данных:**<br>\n",
    "Каждый объект в наборе данных — это информация о поведении одного пользователя за месяц. Известно:<br>\n",
    "•\tсalls — количество звонков,<br>\n",
    "•\tminutes — суммарная длительность звонков в минутах,<br>\n",
    "•\tmessages — количество sms-сообщений,<br>\n",
    "•\tmb_used — израсходованный интернет-трафик в Мб,<br>\n",
    "•\tis_ultra — каким тарифом пользовался в течение месяца («Ультра» — 1, «Смарт» — 0)."
   ]
  },
  {
   "cell_type": "code",
   "execution_count": 4,
   "metadata": {},
   "outputs": [
    {
     "name": "stdout",
     "output_type": "stream",
     "text": [
      "<class 'pandas.core.frame.DataFrame'>\n",
      "RangeIndex: 3214 entries, 0 to 3213\n",
      "Data columns (total 5 columns):\n",
      " #   Column    Non-Null Count  Dtype  \n",
      "---  ------    --------------  -----  \n",
      " 0   calls     3214 non-null   float64\n",
      " 1   minutes   3214 non-null   float64\n",
      " 2   messages  3214 non-null   float64\n",
      " 3   mb_used   3214 non-null   float64\n",
      " 4   is_ultra  3214 non-null   int64  \n",
      "dtypes: float64(4), int64(1)\n",
      "memory usage: 125.7 KB\n"
     ]
    }
   ],
   "source": [
    "# сводная информация о таблице\n",
    "df.info()"
   ]
  },
  {
   "cell_type": "code",
   "execution_count": 5,
   "metadata": {},
   "outputs": [
    {
     "data": {
      "text/plain": [
       "0"
      ]
     },
     "execution_count": 5,
     "metadata": {},
     "output_type": "execute_result"
    }
   ],
   "source": [
    "# проверяем наличие дубликоатов\n",
    "df.duplicated().sum()"
   ]
  },
  {
   "cell_type": "markdown",
   "metadata": {},
   "source": [
    "Явные дубликаты отсутствуют."
   ]
  },
  {
   "cell_type": "code",
   "execution_count": 6,
   "metadata": {},
   "outputs": [
    {
     "data": {
      "text/plain": [
       "calls       0\n",
       "minutes     0\n",
       "messages    0\n",
       "mb_used     0\n",
       "is_ultra    0\n",
       "dtype: int64"
      ]
     },
     "execution_count": 6,
     "metadata": {},
     "output_type": "execute_result"
    }
   ],
   "source": [
    "# проверяем пропущенные значения\n",
    "df.isna().sum()"
   ]
  },
  {
   "cell_type": "markdown",
   "metadata": {},
   "source": [
    "Пропусков в данных нет."
   ]
  },
  {
   "cell_type": "code",
   "execution_count": 7,
   "metadata": {},
   "outputs": [
    {
     "data": {
      "text/html": [
       "<div>\n",
       "<style scoped>\n",
       "    .dataframe tbody tr th:only-of-type {\n",
       "        vertical-align: middle;\n",
       "    }\n",
       "\n",
       "    .dataframe tbody tr th {\n",
       "        vertical-align: top;\n",
       "    }\n",
       "\n",
       "    .dataframe thead th {\n",
       "        text-align: right;\n",
       "    }\n",
       "</style>\n",
       "<table border=\"1\" class=\"dataframe\">\n",
       "  <thead>\n",
       "    <tr style=\"text-align: right;\">\n",
       "      <th></th>\n",
       "      <th>calls</th>\n",
       "      <th>minutes</th>\n",
       "      <th>messages</th>\n",
       "      <th>mb_used</th>\n",
       "      <th>is_ultra</th>\n",
       "    </tr>\n",
       "  </thead>\n",
       "  <tbody>\n",
       "    <tr>\n",
       "      <th>0</th>\n",
       "      <td>40.0</td>\n",
       "      <td>311.90</td>\n",
       "      <td>83</td>\n",
       "      <td>19915.42</td>\n",
       "      <td>0</td>\n",
       "    </tr>\n",
       "    <tr>\n",
       "      <th>1</th>\n",
       "      <td>85.0</td>\n",
       "      <td>516.75</td>\n",
       "      <td>56</td>\n",
       "      <td>22696.96</td>\n",
       "      <td>0</td>\n",
       "    </tr>\n",
       "    <tr>\n",
       "      <th>2</th>\n",
       "      <td>77.0</td>\n",
       "      <td>467.66</td>\n",
       "      <td>86</td>\n",
       "      <td>21060.45</td>\n",
       "      <td>0</td>\n",
       "    </tr>\n",
       "    <tr>\n",
       "      <th>3</th>\n",
       "      <td>106.0</td>\n",
       "      <td>745.53</td>\n",
       "      <td>81</td>\n",
       "      <td>8437.39</td>\n",
       "      <td>1</td>\n",
       "    </tr>\n",
       "    <tr>\n",
       "      <th>4</th>\n",
       "      <td>66.0</td>\n",
       "      <td>418.74</td>\n",
       "      <td>1</td>\n",
       "      <td>14502.75</td>\n",
       "      <td>0</td>\n",
       "    </tr>\n",
       "  </tbody>\n",
       "</table>\n",
       "</div>"
      ],
      "text/plain": [
       "   calls  minutes  messages   mb_used  is_ultra\n",
       "0   40.0   311.90        83  19915.42         0\n",
       "1   85.0   516.75        56  22696.96         0\n",
       "2   77.0   467.66        86  21060.45         0\n",
       "3  106.0   745.53        81   8437.39         1\n",
       "4   66.0   418.74         1  14502.75         0"
      ]
     },
     "metadata": {},
     "output_type": "display_data"
    }
   ],
   "source": [
    "# сменим тип данных столбца messages\n",
    "df['messages'] = df['messages'].astype(int)\n",
    "display(df.head())"
   ]
  },
  {
   "cell_type": "code",
   "execution_count": 8,
   "metadata": {},
   "outputs": [
    {
     "data": {
      "text/html": [
       "<div>\n",
       "<style scoped>\n",
       "    .dataframe tbody tr th:only-of-type {\n",
       "        vertical-align: middle;\n",
       "    }\n",
       "\n",
       "    .dataframe tbody tr th {\n",
       "        vertical-align: top;\n",
       "    }\n",
       "\n",
       "    .dataframe thead th {\n",
       "        text-align: right;\n",
       "    }\n",
       "</style>\n",
       "<table border=\"1\" class=\"dataframe\">\n",
       "  <thead>\n",
       "    <tr style=\"text-align: right;\">\n",
       "      <th></th>\n",
       "      <th>calls</th>\n",
       "      <th>minutes</th>\n",
       "      <th>messages</th>\n",
       "      <th>mb_used</th>\n",
       "      <th>is_ultra</th>\n",
       "    </tr>\n",
       "  </thead>\n",
       "  <tbody>\n",
       "    <tr>\n",
       "      <th>count</th>\n",
       "      <td>3214.000000</td>\n",
       "      <td>3214.000000</td>\n",
       "      <td>3214.000000</td>\n",
       "      <td>3214.000000</td>\n",
       "      <td>3214.000000</td>\n",
       "    </tr>\n",
       "    <tr>\n",
       "      <th>mean</th>\n",
       "      <td>63.038892</td>\n",
       "      <td>438.208787</td>\n",
       "      <td>38.281269</td>\n",
       "      <td>17207.673836</td>\n",
       "      <td>0.306472</td>\n",
       "    </tr>\n",
       "    <tr>\n",
       "      <th>std</th>\n",
       "      <td>33.236368</td>\n",
       "      <td>234.569872</td>\n",
       "      <td>36.148326</td>\n",
       "      <td>7570.968246</td>\n",
       "      <td>0.461100</td>\n",
       "    </tr>\n",
       "    <tr>\n",
       "      <th>min</th>\n",
       "      <td>0.000000</td>\n",
       "      <td>0.000000</td>\n",
       "      <td>0.000000</td>\n",
       "      <td>0.000000</td>\n",
       "      <td>0.000000</td>\n",
       "    </tr>\n",
       "    <tr>\n",
       "      <th>25%</th>\n",
       "      <td>40.000000</td>\n",
       "      <td>274.575000</td>\n",
       "      <td>9.000000</td>\n",
       "      <td>12491.902500</td>\n",
       "      <td>0.000000</td>\n",
       "    </tr>\n",
       "    <tr>\n",
       "      <th>50%</th>\n",
       "      <td>62.000000</td>\n",
       "      <td>430.600000</td>\n",
       "      <td>30.000000</td>\n",
       "      <td>16943.235000</td>\n",
       "      <td>0.000000</td>\n",
       "    </tr>\n",
       "    <tr>\n",
       "      <th>75%</th>\n",
       "      <td>82.000000</td>\n",
       "      <td>571.927500</td>\n",
       "      <td>57.000000</td>\n",
       "      <td>21424.700000</td>\n",
       "      <td>1.000000</td>\n",
       "    </tr>\n",
       "    <tr>\n",
       "      <th>max</th>\n",
       "      <td>244.000000</td>\n",
       "      <td>1632.060000</td>\n",
       "      <td>224.000000</td>\n",
       "      <td>49745.730000</td>\n",
       "      <td>1.000000</td>\n",
       "    </tr>\n",
       "  </tbody>\n",
       "</table>\n",
       "</div>"
      ],
      "text/plain": [
       "             calls      minutes     messages       mb_used     is_ultra\n",
       "count  3214.000000  3214.000000  3214.000000   3214.000000  3214.000000\n",
       "mean     63.038892   438.208787    38.281269  17207.673836     0.306472\n",
       "std      33.236368   234.569872    36.148326   7570.968246     0.461100\n",
       "min       0.000000     0.000000     0.000000      0.000000     0.000000\n",
       "25%      40.000000   274.575000     9.000000  12491.902500     0.000000\n",
       "50%      62.000000   430.600000    30.000000  16943.235000     0.000000\n",
       "75%      82.000000   571.927500    57.000000  21424.700000     1.000000\n",
       "max     244.000000  1632.060000   224.000000  49745.730000     1.000000"
      ]
     },
     "execution_count": 8,
     "metadata": {},
     "output_type": "execute_result"
    }
   ],
   "source": [
    "df.describe()"
   ]
  },
  {
   "cell_type": "code",
   "execution_count": 9,
   "metadata": {},
   "outputs": [
    {
     "data": {
      "text/plain": [
       "Index(['calls', 'minutes', 'messages', 'mb_used', 'is_ultra'], dtype='object')"
      ]
     },
     "execution_count": 9,
     "metadata": {},
     "output_type": "execute_result"
    }
   ],
   "source": [
    "df.columns"
   ]
  },
  {
   "cell_type": "markdown",
   "metadata": {},
   "source": [
    "Вывод:<br> - в таблице 3214 строк - объекты, 5 столбцов - признаки, <br>-дубликаты отсутсвуют, <br> - пропуски в данных отсутствуют, <br> - тип данных столбца 'messages' ('количество sms-сообщений') заменен на int (целое число), тип данных остальных столбцов в порядке, <br> - названия столбцов не требуют изменений."
   ]
  },
  {
   "cell_type": "markdown",
   "metadata": {},
   "source": [
    "## Разбейте данные на выборки"
   ]
  },
  {
   "cell_type": "markdown",
   "metadata": {},
   "source": [
    "Выделяем признаки и целевой признак"
   ]
  },
  {
   "cell_type": "code",
   "execution_count": 11,
   "metadata": {},
   "outputs": [],
   "source": [
    "# признаки\n",
    "features = df.drop(['is_ultra'], axis=1)"
   ]
  },
  {
   "cell_type": "code",
   "execution_count": 12,
   "metadata": {},
   "outputs": [],
   "source": [
    "# целевой признак\n",
    "target = df['is_ultra']"
   ]
  },
  {
   "cell_type": "markdown",
   "metadata": {},
   "source": [
    "Обучающий (тренировочный) набор данных  (выборка) - набор данных, на котором будет обучаться алгоритм машинного обучения<br>\n",
    "Тестовая выборка необходима для оценки работы готовой модели, набор данных, на котором будет проверяться качество обученной модели. Что бы точно знать, что модель не вызубрила ответы.<br>\n",
    "Валидационная выборка - набор данных, извлекаемый из исходного датасета, на которой проверяется качество работы алгоритма по время обучения модели. При валидации модели выбирают набор гиперпараметров, который соответствует лучшей модели.<br>\n",
    "Спрятанной выборки нет, значит от основной для валидационной отделяют 20%, и 20% для тестовой, соотношение получается 3/1/1\n",
    "(обучающая 60%, валидационная 20%, тестовая 20%)."
   ]
  },
  {
   "cell_type": "code",
   "execution_count": 13,
   "metadata": {},
   "outputs": [],
   "source": [
    "# разделяем данные, выделяем обучающую и валидационную+тестовую (60/40)\n",
    "\n",
    "df_train, df_train_testing = train_test_split(df, test_size=0.4, random_state=12345)"
   ]
  },
  {
   "cell_type": "code",
   "execution_count": 14,
   "metadata": {},
   "outputs": [],
   "source": [
    "# разделяем df_train_testing данные, выделяем валидационную и тестовую (50/50)\n",
    "\n",
    "df_test, df_valid = train_test_split(df_train_testing, test_size=0.5, random_state=12345)"
   ]
  },
  {
   "cell_type": "markdown",
   "metadata": {},
   "source": [
    "df_train - обучающая выборка<br>\n",
    "df_train_testing - тестовая + валидационная выборки<br>\n",
    "df_test - тестовая выборка<br>\n",
    "df_valid - валидационная выборка"
   ]
  },
  {
   "cell_type": "markdown",
   "metadata": {},
   "source": [
    "Создаем переменные для признаков и для целевого признака для обучающей, тестовой и валидационной выборки"
   ]
  },
  {
   "cell_type": "code",
   "execution_count": 15,
   "metadata": {},
   "outputs": [],
   "source": [
    "# для обучающей\n",
    "features_train = df_train.drop(['is_ultra'], axis=1)\n",
    "target_train = df_train['is_ultra']"
   ]
  },
  {
   "cell_type": "code",
   "execution_count": 16,
   "metadata": {},
   "outputs": [],
   "source": [
    "# для тестовой\n",
    "features_test = df_test.drop(['is_ultra'], axis=1)\n",
    "target_test = df_test['is_ultra']"
   ]
  },
  {
   "cell_type": "code",
   "execution_count": 17,
   "metadata": {},
   "outputs": [],
   "source": [
    "# для валидационной\n",
    "features_valid = df_valid.drop(['is_ultra'], axis=1)\n",
    "target_valid = df_valid['is_ultra']"
   ]
  },
  {
   "cell_type": "code",
   "execution_count": 18,
   "metadata": {},
   "outputs": [
    {
     "name": "stdout",
     "output_type": "stream",
     "text": [
      "(1928, 4)\n",
      "(1928,)\n",
      "(643, 4)\n",
      "(643,)\n",
      "(643, 4)\n",
      "(643,)\n"
     ]
    }
   ],
   "source": [
    "# размеры полученных выборок\n",
    "print(features_train.shape)\n",
    "print(target_train.shape)\n",
    "print(features_test.shape)\n",
    "print(target_test.shape)\n",
    "print(features_valid.shape)\n",
    "print(target_valid.shape)"
   ]
  },
  {
   "cell_type": "markdown",
   "metadata": {},
   "source": [
    "## Исследуйте модели"
   ]
  },
  {
   "cell_type": "markdown",
   "metadata": {},
   "source": [
    "### Логистическая регрессия"
   ]
  },
  {
   "cell_type": "code",
   "execution_count": 19,
   "metadata": {},
   "outputs": [
    {
     "name": "stdout",
     "output_type": "stream",
     "text": [
      "Accuracy LogisticRegression: 0.6842923794712286\n"
     ]
    }
   ],
   "source": [
    "model_log = LogisticRegression(random_state=12345, solver='lbfgs')\n",
    "model_log.fit(features_train, target_train)\n",
    "prediction_valid_log = model_log.predict(features_valid)\n",
    "print('Accuracy LogisticRegression:', accuracy_score(target_valid, prediction_valid_log))"
   ]
  },
  {
   "cell_type": "markdown",
   "metadata": {},
   "source": [
    "### Дерево решений"
   ]
  },
  {
   "cell_type": "code",
   "execution_count": 20,
   "metadata": {},
   "outputs": [
    {
     "name": "stdout",
     "output_type": "stream",
     "text": [
      "max_depth = 1 : 0.7356143079315708\n",
      "max_depth = 2 : 0.7744945567651633\n",
      "max_depth = 3 : 0.7791601866251944\n",
      "max_depth = 4 : 0.7744945567651633\n",
      "max_depth = 5 : 0.7838258164852255\n",
      "max_depth = 6 : 0.776049766718507\n",
      "max_depth = 7 : 0.7993779160186625\n",
      "max_depth = 8 : 0.7931570762052877\n",
      "max_depth = 9 : 0.7807153965785381\n",
      "max_depth = 10 : 0.7884914463452566\n",
      "max_depth = 11 : 0.7744945567651633\n",
      "max_depth = 12 : 0.7807153965785381\n",
      "max_depth = 13 : 0.7713841368584758\n",
      "max_depth = 14 : 0.76049766718507\n",
      "Наилучшее качество\n",
      "Accuracy DecisionTreeClassifier: 0.7993779160186625 Глубина дерева: 7\n"
     ]
    }
   ],
   "source": [
    "best_accuracy = 0\n",
    "best_depth = 0\n",
    "for depth in range(1, 15):\n",
    "    model_dr = DecisionTreeClassifier(random_state=12345, max_depth=depth)\n",
    "    model_dr.fit(features_train, target_train)\n",
    "    prediction_valid_dr = model_dr.predict(features_valid)\n",
    "    print(\"max_depth =\", depth, \": \", end='')\n",
    "    print(accuracy_score(target_valid, prediction_valid_dr))\n",
    "    if accuracy_score(target_valid, prediction_valid_dr) > best_accuracy:\n",
    "        best_accuracy = accuracy_score(target_valid, prediction_valid_dr)\n",
    "        best_depth = depth\n",
    "print('Наилучшее качество')\n",
    "print('Accuracy DecisionTreeClassifier:', best_accuracy, 'Глубина дерева:', best_depth)"
   ]
  },
  {
   "cell_type": "markdown",
   "metadata": {},
   "source": [
    "### Случайный лес"
   ]
  },
  {
   "cell_type": "code",
   "execution_count": 21,
   "metadata": {},
   "outputs": [
    {
     "name": "stdout",
     "output_type": "stream",
     "text": [
      "Наилучшее качество\n",
      "Accuracy RandomForestClassifier: 0.8133748055987559 Количество деревьев: 45 Глубина дерева: 9\n"
     ]
    }
   ],
   "source": [
    "best_model = None\n",
    "best_accuracy = 0\n",
    "best_est = 0\n",
    "best_depth = 0\n",
    "for est in range(5, 50, 5):\n",
    "    for depth in range(1, 15):\n",
    "        model_sl = RandomForestClassifier(random_state=12345, n_estimators=est, max_depth=depth)\n",
    "        model_sl.fit(features_train, target_train)\n",
    "        prediction_valid_sl = model_sl.predict(features_valid)\n",
    "        if accuracy_score(target_valid, prediction_valid_sl) > best_accuracy:\n",
    "            best_model = model_sl\n",
    "            best_accuracy = accuracy_score(target_valid, prediction_valid_sl)\n",
    "            best_est = est\n",
    "            best_depth = depth\n",
    "print('Наилучшее качество')\n",
    "print('Accuracy RandomForestClassifier:', \n",
    "      best_accuracy, 'Количество деревьев:', est, 'Глубина дерева:', best_depth)"
   ]
  },
  {
   "cell_type": "markdown",
   "metadata": {},
   "source": [
    "Лучший показатель точности (accuracy - \"доля правильных ответов\") - Случайный лес: качество: 0.8133748055987559, количество деревьев: 45, глубина дерева: 9."
   ]
  },
  {
   "cell_type": "markdown",
   "metadata": {},
   "source": [
    "## Проверьте модель на тестовой выборке"
   ]
  },
  {
   "cell_type": "code",
   "execution_count": 22,
   "metadata": {},
   "outputs": [
    {
     "name": "stdout",
     "output_type": "stream",
     "text": [
      "Accuracy LogisticRegression: 0.7107309486780715\n"
     ]
    }
   ],
   "source": [
    "model_log = LogisticRegression(random_state=12345, solver='lbfgs')\n",
    "model_log.fit(features_train, target_train)\n",
    "prediction_test_log = model_log.predict(features_test)\n",
    "print('Accuracy LogisticRegression:', accuracy_score(target_test, prediction_test_log))"
   ]
  },
  {
   "cell_type": "code",
   "execution_count": 23,
   "metadata": {},
   "outputs": [
    {
     "name": "stdout",
     "output_type": "stream",
     "text": [
      "Accuracy DecisionTreeClassifier: 0.7822706065318819\n"
     ]
    }
   ],
   "source": [
    "model_dr = DecisionTreeClassifier(random_state=12345, max_depth=7)\n",
    "model_dr.fit(features_train, target_train)\n",
    "prediction_test_dr = model_dr.predict(features_test)\n",
    "print('Accuracy DecisionTreeClassifier:', accuracy_score(target_test, prediction_test_dr))"
   ]
  },
  {
   "cell_type": "code",
   "execution_count": 24,
   "metadata": {},
   "outputs": [
    {
     "name": "stdout",
     "output_type": "stream",
     "text": [
      "Accuracy RandomForestClassifier: 0.7947122861586314\n"
     ]
    }
   ],
   "source": [
    "model_sl = RandomForestClassifier(random_state=12345, n_estimators=45, max_depth=9)\n",
    "model_sl.fit(features_train, target_train)\n",
    "prediction_test_sl = model_sl.predict(features_test)\n",
    "print('Accuracy RandomForestClassifier:', accuracy_score(target_test, prediction_test_sl))"
   ]
  },
  {
   "cell_type": "markdown",
   "metadata": {},
   "source": [
    "Результаты проверки на тестовой модели: <br>\n",
    "- Логистическая регрессия: Accuracy: 0.7107309486780715 <br>\n",
    "- Дерево решений: Accuracy: 0.7822706065318819 <br>\n",
    "- Случайный лес: Accuracy: 0.7947122861586314 <br>\n",
    "Тестовое качество расположилось в такой же последовательности. Лучшший результат - случайный лес - Accuracy: 0.7947122861586314 (Показатель на 2% ниже, чем в валидационной выборке)"
   ]
  },
  {
   "cell_type": "markdown",
   "metadata": {},
   "source": [
    "## (бонус) Проверьте модели на адекватность"
   ]
  },
  {
   "cell_type": "markdown",
   "metadata": {},
   "source": [
    "Внедрение модели должно быть оправдано. Необходимо сравнивать модель со случайной, так мы можем оценить ее адекватность (или проверить на вменяемость, sanity check)."
   ]
  },
  {
   "cell_type": "markdown",
   "metadata": {},
   "source": [
    "DummyClassifier-это классификатор,который делает прогнозы,используя простые правила. Этот классификатор полезен в качестве простой основы для сравнения с другими (реальными) классификаторами. "
   ]
  },
  {
   "cell_type": "code",
   "execution_count": 25,
   "metadata": {},
   "outputs": [
    {
     "name": "stdout",
     "output_type": "stream",
     "text": [
      "Accuracy DummyClassifier: 0.7060653188180405\n",
      "Accuracy RandomForestClassifier: 0.7947122861586314\n"
     ]
    }
   ],
   "source": [
    "# Стратегию  использования для создания прогнозов возьмем «most_frequent»: \n",
    "# всегда предсказывает наиболее часто встречающуюся метку в обучающем наборе, random_state прежний, 12345.\n",
    "\n",
    "model_dummyclassifier = DummyClassifier(strategy='most_frequent', random_state=12345)\n",
    "model_dummyclassifier.fit(features_train, target_train)\n",
    "prediction_dummyclassifier = model_dummyclassifier.predict(features_test)\n",
    "print('Accuracy DummyClassifier:', accuracy_score(target_test, prediction_dummyclassifier))\n",
    "print('Accuracy RandomForestClassifier:', accuracy_score(target_test, prediction_test_sl))"
   ]
  },
  {
   "cell_type": "code",
   "execution_count": 26,
   "metadata": {},
   "outputs": [
    {
     "name": "stdout",
     "output_type": "stream",
     "text": [
      "Accuracy DummyClassifier: 0.5038880248833593\n",
      "Accuracy RandomForestClassifier: 0.7947122861586314\n"
     ]
    }
   ],
   "source": [
    "# Стратегию  использования для создания прогнозов возьмем «uniform»: \n",
    "# «однородный»: генерирует прогнозы случайным образом, random_state прежний, 12345.\n",
    "\n",
    "model_dummyclassifier = DummyClassifier(strategy='uniform', random_state=12345)\n",
    "model_dummyclassifier.fit(features_train, target_train)\n",
    "prediction_dummyclassifier = model_dummyclassifier.predict(features_test)\n",
    "print('Accuracy DummyClassifier:', accuracy_score(target_test, prediction_dummyclassifier))\n",
    "print('Accuracy RandomForestClassifier:', accuracy_score(target_test, prediction_test_sl))"
   ]
  },
  {
   "cell_type": "markdown",
   "metadata": {},
   "source": [
    "Подробное вычисление случайных ответов. Предположим это модель, которая предсказывает все объекты случайным образом. С вероятностью 50/50 ответ будет либо \"0\", либо \"1\".<br> Accuracy = 0.5 * (доля угаданных 1) + 0,5 * (доля угаданных 0).<br> Ответы модели не связаны с правильными ответами, поэтому вероятность угадать 1 равна 50 % — так же и для 0. Accuracy будет равна 0.5."
   ]
  },
  {
   "cell_type": "markdown",
   "metadata": {},
   "source": [
    "## Вывод"
   ]
  },
  {
   "cell_type": "markdown",
   "metadata": {},
   "source": [
    "<br><br> Исходные данные: таблица из 3214 строк (объекты) и 5 столбцов (признаки), дубликаты отсутсвуют, пропуски в данных отсутствуют, тип данных столбца 'messages' ('количество sms-сообщений') заменен на int (целое число), тип данных остальных столбцов в порядке, названия столбцов не требуют изменений.<br><br> Данные разбиты на выборки: df_train - обучающая выборка, df_test - тестовая выборка\n",
    "df_valid - валидационная выборка, в соотношении 3:1:1 (60%, 20% и 20% соответственно).<br><br> Были исследованы следующие модели: Логистическая регрессия (LogisticRegression), Дерево решений (DecisionTreeClassifier) и Случайный лес (RandomForestClassifier).<br><br> **Лучший показатель точности** (accuracy - \"доля правильных ответов\") - Случайный лес: Accuracy RandomForestClassifier: 0.8133748055987559, количество деревьев: 45, глубина дерева: 9 (Проверка на тестовой выборке: Accuracy RandomForestClassifier: 0.8133748055987559 Количество деревьев: 45 Глубина дерева: 9.)<br><br> В оставшихся моделях получены следующие значения:<br> - Дерево решений- Accuracy DecisionTreeClassifier: 0.7993779160186625 Глубина дерева: 7 (Проверка на тестовой выборке: Accuracy DecisionTreeClassifier: 0.7822706065318819)<br> - Логистическая регрессия- Accuracy LogisticRegression: 0.6842923794712286 (Проверка на тестовой выборке: Accuracy LogisticRegression: 0.7107309486780715<br><br> При оценке лучшей модели на адекватность (или проверить на вменяемость)  Accuracy получили ниже, чем в нашей модели (при стратегии  «most_frequent» (всегда предсказывает наиболее часто встречающуюся метку в обучающем наборе)Accuracy DummyClassifier: 0.7060653188180405; при стратегии «uniform» (генерирует прогнозы случайным образом) Accuracy DummyClassifier: 0.5038880248833593). Следовательно, модель RandomForestClassifier адекватна и эффективна, и подходит для задачи классификации, которая выберет подходящий тариф."
   ]
  }
 ],
 "metadata": {
  "ExecuteTimeLog": [
   {
    "duration": 711,
    "start_time": "2023-03-16T10:53:02.911Z"
   },
   {
    "duration": 358,
    "start_time": "2023-03-16T10:53:04.205Z"
   },
   {
    "duration": 119,
    "start_time": "2023-03-16T10:53:27.107Z"
   },
   {
    "duration": 199,
    "start_time": "2023-03-16T10:53:51.096Z"
   },
   {
    "duration": 66,
    "start_time": "2023-03-16T10:54:23.494Z"
   },
   {
    "duration": 82,
    "start_time": "2023-03-16T10:54:49.387Z"
   },
   {
    "duration": 30,
    "start_time": "2023-03-16T10:55:14.148Z"
   },
   {
    "duration": 70,
    "start_time": "2023-03-17T06:20:47.361Z"
   },
   {
    "duration": 586,
    "start_time": "2023-03-17T06:20:54.152Z"
   },
   {
    "duration": 181,
    "start_time": "2023-03-17T06:20:54.741Z"
   },
   {
    "duration": 25,
    "start_time": "2023-03-17T06:20:54.927Z"
   },
   {
    "duration": 26,
    "start_time": "2023-03-17T06:20:54.955Z"
   },
   {
    "duration": 19,
    "start_time": "2023-03-17T06:20:54.987Z"
   },
   {
    "duration": 7,
    "start_time": "2023-03-17T06:21:10.552Z"
   },
   {
    "duration": 8,
    "start_time": "2023-03-17T06:23:11.128Z"
   },
   {
    "duration": 4,
    "start_time": "2023-03-17T06:28:22.088Z"
   },
   {
    "duration": 12,
    "start_time": "2023-03-17T06:28:51.909Z"
   },
   {
    "duration": 26,
    "start_time": "2023-03-17T06:29:30.825Z"
   },
   {
    "duration": 81,
    "start_time": "2023-03-17T06:31:49.689Z"
   },
   {
    "duration": 411,
    "start_time": "2023-03-17T06:37:27.924Z"
   },
   {
    "duration": 32,
    "start_time": "2023-03-17T06:37:28.338Z"
   },
   {
    "duration": 20,
    "start_time": "2023-03-17T06:37:28.373Z"
   },
   {
    "duration": 32,
    "start_time": "2023-03-17T06:37:28.396Z"
   },
   {
    "duration": 15,
    "start_time": "2023-03-17T06:37:28.430Z"
   },
   {
    "duration": 27,
    "start_time": "2023-03-17T06:37:28.447Z"
   },
   {
    "duration": 20,
    "start_time": "2023-03-17T06:37:28.476Z"
   },
   {
    "duration": 31,
    "start_time": "2023-03-17T06:37:28.498Z"
   },
   {
    "duration": 85,
    "start_time": "2023-03-17T06:37:28.531Z"
   },
   {
    "duration": 7,
    "start_time": "2023-03-17T06:38:05.476Z"
   },
   {
    "duration": 1398,
    "start_time": "2023-03-17T06:52:23.605Z"
   },
   {
    "duration": 31,
    "start_time": "2023-03-17T06:52:25.006Z"
   },
   {
    "duration": 29,
    "start_time": "2023-03-17T06:52:25.040Z"
   },
   {
    "duration": 39,
    "start_time": "2023-03-17T06:52:25.073Z"
   },
   {
    "duration": 18,
    "start_time": "2023-03-17T06:52:25.114Z"
   },
   {
    "duration": 15,
    "start_time": "2023-03-17T06:52:25.134Z"
   },
   {
    "duration": 41,
    "start_time": "2023-03-17T06:52:25.151Z"
   },
   {
    "duration": 42,
    "start_time": "2023-03-17T06:52:25.194Z"
   },
   {
    "duration": 12,
    "start_time": "2023-03-17T06:52:25.238Z"
   },
   {
    "duration": 6,
    "start_time": "2023-03-17T07:40:36.382Z"
   },
   {
    "duration": 1302,
    "start_time": "2023-03-17T07:43:34.200Z"
   },
   {
    "duration": 32,
    "start_time": "2023-03-17T07:43:35.505Z"
   },
   {
    "duration": 24,
    "start_time": "2023-03-17T07:43:35.539Z"
   },
   {
    "duration": 17,
    "start_time": "2023-03-17T07:43:35.565Z"
   },
   {
    "duration": 13,
    "start_time": "2023-03-17T07:43:35.585Z"
   },
   {
    "duration": 8,
    "start_time": "2023-03-17T07:43:35.601Z"
   },
   {
    "duration": 17,
    "start_time": "2023-03-17T07:43:35.613Z"
   },
   {
    "duration": 69,
    "start_time": "2023-03-17T07:43:35.632Z"
   },
   {
    "duration": 5,
    "start_time": "2023-03-17T07:43:35.703Z"
   },
   {
    "duration": 8,
    "start_time": "2023-03-17T07:43:35.710Z"
   },
   {
    "duration": 18,
    "start_time": "2023-03-17T07:43:35.722Z"
   },
   {
    "duration": 1318,
    "start_time": "2023-03-17T07:55:26.001Z"
   },
   {
    "duration": 32,
    "start_time": "2023-03-17T07:55:27.321Z"
   },
   {
    "duration": 21,
    "start_time": "2023-03-17T07:55:27.355Z"
   },
   {
    "duration": 14,
    "start_time": "2023-03-17T07:55:27.379Z"
   },
   {
    "duration": 11,
    "start_time": "2023-03-17T07:55:27.395Z"
   },
   {
    "duration": 24,
    "start_time": "2023-03-17T07:55:27.408Z"
   },
   {
    "duration": 36,
    "start_time": "2023-03-17T07:55:27.435Z"
   },
   {
    "duration": 58,
    "start_time": "2023-03-17T07:55:27.473Z"
   },
   {
    "duration": 5,
    "start_time": "2023-03-17T07:55:27.533Z"
   },
   {
    "duration": 7,
    "start_time": "2023-03-17T07:55:27.541Z"
   },
   {
    "duration": 10,
    "start_time": "2023-03-17T07:55:27.550Z"
   },
   {
    "duration": 12,
    "start_time": "2023-03-17T07:55:27.562Z"
   },
   {
    "duration": 11,
    "start_time": "2023-03-17T07:55:27.576Z"
   },
   {
    "duration": 16,
    "start_time": "2023-03-17T07:55:27.589Z"
   },
   {
    "duration": 14,
    "start_time": "2023-03-17T07:55:27.608Z"
   },
   {
    "duration": 8,
    "start_time": "2023-03-17T07:55:27.625Z"
   },
   {
    "duration": 6,
    "start_time": "2023-03-17T07:58:30.808Z"
   },
   {
    "duration": 149,
    "start_time": "2023-03-17T08:45:35.500Z"
   },
   {
    "duration": 1470,
    "start_time": "2023-03-17T08:46:09.401Z"
   },
   {
    "duration": 0,
    "start_time": "2023-03-17T08:46:10.875Z"
   },
   {
    "duration": 0,
    "start_time": "2023-03-17T08:46:10.877Z"
   },
   {
    "duration": 0,
    "start_time": "2023-03-17T08:46:10.879Z"
   },
   {
    "duration": 0,
    "start_time": "2023-03-17T08:46:10.881Z"
   },
   {
    "duration": 0,
    "start_time": "2023-03-17T08:46:10.883Z"
   },
   {
    "duration": 0,
    "start_time": "2023-03-17T08:46:10.884Z"
   },
   {
    "duration": 0,
    "start_time": "2023-03-17T08:46:10.886Z"
   },
   {
    "duration": 0,
    "start_time": "2023-03-17T08:46:10.887Z"
   },
   {
    "duration": 0,
    "start_time": "2023-03-17T08:46:10.889Z"
   },
   {
    "duration": 0,
    "start_time": "2023-03-17T08:46:10.891Z"
   },
   {
    "duration": 0,
    "start_time": "2023-03-17T08:46:10.893Z"
   },
   {
    "duration": 0,
    "start_time": "2023-03-17T08:46:10.895Z"
   },
   {
    "duration": 0,
    "start_time": "2023-03-17T08:46:10.897Z"
   },
   {
    "duration": 0,
    "start_time": "2023-03-17T08:46:10.899Z"
   },
   {
    "duration": 0,
    "start_time": "2023-03-17T08:46:10.901Z"
   },
   {
    "duration": 1,
    "start_time": "2023-03-17T08:46:10.902Z"
   },
   {
    "duration": 0,
    "start_time": "2023-03-17T08:46:10.904Z"
   },
   {
    "duration": 12,
    "start_time": "2023-03-17T08:47:47.045Z"
   },
   {
    "duration": 1413,
    "start_time": "2023-03-17T08:48:27.132Z"
   },
   {
    "duration": 0,
    "start_time": "2023-03-17T08:48:28.548Z"
   },
   {
    "duration": 0,
    "start_time": "2023-03-17T08:48:28.549Z"
   },
   {
    "duration": 0,
    "start_time": "2023-03-17T08:48:28.551Z"
   },
   {
    "duration": 0,
    "start_time": "2023-03-17T08:48:28.553Z"
   },
   {
    "duration": 0,
    "start_time": "2023-03-17T08:48:28.554Z"
   },
   {
    "duration": 0,
    "start_time": "2023-03-17T08:48:28.565Z"
   },
   {
    "duration": 0,
    "start_time": "2023-03-17T08:48:28.566Z"
   },
   {
    "duration": 0,
    "start_time": "2023-03-17T08:48:28.567Z"
   },
   {
    "duration": 0,
    "start_time": "2023-03-17T08:48:28.568Z"
   },
   {
    "duration": 0,
    "start_time": "2023-03-17T08:48:28.569Z"
   },
   {
    "duration": 0,
    "start_time": "2023-03-17T08:48:28.570Z"
   },
   {
    "duration": 0,
    "start_time": "2023-03-17T08:48:28.572Z"
   },
   {
    "duration": 0,
    "start_time": "2023-03-17T08:48:28.573Z"
   },
   {
    "duration": 0,
    "start_time": "2023-03-17T08:48:28.574Z"
   },
   {
    "duration": 0,
    "start_time": "2023-03-17T08:48:28.575Z"
   },
   {
    "duration": 0,
    "start_time": "2023-03-17T08:48:28.576Z"
   },
   {
    "duration": 0,
    "start_time": "2023-03-17T08:48:28.578Z"
   },
   {
    "duration": 1421,
    "start_time": "2023-03-17T08:49:01.136Z"
   },
   {
    "duration": 0,
    "start_time": "2023-03-17T08:49:02.564Z"
   },
   {
    "duration": 0,
    "start_time": "2023-03-17T08:49:02.566Z"
   },
   {
    "duration": 0,
    "start_time": "2023-03-17T08:49:02.567Z"
   },
   {
    "duration": 0,
    "start_time": "2023-03-17T08:49:02.569Z"
   },
   {
    "duration": 0,
    "start_time": "2023-03-17T08:49:02.571Z"
   },
   {
    "duration": 0,
    "start_time": "2023-03-17T08:49:02.573Z"
   },
   {
    "duration": 0,
    "start_time": "2023-03-17T08:49:02.574Z"
   },
   {
    "duration": 0,
    "start_time": "2023-03-17T08:49:02.576Z"
   },
   {
    "duration": 0,
    "start_time": "2023-03-17T08:49:02.577Z"
   },
   {
    "duration": 0,
    "start_time": "2023-03-17T08:49:02.579Z"
   },
   {
    "duration": 0,
    "start_time": "2023-03-17T08:49:02.580Z"
   },
   {
    "duration": 0,
    "start_time": "2023-03-17T08:49:02.582Z"
   },
   {
    "duration": 0,
    "start_time": "2023-03-17T08:49:02.583Z"
   },
   {
    "duration": 0,
    "start_time": "2023-03-17T08:49:02.584Z"
   },
   {
    "duration": 0,
    "start_time": "2023-03-17T08:49:02.585Z"
   },
   {
    "duration": 0,
    "start_time": "2023-03-17T08:49:02.586Z"
   },
   {
    "duration": 0,
    "start_time": "2023-03-17T08:49:02.588Z"
   },
   {
    "duration": 1261,
    "start_time": "2023-03-17T08:49:19.333Z"
   },
   {
    "duration": 32,
    "start_time": "2023-03-17T08:49:20.596Z"
   },
   {
    "duration": 19,
    "start_time": "2023-03-17T08:49:20.630Z"
   },
   {
    "duration": 13,
    "start_time": "2023-03-17T08:49:20.652Z"
   },
   {
    "duration": 8,
    "start_time": "2023-03-17T08:49:20.667Z"
   },
   {
    "duration": 8,
    "start_time": "2023-03-17T08:49:20.676Z"
   },
   {
    "duration": 16,
    "start_time": "2023-03-17T08:49:20.686Z"
   },
   {
    "duration": 29,
    "start_time": "2023-03-17T08:49:20.704Z"
   },
   {
    "duration": 4,
    "start_time": "2023-03-17T08:49:20.764Z"
   },
   {
    "duration": 5,
    "start_time": "2023-03-17T08:49:20.771Z"
   },
   {
    "duration": 5,
    "start_time": "2023-03-17T08:49:20.778Z"
   },
   {
    "duration": 7,
    "start_time": "2023-03-17T08:49:20.785Z"
   },
   {
    "duration": 6,
    "start_time": "2023-03-17T08:49:20.794Z"
   },
   {
    "duration": 10,
    "start_time": "2023-03-17T08:49:20.801Z"
   },
   {
    "duration": 8,
    "start_time": "2023-03-17T08:49:20.813Z"
   },
   {
    "duration": 13,
    "start_time": "2023-03-17T08:49:20.823Z"
   },
   {
    "duration": 5,
    "start_time": "2023-03-17T08:49:20.864Z"
   },
   {
    "duration": 156,
    "start_time": "2023-03-17T08:49:20.871Z"
   },
   {
    "duration": 1309,
    "start_time": "2023-03-17T08:49:44.423Z"
   },
   {
    "duration": 33,
    "start_time": "2023-03-17T08:49:45.734Z"
   },
   {
    "duration": 20,
    "start_time": "2023-03-17T08:49:45.782Z"
   },
   {
    "duration": 20,
    "start_time": "2023-03-17T08:49:45.804Z"
   },
   {
    "duration": 24,
    "start_time": "2023-03-17T08:49:45.826Z"
   },
   {
    "duration": 11,
    "start_time": "2023-03-17T08:49:45.852Z"
   },
   {
    "duration": 37,
    "start_time": "2023-03-17T08:49:45.866Z"
   },
   {
    "duration": 43,
    "start_time": "2023-03-17T08:49:45.905Z"
   },
   {
    "duration": 6,
    "start_time": "2023-03-17T08:49:45.950Z"
   },
   {
    "duration": 28,
    "start_time": "2023-03-17T08:49:45.959Z"
   },
   {
    "duration": 30,
    "start_time": "2023-03-17T08:49:45.989Z"
   },
   {
    "duration": 28,
    "start_time": "2023-03-17T08:49:46.021Z"
   },
   {
    "duration": 22,
    "start_time": "2023-03-17T08:49:46.051Z"
   },
   {
    "duration": 17,
    "start_time": "2023-03-17T08:49:46.076Z"
   },
   {
    "duration": 36,
    "start_time": "2023-03-17T08:49:46.095Z"
   },
   {
    "duration": 30,
    "start_time": "2023-03-17T08:49:46.133Z"
   },
   {
    "duration": 40,
    "start_time": "2023-03-17T08:49:46.165Z"
   },
   {
    "duration": 176,
    "start_time": "2023-03-17T08:49:46.207Z"
   },
   {
    "duration": 1242,
    "start_time": "2023-03-17T08:53:27.394Z"
   },
   {
    "duration": 31,
    "start_time": "2023-03-17T08:53:28.638Z"
   },
   {
    "duration": 19,
    "start_time": "2023-03-17T08:53:28.672Z"
   },
   {
    "duration": 14,
    "start_time": "2023-03-17T08:53:28.693Z"
   },
   {
    "duration": 15,
    "start_time": "2023-03-17T08:53:28.709Z"
   },
   {
    "duration": 11,
    "start_time": "2023-03-17T08:53:28.726Z"
   },
   {
    "duration": 33,
    "start_time": "2023-03-17T08:53:28.739Z"
   },
   {
    "duration": 27,
    "start_time": "2023-03-17T08:53:28.774Z"
   },
   {
    "duration": 5,
    "start_time": "2023-03-17T08:53:28.803Z"
   },
   {
    "duration": 10,
    "start_time": "2023-03-17T08:53:28.810Z"
   },
   {
    "duration": 7,
    "start_time": "2023-03-17T08:53:28.822Z"
   },
   {
    "duration": 41,
    "start_time": "2023-03-17T08:53:28.831Z"
   },
   {
    "duration": 12,
    "start_time": "2023-03-17T08:53:28.875Z"
   },
   {
    "duration": 12,
    "start_time": "2023-03-17T08:53:28.890Z"
   },
   {
    "duration": 8,
    "start_time": "2023-03-17T08:53:28.904Z"
   },
   {
    "duration": 12,
    "start_time": "2023-03-17T08:53:28.913Z"
   },
   {
    "duration": 14,
    "start_time": "2023-03-17T08:53:28.927Z"
   },
   {
    "duration": 148,
    "start_time": "2023-03-17T08:53:28.943Z"
   },
   {
    "duration": 3,
    "start_time": "2023-03-17T08:54:44.940Z"
   },
   {
    "duration": 1269,
    "start_time": "2023-03-17T08:54:51.034Z"
   },
   {
    "duration": 32,
    "start_time": "2023-03-17T08:54:52.305Z"
   },
   {
    "duration": 20,
    "start_time": "2023-03-17T08:54:52.339Z"
   },
   {
    "duration": 13,
    "start_time": "2023-03-17T08:54:52.361Z"
   },
   {
    "duration": 17,
    "start_time": "2023-03-17T08:54:52.376Z"
   },
   {
    "duration": 13,
    "start_time": "2023-03-17T08:54:52.395Z"
   },
   {
    "duration": 12,
    "start_time": "2023-03-17T08:54:52.410Z"
   },
   {
    "duration": 49,
    "start_time": "2023-03-17T08:54:52.424Z"
   },
   {
    "duration": 5,
    "start_time": "2023-03-17T08:54:52.475Z"
   },
   {
    "duration": 19,
    "start_time": "2023-03-17T08:54:52.482Z"
   },
   {
    "duration": 20,
    "start_time": "2023-03-17T08:54:52.504Z"
   },
   {
    "duration": 14,
    "start_time": "2023-03-17T08:54:52.526Z"
   },
   {
    "duration": 20,
    "start_time": "2023-03-17T08:54:52.542Z"
   },
   {
    "duration": 26,
    "start_time": "2023-03-17T08:54:52.564Z"
   },
   {
    "duration": 21,
    "start_time": "2023-03-17T08:54:52.593Z"
   },
   {
    "duration": 7,
    "start_time": "2023-03-17T08:54:52.616Z"
   },
   {
    "duration": 15,
    "start_time": "2023-03-17T08:54:52.625Z"
   },
   {
    "duration": 139,
    "start_time": "2023-03-17T08:54:52.642Z"
   },
   {
    "duration": 1334,
    "start_time": "2023-03-17T08:55:33.861Z"
   },
   {
    "duration": 31,
    "start_time": "2023-03-17T08:55:35.198Z"
   },
   {
    "duration": 19,
    "start_time": "2023-03-17T08:55:35.231Z"
   },
   {
    "duration": 12,
    "start_time": "2023-03-17T08:55:35.252Z"
   },
   {
    "duration": 12,
    "start_time": "2023-03-17T08:55:35.267Z"
   },
   {
    "duration": 23,
    "start_time": "2023-03-17T08:55:35.281Z"
   },
   {
    "duration": 15,
    "start_time": "2023-03-17T08:55:35.305Z"
   },
   {
    "duration": 27,
    "start_time": "2023-03-17T08:55:35.322Z"
   },
   {
    "duration": 5,
    "start_time": "2023-03-17T08:55:35.365Z"
   },
   {
    "duration": 18,
    "start_time": "2023-03-17T08:55:35.371Z"
   },
   {
    "duration": 13,
    "start_time": "2023-03-17T08:55:35.391Z"
   },
   {
    "duration": 30,
    "start_time": "2023-03-17T08:55:35.405Z"
   },
   {
    "duration": 20,
    "start_time": "2023-03-17T08:55:35.437Z"
   },
   {
    "duration": 10,
    "start_time": "2023-03-17T08:55:35.460Z"
   },
   {
    "duration": 10,
    "start_time": "2023-03-17T08:55:35.472Z"
   },
   {
    "duration": 28,
    "start_time": "2023-03-17T08:55:35.484Z"
   },
   {
    "duration": 41,
    "start_time": "2023-03-17T08:55:35.514Z"
   },
   {
    "duration": 179,
    "start_time": "2023-03-17T08:55:35.556Z"
   },
   {
    "duration": 38,
    "start_time": "2023-03-17T08:56:36.537Z"
   },
   {
    "duration": 35,
    "start_time": "2023-03-17T08:58:56.338Z"
   },
   {
    "duration": 29,
    "start_time": "2023-03-17T08:59:31.444Z"
   },
   {
    "duration": 27,
    "start_time": "2023-03-17T09:01:23.349Z"
   },
   {
    "duration": 51,
    "start_time": "2023-03-17T09:18:30.206Z"
   },
   {
    "duration": 40,
    "start_time": "2023-03-17T09:18:54.052Z"
   },
   {
    "duration": 46,
    "start_time": "2023-03-17T09:19:06.660Z"
   },
   {
    "duration": 40,
    "start_time": "2023-03-17T09:20:21.632Z"
   },
   {
    "duration": 47,
    "start_time": "2023-03-17T09:20:45.811Z"
   },
   {
    "duration": 28,
    "start_time": "2023-03-17T09:20:59.036Z"
   },
   {
    "duration": 12,
    "start_time": "2023-03-17T09:27:29.992Z"
   },
   {
    "duration": 38,
    "start_time": "2023-03-17T09:27:38.558Z"
   },
   {
    "duration": 1286,
    "start_time": "2023-03-17T09:27:55.729Z"
   },
   {
    "duration": 35,
    "start_time": "2023-03-17T09:27:57.019Z"
   },
   {
    "duration": 28,
    "start_time": "2023-03-17T09:27:57.057Z"
   },
   {
    "duration": 18,
    "start_time": "2023-03-17T09:27:57.088Z"
   },
   {
    "duration": 12,
    "start_time": "2023-03-17T09:27:57.109Z"
   },
   {
    "duration": 12,
    "start_time": "2023-03-17T09:27:57.124Z"
   },
   {
    "duration": 35,
    "start_time": "2023-03-17T09:27:57.139Z"
   },
   {
    "duration": 33,
    "start_time": "2023-03-17T09:27:57.176Z"
   },
   {
    "duration": 5,
    "start_time": "2023-03-17T09:27:57.211Z"
   },
   {
    "duration": 6,
    "start_time": "2023-03-17T09:27:57.219Z"
   },
   {
    "duration": 6,
    "start_time": "2023-03-17T09:27:57.227Z"
   },
   {
    "duration": 31,
    "start_time": "2023-03-17T09:27:57.235Z"
   },
   {
    "duration": 6,
    "start_time": "2023-03-17T09:27:57.268Z"
   },
   {
    "duration": 9,
    "start_time": "2023-03-17T09:27:57.276Z"
   },
   {
    "duration": 10,
    "start_time": "2023-03-17T09:27:57.287Z"
   },
   {
    "duration": 9,
    "start_time": "2023-03-17T09:27:57.300Z"
   },
   {
    "duration": 9,
    "start_time": "2023-03-17T09:27:57.311Z"
   },
   {
    "duration": 54,
    "start_time": "2023-03-17T09:27:57.323Z"
   },
   {
    "duration": 119,
    "start_time": "2023-03-17T09:27:57.380Z"
   },
   {
    "duration": 124,
    "start_time": "2023-03-17T09:28:10.439Z"
   },
   {
    "duration": 124,
    "start_time": "2023-03-17T09:28:18.608Z"
   },
   {
    "duration": 30,
    "start_time": "2023-03-17T09:29:29.823Z"
   },
   {
    "duration": 42,
    "start_time": "2023-03-17T09:32:46.118Z"
   },
   {
    "duration": 91,
    "start_time": "2023-03-17T09:32:57.353Z"
   },
   {
    "duration": 35,
    "start_time": "2023-03-17T09:33:04.674Z"
   },
   {
    "duration": 112,
    "start_time": "2023-03-17T09:33:11.763Z"
   },
   {
    "duration": 123,
    "start_time": "2023-03-17T09:33:19.246Z"
   },
   {
    "duration": 28,
    "start_time": "2023-03-17T09:33:54.129Z"
   },
   {
    "duration": 5,
    "start_time": "2023-03-17T09:34:31.507Z"
   },
   {
    "duration": 28,
    "start_time": "2023-03-17T09:35:18.185Z"
   },
   {
    "duration": 105,
    "start_time": "2023-03-17T09:35:19.669Z"
   },
   {
    "duration": 118,
    "start_time": "2023-03-17T09:35:32.875Z"
   },
   {
    "duration": 111,
    "start_time": "2023-03-17T09:36:21.509Z"
   },
   {
    "duration": 113,
    "start_time": "2023-03-17T09:36:27.199Z"
   },
   {
    "duration": 129,
    "start_time": "2023-03-17T09:36:33.695Z"
   },
   {
    "duration": 28,
    "start_time": "2023-03-17T09:36:40.241Z"
   },
   {
    "duration": 126,
    "start_time": "2023-03-17T09:36:41.800Z"
   },
   {
    "duration": 72,
    "start_time": "2023-03-17T09:36:48.800Z"
   },
   {
    "duration": 121,
    "start_time": "2023-03-17T09:37:04.215Z"
   },
   {
    "duration": 29,
    "start_time": "2023-03-17T09:41:11.605Z"
   },
   {
    "duration": 159,
    "start_time": "2023-03-17T09:41:47.360Z"
   },
   {
    "duration": 172,
    "start_time": "2023-03-17T09:45:11.027Z"
   },
   {
    "duration": 152,
    "start_time": "2023-03-17T09:45:39.703Z"
   },
   {
    "duration": 169,
    "start_time": "2023-03-17T09:45:52.101Z"
   },
   {
    "duration": 157,
    "start_time": "2023-03-17T09:46:05.458Z"
   },
   {
    "duration": 153,
    "start_time": "2023-03-17T09:48:11.763Z"
   },
   {
    "duration": 1228,
    "start_time": "2023-03-17T09:48:22.725Z"
   },
   {
    "duration": 32,
    "start_time": "2023-03-17T09:48:23.956Z"
   },
   {
    "duration": 22,
    "start_time": "2023-03-17T09:48:23.990Z"
   },
   {
    "duration": 12,
    "start_time": "2023-03-17T09:48:24.015Z"
   },
   {
    "duration": 11,
    "start_time": "2023-03-17T09:48:24.029Z"
   },
   {
    "duration": 22,
    "start_time": "2023-03-17T09:48:24.042Z"
   },
   {
    "duration": 12,
    "start_time": "2023-03-17T09:48:24.066Z"
   },
   {
    "duration": 35,
    "start_time": "2023-03-17T09:48:24.079Z"
   },
   {
    "duration": 5,
    "start_time": "2023-03-17T09:48:24.115Z"
   },
   {
    "duration": 8,
    "start_time": "2023-03-17T09:48:24.122Z"
   },
   {
    "duration": 6,
    "start_time": "2023-03-17T09:48:24.132Z"
   },
   {
    "duration": 27,
    "start_time": "2023-03-17T09:48:24.165Z"
   },
   {
    "duration": 30,
    "start_time": "2023-03-17T09:48:24.194Z"
   },
   {
    "duration": 21,
    "start_time": "2023-03-17T09:48:24.227Z"
   },
   {
    "duration": 25,
    "start_time": "2023-03-17T09:48:24.250Z"
   },
   {
    "duration": 70,
    "start_time": "2023-03-17T09:48:24.277Z"
   },
   {
    "duration": 38,
    "start_time": "2023-03-17T09:48:24.349Z"
   },
   {
    "duration": 57,
    "start_time": "2023-03-17T09:48:24.389Z"
   },
   {
    "duration": 143,
    "start_time": "2023-03-17T09:48:24.448Z"
   },
   {
    "duration": 80,
    "start_time": "2023-03-17T10:01:02.453Z"
   },
   {
    "duration": 114,
    "start_time": "2023-03-17T10:01:21.343Z"
   },
   {
    "duration": 1278,
    "start_time": "2023-03-17T10:01:31.906Z"
   },
   {
    "duration": 31,
    "start_time": "2023-03-17T10:01:33.187Z"
   },
   {
    "duration": 89,
    "start_time": "2023-03-17T10:01:33.220Z"
   },
   {
    "duration": 19,
    "start_time": "2023-03-17T10:01:33.311Z"
   },
   {
    "duration": 23,
    "start_time": "2023-03-17T10:01:33.332Z"
   },
   {
    "duration": 22,
    "start_time": "2023-03-17T10:01:33.357Z"
   },
   {
    "duration": 33,
    "start_time": "2023-03-17T10:01:33.381Z"
   },
   {
    "duration": 37,
    "start_time": "2023-03-17T10:01:33.416Z"
   },
   {
    "duration": 6,
    "start_time": "2023-03-17T10:01:33.456Z"
   },
   {
    "duration": 17,
    "start_time": "2023-03-17T10:01:33.466Z"
   },
   {
    "duration": 15,
    "start_time": "2023-03-17T10:01:33.486Z"
   },
   {
    "duration": 39,
    "start_time": "2023-03-17T10:01:33.503Z"
   },
   {
    "duration": 24,
    "start_time": "2023-03-17T10:01:33.545Z"
   },
   {
    "duration": 29,
    "start_time": "2023-03-17T10:01:33.572Z"
   },
   {
    "duration": 13,
    "start_time": "2023-03-17T10:01:33.604Z"
   },
   {
    "duration": 15,
    "start_time": "2023-03-17T10:01:33.619Z"
   },
   {
    "duration": 18,
    "start_time": "2023-03-17T10:01:33.636Z"
   },
   {
    "duration": 60,
    "start_time": "2023-03-17T10:01:33.657Z"
   },
   {
    "duration": 159,
    "start_time": "2023-03-17T10:01:33.719Z"
   },
   {
    "duration": 130,
    "start_time": "2023-03-17T10:01:33.880Z"
   },
   {
    "duration": 10858,
    "start_time": "2023-03-17T10:03:59.081Z"
   },
   {
    "duration": 1512,
    "start_time": "2023-03-17T10:04:45.598Z"
   },
   {
    "duration": 35,
    "start_time": "2023-03-17T10:04:47.112Z"
   },
   {
    "duration": 34,
    "start_time": "2023-03-17T10:04:47.149Z"
   },
   {
    "duration": 25,
    "start_time": "2023-03-17T10:04:47.186Z"
   },
   {
    "duration": 13,
    "start_time": "2023-03-17T10:04:47.213Z"
   },
   {
    "duration": 17,
    "start_time": "2023-03-17T10:04:47.228Z"
   },
   {
    "duration": 40,
    "start_time": "2023-03-17T10:04:47.247Z"
   },
   {
    "duration": 53,
    "start_time": "2023-03-17T10:04:47.289Z"
   },
   {
    "duration": 6,
    "start_time": "2023-03-17T10:04:47.344Z"
   },
   {
    "duration": 26,
    "start_time": "2023-03-17T10:04:47.353Z"
   },
   {
    "duration": 13,
    "start_time": "2023-03-17T10:04:47.381Z"
   },
   {
    "duration": 14,
    "start_time": "2023-03-17T10:04:47.396Z"
   },
   {
    "duration": 18,
    "start_time": "2023-03-17T10:04:47.412Z"
   },
   {
    "duration": 18,
    "start_time": "2023-03-17T10:04:47.432Z"
   },
   {
    "duration": 21,
    "start_time": "2023-03-17T10:04:47.452Z"
   },
   {
    "duration": 17,
    "start_time": "2023-03-17T10:04:47.476Z"
   },
   {
    "duration": 17,
    "start_time": "2023-03-17T10:04:47.495Z"
   },
   {
    "duration": 38,
    "start_time": "2023-03-17T10:04:47.514Z"
   },
   {
    "duration": 166,
    "start_time": "2023-03-17T10:04:47.554Z"
   },
   {
    "duration": 10501,
    "start_time": "2023-03-17T10:04:47.723Z"
   },
   {
    "duration": 90,
    "start_time": "2023-03-17T10:07:24.384Z"
   },
   {
    "duration": 11035,
    "start_time": "2023-03-17T10:07:30.262Z"
   },
   {
    "duration": 10950,
    "start_time": "2023-03-17T10:07:57.507Z"
   },
   {
    "duration": 10848,
    "start_time": "2023-03-17T10:08:50.881Z"
   },
   {
    "duration": 31,
    "start_time": "2023-03-17T11:11:36.108Z"
   },
   {
    "duration": 43,
    "start_time": "2023-03-17T11:13:34.036Z"
   },
   {
    "duration": 38,
    "start_time": "2023-03-17T11:14:22.283Z"
   },
   {
    "duration": 20,
    "start_time": "2023-03-17T11:15:47.113Z"
   },
   {
    "duration": 196,
    "start_time": "2023-03-17T11:17:13.318Z"
   },
   {
    "duration": 188,
    "start_time": "2023-03-17T11:18:08.218Z"
   },
   {
    "duration": 34,
    "start_time": "2023-03-17T11:19:05.126Z"
   },
   {
    "duration": 1293,
    "start_time": "2023-03-17T14:46:30.813Z"
   },
   {
    "duration": 139,
    "start_time": "2023-03-17T14:46:32.109Z"
   },
   {
    "duration": 26,
    "start_time": "2023-03-17T14:46:32.250Z"
   },
   {
    "duration": 23,
    "start_time": "2023-03-17T14:46:32.279Z"
   },
   {
    "duration": 26,
    "start_time": "2023-03-17T14:46:32.304Z"
   },
   {
    "duration": 18,
    "start_time": "2023-03-17T14:46:32.332Z"
   },
   {
    "duration": 41,
    "start_time": "2023-03-17T14:46:32.352Z"
   },
   {
    "duration": 32,
    "start_time": "2023-03-17T14:46:32.395Z"
   },
   {
    "duration": 4,
    "start_time": "2023-03-17T14:46:32.429Z"
   },
   {
    "duration": 12,
    "start_time": "2023-03-17T14:46:32.435Z"
   },
   {
    "duration": 12,
    "start_time": "2023-03-17T14:46:32.448Z"
   },
   {
    "duration": 34,
    "start_time": "2023-03-17T14:46:32.462Z"
   },
   {
    "duration": 23,
    "start_time": "2023-03-17T14:46:32.498Z"
   },
   {
    "duration": 14,
    "start_time": "2023-03-17T14:46:32.524Z"
   },
   {
    "duration": 10,
    "start_time": "2023-03-17T14:46:32.540Z"
   },
   {
    "duration": 29,
    "start_time": "2023-03-17T14:46:32.552Z"
   },
   {
    "duration": 18,
    "start_time": "2023-03-17T14:46:32.583Z"
   },
   {
    "duration": 52,
    "start_time": "2023-03-17T14:46:32.603Z"
   },
   {
    "duration": 181,
    "start_time": "2023-03-17T14:46:32.656Z"
   },
   {
    "duration": 10674,
    "start_time": "2023-03-17T14:46:32.839Z"
   },
   {
    "duration": 27,
    "start_time": "2023-03-17T14:46:43.515Z"
   },
   {
    "duration": 37,
    "start_time": "2023-03-17T14:46:43.544Z"
   },
   {
    "duration": 164,
    "start_time": "2023-03-17T14:46:43.583Z"
   },
   {
    "duration": 85,
    "start_time": "2023-03-17T14:46:43.749Z"
   },
   {
    "duration": 6,
    "start_time": "2023-03-17T14:55:18.613Z"
   },
   {
    "duration": 129,
    "start_time": "2023-03-17T14:57:17.950Z"
   },
   {
    "duration": 5,
    "start_time": "2023-03-17T15:06:43.411Z"
   },
   {
    "duration": 7,
    "start_time": "2023-03-17T15:07:29.564Z"
   },
   {
    "duration": 6,
    "start_time": "2023-03-17T15:08:01.223Z"
   },
   {
    "duration": 12,
    "start_time": "2023-03-17T15:09:20.036Z"
   },
   {
    "duration": 6,
    "start_time": "2023-03-17T15:09:31.715Z"
   },
   {
    "duration": 7,
    "start_time": "2023-03-17T15:11:00.796Z"
   },
   {
    "duration": 7,
    "start_time": "2023-03-17T15:14:32.995Z"
   },
   {
    "duration": 7,
    "start_time": "2023-03-17T15:14:53.735Z"
   },
   {
    "duration": 7,
    "start_time": "2023-03-17T15:15:43.395Z"
   },
   {
    "duration": 7,
    "start_time": "2023-03-17T15:16:55.497Z"
   },
   {
    "duration": 1267,
    "start_time": "2023-03-17T15:17:41.560Z"
   },
   {
    "duration": 31,
    "start_time": "2023-03-17T15:17:42.829Z"
   },
   {
    "duration": 19,
    "start_time": "2023-03-17T15:17:42.862Z"
   },
   {
    "duration": 23,
    "start_time": "2023-03-17T15:17:42.883Z"
   },
   {
    "duration": 13,
    "start_time": "2023-03-17T15:17:42.908Z"
   },
   {
    "duration": 10,
    "start_time": "2023-03-17T15:17:42.922Z"
   },
   {
    "duration": 11,
    "start_time": "2023-03-17T15:17:42.934Z"
   },
   {
    "duration": 26,
    "start_time": "2023-03-17T15:17:42.963Z"
   },
   {
    "duration": 5,
    "start_time": "2023-03-17T15:17:42.990Z"
   },
   {
    "duration": 5,
    "start_time": "2023-03-17T15:17:42.998Z"
   },
   {
    "duration": 12,
    "start_time": "2023-03-17T15:17:43.004Z"
   },
   {
    "duration": 15,
    "start_time": "2023-03-17T15:17:43.018Z"
   },
   {
    "duration": 12,
    "start_time": "2023-03-17T15:17:43.035Z"
   },
   {
    "duration": 15,
    "start_time": "2023-03-17T15:17:43.049Z"
   },
   {
    "duration": 10,
    "start_time": "2023-03-17T15:17:43.066Z"
   },
   {
    "duration": 7,
    "start_time": "2023-03-17T15:17:43.078Z"
   },
   {
    "duration": 6,
    "start_time": "2023-03-17T15:17:43.087Z"
   },
   {
    "duration": 30,
    "start_time": "2023-03-17T15:17:43.095Z"
   },
   {
    "duration": 176,
    "start_time": "2023-03-17T15:17:43.127Z"
   },
   {
    "duration": 10325,
    "start_time": "2023-03-17T15:17:43.305Z"
   },
   {
    "duration": 32,
    "start_time": "2023-03-17T15:17:53.632Z"
   },
   {
    "duration": 14,
    "start_time": "2023-03-17T15:17:53.666Z"
   },
   {
    "duration": 175,
    "start_time": "2023-03-17T15:17:53.682Z"
   },
   {
    "duration": 7,
    "start_time": "2023-03-17T15:17:53.864Z"
   },
   {
    "duration": 21,
    "start_time": "2023-03-17T15:17:53.873Z"
   },
   {
    "duration": 1302,
    "start_time": "2023-03-17T15:33:51.677Z"
   },
   {
    "duration": 34,
    "start_time": "2023-03-17T15:33:52.982Z"
   },
   {
    "duration": 22,
    "start_time": "2023-03-17T15:33:53.019Z"
   },
   {
    "duration": 29,
    "start_time": "2023-03-17T15:33:53.044Z"
   },
   {
    "duration": 41,
    "start_time": "2023-03-17T15:33:53.077Z"
   },
   {
    "duration": 21,
    "start_time": "2023-03-17T15:33:53.120Z"
   },
   {
    "duration": 46,
    "start_time": "2023-03-17T15:33:53.144Z"
   },
   {
    "duration": 53,
    "start_time": "2023-03-17T15:33:53.192Z"
   },
   {
    "duration": 13,
    "start_time": "2023-03-17T15:33:53.248Z"
   },
   {
    "duration": 34,
    "start_time": "2023-03-17T15:33:53.264Z"
   },
   {
    "duration": 16,
    "start_time": "2023-03-17T15:33:53.301Z"
   },
   {
    "duration": 14,
    "start_time": "2023-03-17T15:33:53.320Z"
   },
   {
    "duration": 23,
    "start_time": "2023-03-17T15:33:53.336Z"
   },
   {
    "duration": 17,
    "start_time": "2023-03-17T15:33:53.363Z"
   },
   {
    "duration": 23,
    "start_time": "2023-03-17T15:33:53.383Z"
   },
   {
    "duration": 31,
    "start_time": "2023-03-17T15:33:53.408Z"
   },
   {
    "duration": 36,
    "start_time": "2023-03-17T15:33:53.443Z"
   },
   {
    "duration": 61,
    "start_time": "2023-03-17T15:33:53.482Z"
   },
   {
    "duration": 160,
    "start_time": "2023-03-17T15:33:53.546Z"
   },
   {
    "duration": 11009,
    "start_time": "2023-03-17T15:33:53.708Z"
   },
   {
    "duration": 53,
    "start_time": "2023-03-17T15:34:04.719Z"
   },
   {
    "duration": 20,
    "start_time": "2023-03-17T15:34:04.779Z"
   },
   {
    "duration": 206,
    "start_time": "2023-03-17T15:34:04.801Z"
   },
   {
    "duration": 10,
    "start_time": "2023-03-17T15:34:05.010Z"
   },
   {
    "duration": 8,
    "start_time": "2023-03-17T15:34:05.022Z"
   },
   {
    "duration": 72,
    "start_time": "2023-03-17T15:43:43.776Z"
   },
   {
    "duration": 9,
    "start_time": "2023-03-17T15:43:51.954Z"
   },
   {
    "duration": 1226,
    "start_time": "2023-03-17T15:44:10.720Z"
   },
   {
    "duration": 38,
    "start_time": "2023-03-17T15:44:11.948Z"
   },
   {
    "duration": 19,
    "start_time": "2023-03-17T15:44:11.988Z"
   },
   {
    "duration": 11,
    "start_time": "2023-03-17T15:44:12.009Z"
   },
   {
    "duration": 15,
    "start_time": "2023-03-17T15:44:12.023Z"
   },
   {
    "duration": 17,
    "start_time": "2023-03-17T15:44:12.040Z"
   },
   {
    "duration": 27,
    "start_time": "2023-03-17T15:44:12.058Z"
   },
   {
    "duration": 33,
    "start_time": "2023-03-17T15:44:12.086Z"
   },
   {
    "duration": 4,
    "start_time": "2023-03-17T15:44:12.121Z"
   },
   {
    "duration": 9,
    "start_time": "2023-03-17T15:44:12.127Z"
   },
   {
    "duration": 7,
    "start_time": "2023-03-17T15:44:12.138Z"
   },
   {
    "duration": 31,
    "start_time": "2023-03-17T15:44:12.147Z"
   },
   {
    "duration": 7,
    "start_time": "2023-03-17T15:44:12.180Z"
   },
   {
    "duration": 8,
    "start_time": "2023-03-17T15:44:12.190Z"
   },
   {
    "duration": 21,
    "start_time": "2023-03-17T15:44:12.200Z"
   },
   {
    "duration": 9,
    "start_time": "2023-03-17T15:44:12.223Z"
   },
   {
    "duration": 11,
    "start_time": "2023-03-17T15:44:12.234Z"
   },
   {
    "duration": 34,
    "start_time": "2023-03-17T15:44:12.247Z"
   },
   {
    "duration": 166,
    "start_time": "2023-03-17T15:44:12.284Z"
   },
   {
    "duration": 10712,
    "start_time": "2023-03-17T15:44:12.464Z"
   },
   {
    "duration": 31,
    "start_time": "2023-03-17T15:44:23.178Z"
   },
   {
    "duration": 15,
    "start_time": "2023-03-17T15:44:23.211Z"
   },
   {
    "duration": 196,
    "start_time": "2023-03-17T15:44:23.228Z"
   },
   {
    "duration": 8,
    "start_time": "2023-03-17T15:44:23.426Z"
   },
   {
    "duration": 11,
    "start_time": "2023-03-17T15:44:23.436Z"
   },
   {
    "duration": 2,
    "start_time": "2023-03-17T15:51:41.247Z"
   },
   {
    "duration": 1228,
    "start_time": "2023-03-17T15:59:21.780Z"
   },
   {
    "duration": 31,
    "start_time": "2023-03-17T15:59:23.010Z"
   },
   {
    "duration": 19,
    "start_time": "2023-03-17T15:59:23.043Z"
   },
   {
    "duration": 14,
    "start_time": "2023-03-17T15:59:23.070Z"
   },
   {
    "duration": 20,
    "start_time": "2023-03-17T15:59:23.087Z"
   },
   {
    "duration": 18,
    "start_time": "2023-03-17T15:59:23.109Z"
   },
   {
    "duration": 15,
    "start_time": "2023-03-17T15:59:23.129Z"
   },
   {
    "duration": 52,
    "start_time": "2023-03-17T15:59:23.146Z"
   },
   {
    "duration": 9,
    "start_time": "2023-03-17T15:59:23.200Z"
   },
   {
    "duration": 27,
    "start_time": "2023-03-17T15:59:23.211Z"
   },
   {
    "duration": 37,
    "start_time": "2023-03-17T15:59:23.240Z"
   },
   {
    "duration": 26,
    "start_time": "2023-03-17T15:59:23.279Z"
   },
   {
    "duration": 38,
    "start_time": "2023-03-17T15:59:23.306Z"
   },
   {
    "duration": 46,
    "start_time": "2023-03-17T15:59:23.347Z"
   },
   {
    "duration": 28,
    "start_time": "2023-03-17T15:59:23.396Z"
   },
   {
    "duration": 31,
    "start_time": "2023-03-17T15:59:23.426Z"
   },
   {
    "duration": 51,
    "start_time": "2023-03-17T15:59:23.459Z"
   },
   {
    "duration": 67,
    "start_time": "2023-03-17T15:59:23.512Z"
   },
   {
    "duration": 151,
    "start_time": "2023-03-17T15:59:23.581Z"
   },
   {
    "duration": 10500,
    "start_time": "2023-03-17T15:59:23.734Z"
   },
   {
    "duration": 45,
    "start_time": "2023-03-17T15:59:34.236Z"
   },
   {
    "duration": 21,
    "start_time": "2023-03-17T15:59:34.284Z"
   },
   {
    "duration": 183,
    "start_time": "2023-03-17T15:59:34.307Z"
   },
   {
    "duration": 8,
    "start_time": "2023-03-17T15:59:34.492Z"
   },
   {
    "duration": 14,
    "start_time": "2023-03-17T15:59:34.502Z"
   },
   {
    "duration": 1301,
    "start_time": "2023-03-17T16:01:29.942Z"
   },
   {
    "duration": 39,
    "start_time": "2023-03-17T16:01:31.246Z"
   },
   {
    "duration": 29,
    "start_time": "2023-03-17T16:01:31.287Z"
   },
   {
    "duration": 50,
    "start_time": "2023-03-17T16:01:31.319Z"
   },
   {
    "duration": 46,
    "start_time": "2023-03-17T16:01:31.372Z"
   },
   {
    "duration": 39,
    "start_time": "2023-03-17T16:01:31.420Z"
   },
   {
    "duration": 54,
    "start_time": "2023-03-17T16:01:31.461Z"
   },
   {
    "duration": 62,
    "start_time": "2023-03-17T16:01:31.518Z"
   },
   {
    "duration": 41,
    "start_time": "2023-03-17T16:01:31.582Z"
   },
   {
    "duration": 27,
    "start_time": "2023-03-17T16:01:31.627Z"
   },
   {
    "duration": 36,
    "start_time": "2023-03-17T16:01:31.656Z"
   },
   {
    "duration": 35,
    "start_time": "2023-03-17T16:01:31.695Z"
   },
   {
    "duration": 29,
    "start_time": "2023-03-17T16:01:31.733Z"
   },
   {
    "duration": 35,
    "start_time": "2023-03-17T16:01:31.766Z"
   },
   {
    "duration": 32,
    "start_time": "2023-03-17T16:01:31.804Z"
   },
   {
    "duration": 57,
    "start_time": "2023-03-17T16:01:31.839Z"
   },
   {
    "duration": 33,
    "start_time": "2023-03-17T16:01:31.898Z"
   },
   {
    "duration": 87,
    "start_time": "2023-03-17T16:01:31.933Z"
   },
   {
    "duration": 175,
    "start_time": "2023-03-17T16:01:32.022Z"
   },
   {
    "duration": 10527,
    "start_time": "2023-03-17T16:01:32.199Z"
   },
   {
    "duration": 49,
    "start_time": "2023-03-17T16:01:42.728Z"
   },
   {
    "duration": 18,
    "start_time": "2023-03-17T16:01:42.779Z"
   },
   {
    "duration": 201,
    "start_time": "2023-03-17T16:01:42.800Z"
   },
   {
    "duration": 8,
    "start_time": "2023-03-17T16:01:43.002Z"
   },
   {
    "duration": 8,
    "start_time": "2023-03-17T16:01:43.012Z"
   },
   {
    "duration": 1291,
    "start_time": "2023-03-17T16:05:19.147Z"
   },
   {
    "duration": 32,
    "start_time": "2023-03-17T16:05:20.440Z"
   },
   {
    "duration": 20,
    "start_time": "2023-03-17T16:05:20.474Z"
   },
   {
    "duration": 16,
    "start_time": "2023-03-17T16:05:20.497Z"
   },
   {
    "duration": 19,
    "start_time": "2023-03-17T16:05:20.517Z"
   },
   {
    "duration": 19,
    "start_time": "2023-03-17T16:05:20.538Z"
   },
   {
    "duration": 27,
    "start_time": "2023-03-17T16:05:20.563Z"
   },
   {
    "duration": 39,
    "start_time": "2023-03-17T16:05:20.592Z"
   },
   {
    "duration": 5,
    "start_time": "2023-03-17T16:05:20.633Z"
   },
   {
    "duration": 9,
    "start_time": "2023-03-17T16:05:20.639Z"
   },
   {
    "duration": 9,
    "start_time": "2023-03-17T16:05:20.649Z"
   },
   {
    "duration": 9,
    "start_time": "2023-03-17T16:05:20.660Z"
   },
   {
    "duration": 10,
    "start_time": "2023-03-17T16:05:20.671Z"
   },
   {
    "duration": 9,
    "start_time": "2023-03-17T16:05:20.684Z"
   },
   {
    "duration": 15,
    "start_time": "2023-03-17T16:05:20.695Z"
   },
   {
    "duration": 10,
    "start_time": "2023-03-17T16:05:20.712Z"
   },
   {
    "duration": 14,
    "start_time": "2023-03-17T16:05:20.723Z"
   },
   {
    "duration": 37,
    "start_time": "2023-03-17T16:05:20.739Z"
   },
   {
    "duration": 147,
    "start_time": "2023-03-17T16:05:20.777Z"
   },
   {
    "duration": 10414,
    "start_time": "2023-03-17T16:05:20.926Z"
   },
   {
    "duration": 42,
    "start_time": "2023-03-17T16:05:31.342Z"
   },
   {
    "duration": 20,
    "start_time": "2023-03-17T16:05:31.385Z"
   },
   {
    "duration": 197,
    "start_time": "2023-03-17T16:05:31.407Z"
   },
   {
    "duration": 7,
    "start_time": "2023-03-17T16:05:31.606Z"
   },
   {
    "duration": 68,
    "start_time": "2023-03-17T16:05:31.615Z"
   },
   {
    "duration": 1263,
    "start_time": "2023-03-17T16:26:30.794Z"
   },
   {
    "duration": 38,
    "start_time": "2023-03-17T16:26:32.059Z"
   },
   {
    "duration": 21,
    "start_time": "2023-03-17T16:26:32.099Z"
   },
   {
    "duration": 16,
    "start_time": "2023-03-17T16:26:32.122Z"
   },
   {
    "duration": 42,
    "start_time": "2023-03-17T16:26:32.140Z"
   },
   {
    "duration": 13,
    "start_time": "2023-03-17T16:26:32.183Z"
   },
   {
    "duration": 14,
    "start_time": "2023-03-17T16:26:32.197Z"
   },
   {
    "duration": 31,
    "start_time": "2023-03-17T16:26:32.213Z"
   },
   {
    "duration": 4,
    "start_time": "2023-03-17T16:26:32.246Z"
   },
   {
    "duration": 20,
    "start_time": "2023-03-17T16:26:32.252Z"
   },
   {
    "duration": 23,
    "start_time": "2023-03-17T16:26:32.275Z"
   },
   {
    "duration": 20,
    "start_time": "2023-03-17T16:26:32.301Z"
   },
   {
    "duration": 9,
    "start_time": "2023-03-17T16:26:32.323Z"
   },
   {
    "duration": 6,
    "start_time": "2023-03-17T16:26:32.334Z"
   },
   {
    "duration": 6,
    "start_time": "2023-03-17T16:26:32.343Z"
   },
   {
    "duration": 8,
    "start_time": "2023-03-17T16:26:32.351Z"
   },
   {
    "duration": 30,
    "start_time": "2023-03-17T16:26:32.361Z"
   },
   {
    "duration": 34,
    "start_time": "2023-03-17T16:26:32.393Z"
   },
   {
    "duration": 160,
    "start_time": "2023-03-17T16:26:32.429Z"
   },
   {
    "duration": 10441,
    "start_time": "2023-03-17T16:26:32.590Z"
   },
   {
    "duration": 36,
    "start_time": "2023-03-17T16:26:43.033Z"
   },
   {
    "duration": 15,
    "start_time": "2023-03-17T16:26:43.074Z"
   },
   {
    "duration": 170,
    "start_time": "2023-03-17T16:26:43.091Z"
   },
   {
    "duration": 11,
    "start_time": "2023-03-17T16:26:43.273Z"
   },
   {
    "duration": 10,
    "start_time": "2023-03-17T16:26:43.286Z"
   },
   {
    "duration": 1276,
    "start_time": "2023-03-17T16:28:00.957Z"
   },
   {
    "duration": 40,
    "start_time": "2023-03-17T16:28:02.235Z"
   },
   {
    "duration": 29,
    "start_time": "2023-03-17T16:28:02.277Z"
   },
   {
    "duration": 14,
    "start_time": "2023-03-17T16:28:02.308Z"
   },
   {
    "duration": 28,
    "start_time": "2023-03-17T16:28:02.325Z"
   },
   {
    "duration": 30,
    "start_time": "2023-03-17T16:28:02.355Z"
   },
   {
    "duration": 19,
    "start_time": "2023-03-17T16:28:02.387Z"
   },
   {
    "duration": 29,
    "start_time": "2023-03-17T16:28:02.408Z"
   },
   {
    "duration": 5,
    "start_time": "2023-03-17T16:28:02.439Z"
   },
   {
    "duration": 29,
    "start_time": "2023-03-17T16:28:02.445Z"
   },
   {
    "duration": 36,
    "start_time": "2023-03-17T16:28:02.476Z"
   },
   {
    "duration": 34,
    "start_time": "2023-03-17T16:28:02.514Z"
   },
   {
    "duration": 20,
    "start_time": "2023-03-17T16:28:02.550Z"
   },
   {
    "duration": 24,
    "start_time": "2023-03-17T16:28:02.573Z"
   },
   {
    "duration": 12,
    "start_time": "2023-03-17T16:28:02.599Z"
   },
   {
    "duration": 8,
    "start_time": "2023-03-17T16:28:02.613Z"
   },
   {
    "duration": 8,
    "start_time": "2023-03-17T16:28:02.623Z"
   },
   {
    "duration": 43,
    "start_time": "2023-03-17T16:28:02.633Z"
   },
   {
    "duration": 146,
    "start_time": "2023-03-17T16:28:02.679Z"
   },
   {
    "duration": 10469,
    "start_time": "2023-03-17T16:28:02.827Z"
   },
   {
    "duration": 27,
    "start_time": "2023-03-17T16:28:13.299Z"
   },
   {
    "duration": 14,
    "start_time": "2023-03-17T16:28:13.328Z"
   },
   {
    "duration": 189,
    "start_time": "2023-03-17T16:28:13.344Z"
   },
   {
    "duration": 6,
    "start_time": "2023-03-17T16:28:13.535Z"
   },
   {
    "duration": 11,
    "start_time": "2023-03-17T16:28:13.543Z"
   },
   {
    "duration": 1350,
    "start_time": "2023-03-17T16:36:13.589Z"
   },
   {
    "duration": 43,
    "start_time": "2023-03-17T16:36:14.943Z"
   },
   {
    "duration": 20,
    "start_time": "2023-03-17T16:36:14.988Z"
   },
   {
    "duration": 19,
    "start_time": "2023-03-17T16:36:15.010Z"
   },
   {
    "duration": 22,
    "start_time": "2023-03-17T16:36:15.032Z"
   },
   {
    "duration": 11,
    "start_time": "2023-03-17T16:36:15.056Z"
   },
   {
    "duration": 26,
    "start_time": "2023-03-17T16:36:15.073Z"
   },
   {
    "duration": 38,
    "start_time": "2023-03-17T16:36:15.102Z"
   },
   {
    "duration": 5,
    "start_time": "2023-03-17T16:36:15.143Z"
   },
   {
    "duration": 37,
    "start_time": "2023-03-17T16:36:15.150Z"
   },
   {
    "duration": 19,
    "start_time": "2023-03-17T16:36:15.189Z"
   },
   {
    "duration": 13,
    "start_time": "2023-03-17T16:36:15.210Z"
   },
   {
    "duration": 14,
    "start_time": "2023-03-17T16:36:15.225Z"
   },
   {
    "duration": 8,
    "start_time": "2023-03-17T16:36:15.242Z"
   },
   {
    "duration": 7,
    "start_time": "2023-03-17T16:36:15.252Z"
   },
   {
    "duration": 24,
    "start_time": "2023-03-17T16:36:15.261Z"
   },
   {
    "duration": 18,
    "start_time": "2023-03-17T16:36:15.287Z"
   },
   {
    "duration": 47,
    "start_time": "2023-03-17T16:36:15.307Z"
   },
   {
    "duration": 177,
    "start_time": "2023-03-17T16:36:15.356Z"
   },
   {
    "duration": 11390,
    "start_time": "2023-03-17T16:36:15.535Z"
   },
   {
    "duration": 56,
    "start_time": "2023-03-17T16:36:26.928Z"
   },
   {
    "duration": 16,
    "start_time": "2023-03-17T16:36:26.989Z"
   },
   {
    "duration": 185,
    "start_time": "2023-03-17T16:36:27.007Z"
   },
   {
    "duration": 8,
    "start_time": "2023-03-17T16:36:27.194Z"
   },
   {
    "duration": 8,
    "start_time": "2023-03-17T16:36:27.204Z"
   },
   {
    "duration": 2214,
    "start_time": "2023-03-17T17:32:03.343Z"
   },
   {
    "duration": 76,
    "start_time": "2023-03-17T17:32:05.559Z"
   },
   {
    "duration": 21,
    "start_time": "2023-03-17T17:32:05.637Z"
   },
   {
    "duration": 14,
    "start_time": "2023-03-17T17:32:05.659Z"
   },
   {
    "duration": 12,
    "start_time": "2023-03-17T17:32:05.676Z"
   },
   {
    "duration": 18,
    "start_time": "2023-03-17T17:32:05.690Z"
   },
   {
    "duration": 26,
    "start_time": "2023-03-17T17:32:05.713Z"
   },
   {
    "duration": 25,
    "start_time": "2023-03-17T17:32:05.741Z"
   },
   {
    "duration": 6,
    "start_time": "2023-03-17T17:32:05.768Z"
   },
   {
    "duration": 9,
    "start_time": "2023-03-17T17:32:05.775Z"
   },
   {
    "duration": 4,
    "start_time": "2023-03-17T17:32:05.786Z"
   },
   {
    "duration": 23,
    "start_time": "2023-03-17T17:32:05.792Z"
   },
   {
    "duration": 6,
    "start_time": "2023-03-17T17:32:05.817Z"
   },
   {
    "duration": 9,
    "start_time": "2023-03-17T17:32:05.825Z"
   },
   {
    "duration": 12,
    "start_time": "2023-03-17T17:32:05.835Z"
   },
   {
    "duration": 9,
    "start_time": "2023-03-17T17:32:05.848Z"
   },
   {
    "duration": 7,
    "start_time": "2023-03-17T17:32:05.858Z"
   },
   {
    "duration": 26,
    "start_time": "2023-03-17T17:32:05.866Z"
   },
   {
    "duration": 144,
    "start_time": "2023-03-17T17:32:05.894Z"
   },
   {
    "duration": 9404,
    "start_time": "2023-03-17T17:32:06.040Z"
   },
   {
    "duration": 41,
    "start_time": "2023-03-17T17:32:15.446Z"
   },
   {
    "duration": 20,
    "start_time": "2023-03-17T17:32:15.497Z"
   },
   {
    "duration": 187,
    "start_time": "2023-03-17T17:32:15.524Z"
   },
   {
    "duration": 9,
    "start_time": "2023-03-17T17:32:15.719Z"
   },
   {
    "duration": 9,
    "start_time": "2023-03-17T17:32:15.730Z"
   },
   {
    "duration": 2339,
    "start_time": "2023-03-17T18:07:47.777Z"
   },
   {
    "duration": 1308,
    "start_time": "2023-03-17T18:08:14.103Z"
   },
   {
    "duration": 32,
    "start_time": "2023-03-17T18:08:15.413Z"
   },
   {
    "duration": 23,
    "start_time": "2023-03-17T18:08:15.447Z"
   },
   {
    "duration": 15,
    "start_time": "2023-03-17T18:08:15.473Z"
   },
   {
    "duration": 7,
    "start_time": "2023-03-17T18:08:15.489Z"
   },
   {
    "duration": 10,
    "start_time": "2023-03-17T18:08:15.498Z"
   },
   {
    "duration": 11,
    "start_time": "2023-03-17T18:08:15.511Z"
   },
   {
    "duration": 72,
    "start_time": "2023-03-17T18:08:15.524Z"
   },
   {
    "duration": 6,
    "start_time": "2023-03-17T18:08:15.598Z"
   },
   {
    "duration": 12,
    "start_time": "2023-03-17T18:08:15.608Z"
   },
   {
    "duration": 17,
    "start_time": "2023-03-17T18:08:15.622Z"
   },
   {
    "duration": 2255,
    "start_time": "2023-03-17T18:08:15.641Z"
   },
   {
    "duration": 0,
    "start_time": "2023-03-17T18:08:17.898Z"
   },
   {
    "duration": 0,
    "start_time": "2023-03-17T18:08:17.900Z"
   },
   {
    "duration": 0,
    "start_time": "2023-03-17T18:08:17.901Z"
   },
   {
    "duration": 0,
    "start_time": "2023-03-17T18:08:17.903Z"
   },
   {
    "duration": 0,
    "start_time": "2023-03-17T18:08:17.905Z"
   },
   {
    "duration": 0,
    "start_time": "2023-03-17T18:08:17.907Z"
   },
   {
    "duration": 0,
    "start_time": "2023-03-17T18:08:17.908Z"
   },
   {
    "duration": 0,
    "start_time": "2023-03-17T18:08:17.909Z"
   },
   {
    "duration": 0,
    "start_time": "2023-03-17T18:08:17.911Z"
   },
   {
    "duration": 0,
    "start_time": "2023-03-17T18:08:17.912Z"
   },
   {
    "duration": 0,
    "start_time": "2023-03-17T18:08:17.914Z"
   },
   {
    "duration": 0,
    "start_time": "2023-03-17T18:08:17.915Z"
   },
   {
    "duration": 0,
    "start_time": "2023-03-17T18:08:17.916Z"
   },
   {
    "duration": 0,
    "start_time": "2023-03-17T18:08:17.917Z"
   },
   {
    "duration": 16,
    "start_time": "2023-03-17T18:08:58.387Z"
   },
   {
    "duration": 1256,
    "start_time": "2023-03-17T18:09:35.776Z"
   },
   {
    "duration": 32,
    "start_time": "2023-03-17T18:09:37.034Z"
   },
   {
    "duration": 20,
    "start_time": "2023-03-17T18:09:37.068Z"
   },
   {
    "duration": 12,
    "start_time": "2023-03-17T18:09:37.090Z"
   },
   {
    "duration": 8,
    "start_time": "2023-03-17T18:09:37.104Z"
   },
   {
    "duration": 7,
    "start_time": "2023-03-17T18:09:37.114Z"
   },
   {
    "duration": 43,
    "start_time": "2023-03-17T18:09:37.123Z"
   },
   {
    "duration": 30,
    "start_time": "2023-03-17T18:09:37.168Z"
   },
   {
    "duration": 5,
    "start_time": "2023-03-17T18:09:37.200Z"
   },
   {
    "duration": 4,
    "start_time": "2023-03-17T18:09:37.208Z"
   },
   {
    "duration": 9,
    "start_time": "2023-03-17T18:09:37.214Z"
   },
   {
    "duration": 147,
    "start_time": "2023-03-17T18:09:37.225Z"
   },
   {
    "duration": 0,
    "start_time": "2023-03-17T18:09:37.374Z"
   },
   {
    "duration": 0,
    "start_time": "2023-03-17T18:09:37.376Z"
   },
   {
    "duration": 0,
    "start_time": "2023-03-17T18:09:37.378Z"
   },
   {
    "duration": 0,
    "start_time": "2023-03-17T18:09:37.379Z"
   },
   {
    "duration": 0,
    "start_time": "2023-03-17T18:09:37.381Z"
   },
   {
    "duration": 0,
    "start_time": "2023-03-17T18:09:37.382Z"
   },
   {
    "duration": 0,
    "start_time": "2023-03-17T18:09:37.383Z"
   },
   {
    "duration": 0,
    "start_time": "2023-03-17T18:09:37.385Z"
   },
   {
    "duration": 0,
    "start_time": "2023-03-17T18:09:37.386Z"
   },
   {
    "duration": 0,
    "start_time": "2023-03-17T18:09:37.389Z"
   },
   {
    "duration": 0,
    "start_time": "2023-03-17T18:09:37.390Z"
   },
   {
    "duration": 0,
    "start_time": "2023-03-17T18:09:37.392Z"
   },
   {
    "duration": 0,
    "start_time": "2023-03-17T18:09:37.393Z"
   },
   {
    "duration": 0,
    "start_time": "2023-03-17T18:09:37.395Z"
   },
   {
    "duration": 1519,
    "start_time": "2023-03-17T18:11:09.217Z"
   },
   {
    "duration": 1475,
    "start_time": "2023-03-17T18:15:15.421Z"
   },
   {
    "duration": 34,
    "start_time": "2023-03-17T18:15:16.898Z"
   },
   {
    "duration": 15,
    "start_time": "2023-03-17T18:15:16.934Z"
   },
   {
    "duration": 12,
    "start_time": "2023-03-17T18:15:16.950Z"
   },
   {
    "duration": 29,
    "start_time": "2023-03-17T18:15:16.964Z"
   },
   {
    "duration": 6,
    "start_time": "2023-03-17T18:15:16.994Z"
   },
   {
    "duration": 29,
    "start_time": "2023-03-17T18:15:17.002Z"
   },
   {
    "duration": 46,
    "start_time": "2023-03-17T18:15:17.032Z"
   },
   {
    "duration": 5,
    "start_time": "2023-03-17T18:15:17.080Z"
   },
   {
    "duration": 17,
    "start_time": "2023-03-17T18:15:17.086Z"
   },
   {
    "duration": 8,
    "start_time": "2023-03-17T18:15:17.105Z"
   },
   {
    "duration": 1281,
    "start_time": "2023-03-17T18:15:17.115Z"
   },
   {
    "duration": 6,
    "start_time": "2023-03-17T18:15:18.398Z"
   },
   {
    "duration": 13,
    "start_time": "2023-03-17T18:15:18.407Z"
   },
   {
    "duration": 6,
    "start_time": "2023-03-17T18:15:18.423Z"
   },
   {
    "duration": 9,
    "start_time": "2023-03-17T18:15:18.432Z"
   },
   {
    "duration": 12,
    "start_time": "2023-03-17T18:15:18.443Z"
   },
   {
    "duration": 8,
    "start_time": "2023-03-17T18:15:18.457Z"
   },
   {
    "duration": 44,
    "start_time": "2023-03-17T18:15:18.468Z"
   },
   {
    "duration": 161,
    "start_time": "2023-03-17T18:15:18.514Z"
   },
   {
    "duration": 10404,
    "start_time": "2023-03-17T18:15:18.677Z"
   },
   {
    "duration": 27,
    "start_time": "2023-03-17T18:15:29.083Z"
   },
   {
    "duration": 14,
    "start_time": "2023-03-17T18:15:29.112Z"
   },
   {
    "duration": 189,
    "start_time": "2023-03-17T18:15:29.128Z"
   },
   {
    "duration": 7,
    "start_time": "2023-03-17T18:15:29.319Z"
   },
   {
    "duration": 14,
    "start_time": "2023-03-17T18:15:29.327Z"
   },
   {
    "duration": 13,
    "start_time": "2023-03-17T18:19:58.450Z"
   },
   {
    "duration": 1197,
    "start_time": "2023-03-17T18:22:26.380Z"
   },
   {
    "duration": 153,
    "start_time": "2023-03-17T18:33:04.360Z"
   },
   {
    "duration": 1885,
    "start_time": "2023-03-17T18:37:32.963Z"
   },
   {
    "duration": 44,
    "start_time": "2023-03-17T18:37:34.852Z"
   },
   {
    "duration": 24,
    "start_time": "2023-03-17T18:37:34.898Z"
   },
   {
    "duration": 19,
    "start_time": "2023-03-17T18:37:34.926Z"
   },
   {
    "duration": 67,
    "start_time": "2023-03-17T18:37:34.949Z"
   },
   {
    "duration": 38,
    "start_time": "2023-03-17T18:37:35.019Z"
   },
   {
    "duration": 66,
    "start_time": "2023-03-17T18:37:35.060Z"
   },
   {
    "duration": 85,
    "start_time": "2023-03-17T18:37:35.129Z"
   },
   {
    "duration": 60,
    "start_time": "2023-03-17T18:37:35.217Z"
   },
   {
    "duration": 38,
    "start_time": "2023-03-17T18:37:35.281Z"
   },
   {
    "duration": 17,
    "start_time": "2023-03-17T18:37:35.321Z"
   },
   {
    "duration": 49,
    "start_time": "2023-03-17T18:37:35.341Z"
   },
   {
    "duration": 11,
    "start_time": "2023-03-17T18:37:35.396Z"
   },
   {
    "duration": 25,
    "start_time": "2023-03-17T18:37:35.412Z"
   },
   {
    "duration": 20,
    "start_time": "2023-03-17T18:37:35.440Z"
   },
   {
    "duration": 41,
    "start_time": "2023-03-17T18:37:35.463Z"
   },
   {
    "duration": 15,
    "start_time": "2023-03-17T18:37:35.506Z"
   },
   {
    "duration": 14,
    "start_time": "2023-03-17T18:37:35.524Z"
   },
   {
    "duration": 68,
    "start_time": "2023-03-17T18:37:35.541Z"
   },
   {
    "duration": 333,
    "start_time": "2023-03-17T18:37:35.614Z"
   },
   {
    "duration": 12547,
    "start_time": "2023-03-17T18:37:35.951Z"
   },
   {
    "duration": 44,
    "start_time": "2023-03-17T18:37:48.502Z"
   },
   {
    "duration": 29,
    "start_time": "2023-03-17T18:37:48.549Z"
   },
   {
    "duration": 217,
    "start_time": "2023-03-17T18:37:48.582Z"
   },
   {
    "duration": 145,
    "start_time": "2023-03-17T18:37:48.802Z"
   },
   {
    "duration": 0,
    "start_time": "2023-03-17T18:37:48.949Z"
   },
   {
    "duration": 0,
    "start_time": "2023-03-17T18:37:48.951Z"
   },
   {
    "duration": 1761,
    "start_time": "2023-03-17T18:38:23.899Z"
   },
   {
    "duration": 46,
    "start_time": "2023-03-17T18:38:25.663Z"
   },
   {
    "duration": 17,
    "start_time": "2023-03-17T18:38:25.711Z"
   },
   {
    "duration": 18,
    "start_time": "2023-03-17T18:38:25.730Z"
   },
   {
    "duration": 19,
    "start_time": "2023-03-17T18:38:25.751Z"
   },
   {
    "duration": 62,
    "start_time": "2023-03-17T18:38:25.771Z"
   },
   {
    "duration": 19,
    "start_time": "2023-03-17T18:38:25.835Z"
   },
   {
    "duration": 70,
    "start_time": "2023-03-17T18:38:25.856Z"
   },
   {
    "duration": 5,
    "start_time": "2023-03-17T18:38:25.928Z"
   },
   {
    "duration": 1568,
    "start_time": "2023-03-17T18:38:25.935Z"
   },
   {
    "duration": 5,
    "start_time": "2023-03-17T18:38:27.507Z"
   },
   {
    "duration": 8,
    "start_time": "2023-03-17T18:38:27.514Z"
   },
   {
    "duration": 17,
    "start_time": "2023-03-17T18:38:27.524Z"
   },
   {
    "duration": 11,
    "start_time": "2023-03-17T18:38:27.544Z"
   },
   {
    "duration": 40,
    "start_time": "2023-03-17T18:38:27.557Z"
   },
   {
    "duration": 15,
    "start_time": "2023-03-17T18:38:27.599Z"
   },
   {
    "duration": 9,
    "start_time": "2023-03-17T18:38:27.616Z"
   },
   {
    "duration": 12,
    "start_time": "2023-03-17T18:38:27.628Z"
   },
   {
    "duration": 44,
    "start_time": "2023-03-17T18:38:27.643Z"
   },
   {
    "duration": 229,
    "start_time": "2023-03-17T18:38:27.692Z"
   },
   {
    "duration": 11469,
    "start_time": "2023-03-17T18:38:27.925Z"
   },
   {
    "duration": 33,
    "start_time": "2023-03-17T18:38:39.402Z"
   },
   {
    "duration": 15,
    "start_time": "2023-03-17T18:38:39.436Z"
   },
   {
    "duration": 195,
    "start_time": "2023-03-17T18:38:39.465Z"
   },
   {
    "duration": 150,
    "start_time": "2023-03-17T18:38:39.664Z"
   },
   {
    "duration": 0,
    "start_time": "2023-03-17T18:38:39.817Z"
   },
   {
    "duration": 0,
    "start_time": "2023-03-17T18:38:39.818Z"
   },
   {
    "duration": 12,
    "start_time": "2023-03-17T18:41:03.426Z"
   },
   {
    "duration": 1683,
    "start_time": "2023-03-17T18:41:39.659Z"
   },
   {
    "duration": 53,
    "start_time": "2023-03-17T18:41:41.345Z"
   },
   {
    "duration": 17,
    "start_time": "2023-03-17T18:41:41.400Z"
   },
   {
    "duration": 13,
    "start_time": "2023-03-17T18:41:41.419Z"
   },
   {
    "duration": 12,
    "start_time": "2023-03-17T18:41:41.434Z"
   },
   {
    "duration": 7,
    "start_time": "2023-03-17T18:41:41.448Z"
   },
   {
    "duration": 68,
    "start_time": "2023-03-17T18:41:41.457Z"
   },
   {
    "duration": 39,
    "start_time": "2023-03-17T18:41:41.527Z"
   },
   {
    "duration": 8,
    "start_time": "2023-03-17T18:41:41.571Z"
   },
   {
    "duration": 23,
    "start_time": "2023-03-17T18:41:41.583Z"
   },
   {
    "duration": 17,
    "start_time": "2023-03-17T18:41:41.609Z"
   },
   {
    "duration": 73,
    "start_time": "2023-03-17T18:41:41.629Z"
   },
   {
    "duration": 37,
    "start_time": "2023-03-17T18:41:41.704Z"
   },
   {
    "duration": 50,
    "start_time": "2023-03-17T18:41:41.743Z"
   },
   {
    "duration": 18,
    "start_time": "2023-03-17T18:41:41.795Z"
   },
   {
    "duration": 10,
    "start_time": "2023-03-17T18:41:41.815Z"
   },
   {
    "duration": 13,
    "start_time": "2023-03-17T18:41:41.827Z"
   },
   {
    "duration": 9,
    "start_time": "2023-03-17T18:41:41.842Z"
   },
   {
    "duration": 77,
    "start_time": "2023-03-17T18:41:41.853Z"
   },
   {
    "duration": 162,
    "start_time": "2023-03-17T18:41:41.932Z"
   },
   {
    "duration": 10994,
    "start_time": "2023-03-17T18:41:42.096Z"
   },
   {
    "duration": 33,
    "start_time": "2023-03-17T18:41:53.096Z"
   },
   {
    "duration": 15,
    "start_time": "2023-03-17T18:41:53.131Z"
   },
   {
    "duration": 197,
    "start_time": "2023-03-17T18:41:53.147Z"
   },
   {
    "duration": 24,
    "start_time": "2023-03-17T18:41:53.346Z"
   },
   {
    "duration": 18,
    "start_time": "2023-03-17T18:41:53.376Z"
   },
   {
    "duration": 117,
    "start_time": "2023-03-17T18:52:37.702Z"
   },
   {
    "duration": 1716,
    "start_time": "2023-03-17T18:53:36.164Z"
   },
   {
    "duration": 39,
    "start_time": "2023-03-17T18:53:37.887Z"
   },
   {
    "duration": 65,
    "start_time": "2023-03-17T18:53:37.928Z"
   },
   {
    "duration": 26,
    "start_time": "2023-03-17T18:53:38.006Z"
   },
   {
    "duration": 11,
    "start_time": "2023-03-17T18:53:38.034Z"
   },
   {
    "duration": 13,
    "start_time": "2023-03-17T18:53:38.048Z"
   },
   {
    "duration": 53,
    "start_time": "2023-03-17T18:53:38.063Z"
   },
   {
    "duration": 27,
    "start_time": "2023-03-17T18:53:38.117Z"
   },
   {
    "duration": 5,
    "start_time": "2023-03-17T18:53:38.146Z"
   },
   {
    "duration": 4,
    "start_time": "2023-03-17T18:53:38.154Z"
   },
   {
    "duration": 16,
    "start_time": "2023-03-17T18:53:38.160Z"
   },
   {
    "duration": 42,
    "start_time": "2023-03-17T18:53:38.181Z"
   },
   {
    "duration": 8,
    "start_time": "2023-03-17T18:53:38.225Z"
   },
   {
    "duration": 12,
    "start_time": "2023-03-17T18:53:38.234Z"
   },
   {
    "duration": 6,
    "start_time": "2023-03-17T18:53:38.248Z"
   },
   {
    "duration": 14,
    "start_time": "2023-03-17T18:53:38.256Z"
   },
   {
    "duration": 42,
    "start_time": "2023-03-17T18:53:38.272Z"
   },
   {
    "duration": 11,
    "start_time": "2023-03-17T18:53:38.316Z"
   },
   {
    "duration": 31,
    "start_time": "2023-03-17T18:53:38.329Z"
   },
   {
    "duration": 169,
    "start_time": "2023-03-17T18:53:38.362Z"
   },
   {
    "duration": 11343,
    "start_time": "2023-03-17T18:53:38.533Z"
   },
   {
    "duration": 36,
    "start_time": "2023-03-17T18:53:49.880Z"
   },
   {
    "duration": 14,
    "start_time": "2023-03-17T18:53:49.918Z"
   },
   {
    "duration": 197,
    "start_time": "2023-03-17T18:53:49.935Z"
   },
   {
    "duration": 8,
    "start_time": "2023-03-17T18:53:50.134Z"
   },
   {
    "duration": 42,
    "start_time": "2023-03-17T18:53:50.145Z"
   },
   {
    "duration": 127,
    "start_time": "2023-03-17T18:53:50.192Z"
   },
   {
    "duration": 2264,
    "start_time": "2023-03-17T19:01:31.892Z"
   },
   {
    "duration": 65,
    "start_time": "2023-03-17T19:01:34.166Z"
   },
   {
    "duration": 26,
    "start_time": "2023-03-17T19:01:34.237Z"
   },
   {
    "duration": 61,
    "start_time": "2023-03-17T19:01:34.273Z"
   },
   {
    "duration": 22,
    "start_time": "2023-03-17T19:01:34.337Z"
   },
   {
    "duration": 169,
    "start_time": "2023-03-17T19:01:34.361Z"
   },
   {
    "duration": 43,
    "start_time": "2023-03-17T19:01:34.541Z"
   },
   {
    "duration": 255,
    "start_time": "2023-03-17T19:01:34.590Z"
   },
   {
    "duration": 69,
    "start_time": "2023-03-17T19:01:34.854Z"
   },
   {
    "duration": 98,
    "start_time": "2023-03-17T19:01:34.934Z"
   },
   {
    "duration": 71,
    "start_time": "2023-03-17T19:01:35.042Z"
   },
   {
    "duration": 57,
    "start_time": "2023-03-17T19:01:35.122Z"
   },
   {
    "duration": 96,
    "start_time": "2023-03-17T19:01:35.186Z"
   },
   {
    "duration": 68,
    "start_time": "2023-03-17T19:01:35.291Z"
   },
   {
    "duration": 46,
    "start_time": "2023-03-17T19:01:35.361Z"
   },
   {
    "duration": 27,
    "start_time": "2023-03-17T19:01:35.411Z"
   },
   {
    "duration": 98,
    "start_time": "2023-03-17T19:01:35.442Z"
   },
   {
    "duration": 71,
    "start_time": "2023-03-17T19:01:35.546Z"
   },
   {
    "duration": 94,
    "start_time": "2023-03-17T19:01:35.619Z"
   },
   {
    "duration": 347,
    "start_time": "2023-03-17T19:01:35.719Z"
   },
   {
    "duration": 15644,
    "start_time": "2023-03-17T19:01:36.068Z"
   },
   {
    "duration": 45,
    "start_time": "2023-03-17T19:01:51.722Z"
   },
   {
    "duration": 60,
    "start_time": "2023-03-17T19:01:51.773Z"
   },
   {
    "duration": 212,
    "start_time": "2023-03-17T19:01:51.836Z"
   },
   {
    "duration": 14,
    "start_time": "2023-03-17T19:01:52.050Z"
   },
   {
    "duration": 92,
    "start_time": "2023-03-17T19:01:52.068Z"
   }
  ],
  "kernelspec": {
   "display_name": "Python 3 (ipykernel)",
   "language": "python",
   "name": "python3"
  },
  "language_info": {
   "codemirror_mode": {
    "name": "ipython",
    "version": 3
   },
   "file_extension": ".py",
   "mimetype": "text/x-python",
   "name": "python",
   "nbconvert_exporter": "python",
   "pygments_lexer": "ipython3",
   "version": "3.11.3"
  },
  "toc": {
   "base_numbering": 1,
   "nav_menu": {},
   "number_sections": true,
   "sideBar": true,
   "skip_h1_title": true,
   "title_cell": "Table of Contents",
   "title_sidebar": "Contents",
   "toc_cell": false,
   "toc_position": {},
   "toc_section_display": true,
   "toc_window_display": false
  }
 },
 "nbformat": 4,
 "nbformat_minor": 2
}
